{
 "cells": [
  {
   "cell_type": "code",
   "execution_count": 3,
   "metadata": {},
   "outputs": [],
   "source": [
    "number_check = \"^\\d+$\""
   ]
  },
  {
   "cell_type": "code",
   "execution_count": 3,
   "metadata": {},
   "outputs": [],
   "source": [
    "import re"
   ]
  },
  {
   "cell_type": "code",
   "execution_count": 6,
   "metadata": {},
   "outputs": [],
   "source": [
    "# re.findall(number_check, \"1212我\", flags=0)"
   ]
  },
  {
   "cell_type": "code",
   "execution_count": 8,
   "metadata": {},
   "outputs": [
    {
     "output_type": "stream",
     "name": "stdout",
     "text": "False\n"
    }
   ],
   "source": [
    "date_check = \"^\\d{4}年\\d{1,2}月\\d{1,2}日$\"\n",
    "if re.findall(date_check, \"\", flags=0):\n",
    "    print(True)\n",
    "else:\n",
    "    print(False)"
   ]
  },
  {
   "cell_type": "code",
   "execution_count": 25,
   "metadata": {},
   "outputs": [
    {
     "output_type": "execute_result",
     "data": {
      "text/plain": "['2019年4月12日']"
     },
     "metadata": {},
     "execution_count": 25
    }
   ],
   "source": [
    "re.findall(date_check, \"2019年4月12日\", flags=0)"
   ]
  },
  {
   "cell_type": "markdown",
   "metadata": {},
   "source": [
    "### re.sub"
   ]
  },
  {
   "cell_type": "code",
   "execution_count": 23,
   "metadata": {},
   "outputs": [
    {
     "data": {
      "text/plain": [
       "'2004-959-559 '"
      ]
     },
     "execution_count": 23,
     "metadata": {},
     "output_type": "execute_result"
    }
   ],
   "source": [
    "phone = \"2004-959-559 # 这是一个电话号码\"\n",
    "re.sub(r'#.*$', \"\", phone)  # re模块提供了re.sub用于替换字符串中的匹配项。"
   ]
  },
  {
   "cell_type": "code",
   "execution_count": 26,
   "metadata": {},
   "outputs": [
    {
     "data": {
      "text/plain": [
       "[<_sre.SRE_Match object; span=(0, 2), match='12'>,\n",
       " <_sre.SRE_Match object; span=(3, 5), match='32'>,\n",
       " <_sre.SRE_Match object; span=(7, 9), match='43'>,\n",
       " <_sre.SRE_Match object; span=(11, 12), match='3'>]"
      ]
     },
     "execution_count": 26,
     "metadata": {},
     "output_type": "execute_result"
    }
   ],
   "source": [
    "list(re.finditer(r\"\\d+\",\"12a32bc43jf3\"))"
   ]
  },
  {
   "cell_type": "code",
   "execution_count": 41,
   "metadata": {},
   "outputs": [
    {
     "data": {
      "text/plain": [
       "['金融', '数据科技qwqa']"
      ]
     },
     "execution_count": 41,
     "metadata": {},
     "output_type": "execute_result"
    }
   ],
   "source": [
    "re.findall('[a-zA-Z\\u4e00-\\u9fa5]{2,}', \"2019金融 数据科技qwqa\")"
   ]
  },
  {
   "cell_type": "code",
   "execution_count": 38,
   "metadata": {},
   "outputs": [
    {
     "data": {
      "text/plain": [
       "['']"
      ]
     },
     "execution_count": 38,
     "metadata": {},
     "output_type": "execute_result"
    }
   ],
   "source": [
    "text = \"我的邮箱是jinjie@163.com\"\n",
    "email_pattern = '^[*#\\u4e00-\\u9fa5 a-zA-Z0-9_.-]+@[a-zA-Z0-9-]+(\\.[a-zA-Z0-9-]+)*\\.[a-zA-Z0-9]{2,6}$'\n",
    "emails = re.findall(email_pattern, text, flags=0)\n",
    "emails"
   ]
  },
  {
   "cell_type": "code",
   "execution_count": null,
   "metadata": {},
   "outputs": [],
   "source": []
  },
  {
   "cell_type": "code",
   "execution_count": null,
   "metadata": {},
   "outputs": [],
   "source": []
  },
  {
   "cell_type": "code",
   "execution_count": 100,
   "metadata": {},
   "outputs": [
    {
     "name": "stdout",
     "output_type": "stream",
     "text": [
      "<_sre.SRE_Match object; span=(19, 42), match=\">The Dormouse's story</\">\n",
      "<_sre.SRE_Match object; span=(54, 98), match='>\\n<p class=\"title\"><b>The Dormouse\\'s story</'>\n",
      "<_sre.SRE_Match object; span=(253, 263), match='>Elsie我 </'>\n",
      "<_sre.SRE_Match object; span=(327, 335), match='>Lacie</'>\n",
      "<_sre.SRE_Match object; span=(403, 412), match='>Tillie</'>\n",
      "<_sre.SRE_Match object; span=(458, 482), match='>\\n<p class=\"story\">...</'>\n"
     ]
    }
   ],
   "source": [
    "\n",
    "html_doc = \"\"\"\n",
    "<html><head><title>The Dormouse's story</title></head>\n",
    "<p class=\"title\"><b>The Dormouse's story</b></p>\n",
    "<p class=\"story\">Once upon a time there were three little sisters; and their names were\n",
    "<a href=\"http://example.com/elsie\" class=\"sister\" id=\"link1\">Elsie我 </a>,\n",
    "<a href=\"http://example.com/lacie\" class=\"sister\" id=\"link2\">Lacie</a> and\n",
    "<a href=\"http://example.com/tillie\" class=\"sister\" id=\"link3\">Tillie</a>;\n",
    "and they lived at the bottom of a well.</p>\n",
    "<p class=\"story\">...</p>\n",
    "\"\"\"\n",
    "\n",
    "ret = re.finditer(\">[^<>].*?</\",html_doc)\n",
    "for r in ret:\n",
    "    print(r)\n",
    "# new_html_doc = \"\"\n",
    "# print(list(rs))\n",
    "# print(html_doc[47:50])"
   ]
  },
  {
   "cell_type": "code",
   "execution_count": 94,
   "metadata": {},
   "outputs": [
    {
     "data": {
      "text/plain": [
       "[<_sre.SRE_Match object; span=(0, 4), match='保险协议'>,\n",
       " <_sre.SRE_Match object; span=(4, 7), match='合同书'>]"
      ]
     },
     "execution_count": 94,
     "metadata": {},
     "output_type": "execute_result"
    }
   ],
   "source": [
    "phrase_pattern_cn_0 = re.compile(r\"[^：]*?(合同书*|协议书*|合约书*)\")\n",
    "rs = re.finditer(phrase_pattern_cn_0, \"保险协议合同书\")\n",
    "list(rs)"
   ]
  },
  {
   "cell_type": "code",
   "execution_count": null,
   "metadata": {},
   "outputs": [],
   "source": []
  },
  {
   "cell_type": "code",
   "execution_count": 43,
   "metadata": {},
   "outputs": [
    {
     "data": {
      "text/plain": [
       "[<_sre.SRE_Match object; span=(17, 21), match='不可抗力'>,\n",
       " <_sre.SRE_Match object; span=(23, 25), match='地震'>,\n",
       " <_sre.SRE_Match object; span=(26, 28), match='海啸'>,\n",
       " <_sre.SRE_Match object; span=(29, 31), match='瘟疫'>,\n",
       " <_sre.SRE_Match object; span=(32, 34), match='水灾'>,\n",
       " <_sre.SRE_Match object; span=(35, 37), match='骚乱'>,\n",
       " <_sre.SRE_Match object; span=(38, 40), match='暴动'>,\n",
       " <_sre.SRE_Match object; span=(41, 43), match='战争'>,\n",
       " <_sre.SRE_Match object; span=(49, 51), match='台风'>]"
      ]
     },
     "execution_count": 43,
     "metadata": {},
     "output_type": "execute_result"
    }
   ],
   "source": [
    "force_pattern = re.compile(r\"不可抗力|意外事件|自然灾害|政策调整|法律修改|不可抗事件|政府禁制|电力系统|网络故障|航班延误|航班取消|讲师疾病|突发性事故|不能预见|不可避免|不能克服|洪水|火灾|爆炸|塌方|台风|雷电|地震|风暴|海啸|水灾|骚乱|暴动|社会事件|战争|动乱|政府行为|病毒|瘟疫|政府管制\")\n",
    "rs = re.finditer(force_pattern, \"11.1.1 除本合同另有约定外，不可抗力仅指地震、海啸、瘟疫、水灾、骚乱、暴动、战争和12级以上台风、日降雨量达到或超过300mm和黄河以北连续三天日平均气温在摄氏零下25度或长江以北黄河以南连续三天日平均气温在摄氏零下20度或长江以南连续三天日平均气温在摄氏零下15度的极端天气。\")\n",
    "list(rs)"
   ]
  },
  {
   "cell_type": "code",
   "execution_count": null,
   "metadata": {},
   "outputs": [],
   "source": []
  },
  {
   "cell_type": "markdown",
   "metadata": {},
   "source": [
    "https://github.com/any86/any-rule"
   ]
  },
  {
   "cell_type": "code",
   "execution_count": 30,
   "metadata": {},
   "outputs": [
    {
     "data": {
      "text/plain": [
       "[]"
      ]
     },
     "execution_count": 30,
     "metadata": {},
     "output_type": "execute_result"
    }
   ],
   "source": [
    "date_r = \"/^\\d{4}(-)(1[0-2]|0?\\d)\\1([0-2]\\d|\\d|30|31)$/\"\n",
    "rr = re.compile(date_r)\n",
    "rr.findall(\"三、评估基准日：2018年11月30日\")"
   ]
  },
  {
   "cell_type": "code",
   "execution_count": 32,
   "metadata": {},
   "outputs": [],
   "source": [
    "res = re.match(date_r, \"三、评估基准日：2018年11月30日\")\n",
    "res"
   ]
  },
  {
   "cell_type": "code",
   "execution_count": 19,
   "metadata": {},
   "outputs": [],
   "source": [
    "chinese_number = \"/^((?:[\\u3400-\\u4DB5\\u4E00-\\u9FEA\\uFA0E\\uFA0F\\uFA11\\uFA13\\uFA14\\uFA1F\\uFA21\\uFA23\\uFA24\\uFA27-\\uFA29]|[\\uD840-\\uD868\\uD86A-\\uD86C\\uD86F-\\uD872\\uD874-\\uD879][\\uDC00-\\uDFFF]|\\uD869[\\uDC00-\\uDED6\\uDF00-\\uDFFF]|\\uD86D[\\uDC00-\\uDF34\\uDF40-\\uDFFF]|\\uD86E[\\uDC00-\\uDC1D\\uDC20-\\uDFFF]|\\uD873[\\uDC00-\\uDEA1\\uDEB0-\\uDFFF]|\\uD87A[\\uDC00-\\uDFE0])|(\\d))+$/\""
   ]
  },
  {
   "cell_type": "code",
   "execution_count": 20,
   "metadata": {},
   "outputs": [],
   "source": [
    "re.search(chinese_number, \"三、评估基准日：2018年11月30日\")"
   ]
  },
  {
   "cell_type": "code",
   "execution_count": 1,
   "metadata": {},
   "outputs": [
    {
     "name": "stdout",
     "output_type": "stream",
     "text": [
      "nowtime: 2019-12-26\n",
      "birthday: 1991-6-28\n",
      "age: 28\n",
      "sex: 1\n"
     ]
    },
    {
     "data": {
      "text/plain": [
       "'7'"
      ]
     },
     "execution_count": 1,
     "metadata": {},
     "output_type": "execute_result"
    }
   ],
   "source": [
    "# 利用python获取身份证号中年龄和性别信息\n",
    "import datetime\n",
    "class GetInformation(object):\n",
    "     def __init__(self,id):\n",
    "         self.id = id\n",
    "         self.birth_year = int(self.id[6:10])\n",
    "         self.birth_month = int(self.id[10:12])\n",
    "         self.birth_day = int(self.id[12:14])\n",
    " \n",
    "     def get_birthday(self):\n",
    "         #通过身份证号获取出生日期\n",
    "         birthday = \"{0}-{1}-{2}\".format(self.birth_year, self.birth_month, self.birth_day)\n",
    "         return birthday\n",
    " \n",
    "     def get_sex(self):\n",
    "         #男生：1 女生：0\n",
    "         num = int(self.id[16:17])\n",
    "         if num % 2 == 0:\n",
    "            return 0\n",
    "         else:\n",
    "            return 1\n",
    " \n",
    "     def get_age(self):\n",
    "         #获取年龄\n",
    "         now = (datetime.datetime.now() + datetime.timedelta(days=1))\n",
    "         year = now.year\n",
    "         month = now.month\n",
    "         day = now.day\n",
    " \n",
    "         if year == self.birth_year:\n",
    "             return 0\n",
    "         else:\n",
    "            if self.birth_month > month or (self.birth_month == month and self.birth_day > day):\n",
    "                 return year - self.birth_year - 1\n",
    "            else:\n",
    "                 return year - self.birth_year\n",
    " \n",
    "id = '320283199106281371' \n",
    "birthday = GetInformation(id).get_birthday() # 1990-11-11\n",
    "age = GetInformation(id).get_age() # 28\n",
    "sex = GetInformation(id).get_sex() # 1\n",
    "print('nowtime:',datetime.datetime.now().date())\n",
    "print('birthday:',birthday)\n",
    "print('age:',age)\n",
    "print('sex:',sex)\n",
    "id[16:17]"
   ]
  },
  {
   "cell_type": "code",
   "execution_count": null,
   "metadata": {},
   "outputs": [],
   "source": []
  }
 ],
 "metadata": {
  "kernelspec": {
   "display_name": "Python 3.6.9 64-bit",
   "language": "python",
   "name": "python36964bitb377107951a642b890c3e40487126bca"
  },
  "language_info": {
   "codemirror_mode": {
    "name": "ipython",
    "version": 3
   },
   "file_extension": ".py",
   "mimetype": "text/x-python",
   "name": "python",
   "nbconvert_exporter": "python",
   "pygments_lexer": "ipython3",
   "version": "3.6.9-final"
  }
 },
 "nbformat": 4,
 "nbformat_minor": 4
}