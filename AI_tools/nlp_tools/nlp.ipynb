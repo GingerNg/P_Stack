{
 "cells": [
  {
   "cell_type": "markdown",
   "metadata": {},
   "source": [
    "### tfidf"
   ]
  },
  {
   "cell_type": "code",
   "execution_count": 7,
   "metadata": {},
   "outputs": [],
   "source": [
    "from sklearn.feature_extraction.text import CountVectorizer,TfidfVectorizer"
   ]
  },
  {
   "cell_type": "code",
   "execution_count": 34,
   "metadata": {},
   "outputs": [
    {
     "data": {
      "text/plain": [
       "<2x4 sparse matrix of type '<class 'numpy.float64'>'\n",
       "\twith 5 stored elements in Compressed Sparse Row format>"
      ]
     },
     "execution_count": 34,
     "metadata": {},
     "output_type": "execute_result"
    }
   ],
   "source": [
    "def create_tfidfvector(vocab=None,max_feature=500):\n",
    "    if vocab:\n",
    "        return TfidfVectorizer(stopwords,\n",
    "                                           smooth_idf=True,\n",
    "                                           token_pattern=r\"(?u)\\b\\w+\\b\",\n",
    "                                           max_features=max_feature,\n",
    "                                           vocabulary=vocab \n",
    "                                          )\n",
    "    else:\n",
    "        return TfidfVectorizer(stopwords,\n",
    "#                                            smooth_idf=True,\n",
    "                                           token_pattern=r\"(?u)\\b\\w+\\b\",\n",
    "                                           max_features=max_feature,\n",
    "                                          )\n",
    "tfidf_vectorizer = create_tfidfvector()\n",
    "texts = [\"我今 北京 下雨了\", \"我今 加班\"]\n",
    "tfidf_vectorizer.fit_transform(texts)                             "
   ]
  },
  {
   "cell_type": "code",
   "execution_count": 24,
   "metadata": {},
   "outputs": [
    {
     "data": {
      "text/plain": [
       "{'我今': 3, '北京': 2, '下雨了': 0, '加班': 1}"
      ]
     },
     "execution_count": 24,
     "metadata": {},
     "output_type": "execute_result"
    }
   ],
   "source": [
    "tfidf_vectorizer.vocabulary_  # 词表：词对应的index"
   ]
  },
  {
   "cell_type": "code",
   "execution_count": 31,
   "metadata": {},
   "outputs": [
    {
     "data": {
      "text/plain": [
       "['下雨了', '加班', '北京', '我今']"
      ]
     },
     "execution_count": 31,
     "metadata": {},
     "output_type": "execute_result"
    }
   ],
   "source": [
    "tfidf_vectorizer.get_feature_names()"
   ]
  },
  {
   "cell_type": "code",
   "execution_count": 29,
   "metadata": {},
   "outputs": [
    {
     "data": {
      "text/plain": [
       "array([[0.6316672 , 0.        , 0.6316672 , 0.44943642]])"
      ]
     },
     "execution_count": 29,
     "metadata": {},
     "output_type": "execute_result"
    }
   ],
   "source": [
    "# \n",
    "tfidf_vectorizer.transform([texts[0]]).toarray()  # "
   ]
  },
  {
   "cell_type": "code",
   "execution_count": 30,
   "metadata": {},
   "outputs": [
    {
     "data": {
      "text/plain": [
       "array([[0.        , 0.81480247, 0.        , 0.57973867]])"
      ]
     },
     "execution_count": 30,
     "metadata": {},
     "output_type": "execute_result"
    }
   ],
   "source": [
    "tfidf_vectorizer.transform([texts[1]]).toarray()"
   ]
  },
  {
   "cell_type": "code",
   "execution_count": 38,
   "metadata": {},
   "outputs": [],
   "source": [
    "# CountVectorizer?\n",
    "def create_countvector(vocab,max_feature=500):\n",
    "        return CountVectorizer(stopwords,\n",
    "                                vocabulary=vocab,\n",
    "                               token_pattern=r\"(?u)\\b\\w+\\b\",\n",
    "                               max_features=max_feature,\n",
    "                                      )"
   ]
  },
  {
   "cell_type": "markdown",
   "metadata": {},
   "source": [
    "### 字/词向量"
   ]
  },
  {
   "cell_type": "code",
   "execution_count": 6,
   "metadata": {},
   "outputs": [],
   "source": [
    "import codecs\n",
    "import numpy as np"
   ]
  },
  {
   "cell_type": "code",
   "execution_count": 7,
   "metadata": {},
   "outputs": [],
   "source": [
    "def load_pretrained_vec(pretrained_path,vec_len):\n",
    "    pre_trained = {}\n",
    "    for i, line in enumerate(codecs.open(pretrained_path, 'r', 'utf-8')):\n",
    "        line = line.rstrip().split()\n",
    "        # print(line)\n",
    "        if len(line) == vec_len + 1:\n",
    "            pre_trained[line[0]] = np.array(\n",
    "                [float(x) for x in line[1:]]\n",
    "            ).astype(np.float32)\n",
    "    return pre_trained"
   ]
  },
  {
   "cell_type": "code",
   "execution_count": 8,
   "metadata": {},
   "outputs": [],
   "source": [
    "char_pre_trained = load_pretrained_vec(\"/opt/project/Jupyter/StaticFile/char_wiki_100.utf8\",vec_len=100)"
   ]
  },
  {
   "cell_type": "code",
   "execution_count": 23,
   "metadata": {},
   "outputs": [],
   "source": [
    "# word_pre_trained = load_pretrained_vec(\"/opt/project/Jupyter/StaticFile/sgns.financial.word\",vec_len=300)"
   ]
  },
  {
   "cell_type": "code",
   "execution_count": 26,
   "metadata": {},
   "outputs": [],
   "source": [
    "# char_pre_trained['一']"
   ]
  },
  {
   "cell_type": "markdown",
   "metadata": {},
   "source": [
    "### 短语/句子/段落的向量化"
   ]
  },
  {
   "cell_type": "code",
   "execution_count": 16,
   "metadata": {},
   "outputs": [],
   "source": [
    "def resize_weight(keywords):\n",
    "    \"\"\"\n",
    "    归一化权重\n",
    "    \"\"\"\n",
    "#     print(type(keywords))\n",
    "    a = 0.0\n",
    "    new_ks = []\n",
    "    for k in keywords:\n",
    "#         print(k)\n",
    "        a +=k[1]\n",
    "    for k in keywords:\n",
    "        new_ks.append((k[0],k[1]/a))\n",
    "    return new_ks\n",
    "\n",
    "def weight_char_embed(chars, top_k=5,vec_len=100):\n",
    "    \"\"\"\n",
    "    短语向量表示：加权词向量\n",
    "    \"\"\"\n",
    "    vec = np.zeros((vec_len))\n",
    "    chars = chars.replace(\" \", \"\")\n",
    "    keywords = get_keywords(chars)\n",
    "    keywords = keywords[0:top_k]\n",
    "#     print(keywords)\n",
    "    keywords = resize_weight(keywords)\n",
    "#     print(keywords)\n",
    "    for keyword in keywords:\n",
    "        for char in keyword[0]:\n",
    "            if char in char_pre_trained.keys():\n",
    "                vec +=char_pre_trained[char]*keyword[1]\n",
    "    return vec\n",
    "\n",
    "def batch_wce(lines):\n",
    "    return list(map(weight_char_embed,lines))"
   ]
  },
  {
   "cell_type": "code",
   "execution_count": null,
   "metadata": {},
   "outputs": [],
   "source": []
  },
  {
   "cell_type": "code",
   "execution_count": 18,
   "metadata": {},
   "outputs": [],
   "source": [
    "# chars = \"信息检索的PR曲线（Precision-Recall Curve）作图\"\n",
    "# weight_char_embed(chars)"
   ]
  },
  {
   "cell_type": "code",
   "execution_count": null,
   "metadata": {},
   "outputs": [],
   "source": []
  },
  {
   "cell_type": "code",
   "execution_count": null,
   "metadata": {},
   "outputs": [],
   "source": []
  },
  {
   "cell_type": "code",
   "execution_count": null,
   "metadata": {},
   "outputs": [],
   "source": []
  },
  {
   "cell_type": "code",
   "execution_count": null,
   "metadata": {},
   "outputs": [],
   "source": []
  }
 ],
 "metadata": {
  "kernelspec": {
   "display_name": "Python 3",
   "language": "python",
   "name": "python3"
  },
  "language_info": {
   "codemirror_mode": {
    "name": "ipython",
    "version": 3
   },
   "file_extension": ".py",
   "mimetype": "text/x-python",
   "name": "python",
   "nbconvert_exporter": "python",
   "pygments_lexer": "ipython3",
   "version": "3.6.9-final"
  }
 },
 "nbformat": 4,
 "nbformat_minor": 4
}