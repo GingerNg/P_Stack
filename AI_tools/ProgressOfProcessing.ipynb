{
 "cells": [
  {
   "cell_type": "markdown",
   "metadata": {},
   "source": [
    "### 显示处理进程"
   ]
  },
  {
   "cell_type": "code",
   "execution_count": 2,
   "metadata": {},
   "outputs": [
    {
     "output_type": "display_data",
     "data": {
      "text/plain": "<IPython.core.display.HTML object>",
      "text/html": "\n    <div>\n        <style>\n            /* Turns off some styling */\n            progress {\n                /* gets rid of default border in Firefox and Opera. */\n                border: none;\n                /* Needs to be in here for Safari polyfill so background images work as expected. */\n                background-size: auto;\n            }\n            .progress-bar-interrupted, .progress-bar-interrupted::-webkit-progress-bar {\n                background: #F44336;\n            }\n        </style>\n      <progress value='0' class='' max='10', style='width:300px; height:20px; vertical-align: middle;'></progress>\n      0.00% [0/10 00:00<00:00]\n    </div>\n    \n\n\n    <div>\n        <style>\n            /* Turns off some styling */\n            progress {\n                /* gets rid of default border in Firefox and Opera. */\n                border: none;\n                /* Needs to be in here for Safari polyfill so background images work as expected. */\n                background-size: auto;\n            }\n            .progress-bar-interrupted, .progress-bar-interrupted::-webkit-progress-bar {\n                background: #F44336;\n            }\n        </style>\n      <progress value='100' class='' max='100', style='width:300px; height:20px; vertical-align: middle;'></progress>\n      100.00% [100/100 00:01<00:00 second bar stat]\n    </div>\n    "
     },
     "metadata": {}
    },
    {
     "output_type": "error",
     "ename": "AttributeError",
     "evalue": "'NBMasterBar' object has no attribute 'first_bar'",
     "traceback": [
      "\u001b[0;31m---------------------------------------------------------------------------\u001b[0m",
      "\u001b[0;31mAttributeError\u001b[0m                            Traceback (most recent call last)",
      "\u001b[0;32m<ipython-input-2-3d29468efd66>\u001b[0m in \u001b[0;36m<module>\u001b[0;34m\u001b[0m\n\u001b[1;32m      6\u001b[0m         \u001b[0msleep\u001b[0m\u001b[0;34m(\u001b[0m\u001b[0;36m0.01\u001b[0m\u001b[0;34m)\u001b[0m\u001b[0;34m\u001b[0m\u001b[0;34m\u001b[0m\u001b[0m\n\u001b[1;32m      7\u001b[0m         \u001b[0mmb\u001b[0m\u001b[0;34m.\u001b[0m\u001b[0mchild\u001b[0m\u001b[0;34m.\u001b[0m\u001b[0mcomment\u001b[0m \u001b[0;34m=\u001b[0m \u001b[0;34mf'second bar stat'\u001b[0m\u001b[0;34m\u001b[0m\u001b[0;34m\u001b[0m\u001b[0m\n\u001b[0;32m----> 8\u001b[0;31m     \u001b[0mmb\u001b[0m\u001b[0;34m.\u001b[0m\u001b[0mfirst_bar\u001b[0m\u001b[0;34m.\u001b[0m\u001b[0mcomment\u001b[0m \u001b[0;34m=\u001b[0m \u001b[0;34mf'first bar stat'\u001b[0m\u001b[0;34m\u001b[0m\u001b[0;34m\u001b[0m\u001b[0m\n\u001b[0m\u001b[1;32m      9\u001b[0m     \u001b[0mmb\u001b[0m\u001b[0;34m.\u001b[0m\u001b[0mwrite\u001b[0m\u001b[0;34m(\u001b[0m\u001b[0;34mf'Finished loop {i}.'\u001b[0m\u001b[0;34m)\u001b[0m\u001b[0;34m\u001b[0m\u001b[0;34m\u001b[0m\u001b[0m\n",
      "\u001b[0;31mAttributeError\u001b[0m: 'NBMasterBar' object has no attribute 'first_bar'"
     ]
    }
   ],
   "source": [
    "from fastprogress.fastprogress import master_bar, progress_bar\n",
    "from time import sleep\n",
    "mb = master_bar(range(10))\n",
    "for i in mb:\n",
    "    for j in progress_bar(range(100), parent=mb):\n",
    "        sleep(0.01)\n",
    "        mb.child.comment = f'second bar stat'\n",
    "    mb.first_bar.comment = f'first bar stat'\n",
    "    mb.write(f'Finished loop {i}.')"
   ]
  },
  {
   "cell_type": "markdown",
   "metadata": {},
   "source": [
    "Tqdm 是一个快速，可扩展的Python进度条，可以在 Python 长循环中添加一个进度提示信息，用户只需要封装任意的迭代器 tqdm(iterator)。\n",
    "\n",
    "https://github.com/tqdm/tqdm"
   ]
  },
  {
   "cell_type": "code",
   "execution_count": 2,
   "metadata": {},
   "outputs": [],
   "source": [
    "import time\n",
    "from tqdm import tqdm"
   ]
  },
  {
   "cell_type": "code",
   "execution_count": 2,
   "metadata": {},
   "outputs": [],
   "source": [
    "from tqdm import tqdm\n",
    "import time\n",
    "\n",
    "# tqdm.pandas()\n",
    "\n",
    "# df['col'] = df['col'].progress_apply(lambda x: x**2)\n",
    "\n",
    "# text = \"\"\n",
    "# for char in tqdm([\"a\", \"b\", \"c\", \"d\"]):\n",
    "#     time.sleep(0.25)\n",
    "#     text = text + char"
   ]
  },
  {
   "cell_type": "code",
   "execution_count": 7,
   "metadata": {},
   "outputs": [
    {
     "name": "stderr",
     "output_type": "stream",
     "text": [
      "100%|██████████| 1000000/1000000 [00:00<00:00, 2176150.62it/s]\n"
     ]
    }
   ],
   "source": [
    "for i in tqdm(range(1000000)):  \n",
    "    #do something\n",
    "    i += 1"
   ]
  },
  {
   "cell_type": "markdown",
   "metadata": {},
   "source": [
    "trange(i) 是 tqdm(range(i)) 的简单写法"
   ]
  },
  {
   "cell_type": "code",
   "execution_count": 12,
   "metadata": {},
   "outputs": [
    {
     "name": "stderr",
     "output_type": "stream",
     "text": [
      "\n",
      "\n",
      "  0%|          | 0/100 [00:00<?, ?it/s]\u001b[A\u001b[A\n",
      "\n",
      " 10%|█         | 10/100 [00:00<00:00, 98.92it/s]\u001b[A\u001b[A\n",
      "\n",
      " 20%|██        | 20/100 [00:00<00:00, 98.15it/s]\u001b[A\u001b[A\n",
      "\n",
      " 30%|███       | 30/100 [00:00<00:00, 97.55it/s]\u001b[A\u001b[A\n",
      "\n",
      " 40%|████      | 40/100 [00:00<00:00, 97.33it/s]\u001b[A\u001b[A\n",
      "\n",
      " 50%|█████     | 50/100 [00:00<00:00, 97.20it/s]\u001b[A\u001b[A\n",
      "\n",
      " 60%|██████    | 60/100 [00:00<00:00, 97.05it/s]\u001b[A\u001b[A\n",
      "\n",
      " 70%|███████   | 70/100 [00:00<00:00, 96.87it/s]\u001b[A\u001b[A\n",
      "\n",
      " 80%|████████  | 80/100 [00:00<00:00, 96.74it/s]\u001b[A\u001b[A\n",
      "\n",
      " 90%|█████████ | 90/100 [00:00<00:00, 96.79it/s]\u001b[A\u001b[A\n",
      "\n",
      "100%|██████████| 100/100 [00:01<00:00, 96.50it/s]\u001b[A\u001b[A\n"
     ]
    }
   ],
   "source": [
    "from tqdm._tqdm import trange\n",
    "for i in tqdm(range(100)):\n",
    "    time.sleep(0.01)"
   ]
  },
  {
   "cell_type": "code",
   "execution_count": 19,
   "metadata": {},
   "outputs": [
    {
     "name": "stderr",
     "output_type": "stream",
     "text": [
      "\n",
      "  0%|          | 0/4 [00:00<?, ?it/s]\u001b[A\n",
      "Processing a:   0%|          | 0/4 [00:00<?, ?it/s]\u001b[A\n",
      "Processing a:  25%|██▌       | 1/4 [00:00<00:00,  3.94it/s]\u001b[A\n",
      "Processing b:  25%|██▌       | 1/4 [00:00<00:00,  3.94it/s]\u001b[A\n",
      "Processing b:  50%|█████     | 2/4 [00:00<00:00,  3.93it/s]\u001b[A\n",
      "Processing c:  50%|█████     | 2/4 [00:00<00:00,  3.93it/s]\u001b[A\n",
      "Processing c:  75%|███████▌  | 3/4 [00:00<00:00,  3.93it/s]\u001b[A\n",
      "Processing d:  75%|███████▌  | 3/4 [00:01<00:00,  3.93it/s]\u001b[A\n",
      "Processing d: 100%|██████████| 4/4 [00:01<00:00,  3.91it/s]\u001b[A\n"
     ]
    }
   ],
   "source": [
    "pbar = tqdm([\"a\", \"b\", \"c\", \"d\"])\n",
    "for char in pbar:\n",
    "    time.sleep(0.25)\n",
    "    pbar.set_description(\"Processing %s\" % char)"
   ]
  },
  {
   "cell_type": "code",
   "execution_count": 11,
   "metadata": {},
   "outputs": [
    {
     "name": "stderr",
     "output_type": "stream",
     "text": [
      "\n",
      "\n",
      "  0%|          | 0/100 [00:00<?, ?it/s]\u001b[A\u001b[A\n",
      "\n",
      " 10%|█         | 10/100 [00:00<00:00, 99.82it/s]\u001b[A\u001b[A\n",
      "\n",
      " 20%|██        | 20/100 [00:00<00:00, 99.04it/s]\u001b[A\u001b[A\n",
      "\n",
      " 30%|███       | 30/100 [00:00<00:00, 98.29it/s]\u001b[A\u001b[A\n",
      "\n",
      " 40%|████      | 40/100 [00:00<00:00, 98.06it/s]\u001b[A\u001b[A\n",
      "\n",
      " 50%|█████     | 50/100 [00:00<00:00, 97.87it/s]\u001b[A\u001b[A\n",
      "\n",
      " 60%|██████    | 60/100 [00:00<00:00, 97.72it/s]\u001b[A\u001b[A\n",
      "\n",
      " 70%|███████   | 70/100 [00:00<00:00, 97.48it/s]\u001b[A\u001b[A\n",
      "\n",
      " 80%|████████  | 80/100 [00:00<00:00, 97.40it/s]\u001b[A\u001b[A\n",
      "\n",
      " 90%|█████████ | 90/100 [00:00<00:00, 97.42it/s]\u001b[A\u001b[A\n",
      "\n",
      "100%|██████████| 100/100 [00:01<00:00, 97.23it/s]\u001b[A\u001b[A\n"
     ]
    }
   ],
   "source": [
    "with tqdm(total=100) as pbar:\n",
    "    for i in range(10):\n",
    "        time.sleep(0.1)\n",
    "        pbar.update(10)"
   ]
  },
  {
   "cell_type": "markdown",
   "metadata": {},
   "source": [
    "### "
   ]
  },
  {
   "cell_type": "code",
   "execution_count": 13,
   "metadata": {},
   "outputs": [
    {
     "name": "stderr",
     "output_type": "stream",
     "text": [
      "\n",
      "\n",
      "my bar！:   0%|          | 0/6 [00:00<?, ?it/s]\u001b[A\u001b[A\n",
      "\n",
      "my bar！:  17%|█▋        | 1/6 [00:01<00:08,  1.62s/it]\u001b[A\u001b[A\n",
      "\n",
      "my bar！:  33%|███▎      | 2/6 [00:02<00:05,  1.31s/it]\u001b[A\u001b[A\n",
      "\n",
      "my bar！:  67%|██████▋   | 4/6 [00:02<00:01,  1.07it/s]\u001b[A\u001b[A\n",
      "\n",
      "my bar！: 100%|██████████| 6/6 [00:04<00:00,  1.35it/s]\u001b[A\u001b[A\n"
     ]
    },
    {
     "data": {
      "text/html": [
       "<div>\n",
       "<style scoped>\n",
       "    .dataframe tbody tr th:only-of-type {\n",
       "        vertical-align: middle;\n",
       "    }\n",
       "\n",
       "    .dataframe tbody tr th {\n",
       "        vertical-align: top;\n",
       "    }\n",
       "\n",
       "    .dataframe thead th {\n",
       "        text-align: right;\n",
       "    }\n",
       "</style>\n",
       "<table border=\"1\" class=\"dataframe\">\n",
       "  <thead>\n",
       "    <tr style=\"text-align: right;\">\n",
       "      <th></th>\n",
       "      <th>0</th>\n",
       "      <th>1</th>\n",
       "      <th>2</th>\n",
       "      <th>3</th>\n",
       "      <th>4</th>\n",
       "      <th>5</th>\n",
       "    </tr>\n",
       "  </thead>\n",
       "  <tbody>\n",
       "    <tr>\n",
       "      <td>0</td>\n",
       "      <td>1089</td>\n",
       "      <td>144</td>\n",
       "      <td>1156</td>\n",
       "      <td>6400</td>\n",
       "      <td>5184</td>\n",
       "      <td>5776</td>\n",
       "    </tr>\n",
       "    <tr>\n",
       "      <td>1</td>\n",
       "      <td>1296</td>\n",
       "      <td>9025</td>\n",
       "      <td>900</td>\n",
       "      <td>900</td>\n",
       "      <td>1296</td>\n",
       "      <td>1</td>\n",
       "    </tr>\n",
       "    <tr>\n",
       "      <td>2</td>\n",
       "      <td>1764</td>\n",
       "      <td>4900</td>\n",
       "      <td>3481</td>\n",
       "      <td>1089</td>\n",
       "      <td>4356</td>\n",
       "      <td>2116</td>\n",
       "    </tr>\n",
       "    <tr>\n",
       "      <td>3</td>\n",
       "      <td>100</td>\n",
       "      <td>2025</td>\n",
       "      <td>49</td>\n",
       "      <td>5625</td>\n",
       "      <td>25</td>\n",
       "      <td>3364</td>\n",
       "    </tr>\n",
       "    <tr>\n",
       "      <td>4</td>\n",
       "      <td>4761</td>\n",
       "      <td>2116</td>\n",
       "      <td>1369</td>\n",
       "      <td>2500</td>\n",
       "      <td>576</td>\n",
       "      <td>676</td>\n",
       "    </tr>\n",
       "    <tr>\n",
       "      <td>...</td>\n",
       "      <td>...</td>\n",
       "      <td>...</td>\n",
       "      <td>...</td>\n",
       "      <td>...</td>\n",
       "      <td>...</td>\n",
       "      <td>...</td>\n",
       "    </tr>\n",
       "    <tr>\n",
       "      <td>9999995</td>\n",
       "      <td>4489</td>\n",
       "      <td>7744</td>\n",
       "      <td>3844</td>\n",
       "      <td>900</td>\n",
       "      <td>2500</td>\n",
       "      <td>900</td>\n",
       "    </tr>\n",
       "    <tr>\n",
       "      <td>9999996</td>\n",
       "      <td>8649</td>\n",
       "      <td>1296</td>\n",
       "      <td>3364</td>\n",
       "      <td>1764</td>\n",
       "      <td>169</td>\n",
       "      <td>2304</td>\n",
       "    </tr>\n",
       "    <tr>\n",
       "      <td>9999997</td>\n",
       "      <td>1936</td>\n",
       "      <td>9604</td>\n",
       "      <td>8464</td>\n",
       "      <td>169</td>\n",
       "      <td>441</td>\n",
       "      <td>2916</td>\n",
       "    </tr>\n",
       "    <tr>\n",
       "      <td>9999998</td>\n",
       "      <td>6084</td>\n",
       "      <td>3969</td>\n",
       "      <td>3600</td>\n",
       "      <td>1</td>\n",
       "      <td>8649</td>\n",
       "      <td>3600</td>\n",
       "    </tr>\n",
       "    <tr>\n",
       "      <td>9999999</td>\n",
       "      <td>2209</td>\n",
       "      <td>6561</td>\n",
       "      <td>2809</td>\n",
       "      <td>7744</td>\n",
       "      <td>576</td>\n",
       "      <td>2304</td>\n",
       "    </tr>\n",
       "  </tbody>\n",
       "</table>\n",
       "<p>10000000 rows × 6 columns</p>\n",
       "</div>"
      ],
      "text/plain": [
       "            0     1     2     3     4     5\n",
       "0        1089   144  1156  6400  5184  5776\n",
       "1        1296  9025   900   900  1296     1\n",
       "2        1764  4900  3481  1089  4356  2116\n",
       "3         100  2025    49  5625    25  3364\n",
       "4        4761  2116  1369  2500   576   676\n",
       "...       ...   ...   ...   ...   ...   ...\n",
       "9999995  4489  7744  3844   900  2500   900\n",
       "9999996  8649  1296  3364  1764   169  2304\n",
       "9999997  1936  9604  8464   169   441  2916\n",
       "9999998  6084  3969  3600     1  8649  3600\n",
       "9999999  2209  6561  2809  7744   576  2304\n",
       "\n",
       "[10000000 rows x 6 columns]"
      ]
     },
     "execution_count": 13,
     "metadata": {},
     "output_type": "execute_result"
    }
   ],
   "source": [
    "import  pandas as pd\n",
    "import numpy as  np\n",
    " \n",
    "df = pd.DataFrame(np.random.randint(0, 100, (10000000, 6)))\n",
    "tqdm.pandas(desc=\"my bar！\")\n",
    "df.progress_apply(lambda x: x**2)"
   ]
  },
  {
   "cell_type": "code",
   "execution_count": 22,
   "metadata": {},
   "outputs": [
    {
     "name": "stderr",
     "output_type": "stream",
     "text": [
      "\n",
      "  0%|          | 0/365 [00:00<?, ?it/s]\u001b[A\n",
      "  2%|▏         | 8/365 [00:00<00:04, 76.84it/s]\u001b[A\n"
     ]
    }
   ],
   "source": [
    "# Year Progress\n",
    "X = 1\n",
    "Y = 365*X\n",
    "N = 8*X\n",
    "with tqdm(total=Y) as pbar:\n",
    "    for i in range(1):\n",
    "        time.sleep(0.1)\n",
    "        pbar.update(N)"
   ]
  },
  {
   "cell_type": "code",
   "execution_count": null,
   "metadata": {},
   "outputs": [],
   "source": []
  },
  {
   "cell_type": "code",
   "execution_count": null,
   "metadata": {},
   "outputs": [],
   "source": []
  }
 ],
 "metadata": {
  "kernelspec": {
   "display_name": "Python 3",
   "language": "python",
   "name": "python3"
  },
  "language_info": {
   "codemirror_mode": {
    "name": "ipython",
    "version": 3
   },
   "file_extension": ".py",
   "mimetype": "text/x-python",
   "name": "python",
   "nbconvert_exporter": "python",
   "pygments_lexer": "ipython3",
   "version": "3.6.9-final"
  }
 },
 "nbformat": 4,
 "nbformat_minor": 4
}