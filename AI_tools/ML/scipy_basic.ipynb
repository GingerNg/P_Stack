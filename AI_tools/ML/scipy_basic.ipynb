{
 "cells": [
  {
   "cell_type": "code",
   "execution_count": null,
   "metadata": {},
   "outputs": [],
   "source": []
  },
  {
   "cell_type": "markdown",
   "metadata": {},
   "source": [
    "SciPy是另一种使用NumPy来做高等数学、信号处理、优化、统计和许多其它科学任务的语言扩展\n",
    "\n",
    "SciPy函数库在NumPy库的基础上增加了众多的数学、科学以及工程计算中常用的库函数。例如线性代数、常微分方程数值求解、信号处理、图像处理、稀疏矩阵等等。"
   ]
  },
  {
   "cell_type": "code",
   "execution_count": 22,
   "metadata": {},
   "outputs": [],
   "source": [
    "from scipy import *\n",
    "from scipy import optimize\n",
    "import matplotlib.pyplot as plt\n",
    "import numpy as np\n",
    "from scipy import io as spio\n",
    "import scipy.stats as stats"
   ]
  },
  {
   "cell_type": "markdown",
   "metadata": {},
   "source": [
    "### IO"
   ]
  },
  {
   "cell_type": "code",
   "execution_count": 17,
   "metadata": {},
   "outputs": [],
   "source": [
    "a = np.ones((3,3))"
   ]
  },
  {
   "cell_type": "code",
   "execution_count": 18,
   "metadata": {},
   "outputs": [],
   "source": [
    "spio.savemat('./data/file.mat',{'a':a})"
   ]
  },
  {
   "cell_type": "code",
   "execution_count": 19,
   "metadata": {},
   "outputs": [
    {
     "data": {
      "text/plain": [
       "{'__header__': b'MATLAB 5.0 MAT-file Platform: posix, Created on: Fri Jan  3 02:16:02 2020',\n",
       " '__version__': '1.0',\n",
       " '__globals__': [],\n",
       " 'a': array([[1., 1., 1.],\n",
       "        [1., 1., 1.],\n",
       "        [1., 1., 1.]])}"
      ]
     },
     "execution_count": 19,
     "metadata": {},
     "output_type": "execute_result"
    }
   ],
   "source": [
    "data = spio.loadmat('./data/file.mat', struct_as_record=True)\n",
    "data"
   ]
  },
  {
   "cell_type": "markdown",
   "metadata": {},
   "source": [
    "### 检验test"
   ]
  },
  {
   "cell_type": "code",
   "execution_count": 23,
   "metadata": {},
   "outputs": [],
   "source": [
    "generated = stats.norm.rvs(size = 900)"
   ]
  },
  {
   "cell_type": "code",
   "execution_count": 26,
   "metadata": {},
   "outputs": [
    {
     "data": {
      "text/plain": [
       "0.026814462072759823"
      ]
     },
     "execution_count": 26,
     "metadata": {},
     "output_type": "execute_result"
    }
   ],
   "source": [
    "mean, std = stats.norm.fit(generated)\n",
    "mean"
   ]
  },
  {
   "cell_type": "code",
   "execution_count": 27,
   "metadata": {},
   "outputs": [
    {
     "data": {
      "text/plain": [
       "1.0066513531224672"
      ]
     },
     "execution_count": 27,
     "metadata": {},
     "output_type": "execute_result"
    }
   ],
   "source": [
    "std"
   ]
  },
  {
   "cell_type": "markdown",
   "metadata": {},
   "source": [
    "偏度（skewnes）描述的是概率分布的偏斜程度，我们需要做一个偏度检验。\n",
    "\n",
    "该检验有两个返回值，其中第二个返回值是p-value，即观察到的数据服从正态分布的概率，取值为0-1"
   ]
  },
  {
   "cell_type": "code",
   "execution_count": 28,
   "metadata": {},
   "outputs": [
    {
     "data": {
      "text/plain": [
       "SkewtestResult(statistic=-1.144850242797955, pvalue=0.2522711984845677)"
      ]
     },
     "execution_count": 28,
     "metadata": {},
     "output_type": "execute_result"
    }
   ],
   "source": [
    "stats.skewtest(generated)"
   ]
  },
  {
   "cell_type": "markdown",
   "metadata": {},
   "source": [
    "峰度（kurtosis）描述的是概率分布的陡峭程度。该检验和偏度检验类似。"
   ]
  },
  {
   "cell_type": "code",
   "execution_count": 29,
   "metadata": {},
   "outputs": [
    {
     "data": {
      "text/plain": [
       "KurtosistestResult(statistic=-1.6575377322165719, pvalue=0.09741080688081906)"
      ]
     },
     "execution_count": 29,
     "metadata": {},
     "output_type": "execute_result"
    }
   ],
   "source": [
    "stats.kurtosistest(generated)"
   ]
  },
  {
   "cell_type": "markdown",
   "metadata": {},
   "source": [
    "正态性检验（normality test）"
   ]
  },
  {
   "cell_type": "code",
   "execution_count": 30,
   "metadata": {},
   "outputs": [
    {
     "data": {
      "text/plain": [
       "NormaltestResult(statistic=4.058113412156192, pvalue=0.13145946759709765)"
      ]
     },
     "execution_count": 30,
     "metadata": {},
     "output_type": "execute_result"
    }
   ],
   "source": [
    "stats.normaltest(generated)"
   ]
  },
  {
   "cell_type": "code",
   "execution_count": 31,
   "metadata": {},
   "outputs": [
    {
     "data": {
      "text/plain": [
       "Ttest_indResult(statistic=0.5991796880467044, pvalue=0.5565200999733637)"
      ]
     },
     "execution_count": 31,
     "metadata": {},
     "output_type": "execute_result"
    }
   ],
   "source": [
    "a1 = np.random.rand(10)\n",
    "a2 = np.random.rand(10)\n",
    "stats.ttest_ind(a1,a2)"
   ]
  },
  {
   "cell_type": "markdown",
   "metadata": {},
   "source": [
    "Kolmogorov-Smirnov检验可以判断两组样本同分布的可能性"
   ]
  },
  {
   "cell_type": "code",
   "execution_count": 32,
   "metadata": {},
   "outputs": [
    {
     "data": {
      "text/plain": [
       "Ks_2sampResult(statistic=0.3, pvalue=0.7869297884777761)"
      ]
     },
     "execution_count": 32,
     "metadata": {},
     "output_type": "execute_result"
    }
   ],
   "source": [
    "stats.ks_2samp(a1,a2)"
   ]
  },
  {
   "cell_type": "markdown",
   "metadata": {},
   "source": [
    "在两组数据对数收益率的差值上运用Jarque-Bera正态性检验"
   ]
  },
  {
   "cell_type": "code",
   "execution_count": 33,
   "metadata": {},
   "outputs": [
    {
     "data": {
      "text/plain": [
       "(0.8824396007755363, 0.6432513041472875)"
      ]
     },
     "execution_count": 33,
     "metadata": {},
     "output_type": "execute_result"
    }
   ],
   "source": [
    "stats.jarque_bera(a1-a2)"
   ]
  },
  {
   "cell_type": "code",
   "execution_count": null,
   "metadata": {},
   "outputs": [],
   "source": []
  },
  {
   "cell_type": "code",
   "execution_count": 2,
   "metadata": {},
   "outputs": [],
   "source": [
    "a = zeros(1000)\n",
    "a[:100]=1"
   ]
  },
  {
   "cell_type": "code",
   "execution_count": 3,
   "metadata": {},
   "outputs": [],
   "source": [
    "b = fft(a)"
   ]
  },
  {
   "cell_type": "code",
   "execution_count": 8,
   "metadata": {},
   "outputs": [
    {
     "data": {
      "text/plain": [
       "[<matplotlib.lines.Line2D at 0x7fb143c54828>]"
      ]
     },
     "execution_count": 8,
     "metadata": {},
     "output_type": "execute_result"
    },
    {
     "data": {
      "image/png": "[encoded data removed]",
      "text/plain": [
       "<Figure size 432x288 with 1 Axes>"
      ]
     },
     "metadata": {
      "needs_background": "light"
     },
     "output_type": "display_data"
    }
   ],
   "source": [
    "plt.plot(b)\n",
    "plt.plot(a)"
   ]
  },
  {
   "cell_type": "code",
   "execution_count": null,
   "metadata": {},
   "outputs": [],
   "source": []
  },
  {
   "cell_type": "code",
   "execution_count": 10,
   "metadata": {},
   "outputs": [
    {
     "data": {
      "text/plain": [
       "(21.333333333333336, 2.368475785867001e-13)"
      ]
     },
     "execution_count": 10,
     "metadata": {},
     "output_type": "execute_result"
    }
   ],
   "source": [
    "from scipy import integrate\n",
    "f1 = lambda x: x**2\n",
    "# 0到4的定积分，得到结果和预计误差\n",
    "integrate.quad(f1,0,4)"
   ]
  },
  {
   "cell_type": "markdown",
   "metadata": {},
   "source": [
    "### 插值"
   ]
  },
  {
   "cell_type": "code",
   "execution_count": 54,
   "metadata": {},
   "outputs": [],
   "source": [
    "from scipy import integrate\n",
    "def pend(y, t,b,c):\n",
    "    theta, omega = y\n",
    "    dydt = [omega, -b*omega - c*np.sin(theta)]\n",
    "    return dydt\n",
    "t = np.linspace(0,10,num=100)\n",
    "res_intep = integrate.odeint(pend,[np.pi - 0.1, 0.0],t,args=(0.25,5))"
   ]
  },
  {
   "cell_type": "code",
   "execution_count": 55,
   "metadata": {},
   "outputs": [
    {
     "data": {
      "image/png": "[encoded data removed]",
      "text/plain": [
       "<Figure size 432x288 with 1 Axes>"
      ]
     },
     "metadata": {
      "needs_background": "light"
     },
     "output_type": "display_data"
    }
   ],
   "source": [
    "from scipy import interpolate\n",
    "a = interpolate.interp1d(t, res_intep[:,1],fill_value='extrapolate')\n",
    "plt.plot(t, a(t), 'b<')\n",
    "plt.plot(t, res_intep[:, 1], 'g*')\n",
    "plt.grid()\n",
    "plt.show()"
   ]
  },
  {
   "cell_type": "code",
   "execution_count": null,
   "metadata": {},
   "outputs": [],
   "source": []
  },
  {
   "cell_type": "markdown",
   "metadata": {},
   "source": [
    "### <center>optimize模块</center>"
   ]
  },
  {
   "cell_type": "markdown",
   "metadata": {},
   "source": [
    "### 解方程\n",
    "\n",
    "https://blog.csdn.net/jiang425776024/article/details/87885969\n",
    "\n",
    "SciPy中对非线性方程组求解是fslove()函数，它的调用形式一般为fslove(fun, x0)，\n",
    "\n",
    "fun是计算非线性方程组的误差函数，它需要一个参数x，fun依靠x来计算线性方程组的每个方程的值（或者叫误差），x0是x的一个初始值。"
   ]
  },
  {
   "cell_type": "code",
   "execution_count": 35,
   "metadata": {},
   "outputs": [],
   "source": [
    "from scipy.optimize import fsolve  # :函数可以求解f=0的零点，x是根据函数图形特征预先估计的一个零点。"
   ]
  },
  {
   "cell_type": "code",
   "execution_count": 9,
   "metadata": {},
   "outputs": [
    {
     "data": {
      "text/plain": [
       "array([ 0.70622057, -0.6       , -2.5       ])"
      ]
     },
     "execution_count": 9,
     "metadata": {},
     "output_type": "execute_result"
    }
   ],
   "source": [
    "\"\"\"\n",
    "计算非线性方程组：\n",
    "    5x1+3 = 0\n",
    "    4x0^2-2sin(x1x2)=0\n",
    "    x1x2-1.5=0\n",
    "\"\"\"\n",
    "import math\n",
    "\n",
    "## 误差函数\n",
    "def f(x):\n",
    "    return [\n",
    "        5*x[1]+3,\n",
    "        4*x[0]**2 - 2*math.sin(x[1]*x[2]),\n",
    "        x[1]*x[2] - 1.5\n",
    "    ]\n",
    "res = fsolve(f,[100,1,1])\n",
    "res"
   ]
  },
  {
   "cell_type": "code",
   "execution_count": null,
   "metadata": {},
   "outputs": [],
   "source": []
  },
  {
   "cell_type": "markdown",
   "metadata": {},
   "source": [
    "### 拟合\n",
    "- 最小二乘法-leastsq\n",
    "- curve_fit"
   ]
  },
  {
   "cell_type": "code",
   "execution_count": 19,
   "metadata": {},
   "outputs": [],
   "source": [
    "from scipy.optimize import leastsq,curve_fit\n",
    "import matplotlib.pyplot as plt"
   ]
  },
  {
   "cell_type": "code",
   "execution_count": 20,
   "metadata": {},
   "outputs": [
    {
     "data": {
      "image/png": "[encoded data removed]",
      "text/plain": [
       "<Figure size 432x288 with 1 Axes>"
      ]
     },
     "metadata": {
      "needs_background": "light"
     },
     "output_type": "display_data"
    }
   ],
   "source": [
    "#产生数据\n",
    "def f(x):\n",
    "    return x**2 + 10*np.sin(x)\n",
    "xdata = np.linspace(-10, 10, num=20)\n",
    "ydata = f(xdata)+np.random.randn(xdata.size)\n",
    "plt.scatter(xdata, ydata, linewidths=3.0, \n",
    "       edgecolors=\"red\")\n",
    "#plt.show()\n",
    "#拟合\n",
    "def f2(x,a,b):\n",
    "    return a*x**2 + b*np.sin(x)\n",
    "guess = [2,2]  # a,b的初始值\n",
    "params, params_covariance = curve_fit(f2, xdata, ydata, guess)  # 非线性最小二乘拟合\n",
    "#画出拟合的曲线\n",
    "x1 = np.linspace(-10,10,256)\n",
    "y1 = f2(x1,params[0],params[1])\n",
    "plt.plot(x1,y1)\n",
    "plt.show()"
   ]
  },
  {
   "cell_type": "markdown",
   "metadata": {},
   "source": [
    "在 optimize模块中，可以使用leastsq()对数据进行最小二乘拟合计算。 \n",
    "leastsq()的用法很简单，只需要将计箅误差的函数和待确定参数的初始值传递给它即可"
   ]
  },
  {
   "cell_type": "code",
   "execution_count": 15,
   "metadata": {},
   "outputs": [
    {
     "data": {
      "text/plain": [
       "0.6134953491930442"
      ]
     },
     "execution_count": 15,
     "metadata": {},
     "output_type": "execute_result"
    }
   ],
   "source": [
    "x = np.array([8.19,2.72,6.39,8.71,4.7,2.66,3.78])\n",
    "y = np.array([7.01,2.78,6.47,6.71,4.1,4.23,4.05])\n",
    "def residual(p):\n",
    "    k,b = p\n",
    "    return y-(k*x+b)\n",
    "r = leastsq(residual,[1,0])\n",
    "k,b = r[0]\n",
    "k"
   ]
  },
  {
   "cell_type": "code",
   "execution_count": 41,
   "metadata": {},
   "outputs": [
    {
     "data": {
      "text/plain": [
       "1.794092543259387"
      ]
     },
     "execution_count": 41,
     "metadata": {},
     "output_type": "execute_result"
    }
   ],
   "source": [
    "b"
   ]
  },
  {
   "cell_type": "markdown",
   "metadata": {},
   "source": [
    "##### 拟合正弦波"
   ]
  },
  {
   "cell_type": "code",
   "execution_count": 319,
   "metadata": {},
   "outputs": [
    {
     "name": "stdout",
     "output_type": "stream",
     "text": [
      "[-10.17790434   0.34056419   3.71408507]\n"
     ]
    },
    {
     "data": {
      "text/plain": [
       "[<matplotlib.lines.Line2D at 0x7fb138b1db70>]"
      ]
     },
     "execution_count": 319,
     "metadata": {},
     "output_type": "execute_result"
    },
    {
     "data": {
      "image/png": "[encoded data removed]",
      "text/plain": [
       "<Figure size 432x288 with 1 Axes>"
      ]
     },
     "metadata": {
      "needs_background": "light"
     },
     "output_type": "display_data"
    }
   ],
   "source": [
    "def func(x, p):\n",
    "    \"\"\"\n",
    "    数据拟合所用的函数: A*sin(2*pi*k*x + theta)\n",
    "    \"\"\"\n",
    "    A, k, theta = p\n",
    "    return A*np.sin(2*np.pi*k*x+theta)   \n",
    "\n",
    "def residuals(p,y,x):\n",
    "#     A,k,theta = p\n",
    "    return abs(y-func(x,p))\n",
    "\n",
    "x = np.linspace(0,-2*np.pi,100)\n",
    "A,k,theta = 10,0.34,np.pi/6\n",
    "y0 = func(x, [A, k, theta])   # 真实数据\n",
    "# 加入噪声\n",
    "np.random.seed(0)\n",
    "y1 = y0+2*np.random.randn(len(x))\n",
    "# p0 = [9,0.34,np.pi/6]\n",
    "p0 = [7, 0.2, 0]\n",
    "# p0是A,k,theta的初始值，y1，x要拟合的数据\n",
    "plsq = leastsq(residuals, p0,args=(y1,x))\n",
    "print(plsq[0])\n",
    "y_pls_pred = func(x,plsq[0])\n",
    "plt.plot(x,y0)\n",
    "plt.plot(x,y1)\n",
    "# plt.plot(x,y_pred)\n",
    "plt.plot(x,y_pls_pred)"
   ]
  },
  {
   "cell_type": "code",
   "execution_count": 327,
   "metadata": {},
   "outputs": [
    {
     "data": {
      "text/plain": [
       "array([ 0.70622057, -0.6       , -2.5       ])"
      ]
     },
     "execution_count": 327,
     "metadata": {},
     "output_type": "execute_result"
    }
   ],
   "source": [
    "def func(x, A, k, theta):\n",
    "    \"\"\"\n",
    "    数据拟合所用的函数: A*sin(2*pi*k*x + theta)\n",
    "    \"\"\"\n",
    "#     A, k, theta = p\n",
    "    return A*np.sin(2*np.pi*k*x+theta)  \n",
    "ret,_=optimize.curve_fit(func,x,y1,p0)\n",
    "res"
   ]
  },
  {
   "cell_type": "code",
   "execution_count": 241,
   "metadata": {},
   "outputs": [
    {
     "data": {
      "text/plain": [
       "1"
      ]
     },
     "execution_count": 241,
     "metadata": {},
     "output_type": "execute_result"
    }
   ],
   "source": [
    "p = tuple([1,2,3])\n",
    "A,k,theta = p\n",
    "A"
   ]
  },
  {
   "cell_type": "markdown",
   "metadata": {},
   "source": [
    "### 最优化"
   ]
  },
  {
   "cell_type": "markdown",
   "metadata": {},
   "source": [
    "##### 局部最优\n",
    "\n",
    "\n",
    "凸函数的 非线性规划\n",
    "https://blog.csdn.net/sinat_17697111/article/details/81534935\n",
    "\n",
    "\n",
    "optimize模块还提供了常用的最小值算法如：Nelder-Mead、Powell、CG、BFGS、Newton-CG等，在这些最小值计算时，往往会传入一阶导数矩阵(雅各比矩阵)或者二阶导数矩阵(黑塞矩阵)从而加速收敛，这些最优化算法往往不能保证收敛到全局最小值，大部分会收敛到局部极小值。这些函数的调用方式为:\n",
    "\n",
    "optimize.minimize(target_fun,init_val,method,jac,hess)\n",
    "target_fun：函数的表达式计算；\n",
    "init_val：初始值；\n",
    "method：最小化的算法；\n",
    "jac：雅各比矩阵\n",
    "hess：黑塞矩阵。\n",
    "https://blog.csdn.net/unixtch/article/details/78545382\n"
   ]
  },
  {
   "cell_type": "code",
   "execution_count": 2,
   "metadata": {},
   "outputs": [],
   "source": [
    "from scipy.optimize import minimize\n",
    "import numpy as np"
   ]
  },
  {
   "cell_type": "code",
   "execution_count": 1,
   "metadata": {},
   "outputs": [
    {
     "name": "stdout",
     "output_type": "stream",
     "text": [
      "2.0000000815356342\n",
      "True\n",
      "[1.00028559]\n"
     ]
    }
   ],
   "source": [
    "\"\"\"\n",
    "计算 1/x+x 的最小值\n",
    "\"\"\"\n",
    "# coding=utf-8\n",
    "\n",
    "import numpy as np\n",
    "#demo 1\n",
    "#计算 1/x+x 的最小值\n",
    "def fun(args):\n",
    "    a=args\n",
    "    v=lambda x:a/x[0] +x[0]\n",
    "    return v\n",
    " \n",
    "args = (1)  #a\n",
    "x0 = np.asarray((2))  # 初始猜测值\n",
    "res = minimize(fun(args), x0, method='SLSQP')\n",
    "print(res.fun)\n",
    "print(res.success)\n",
    "print(res.x)"
   ]
  },
  {
   "cell_type": "code",
   "execution_count": 3,
   "metadata": {},
   "outputs": [
    {
     "name": "stdout",
     "output_type": "stream",
     "text": [
      "-0.773684210526435\n",
      "True\n",
      "[0.9 0.9 0.1]\n"
     ]
    }
   ],
   "source": [
    "\"\"\"\n",
    "计算  (2+x1)/(1+x2) - 3*x1+4*x3 的最小值  x1,x2,x3的范围都在0.1到0.9 之间\n",
    "\"\"\"\n",
    "# coding=utf-8\n",
    "def fun(args):\n",
    "    a,b,c,d=args\n",
    "    v=lambda x: (a+x[0])/(b+x[1]) -c*x[0]+d*x[2]\n",
    "    return v\n",
    "def con(args):\n",
    "    # 约束条件 分为eq 和ineq\n",
    "    #eq表示 函数结果等于0 ； ineq 表示 表达式大于等于0  \n",
    "    x1min, x1max, x2min, x2max,x3min,x3max = args\n",
    "    cons = ({'type': 'ineq', 'fun': lambda x: x[0] - x1min},\\\n",
    "              {'type': 'ineq', 'fun': lambda x: -x[0] + x1max},\\\n",
    "             {'type': 'ineq', 'fun': lambda x: x[1] - x2min},\\\n",
    "                {'type': 'ineq', 'fun': lambda x: -x[1] + x2max},\\\n",
    "            {'type': 'ineq', 'fun': lambda x: x[2] - x3min},\\\n",
    "             {'type': 'ineq', 'fun': lambda x: -x[2] + x3max})\n",
    "    return cons\n",
    " \n",
    "if __name__ == \"__main__\":\n",
    "    #定义常量值\n",
    "    args = (2,1,3,4)  #a,b,c,d\n",
    "    #设置参数范围/约束条件\n",
    "    args1 = (0.1,0.9,0.1, 0.9,0.1,0.9)  #x1min, x1max, x2min, x2max,x3min,x3max \n",
    "    cons = con(args1)\n",
    "    #设置初始猜测值  \n",
    "    x0 = np.asarray((0.5,0.5,0.5))\n",
    "    \n",
    "    res = minimize(fun(args), x0, method='SLSQP',constraints=cons)\n",
    "    print(res.fun)\n",
    "    print(res.success)\n",
    "    print(res.x)"
   ]
  },
  {
   "cell_type": "markdown",
   "metadata": {},
   "source": [
    "##### 全局最优\n",
    "\n",
    "https://docs.scipy.org/doc/scipy/reference/generated/scipy.optimize.basinhopping.html\n",
    "\n",
    "结构搜索算法包含模拟退火法、盆地跳跃法、遗传算法和粒子群优化算法等"
   ]
  },
  {
   "cell_type": "code",
   "execution_count": 31,
   "metadata": {},
   "outputs": [],
   "source": [
    "from scipy.optimize import basinhopping   # 盆地跳跃法\n",
    "import numpy as np "
   ]
  },
  {
   "cell_type": "code",
   "execution_count": 10,
   "metadata": {},
   "outputs": [
    {
     "name": "stdout",
     "output_type": "stream",
     "text": [
      "[-1.48419583e+10  8.80197959e+06  1.61006508e+08] -1.999438045075179e+22\n"
     ]
    }
   ],
   "source": [
    "def func1(x,p):\n",
    "    \"\"\"\n",
    "        计算的正弦波 ：A*sin(2*pi*k*x+theta)\n",
    "    \"\"\"\n",
    "    A,k,theta = p\n",
    "    return A*np.sin(2*np.pi*k*x+theta)\n",
    "\n",
    "x1 = np.linspace(0,-2*np.pi,100)\n",
    "A,k,theta = 10,0.34,np.pi/6\n",
    "y0 = func1(x, [A, k, theta])   # 真实数据\n",
    "# 加入噪声\n",
    "np.random.seed(0)\n",
    "y1 = y0+2*np.random.randn(len(x))\n",
    "\n",
    "def func_error(p,y,x):\n",
    "    return np.sum((y-func1(x,p)**2))\n",
    "ret = basinhopping(func_error,\n",
    "                      [1,1,1],\n",
    "                      niter=10,\n",
    "                    minimizer_kwargs={\"method\":\"L-BFGS-B\",\n",
    "                                      \"args\":(y1,x1)}\n",
    "                )\n",
    "## [1,1,1]是传入的初始值，args是需要拟合的数据\n",
    "# ret\n",
    "print(ret.x, ret.fun)"
   ]
  },
  {
   "cell_type": "markdown",
   "metadata": {},
   "source": [
    "##### a two-dimensional minimization problem\n",
    "use gradient information to significantly speed up the search."
   ]
  },
  {
   "cell_type": "code",
   "execution_count": 12,
   "metadata": {},
   "outputs": [],
   "source": [
    "def func2d(x):\n",
    "    f = np.cos(14.5 * x[0] - 0.3) + (x[1] + 0.2) * x[1] + (x[0] + 0.2) * x[0]\n",
    "    df = np.zeros(2)\n",
    "    df[0] = -14.5 * np.sin(14.5 * x[0] - 0.3) + 2. * x[0] + 0.2  # df/dx0   df/dx1\n",
    "    df[1] = 2. * x[1] + 0.2\n",
    "    return f, df"
   ]
  },
  {
   "cell_type": "code",
   "execution_count": 13,
   "metadata": {},
   "outputs": [
    {
     "name": "stdout",
     "output_type": "stream",
     "text": [
      "global minimum: x = [-0.1951, -0.1000], f(x0) = -1.0109\n"
     ]
    }
   ],
   "source": [
    "minimizer_kwargs = {\"method\":\"L-BFGS-B\", \"jac\":True}\n",
    "x0 = [1.0, 1.0]\n",
    "ret = basinhopping(func2d, x0, minimizer_kwargs=minimizer_kwargs,\n",
    "                   niter=200)\n",
    "print(\"global minimum: x = [%.4f, %.4f], f(x0) = %.4f\" % (ret.x[0],\n",
    "                                                          ret.x[1],\n",
    "                                                          ret.fun))"
   ]
  },
  {
   "cell_type": "markdown",
   "metadata": {},
   "source": [
    "use a custom step-taking routine. Imagine you want the first coordinate to take larger steps than the rest of the coordinates"
   ]
  },
  {
   "cell_type": "code",
   "execution_count": 14,
   "metadata": {},
   "outputs": [],
   "source": [
    "class MyTakeStep(object):\n",
    "    def __init__(self, stepsize=0.5):\n",
    "        self.stepsize = stepsize\n",
    "    def __call__(self, x):\n",
    "        s = self.stepsize\n",
    "        x[0] += np.random.uniform(-2.*s, 2.*s)\n",
    "        x[1:] += np.random.uniform(-s, s, x[1:].shape)\n",
    "        return x"
   ]
  },
  {
   "cell_type": "code",
   "execution_count": 15,
   "metadata": {},
   "outputs": [
    {
     "name": "stdout",
     "output_type": "stream",
     "text": [
      "global minimum: x = [-0.1951, -0.1000], f(x0) = -1.0109\n"
     ]
    }
   ],
   "source": [
    "mytakestep = MyTakeStep()\n",
    "ret = basinhopping(func2d, x0, minimizer_kwargs=minimizer_kwargs,\n",
    "                   niter=200, take_step=mytakestep)\n",
    "print(\"global minimum: x = [%.4f, %.4f], f(x0) = %.4f\" % (ret.x[0],\n",
    "                                                          ret.x[1],\n",
    "                                                          ret.fun))"
   ]
  },
  {
   "cell_type": "markdown",
   "metadata": {},
   "source": [
    "using a custom callback function which prints the value of every minimum found"
   ]
  },
  {
   "cell_type": "code",
   "execution_count": 20,
   "metadata": {},
   "outputs": [
    {
     "name": "stdout",
     "output_type": "stream",
     "text": [
      "at minimum 0.4159 accepted 1\n",
      "at minimum -0.9073 accepted 1\n",
      "at minimum -0.1021 accepted 1\n",
      "at minimum -0.1021 accepted 1\n",
      "at minimum 0.9102 accepted 1\n",
      "at minimum 0.9102 accepted 1\n",
      "at minimum 2.2945 accepted 0\n",
      "at minimum -0.1021 accepted 1\n",
      "at minimum -1.0109 accepted 1\n",
      "at minimum -1.0109 accepted 1\n",
      "global minimum: x = [-0.1951, -0.1000], f(x0) = -1.0109\n"
     ]
    }
   ],
   "source": [
    "def print_fun(x, f, accepted):\n",
    "    print(\"at minimum %.4f accepted %d\" % (f, int(accepted)))\n",
    "np.random.seed(1)\n",
    "ret = basinhopping(func2d, x0, minimizer_kwargs=minimizer_kwargs,\n",
    "                   niter=10, callback=print_fun)\n"
   ]
  },
  {
   "cell_type": "markdown",
   "metadata": {},
   "source": [
    "implement bounds on the problem using a custom accept_test"
   ]
  },
  {
   "cell_type": "code",
   "execution_count": 22,
   "metadata": {},
   "outputs": [
    {
     "name": "stdout",
     "output_type": "stream",
     "text": [
      "global minimum: x = [-0.1951, -0.1000], f(x0) = -1.0109\n"
     ]
    }
   ],
   "source": [
    "class MyBounds(object):\n",
    "    def __init__(self, xmax=[1.1,1.1], xmin=[-1.1,-1.1] ):\n",
    "        self.xmax = np.array(xmax)\n",
    "        self.xmin = np.array(xmin)\n",
    "    def __call__(self, **kwargs):\n",
    "        x = kwargs[\"x_new\"]\n",
    "        tmax = bool(np.all(x <= self.xmax))\n",
    "        tmin = bool(np.all(x >= self.xmin))\n",
    "        return tmax and tmin\n",
    "mybounds = MyBounds()\n",
    "ret = basinhopping(func2d, x0, minimizer_kwargs=minimizer_kwargs,\n",
    "                   niter=10, accept_test=mybounds)\n",
    "print(\"global minimum: x = [%.4f, %.4f], f(x0) = %.4f\" % (ret.x[0],\n",
    "                                                          ret.x[1],\n",
    "                                                          ret.fun))"
   ]
  },
  {
   "cell_type": "markdown",
   "metadata": {},
   "source": [
    "##### 求函数的min"
   ]
  },
  {
   "cell_type": "code",
   "execution_count": 45,
   "metadata": {},
   "outputs": [
    {
     "data": {
      "image/png": "[encoded data removed]",
      "text/plain": [
       "<Figure size 432x288 with 1 Axes>"
      ]
     },
     "metadata": {
      "needs_background": "light"
     },
     "output_type": "display_data"
    }
   ],
   "source": [
    "import numpy as np\n",
    "from scipy import optimize\n",
    "import matplotlib.pyplot as plt\n",
    "def f(x):\n",
    "    return x**2 + 10*np.sin(x)  \n",
    "x = np.arange(-10, 10, 0.1)\n",
    "plt.plot(x, f(x)) \n",
    "plt.show()  "
   ]
  },
  {
   "cell_type": "code",
   "execution_count": 32,
   "metadata": {},
   "outputs": [
    {
     "data": {
      "text/plain": [
       "array([-1.30641113])"
      ]
     },
     "execution_count": 32,
     "metadata": {},
     "output_type": "execute_result"
    }
   ],
   "source": [
    "# (网格)暴力搜索\n",
    "grid = (-10, 10, 0.1)\n",
    "optimize.brute(f, (grid,))"
   ]
  },
  {
   "cell_type": "code",
   "execution_count": 27,
   "metadata": {},
   "outputs": [
    {
     "name": "stdout",
     "output_type": "stream",
     "text": [
      "Optimization terminated successfully.\n",
      "         Current function value: -7.945823\n",
      "         Iterations: 5\n",
      "         Function evaluations: 18\n",
      "         Gradient evaluations: 6\n"
     ]
    },
    {
     "data": {
      "text/plain": [
       "array([-1.30644012])"
      ]
     },
     "execution_count": 27,
     "metadata": {},
     "output_type": "execute_result"
    }
   ],
   "source": [
    "# BFGS校正\n",
    "optimize.fmin_bfgs(f, 0)"
   ]
  },
  {
   "cell_type": "code",
   "execution_count": 33,
   "metadata": {},
   "outputs": [
    {
     "data": {
      "text/plain": [
       "3.8374671194983834"
      ]
     },
     "execution_count": 33,
     "metadata": {},
     "output_type": "execute_result"
    }
   ],
   "source": [
    "# 变量限制在(0,10)之间\n",
    "optimize.fminbound(f, 0, 10)"
   ]
  },
  {
   "cell_type": "code",
   "execution_count": 41,
   "metadata": {},
   "outputs": [],
   "source": [
    "# optimize.anneal(f,0,maxiter=500) # anneal is deprecated! Deprecated in scipy 0.14.0, use basinhopping instead\n",
    "# optimize.minimize(f, x0, method='Anneal')  "
   ]
  },
  {
   "cell_type": "code",
   "execution_count": 49,
   "metadata": {},
   "outputs": [
    {
     "data": {
      "text/plain": [
       "                        fun: -7.945823375615284\n",
       " lowest_optimization_result:       fun: -7.945823375615284\n",
       " hess_inv: array([[0.08579397]])\n",
       "      jac: array([1.1920929e-07])\n",
       "  message: 'Optimization terminated successfully.'\n",
       "     nfev: 15\n",
       "      nit: 3\n",
       "     njev: 5\n",
       "   status: 0\n",
       "  success: True\n",
       "        x: array([-1.30644002])\n",
       "                    message: ['requested number of basinhopping iterations completed successfully']\n",
       "      minimization_failures: 0\n",
       "                       nfev: 1503\n",
       "                        nit: 100\n",
       "                       njev: 501\n",
       "                          x: array([-1.30644002])"
      ]
     },
     "execution_count": 49,
     "metadata": {},
     "output_type": "execute_result"
    }
   ],
   "source": [
    "basinhopping(f, 0)"
   ]
  },
  {
   "cell_type": "code",
   "execution_count": 50,
   "metadata": {},
   "outputs": [],
   "source": [
    "minimizer_kwargs = {\"method\":\"L-BFGS-B\", \"jac\":True}\n",
    "x0 = [1.0, 1.0]\n",
    "ret = basinhopping(func2d, x0, minimizer_kwargs=minimizer_kwargs,\n",
    "                   niter=200)"
   ]
  },
  {
   "cell_type": "markdown",
   "metadata": {},
   "source": []
  }
 ],
 "metadata": {
  "kernelspec": {
   "display_name": "Python 3",
   "language": "python",
   "name": "python3"
  },
  "language_info": {
   "codemirror_mode": {
    "name": "ipython",
    "version": 3
   },
   "file_extension": ".py",
   "mimetype": "text/x-python",
   "name": "python",
   "nbconvert_exporter": "python",
   "pygments_lexer": "ipython3",
   "version": "3.6.5"
  }
 },
 "nbformat": 4,
 "nbformat_minor": 4
}
