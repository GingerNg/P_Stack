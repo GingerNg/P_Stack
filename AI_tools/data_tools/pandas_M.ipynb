{
 "metadata": {
  "language_info": {
   "codemirror_mode": {
    "name": "ipython",
    "version": 3
   },
   "file_extension": ".py",
   "mimetype": "text/x-python",
   "name": "python",
   "nbconvert_exporter": "python",
   "pygments_lexer": "ipython3",
   "version": "3.6.9-final"
  },
  "orig_nbformat": 2,
  "kernelspec": {
   "name": "python36964bitd089ad358d3043c7a538c119ed8c116f",
   "display_name": "Python 3.6.9 64-bit"
  }
 },
 "nbformat": 4,
 "nbformat_minor": 2,
 "cells": [
  {
   "cell_type": "code",
   "execution_count": 9,
   "metadata": {},
   "outputs": [],
   "source": [
    "import pandas as pd\n",
    "import os"
   ]
  },
  {
   "cell_type": "code",
   "execution_count": null,
   "metadata": {},
   "outputs": [],
   "source": [
    "### 拆分行"
   ]
  },
  {
   "cell_type": "code",
   "execution_count": 4,
   "metadata": {},
   "outputs": [
    {
     "output_type": "execute_result",
     "data": {
      "text/plain": "         Country  Number  Value label\n0          China     100      1     a\n1             US     150      2     b\n2          Japan     120      3     c\n3             EU      90      4     d\n4   UK/Australia      30      5     e\n5  UK/Netherland       2      6     f",
      "text/html": "<div>\n<style scoped>\n    .dataframe tbody tr th:only-of-type {\n        vertical-align: middle;\n    }\n\n    .dataframe tbody tr th {\n        vertical-align: top;\n    }\n\n    .dataframe thead th {\n        text-align: right;\n    }\n</style>\n<table border=\"1\" class=\"dataframe\">\n  <thead>\n    <tr style=\"text-align: right;\">\n      <th></th>\n      <th>Country</th>\n      <th>Number</th>\n      <th>Value</th>\n      <th>label</th>\n    </tr>\n  </thead>\n  <tbody>\n    <tr>\n      <th>0</th>\n      <td>China</td>\n      <td>100</td>\n      <td>1</td>\n      <td>a</td>\n    </tr>\n    <tr>\n      <th>1</th>\n      <td>US</td>\n      <td>150</td>\n      <td>2</td>\n      <td>b</td>\n    </tr>\n    <tr>\n      <th>2</th>\n      <td>Japan</td>\n      <td>120</td>\n      <td>3</td>\n      <td>c</td>\n    </tr>\n    <tr>\n      <th>3</th>\n      <td>EU</td>\n      <td>90</td>\n      <td>4</td>\n      <td>d</td>\n    </tr>\n    <tr>\n      <th>4</th>\n      <td>UK/Australia</td>\n      <td>30</td>\n      <td>5</td>\n      <td>e</td>\n    </tr>\n    <tr>\n      <th>5</th>\n      <td>UK/Netherland</td>\n      <td>2</td>\n      <td>6</td>\n      <td>f</td>\n    </tr>\n  </tbody>\n</table>\n</div>"
     },
     "metadata": {},
     "execution_count": 4
    }
   ],
   "source": [
    "df = pd.DataFrame({'Country':['China','US','Japan','EU','UK/Australia', 'UK/Netherland'],\n",
    "               'Number':[100, 150, 120, 90, 30, 2],\n",
    "               'Value': [1, 2, 3, 4, 5, 6],\n",
    "               'label': list('abcdef')})\n",
    "df"
   ]
  },
  {
   "cell_type": "code",
   "execution_count": 5,
   "metadata": {},
   "outputs": [
    {
     "output_type": "execute_result",
     "data": {
      "text/plain": "         Country  Number  Value label\n0          China     100      1     a\n1             US     150      2     b\n2          Japan     120      3     c\n3             EU      90      4     d\n4   UK/Australia      30      5     e\n5  UK/Netherland       2      6     f",
      "text/html": "<div>\n<style scoped>\n    .dataframe tbody tr th:only-of-type {\n        vertical-align: middle;\n    }\n\n    .dataframe tbody tr th {\n        vertical-align: top;\n    }\n\n    .dataframe thead th {\n        text-align: right;\n    }\n</style>\n<table border=\"1\" class=\"dataframe\">\n  <thead>\n    <tr style=\"text-align: right;\">\n      <th></th>\n      <th>Country</th>\n      <th>Number</th>\n      <th>Value</th>\n      <th>label</th>\n    </tr>\n  </thead>\n  <tbody>\n    <tr>\n      <th>0</th>\n      <td>China</td>\n      <td>100</td>\n      <td>1</td>\n      <td>a</td>\n    </tr>\n    <tr>\n      <th>1</th>\n      <td>US</td>\n      <td>150</td>\n      <td>2</td>\n      <td>b</td>\n    </tr>\n    <tr>\n      <th>2</th>\n      <td>Japan</td>\n      <td>120</td>\n      <td>3</td>\n      <td>c</td>\n    </tr>\n    <tr>\n      <th>3</th>\n      <td>EU</td>\n      <td>90</td>\n      <td>4</td>\n      <td>d</td>\n    </tr>\n    <tr>\n      <th>4</th>\n      <td>UK/Australia</td>\n      <td>30</td>\n      <td>5</td>\n      <td>e</td>\n    </tr>\n    <tr>\n      <th>5</th>\n      <td>UK/Netherland</td>\n      <td>2</td>\n      <td>6</td>\n      <td>f</td>\n    </tr>\n  </tbody>\n</table>\n</div>"
     },
     "metadata": {},
     "execution_count": 5
    }
   ],
   "source": [
    "df.drop('Country', axis=1).join(df['Country'].str.split('/', expand=True).stack().reset_index(level=1, drop=True).rename('Country'))\n",
    "df"
   ]
  },
  {
   "cell_type": "code",
   "execution_count": 6,
   "metadata": {},
   "outputs": [],
   "source": [
    "### 分列"
   ]
  },
  {
   "cell_type": "code",
   "execution_count": 22,
   "metadata": {},
   "outputs": [
    {
     "output_type": "execute_result",
     "data": {
      "text/plain": "         Country  Number  Value label\n0    China/Japan     100      1     a\n1          US/EU     150      2     b\n2    Japan/Korea     120      3     c\n3      EU/France      90      4     d\n4   UK/Australia      30      5     e\n5  UK/Netherland       2      6     f",
      "text/html": "<div>\n<style scoped>\n    .dataframe tbody tr th:only-of-type {\n        vertical-align: middle;\n    }\n\n    .dataframe tbody tr th {\n        vertical-align: top;\n    }\n\n    .dataframe thead th {\n        text-align: right;\n    }\n</style>\n<table border=\"1\" class=\"dataframe\">\n  <thead>\n    <tr style=\"text-align: right;\">\n      <th></th>\n      <th>Country</th>\n      <th>Number</th>\n      <th>Value</th>\n      <th>label</th>\n    </tr>\n  </thead>\n  <tbody>\n    <tr>\n      <th>0</th>\n      <td>China/Japan</td>\n      <td>100</td>\n      <td>1</td>\n      <td>a</td>\n    </tr>\n    <tr>\n      <th>1</th>\n      <td>US/EU</td>\n      <td>150</td>\n      <td>2</td>\n      <td>b</td>\n    </tr>\n    <tr>\n      <th>2</th>\n      <td>Japan/Korea</td>\n      <td>120</td>\n      <td>3</td>\n      <td>c</td>\n    </tr>\n    <tr>\n      <th>3</th>\n      <td>EU/France</td>\n      <td>90</td>\n      <td>4</td>\n      <td>d</td>\n    </tr>\n    <tr>\n      <th>4</th>\n      <td>UK/Australia</td>\n      <td>30</td>\n      <td>5</td>\n      <td>e</td>\n    </tr>\n    <tr>\n      <th>5</th>\n      <td>UK/Netherland</td>\n      <td>2</td>\n      <td>6</td>\n      <td>f</td>\n    </tr>\n  </tbody>\n</table>\n</div>"
     },
     "metadata": {},
     "execution_count": 22
    }
   ],
   "source": [
    "data = pd.DataFrame({'Country':['China/Japan','US/EU','Japan/Korea','EU/France','UK/Australia', 'UK/Netherland'],\n",
    "               'Number':[100, 150, 120, 90, 30, 2],\n",
    "               'Value': [1, 2, 3, 4, 5, 6],\n",
    "               'label': list('abcdef')})\n",
    "data"
   ]
  },
  {
   "cell_type": "code",
   "execution_count": 26,
   "metadata": {},
   "outputs": [
    {
     "output_type": "execute_result",
     "data": {
      "text/plain": "       0           1\n0  China       Japan\n1     US          EU\n2  Japan       Korea\n3     EU      France\n4     UK   Australia\n5     UK  Netherland",
      "text/html": "<div>\n<style scoped>\n    .dataframe tbody tr th:only-of-type {\n        vertical-align: middle;\n    }\n\n    .dataframe tbody tr th {\n        vertical-align: top;\n    }\n\n    .dataframe thead th {\n        text-align: right;\n    }\n</style>\n<table border=\"1\" class=\"dataframe\">\n  <thead>\n    <tr style=\"text-align: right;\">\n      <th></th>\n      <th>0</th>\n      <th>1</th>\n    </tr>\n  </thead>\n  <tbody>\n    <tr>\n      <th>0</th>\n      <td>China</td>\n      <td>Japan</td>\n    </tr>\n    <tr>\n      <th>1</th>\n      <td>US</td>\n      <td>EU</td>\n    </tr>\n    <tr>\n      <th>2</th>\n      <td>Japan</td>\n      <td>Korea</td>\n    </tr>\n    <tr>\n      <th>3</th>\n      <td>EU</td>\n      <td>France</td>\n    </tr>\n    <tr>\n      <th>4</th>\n      <td>UK</td>\n      <td>Australia</td>\n    </tr>\n    <tr>\n      <th>5</th>\n      <td>UK</td>\n      <td>Netherland</td>\n    </tr>\n  </tbody>\n</table>\n</div>"
     },
     "metadata": {},
     "execution_count": 26
    }
   ],
   "source": [
    "results = data['Country'].str.split(os.sep,expand=True)\n",
    "results"
   ]
  },
  {
   "cell_type": "code",
   "execution_count": 27,
   "metadata": {},
   "outputs": [
    {
     "output_type": "execute_result",
     "data": {
      "text/plain": "         Country  Number  Value label  team1\n0    China/Japan     100      1     a  China\n1          US/EU     150      2     b     US\n2    Japan/Korea     120      3     c  Japan\n3      EU/France      90      4     d     EU\n4   UK/Australia      30      5     e     UK\n5  UK/Netherland       2      6     f     UK",
      "text/html": "<div>\n<style scoped>\n    .dataframe tbody tr th:only-of-type {\n        vertical-align: middle;\n    }\n\n    .dataframe tbody tr th {\n        vertical-align: top;\n    }\n\n    .dataframe thead th {\n        text-align: right;\n    }\n</style>\n<table border=\"1\" class=\"dataframe\">\n  <thead>\n    <tr style=\"text-align: right;\">\n      <th></th>\n      <th>Country</th>\n      <th>Number</th>\n      <th>Value</th>\n      <th>label</th>\n      <th>team1</th>\n    </tr>\n  </thead>\n  <tbody>\n    <tr>\n      <th>0</th>\n      <td>China/Japan</td>\n      <td>100</td>\n      <td>1</td>\n      <td>a</td>\n      <td>China</td>\n    </tr>\n    <tr>\n      <th>1</th>\n      <td>US/EU</td>\n      <td>150</td>\n      <td>2</td>\n      <td>b</td>\n      <td>US</td>\n    </tr>\n    <tr>\n      <th>2</th>\n      <td>Japan/Korea</td>\n      <td>120</td>\n      <td>3</td>\n      <td>c</td>\n      <td>Japan</td>\n    </tr>\n    <tr>\n      <th>3</th>\n      <td>EU/France</td>\n      <td>90</td>\n      <td>4</td>\n      <td>d</td>\n      <td>EU</td>\n    </tr>\n    <tr>\n      <th>4</th>\n      <td>UK/Australia</td>\n      <td>30</td>\n      <td>5</td>\n      <td>e</td>\n      <td>UK</td>\n    </tr>\n    <tr>\n      <th>5</th>\n      <td>UK/Netherland</td>\n      <td>2</td>\n      <td>6</td>\n      <td>f</td>\n      <td>UK</td>\n    </tr>\n  </tbody>\n</table>\n</div>"
     },
     "metadata": {},
     "execution_count": 27
    }
   ],
   "source": [
    "data[\"team1\"] = results[0]\n",
    "data"
   ]
  },
  {
   "cell_type": "code",
   "execution_count": null,
   "metadata": {},
   "outputs": [],
   "source": []
  }
 ]
}