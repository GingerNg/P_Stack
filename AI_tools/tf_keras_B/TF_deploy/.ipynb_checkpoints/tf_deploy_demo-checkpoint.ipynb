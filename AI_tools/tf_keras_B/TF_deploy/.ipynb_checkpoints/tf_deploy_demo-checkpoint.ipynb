{
 "cells": [
  {
   "cell_type": "code",
   "execution_count": 17,
   "metadata": {},
   "outputs": [],
   "source": [
    "import tensorflow as tf"
   ]
  },
  {
   "cell_type": "code",
   "execution_count": null,
   "metadata": {},
   "outputs": [],
   "source": [
    "tf.reset_default_graph()\n",
    "# 定义图\n",
    "x = tf.placeholder(tf.float32, name=\"x\")\n",
    "y = tf.get_variable(\"y\", initializer=10.0)\n",
    "z = tf.log(x + y, name=\"z\")+100.0"
   ]
  },
  {
   "cell_type": "markdown",
   "metadata": {},
   "source": [
    "##### 模型保存为pd文件\n",
    "可用于Java调用"
   ]
  },
  {
   "cell_type": "code",
   "execution_count": 2,
   "metadata": {},
   "outputs": [
    {
     "name": "stdout",
     "output_type": "stream",
     "text": [
      "['x', 'y/initial_value', 'y', 'y/Assign', 'y/read', 'add', 'z', 'init']\n",
      "INFO:tensorflow:Froze 1 variables.\n",
      "Converted 1 variables to const ops.\n"
     ]
    }
   ],
   "source": [
    "with tf.Session() as sess:\n",
    "    sess.run(tf.global_variables_initializer())\n",
    "\n",
    "    # 进行一些训练代码，此处省略\n",
    "    # xxxxxxxxxxxx\n",
    "\n",
    "    # 显示图中的节点\n",
    "    print([n.name for n in sess.graph.as_graph_def().node])\n",
    "    frozen_graph_def = tf.graph_util.convert_variables_to_constants(\n",
    "        sess,\n",
    "        sess.graph_def,\n",
    "        output_node_names=[\"z\"])\n",
    "\n",
    "    # 保存图为pb文件\n",
    "    with open('./tf_java_model.pb', 'wb') as f:\n",
    "        f.write(frozen_graph_def.SerializeToString())"
   ]
  },
  {
   "cell_type": "code",
   "execution_count": 22,
   "metadata": {},
   "outputs": [
    {
     "data": {
      "text/plain": [
       "4.605170185988092"
      ]
     },
     "execution_count": 22,
     "metadata": {},
     "output_type": "execute_result"
    }
   ],
   "source": [
    "import math\n",
    "math.log(100.0)"
   ]
  },
  {
   "cell_type": "markdown",
   "metadata": {},
   "source": [
    "###### signature\n",
    "\n",
    "#### tensorflow serving\n",
    "- 将模型部署为tf-serving\n",
    "docker run -t --rm -p 8501:8501 -v /home/ginger/Jupyter/TF_deploy/tf_java_model_signature/saved_model_demo:/models/demo -e MODEL_NAME=demo tensorflow/serving &\n",
    "\n",
    "curl -d '{\"instances\": [1.0], \"signature_name\":\"predict\"}' -X POST http://localhost:8501/v1/models/demo:predict\n",
    "\n",
    "- note:\n",
    "当模型的版本发生变更，tf-serving可直接切换到最新版本\n"
   ]
  },
  {
   "cell_type": "code",
   "execution_count": 14,
   "metadata": {},
   "outputs": [
    {
     "name": "stdout",
     "output_type": "stream",
     "text": [
      "INFO:tensorflow:No assets to save.\n",
      "INFO:tensorflow:No assets to write.\n",
      "INFO:tensorflow:SavedModel written to: tf_java_model_signature/saved_model_demo/00000125/saved_model.pb\n"
     ]
    }
   ],
   "source": [
    "with tf.Session() as sess:\n",
    "    sess.run(tf.global_variables_initializer())\n",
    "    \n",
    "    # 进行一些训练代码，此处省略\n",
    "    # xxxxxxxxxxxx\n",
    "    \n",
    "    builder = tf.saved_model.builder.SavedModelBuilder('tf_java_model_signature/' + 'saved_model_demo/00000125')\n",
    "    \n",
    "    tensor_info_x = tf.saved_model.utils.build_tensor_info(x)\n",
    "#     tensor_info_x_indices = [tf.saved_model.utils.build_tensor_info(i_x) for i_x in index_x_pls]\n",
    "    tensor_info_z = tf.saved_model.utils.build_tensor_info(z)\n",
    "\n",
    "#     inputs = {\"index_x\" + str(i): t for i, t in enumerate(tensor_info_x_indices)}\n",
    "    inputs = {}\n",
    "    inputs[\"input\"] = tensor_info_x\n",
    "\n",
    "    #定义方法名和输入输出\n",
    "    LOG_signature = (\n",
    "        tf.saved_model.signature_def_utils.build_signature_def(\n",
    "            inputs=inputs,\n",
    "            outputs={'output': tensor_info_z},\n",
    "            method_name=tf.saved_model.signature_constants.PREDICT_METHOD_NAME)\n",
    "    )\n",
    "\n",
    "    builder.add_meta_graph_and_variables(\n",
    "        sess, \n",
    "        [tf.saved_model.tag_constants.SERVING],\n",
    "        signature_def_map={\n",
    "            'predict':LOG_signature,  # signature_name\n",
    "        },\n",
    "        main_op=tf.tables_initializer(),\n",
    "#         strip_default_attrs=True\n",
    "    )\n",
    "\n",
    "    builder.save()"
   ]
  },
  {
   "cell_type": "code",
   "execution_count": 11,
   "metadata": {},
   "outputs": [
    {
     "data": {
      "text/plain": [
       "'serve'"
      ]
     },
     "execution_count": 11,
     "metadata": {},
     "output_type": "execute_result"
    }
   ],
   "source": [
    "tf.saved_model.tag_constants.SERVING"
   ]
  },
  {
   "cell_type": "code",
   "execution_count": 23,
   "metadata": {},
   "outputs": [
    {
     "data": {
      "text/plain": [
       "'tensorflow/serving/predict'"
      ]
     },
     "execution_count": 23,
     "metadata": {},
     "output_type": "execute_result"
    }
   ],
   "source": [
    "tf.saved_model.signature_constants.PREDICT_METHOD_NAME"
   ]
  },
  {
   "cell_type": "code",
   "execution_count": 19,
   "metadata": {},
   "outputs": [],
   "source": [
    "import json\n",
    "import requests\n",
    "headers = {\"content-type\": \"application/json\"}"
   ]
  },
  {
   "cell_type": "code",
   "execution_count": 21,
   "metadata": {},
   "outputs": [
    {
     "data": {
      "text/plain": [
       "{'predictions': [104.700478]}"
      ]
     },
     "execution_count": 21,
     "metadata": {},
     "output_type": "execute_result"
    }
   ],
   "source": [
    "data = json.dumps({\"signature_name\": \"predict\", \"instances\": [100.0]})\n",
    "json_response = requests.post('http://localhost:8501/v1/models/demo:predict', data=data, headers=headers)\n",
    "predictions = json.loads(json_response.text)\n",
    "predictions"
   ]
  },
  {
   "cell_type": "code",
   "execution_count": null,
   "metadata": {},
   "outputs": [],
   "source": []
  }
 ],
 "metadata": {
  "kernelspec": {
   "display_name": "Python 3",
   "language": "python",
   "name": "python3"
  },
  "language_info": {
   "codemirror_mode": {
    "name": "ipython",
    "version": 3
   },
   "file_extension": ".py",
   "mimetype": "text/x-python",
   "name": "python",
   "nbconvert_exporter": "python",
   "pygments_lexer": "ipython3",
   "version": "3.6.8"
  }
 },
 "nbformat": 4,
 "nbformat_minor": 2
}
