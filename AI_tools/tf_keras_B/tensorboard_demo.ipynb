{
 "cells": [
  {
   "cell_type": "markdown",
   "metadata": {},
   "source": [
    "## <center>tensorboard<center>\n",
    "    \n",
    "在训练过程中，主要用到了tf.summary()的各类方法，能够保存训练过程以及参数分布图并在tensorboard显示。\n",
    "histograms:变量显示\n",
    "tf.summary.histogram\n",
    "\n",
    "scalars:标量显示\n",
    "tf.summary.scalar\n",
    "\n",
    "\n",
    "text:展示文本输入类型为Tensor\n",
    "tf.summary.text\n",
    "\n",
    "tf.summary.merge(inputs, collections=None, name=None)\n",
    "合并summaries\n",
    "\n",
    "该op创建了一个summary协议缓冲区，它包含了输入的summaries的所有value的union\n",
    "\n",
    "\n",
    "http://www.cnblogs.com/fydeblog/p/7429344.html\n",
    "tensorboard --logdir logs\n"
   ]
  },
  {
   "cell_type": "code",
   "execution_count": 1,
   "metadata": {},
   "outputs": [
    {
     "name": "stderr",
     "output_type": "stream",
     "text": [
      "/usr/local/lib/python3.6/dist-packages/tensorflow/python/framework/dtypes.py:516: FutureWarning: Passing (type, 1) or '1type' as a synonym of type is deprecated; in a future version of numpy, it will be understood as (type, (1,)) / '(1,)type'.\n",
      "  _np_qint8 = np.dtype([(\"qint8\", np.int8, 1)])\n",
      "/usr/local/lib/python3.6/dist-packages/tensorflow/python/framework/dtypes.py:517: FutureWarning: Passing (type, 1) or '1type' as a synonym of type is deprecated; in a future version of numpy, it will be understood as (type, (1,)) / '(1,)type'.\n",
      "  _np_quint8 = np.dtype([(\"quint8\", np.uint8, 1)])\n",
      "/usr/local/lib/python3.6/dist-packages/tensorflow/python/framework/dtypes.py:518: FutureWarning: Passing (type, 1) or '1type' as a synonym of type is deprecated; in a future version of numpy, it will be understood as (type, (1,)) / '(1,)type'.\n",
      "  _np_qint16 = np.dtype([(\"qint16\", np.int16, 1)])\n",
      "/usr/local/lib/python3.6/dist-packages/tensorflow/python/framework/dtypes.py:519: FutureWarning: Passing (type, 1) or '1type' as a synonym of type is deprecated; in a future version of numpy, it will be understood as (type, (1,)) / '(1,)type'.\n",
      "  _np_quint16 = np.dtype([(\"quint16\", np.uint16, 1)])\n",
      "/usr/local/lib/python3.6/dist-packages/tensorflow/python/framework/dtypes.py:520: FutureWarning: Passing (type, 1) or '1type' as a synonym of type is deprecated; in a future version of numpy, it will be understood as (type, (1,)) / '(1,)type'.\n",
      "  _np_qint32 = np.dtype([(\"qint32\", np.int32, 1)])\n",
      "/usr/local/lib/python3.6/dist-packages/tensorflow/python/framework/dtypes.py:525: FutureWarning: Passing (type, 1) or '1type' as a synonym of type is deprecated; in a future version of numpy, it will be understood as (type, (1,)) / '(1,)type'.\n",
      "  np_resource = np.dtype([(\"resource\", np.ubyte, 1)])\n",
      "/usr/local/lib/python3.6/dist-packages/tensorboard/compat/tensorflow_stub/dtypes.py:541: FutureWarning: Passing (type, 1) or '1type' as a synonym of type is deprecated; in a future version of numpy, it will be understood as (type, (1,)) / '(1,)type'.\n",
      "  _np_qint8 = np.dtype([(\"qint8\", np.int8, 1)])\n",
      "/usr/local/lib/python3.6/dist-packages/tensorboard/compat/tensorflow_stub/dtypes.py:542: FutureWarning: Passing (type, 1) or '1type' as a synonym of type is deprecated; in a future version of numpy, it will be understood as (type, (1,)) / '(1,)type'.\n",
      "  _np_quint8 = np.dtype([(\"quint8\", np.uint8, 1)])\n",
      "/usr/local/lib/python3.6/dist-packages/tensorboard/compat/tensorflow_stub/dtypes.py:543: FutureWarning: Passing (type, 1) or '1type' as a synonym of type is deprecated; in a future version of numpy, it will be understood as (type, (1,)) / '(1,)type'.\n",
      "  _np_qint16 = np.dtype([(\"qint16\", np.int16, 1)])\n",
      "/usr/local/lib/python3.6/dist-packages/tensorboard/compat/tensorflow_stub/dtypes.py:544: FutureWarning: Passing (type, 1) or '1type' as a synonym of type is deprecated; in a future version of numpy, it will be understood as (type, (1,)) / '(1,)type'.\n",
      "  _np_quint16 = np.dtype([(\"quint16\", np.uint16, 1)])\n",
      "/usr/local/lib/python3.6/dist-packages/tensorboard/compat/tensorflow_stub/dtypes.py:545: FutureWarning: Passing (type, 1) or '1type' as a synonym of type is deprecated; in a future version of numpy, it will be understood as (type, (1,)) / '(1,)type'.\n",
      "  _np_qint32 = np.dtype([(\"qint32\", np.int32, 1)])\n",
      "/usr/local/lib/python3.6/dist-packages/tensorboard/compat/tensorflow_stub/dtypes.py:550: FutureWarning: Passing (type, 1) or '1type' as a synonym of type is deprecated; in a future version of numpy, it will be understood as (type, (1,)) / '(1,)type'.\n",
      "  np_resource = np.dtype([(\"resource\", np.ubyte, 1)])\n"
     ]
    }
   ],
   "source": [
    "import tensorflow as tf\n",
    "import numpy as np"
   ]
  },
  {
   "cell_type": "code",
   "execution_count": 2,
   "metadata": {},
   "outputs": [],
   "source": [
    "## prepare the original data\n",
    "with tf.name_scope('data'):\n",
    "    x_data = np.random.rand(100).astype(np.float32)\n",
    "    y_data = 0.3 * x_data + 0.1\n",
    "\n",
    "##creat parameters\n",
    "with tf.name_scope('parameters'):\n",
    "    with tf.name_scope('weights'):\n",
    "        weight = tf.Variable(tf.random_uniform([1], -1.0, 1.0))\n",
    "        tf.summary.histogram('weight', weight)\n",
    "    with tf.name_scope('biases'):\n",
    "        bias = tf.Variable(tf.zeros([1]))\n",
    "        tf.summary.histogram('bias', bias)\n",
    "        \n",
    "##get y_prediction\n",
    "with tf.name_scope('y_prediction'):\n",
    "    y_prediction = weight * x_data + bias\n",
    "    \n",
    "##compute the loss\n",
    "with tf.name_scope('loss'):\n",
    "    #  均方误差mean squareerror\n",
    "    loss = tf.reduce_mean(tf.square(y_data - y_prediction))  # square对a里的每一个元素求平方\n",
    "    tf.summary.scalar('loss', loss)\n",
    "    \n",
    "##creat optimizer\n",
    "optimizer = tf.train.GradientDescentOptimizer(0.5)\n",
    "# creat train ,minimize the loss\n",
    "with tf.name_scope('train'):\n",
    "    train = optimizer.minimize(loss)\n",
    "# creat init\n",
    "with tf.name_scope('init'):\n",
    "    init = tf.global_variables_initializer()"
   ]
  },
  {
   "cell_type": "code",
   "execution_count": 3,
   "metadata": {},
   "outputs": [],
   "source": [
    "##creat a Session\n",
    "sess = tf.Session()\n",
    "# merged\n",
    "merged = tf.summary.merge_all()\n",
    "##initialize\n",
    "writer = tf.summary.FileWriter(\"logs/\", sess.graph)\n",
    "sess.run(init)\n",
    "## Loop\n",
    "for step in range(101):\n",
    "    sess.run(train)\n",
    "    rs = sess.run(merged)\n",
    "    writer.add_summary(rs, step)"
   ]
  },
  {
   "cell_type": "markdown",
   "metadata": {},
   "source": [
    "### 计算图可视化\n",
    "\n",
    "- tf.train.write_graph\n",
    "Tensorflow也可以存储计算图，调用tf.train.write_graph（）方法可以把图定义存储下来。\n",
    "也可以在TesnsorBoard中展示该图。\n",
    "\n",
    "- tf.placeholder(dtype, shape=None, name=None)\n",
    "此函数可以理解为形参，用于定义过程，在执行的时候再赋具体的值"
   ]
  },
  {
   "cell_type": "code",
   "execution_count": null,
   "metadata": {},
   "outputs": [],
   "source": [
    "#设置两个乘数，用占位符表示\n",
    "input1 = tf.placeholder(tf.float32)\n",
    "input2 = tf.placeholder(tf.float32)\n",
    "#设置乘积\n",
    "output1 = tf.multiply(input1, input2)\n",
    "output2 = input1 - input2\n",
    "with tf.Session() as sess:\n",
    "  #用feed_dict以字典的方式填充占位\n",
    "    print(sess.run([output1,output2], feed_dict={input1:[8.],input2:[2.]}))\n",
    "    \n",
    "#加上这行代码，就可以可视化。指定文件的路径，没有会自动生成。指定数据源：计算图\n",
    "#将计算图上面的数据写入events文件里面，tensorboard可以同时从events文件里面读取数据并显示在web端\n",
    "writer=tf.summary.FileWriter('./first_graph',sess.graph)\n",
    "writer.flush()\n",
    "writer.close()\n",
    "sess.close()"
   ]
  }
 ],
 "metadata": {
  "kernelspec": {
   "display_name": "Python 3",
   "language": "python",
   "name": "python3"
  },
  "language_info": {
   "codemirror_mode": {
    "name": "ipython",
    "version": 3
   },
   "file_extension": ".py",
   "mimetype": "text/x-python",
   "name": "python",
   "nbconvert_exporter": "python",
   "pygments_lexer": "ipython3",
   "version": "3.6.5"
  }
 },
 "nbformat": 4,
 "nbformat_minor": 2
}
