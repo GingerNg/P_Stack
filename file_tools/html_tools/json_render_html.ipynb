{
 "nbformat": 4,
 "nbformat_minor": 2,
 "metadata": {
  "language_info": {
   "name": "python",
   "codemirror_mode": {
    "name": "ipython",
    "version": 3
   },
   "version": "3.6.9-final"
  },
  "orig_nbformat": 2,
  "file_extension": ".py",
  "mimetype": "text/x-python",
  "name": "python",
  "npconvert_exporter": "python",
  "pygments_lexer": "ipython3",
  "version": 3,
  "kernelspec": {
   "name": "python36964bitb377107951a642b890c3e40487126bca",
   "display_name": "Python 3.6.9 64-bit"
  }
 },
 "cells": [
  {
   "cell_type": "code",
   "execution_count": 66,
   "metadata": {},
   "outputs": [
    {
     "output_type": "stream",
     "name": "stdout",
     "text": "0 1\n1 2\n2 3\n"
    }
   ],
   "source": [
    "ass = [1,2,3]\n",
    "for i,a in enumerate(ass):\n",
    "    print(i,a)"
   ]
  },
  {
   "cell_type": "code",
   "execution_count": 18,
   "metadata": {},
   "outputs": [
    {
     "output_type": "execute_result",
     "data": {
      "text/plain": "False"
     },
     "metadata": {},
     "execution_count": 18
    }
   ],
   "source": [
    "1 == \"1\""
   ]
  },
  {
   "cell_type": "code",
   "execution_count": null,
   "metadata": {},
   "outputs": [],
   "source": []
  },
  {
   "cell_type": "code",
   "execution_count": 28,
   "metadata": {},
   "outputs": [],
   "source": [
    "def render_table(item):\n",
    "    x_list = item[\"x_list\"]\n",
    "    table_frame = item[\"table_frame\"]\n",
    "    t_width = (max(x_list) - min(x_list)) * 1.5\n",
    "    html = '<table style=\"width: %spx\">' % t_width\n",
    "    for tr in table_frame:\n",
    "        html += \"<tr>\"\n",
    "        for td in tr:\n",
    "            html += '<td rowspan=\"%s\"  style=\"width:%spx\">%s</td>' % (td[\"rowspan\"], td[\"x1\"]-td[\"x0\"],\"\".join(td[\"text\"]))\n",
    "        html += \"</tr>\"\n",
    "    html += \"</table>\"\n",
    "    return html"
   ]
  },
  {
   "cell_type": "code",
   "execution_count": 29,
   "metadata": {},
   "outputs": [],
   "source": [
    "import json"
   ]
  },
  {
   "cell_type": "code",
   "execution_count": 30,
   "metadata": {},
   "outputs": [
    {
     "output_type": "execute_result",
     "data": {
      "text/plain": "{'page_height': 841.9,\n 'cut_x': -1,\n 'page': 6,\n 'blocks': [{'type': 'single',\n   'fragments': [{'type': 'he',\n     'column': '',\n     'text': '中国兵器工业集团有限公司公司债券年度报告（2018年）'},\n    {'type': 'p', 'column': '', 'text': '释义'},\n    {'x_list': [84.45, 238.7, 267.05, 506.9],\n     'type': 't',\n     'column': '',\n     'table_frame': [[{'colspan': 1,\n        'text': ['兵器集团', '/', '本公司', '/', '公司'],\n        'x1': 238.7,\n        'rowspan': 1,\n        'need_remove': False,\n        'y1': 694.305,\n        'y0': 680.438,\n        'x0': 84.45},\n       {'colspan': 1,\n        'text': ['指'],\n        'x1': 267.05,\n        'rowspan': 1,\n        'need_remove': False,\n        'y1': 694.305,\n        'y0': 680.438,\n        'x0': 238.7},\n       {'colspan': 1,\n        'text': ['中国兵器工业集团有限公司'],\n        'x1': 506.9,\n        'rowspan': 1,\n        'need_remove': False,\n        'y1': 694.305,\n        'y0': 680.438,\n        'x0': 267.05}],\n      [{'colspan': 1,\n        'text': ['国资委'],\n        'x1': 238.7,\n        'rowspan': 1,\n        'need_remove': False,\n        'y1': 680.438,\n        'y0': 666.571,\n        'x0': 84.45},\n       {'colspan': 1,\n        'text': ['指'],\n        'x1': 267.05,\n        'rowspan': 1,\n        'need_remove': False,\n        'y1': 680.438,\n        'y0': 666.571,\n        'x0': 238.7},\n       {'colspan': 1,\n        'text': ['国务院国有资产监督管理委员会'],\n        'x1': 506.9,\n        'rowspan': 1,\n        'need_remove': False,\n        'y1': 680.438,\n        'y0': 666.571,\n        'x0': 267.05}],\n      [{'colspan': 1,\n        'text': ['中国证监会'],\n        'x1': 238.7,\n        'rowspan': 1,\n        'need_remove': False,\n        'y1': 666.571,\n        'y0': 652.204,\n        'x0': 84.45},\n       {'colspan': 1,\n        'text': ['指'],\n        'x1': 267.05,\n        'rowspan': 1,\n        'need_remove': False,\n        'y1': 666.571,\n        'y0': 652.204,\n        'x0': 238.7},\n       {'colspan': 1,\n        'text': ['中国证券监督管理委员会'],\n        'x1': 506.9,\n        'rowspan': 1,\n        'need_remove': False,\n        'y1': 666.571,\n        'y0': 652.204,\n        'x0': 267.05}],\n      [{'colspan': 1,\n        'text': ['上交所'],\n        'x1': 238.7,\n        'rowspan': 1,\n        'need_remove': False,\n        'y1': 652.204,\n        'y0': 638.087,\n        'x0': 84.45},\n       {'colspan': 1,\n        'text': ['指'],\n        'x1': 267.05,\n        'rowspan': 1,\n        'need_remove': False,\n        'y1': 652.204,\n        'y0': 638.087,\n        'x0': 238.7},\n       {'colspan': 1,\n        'text': ['上海证券交易所'],\n        'x1': 506.9,\n        'rowspan': 1,\n        'need_remove': False,\n        'y1': 652.204,\n        'y0': 638.087,\n        'x0': 267.05}],\n      [{'colspan': 1,\n        'text': ['受托管理人、中信证券'],\n        'x1': 238.7,\n        'rowspan': 1,\n        'need_remove': False,\n        'y1': 638.087,\n        'y0': 624.22,\n        'x0': 84.45},\n       {'colspan': 1,\n        'text': ['指'],\n        'x1': 267.05,\n        'rowspan': 1,\n        'need_remove': False,\n        'y1': 638.087,\n        'y0': 624.22,\n        'x0': 238.7},\n       {'colspan': 1,\n        'text': ['中信证券股份有限公司'],\n        'x1': 506.9,\n        'rowspan': 1,\n        'need_remove': False,\n        'y1': 638.087,\n        'y0': 624.22,\n        'x0': 267.05}],\n      [{'colspan': 1,\n        'text': ['资信评级机构、中诚信证评'],\n        'x1': 238.7,\n        'rowspan': 1,\n        'need_remove': False,\n        'y1': 624.22,\n        'y0': 610.103,\n        'x0': 84.45},\n       {'colspan': 1,\n        'text': ['指'],\n        'x1': 267.05,\n        'rowspan': 1,\n        'need_remove': False,\n        'y1': 624.22,\n        'y0': 610.103,\n        'x0': 238.7},\n       {'colspan': 1,\n        'text': ['中诚信证券评估有限公司'],\n        'x1': 506.9,\n        'rowspan': 1,\n        'need_remove': False,\n        'y1': 624.22,\n        'y0': 610.103,\n        'x0': 267.05}],\n      [{'colspan': 1,\n        'text': ['登记机构、托管机构、结算机', '构'],\n        'x1': 238.7,\n        'rowspan': 1,\n        'need_remove': False,\n        'y1': 610.103,\n        'y0': 582.369,\n        'x0': 84.45},\n       {'colspan': 1,\n        'text': ['指'],\n        'x1': 267.05,\n        'rowspan': 1,\n        'need_remove': False,\n        'y1': 610.103,\n        'y0': 582.369,\n        'x0': 238.7},\n       {'colspan': 1,\n        'text': ['中国证券登记结算有限责任公司上海分公司'],\n        'x1': 506.9,\n        'rowspan': 1,\n        'need_remove': False,\n        'y1': 610.103,\n        'y0': 582.369,\n        'x0': 267.05}],\n      [{'colspan': 1,\n        'text': ['本报告、年度报告'],\n        'x1': 238.7,\n        'rowspan': 1,\n        'need_remove': False,\n        'y1': 582.369,\n        'y0': 540.518,\n        'x0': 84.45},\n       {'colspan': 1,\n        'text': ['指'],\n        'x1': 267.05,\n        'rowspan': 1,\n        'need_remove': False,\n        'y1': 582.369,\n        'y0': 540.518,\n        'x0': 238.7},\n       {'colspan': 1,\n        'text': ['本公司根据有关法律、法规要求，定期披露的《中',\n         '国兵器工业集团有限公司公司债券',\n         '2018',\n         '年年度报',\n         '告》'],\n        'x1': 506.9,\n        'rowspan': 1,\n        'need_remove': False,\n        'y1': 582.369,\n        'y0': 540.518,\n        'x0': 267.05}],\n      [{'colspan': 1,\n        'text': ['公司章程'],\n        'x1': 238.7,\n        'rowspan': 1,\n        'need_remove': False,\n        'y1': 540.518,\n        'y0': 526.401,\n        'x0': 84.45},\n       {'colspan': 1,\n        'text': ['指'],\n        'x1': 267.05,\n        'rowspan': 1,\n        'need_remove': False,\n        'y1': 540.518,\n        'y0': 526.401,\n        'x0': 238.7},\n       {'colspan': 1,\n        'text': ['《中国兵器工业集团有限公司公司章程》'],\n        'x1': 506.9,\n        'rowspan': 1,\n        'need_remove': False,\n        'y1': 540.518,\n        'y0': 526.401,\n        'x0': 267.05}],\n      [{'colspan': 1,\n        'text': ['《证券法》'],\n        'x1': 238.7,\n        'rowspan': 1,\n        'need_remove': False,\n        'y1': 526.401,\n        'y0': 512.784,\n        'x0': 84.45},\n       {'colspan': 1,\n        'text': ['指'],\n        'x1': 267.05,\n        'rowspan': 1,\n        'need_remove': False,\n        'y1': 526.401,\n        'y0': 512.784,\n        'x0': 238.7},\n       {'colspan': 1,\n        'text': ['《中华人民共和国证券法》'],\n        'x1': 506.9,\n        'rowspan': 1,\n        'need_remove': False,\n        'y1': 526.401,\n        'y0': 512.784,\n        'x0': 267.05}],\n      [{'colspan': 1,\n        'text': ['《管理办法》'],\n        'x1': 238.7,\n        'rowspan': 1,\n        'need_remove': False,\n        'y1': 512.784,\n        'y0': 498.167,\n        'x0': 84.45},\n       {'colspan': 1,\n        'text': ['指'],\n        'x1': 267.05,\n        'rowspan': 1,\n        'need_remove': False,\n        'y1': 512.784,\n        'y0': 498.167,\n        'x0': 238.7},\n       {'colspan': 1,\n        'text': ['《公司债券发行与交易管理办法》'],\n        'x1': 506.9,\n        'rowspan': 1,\n        'need_remove': False,\n        'y1': 512.784,\n        'y0': 498.167,\n        'x0': 267.05}],\n      [{'colspan': 1,\n        'text': ['报告期'],\n        'x1': 238.7,\n        'rowspan': 1,\n        'need_remove': False,\n        'y1': 498.167,\n        'y0': 484.55,\n        'x0': 84.45},\n       {'colspan': 1,\n        'text': ['指'],\n        'x1': 267.05,\n        'rowspan': 1,\n        'need_remove': False,\n        'y1': 498.167,\n        'y0': 484.55,\n        'x0': 238.7},\n       {'colspan': 1,\n        'text': ['2018', '年', '1-12', '月'],\n        'x1': 506.9,\n        'rowspan': 1,\n        'need_remove': False,\n        'y1': 498.167,\n        'y0': 484.55,\n        'x0': 267.05}]],\n     'text': \"<table><tr><td width='36.513196828026985%' colspan='1' rowspan='1'>兵器集团/本公司/公司</td><td width='6.710853355426683%' colspan='1' rowspan='1'>指</td><td colspan='1' rowspan='1'>中国兵器工业集团有限公司</td></tr><tr><td colspan='1' rowspan='1'>国资委</td><td colspan='1' rowspan='1'>指</td><td colspan='1' rowspan='1'>国务院国有资产监督管理委员会</td></tr><tr><td colspan='1' rowspan='1'>中国证监会</td><td colspan='1' rowspan='1'>指</td><td colspan='1' rowspan='1'>中国证券监督管理委员会</td></tr><tr><td colspan='1' rowspan='1'>上交所</td><td colspan='1' rowspan='1'>指</td><td colspan='1' rowspan='1'>上海证券交易所</td></tr><tr><td colspan='1' rowspan='1'>受托管理人、中信证券</td><td colspan='1' rowspan='1'>指</td><td colspan='1' rowspan='1'>中信证券股份有限公司</td></tr><tr><td colspan='1' rowspan='1'>资信评级机构、中诚信证评</td><td colspan='1' rowspan='1'>指</td><td colspan='1' rowspan='1'>中诚信证券评估有限公司</td></tr><tr><td colspan='1' rowspan='1'>登记机构、托管机构、结算机构</td><td colspan='1' rowspan='1'>指</td><td colspan='1' rowspan='1'>中国证券登记结算有限责任公司上海分公司</td></tr><tr><td colspan='1' rowspan='1'>本报告、年度报告</td><td colspan='1' rowspan='1'>指</td><td colspan='1' rowspan='1'>本公司根据有关法律、法规要求，定期披露的《中国兵器工业集团有限公司公司债券2018年年度报告》</td></tr><tr><td colspan='1' rowspan='1'>公司章程</td><td colspan='1' rowspan='1'>指</td><td colspan='1' rowspan='1'>《中国兵器工业集团有限公司公司章程》</td></tr><tr><td colspan='1' rowspan='1'>《证券法》</td><td colspan='1' rowspan='1'>指</td><td colspan='1' rowspan='1'>《中华人民共和国证券法》</td></tr><tr><td colspan='1' rowspan='1'>《管理办法》</td><td colspan='1' rowspan='1'>指</td><td colspan='1' rowspan='1'>《公司债券发行与交易管理办法》</td></tr><tr><td colspan='1' rowspan='1'>报告期</td><td colspan='1' rowspan='1'>指</td><td colspan='1' rowspan='1'>2018年1-12月</td></tr></table>\"},\n    {'type': 'g', 'column': '', 'text': '7'}]}],\n 'page_width': 595.3}"
     },
     "metadata": {},
     "execution_count": 30
    }
   ],
   "source": [
    "d_json = json.load(open(\"./cases/data.json\",\"r\"))\n",
    "p_json = d_json[\"pages\"][6:10]\n",
    "p_json[0]"
   ]
  },
  {
   "cell_type": "code",
   "execution_count": 31,
   "metadata": {},
   "outputs": [],
   "source": [
    "def cascade_frags(p_json):\n",
    "    fs = []\n",
    "    for b in p_json[\"blocks\"]:\n",
    "        fs += b[\"fragments\"]\n",
    "    return fs\n",
    "\n",
    "# for p_json in d_json[\"pages\"]:\n",
    "#     # print(p_json)\n",
    "#     fragments = cascade_frags(p_json)\n",
    ""
   ]
  },
  {
   "cell_type": "code",
   "execution_count": 37,
   "metadata": {},
   "outputs": [],
   "source": [
    "# <table><tr><td...</tr></table>\n",
    "\n",
    "# <table style=\"width: 639.4px\">"
   ]
  },
  {
   "cell_type": "code",
   "execution_count": 33,
   "metadata": {},
   "outputs": [],
   "source": [
    "def render(items):\n",
    "    \"\"\"\n",
    "    items\n",
    "    \"\"\"\n",
    "    html = ''\n",
    "    for item in items:\n",
    "        # html += '<li>'\n",
    "        # if item[\"type\"] == \"he\"\n",
    "        if item[\"type\"] in [\"p\",\"h1\",\"h2\",\"h3\"]:\n",
    "            html += '<{}>{}</{}>'.format(item[\"type\"], item[\"text\"], item[\"type\"])\n",
    "        elif item[\"type\"] in [\"t\"]:\n",
    "            html += render_table(item)\n",
    "            # x_list = item[\"x_list\"]\n",
    "            # t_width = max(x_list) - min(x_list)\n",
    "            # html += '<table style=\"width: %spx\">' % t_width\n",
    "            # html += '{}'.format(item[\"text\"][7:])\n",
    "        elif item[\"type\"] == \"i\":\n",
    "            html += '<{}>{}</{}>'.format('div class=\"image-area\"', item[\"text\"], ' div') \n",
    "        # html += '</li>'\n",
    "    # html += '</ul>'\n",
    "    return html\n",
    "# render([{\"ul\":\"121\"},{\"ul\":\"343\"}])"
   ]
  },
  {
   "cell_type": "code",
   "execution_count": 34,
   "metadata": {},
   "outputs": [],
   "source": [
    "def html_page(fragments):\n",
    "    \"\"\"\n",
    "    对一页内容进行渲染\n",
    "    [{'type': 'he', 'column': '', 'text': 'A0'},\n",
    "    {'type': 'p', 'column': '', 'text': '重要提示'}]\n",
    "    \"\"\"\n",
    "    html = '<section page=\"1\">'\n",
    "    # for f in fragments:\n",
    "    html += render(fragments)\n",
    "    html += '</section>'\n",
    "    return html\n",
    "sample = [{'type': 'he', 'column': '', 'text': 'A0'},\n",
    "    {'type': 'p', 'column': '', 'text': '重要提示'}]\n",
    "# html_page(fs)"
   ]
  },
  {
   "cell_type": "code",
   "execution_count": 35,
   "metadata": {},
   "outputs": [],
   "source": [
    "TEMPLATE_HEAD = \"\"\"\n",
    "<!DOCTYPE html>\n",
    "<html lang=\"en\">\n",
    "<head>\n",
    "    <meta charset=\"UTF-8\">\n",
    "    <title>测试PDF</title>\n",
    "    <meta name=\"viewport\" content=\"width=device-width, initial-scale=1\">\n",
    "    <style>\n",
    "\n",
    "        body {background-color: #fafafa;min-width: 350px;padding: 4px;margin: 0px}\n",
    "        p {text-indent:2rem;}\n",
    "        h1.title {font-size: 1.5rem;text-align:center;}\n",
    "        h1 {font-size: 1.33rem}h2 {font-size: 1.17rem}\n",
    "        h3, h4, h5, h6 {font-size: 1.0rem}\n",
    "        section {display: block; width:100%; margin: 4px 0; padding: 4px; background-color: #ffffff;}\n",
    "        table {border-collapse: collapse;display: inline-block;table-layout:fixed;}\n",
    "        th, td {border: 1px solid black;word-wrap:break-word;word-break:break-all;}\n",
    "        table tr:nth-child(odd) {background-color:#f5f5f5;}\n",
    "        table tr:nth-child(even) {background-color:#ffffff;}\n",
    "        header, footer {color: #bfbfbf;}\n",
    "        div.table-container, div.image-area{width:100%;overflow: hidden;overflow-x: auto;}\n",
    "        .toc{width:100%;white-space: nowrap;overflow: hidden;overflow-x: auto;}\n",
    "        .toc-entry{text-indent:0rem;}\n",
    "    </style>\n",
    "</head>\n",
    "<body>\n",
    "\"\"\"\n",
    "\n",
    "\n",
    "TEMPLATE_FOOT = \"\"\"\n",
    "</body>\n",
    "</html>\n",
    "\"\"\""
   ]
  },
  {
   "cell_type": "code",
   "execution_count": 36,
   "metadata": {},
   "outputs": [
    {
     "output_type": "execute_result",
     "data": {
      "text/plain": "145293"
     },
     "metadata": {},
     "execution_count": 36
    }
   ],
   "source": [
    "def render_pdf(d_json):\n",
    "    html = TEMPLATE_HEAD\n",
    "    for p_json in d_json[\"pages\"]:\n",
    "        # print(p_json)\n",
    "        fragments = cascade_frags(p_json)\n",
    "        html += html_page(fragments)\n",
    "    html += TEMPLATE_FOOT\n",
    "    return html\n",
    "\n",
    "open(\"./res.html\",\"w\").write(render_pdf(d_json))"
   ]
  },
  {
   "cell_type": "code",
   "execution_count": null,
   "metadata": {},
   "outputs": [],
   "source": []
  }
 ]
}