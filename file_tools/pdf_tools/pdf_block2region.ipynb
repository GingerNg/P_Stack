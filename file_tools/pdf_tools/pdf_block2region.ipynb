{
 "nbformat": 4,
 "nbformat_minor": 2,
 "metadata": {
  "language_info": {
   "name": "python",
   "codemirror_mode": {
    "name": "ipython",
    "version": 3
   },
   "version": "3.6.9-final"
  },
  "orig_nbformat": 2,
  "file_extension": ".py",
  "mimetype": "text/x-python",
  "name": "python",
  "npconvert_exporter": "python",
  "pygments_lexer": "ipython3",
  "version": 3,
  "kernelspec": {
   "name": "python36964bitb377107951a642b890c3e40487126bca",
   "display_name": "Python 3.6.9 64-bit"
  }
 },
 "cells": [
  {
   "cell_type": "code",
   "execution_count": 1,
   "metadata": {},
   "outputs": [
    {
     "output_type": "execute_result",
     "data": {
      "text/plain": "40"
     },
     "metadata": {},
     "execution_count": 1
    }
   ],
   "source": [
    "len(\"149号）（以下简称“《科创板网下投资者管理细则》”）等相关规定组织实施首次公开\")"
   ]
  },
  {
   "cell_type": "code",
   "execution_count": null,
   "metadata": {},
   "outputs": [],
   "source": [
    "import os\n",
    "import fitz \n",
    "# file_name = \"比音勒芬.PDF\"\n",
    "# file_name = \"天科股份2017年年度报告摘要.pdf\"\n",
    "# file_name = \"年度报告多页.pdf\"\n",
    "# file_name = \"深圳广田集团股份有限公司 2018 年年度报告摘要.PDF\"\n",
    "file_name = \"20190713_国泰君安_宏观周报_ 信用流向地产和基建，制造业内外交困_花长春 韩旭 董琦 赵格格.pdf\"\n",
    "# file_name = \"房地产行业：佛山放松人才购房政策，龙头房企11月销售成色不减－周报-东北证券191202.pdf\"\n",
    "# file_name = \"页面提取自－中行.pdf\"\n",
    "# file_name = \"爱仕达：2018年第三季度报告正文.pdf\"\n",
    "# file_name = \"碧水源(300070)我们真正缺少的是干净水,新水源开发破解缺水难题.pdf\"\n",
    "full_path = os.getcwd()+\"/pdfs/\"+file_name\n",
    "\n",
    "doc = fitz.open(full_path)"
   ]
  },
  {
   "cell_type": "code",
   "execution_count": 3,
   "metadata": {},
   "outputs": [
    {
     "output_type": "execute_result",
     "data": {
      "text/plain": "13"
     },
     "metadata": {},
     "execution_count": 3
    }
   ],
   "source": [
    "doc.pageCount"
   ]
  },
  {
   "cell_type": "code",
   "execution_count": 4,
   "metadata": {},
   "outputs": [],
   "source": [
    "page = doc[0] # 选择page"
   ]
  },
  {
   "cell_type": "code",
   "execution_count": 7,
   "metadata": {},
   "outputs": [
    {
     "output_type": "execute_result",
     "data": {
      "text/plain": "Rect(0.0, 0.0, 595.3200073242188, 841.9199829101562)"
     },
     "metadata": {},
     "execution_count": 7
    }
   ],
   "source": [
    "page.rect  # (Decimal('0'), Decimal('0'), Decimal('595.320'), Decimal('842.040'))"
   ]
  },
  {
   "cell_type": "markdown",
   "metadata": {},
   "source": [
    "#### 将fitz生成的多个block进行合并，形成多个region\n",
    "- 图片\n",
    "- 表格\n",
    "- 内容\n",
    "- 页眉/页脚"
   ]
  },
  {
   "cell_type": "code",
   "execution_count": 12,
   "metadata": {},
   "outputs": [],
   "source": [
    "class Block(object):\n",
    "    def __init__(self,left_down,right_up, text):\n",
    "        \"\"\"left_down = [],right_up = []\"\"\"\n",
    "        self.left_down = left_down\n",
    "        self.right_up = right_up\n",
    "        self.text = text\n",
    "\n",
    "    def get_center(self):\n",
    "        \"\"\"\"计算block的中心坐标\"\"\"\n",
    "        return [(self.left_down[0]+self.right_up[0])/2,(self.left_down[1]+self.right_up[1])/2]\n",
    "\n",
    "    def get_width(self):\n",
    "        return abs(self.left_down[0]-self.right_up[0])\n",
    "    \n",
    "    def get_height(self):\n",
    "        return abs(self.left_down[1]-self.right_up[1])"
   ]
  },
  {
   "cell_type": "code",
   "execution_count": 13,
   "metadata": {},
   "outputs": [],
   "source": [
    "\"\"\"\n",
    "矩形的坐标（左下角，右上角）\n",
    "设置 x_Threshold,y_Threshold\n",
    "\"\"\"\n",
    "class Region(Block):\n",
    "    \"\"\"多个block聚合形成的\"\"\"\n",
    "    def __init__(self,left_down,right_up):\n",
    "        \"\"\"left_down = [],right_up = []\"\"\"\n",
    "        self.left_down = left_down\n",
    "        self.right_up = right_up\n",
    "        self.texts = []\n",
    "\n",
    "    def cal_dist(self,block_center):\n",
    "        cluster_center = self.get_center()\n",
    "        x_d = abs(cluster_center[0] - block_center[0])\n",
    "        y_d = abs(cluster_center[1] - block_center[1])\n",
    "        return [x_d,y_d]\n",
    "\n",
    "    def add_block(self,block):\n",
    "        \"\"\"region和block组合新的region\"\"\"\n",
    "        self.left_down = [min(block.left_down[0],self.left_down[0]),min(block.left_down[1],self.left_down[1])]\n",
    "        self.right_up = [max(block.right_up[0],self.right_up[0]),max(block.right_up[1],self.right_up[1])]\n",
    "        self.texts.append(block.text)"
   ]
  },
  {
   "cell_type": "code",
   "execution_count": 3,
   "metadata": {},
   "outputs": [
    {
     "output_type": "execute_result",
     "data": {
      "text/plain": "[(455.5,\n  48.683956146240234,\n  544.2999877929688,\n  61.148956298828125,\n  '日报/周报/双周报/月报',\n  0,\n  0),\n (86.90399932861328,\n  801.4829711914062,\n  514.719970703125,\n  813.4889526367188,\n  '请务必阅读正文之后的免责条款部分                                                         3 of 13',\n  1,\n  0),\n (51.04999923706055,\n  34.75,\n  210.8000030517578,\n  58.75,\n  '<image: Indexed(255,DeviceRGB), width 213, height 32, bpc 8>',\n  2,\n  1),\n (177.02000427246094,\n  68.50221252441406,\n  549.3870849609375,\n  87.94761657714844,\n  '1. 本周焦点：信用仍然流向地产和基建，制造业内外交困，',\n  3,\n  0),\n (177.02000427246094,\n  102.31437683105469,\n  331.57232666015625,\n  116.35437774658203,\n  '定向降准、降息需求增大',\n  4,\n  0),\n (177.02000427246094,\n  128.55531311035156,\n  544.4141845703125,\n  187.86500549316406,\n  '6 月份数据已经公布了金融、通胀和外贸数据，这些数据对下周一即将公布的二\\n季度数据有何指导性意义呢？综合来看，信用仍然在流向地产和基建部门，而制\\n造业则面临内外交困的境地：内部压力主要是信用和信心问题，外部则主要是外\\n需不振，叠加美国关税压力。',\n  5,\n  0),\n (177.02000427246094,\n  212.7953643798828,\n  549.5133666992188,\n  303.3349609375,\n  '6 月份的社融明显因信托、专项债大量增加而反弹，表明社会信用仍然通过信托、\\n专项债去向地产和基建，但问题是银行信贷——尤其是企业信贷——较去年同期\\n下降。此次表外融资同比多增 6100 多亿，主要因为信托。与此相呼应的是，虽\\n然新增信贷总量减少，但居民部门仍然同比增长 500 多亿。另外，专项债 6 月也\\n发力，同比增量达 2560 亿，为自 2018 年 10 月以来的新高。而贷款（尤其是企\\n业贷款）和直接融资这两个与企业资金较为相关的两项同比增量均为负数。',\n  6,\n  0),\n (198.2899932861328,\n  328.2653503417969,\n  498.781494140625,\n  342.89093017578125,\n  '图 1：6 月社融数据同比改善主要靠表外和专项债，贷款同比为负',\n  7,\n  0),\n (192.52999877929688,\n  564.1539916992188,\n  340.3340148925781,\n  576.6189575195312,\n  '资料来源：Wind，国泰君安证券研究',\n  8,\n  0),\n (177.02000427246094,\n  599.5149536132812,\n  544.5446166992188,\n  719.3049926757812,\n  '除了国内信用给制造业企业带来压力外，外需不振，叠加美国加征关税，也给制\\n造业带来明显压力。出口增速转负，主因对美欧等发达经济体的出口增速下行明\\n显，发达经济体需求回落和贸易冲突负面影响持续发酵。按产品来看，纺织、服\\n装等劳动密集型产品增速回落 2.8 个点，高新技术、机电等技术密集型产品出口\\n较 5 月同比降低 4.5、2 个百分点。分国别看，中国对美国、欧盟口增速分别回落\\n3.6、9 个百分点至-7.8%和-3.0%。整个二季度来看，中国对美出口与一季度基本\\n持平，维持在-8%左右增速，后续短期来看中美贸易谈判仍将持续，对美出口仍\\n将受当前关税政策影响，包括相关产业转移也将承受压力。',\n  9,\n  0),\n (177.02000427246094,\n  745.8458251953125,\n  549.5692138671875,\n  789.42333984375,\n  '不过，有意思的是，对比中国出口到美国和东南亚，当下似乎存在“转口贸易”，\\n这也在一定程度上缓解美国关税给中国制造业的压力。6 月中国对韩日小幅回升，\\n对东盟出口增速大幅提升 9 个点至 12.9%（图 2）。在美国加征关税后，部分中国',\n  10,\n  0),\n (198.1999969482422,\n  347.04998779296875,\n  537.0999755859375,\n  558.7999877929688,\n  '<image: DeviceRGB, width 873, height 543, bpc 8>',\n  11,\n  1),\n (100.0,\n  9.88873291015625,\n  331.0,\n  23.88873291015625,\n  '国泰君安版权所有发送给：李卓轩 p3',\n  12,\n  0),\n (99.39232635498047,\n  729.64501953125,\n  111.76670837402344,\n  742.0194091796875,\n  '国泰君安版权所有发送给：李卓轩 p3',\n  13,\n  0)]"
     },
     "metadata": {},
     "execution_count": 3
    }
   ],
   "source": [
    "page0 = doc[2] # 选择page\n",
    "fitz_blocks = fitz.utils.getTextBlocks(page0, images=True)\n",
    "fitz_blocks"
   ]
  },
  {
   "cell_type": "code",
   "execution_count": 226,
   "metadata": {},
   "outputs": [
    {
     "data": {
      "text/plain": "page 5 of /home/ginger/Projects/Learning/P_Stack/file_tools/pdf_tools/pdfs/pdf_catas/20190713_国泰君安_宏观周报_ 信用流向地产和基建，制造业内外交困_花长春 韩旭 董琦 赵格格.pdf"
     },
     "execution_count": 226,
     "metadata": {},
     "output_type": "execute_result"
    }
   ],
   "source": [
    "page0"
   ]
  },
  {
   "cell_type": "code",
   "execution_count": 227,
   "metadata": {},
   "outputs": [],
   "source": [
    "# fitz_blocks"
   ]
  },
  {
   "cell_type": "code",
   "execution_count": 228,
   "metadata": {},
   "outputs": [],
   "source": [
    "blocks = fitz_blocks\n",
    "# blocks[0]"
   ]
  },
  {
   "cell_type": "code",
   "execution_count": 229,
   "metadata": {},
   "outputs": [],
   "source": [
    "block_objs = []\n",
    "\n",
    "for block in blocks:\n",
    "    block_objs.append(Block([block[0],block[1]],[block[2],block[3]],block[4]))\n",
    "blocks = block_objs"
   ]
  },
  {
   "cell_type": "code",
   "execution_count": 230,
   "metadata": {},
   "outputs": [],
   "source": [
    "# def draw_rect_on_page(blocks):\n"
   ]
  },
  {
   "cell_type": "code",
   "execution_count": 231,
   "metadata": {},
   "outputs": [],
   "source": [
    "def metric_block_with_regions(block,regions):\n",
    "    \"\"\"度量block和regions\n",
    "    如果block和region满足关系则将block加入该region，\n",
    "    否则，block成为新的regions，并加入新的regions\n",
    "    \"\"\"\n",
    "    nearest = cal_metric(regions=regions,block=block)\n",
    "    # print(nearest)\n",
    "    if nearest:\n",
    "        regions[nearest].add_block(block)\n",
    "    else:\n",
    "        # return regions\n",
    "    # 当前block不加入cluster\n",
    "        region = Region(block.left_down,block.right_up)\n",
    "        region.add_block(block)\n",
    "        regions.append(region)\n",
    "    return regions"
   ]
  },
  {
   "cell_type": "code",
   "execution_count": 232,
   "metadata": {},
   "outputs": [],
   "source": [
    "def cal_metric(regions,block):\n",
    "    block_center = block.get_center() # 计算block的中点\n",
    "    block_width = block.get_width()\n",
    "    block_height = block.get_height()\n",
    "    nearest = None\n",
    "    cur_h_dist = 10000\n",
    "    cur_v_dist = 10000\n",
    "    for i in range(len(regions)):\n",
    "        region = regions[i]\n",
    "        center_dist = region.cal_dist(block_center)\n",
    "        horizontal_dist = center_dist[0]  # 水平距离 边框之间的距离\n",
    "        vertical_dist = center_dist[1] - (region.get_height()/2+block_height/2)  # 垂直距离\n",
    "        # print(horizontal_dist,vertical_dist)\n",
    "        if horizontal_dist < max(region.get_width()/2,block_width/2) and (vertical_dist < 20):\n",
    "        # if True:\n",
    "            if  horizontal_dist <= cur_h_dist and vertical_dist <= cur_v_dist:\n",
    "                cur_h_dist = horizontal_dist\n",
    "                cur_v_dist = vertical_dist\n",
    "                nearest = i\n",
    "    return nearest"
   ]
  },
  {
   "cell_type": "code",
   "execution_count": 233,
   "metadata": {},
   "outputs": [
    {
     "data": {
      "text/plain": "[(8, [9, 7]), (9, [10, 6])]"
     },
     "execution_count": 233,
     "metadata": {},
     "output_type": "execute_result"
    }
   ],
   "source": [
    "d = {9: [10, 6], 8: [9, 7]}\n",
    "sorted(d.items(), key=lambda x :(x[1]))"
   ]
  },
  {
   "cell_type": "code",
   "execution_count": 234,
   "metadata": {},
   "outputs": [
    {
     "data": {
      "text/plain": "[[9, 7], [10, 6]]"
     },
     "execution_count": 234,
     "metadata": {},
     "output_type": "execute_result"
    }
   ],
   "source": [
    "xs = [[10, 6],[9, 7]]\n",
    "sorted(xs, key=lambda x :(x[0], x[1]))"
   ]
  },
  {
   "cell_type": "code",
   "execution_count": 235,
   "metadata": {},
   "outputs": [],
   "source": [
    "# def find_nearest_block(metrics):\n",
    "#     \"\"\"\n",
    "#     寻找最近邻的block\n",
    "#     \"\"\"\n",
    "#     for m in metrics:\n"
   ]
  },
  {
   "cell_type": "code",
   "execution_count": 236,
   "metadata": {},
   "outputs": [
    {
     "name": "stdout",
     "output_type": "stream",
     "text": "[100.0, 9.88873291015625] [331.0, 23.88873291015625]\n[51.04999923706055, 34.75] [210.8000030517578, 58.75]\n[455.5, 48.683956146240234] [544.2999877929688, 61.148956298828125]\n[51.0, 78.75532531738281] [444.3138427734375, 93.38092803955078]\n[321.1070251464844, 100.25543212890625] [325.1996154785156, 105.85711669921875]\n[58.05487823486328, 103.08866119384766] [81.28107452392578, 113.35000610351562]\n[311.15374755859375, 107.40115356445312] [316.3518981933594, 112.55984497070312]\n[311.15374755859375, 122.85151672363281] [316.3518981933594, 128.01022338867188]\n[58.05487823486328, 130.5665283203125] [63.75887680053711, 136.2176971435547]\n[311.15374755859375, 138.29617309570312] [316.3518981933594, 143.45486450195312]\n[58.05487823486328, 153.4530029296875] [63.75887680053711, 159.1041717529297]\n[311.15374755859375, 153.74655151367188] [316.3518981933594, 158.90524291992188]\n[311.15374755859375, 169.19119262695312] [316.3518981933594, 174.34988403320312]\n[58.05487823486328, 176.3394775390625] [63.75887680053711, 181.9906463623047]\n[313.7602233886719, 184.64157104492188] [316.38055419921875, 189.80026245117188]\n[58.05487823486328, 199.2115478515625] [63.75887680053711, 204.8627166748047]\n[309.5640869140625, 200.0867919921875] [316.5013427734375, 205.2454833984375]\n[309.5640869140625, 215.5343017578125] [316.5013427734375, 220.6929931640625]\n[316.6387939453125, 222.23631286621094] [545.7236328125, 227.39500427246094]\n[154.5459747314453, 236.0225067138672] [197.42396545410156, 242.29177856445312]\n[391.82244873046875, 237.634033203125] [479.1992492675781, 243.35696411132812]\n[51.0, 259.85296630859375] [201.5, 271.85894775390625]\n[34.439998626708984, 290.2253723144531] [506.71380615234375, 304.8509521484375]\n[331.4389953613281, 311.935791015625] [546.5776977539062, 317.0007019042969]\n[271.0990905761719, 313.6916809082031] [275.69287109375, 320.65875244140625]\n[39.521114349365234, 319.9014587402344] [48.271697998046875, 326.3339538574219]\n[273.9806823730469, 319.9014587402344] [279.8303527832031, 326.3339538574219]\n[315.9870300292969, 320.66131591796875] [324.3492736816406, 324.8765563964844]\n[555.8839721679688, 320.66131591796875] [564.2155151367188, 324.8765563964844]\n[315.9870300292969, 333.8885803222656] [324.3492736816406, 338.10382080078125]\n[273.9806823730469, 339.7300109863281] [279.8303527832031, 346.1625061035156]\n[39.521114349365234, 343.0299987792969] [48.271697998046875, 349.4624938964844]\n[315.9870300292969, 347.1205139160156] [324.3492736816406, 351.33575439453125]\n[555.8839721679688, 347.1205139160156] [561.4535522460938, 351.33575439453125]\n[273.9806823730469, 359.565673828125] [279.8303527832031, 365.9981689453125]\n[315.9870300292969, 360.3477478027344] [324.3492736816406, 364.56298828125]\n[39.521114349365234, 366.17279052734375] [48.271697998046875, 372.60528564453125]\n[315.9870300292969, 373.5796813964844] [324.3492736816406, 377.794921875]\n[555.8839721679688, 373.5796813964844] [561.4535522460938, 377.794921875]\n[273.9806823730469, 379.3941955566406] [276.929443359375, 385.8266906738281]\n[315.9870300292969, 386.80694580078125] [324.3492736816406, 391.0221862792969]\n[39.521114349365234, 389.3013610839844] [48.271697998046875, 395.7338562011719]\n[273.9806823730469, 399.2298889160156] [281.75836181640625, 405.6623840332031]\n[315.9870300292969, 400.03887939453125] [324.3492736816406, 404.2541198730469]\n[555.8839721679688, 400.03887939453125] [561.4535522460938, 404.2541198730469]\n[39.521114349365234, 412.4512634277344] [48.271697998046875, 418.8837585449219]\n[315.9870300292969, 413.26611328125] [324.3492736816406, 417.4813537597656]\n[273.9806823730469, 419.0598449707031] [281.75836181640625, 425.4923400878906]\n[315.9870300292969, 426.498046875] [324.3492736816406, 430.7132873535156]\n[555.8839721679688, 426.498046875] [558.6915283203125, 430.7132873535156]\n[42.45427703857422, 435.5776672363281] [48.320064544677734, 442.0101623535156]\n[273.9806823730469, 438.8919372558594] [281.75836181640625, 445.3244323730469]\n[315.9870300292969, 439.7276306152344] [324.3492736816406, 443.94287109375]\n[315.9870300292969, 452.95721435546875] [324.3492736816406, 457.1724548339844]\n[555.8839721679688, 452.95721435546875] [563.2892456054688, 457.1724548339844]\n[321.52642822265625, 458.43353271484375] [559.9526977539062, 462.6487731933594]\n[42.45427703857422, 458.7240295410156] [48.320064544677734, 465.1565246582031]\n[273.9806823730469, 458.7240295410156] [281.75836181640625, 465.1565246582031]\n[45.339088439941406, 467.0809631347656] [278.2539978027344, 473.5134582519531]\n[388.6895751953125, 467.1502990722656] [510.4333801269531, 485.931884765625]\n[58.03871154785156, 480.56097412109375] [284.1210021972656, 487.6970520019531]\n[34.439998626708984, 496.87298583984375] [184.94000244140625, 508.87896728515625]\n[178.5800018310547, 541.7019653320312] [330.48199462890625, 558.3219604492188]\n[177.02000427246094, 573.9502563476562] [544.4278564453125, 619.2373657226562]\n[99.39232635498047, 729.64501953125] [111.76670837402344, 742.0194091796875]\n[86.90399932861328, 801.4829711914062] [514.719970703125, 813.4889526367188]\n"
    }
   ],
   "source": [
    "blocks = sorted(blocks, key=lambda x: (x.left_down[1],x.left_down[0]))\n",
    "for b in blocks:\n",
    "    print(b.left_down,b.right_up)"
   ]
  },
  {
   "cell_type": "code",
   "execution_count": 237,
   "metadata": {},
   "outputs": [
    {
     "name": "stdout",
     "output_type": "stream",
     "text": "13\n['国泰君安版权所有发送给：李卓轩 p6']\n['<image: Indexed(255,DeviceRGB), width 213, height 32, bpc 8>']\n['日报/周报/双周报/月报']\n['图 4：7 月高炉开工率小幅下跌 图 5： 7 月日均耗煤同比下降', '%', '76\\n%', '50', '40', '72', '30', '68', '20', '10', '64', '0', '60', '-10', '-20', '2016-07 2017-01 2017-07 2018-01 2018-07 2019-01 2019-07', '高炉开工率:全国', '日均耗煤量:6大发电集团:合计:月:同比', '资料来源：WIND，国泰君安证券研究', '图 6：7 月水泥价格下跌，环比增速略有下降 图 7：7 月动力煤价格上涨，同比增速略有回升', '%\\n元/吨', '%', '180', '30', '800', '750', '20', '160', '700', '10', '650', '140', '600', '0', '550', '120', '-10', '500', '100', '450', '-20', '400', '80', '-30', '350', '300', '60', '-40', '2016-07 2017-01 2017-07 2018-01 2018-07 2019-01 2019-07', '秦皇岛港:平仓价:动力末煤(Q5500):山西产:月\\n秦皇岛港:平仓价:动力末煤(Q5500):山西产:月:环比\\n秦皇岛港:平仓价:动力末煤(Q5500):山西产:月:同比', '水泥价格指数:全国:月 水泥价格指数:全国:月:环比 水泥价格指数:全国:月:同比', '资料来源：WIND，国泰君安证券研究']\n['120']\n['90']\n['60']\n['30']\n['0']\n['-30', '2016-07 2017-01 2017-07 2018-01 2018-07 2019-01 2019-07']\n['2.3.上游：原油价格小幅上升', '7 月以来，原油价格小幅上升。截至 7 月 12 日，英国布伦特原油现货价格为 67.46\\n美元/桶，较 6 月环比上升 0.5%；WTI 现货原油价格环比下降 6.33%至 60.20 美元\\n/桶。']\n['国泰君安版权所有发送给：李卓轩 p6']\n['请务必阅读正文之后的免责条款部分                                                         6 of 13']\n"
    }
   ],
   "source": [
    "Regions = []\n",
    "\n",
    "for block in blocks:\n",
    "    metric_block_with_regions(block,Regions)\n",
    "    # print(Regions)\n",
    "\n",
    "# print(Regions[0].texts)\n",
    "print(len(Regions))\n",
    "for c in Regions:\n",
    "    # if len(c.texts)>1: \n",
    "    print(c.texts)"
   ]
  },
  {
   "cell_type": "code",
   "execution_count": 184,
   "metadata": {},
   "outputs": [
    {
     "ename": "TypeError",
     "evalue": "'Block' object does not support indexing",
     "output_type": "error",
     "traceback": [
      "\u001b[0;31m---------------------------------------------------------------------------\u001b[0m",
      "\u001b[0;31mTypeError\u001b[0m                                 Traceback (most recent call last)",
      "\u001b[0;32m<ipython-input-184-91921ed0861e>\u001b[0m in \u001b[0;36m<module>\u001b[0;34m\u001b[0m\n\u001b[1;32m      2\u001b[0m \u001b[0mcoordinates_y\u001b[0m \u001b[0;34m=\u001b[0m \u001b[0;34m[\u001b[0m\u001b[0;34m]\u001b[0m\u001b[0;34m\u001b[0m\u001b[0;34m\u001b[0m\u001b[0m\n\u001b[1;32m      3\u001b[0m \u001b[0;32mfor\u001b[0m \u001b[0mb\u001b[0m \u001b[0;32min\u001b[0m \u001b[0mblocks\u001b[0m\u001b[0;34m[\u001b[0m\u001b[0;36m1\u001b[0m\u001b[0;34m:\u001b[0m\u001b[0;36m20\u001b[0m\u001b[0;34m]\u001b[0m\u001b[0;34m:\u001b[0m\u001b[0;34m\u001b[0m\u001b[0;34m\u001b[0m\u001b[0m\n\u001b[0;32m----> 4\u001b[0;31m     \u001b[0mcoordinates_x\u001b[0m\u001b[0;34m.\u001b[0m\u001b[0mappend\u001b[0m\u001b[0;34m(\u001b[0m\u001b[0mb\u001b[0m\u001b[0;34m[\u001b[0m\u001b[0;36m0\u001b[0m\u001b[0;34m]\u001b[0m\u001b[0;34m)\u001b[0m\u001b[0;34m\u001b[0m\u001b[0;34m\u001b[0m\u001b[0m\n\u001b[0m\u001b[1;32m      5\u001b[0m     \u001b[0mcoordinates_x\u001b[0m\u001b[0;34m.\u001b[0m\u001b[0mappend\u001b[0m\u001b[0;34m(\u001b[0m\u001b[0mb\u001b[0m\u001b[0;34m[\u001b[0m\u001b[0;36m2\u001b[0m\u001b[0;34m]\u001b[0m\u001b[0;34m)\u001b[0m\u001b[0;34m\u001b[0m\u001b[0;34m\u001b[0m\u001b[0m\n\u001b[1;32m      6\u001b[0m     \u001b[0mcoordinates_y\u001b[0m\u001b[0;34m.\u001b[0m\u001b[0mappend\u001b[0m\u001b[0;34m(\u001b[0m\u001b[0mb\u001b[0m\u001b[0;34m[\u001b[0m\u001b[0;36m1\u001b[0m\u001b[0;34m]\u001b[0m\u001b[0;34m)\u001b[0m\u001b[0;34m\u001b[0m\u001b[0;34m\u001b[0m\u001b[0m\n",
      "\u001b[0;31mTypeError\u001b[0m: 'Block' object does not support indexing"
     ]
    }
   ],
   "source": [
    "coordinates_x = []\n",
    "coordinates_y = []\n",
    "for b in blocks[1:20]:\n",
    "    coordinates_x.append(b[0])\n",
    "    coordinates_x.append(b[2])\n",
    "    coordinates_y.append(b[1])\n",
    "    coordinates_y.append(b[3])\n",
    "\n",
    "\"\"\"\n",
    "左下角 右上角\n",
    "(86.90399932861328,\n",
    "  803.2255859375,\n",
    "  231.4759979248047,\n",
    "  812.2255859375)\n",
    "\"\"\"\n",
    "import matplotlib.pyplot as plt\n",
    "plt.scatter(coordinates_x, coordinates_y)"
   ]
  },
  {
   "cell_type": "code",
   "execution_count": null,
   "metadata": {},
   "outputs": [],
   "source": []
  },
  {
   "cell_type": "code",
   "execution_count": 224,
   "metadata": {},
   "outputs": [],
   "source": [
    "def is_head_or_foot(page_height, char):\n",
    "    \"\"\"\n",
    "    判断是否是页眉页脚\n",
    "    :param page_height: 页面高度\n",
    "    :param char: 需要判断的字符\n",
    "    :return: True or False\n",
    "    \"\"\"\n",
    "    head = page_height - 50\n",
    "    foot = 50\n",
    "    x0, y0, x1, y1 = char['x0'], char['bottom'], char['x1'], char['top']\n",
    "    if head < y1 or y0 < foot:\n",
    "        return True"
   ]
  },
  {
   "cell_type": "code",
   "execution_count": null,
   "metadata": {},
   "outputs": [],
   "source": []
  }
 ]
}