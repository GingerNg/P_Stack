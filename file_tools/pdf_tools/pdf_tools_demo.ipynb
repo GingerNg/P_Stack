{
 "nbformat": 4,
 "nbformat_minor": 2,
 "metadata": {
  "language_info": {
   "name": "python",
   "codemirror_mode": {
    "name": "ipython",
    "version": 3
   },
   "version": "3.6.9-final"
  },
  "orig_nbformat": 2,
  "file_extension": ".py",
  "mimetype": "text/x-python",
  "name": "python",
  "npconvert_exporter": "python",
  "pygments_lexer": "ipython3",
  "version": 3,
  "kernelspec": {
   "name": "python36964bitb377107951a642b890c3e40487126bca",
   "display_name": "Python 3.6.9 64-bit"
  }
 },
 "cells": [
  {
   "cell_type": "code",
   "execution_count": 1,
   "metadata": {},
   "outputs": [
    {
     "data": {
      "text/plain": "'/home/ginger/Projects/Learning/P_Stack/file_tools/pdf_tools'"
     },
     "execution_count": 1,
     "metadata": {},
     "output_type": "execute_result"
    }
   ],
   "source": [
    "import os\n",
    "os.getcwd()"
   ]
  },
  {
   "cell_type": "code",
   "execution_count": 1,
   "metadata": {},
   "outputs": [
    {
     "name": "stdout",
     "output_type": "stream",
     "text": "helloworld\n"
    }
   ],
   "source": [
    "print(\"helloworld\")"
   ]
  },
  {
   "cell_type": "markdown",
   "metadata": {},
   "source": [
    "# <center>fitz</center>"
   ]
  },
  {
   "cell_type": "code",
   "execution_count": 2,
   "metadata": {},
   "outputs": [],
   "source": [
    "import os\n",
    "import fitz \n",
    "# file_name = \"比音勒芬.PDF\"\n",
    "# file_name = \"天科股份2017年年度报告摘要.pdf\"\n",
    "# file_name = \"年度报告多页.pdf\"\n",
    "# file_name = \"深圳广田集团股份有限公司 2018 年年度报告摘要.PDF\"\n",
    "file_name = \"20190713_国泰君安_宏观周报_ 信用流向地产和基建，制造业内外交困_花长春 韩旭 董琦 赵格格.pdf\"\n",
    "full_path = os.getcwd()+\"/pdfs/pdf_catas/\"+file_name\n",
    "\n",
    "# file_name = \"无人驾驶-有图片图表.pdf\"\n",
    "# file_name = \"表格重要元素测试i文档.pdf\"\n",
    "# full_path = os.getcwd()+\"/pdfs/\"+ file_name\n",
    "doc = fitz.open(full_path)"
   ]
  },
  {
   "cell_type": "code",
   "execution_count": 4,
   "metadata": {},
   "outputs": [
    {
     "data": {
      "text/plain": "IdentityMatrix(1.0, 0.0, 0.0, 1.0, 0.0, 0.0)"
     },
     "execution_count": 4,
     "metadata": {},
     "output_type": "execute_result"
    }
   ],
   "source": [
    "fitz.Identity"
   ]
  },
  {
   "cell_type": "code",
   "execution_count": 29,
   "metadata": {},
   "outputs": [],
   "source": [
    "file_name = \"PDF文档含有批注及修订痕迹.pdf\"\n",
    "full_path = os.getcwd()+\"/pdfs/\"+file_name\n",
    "anno_doc = fitz.open(full_path)\n",
    "page = anno_doc[0]\n",
    "# for annot in page.links():\n",
    "#     print(annot)\n"
   ]
  },
  {
   "cell_type": "code",
   "execution_count": 48,
   "metadata": {},
   "outputs": [
    {
     "data": {
      "text/plain": "Rect(0.0, 0.0, 595.3200073242188, 841.9199829101562)"
     },
     "execution_count": 48,
     "metadata": {},
     "output_type": "execute_result"
    }
   ],
   "source": [
    "doc[0].rect"
   ]
  },
  {
   "cell_type": "markdown",
   "metadata": {},
   "source": [
    "### 矢量图"
   ]
  },
  {
   "cell_type": "code",
   "execution_count": 7,
   "metadata": {},
   "outputs": [
    {
     "data": {
      "text/plain": "3\\xea4\\xbbEJ*\\x89Kr\\x83\\x19\\xab\\xfe.\\xac\\xf6\\xa3\\xdf\\x1f \\xdc\\x90\\x1bf\\x97:t\\xe8Pbb\\xa2\\xf5\\xe39N\\xe02Dz\\xb3\\x16.O37\\x0fi?}5\\x01\\xed\\xcd\\xe6\\x92\\xdc\\x88x\\xd7\\xe1\\x88m\\x04\\xd9uh\\xee\\xc8\\x10\\xf7x\\x8f\\x00\\xe5\\x86\\xaf\\xaf5\\xb2]\\x87\\xaf\\xb9\\xe1\\x94\\xeb\\xa8\\xa2\\xda\\x11\\x00\\x00\\x00\\x00\\x00\\xf8\\x01\\xb4#\\x00\\x00\\x00\\x00\\x00P\\x05\\xda\\x11\\x00\\x00\\x00\\x00\\x00\\xa8\\x02\\xed\\x08\\x00\\x00\\x00\\x00\\x00T\\x81v\\x04\\x00\\x00\\x00\\x00\\x00\\xaa@;\\x02\\x00\\x00\\x00\\x00\\x00U\\xa0\\x1d\\x01\\x00\\x00\\x00\\x00\\x80*\\xd0\\x8e\\x00\\x00\\x00\\x00\\x00@\\x15hG\\x00\\x00\\x00\\x00\\x00\\xa0\\n\\xb4#\\x00\\x00\\x00\\x00\\x00P\\x05\\xda\\x11\\x00\\x00\\x00\\x00\\x00\\xa8\\x02\\xed\\x08\\x00\\x00\\x00\\x00\\x00T\\x81v\\x04\\x00\\x00\\x00\\x00\\x00\\xaa@;\\x02\\x00\\x00\\x00\\x00\\x00U\\xa0\\x1d\\x01\\x00\\x00\\x00\\x00\\x80*\\xd0\\x8e\\x00\\x00\\x00\\x00\\x00@\\x15hG\\x00\\x00\\x00\\x00\\x00\\xa0\\n\\xb4#\\x00\\x00\\x00\\x00\\x00P\\x05\\xda\\x11\\x00\\x00\\x00\\x00\\x00\\xa8\\x02\\xed\\x08\\x00\\x00\\x00\\x00\\x00T\\x81v\\x04\\x00\\x00\\x00\\x00\\x00\\xaa@;\\x02\\x00\\x00\\x00\\x00\\x00U\\xa0\\x1d\\x01\\x00\\x00\\x00\\x00\\x80*\\xd0\\x8e\\x00\\x00\\x00\\x00\\x00@\\x15hG\\x00\\x00\\x00\\x00\\x00\\xa0\\n\\xb4#\\x00\\x00\\x00\\x00\\x00P\\x05\\xda\\x11\\x80\\xc0\\xb2t\\xe9\\xd2c\\xc7\\x8e\\xa5\\xa5\\xa5\\xf9zbIIIQQQ\\xbdz\\xf5\\xd8\\xe6\\xb0a\\xc3\\xbau\\xeb\\xd6\\xb7o_\\xdb\\x13O\\x9f>\\x9d\\x9c\\x9c\\xfc\\xd7\\xbf\\xfe\\xb5}\\xfb\\xf6>?.\\xa82\\x04\\xc72\\xdb\\xb5k\\x97\\x9a\\x9a\\xaab\\xb7\"g\\xce\\x9e\\x1f\\x91\\xf2\\xbb\\'\\xc6\\xcc\\x12m\\x98\\x1e8++k\\xf1\\xe2\\xc5\\xfc\\xd6\\xc0\\x02\\xca\\xab:u\\xea\\x88\\x19\\xb8p\\xe1B\\xf2\\x0c<\\xf7h\\xb3y\\xf3\\xe6\\xf4\\xee\\x0cO\\x17_\\xeb\\xd8\\xb1c\\xa3\\xa3\\xa3G\\x8c\\x18\\xf1\\xd1G\\x1fI\\xd7\\xd4Cg%%%\\xa5\\xa4\\xa4\\xf0=\\xf4\\xe2\\xe8_q\\x8f\\xcb\\xa9d\\xd6U\\x05\\xa0\\x1d\\x83\\x01\\xf3\\xd1]\\xbat9w\\xee\\x1cm\\xd6\\xaaUK\\xfa\\x83X\\xb2d\\x89T\\xd83\\x05@\\x1f0\\xdb\\xd4\\x9f\\xf5\\xed\\xb7\\xdf\\xae\\\\\\xb9r\\xcf\\x9e=\\xd5\\xabW\\xd7\\xdf\\x94N\\x9f8q\\xe2\\x90!C|\\x15\\x10a\\xf7\\x9d\\x07\\x1a\\xca\\xc9\\xc7F>\\xf0\\xe7\\xf1\\xcb;\\xb4iz\\xf8\\xf0\\xe1Q\\xa3F\\xa9\\xcb2:\\xb7Y\\xb3f\\xb1\\xb1\\xb1\\xfb\\xf6\\xed\\xb3H\\xb6w\\xef\\xde\\xaf\\xbe\\xfaJz\\xc5T\\xa8\\x93\\xbf&/\\xa6\\x95\\x95\\xd6\\x89\\x89\\x89\\x8a\\xf7\\xa57Hf\\x93\\x91\\x91\\xa1^`\\xd3\\xef\\x9a5k\\xd6\\xf0\\xe1\\xc3\\xe9\\xfa\\x8a\\xd2\\x13\\x06\\xe6\\x14\\xbe\\x1a\\x98\\xf8\\xb2*s\\xd3 X&\\xdd\\xa5c\\xc7\\x8e\\xaf\\xbd\\xf6\\x9a\\xaf\\x8fJ\\xda\\xb1}\\xbb\\xdb\\xc4\\x13\\xd9\\x8d\\xc8\\x8bN\\x9a4\\xc9\\xa7KE\\x00\\xf4\\xc6\\xdf|\\xf3\\xcd\\xf1\\xe3\\xc7\\x9b%\\xc8\\xcb\\xcb\\xdb\\xbf\\x7f\\xbf\\xf4\\xbd\\xd3\\x0b\\x1a9r\\xe4\\x91#G\\xc4dqqq_|\\xf1\\x05i \\xf6jf\\xcc\\x98a\\xe8%\\xe8\\xdc\\xee\\xdd\\xbbs\\x1f\"V3\\x98`bo\\xdf\\x10\\xaa*\\xf4\\xe9\\xd3G|\\xe3\\xe4\\x8e\\xe8t\\x8bS,\\xa0\\xb3\\xe8\\xee\\xfd\\xfa\\xf5\\xd3\\x97\\x80\\xe2\\x1f\\x9f~\\xfa)Y\\xf2\\xda\\xb5kyi\\xc8\\x1c\\xd4\\x13O<\\xd1\\xa2E\\x0b~5\\xb6\\xd3\\xb6\\x12^\\x99\\xacKOOo\\xda\\xb4)\\xfb[zT\\xba\\xec\\xf7\\xdf\\x7f/>d\\xf8\\x02\\xed\\x18\\x0cH\\xe1m\\xdf\\xf6\\xca\\xdau;-\\xd2P%\\x86\\xaa2R=\\x86v\\xe6\\xe4\\xe4\\x98U\\xb2\\xc9\\xad?\\xf4\\xd0C\\xdb\\xb6mk\\xd2\\xa4\\x89a\\x02V<l\\xda\\xb4\\xa9S\\xa7Nl\\x0f}\\x00T#\\x9c6m\\x1a3h2e*\\x03\\xf4\\x81\\x07z\\x8c\\xe3\\xc7\\x8f\\xd3\\xad\\xcf\\x9e=KnK\\xfaPI\\xe6\\xd2W\\xe4G\\xb8\"|\\xe9\\xdd\\xbb\\xf7SO=E\\xd9\\x98\\x9f\\x9f\\x7f\\xd3M71\\x0f\\xa2r\\xe2\\xea\\xd5\\xab\\x9f\\x7f\\xfe\\xf9\\x993gR\\xceWR-\\xd1\\x8b\\xa3gP)\\x83\\xeb\\xd6\\xadK\\xf7\\xf2x<\\xe4%\\x15\\x9fS\\xf4\\x8c\\x9a\\x9d\\xe1q``N\\xe1\\x93\\x81\\xd1\\x87\\x1f\\x1f\\x1f_PP\\xc0\\xd2\\xf0\\xc2U\\x13\\xf2\\x90\\xde\\x02I\\r\\x8b<\\x0c\\x9ae\\x92-q\\t\\xc8\\xaa%\\x03\\x07\\x0e$\\x13\\xa5\\xe7$\\x03x\\xfb\\xed\\xb7\\xcd<X\\x83\\x06\\rH0\\xf1\\xcb2\\x13\\xdd\\xbauk\\xd5\\x8c\\xa6\\x93\\xfc\\x92>\\xa5\\xcc\\xcc\\xcc\\xdf\\xfc\\xe67\\'N\\x9c \\xe1^\\\\\\\\Ly(\\xbd\\x05\\xb2\\x93\\xa7\\x9f~ZRl\\xf4\\xe9\\xd1\\xa5H\\xf4\\x90\\xcd\\xdcv\\xdbmf\\x99I/\\x88\\x12pm\\xb4u\\xd7\\xc1W\\x16\\x8dbE\\x18\\xbd\\xc47\\xdex\\x83l\\x86L\\x88>\\x7fv\\x05\\xfa\\x8a\\xff\\xf5\\xaf\\x7f\\xd1\\x1fu\\xea\\xd4\\xa1\\x8aMBB\\xc2\\xad\\xb7\\xde\\xfa\\xe0\\x83\\x0f\\xd2+\\xa3\\x07\\xe07\\xf5\\xe3\\x87\\xb3bN\\x94qf\\xc9\\xe8\\xc7\\xae[\\xb7N\\xfcp\\xc82\\xe9\\xd6\\x92y\\xd3\\xce^\\xbdz\\xd1\\xb3\\xd9^\\xcd\\xbf\\xac\\xb3\\x08\\xc3\\xfb\\x1d\\xe9w!\\xd0\\x8e\\xc1\\x80,f\\xed\\x86\\r;\\xb6l\\xb1H\\xa3/\\xadY\\xe5\\xc6\\xa2\\x08\\xdf\\xbd{\\xf7\\xe8\\xd1\\xa3\\xa5\\xb0\\x01\\x9dEvO~\\x99\\xbe\\xe1\\xa2\\xa2\"2S\\xaa\\x05jea\\x1e\\x826\\xc5\\x1bI\\x9f4\\x9dKgQ\\x95\\x88\\x15N$>\\x0c\\xabG\\x95q\\x04a\\n\\xfdd\\x16Y\\x914\\x965\\x94\\xb8U\\xabV\\xef\\xbd\\xf7\\x1e\\x9dHo\\xa1]\\xbbv\\x16\\x99Fy\\xbec\\xc7\\x8e\\xb6m\\xdb\\x96\\x94\\x94P\\xb6\\x93\\xff\\x95b9\\xfc\\x19\\xacoJ\\xaf\\x86\\xaa\\xb6\\x19\\x19\\x19twz\\xdd\\xa4\\xc3T~\\xa0\\xbav\\x84\\x81\\x05\\x02\\x9f\\x0c\\x8c2\\'66\\x96G\\xa1(3\\x9f\\x9f;N\\xaa\\x9a\\x8a\\x8aMO\\xd0,\\x93\\xdex\\x9b6mH\\xe5\\xf0\\xa3\\x8d\\x1a5\\xe2\\x9b\\xe4\\x18w\\xbc\\xb7\\xc6\\xb0R-\\x06,\\xe9o\\xca\\x8d\\xa5e\\x90\\xd8%\\xabc\\xb6G\\xc9\\x98\\xf9E\\xaa\\xa9\\xb0h\"\\xfdX\\xca\\xf9\\x8d\\x1b7\\xd2Ko\\xda\\xb4)}e\\xa2 \\xeb\\xda\\xb5\\xab\\x99\\xa9P\\x9a\\x15\\xcb\\xff\\xca\\xb2\\x97\\xb2\\xae\\xb0\\xb0\\x90\\xf4\\x1ciMR\\x99\\x94{t\\x94\\xf2\\x8d\\xfe\\xd07y\\xd1e)=\\x19\\x18\\x89Q\\xaa\\xdd\\xfd\\xf4\\xd3O\\xa4\\x0b\\xe9\\xbe#G\\x8e\\xac]\\xbb6% \\x01D\\x0f\\xc3\\xfe\\xd5GC\\xa5\\xb8\\xa3O>\\xd3\\xf0WL\\x980\\xc1::\\xae\\x95\\x95\\x86\\x0b\\xe6O\\x94l\\xa9\\x7f\\xf2]R\\xb7\\x07M\\xcd\\x91\\xfa\\x9duZY\\xfb~\\x8d\\x1a5\\xee\\xb9\\xe7\\x1e\\xad,X.\\xba8\\xb2|\\xc3\\x1c\\x0bG\\xa0\\x1d\\x83\\xc1\\xca\\x95+\\xa9\\x8a\\xff\\xdcs\\xcf\\xb1MfO\\xdc\\xaa\\x98+\\xec\\xd7\\xaf\\x9f\\xfe\\xebR\\x89;\\xaa\\xc4\\x87\\xf2\\xf3\\xf3cbb\\xa4k\\xb2x\\x83XQc\\x1f9\\xb9c\\xda\\xcf|\\x93\\xe1\\xd5\"\\xbeh\\xa7\\xec\\xda\\xb5k\\x17{G\\xb5j\\xd5\\xfa\\xf6\\xdc\\xafW/\\x99\\xca|\\x04\\x0b\\x0b\\x917a\\xa5\\x17y\\xb4\\xf4\\xf4\\xf4\\xed\\xdb\\xb7\\x1b\\xe6\\x95Tw\\xd7w\\x03\\x12\\x91j\\xba<\\x96\\xc3j\\xb1\\xbc6O\\x85\\x079\\xacq\\xe3\\xc6\\x19\\xde\\x91N\\xa7\\xe7\\xdc\\xb9s\\'\\xbf\\xe6\\xec\\xd9\\xb3U\\xfa\\x87\\xb1\\x08\\xa2\\xafqG\\x0e\\x0c\\xcc\\'*i`$\\xbf\\xa8\\x14\\'1G&q\\xfc\\xf8\\xf1\\x85\\x0b\\x17\\xce\\x98;W\\xaa\\x9a\\x8a\\x12MO\\x10,\\x93\\xd2s\\xcfF\\x85\\xe5[o\\xbdU\\xb3fM2\\x06\\xb1\\t{\\xf5\\xea\\xd5/\\xbf\\xf6\\x9a\\xf8\\xe4\\x94!$\\x02\\x8e}\\xf7\\x8bk\\xeb\\xfcH\\'\\xd2\\xcf\\xdc\\xb3g\\x0f\\xed\\xa7\\x13\\x87\\x0f\\x1f\\xae\\xb7d2\\xb6U\\xabV\\xf1\\xb0wD\"~)\\xa2\\xd0\\xb7m\\x88\\xa0\\x177~\\xca\\x14\\x96\\xbdb\\xc4Kz\\xa1\\x94\\x87\\x1f~\\xf8!\\xff~Y\\xca\\xa3G\\x8f\\xd2\\xc5\\xd9\\x1b\\xa4C\\xa4\\x99X\\x15Q%f&iGVN\\x91\\x95\\xd2\\xd5X\\\\\\xfc\\xc5\\x17_\\x1c0`\\x80b\\xb4\\x9b\\x17s\\x1f}\\xf4\\x11\\x99\\x07\\xed\\x11KO\\x92\\x95\\xa4n\\xe9(=0\\xff\\xb1\\x9c\\xae\\x89\\x89\\xe9S\\xa7JY$\\xe5\\x1b=-\\xe99\\xe9a\\xfc\\xcb:\\x06\\xd7\\x8e\\xbc\\x92\\xc3\\xff\\xa5O\\xd2\\xb0\\x1d&\\x1c\\x89X\\xedx\\xdf\\xc4\\xd0x\\x93\\r\\xcf\\xbe\\xaf\\x0f\\xa5\\x18\\xc6\\x1d\\xa9\\x1c\\x15[j\\xc8\\xa0%\\xcf\\xc8;U\\xb0z\\'\\xfb`\\xb4K_\\x0e\\xfd\\xf1\\xe9\\xa7\\x9ffdd\\x18V\\xc8\\xc8\\xb8\\xe9K\\xe3\\xf5\\x1b\\xd6\\x88\\xc9L\\x96\\x17\\xed\\xf4T\\xb4_*\\xa1UDC\\xe0\\x8a\\xf6\\xbf\\xbf\\xf7%\\xfd[\\xa3Fu\\x8f\\xa7$\\x98\\xff\\xfe\\xe1\\xee\\xc6\\x16OE\\xb9\\xfd\\xf0C\\t\\xac\\xfe\\xaaX\\x87fms\\xfa\\xbeY\\x94uQQQ\\xf4\\xd6\\xf4\\xa7\\x885]M\\xa8\\x1csO\\xc7\\xeb\\xd0zSa\\xb0\\xf6\\xe2m\\xdb\\xb6\\x89\\x87X\\xb4\\xe6\\xa5\\x97^\\x92\\x1c\\xa8\\xd4AJ\\xdf\\x9b\\x87\\x9b\\x01\\xeb\\xfa#\\x05\\xb1\\xc2\\xd4\\xc0\\xb4]\\xd5\\x9c\\xbf\\xa6\\n]\\xac\\xdc\\xacO\\x06F9OZMlM\\xa3\\xf2\\xec\\x8f\\x7f\\xfc#\\xaf\\x9a\\xb2\\x80\\x1c\\xbd\\x0e\\xc3\\xe6\\xdd [\\xa6\\xbe\\xa1\\x99L\\x82o\\x92\\x85l\\xd9\\xb2e\\xc3\\x86\\r\\xfa\\x0c\\xa1\\x7f[\\xb6l\\xc9\\xad\\x8eu\\xbb\\xd4\\x9b\\x84\\xaf\\x95\\x9cp\\x84\\xf2\\x7f\\xed\\xda\\xb5+V\\xac\\xd0\\xca2\\x9fW\\xc6,\\xe2gt\\n\\xe5!\\x15\\x10\\xa4\\xce\\xeb]{\\xed\\x0f\\xf9\\xf9d\\x0f$\\x80\\xe8\\x10\\xa9:\\xfa\\x97\\x05\\xaa\\x99\\x1c\\\\\\xbf~=\\xcfC\\xfe\\xcd\\x1a\\nS\\xfd\\x1dE]\\xcbm\\x92\\xac\\xe5\\xb66\\x89$\\x92\\xe8jdQT\\xa3\\x90\\xc2\\x90tq\\xbdG\\xb2\\xf8\\xf9*qGJF\\xd7\\x94l\\xa9w\\xef\\xdet\\xae\\xc5\\xaf`]\\xc3\\xc9q\\xd1\\x17\\xc4\\xdd\\xdd\\x7f\\x8b\\xae8\\xf7\\xed\\x81\\x17^x\\xe1\\x96[n9|\\xf8\\xf0\\x13O<\\xa1\\x92u\\x1c:D\\xdfWbb\\xa2\\xe1C\\xf2!8,\\x9a\\xae\\x92\\x03\\xee$2\\xb5#}6\\x7f\\x98\\xde\\xf9\\x97\\xbf\\x0c\\xc1O[;a\\xb7\\xa1v\\xd4\\xbbH\\xfaDY\\x00\\xc6\\xe2j\\x92g\\xa4\\x1a\\xf9\\x94)S\\xf8\\'\\xca\\xda\\x92\\xcc\\x02\\xe0<\\xb4 \\xf6\\x17\\xa1\\x9c!\\x8f\\xcc\\xaeI&\\xae\\xaf\\x00)\\x16\\xed\\x03\\x07\\x0e\\xb4\\xee/\\xe2\\x1f\\x9b\\xf7\\x9cr\\xfc\\x9a\\xb6\\\\\\xf4\\x94\\xf4\\xbe\\xe3:\\xeb4\\xdc\\x07I\\xf193\\xa84}\\xa0\\xefc\\x86\\xea\\x87\\xb2===\\x9d\\x0e\\xe9;\\'=\\xfa\\xe8\\xa3\\xf3\\xe7\\xcfg5T\\xde2\\xc8o\\xcd\\xeb\\xd0\\x86\\xda\\x91\\x05\\xf9\\xe8\\x8d\\xb3\\n\\t\\xdd\\x85*\\xe2L\\nP\\xf9A\\x06 \\xfaG\\x06=\\xc6\\xe0\\xc1\\x83Y\\xa5\\xd9\"\\xeeH\\xd5h*\\x84\\xf4\\xfd\\xdc\\xc3\\xd1\\xc0\\xdc\\xa9\\x1d5_\\x0cL\\x0c\\xea\\xb0\\xe2G\\x8c\\x91p\\xcc\\xda\\xac\\x83l\\x99\\xacsBnn.\\xbf\\xa0\\xf8`d\\x99\\xabV\\xad2\\x1cBA\\xbe\\xaes\\xe7\\xce\\xfcDfKd\\xe4\\xf9\\xf9\\xf9N5\\x86\\x86\\x11\\xec\\xab\\xa1/Z\\x14\\xd0\\x92\\xbc#c\\xa0\\x7f\\xa5\\xcc\\x9f9s&+wX\\xf0\\x8c,\\xe7\\x8e;\\xeeX\\xb2\\xfa\\xdd\\xd5K\\xa6.[\\xb9v\\xe6\\xb4\\xa7g\\xcc\\x98\\xc1+\\x8a\\x94\\x9f\\x94\\x929\\x10C\\xed\\xc8d_\\xaf^\\xbdX\\xc5\\x83^\\xdcw\\xdf}g\\xfb\\x9d\\x928\\xa3\\xbbPU\\x93\\xa9Lz\\x95te\\xf5WF\\xbf\\xe2O\\x7f\\xfa\\x93T%6L\\xa6\\xef\\xa1h\\xa8\\x1d\\xf9Oc6F\\xd9\\xa2\\xefn\\xab\\x9eu,\\xeeH~\\x8fn}\\xee\\xdc\\xb9Z\\xb5j\\xf1\\x8bH\\xe1\\x1eQ\\x18\\xf0pi\\xf8\\x9a.\\xb4\\xa3\\xc3\\x98iG\\xfa\\xc6\\xf4\\x15\\xfd\\x05\\x0b\\x16\\x88C\\xc0\\xc4\\x86?\\xcd\\xa8\\xbf#}\\xba\\x83\\x06\\r\\xe2-\\x92\\xd6\\xf0\\xd6\\r^\\xd8\\xd0\\xf5\\x7f\\xf1\\x8b_\\xb0k\\x92\\xe1\\x92\\xadK\\xca\\xd5\\xb6\\x87%\\x7f\\xf2\\x00\\x85\\x856\\xfc\\xe3\\xe4\\xafj\\x84`\\x00Z\\xcf\\x0e\\xd7X\\'\\xe0>\\x88\\x15W\\xf46\\xcd\\x06\\xca\\xb1^\\x86\\x83\\x86\\x8f\\xfb\\xa1\\xe0\\x18\\xdf)\\xb6\\xb0\\x90\\xe7j\\xdb\\xb6-\\xfd\\xb1\\x7f\\xff~\\xd6\\xa3\\x88\\xe56y\\xab\\xb7\\xdf~{\\xda\\xb4i\\xec\\x14\\xb2\\x19\\xf6v\\xf4a\\x1e\\xc3\\xe8\\x8e\\xd4\\xb5Q\\xea\\x12\\xc7FM\\xd2\\x1f\\xf4\\xd6\\xf8(?fNo\\xbc\\xf1\\x06+6\\x0c\\xfb;Z\\x0cP\\x08G\\x03s\\xbfv\\xb460VxS\\xa9\\xc6\\xfef\\xa3\\xe9I\\xcf\\xe9#.bx\\x8f\\x9f\\x1b|\\xcb\\xa4\\x8a\\xc7\\xdc\\xb9s\\xe9U\\xd2)L:\\xd0\\x83\\xbd\\xff\\xfe\\xfb\\xbf\\xf9\\xcdo\\xb4Ks\\xee\\x18\\x06;Y@\\x88\\xb2\\x82\\x1de\\xa5;\\xed\\x9c3g\\x0e\\x1f[\\xe3\\xb8v,\\x1d\\xf0>5c\\xeb\\xae\\x83gN\\x7f\\xe3\\xc8\\x05}\"\\xaa^\\x83.\\x9d\\xdb,\\x9f\\xd6\\x9b\\xfd\\x1cz\\x18\\xd2[ZY \\x99T#\\xbd\\x9a\\xcc\\xccL\\xca\\xc3\\xef\\xbf\\xff\\x9er\\x86\\xf4\\xf7\\xc6\\x8d\\x1b\\xe9\\x03\\xa4\\xfd,\\re>\\xe5\\xb3\\x98\\x99b(\\x8eu\\xda\\xa3\\xd7\\xfa\\xdcs\\xcf\\xd17\\xb8`\\xfe\\xc4Q\\xa3g\\xb0\\xb6~\\xc3\\xea\\x1c\\x7f\\xcbzX\\x1d\\x83j8\\r\\x1b6\\xec\\xd0\\xa1\\x83u\\x0b,\\x8f\\xb4\\xd1\\x93[\\x0c\\x80c\\x0e\\xcapt\\x17\\x1db\\xd5W\\xad\\xac\\xbaK\\xff\\xdez\\xeb\\xad\\xbc\\xbf5\\x8f\\xaf\\x8bj\\x8fC7MHH\\xa0,b=\\xb3\\xe9\\xac\\x83\\x07\\x0f\\xb2i\\x01\\xe8\\xe8\\xec\\xd9\\xb3\\rm\\x8f \\x13\\xa5\\xa3d\\xf6b\\xd6-\\\\\\xb8\\xb0M\\x9b6\\xb6YWE\\x88X\\xed\\xd8\\x7ff\\x08\\xda\\xac\\xff\\xf7\\xbfj\\xeb\\xff\\x92\\xab\\xdf\\xbfr\\xe5\\xcaw\\xdey\\x87\\xeagT)\\xe1\\xbd\\x1f\\xa8\\xa4g\\x83\\xd1X\\x9a\\x13\\'N\\x90G\\x90>\\x1e\\xc94\\xf5\\x1d\\xc8\\xf8~^s\\xe2\\xdd\\x8ch\\'\\xb9i\\xd6\\xc7\\x82u\\xec\\x1d8p \\xf9qr\\xbe\\xach\\xd7\\xcf\\xe9\\xa0\\xbf\\xa3!\\x81\\x0b\\x0b\\xed\\xdcs\\xf8\\x9c\\x16\\xe5\\xf8e\\xad1\\x8c;\\x1e>|\\x982\\xf0\\xa7\\x9f~b\\x1dt\\xc8kH\\xdd\\xd1\\xb4\\xb2\\x11\\x85\\x94\\xb7;v\\xec\\xd0\\xb7\\xf8\\x88\\x97\\x92\\xa2\\xc5\\x1c\\xf1\\xad1\\xf7\\xc4\\x87#\\xb0\\x7f\\xa9\\x14g\\xfd\\x02y\\xc1\\xcc\\xfe\\x90Z\\x8e\\x0co\\xbaz\\xf5j\\xf2\\x92\\xa2-\\xf1\\xd1\\x91b2\\xde\\x87I\\x0cw\\x89\\xb1C\\xfd\\xc0\\xc0\\xb060\\xf7hGu\\x03\\xa3\\xec\"\\x1bc9\\xc6b6\\xe7\\xcf\\x9f\\'\\xad\\xc9[\\xf1X\\x9b5\\x15\\xabR\\xffiQ;V\\xde2\\xf9\\x95\\xb52\\xa1)Z&\\x17\\xbe\\xfa0\\x0f\\xbd\\xca\\xec\\xec\\xec\\xdc\\xdc\\xdc\\xa7\\x9f~\\x9a\\x8d\\xac\\x97\\xfa;\\x9a\\xc5\\x1d\\xef\\xbb\\xef\\xbeM\\x9b6\\xd1\\x89=z\\xf4\\xe0]3\\xf5\\x916\\x95F\\x00u\\xfa\\x8f^\\xbc\\xeem\\x03\\x07\\x1e<<E\\xb7\\xb5n\\xf5\\xf1\\xe6\\xa9\\xfa#d\\t\\xf4\\xc6\\xc5/\\x91\\xe7\\x86\\xd9\\xe8])xF\\xf9<x\\xf0`\\xad\\xac\\xacy\\xf1\\xc5\\x17\\xc7<\\xf3\\xd2\\xb5u~d\\xf2K\\x9f\\x87\\xf4j\\xc8D\\xef\\xbc\\xf3N}\\xa7\\xbdY\\xb3fQQE\\x7f\\xbc\\xfb\\xee\\xbbd\\x1bd\\xba\\xbc.z\\xe0\\xc0\\x81\\xcb.\\xbb\\x8c\\xfef]x\\xe9\\t\\xc9\\x90x\\x9dA\\xecb\\xab\\x7fTz\\xd1\\xbc\\xdf\\x8bt\\xe8\\xa1\\x87\\x1e:t\\xe8\\x10\\xddE\\x1a\\xc2L\\x06\\xf0\\xdb\\xdf\\xfe\\x96}\\x08\\x86qG\\xc3\\xe8)\\xedl\\xdd\\xba\\xf5UW]e\\xd1\\xe8G\\x9f\\x06e\\x1d\\xd7\\x8e,\\xeb\\xe8k\\xa5J\\x1de\\xdd3\\xcf<\\xc3\\x95\\xeb\\xe7\\x9f\\x7f.\\xf5wdU_)\\xd3X_O\\xcay\\xba\\x9a\\xd9\\xb4z\\xe1EdjG\\xa2\\xcf_\\xe2]\\x15wd\\x15\\x17q\\xa7mOg*\\xc2\\xc9\\xbey\\xafyn\\xac\\xd2\\x1e\\xfa\\xd8\\xa8\\x90\\x16[\\x85\\xac\\xe1\\x857\\x13\\x01\\xe2\\xc7\\x1c\\xf2\\xb0PH\\xda\\xackig\\xee\\xea\\xd0\\xc2:\\r\\x95d\\x93\\'O\\xf6u\\x9c5\\x83M\\xa1bV\\xc1e\\x18z\\x7fV\\x12S\\xf5\\x97\\xd9\\x89\\xd82\\xc8-G\\xeao\\xc4;\\xd3H\\x174\\xeb[\\xc3\\xaa\\xfbd<\\xe4\\xfe\\xf8\\xef\\xe2\\xda\\x91\\xaeFut}]\\xc5\\x1a7\\x1b\\x98{\\xb4\\xa3\\x84\\xa2\\x811U\\xc7\\xea\\x90\\xbc\\x98\\xe41\\x12z\\xe9T\\xca\\xd6\\xacYS+S\\x99\\xa4\\xbf\\xc5f\\r=~[&\\xb3@n\\x99\\xfa\\xc6k\\xfe\\xb4\\xe3\\xc6\\x8d#=\\xc1\\xc4\"3\\x0cQ;\\x9a\\xf5w\\x14O\\xfc\\xea\\xab\\xaf\\xa8\\x9aM\\x8f\\xcav\\x8aO\\xebx\\xdc1\\xba\\xf5\\xc83g\\xcf;r\\xa9\\xca\\xf0s\\xdeJ\\xfdN\\xf1E\\xb0\\xcf\\x99\\xd7!\\r\\xcb\\x17\\xcd;\\xee\\xc8\\xac\\xc5pt\\x9aa\\xdf\\x12\\x8b\\xd9d\\x14\\'|\\x90\\xa0\\xb7o6!\\xa25b\\x7f\\xc7\\xb1c\\xc7\\x92\\xfd\\x88\\xbd\\xb4\\xf9\\x87`h\\xcc\\x86\\x8fj8\\xf8ZB\\x8c;\\xfa\\x94uz\\x17\\'\\xd6\\x96U\\xbe\\xb8p!2\\xb5c\\xa8\\xe2\\x8eD\\xc6\\xe4\\xbd\\xfa\\x9d\\x86\\x13>\\xa9X\\xb0>H\\xa38\\xc9\\x1f+}\\xa9\\xa2\\xc3\\x84,\\xd5Y\\xe9_\\xfat\\xe9R\\xe25Y\\x9fe\\xb1\\xdaT\\x05\\xfb;j\\nm\\xd6<\\xdbUB\\x1d\\xac\\xa3:\\xe5<\\xeb\\xfeB\\x0en\\xce\\x9c9T;\\xe7\\xed\\x83lx\\xac8c\\x19\\x0b*\\xf4\\xe9\\xd3\\xe7\\xb3\\xcf>\\x1b4h\\x10kp\\xa4\\x8a/9M\\xfa\\xb7C\\x87\\x0e\\xb7\\xdez\\xeb\\xdc\\xb9sY\\xa0\\x9a\\xfe0\\xf4\\xdd\\xe4\\xc8\\xd6\\xaf_\\xcf*\\xe8t\\xc1\\xd7_\\x7f\\x9dU\\xac)\\xf1\\xd7_\\x7fm\\xf6Z\\xe9\\x8d\\xd3}\\xe9\\xd7\\xe9\\xe3\\x8e\\xe4=\\xcdfo\\tS\\x03s\\xadvT40V\\x8c\\x91EQ\\t\\xc4\\xca-\\xb2\\xb1\\xf9\\xf3\\xe7\\xb3\\xd13\\xf4\\x16\\x1a5j\\xc4\\xbbB\\xd6\\xaf__j\\xc7\\xd8R\\xd6\\'\\xd2\\'\\xcb\\xe4qGV\\r`s.>\\xfd\\xf4\\xd3dT\\xa2ev\\xe9\\xd2%>>^\\x9a\\xbe\\x87\\xf5j\\x988q\\xa28\\xd5\\x8eh\\x00fq\\xc7\\x95+W\\xdet\\xd3Md\\x03\\xecDVA\\xe2]#\\xf8\\n\\x1f\\x8e\\xc7\\x1d\\xbb\\xf6O\\xdf\\xb9\\xe7\\xb0#\\x97\\xf2\\x9b\\xabc\\xa2O\\xed\\x9d\\xcb\\xfef\\xf3a\\xb1W\\xf3\\xee\\xbb\\xef\\x1e=z\\x94\\xbeh\\xfe\\x8eT\\xe2\\x8e\\xfaP\\x9c\"t\\xcd\\x13\\'N\\xb0\\x8e\\n\\xf4\\x07U\\x0f\\xf8\\xe8\\x16\\xb3\\xae\\x90\\xfb\\xf7\\xef\\x97z\\xfb\\xd13\\xa7\\xa7\\xa7\\xb3\\xaa)=9\\xb9/\\x12\\x7f\\xbe\\x86\\xdc\\xc4\\xfe\\x8e\\xe4s\\xee\\xbc\\xf3N\\xee\\x19\\xe8\\xa6TYz\\xeb\\xad\\xb7X\\xaf_\\xc5\\xb8\\xa3\\xe1\\xe0k\\t\\xc3\\x19\\x7f\\x14a*\\x99\\xf9F1\\xdc\\xc3\\x1e\\x98\\x84\\xa3\\x7fo\\xc4mD\\xa6v\\xd4B\\x14w\\xfc\\xdf\\xff\\xaa\\xfd}\\xd2\\x87\\xfao\\x83{=\\xf2\\x80\\xb1\\xb1\\xb1\\xb4\\xe7\\x87\\x1f~X\\x9b\\xf9N\\xdf\\xfb\\xbb\\x91J\\xa0M\\xfa\\xea\\xe8\\xbb\\x92>~\\xb1\\xe9\\x90\\xef\\xb4\\x98\\x11\\xcd\\xe2DQ\\xbc\\x8a\\xbe[\\x12\\xb5\\x86w\\xd4\\x13\\xd0q\\xd6\\xb5j^\\xee\\xf8em\\xb1\\xd5\\x8e\\xd2\\xf4{\\'O\\x9ed\\xd1\\x1d\\x15|\\x8a\\xee\\xd0\\x8d\\xe8\\xef\\xbf\\xff\\xfd\\xefT\\xea\\xb3p\\x0eS\\x90bt\\xc7\\xac\\xb3\\xb9\\xd8\\xc7Q}\\x12Z6\\x1f$\\x15H\\xbc\\x9b\\x1d\\x9fZ\\xcfb$\\x96$\\x01\\xc3\\xc5\\xc0\\\\\\xab\\x1d}20)\\xee\\xc8\\x9b&i?\\xb3\\x9c\\x8d\\x1b7N\\x9f>\\xddv\\xe2C\\xbf-\\x93\\x15\\xc9\\xb6\\x96\\xc9\\x06\\x05\\x8b\\x81F)Rh\\x18w<\\x7f\\xfe\\xfc\\xb3\\xcf>Kw\\x14\\xe7\\x06\\xe7?M\\xbb\\xd4\\xe9\\x93\\xeaZ>\\xf5\\xffV\\xe1\\xcb\\x93\\x05w\\xf4\\x9bu\\xf2\\xeb|\\xa7.\\xe8+$\\x1c\\xd7\\xcdO1l\\x06\\xd1\\x7f\\xd1\\xe2\\x84\\x06\\x86qG\\x12@T\\xfdc\\x86\\x91\\x9f\\x9f\\xff\\xcf\\x7f\\xfe\\xb3\\xb8\\xb8\\x98\\xf7\\x92\"\\xa8\\nA\\x02\\x9dM\\xf3\\xa9\\xbf\\x1d\\xbf\\xa6do\\xb6qG\\x12\\x88\\xfd\\xfa\\xf5\\x93\\x86[\\x91\\xb0\\xa3\\x8f\\x9a\\xd7m\\xd4\\x11\\xfb;\\xb2>6|\\xfa\\x1bQ\\x8a\\x19\\x1a3\\xc9\\xc4\\x05\\xb3g\\xb3\\xce\\xb5\\x1c\\x95\\xf8\\x0b]\\x8d\\xcd{\\xc5\\xb2\\xee\\x93O>aS<\\xf2z\\x97\\xd8\\xd5R<\\x11q\\xc7\\xf0&\\x84qG\\xc36k>\\xb1\\x82Y\\xd0\\xc5\\xac\\xb0\\xd4\\xa7\\'\\xef\\xd6\\xf1\\xffZ\\xfd\\xeb_\\xff\\xb2.}\\xa5\\x13\\xc5P\\xbfu\\xbd\\xbf\\n\\xc6\\x1d\\xcf\\x9d\\xbf \\xcd\\xd1\\xc3\\x02\\x87\\xbc;6y\\n\\x1e\\xea\\xa3*x\\xeb\\xd6\\xady=\\x92\\xf5[\\xd5\\xca\\xe6\\x9f\\x93$\\xbevi\\xd9=\\xb1B\\xcc\\x8a@i\\xbc\\xb3v\\xa9\\x96\\xdf\\xb4\\xf5o/~\\x7f\\x88J\\x88\\xe8\\xe8h*\\x1a\\xcf\\x9c9#\\xfah\\xc31\\x83\\xd2Ex\\xe9\\xa2\\xef\\xefh\\x06=\\xd2\\xf5\\xd7_O?D\\x1agM\\xb5\\x1d\\x8b\\xd3\\xc3\\xd4\\xc0\\\\\\xa2\\x1d\\x15\\r\\x8c\\r\\xd2LOO\\xafQ\\xa3\\x86\\x98\\x87b7/\\xcd\\xdb\\xc0\\xa8\\\\l\\xd7\\xae\\x1d\\xfda&\\xfa}\\xb5L\\xd6\\xef\\xcd\\x0f\\xcb\\xe4ko\\x88\\x03\\xab\\xa5\\xe0\\x90a\\xdc133\\xb3a\\xc3\\x86\\x9d:u\\x12O\\xa4\\xdf\\xa5\\x95\\xf5\\x99ci\\xa8\\xf4\\xa5\\x9f@&\\xaa8\\xc1mX\\xc3\\x16G\\xa1?\\xa8jw\\xd5UW\\xd1\\xdf\\xac\\xdf\\x02\\x13\\xd0\\x9ayE\\x91O@\\xf3\\x87?\\xfc\\x81N1Lf\\xf6=\\x8a\\x89\\x99\\xdc\\xd1O\\xf0)\\x9d\\xc2$\\xe6\\x82\\x05\\x0b\\xe8\\x9d\\xfe\\xfe\\xf7\\xbfg\\xd3\\x89\\xb3C\\xac\\x0eI\\xd5\\x06\\xf2\\x96\\xbe\\xcen(N\\xe3 \\xd5E\\xc5\\x01\\x00>\\xf5w\\x94v\\xb2\\x1e\\xdbb\\x1a\\xdaC\\xc9\\xfc\\xcb:\\x16w\\xe4\\x9f6\\xf91\\xde}\\x19q\\xc70\\xc0=\\xfd\\x1dy7\\x9d\\x0b?ynmu\\x8b\\xbav4\\xeb\\x1c\\xf6\\xd8c\\x8f}v\\xf4\\xa88%\\x874;\\x83\\xfeD\\xfe\\xc9\\xf1Cg\\xcf\\x9ee\\xbd\\x98\\xc5\\x99\\xdeB\\xde\\x1d\\xcd\\xb5\\xe3\\xacy\\x07\\x03\\xf5.V<o\\xa5n\\xd7\\xe2@Q\\x0e\\x1f\\x89O\\xd7\\'\\x0f\\xb8f\\xcd\\x1aM\\xe7\\xe3X\\x978\\xf2GfSj\\x8b\\xc3\\xf9\\r\\x87\\xf6[ \\xfe.\\xdb\\xe8`\\xf8\\x1a\\x98K\\xb4\\xa3\\x1e\\x9f\\x0c\\x8c5\\xd5}\\xf8\\xe1\\x87lS\\x0cf\\xa8\\xc4\\x9b\\xd9\\xe0S\\x12\\x97\\x8a\\x96\\xc9\\xda.-,\\x93\\x05\\xa2.\\\\\\xb8\\xd0>\\xbe\\xe3\\xe5\\x97\\xd5\\xe0\\'R\\xb9\\xce:m\\xf3\\xf0\\x8cT\\xf6\\x8b\\xe3\\xacy\\xcf]\\x92\\xaa-Z\\xb4\\x90N$\\x95y\\xd9e\\x97\\xf1\\x13YK\\x0e\\xfdAb\\x97E\\xa4\"\\x15\\xbe\\xb02\\x7f\\xb3T7\\xa0\\x9f\\xdf\\xa8Q#.\\x95\\xf4qG6D\\x89\\x12\\x8b;)\\xd9\\xce\\x9d;\\x07\\r\\x1a\\xc4\\xea$?\\xfd\\xf4\\x13\\xfd;x\\xf0`Cc\\x13\\xaf)}\\x8fd\\xabl\\xedu\\xfd)/\\xbe\\xf8\"\\xbd\\x0e\\xf6v\\xc8S\\xf1%\\xa1\\xb9\\xcc2\\x9b\\x9b\\xd6:\\x07x\\x7fGiRd\\x11\\x1ed\\x15wJ!R:\\xfd\\xca+\\xaf$\\x9b\\x91\\xaa:\\xdc\\xf6\\xd8\\x9a\\xe9\\x86Y\\xc7g\\x8d\\x10\\xe3\\x8e\\xfa\\xac#\\x17G\\x8fa6\\xe0U\\x9c\\x05)\\xdc\\x89L\\xed\\xe8\\xaa\\xfe\\x8e\\xe2\\x08G\\xbf\\xe3\\x8el\\x90,_CS\\n\\x0bQ%IZ\\x99\\x8aU}\\xb4\\xb2\\xba\\x8eV\\xd6\\x8d\\x89_\\x9f]\\xf3\\xe5\\x97_\\xa6/\\xbcY\\xb3f\\xd2\\xf3T\\xc1\\xb8\\xa3\\xca\\xfc\\x8e\\xbc\\x8b\\x8cz\\x17+\\xbe\\xe8\\xf0\\xd1\\xa3G\\xb9\\x977\\x9buo\\xe5\\xca\\x95\\x9f\\x7f\\xfe9\\x9b\\xc1\\x8e\\xcf\\xb6#\\x85s\\xc4q\\xd6\\x86\\xe3W\\xa4P\\x81O\\x0b\\xa7Z\\xaf+C\\x0f\\xdf\\xb6m\\xdb\\x0800\\xd7jG\\x9f\\x0c\\x8c\\x87[\\xa8\\x94\\xba\\xe7\\x9e{\\xe8\\x15p\\x03\\xfb\\xf2d\\xc1\\x84\\'\\xfb\\xde\\xd0\\xd8j\\xe6\\x14\\x9f,S\\xd4\\x8e\\xdc2%\\xedhm\\x99\\xe2\\x95)\\x81\\x18t!\\xb3\\'1\\xca\\xc6\\xc1\\xf0&i\\xc3\\x13\\xcd~\\x08\\xe9\\x00>\\x08=\"\\x11;5\\xb2\\xda \\xfd\\xea\\xf5\\xeb\\xd7\\xb3u_\\x0c\\x07\\xc6ie\\x1f\\xec\\x8d7\\xde(i\\x14\\xcamJ\\xc6\\xe7Zb\\x98}\\x8f\\xf4\\xd2\\xaf\\xbf\\xfezM\\xd0\\xf7\\xf4\\xef\\xfb\\xef\\xbfO5\\xd8[[\\xb7\\xe15\\x04\\x11\\xfe\\xf6\\xc5>Z\\xacK\\x8cY\\x08\\x93\\xc3l\\xd2p\\x8e\\x1e\\xc5\\xe5\\xd3,\\xe2\\x8e111d\\xb7$\\x85\\xe9\\xc1(O\\xf4qG\\xb1\\xaf\\x05]\\x81~\\xb84\\xc8\\x8cJ\\xd8\\x03\\x07\\x0e\\xa8d\\x1d\\x7f\\x00\\xfd\\xf0V\\xb6\\x9f\\\\ztt\\xb4\\xaf\\x03\\x10]HdjG\\xed\\xd2\\xca\\x04\\xc1\\xc7\\xb0\\xb3\\xe3\\xf4\\xe9\\xd3y72u\\xed\\xc8\\xc2?\\x0b\\x17.\\xa4\\x82YZ\\xf2\\x81-GK\\x85+s\\xe5R7#\\xfd\\x8d\\xf8T|\\xe2!}\\x1d.\\xf4a!\\xb7\\xc2\\xdd\\r\\x0b\\x0b}\\xfd\\xcd\\xb7\\x86\\xdeS\\x829\\x17\\x12\\x85\\xac\\xdb\\xb54O\\x8a8\\x9d\\xa7\\x18w\\xe4]\\xb8\\xa4J3m\\x8e\\x193\\x86\\x8d\\x83\\xa1\\xc4\\xfa\\xd1\\xa9b\\xa8\\xc0\\xb0\\x0b\\xd4\\x96-[\\xf8j\\x07t\\x11q\\xb4>\\xf9w2\\x12:\\x8bM\\x19\\xc3\\xfd\\x1d[\\x9d\\x82\\x0e\\xd1\\xaf\\xe6\\x8d\\xa400\\xc7\\xf1\\xc9\\xc0(Mll,IL&\\xad\\xa8D_\\xb0`\\x01\\xbd\\xb2\\x8f>\\xfa\\x88\\xb4\\xd4\\x0f?\\xfe\\xdc$\\xf6\\xc6\\xfe}\\x7f\\xf7\\xcc3\\xcf\\x98\\x8d\\xb3f\\x96\\xf9\\xd9g\\x9f\\xd1\\x89\\xe4X$\\xcb\\x14G\\xe5\\xabX&\\xe9\\x89!C\\x86\\xd0\\x15V\\xaf^\\xcd\\xd6R\\xe77\\x12\\x97\\xa5\\xe6\\xad\\xd8\\xfc(\\xd7%b\\x0b,\\xe3\\xfc\\xf9\\xf3\\xf4\\xf0\\x86\\xcb*\\xf2\\xc7\\xe3K\\xb7\\xab\\xe6r\\xb8!\\xceT ~\\xd1\\xb4?77\\x97\\x87\\xf3\\xcd\\xfa;J\\xe8\\xdb\"l[\\x18x(Q|$R?\\xf4]S\\xa9$~\\xdd\\xa2\\tq\\xed\\xc8\\xa6\\xa8\\x94z\\xf8Q2\\xf2cR\\x93\\x08]\\xb6_\\xbf~\\xfa\\xfd\\x9aw\\xdc\\xd1\\x02}W\\xc2\\x0b?y\\x1a6\\xb8\\x9ar\\x86\\x9eJ|Z\\xc9\\xbd\\x90\\xa5]w\\xddu\\x16\\xf3\\x07iF\\xea\\x9c\\xce\"cV\\xe9/a(1\\xf5\\x13\\xb9\\x87\\x1d\\x11\\xab\\x1d9\\xe2\\x84y\\x81\\xfeW\\x7f\\xf7\\xdd\\xbbw\\xd3\\xbf|\\xb9\\xd5F\\x8d\\x1a\\xcd\\x9f?\\xffLI\\xfdk\\xeb\\xfc\\xa8y\\xcf\\x97\\xa6\\xef\\xd8\\xce\\xe7s6\\x9c\\x7f\\x87\\xf5ybS\\xe8\\xbd\\xfb\\xee\\xbbR\\xa7]\\xa9~/\\xce\\xdeb\\x1d\\xf8\\xb1\\xa8\\xeb\\xb3\\xc0\\x03\\xeb\\xba\\xa1>%Pd\\xc0W\\x07\\xb6\\x1d\\x06+\\xce\\xe9E~\\xb3m\\xdb\\xb6\\xe4y_~\\xf9ez\\xef\\xacW\\r3\\x156\\x97/\\xafg\\xf3\\xb8#[\\xe9\\x98JDz\\xb3\\xacP\\xa7\\x9d\\x07\\x0f\\x1e\\xa4\\xaa\\x02I\\n:\\xfd\\xc6\\x1bo\\xbc\\xf2\\xca+\\xf93\\xb0\\xe1\\x8d\\xcc\\x8a\\xe8\\xfat\"kXa\\x7f\\x0f\\x1e<\\x98\\xafm\\xb0q\\xe3F\\xba\\x1aU6\\x14\\x97\\x91\\xb5\\x06\\x06\\xe6,\\x8a\\x06\\xc6\\x90\\x16k\\xd1\\xc7l\\xe8\"\\x0f<\\xf0\\x00\\x19\\x12\\xd7\\x97\\x86\\x96\\xc9\\xc7Y\\xb3I\\xa7y\\x17^\\xd12y\\xc7YC\\xcbd\\xed\\xcb\\xdc2\\xc9\\xd8Z\\xb7n-=<{\\xe3EeH.\\x8e\\x9e\\xfc\\xee\\xbb\\xefn\\xd8\\xb0!\\x9dB\\x17\\x91\\xd6\\x0e13\\x95\\xac\\xb2U\\x19\\xe91H\\x16\\xd0\\x93Dp\\x1d\\x83\\xb5\\xa5\\xb2\\xdf\\x9b\\x9d\\x9d\\xcd~\\xac~!\\x00\\xc5F\\x066\\xcd0\\x9b\\xe2\\x91\\xf3\\xe0\\x83\\x0f\\x1a\\x1a\\x1b\\xbb\\xa9\\xd9*\\xe7\\xac; 7\\x12\\xf20;v\\xec`\\x8f\\xca\\xe6\\x96g\\xc6\\xc9\\xc6\\xfe\\x8b\\x8f\\xaa]2W\\xfa!\\x8a\\x8d\\xd7\\xd6\\xeb\\xca\\x90Y\\x92\\xdcdNC\\x1f\\xb6\\x14\\x97\\xff\\xe6\\xb0n\\xa0\\xd2u\\xc8\\xd2,\\x1a:X\\xd6QV\\xb0\\x06k\\xf6/\\x89]1\\xeb\\xc4OL\\x1co\\xce\\xfa;\\xf2OO+st\\xac6\\x1e\\xd6\\x1d\\x1f#_;\\x86\\x10\\xfeE\\xf1M\\xb3J\\x9eY\\xefc\\x1e\\xb34\\xbb\\xc5\\xd22\\xd8:\\x10\\x8a\\r\\x94c\\xc7\\x8e\\xe5K\\xdfJ\\x98\\xcd=.=Rtt\\xb4m\\x1d7\\x92\\xa0\\xfa\\xeb}\\xf7\\xfe\\x8ee\\x0be\\x91~\\xb9\\x94\\xcaC%4U\\xc7\\xc5%P\\xf9\\x02\\xbe\\xe2\\x0c\\x8e\\x1c\\xc3\\x9d.\\x01\\x06\\xe6+~\\x18\\x98\\x18\\x1a\\xd4\\x8b\\t\\x86\\xc5\\xd2 \\xea,-[\\xe5R46\\x9f,\\x93-\\x9fM\\x17\\x11\\xd7\\x12T\\x81\\x9fh\\xd69\\x8c\\x8d\\n\\xaa:v\\xc2j\\x9e\\xd22\\xf4\\xfc\\x10\\xaf4Z@\\x99Y\\xa3F\\x8dA\\x83\\x06\\xf1=T$\\x91\\xf0\\x12\\x0b\\x0e\\xd6y\\xc0\\xe3\\xf1t\\xef\\xde\\xdd\\xfa}\\x9d8qb\\xcc\\x981\\xfa\\xa0/\\x7fB\\xc3\\xe9\\xe8\\x19\\x86M\\xeafd\\t\\xcby\\x9bA6i\\xb1HL\\xe5\\xa1\\xfa\\xd5\\xd5W_-\\xfd\\x16\\xc3y1\\xab\\x0e\\xd0\\x8e\\x00\\x00\\x00\\x00\\x00@\\x15hG\\x00\\x00\\x00\\x00\\x00\\xa0\\n\\xb4#\\x00\\x00\\x00\\x00\\x00P\\x05\\xda\\x11\\x00\\x00\\x00\\x00\\x00\\xa8\\x02\\xed\\x08\\x00\\x00\\x00\\x00\\x00T\\x81v\\x04\\x00\\x00\\x00\\x00\\x00\\xaa@;\\x02\\x00\\x00\\x00\\x00\\x00U\\xa0\\x1d\\x01\\x00\\x00\\x00\\x00\\x80*\\xd0\\x8e\\x00\\x00\\x00\\x00\\x00@\\x15hG\\x00\\x00\\x00\\x00\\x00\\xa0\\n\\xb4#\\x00\\x00\\x00\\x00\\x00P\\x05\\xda\\x11\\x00\\x00\\x00\\x00\\x00\\xa8\\x02\\xed\\x08\\x00\\x00\\x00\\x00\\x00T\\x81v\\x04\\x00\\x00\\x00\\x00\\x00\\xaa@;\\x02\\x00\\x00\\x00\\x00\\x00U\\xa0\\x1d\\x01\\x00\\x00\\x00\\x00\\x80*\\xd0\\x8e\\x00\\x00\\x00\\x00\\x00@\\x15hG\\x00\\x00\\x00\\x00\\x00\\xa0\\n\\xb4#\\x00\\x00\\x00\\x00\\x00P\\x05\\xda\\x11\\x00\\x00\\x00\\x00\\x00\\xa8\\x02\\xed\\x08\\x00\\x00\\x00\\x00\\x00T\\xf9\\xff\\xe4q\\x91\\x14\\xed\\xf8\\x88a\\x00\\x00\\x00\\x00IEND\\xaeB`\\x82'}]"
     },
     "execution_count": 7,
     "metadata": {},
     "output_type": "execute_result"
    }
   ],
   "source": [
    "\n",
    "# imgblocks"
   ]
  },
  {
   "cell_type": "code",
   "execution_count": 52,
   "metadata": {},
   "outputs": [],
   "source": [
    "doc.layout()  #???"
   ]
  },
  {
   "cell_type": "code",
   "execution_count": 43,
   "metadata": {},
   "outputs": [
    {
     "data": {
      "text/plain": "[[87, 0, 213, 32, 8, 'Indexed', '', 'Image85', 'FlateDecode']]"
     },
     "execution_count": 43,
     "metadata": {},
     "output_type": "execute_result"
    }
   ],
   "source": [
    "doc.getPageImageList(4)"
   ]
  },
  {
   "cell_type": "code",
   "execution_count": 45,
   "metadata": {},
   "outputs": [],
   "source": [
    "pix.writePNG(\"page-%i.png\" % 1)  # store image as a PNG"
   ]
  },
  {
   "cell_type": "code",
   "execution_count": 22,
   "metadata": {},
   "outputs": [
    {
     "data": {
      "text/plain": "[]"
     },
     "execution_count": 22,
     "metadata": {},
     "output_type": "execute_result"
    }
   ],
   "source": [
    "import re\n",
    "def matchsth(content,sth):\n",
    "    zhmodel = re.compile(sth)    \n",
    "    match = zhmodel.findall(content)\n",
    "    return match\n",
    "matchsth(svg,sth=u'[\\u4e00-\\u9fa5]')"
   ]
  },
  {
   "cell_type": "markdown",
   "metadata": {},
   "source": [
    "#### todo 对图片裁剪，保留有效部分"
   ]
  },
  {
   "cell_type": "code",
   "execution_count": 12,
   "metadata": {},
   "outputs": [
    {
     "data": {
      "text/plain": "(1122, 793, 4)"
     },
     "execution_count": 12,
     "metadata": {},
     "output_type": "execute_result"
    }
   ],
   "source": [
    "im.shape"
   ]
  },
  {
   "cell_type": "code",
   "execution_count": 4,
   "metadata": {},
   "outputs": [],
   "source": [
    "import sys\n",
    "sys.setrecursionlimit(15000)\n",
    "\n",
    "def walk(point,regions_x,regions_y,dire=\"11111111\"):\n",
    "    # print(point)\n",
    "    # if point in Points:\n",
    "    #     return \n",
    "    if point[0] >= 0 and point[0] < im.shape[0] and point[1]>=0 and point[1] < im.shape[1]:\n",
    "        pixel = im[point[0],point[1]]\n",
    "        if not is_black(pixel):\n",
    "            regions_x.append(point[0])\n",
    "            regions_y.append(point[1])\n",
    "            # regions.append(point)\n",
    "            if dire[0] == \"1\":\n",
    "                walk([point[0]+1,point[1]],regions_x,regions_y,dire=\"10100010\")\n",
    "            # if dire[1] == \"1\":\n",
    "            #     walk([point[0]+1,point[1]+1],regions_x,regions_y,dire=\"01000000\",Points=Points)\n",
    "            if dire[2] == \"1\":\n",
    "                walk([point[0],point[1]+1],regions_x,regions_y,dire=\"10101000\")\n",
    "            # if dire[3] == \"1\":\n",
    "            #      walk([point[0]-1,point[1]+1],regions_x,regions_y,dire=\"00010000\",Points=Points)\n",
    "            if dire[4] == \"1\":\n",
    "                walk([point[0]-1,point[1]],regions_x,regions_y,dire=\"00101010\")\n",
    "            # if dire[5] == \"1\":\n",
    "            #     walk([point[0]-1,point[1]-1],regions_x,regions_y,dire=\"00000010\",Points=Points)\n",
    "            if dire[6] == \"1\":\n",
    "                walk([point[0],point[1]-1],regions_x,regions_y,dire=\"10001010\")\n",
    "            # if dire[7] == \"1\":\n",
    "            #     walk([point[0]+1,point[1]-1],regions_x,regions_y,dire=\"00000001\",Points=Points)\n",
    "def rect_grow(point,rects):\n",
    "    global regions_x\n",
    "    global regions_y\n",
    "    # global Points\n",
    "    # Points = []\n",
    "    regions_x = []\n",
    "    regions_y = []\n",
    "    walk(point,regions_x=regions_x,regions_y=regions_y)\n",
    "    if len(regions_x)>0 and len(regions_y)>0:\n",
    "        min_x = min(regions_x)\n",
    "        max_x = max(regions_x)\n",
    "        min_y = min(regions_y)\n",
    "        max_y = max(regions_y)\n",
    "        if max_x - min_x > 50 or max_y - min_y >50:\n",
    "            rects.append([min_x,max_x,min_y,max_y])\n",
    "    return rects\n",
    "\n",
    "\n",
    "def is_in_rects(point,rects):\n",
    "    for rect in rects:\n",
    "        if point[0]>= rect[0] and point[0]<=rect[1] and point[1] >= rect[2] and point[1] <= rect[3]:\n",
    "            return True"
   ]
  },
  {
   "cell_type": "code",
   "execution_count": 15,
   "metadata": {},
   "outputs": [],
   "source": [
    "def search_rect():\n",
    "    \"\"\"\n",
    "    在page页面搜索非背景部分，形成矩形框\n",
    "    \"\"\"\n",
    "    rects = []\n",
    "    for y in range(0,im.shape[1]):\n",
    "        for x in range(0,im.shape[0]):\n",
    "            pixel = im[x,y]\n",
    "            point = [x,y]\n",
    "            if not is_black(pixel) and not is_in_rects(point,rects):\n",
    "                # return pixel,point\n",
    "                rects = rect_grow(point,rects)\n",
    "            # if len(rects)>0:\n",
    "            #     return rects\n",
    "    return rects\n",
    "rects = search_rect()"
   ]
  },
  {
   "cell_type": "code",
   "execution_count": 7,
   "metadata": {},
   "outputs": [
    {
     "data": {
      "text/plain": "[[189, 525, 95, 672],\n [586, 840, 95, 672],\n [951, 959, 96, 720],\n [48, 182, 98, 359],\n [545, 881, 291, 672]]"
     },
     "execution_count": 7,
     "metadata": {},
     "output_type": "execute_result"
    }
   ],
   "source": [
    "rects"
   ]
  },
  {
   "cell_type": "code",
   "execution_count": 11,
   "metadata": {},
   "outputs": [
    {
     "data": {
      "text/plain": "[[48, 182, 98, 359],\n [189, 525, 95, 672],\n [545, 881, 460, 672],\n [629, 797, 139, 672],\n [645, 797, 95, 672],\n [951, 959, 96, 720]]"
     },
     "execution_count": 11,
     "metadata": {},
     "output_type": "execute_result"
    }
   ],
   "source": [
    "sorted(rects,key=lambda x:x[0])"
   ]
  },
  {
   "cell_type": "code",
   "execution_count": 12,
   "metadata": {},
   "outputs": [
    {
     "name": "stdout",
     "output_type": "stream",
     "text": "--\n"
    },
    {
     "data": {
      "text/plain": "[[48, 182, 98, 359],\n [189, 525, 95, 672],\n [629, 797, 139, 672],\n [645, 797, 95, 672],\n [951, 959, 96, 720]]"
     },
     "execution_count": 12,
     "metadata": {},
     "output_type": "execute_result"
    }
   ],
   "source": [
    "def overlap(rect,rects):\n",
    "    \"\"\"\n",
    "    rect 是否重叠\n",
    "    \"\"\"\n",
    "    for i in range(len(rects)):\n",
    "        cur_rect = rects[i]\n",
    "        if is_in_rects(point=[rect[0],rect[1]],rects=[cur_rect]) or is_in_rects(point=[rect[2],rect[3]],rects=[cur_rect]):\n",
    "            print(\"--\")\n",
    "            cur_rect = [min(rect[0],cur_rect[0]),\n",
    "                        max(rect[1],cur_rect[1]),\n",
    "                        min(rect[2],cur_rect[2]),\n",
    "                        max(rect[3],cur_rect[3])]\n",
    "            return True\n",
    "\n",
    "def post_rects(rects):\n",
    "    rects = sorted(rects,key=lambda x:x[0])\n",
    "    new_rects = []\n",
    "    for rect in rects:\n",
    "        if not overlap(rect,new_rects):\n",
    "            new_rects.append(rect)\n",
    "    return new_rects\n",
    "\n",
    "post_rects(rects)"
   ]
  },
  {
   "cell_type": "code",
   "execution_count": 5,
   "metadata": {},
   "outputs": [],
   "source": [
    "rect_grow(point=[687, 397],rects=[])"
   ]
  },
  {
   "cell_type": "code",
   "execution_count": 14,
   "metadata": {},
   "outputs": [
    {
     "data": {
      "text/plain": "array([255, 255, 255, 255], dtype=uint8)"
     },
     "execution_count": 14,
     "metadata": {},
     "output_type": "execute_result"
    }
   ],
   "source": [
    "im[600,100] # array([  0,   0,   0, 255], dtype=uint8) black\n",
    "im[336,285]  # min(数据)变成黑色，max(数据)变成白色"
   ]
  },
  {
   "cell_type": "code",
   "execution_count": 35,
   "metadata": {},
   "outputs": [],
   "source": [
    "# [{'x0': 28.11, 'y1': 33.75, 'x1': 574.898, 'y0': 494.858, 'top_2': 807.17, 'bottom_2': 348.062}]\n",
    "# [{'x0': 204.36, 'y1': 240.612, 'x1': 528.358, 'y0': 423.965, 'top_2': 600.308, 'bottom_2': 418.955}, {'x0': 50.05, 'y1': 33.75, 'x1': 211.8, 'y0': 59.75, 'top_2': 807.17, 'bottom_2': 783.17}]\n",
    "# clip[\"x0\"], clip[\"y1\"], clip[\"x1\"], clip[\"y0\"]\n",
    "def crop(rect,im,i):\n",
    "    crop_im = im[rect[0]:rect[1],rect[2]:rect[3]]\n",
    "    crop_im = Image.fromarray(crop_im)\n",
    "    crop_im.save(\"./pdfs/imgs/res_%s.png\" % i)\n"
   ]
  },
  {
   "cell_type": "code",
   "execution_count": 44,
   "metadata": {},
   "outputs": [
    {
     "ename": "ValueError",
     "evalue": "too many values to unpack (expected 4)",
     "output_type": "error",
     "traceback": [
      "\u001b[0;31m---------------------------------------------------------------------------\u001b[0m",
      "\u001b[0;31mValueError\u001b[0m                                Traceback (most recent call last)",
      "\u001b[0;32m<ipython-input-44-afe243c56ec1>\u001b[0m in \u001b[0;36m<module>\u001b[0;34m\u001b[0m\n\u001b[1;32m      8\u001b[0m \u001b[0mpm\u001b[0m \u001b[0;34m=\u001b[0m \u001b[0mpage\u001b[0m\u001b[0;34m.\u001b[0m\u001b[0mgetPixmap\u001b[0m\u001b[0;34m(\u001b[0m\u001b[0mmatrix\u001b[0m\u001b[0;34m=\u001b[0m\u001b[0mtrans\u001b[0m\u001b[0;34m,\u001b[0m \u001b[0malpha\u001b[0m\u001b[0;34m=\u001b[0m\u001b[0;36m0\u001b[0m\u001b[0;34m,\u001b[0m \u001b[0mclip\u001b[0m\u001b[0;34m=\u001b[0m\u001b[0;34m(\u001b[0m\u001b[0mclip\u001b[0m\u001b[0;34m[\u001b[0m\u001b[0;34m\"x0\"\u001b[0m\u001b[0;34m]\u001b[0m\u001b[0;34m,\u001b[0m \u001b[0mclip\u001b[0m\u001b[0;34m[\u001b[0m\u001b[0;34m\"y1\"\u001b[0m\u001b[0;34m]\u001b[0m\u001b[0;34m,\u001b[0m \u001b[0mclip\u001b[0m\u001b[0;34m[\u001b[0m\u001b[0;34m\"x1\"\u001b[0m\u001b[0;34m]\u001b[0m\u001b[0;34m,\u001b[0m \u001b[0mclip\u001b[0m\u001b[0;34m[\u001b[0m\u001b[0;34m\"y0\"\u001b[0m\u001b[0;34m]\u001b[0m\u001b[0;34m)\u001b[0m\u001b[0;34m)\u001b[0m\u001b[0;34m\u001b[0m\u001b[0;34m\u001b[0m\u001b[0m\n\u001b[1;32m      9\u001b[0m \u001b[0;34m\u001b[0m\u001b[0m\n\u001b[0;32m---> 10\u001b[0;31m \u001b[0mimage_data\u001b[0m\u001b[0;34m,\u001b[0m \u001b[0mimage_name\u001b[0m\u001b[0;34m,\u001b[0m \u001b[0mimage_width\u001b[0m\u001b[0;34m,\u001b[0m \u001b[0mimage_height\u001b[0m \u001b[0;34m=\u001b[0m \u001b[0mpm\u001b[0m\u001b[0;34m.\u001b[0m\u001b[0mgetPNGData\u001b[0m\u001b[0;34m(\u001b[0m\u001b[0;34m)\u001b[0m\u001b[0;34m\u001b[0m\u001b[0;34m\u001b[0m\u001b[0m\n\u001b[0m\u001b[1;32m     11\u001b[0m \u001b[0mimage_data\u001b[0m\u001b[0;34m\u001b[0m\u001b[0;34m\u001b[0m\u001b[0m\n",
      "\u001b[0;31mValueError\u001b[0m: too many values to unpack (expected 4)"
     ]
    }
   ],
   "source": [
    "clip = {'x0': 50.05, 'y1': 33.75, 'x1': 211.8, 'y0': 59.75, 'top_2': 807.17, 'bottom_2': 783.17}\n",
    "# crop(rect=[int(clip[\"x0\"]), int(clip[\"y1\"]), int(clip[\"x1\"]), int(clip[\"y0\"])],im=im,i=\"res\")\n",
    "\n",
    "\n",
    "fitz_page, zoom, rotate = page, int(1000), int(0)\n",
    "\n",
    "trans = fitz.Matrix(zoom / 500.0, zoom / 500.0).preRotate(rotate)\n",
    "pm = page.getPixmap(matrix=trans, alpha=0, clip=(clip[\"x0\"], clip[\"y1\"], clip[\"x1\"], clip[\"y0\"]))\n",
    "\n",
    "image_data, image_name, image_width, image_height = pm.getPNGData()\n",
    "image_data"
   ]
  },
  {
   "cell_type": "code",
   "execution_count": 45,
   "metadata": {},
   "outputs": [
    {
     "ename": "NameError",
     "evalue": "name 'rects' is not defined",
     "output_type": "error",
     "traceback": [
      "\u001b[0;31m---------------------------------------------------------------------------\u001b[0m",
      "\u001b[0;31mNameError\u001b[0m                                 Traceback (most recent call last)",
      "\u001b[0;32m<ipython-input-45-a83c4c907ba1>\u001b[0m in \u001b[0;36m<module>\u001b[0;34m\u001b[0m\n\u001b[0;32m----> 1\u001b[0;31m \u001b[0;32mfor\u001b[0m \u001b[0mi\u001b[0m \u001b[0;32min\u001b[0m \u001b[0mrange\u001b[0m\u001b[0;34m(\u001b[0m\u001b[0mlen\u001b[0m\u001b[0;34m(\u001b[0m\u001b[0mrects\u001b[0m\u001b[0;34m)\u001b[0m\u001b[0;34m)\u001b[0m\u001b[0;34m:\u001b[0m\u001b[0;34m\u001b[0m\u001b[0;34m\u001b[0m\u001b[0m\n\u001b[0m\u001b[1;32m      2\u001b[0m     \u001b[0mcrop\u001b[0m\u001b[0;34m(\u001b[0m\u001b[0mrects\u001b[0m\u001b[0;34m[\u001b[0m\u001b[0mi\u001b[0m\u001b[0;34m]\u001b[0m\u001b[0;34m,\u001b[0m\u001b[0mim\u001b[0m\u001b[0;34m,\u001b[0m\u001b[0mi\u001b[0m\u001b[0;34m)\u001b[0m\u001b[0;34m\u001b[0m\u001b[0;34m\u001b[0m\u001b[0m\n",
      "\u001b[0;31mNameError\u001b[0m: name 'rects' is not defined"
     ]
    }
   ],
   "source": [
    "for i in range(len(rects)):\n",
    "    crop(rects[i],im,i)"
   ]
  },
  {
   "cell_type": "code",
   "execution_count": 46,
   "metadata": {},
   "outputs": [
    {
     "ename": "FileNotFoundError",
     "evalue": "[Errno 2] No such file or directory: './vec4_filter.png'",
     "output_type": "error",
     "traceback": [
      "\u001b[0;31m---------------------------------------------------------------------------\u001b[0m",
      "\u001b[0;31mFileNotFoundError\u001b[0m                         Traceback (most recent call last)",
      "\u001b[0;32m<ipython-input-46-b1e509d32239>\u001b[0m in \u001b[0;36m<module>\u001b[0;34m\u001b[0m\n\u001b[1;32m      1\u001b[0m \u001b[0;32mimport\u001b[0m \u001b[0mnumpy\u001b[0m \u001b[0;32mas\u001b[0m \u001b[0mnp\u001b[0m\u001b[0;34m\u001b[0m\u001b[0;34m\u001b[0m\u001b[0m\n\u001b[1;32m      2\u001b[0m \u001b[0;32mfrom\u001b[0m \u001b[0mpylab\u001b[0m \u001b[0;32mimport\u001b[0m \u001b[0;34m*\u001b[0m\u001b[0;34m\u001b[0m\u001b[0;34m\u001b[0m\u001b[0m\n\u001b[0;32m----> 3\u001b[0;31m \u001b[0mimage\u001b[0m \u001b[0;34m=\u001b[0m \u001b[0mImage\u001b[0m\u001b[0;34m.\u001b[0m\u001b[0mopen\u001b[0m\u001b[0;34m(\u001b[0m\u001b[0;34m\"./vec4_filter.png\"\u001b[0m\u001b[0;34m)\u001b[0m\u001b[0;34m\u001b[0m\u001b[0;34m\u001b[0m\u001b[0m\n\u001b[0m\u001b[1;32m      4\u001b[0m \u001b[0;31m# for pixel in image.getdata():\u001b[0m\u001b[0;34m\u001b[0m\u001b[0;34m\u001b[0m\u001b[0;34m\u001b[0m\u001b[0m\n\u001b[1;32m      5\u001b[0m \u001b[0;31m#     print(pixel)\u001b[0m\u001b[0;34m\u001b[0m\u001b[0;34m\u001b[0m\u001b[0;34m\u001b[0m\u001b[0m\n",
      "\u001b[0;32m~/.local/lib/python3.6/site-packages/PIL/Image.py\u001b[0m in \u001b[0;36mopen\u001b[0;34m(fp, mode)\u001b[0m\n\u001b[1;32m   2807\u001b[0m \u001b[0;34m\u001b[0m\u001b[0m\n\u001b[1;32m   2808\u001b[0m     \u001b[0;32mif\u001b[0m \u001b[0mfilename\u001b[0m\u001b[0;34m:\u001b[0m\u001b[0;34m\u001b[0m\u001b[0;34m\u001b[0m\u001b[0m\n\u001b[0;32m-> 2809\u001b[0;31m         \u001b[0mfp\u001b[0m \u001b[0;34m=\u001b[0m \u001b[0mbuiltins\u001b[0m\u001b[0;34m.\u001b[0m\u001b[0mopen\u001b[0m\u001b[0;34m(\u001b[0m\u001b[0mfilename\u001b[0m\u001b[0;34m,\u001b[0m \u001b[0;34m\"rb\"\u001b[0m\u001b[0;34m)\u001b[0m\u001b[0;34m\u001b[0m\u001b[0;34m\u001b[0m\u001b[0m\n\u001b[0m\u001b[1;32m   2810\u001b[0m         \u001b[0mexclusive_fp\u001b[0m \u001b[0;34m=\u001b[0m \u001b[0;32mTrue\u001b[0m\u001b[0;34m\u001b[0m\u001b[0;34m\u001b[0m\u001b[0m\n\u001b[1;32m   2811\u001b[0m \u001b[0;34m\u001b[0m\u001b[0m\n",
      "\u001b[0;31mFileNotFoundError\u001b[0m: [Errno 2] No such file or directory: './vec4_filter.png'"
     ]
    }
   ],
   "source": [
    "import numpy as np\n",
    "from pylab import *\n",
    "image = Image.open(\"./vec4_filter.png\")\n",
    "# for pixel in image.getdata():\n",
    "#     print(pixel)\n",
    "im = np.array(image)\n",
    "im.shape\n"
   ]
  },
  {
   "cell_type": "markdown",
   "metadata": {},
   "source": [
    "### pdf逐页转为png"
   ]
  },
  {
   "cell_type": "code",
   "execution_count": 24,
   "metadata": {},
   "outputs": [],
   "source": [
    "# pm = page.getPixmap(matrix=trans, alpha=False)  # 将其转化为光栅文件（位数）\n",
    "# new_full_name = full_path.split(\".\")[0]  # 保证输出的文件名不变\n",
    "# pm.writeImage(\"%s%s.jpg\" % (new_full_name, pg))  # 将其输入为相应的图片格式，可以为位图，也可以为矢量图\n",
    "# 我本来想输出为jpg文件，但是在网页中都是png格式（即调用writePNG），再转换成别的图像文件前，最好查一下是否支持\n",
    "# import sys, fitz  # import the binding\n",
    "# fname = sys.argv[1]  # get filename from command line\n",
    "# doc = fitz.open(fname)  # open document\n",
    "for page in doc:  # iterate through the pages\n",
    "    pix = page.getPixmap(alpha = False)  # render page to an image\n",
    "    pix.writePNG(\"page-%i.png\" % page.number)  # store image as a PNG"
   ]
  },
  {
   "cell_type": "code",
   "execution_count": 2,
   "metadata": {},
   "outputs": [
    {
     "data": {
      "text/plain": "{'format': 'PDF 1.4',\n 'title': 'Microsoft Word - 测试文档.docx',\n 'author': None,\n 'subject': None,\n 'keywords': None,\n 'creator': 'Word',\n 'producer': 'macOS Version 10.15.3 (Build 19D76) Quartz PDFContext',\n 'creationDate': \"D:20200226051640Z00'00'\",\n 'modDate': \"D:20200226051640Z00'00'\",\n 'encryption': None}"
     },
     "execution_count": 2,
     "metadata": {},
     "output_type": "execute_result"
    }
   ],
   "source": [
    "doc.metadata"
   ]
  },
  {
   "cell_type": "code",
   "execution_count": 13,
   "metadata": {},
   "outputs": [
    {
     "data": {
      "text/plain": "Rect(0.0, 0.0, 595.3200073242188, 841.9199829101562)"
     },
     "execution_count": 13,
     "metadata": {},
     "output_type": "execute_result"
    }
   ],
   "source": [
    "page.rect  # 获取page的矩阵框"
   ]
  },
  {
   "cell_type": "code",
   "execution_count": 12,
   "metadata": {},
   "outputs": [
    {
     "name": "stdout",
     "output_type": "stream",
     "text": "page 1\npage 2\npage 3\npage 4\npage 5\npage 6\npage 7\npage 8\npage 9\npage 10\npage 11\npage 12\npage 13\n"
    }
   ],
   "source": [
    "\"\"\"\n",
    "逐页抽取内容\n",
    "\"\"\"\n",
    "counter = 0\n",
    "for page in doc:  # iterate the document pages\n",
    "    counter += 1\n",
    "    print(\"page\",counter)\n",
    "    text = page.getText()  # get plain text (is in UTF-8)\n",
    "    # print(text)"
   ]
  },
  {
   "cell_type": "code",
   "execution_count": 4,
   "metadata": {},
   "outputs": [
    {
     "data": {
      "text/plain": "'\\n get all outlines (also called “bookmarks”) of a document,\\n [[lvl, title, page, …], …] \\nlvl is the hierarchy level of the entry (starting from 1), title is the entry’s title, and page the page number (1-based!). Other parameters describe details of the bookmark target.\\n'"
     },
     "execution_count": 4,
     "metadata": {},
     "output_type": "execute_result"
    }
   ],
   "source": [
    "\"\"\"\n",
    " get all outlines (also called “bookmarks”) of a document,\n",
    " [[lvl, title, page, …], …] \n",
    "lvl is the hierarchy level of the entry (starting from 1), title is the entry’s title, and page the page number (1-based!). Other parameters describe details of the bookmark target.\n",
    "\"\"\"\n",
    "\n",
    "# doc.getToC()"
   ]
  },
  {
   "cell_type": "code",
   "execution_count": 9,
   "metadata": {},
   "outputs": [
    {
     "data": {
      "text/plain": "'深圳广田集团股份有限公司 2018 年年度报告摘要\\n1\\n证券代码：002482                      \\n证券简称：广田集团\\n公告编号：2019-021\\n深圳广田集团股份有限公司 2018 年年度报告摘要\\n一、重要提示\\n本年度报告摘要来自年度报告全文，为全面了解本公司的经营成果、财务状况及未来发展规划，投资者应当到证监会指定媒\\n体仔细阅读年度报告全文。\\n非标准审计意见提示\\n□ 适用 √ 不适用\\n董事会审议的报告期普通股利润分配预案或公积金转增股本预案\\n√ 适用 □ 不适用\\n是否以公积金转增股本\\n□ 是 √ 否\\n公司经本次董事会审议通过的普通股利润分配预案为：以总股本为基数，向全体股东每 10 股派发现金红利 0.30 元（含税），\\n送红股 0 股（含税），不以公积金转增股本。\\n董事会决议通过的本报告期优先股利润分配预案\\n□ 适用 √ 不适用\\n二、公司基本情况\\n1、公司简介\\n股票简称\\n广田集团\\n股票代码\\n002482\\n股票上市交易所\\n深圳证券交易所\\n联系人和联系方式\\n董事会秘书\\n证券事务代表\\n姓名\\n赵国文\\n朱凯、李儒谦\\n办公地址\\n深圳市罗湖区深南东路 2098 号广田集团\\n大厦\\n深圳市罗湖区深南东路2098号广田集团大\\n厦\\n电话\\n0755-25886666-1187\\n0755-25886666-1187\\n电子信箱\\nzq@szgt.com\\nzq@szgt.com\\n2、报告期主要业务或产品简介\\n（一）报告期内，公司的主营业务及其变化情况\\n公司是一家集建筑装饰设计与施工、绿色建材研发生产为一体的大型上市集团企业，主要为大型房地产企业、政府机构、\\n大型企业和高档酒店等提供装饰设计和施工服务。公司承接的项目包括公共建筑装饰、住宅精装修等，涵盖星级酒店、商业\\n综合体、大型场馆、写字楼、轨道交通、住宅精装修等多种业态类型。\\n公司是建筑装饰企业中高等级资质最完备的企业之一，公司及子公司拥有的壹级、甲级资质主要有建筑装修装饰工程专\\n业承包壹级、建筑幕墙工程专业承包壹级、机电设备安装工程专业承包壹级、电子与智能化工程专业承包壹级、消防设施工\\n程专业承包壹级、建筑装饰工程设计专项甲级、建筑幕墙工程设计专项甲级、建筑智能化系统设计专项甲级、消防设施工程\\n设计专项甲级、建筑工程施工总承包壹级、市政公用工程施工总承包壹级、钢结构工程专业承包壹级、地基基础工程专业承\\n包壹级、古建筑工程专业承包壹级、博物馆陈列展览施工壹级和设计甲级等资质。报告期内，公司主营业务未发生重大变化。\\n（二）行业发展概况\\n2018年是全面贯彻落实中共十九大精神的开局之年，我国供给侧结构性改革持续深化，经济结构继续优化，经济发展质\\n量得到进一步提高。国家区域协调发展战略的进一步推动，增强了区域发展活力，新型城镇化、京津冀协同发展、“一带一\\n'"
     },
     "execution_count": 9,
     "metadata": {},
     "output_type": "execute_result"
    }
   ],
   "source": [
    "page0.getText()"
   ]
  },
  {
   "cell_type": "code",
   "execution_count": 58,
   "metadata": {},
   "outputs": [
    {
     "data": {
      "text/plain": "page 0 of /home/ginger/Projects/Learning/P_Stack/pdf_tools/pdfs/pdf_catas/20190713_国泰君安_宏观周报_ 信用流向地产和基建，制造业内外交困_花长春 韩旭 董琦 赵格格.pdf"
     },
     "execution_count": 58,
     "metadata": {},
     "output_type": "execute_result"
    }
   ],
   "source": [
    "page0"
   ]
  },
  {
   "cell_type": "code",
   "execution_count": null,
   "metadata": {},
   "outputs": [],
   "source": [
    "base_path = input(\"请输入要转换的文件路径：\")  # 输入要转换的PDF所在的文件夹\n",
    "filenames = os.listdir(base_path)　　　　　　# 获取PDF文件列表\n",
    "for filename in filenames:\n",
    "    full_path = os.path.join(base_path, filename)  # 拼接，得到PDF文件的绝对路径\n",
    "    print(full_path)\n",
    "    doc = fitz.open(full_path)  # 打开一个PDF文件，doc为Document类型，是一个包含每一页PDF文件的列表\n",
    "    rotate = int(0)  # 设置图片的旋转角度\n",
    "    zoom_x = 2.0  # 设置图片相对于PDF文件在X轴上的缩放比例\n",
    "    zoom_y = 2.0  # 设置图片相对于PDF文件在Y轴上的缩放比例\n",
    "    trans = fitz.Matrix(zoom_x, zoom_y).preRotate(rotate)\n",
    "    print(\"%s开始转换...\" % filename)\n",
    "    if doc.pageCount > 1:  # 获取PDF的页数\n",
    "        for pg in range(doc.pageCount):\n",
    "            page = doc[pg]  # 获得第pg页\n",
    "            pm = page.getPixmap(matrix=trans, alpha=False)  # 将其转化为光栅文件（位数）\n",
    "            new_full_name = full_path.split(\".\")[0]  # 保证输出的文件名不变\n",
    "            pm.writeImage(\"%s%s.jpg\" % (new_full_name, pg))  # 将其输入为相应的图片格式，可以为位图，也可以为矢量图\n",
    "　　　　　　      # 我本来想输出为jpg文件，但是在网页中都是png格式（即调用writePNG），再转换成别的图像文件前，最好查一下是否支持\n",
    "    else:\n",
    "        page = doc[0]\n",
    "        pm = page.getPixmap(matrix=trans, alpha=False)\n",
    "        new_full_name = full_path.split(\".\")[0]\n",
    "        pm.writeImage(\"%s.jpg\" % new_full_name)\n",
    "    print(\"%s转换完成！\" % filename)"
   ]
  },
  {
   "cell_type": "code",
   "execution_count": null,
   "metadata": {},
   "outputs": [],
   "source": []
  }
 ]
}