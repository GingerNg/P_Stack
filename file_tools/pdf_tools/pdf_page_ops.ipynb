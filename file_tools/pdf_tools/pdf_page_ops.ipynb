{
 "nbformat": 4,
 "nbformat_minor": 2,
 "metadata": {
  "language_info": {
   "name": "python",
   "codemirror_mode": {
    "name": "ipython",
    "version": 3
   },
   "version": "3.6.9-final"
  },
  "orig_nbformat": 2,
  "file_extension": ".py",
  "mimetype": "text/x-python",
  "name": "python",
  "npconvert_exporter": "python",
  "pygments_lexer": "ipython3",
  "version": 3,
  "kernelspec": {
   "name": "python36964bitb377107951a642b890c3e40487126bca",
   "display_name": "Python 3.6.9 64-bit"
  }
 },
 "cells": [
  {
   "cell_type": "code",
   "execution_count": null,
   "metadata": {},
   "outputs": [],
   "source": []
  },
  {
   "cell_type": "code",
   "execution_count": 7,
   "metadata": {},
   "outputs": [],
   "source": [
    "import os\n",
    "import fitz \n",
    "# file_name = \"比音勒芬.PDF\"\n",
    "# file_name = \"天科股份2017年年度报告摘要.pdf\"\n",
    "# file_name = \"年度报告多页.pdf\"\n",
    "# file_name = \"深圳广田集团股份有限公司 2018 年年度报告摘要.PDF\"\n",
    "file_name = \"20190713_国泰君安_宏观周报_ 信用流向地产和基建，制造业内外交困_花长春 韩旭 董琦 赵格格.pdf\"\n",
    "full_path = os.getcwd()+\"/pdfs/pdf_catas/\"+file_name\n",
    "\n",
    "# full_path = os.getcwd()+\"/pdfs/\"+\"表格重要元素测试i文档.pdf\"\n",
    "full_path = os.getcwd()+\"/pdfs/\"+\"表格重要元素测试文档.pdf\"\n",
    "doc = fitz.open(full_path)"
   ]
  },
  {
   "cell_type": "code",
   "execution_count": 2,
   "metadata": {},
   "outputs": [
    {
     "ename": "SyntaxError",
     "evalue": "invalid syntax (<ipython-input-2-d04f7c031cd7>, line 4)",
     "output_type": "error",
     "traceback": [
      "\u001b[0;36m  File \u001b[0;32m\"<ipython-input-2-d04f7c031cd7>\"\u001b[0;36m, line \u001b[0;32m4\u001b[0m\n\u001b[0;31m    def delete\u001b[0m\n\u001b[0m              ^\u001b[0m\n\u001b[0;31mSyntaxError\u001b[0m\u001b[0;31m:\u001b[0m invalid syntax\n"
     ]
    }
   ],
   "source": [
    "doc.select([1])\n",
    "doc.save(\"./pdfs/one.pdf\")\n",
    "doc.close()"
   ]
  },
  {
   "cell_type": "code",
   "execution_count": 9,
   "metadata": {},
   "outputs": [],
   "source": [
    "def delete_pages(doc,to_delete_page_nos,file_name):\n",
    "    \"\"\"\n",
    "    to_delete_page_nos: 待删除的pdf的页码\n",
    "    \"\"\"\n",
    "    try:\n",
    "        p_remains = [p for p in range(len(doc)) if p not in to_delete_page_nos]\n",
    "        doc.select(p_remains)\n",
    "        doc.save(file_name)\n",
    "        doc.close()\n",
    "    except Exception as e:\n",
    "        print(repr(e))\n",
    "delete_pages(doc=doc,to_delete_page_nos=[0],file_name=\"./pdfs/result.pdf\")"
   ]
  },
  {
   "cell_type": "code",
   "execution_count": 24,
   "metadata": {},
   "outputs": [],
   "source": [
    "# insertPage\n",
    "def insert_pages(dest_file,src_file,result_file,from_page=-1, to_page=-1, start_at=-1):\n",
    "    \"\"\"\n",
    "    将src文件插入dest_file，保存为result_file\n",
    "    - from_page (int) – First page number in docsrc. Default is zero.\n",
    "    - to_page (int) – Last page number in docsrc to copy. Default is the last page.\n",
    "    - start_at (int) – First copied page will become page number start_at in the destination.\n",
    "    \"\"\"\n",
    "    dest_doc = fitz.open(dest_file)\n",
    "    src_doc = fitz.open(src_file)\n",
    "    dest_doc.insertPDF(docsrc=src_doc,from_page=from_page, to_page=to_page, start_at=start_at)\n",
    "    dest_doc.save(result_file)\n",
    "\n",
    "dest_path = os.getcwd()+\"/pdfs/\"+\"表格重要元素测试i文档.pdf\"\n",
    "src_path = os.getcwd()+\"/pdfs/\"+\"case55.pdf\"\n",
    "result_path = os.getcwd()+\"/pdfs/\"+\"insert_result.pdf\"\n",
    "from_page = -1\n",
    "to_page = -1\n",
    "start_at = 0\n",
    "insert_pages(dest_file=dest_path,\n",
    "            src_file=src_path,\n",
    "            result_file=result_path,\n",
    "            from_page = from_page,\n",
    "            to_page = to_page,\n",
    "            start_at = start_at)"
   ]
  },
  {
   "cell_type": "code",
   "execution_count": null,
   "metadata": {},
   "outputs": [],
   "source": []
  },
  {
   "cell_type": "code",
   "execution_count": null,
   "metadata": {},
   "outputs": [],
   "source": []
  }
 ]
}