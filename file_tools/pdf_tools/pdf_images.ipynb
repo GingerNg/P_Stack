{
 "nbformat": 4,
 "nbformat_minor": 2,
 "metadata": {
  "language_info": {
   "name": "python",
   "codemirror_mode": {
    "name": "ipython",
    "version": 3
   },
   "version": "3.6.9-final"
  },
  "orig_nbformat": 2,
  "file_extension": ".py",
  "mimetype": "text/x-python",
  "name": "python",
  "npconvert_exporter": "python",
  "pygments_lexer": "ipython3",
  "version": 3,
  "kernelspec": {
   "name": "python36964bitb377107951a642b890c3e40487126bca",
   "display_name": "Python 3.6.9 64-bit"
  }
 },
 "cells": [
  {
   "cell_type": "code",
   "execution_count": null,
   "metadata": {},
   "outputs": [],
   "source": []
  },
  {
   "cell_type": "code",
   "execution_count": 2,
   "metadata": {},
   "outputs": [],
   "source": [
    "import os\n",
    "import fitz \n",
    "# file_name = \"20190713_国泰君安_宏观周报_ 信用流向地产和基建，制造业内外交困_花长春 韩旭 董琦 赵格格.pdf\"\n",
    "# full_path = os.getcwd()+\"/pdfs/pdf_catas/\"+file_name\n",
    "file_name = \"餐饮旅游行业：经济数据边际企稳，优质龙头和低估值航空股迎布局良机－周报20191202-民生证券191202.pdf\"\n",
    "full_path = os.getcwd()+\"/pdfs/\"+file_name\n",
    "doc = fitz.open(full_path)"
   ]
  },
  {
   "cell_type": "code",
   "execution_count": 3,
   "metadata": {},
   "outputs": [],
   "source": [
    "page = doc[1]"
   ]
  },
  {
   "cell_type": "code",
   "execution_count": null,
   "metadata": {},
   "outputs": [],
   "source": [
    "### 截图\n",
    "def capture():\n",
    "    pass\n"
   ]
  },
  {
   "cell_type": "code",
   "execution_count": 13,
   "metadata": {},
   "outputs": [
    {
     "data": {
      "text/plain": "Rect(0.0, 0.0, 595.3200073242188, 841.9199829101562)"
     },
     "execution_count": 13,
     "metadata": {},
     "output_type": "execute_result"
    }
   ],
   "source": [
    "page.rect"
   ]
  },
  {
   "cell_type": "code",
   "execution_count": 11,
   "metadata": {},
   "outputs": [
    {
     "data": {
      "text/plain": "371797"
     },
     "execution_count": 11,
     "metadata": {},
     "output_type": "execute_result"
    }
   ],
   "source": [
    "# clip = {'x0': 28.946, 'y1': 33.75, 'x1': 573.863, 'y0': 296.615, 'top_2': 807.17, 'bottom_2': 546.305}\n",
    "clip = {'x0': 41.16, 'y0': 444.07, 'x1': 364.51, 'y1': 475.15}\n",
    "# left, top, top_2, right, bottom, bottom_2 = clip[\"x0\"] + 1, clip[\"y1\"] + \\\n",
    "#     1, clip[\"top_2\"], clip[\"x1\"] - 1, clip[\"y0\"] - 1, clip[\"bottom_2\"]\n",
    "fitz_page, zoom, rotate = page, int(1000), int(0)\n",
    "trans = fitz.Matrix(zoom / 500.0, zoom / 500.0).preRotate(rotate)\n",
    "pm = fitz_page.getPixmap(matrix=trans, alpha=0, clip=(clip[\"x0\"], clip[\"y1\"], clip[\"x1\"], clip[\"y0\"]))\n",
    "image_data = pm.getPNGData()\n",
    "\n",
    "open(\"./cap.png\",\"wb\").write(image_data)"
   ]
  },
  {
   "cell_type": "code",
   "execution_count": null,
   "metadata": {},
   "outputs": [],
   "source": [
    "pix = page.getPixmap(alpha = False,annots=False)  # render page to an image\n",
    "pix.writePNG(\"page-%i.png\" % page.number)  # store image as a PNG"
   ]
  },
  {
   "cell_type": "code",
   "execution_count": null,
   "metadata": {},
   "outputs": [],
   "source": [
    "page = doc[4]\n",
    "d = page.getText(\"dict\")\n",
    "blocks = d[\"blocks\"]\n",
    "imgblocks = [b for b in blocks if b[\"type\"] == 1]"
   ]
  },
  {
   "cell_type": "code",
   "execution_count": 6,
   "metadata": {},
   "outputs": [
    {
     "data": {
      "text/plain": "fitz.Pixmap(DeviceRGB, IRect(0, 0, 213, 32), 0)"
     },
     "execution_count": 6,
     "metadata": {},
     "output_type": "execute_result"
    }
   ],
   "source": [
    "pix = fitz.Pixmap(doc, 84) \n",
    "pix"
   ]
  },
  {
   "cell_type": "code",
   "execution_count": 2,
   "metadata": {},
   "outputs": [
    {
     "data": {
      "text/plain": "893751"
     },
     "execution_count": 2,
     "metadata": {},
     "output_type": "execute_result"
    }
   ],
   "source": [
    "# 获取svg图像\n",
    "page = doc[4]\n",
    "svg = page.getSVGimage(matrix = fitz.Identity) \n",
    "open(\"vec55.svg\",\"w\").write(svg)"
   ]
  },
  {
   "cell_type": "code",
   "execution_count": null,
   "metadata": {},
   "outputs": [],
   "source": [
    "# svg2png\n",
    "import cairosvg\n",
    "cairosvg.svg2png(url='vec55.svg', write_to='vec55.png')\n"
   ]
  },
  {
   "cell_type": "markdown",
   "metadata": {},
   "source": [
    "#### Alpha Channel \n",
    "由于控制图片的透明度"
   ]
  },
  {
   "cell_type": "code",
   "execution_count": 4,
   "metadata": {},
   "outputs": [],
   "source": [
    "from PIL import Image\n",
    "image = Image.open(\"vec55.png\")\n",
    "buffer=[]\n",
    "for pixel in image.getdata():\n",
    "    buffer.append((\n",
    "    pixel[0],\n",
    "    pixel[1],\n",
    "    pixel[2],\n",
    "    # pixel[3]-150,\n",
    "    ))\n",
    "image.putdata(buffer)\n",
    "\n",
    "image.save('vec55_filter.png')"
   ]
  },
  {
   "cell_type": "code",
   "execution_count": 5,
   "metadata": {},
   "outputs": [],
   "source": [
    "from PIL import Image\n",
    "import numpy as np\n",
    "from pylab import *\n",
    "image = Image.open(\"./vec55_filter.png\")\n",
    "# for pixel in image.getdata():\n",
    "#     print(pixel)\n",
    "im = np.array(image)"
   ]
  },
  {
   "cell_type": "code",
   "execution_count": null,
   "metadata": {},
   "outputs": [],
   "source": [
    "def is_black(pixel):\n",
    "    if pixel[0] == 0 and pixel[1] == 0 and pixel[2] == 0:\n",
    "        return True"
   ]
  },
  {
   "cell_type": "code",
   "execution_count": null,
   "metadata": {},
   "outputs": [],
   "source": []
  }
 ]
}