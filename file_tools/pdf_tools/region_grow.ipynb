{
 "nbformat": 4,
 "nbformat_minor": 2,
 "metadata": {
  "language_info": {
   "name": "python",
   "codemirror_mode": {
    "name": "ipython",
    "version": 3
   },
   "version": "3.6.9-final"
  },
  "orig_nbformat": 2,
  "file_extension": ".py",
  "mimetype": "text/x-python",
  "name": "python",
  "npconvert_exporter": "python",
  "pygments_lexer": "ipython3",
  "version": 3,
  "kernelspec": {
   "name": "python36964bitb377107951a642b890c3e40487126bca",
   "display_name": "Python 3.6.9 64-bit"
  }
 },
 "cells": [
  {
   "cell_type": "code",
   "execution_count": 8,
   "metadata": {},
   "outputs": [],
   "source": [
    "import cv2\n",
    "import numpy as np\n",
    "import  matplotlib.pyplot as plt"
   ]
  },
  {
   "cell_type": "code",
   "execution_count": 9,
   "metadata": {},
   "outputs": [],
   "source": [
    "#初始种子选择\n",
    "def originalSeed(gray, th):\n",
    "    ret, thresh = cv2.cv2.threshold(gray, th, 255, cv2.THRESH_BINARY)#二值图，种子区域(不同划分可获得不同种子)\n",
    "    kernel = cv2.getStructuringElement(cv2.MORPH_ELLIPSE, (3,3))#3×3结构元\n",
    "\n",
    "    thresh_copy = thresh.copy() #复制thresh_A到thresh_copy\n",
    "    thresh_B = np.zeros(gray.shape, np.uint8) #thresh_B大小与A相同，像素值为0\n",
    "\n",
    "    seeds = [ ] #为了记录种子坐标\n",
    "\n",
    "    #循环，直到thresh_copy中的像素值全部为0\n",
    "    while thresh_copy.any():\n",
    "\n",
    "        Xa_copy, Ya_copy = np.where(thresh_copy > 0) #thresh_A_copy中值为255的像素的坐标\n",
    "        thresh_B[Xa_copy[0], Ya_copy[0]] = 255 #选取第一个点，并将thresh_B中对应像素值改为255\n",
    "\n",
    "        #连通分量算法，先对thresh_B进行膨胀，再和thresh执行and操作（取交集）\n",
    "        for i in range(200):\n",
    "            dilation_B = cv2.dilate(thresh_B, kernel, iterations=1)\n",
    "            thresh_B = cv2.bitwise_and(thresh, dilation_B)\n",
    "\n",
    "        #取thresh_B值为255的像素坐标，并将thresh_copy中对应坐标像素值变为0\n",
    "        Xb, Yb = np.where(thresh_B > 0)\n",
    "        thresh_copy[Xb, Yb] = 0\n",
    "\n",
    "        #循环，在thresh_B中只有一个像素点时停止\n",
    "        while str(thresh_B.tolist()).count(\"255\") > 1:\n",
    "            thresh_B = cv2.erode(thresh_B,  kernel, iterations=1) #腐蚀操作\n",
    "\n",
    "        X_seed, Y_seed = np.where(thresh_B > 0) #取处种子坐标\n",
    "        if X_seed.size > 0 and Y_seed.size > 0:\n",
    "            seeds.append((X_seed[0], Y_seed[0]))#将种子坐标写入seeds\n",
    "        thresh_B[Xb, Yb] = 0 #将thresh_B像素值置零\n",
    "    return seeds"
   ]
  },
  {
   "cell_type": "code",
   "execution_count": 10,
   "metadata": {},
   "outputs": [],
   "source": [
    "#区域生长\n",
    "def regionGrow(gray, seeds, thresh, p):\n",
    "    seedMark = np.zeros(gray.shape)\n",
    "    #八邻域\n",
    "    if p == 8:\n",
    "        connection = [(-1, -1), (-1, 0), (-1, 1), (0, 1), (1, 1), (1, 0), (1, -1), (0, -1)]\n",
    "    elif p == 4:\n",
    "        connection = [(-1, 0), (0, 1), (1, 0), (0, -1)]\n",
    "\n",
    "    #seeds内无元素时候生长停止\n",
    "    while len(seeds) != 0:\n",
    "        #栈顶元素出栈\n",
    "        pt = seeds.pop(0)\n",
    "        for i in range(p):\n",
    "            tmpX = pt[0] + connection[i][0]\n",
    "            tmpY = pt[1] + connection[i][1]\n",
    "\n",
    "            #检测边界点\n",
    "            if tmpX < 0 or tmpY < 0 or tmpX >= gray.shape[0] or tmpY >= gray.shape[1]:\n",
    "                continue\n",
    "\n",
    "            if abs(int(gray[tmpX, tmpY]) - int(gray[pt])) < thresh and seedMark[tmpX, tmpY] == 0:\n",
    "                seedMark[tmpX, tmpY] = 255\n",
    "                seeds.append((tmpX, tmpY))\n",
    "    return seedMark"
   ]
  },
  {
   "cell_type": "code",
   "execution_count": 11,
   "metadata": {},
   "outputs": [
    {
     "ename": "error",
     "evalue": "OpenCV(4.2.0) /io/opencv/modules/imgproc/src/color.cpp:182: error: (-215:Assertion failed) !_src.empty() in function 'cvtColor'\n",
     "output_type": "error",
     "traceback": [
      "\u001b[0;31m---------------------------------------------------------------------------\u001b[0m",
      "\u001b[0;31merror\u001b[0m                                     Traceback (most recent call last)",
      "\u001b[0;32m<ipython-input-11-c2e47ab6d775>\u001b[0m in \u001b[0;36m<module>\u001b[0;34m\u001b[0m\n\u001b[1;32m      1\u001b[0m \u001b[0mpath\u001b[0m \u001b[0;34m=\u001b[0m \u001b[0;34m\"rg.jpg\"\u001b[0m\u001b[0;34m\u001b[0m\u001b[0;34m\u001b[0m\u001b[0m\n\u001b[1;32m      2\u001b[0m \u001b[0mimg\u001b[0m \u001b[0;34m=\u001b[0m \u001b[0mcv2\u001b[0m\u001b[0;34m.\u001b[0m\u001b[0mimread\u001b[0m\u001b[0;34m(\u001b[0m\u001b[0mpath\u001b[0m\u001b[0;34m)\u001b[0m\u001b[0;34m\u001b[0m\u001b[0;34m\u001b[0m\u001b[0m\n\u001b[0;32m----> 3\u001b[0;31m \u001b[0mgray\u001b[0m \u001b[0;34m=\u001b[0m \u001b[0mcv2\u001b[0m\u001b[0;34m.\u001b[0m\u001b[0mcvtColor\u001b[0m\u001b[0;34m(\u001b[0m\u001b[0mimg\u001b[0m\u001b[0;34m,\u001b[0m \u001b[0mcv2\u001b[0m\u001b[0;34m.\u001b[0m\u001b[0mCOLOR_BGR2GRAY\u001b[0m\u001b[0;34m)\u001b[0m\u001b[0;34m\u001b[0m\u001b[0;34m\u001b[0m\u001b[0m\n\u001b[0m\u001b[1;32m      4\u001b[0m \u001b[0;31m#hist = cv2.calcHist([gray], [0], None, [256], [0,256])#直方图\u001b[0m\u001b[0;34m\u001b[0m\u001b[0;34m\u001b[0m\u001b[0;34m\u001b[0m\u001b[0m\n\u001b[1;32m      5\u001b[0m \u001b[0;34m\u001b[0m\u001b[0m\n",
      "\u001b[0;31merror\u001b[0m: OpenCV(4.2.0) /io/opencv/modules/imgproc/src/color.cpp:182: error: (-215:Assertion failed) !_src.empty() in function 'cvtColor'\n"
     ]
    }
   ],
   "source": [
    "path = \"rg.jpg\"\n",
    "img = cv2.imread(path)\n",
    "gray = cv2.cvtColor(img, cv2.COLOR_BGR2GRAY)\n",
    "#hist = cv2.calcHist([gray], [0], None, [256], [0,256])#直方图\n",
    "\n",
    "seeds = originalSeed(gray, th=253)\n",
    "seedMark = regionGrow(gray, seeds, thresh=3, p=8)\n",
    "\n",
    "#plt.plot(hist)\n",
    "#plt.xlim([0, 256])\n",
    "#plt.show()\n",
    "cv2.imshow(\"seedMark\", seedMark)\n",
    "cv2.waitKey(0)"
   ]
  },
  {
   "cell_type": "code",
   "execution_count": null,
   "metadata": {},
   "outputs": [],
   "source": []
  }
 ]
}