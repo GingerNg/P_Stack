{
 "nbformat": 4,
 "nbformat_minor": 2,
 "metadata": {
  "language_info": {
   "name": "python",
   "codemirror_mode": {
    "name": "ipython",
    "version": 3
   },
   "version": "3.6.9-final"
  },
  "orig_nbformat": 2,
  "file_extension": ".py",
  "mimetype": "text/x-python",
  "name": "python",
  "npconvert_exporter": "python",
  "pygments_lexer": "ipython3",
  "version": 3,
  "kernelspec": {
   "name": "python36964bitb377107951a642b890c3e40487126bca",
   "display_name": "Python 3.6.9 64-bit"
  }
 },
 "cells": [
  {
   "cell_type": "code",
   "execution_count": null,
   "metadata": {},
   "outputs": [],
   "source": [
    "\n"
   ]
  },
  {
   "cell_type": "markdown",
   "metadata": {},
   "source": [
    "### 字符/单个字格的特征 char_fea\n",
    "\n",
    "### line特征 line_fea\n",
    "- 位置特征  起始位置（第一个字符的位置） 终止位置（最后一个字符的位置）  该行在整个block的位置\n",
    "文字特征\n"
   ]
  },
  {
   "cell_type": "markdown",
   "metadata": {},
   "source": [
    "# <center> rules</center>"
   ]
  },
  {
   "cell_type": "code",
   "execution_count": 4,
   "metadata": {},
   "outputs": [],
   "source": [
    "import re"
   ]
  },
  {
   "cell_type": "code",
   "execution_count": 5,
   "metadata": {},
   "outputs": [
    {
     "data": {
      "text/plain": "['1', '2', '1', '2', '1']"
     },
     "execution_count": 5,
     "metadata": {},
     "output_type": "execute_result"
    }
   ],
   "source": [
    "sth = \"\\d\"\n",
    "content = \"12121我\"\n",
    "\n",
    "def matchsth(content,sth):\n",
    "    zhmodel = re.compile(sth)    #检查中文\n",
    "    #zhmodel = re.compile(u'[^\\u4e00-\\u9fa5]')   #检查非中文\n",
    "    match = zhmodel.findall(content)\n",
    "    return match\n",
    "matchsth(content,sth)"
   ]
  },
  {
   "cell_type": "code",
   "execution_count": 75,
   "metadata": {},
   "outputs": [
    {
     "data": {
      "text/plain": "[]"
     },
     "execution_count": 75,
     "metadata": {},
     "output_type": "execute_result"
    }
   ],
   "source": [
    "content = \"一般来说\"\n",
    "matchsth(content,sth='/[一般]/')"
   ]
  },
  {
   "cell_type": "code",
   "execution_count": 76,
   "metadata": {},
   "outputs": [
    {
     "data": {
      "text/plain": "1"
     },
     "execution_count": 76,
     "metadata": {},
     "output_type": "execute_result"
    }
   ],
   "source": [
    "is_has_sth(content,sth=u'一般|三线')"
   ]
  },
  {
   "cell_type": "code",
   "execution_count": 54,
   "metadata": {},
   "outputs": [
    {
     "data": {
      "text/plain": "1"
     },
     "execution_count": 54,
     "metadata": {},
     "output_type": "execute_result"
    }
   ],
   "source": [
    "import re\n",
    "def is_has_sth(content,sth=u'[\\u4e00-\\u9fa5]'):\n",
    "    \"\"\"\n",
    "    是否包含sth\n",
    "    中文： [\\u4e00-\\u9fa5]\n",
    "    数字： u'[0-9]'\n",
    "    \"\"\"\n",
    "    zhmodel = re.compile(sth)    #检查中文\n",
    "    #zhmodel = re.compile(u'[^\\u4e00-\\u9fa5]')   #检查非中文\n",
    "    match = zhmodel.search(content)\n",
    "    # print(match)\n",
    "    if match:\n",
    "        return 1\n",
    "    else:\n",
    "        return 0\n",
    "is_has_sth(\"我是8,013.36       -5,799,427.42 -734,832.30\",sth=u'[0-9]')"
   ]
  },
  {
   "cell_type": "code",
   "execution_count": 37,
   "metadata": {},
   "outputs": [
    {
     "name": "stdout",
     "output_type": "stream",
     "text": "<_sre.SRE_Match object; span=(2, 3), match='节'>\n"
    },
    {
     "data": {
      "text/plain": "1"
     },
     "execution_count": 37,
     "metadata": {},
     "output_type": "execute_result"
    }
   ],
   "source": [
    "\n",
    "is_has_sth(\"第1节\",sth=u'[（]*[）]|[(]*[)]|[第]*[章|节]')"
   ]
  },
  {
   "cell_type": "markdown",
   "metadata": {},
   "source": [
    "# <center>plumber</center>"
   ]
  },
  {
   "cell_type": "code",
   "execution_count": 63,
   "metadata": {},
   "outputs": [],
   "source": [
    "import pdfplumber\n"
   ]
  },
  {
   "cell_type": "code",
   "execution_count": 64,
   "metadata": {},
   "outputs": [],
   "source": [
    "# pdf =  pdfplumber.open(\"./pdfs/pdf_catas/年度报告多页.pdf\")\n",
    "\n",
    "# file_name = \"深圳广田集团股份有限公司 2018 年年度报告摘要.PDF\"\n",
    "file_name = \"天科股份2017年年度报告摘要.pdf\"\n",
    "# pdf =  pdfplumber.open(\"./pdfs/pdf_catas/比音勒芬.PDF\")\n",
    "\n",
    "pdf =  pdfplumber.open(\"./pdfs/pdf_catas/%s\" % file_name)"
   ]
  },
  {
   "cell_type": "code",
   "execution_count": 65,
   "metadata": {},
   "outputs": [],
   "source": [
    "def isnewlines(c0,c1):\n",
    "    \"\"\"\n",
    "    是否换行\n",
    "    \"\"\"\n",
    "    # if c1[\"text\"] in [\"、\"]:\n",
    "    #     print(c1)\n",
    "    if (c0[\"y0\"] - c1[\"y0\"]) * (c0[\"y0\"] - c1[\"y1\"]) <= 0 or c1[\"text\"] in [\"、\"]:  # 不换行\n",
    "        return False\n",
    "    else:\n",
    "        return True"
   ]
  },
  {
   "cell_type": "code",
   "execution_count": 31,
   "metadata": {},
   "outputs": [
    {
     "data": {
      "text/plain": "{'fontname': \"b'ABCDEE+\\\\xcb\\\\xce\\\\xcc\\\\xe5'\",\n 'adv': Decimal('9.000'),\n 'upright': 1,\n 'x0': Decimal('345.220'),\n 'y0': Decimal('795.591'),\n 'x1': Decimal('354.220'),\n 'y1': Decimal('804.591'),\n 'width': Decimal('9.000'),\n 'height': Decimal('9.000'),\n 'size': Decimal('9.000'),\n 'object_type': 'char',\n 'page_number': 1,\n 'text': '深',\n 'top': Decimal('37.329'),\n 'bottom': Decimal('46.329'),\n 'doctop': Decimal('37.329')}"
     },
     "execution_count": 31,
     "metadata": {},
     "output_type": "execute_result"
    }
   ],
   "source": [
    "pdf.pages[0].chars[0]"
   ]
  },
  {
   "cell_type": "code",
   "execution_count": 66,
   "metadata": {},
   "outputs": [],
   "source": [
    "import copy\n",
    "def pdf2rows(pdf):\n",
    "    \"\"\"\n",
    "    利用plumber解析出纯文本()\n",
    "    返回 text，cs，row_no 行号\n",
    "    \"\"\"\n",
    "    rows = []\n",
    "    row_template = {\"text\": \"\", \"cs\": [], \"page_no\": 1, \"heights\": [], \"row_no\": 0}  # \n",
    "    cur_row = copy.deepcopy(row_template)\n",
    "    page_cnt = 1\n",
    "    line_cnt = 1\n",
    "    ROW_NO = 0\n",
    "    cur_c = pdf.pages[0].chars[0]\n",
    "    #     print(cur_top)\n",
    "    for page in pdf.pages:  # 逐页\n",
    "        #         print(page_cnt)\n",
    "        for c in page.chars:\n",
    "            #             print(c)\n",
    "            if len(cur_row[\"cs\"]) > 0 and (isnewlines(cur_row[\"cs\"][0], c) and isnewlines(cur_c, c)):\n",
    "                #             if isnewlines(cur_c,c):\n",
    "                #                 cur_row[\"height\"] = max(cur_row[\"heights\"])\n",
    "                rows.append(cur_row)\n",
    "                cur_row = copy.deepcopy(row_template)\n",
    "                cur_row[\"page_no\"] = c[\"page_number\"]\n",
    "                cur_row[\"row_no\"] = ROW_NO\n",
    "                ROW_NO += 1\n",
    "            cur_row[\"text\"] += c[\"text\"]\n",
    "            cur_row[\"cs\"].append(c)\n",
    "            cur_row[\"heights\"].append(c[\"height\"])\n",
    "            cur_c = c\n",
    "        page_cnt += 1\n",
    "    rows.append(cur_row)\n",
    "    return rows\n",
    "rows = pdf2rows(pdf)\n",
    "# rows[0:2]"
   ]
  },
  {
   "cell_type": "code",
   "execution_count": 68,
   "metadata": {},
   "outputs": [
    {
     "name": "stdout",
     "output_type": "stream",
     "text": "2 / 10  8\n  1\n  1\n一 重要提示  7\n1 本年度报告摘要来自年度报告全文，为全面了解本公司的经营成果、财务状况及未来发展规 42\n划，投资者应当到上海证券交易所网站等中国证监会指定媒体上仔细阅读年度报告全文。  40\n2 本公司董事会、监事会及董事、监事、高级管理人员保证年度报告内容的真实、准确、完 41\n整，不存在虚假记载、误导性陈述或重大遗漏，并承担个别和连带的法律责任。  36\n  1\n3 未出席董事情况  10\n未出席董事职务 未出席董事姓名 未出席董事的原因说明 被委托人姓名  34\n董事 吴昱 因公出差 苏静祎  15\n  1\n  1\n4 北京兴华会计师事务所（特殊普通合伙）为本公司出具了标准无保留意见的审计报告。  41\n  1\n  1\n5 经董事会审议的报告期利润分配预案或公积金转增股本预案  29\n经北京兴华会计师事务所（特殊普通合伙）审计确认，公司2017年度实现归属于母公司所有 42\n者的净利润58,881,768.40元，可供全体股东分配的利润279,185,526.61元。根据《公司章程》 55\n关于公司分红的规定，保持分红政策的稳定性，并考虑到公司经营资金的需求，建议公司本年度 42\n实施利润分配方案为：  11\n以2017年12月31日总股本297,193,292股为基数，向全体股东每10股派发现金红利 0.6 50\n元（含税），共计派发股利 17,831,597.52元（含税），公司不进行资本公积金转增。  46\n  1\n二 公司基本情况  9\n1 公司简介  7\n公司股票简况  7\n股票种类 股票上市交易所 股票简称 股票代码 变更前股票简称  31\nA 1\n股 上海证券交易所 天科股份 600378  22\n   2\n  1\n联系人和联系方式 董事会秘书 证券事务代表  22\n姓名 冯新华 魏冬梅  11\n办公地址 四川省成都市机场路常乐二段2号 四川省成都市机场路常乐 32\n二段2号  5\n电话 028-85963417 028-85963659  29\n电子信箱 ctyc@tianke.com ctyc@tianke.com  37\n  1\n"
    }
   ],
   "source": [
    "for row in rows:\n",
    "    if row[\"page_no\"] == 2:\n",
    "        print(row[\"text\"],len(row[\"text\"]))"
   ]
  },
  {
   "cell_type": "code",
   "execution_count": 20,
   "metadata": {},
   "outputs": [],
   "source": [
    "from functools import reduce\n",
    "def add(x,y):\n",
    "#     print(x['x0'])\n",
    "    return float(x['x0']) + float(y['x0'])"
   ]
  },
  {
   "cell_type": "code",
   "execution_count": 25,
   "metadata": {},
   "outputs": [],
   "source": [
    "# a = [{'k3':\"4\"},{'k3':\"2\"},{'k3':\"1\"}]\n",
    "# dict.fromkeys(a)"
   ]
  },
  {
   "cell_type": "code",
   "execution_count": null,
   "metadata": {},
   "outputs": [],
   "source": [
    "def is_cover_page(page):\n",
    "    \"\"\"\n",
    "    是否是封面\n",
    "    统计Y轴方向有字的比例\n",
    "    \"\"\"\n",
    "    top_bottoms = []\n",
    "    for c in page.chars:\n",
    "        # print(c[\"text\"])\n",
    "        top_bottoms.append([c[\"top\"],c[\"bottom\"]])\n",
    "    top_bottoms = sorted(top_bottoms,key=lambda x:x[0])\n",
    "    res_top_bottoms = [top_bottoms[0]]\n",
    "    for c in top_bottoms:\n",
    "        \n",
    "        if c[0] > res_top_bottoms[-1][1] or c[1]< res_top_bottoms[-1][0]:\n",
    "            res_top_bottoms.append(c)\n",
    "        else:\n",
    "            if c[0]<res_top_bottoms[-1][0]:\n",
    "                res_top_bottoms[-1][0] = c[0]\n",
    "            if c[1]>res_top_bottoms[-1][1]:\n",
    "                res_top_bottoms[-1][1] = c[1]\n",
    "    print(res_top_bottoms)\n",
    "    L = float(res_top_bottoms[-1][1] - res_top_bottoms[0][0])\n",
    "    LL = 0\n",
    "    for c in res_top_bottoms:\n",
    "        LL += float(c[1]-c[0])\n",
    "    return LL/L\n",
    "is_cover_page(pdf.pages[0])"
   ]
  },
  {
   "cell_type": "code",
   "execution_count": 44,
   "metadata": {},
   "outputs": [
    {
     "data": {
      "text/plain": "[{1: 258.1422342569268},\n {2: 277.4613643659721},\n {3: 303.6980425219952},\n {4: 238.42856782334445},\n {5: 267.07065199590727},\n {6: 246.53161888509706},\n {7: 287.9976036585361}]"
     },
     "execution_count": 44,
     "metadata": {},
     "output_type": "execute_result"
    }
   ],
   "source": [
    " #  当前页中垂线的X轴坐标 \n",
    "\n",
    "def cal_mid_x(pages):\n",
    "    res = []\n",
    "    counter_page = 0\n",
    "    for page in pages:  # 逐页\n",
    "        counter_page += 1\n",
    "        cs = [float(c[\"x0\"])  for c in page.chars]\n",
    "        res.append({counter_page:sum(cs)/len(cs)})\n",
    "    return  res\n",
    "cal_mid_x(pdf.pages)"
   ]
  },
  {
   "cell_type": "code",
   "execution_count": 54,
   "metadata": {},
   "outputs": [
    {
     "name": "stdout",
     "output_type": "stream",
     "text": "page 1\npage 2\npage 3\npage 4\npage 5\npage 6\npage 7\n"
    }
   ],
   "source": [
    "heights = []\n",
    "texts = []\n",
    "counter_page = 0\n",
    "for page in pdf.pages:  # 逐页\n",
    "    counter_page += 1\n",
    "    print(\"page\",counter_page)\n",
    "    for c in page.chars:\n",
    "        heights.append(c[\"height\"])\n",
    "        # print(c[\"text\"]"
   ]
  },
  {
   "cell_type": "code",
   "execution_count": 69,
   "metadata": {},
   "outputs": [
    {
     "data": {
      "text/plain": "[(Decimal('8.181'), 1980),\n (Decimal('9.000'), 3527),\n (Decimal('9.376'), 30),\n (Decimal('9.377'), 26),\n (Decimal('10.500'), 409),\n (Decimal('10.716'), 13),\n (Decimal('10.908'), 1),\n (Decimal('12.000'), 47),\n (Decimal('16.074'), 6),\n (Decimal('18.000'), 19)]"
     },
     "execution_count": 69,
     "metadata": {},
     "output_type": "execute_result"
    }
   ],
   "source": [
    "import collections\n",
    "# heights = [1,2,3,4,5,6,5,5,5,5,4,4,]\n",
    "obj = dict(collections.Counter(heights))\n",
    "# array = [{\"age\":20,\"name\":\"a\"},{\"age\":25,\"name\":\"b\"},{\"age\":10,\"name\":\"c\"}]\n",
    "array = sorted(obj.items(),key=lambda x:x[0],reverse=False)\n",
    "array"
   ]
  },
  {
   "cell_type": "code",
   "execution_count": 70,
   "metadata": {},
   "outputs": [
    {
     "data": {
      "text/plain": "[8.181, 9.0, 9.376, 9.377, 10.5, 10.716, 10.908, 12.0, 16.074, 18.0]"
     },
     "execution_count": 70,
     "metadata": {},
     "output_type": "execute_result"
    }
   ],
   "source": [
    "xs = [float(a[0]) for a in array]\n",
    "ys = [a[1] for a in array]\n",
    "ys = [y/sum(ys) for y in ys]\n",
    "xs"
   ]
  },
  {
   "cell_type": "code",
   "execution_count": 71,
   "metadata": {},
   "outputs": [
    {
     "data": {
      "text/plain": "[<matplotlib.lines.Line2D at 0x7f38d627e940>]"
     },
     "execution_count": 71,
     "metadata": {},
     "output_type": "execute_result"
    },
    {
     "data": {
      "image/png": "[encoded data removed]",
      "image/svg+xml": "<?xml version=\"1.0\" encoding=\"utf-8\" standalone=\"no\"?>\n<!DOCTYPE svg PUBLIC \"-//W3C//DTD SVG 1.1//EN\"\n  \"http://www.w3.org/Graphics/SVG/1.1/DTD/svg11.dtd\">\n<!-- Created with matplotlib (https://matplotlib.org/) -->\n<svg height=\"248.518125pt\" version=\"1.1\" viewBox=\"0 0 372.103125 248.518125\" width=\"372.103125pt\" xmlns=\"http://www.w3.org/2000/svg\" xmlns:xlink=\"http://www.w3.org/1999/xlink\">\n <defs>\n  <style type=\"text/css\">\n*{stroke-linecap:butt;stroke-linejoin:round;}\n  </style>\n </defs>\n <g id=\"figure_1\">\n  <g id=\"patch_1\">\n   <path d=\"M 0 248.518125 \nL 372.103125 248.518125 \nL 372.103125 0 \nL 0 0 \nz\n\" style=\"fill:none;\"/>\n  </g>\n  <g id=\"axes_1\">\n   <g id=\"patch_2\">\n    <path d=\"M 30.103125 224.64 \nL 364.903125 224.64 \nL 364.903125 7.2 \nL 30.103125 7.2 \nz\n\" style=\"fill:#ffffff;\"/>\n   </g>\n   <g id=\"matplotlib.axis_1\">\n    <g id=\"xtick_1\">\n     <g id=\"line2d_1\">\n      <defs>\n       <path d=\"M 0 0 \nL 0 3.5 \n\" id=\"m09bd40936a\" style=\"stroke:#000000;stroke-width:0.8;\"/>\n      </defs>\n      <g>\n       <use style=\"stroke:#000000;stroke-width:0.8;\" x=\"39.710774\" xlink:href=\"#m09bd40936a\" y=\"224.64\"/>\n      </g>\n     </g>\n     <g id=\"text_1\">\n      <!-- 8 -->\n      <defs>\n       <path d=\"M 31.78125 34.625 \nQ 24.75 34.625 20.71875 30.859375 \nQ 16.703125 27.09375 16.703125 20.515625 \nQ 16.703125 13.921875 20.71875 10.15625 \nQ 24.75 6.390625 31.78125 6.390625 \nQ 38.8125 6.390625 42.859375 10.171875 \nQ 46.921875 13.96875 46.921875 20.515625 \nQ 46.921875 27.09375 42.890625 30.859375 \nQ 38.875 34.625 31.78125 34.625 \nz\nM 21.921875 38.8125 \nQ 15.578125 40.375 12.03125 44.71875 \nQ 8.5 49.078125 8.5 55.328125 \nQ 8.5 64.0625 14.71875 69.140625 \nQ 20.953125 74.21875 31.78125 74.21875 \nQ 42.671875 74.21875 48.875 69.140625 \nQ 55.078125 64.0625 55.078125 55.328125 \nQ 55.078125 49.078125 51.53125 44.71875 \nQ 48 40.375 41.703125 38.8125 \nQ 48.828125 37.15625 52.796875 32.3125 \nQ 56.78125 27.484375 56.78125 20.515625 \nQ 56.78125 9.90625 50.3125 4.234375 \nQ 43.84375 -1.421875 31.78125 -1.421875 \nQ 19.734375 -1.421875 13.25 4.234375 \nQ 6.78125 9.90625 6.78125 20.515625 \nQ 6.78125 27.484375 10.78125 32.3125 \nQ 14.796875 37.15625 21.921875 38.8125 \nz\nM 18.3125 54.390625 \nQ 18.3125 48.734375 21.84375 45.5625 \nQ 25.390625 42.390625 31.78125 42.390625 \nQ 38.140625 42.390625 41.71875 45.5625 \nQ 45.3125 48.734375 45.3125 54.390625 \nQ 45.3125 60.0625 41.71875 63.234375 \nQ 38.140625 66.40625 31.78125 66.40625 \nQ 25.390625 66.40625 21.84375 63.234375 \nQ 18.3125 60.0625 18.3125 54.390625 \nz\n\" id=\"DejaVuSans-56\"/>\n      </defs>\n      <g transform=\"translate(36.529524 239.238437)scale(0.1 -0.1)\">\n       <use xlink:href=\"#DejaVuSans-56\"/>\n      </g>\n     </g>\n    </g>\n    <g id=\"xtick_2\">\n     <g id=\"line2d_2\">\n      <g>\n       <use style=\"stroke:#000000;stroke-width:0.8;\" x=\"101.705608\" xlink:href=\"#m09bd40936a\" y=\"224.64\"/>\n      </g>\n     </g>\n     <g id=\"text_2\">\n      <!-- 10 -->\n      <defs>\n       <path d=\"M 12.40625 8.296875 \nL 28.515625 8.296875 \nL 28.515625 63.921875 \nL 10.984375 60.40625 \nL 10.984375 69.390625 \nL 28.421875 72.90625 \nL 38.28125 72.90625 \nL 38.28125 8.296875 \nL 54.390625 8.296875 \nL 54.390625 0 \nL 12.40625 0 \nz\n\" id=\"DejaVuSans-49\"/>\n       <path d=\"M 31.78125 66.40625 \nQ 24.171875 66.40625 20.328125 58.90625 \nQ 16.5 51.421875 16.5 36.375 \nQ 16.5 21.390625 20.328125 13.890625 \nQ 24.171875 6.390625 31.78125 6.390625 \nQ 39.453125 6.390625 43.28125 13.890625 \nQ 47.125 21.390625 47.125 36.375 \nQ 47.125 51.421875 43.28125 58.90625 \nQ 39.453125 66.40625 31.78125 66.40625 \nz\nM 31.78125 74.21875 \nQ 44.046875 74.21875 50.515625 64.515625 \nQ 56.984375 54.828125 56.984375 36.375 \nQ 56.984375 17.96875 50.515625 8.265625 \nQ 44.046875 -1.421875 31.78125 -1.421875 \nQ 19.53125 -1.421875 13.0625 8.265625 \nQ 6.59375 17.96875 6.59375 36.375 \nQ 6.59375 54.828125 13.0625 64.515625 \nQ 19.53125 74.21875 31.78125 74.21875 \nz\n\" id=\"DejaVuSans-48\"/>\n      </defs>\n      <g transform=\"translate(95.343108 239.238437)scale(0.1 -0.1)\">\n       <use xlink:href=\"#DejaVuSans-49\"/>\n       <use x=\"63.623047\" xlink:href=\"#DejaVuSans-48\"/>\n      </g>\n     </g>\n    </g>\n    <g id=\"xtick_3\">\n     <g id=\"line2d_3\">\n      <g>\n       <use style=\"stroke:#000000;stroke-width:0.8;\" x=\"163.700442\" xlink:href=\"#m09bd40936a\" y=\"224.64\"/>\n      </g>\n     </g>\n     <g id=\"text_3\">\n      <!-- 12 -->\n      <defs>\n       <path d=\"M 19.1875 8.296875 \nL 53.609375 8.296875 \nL 53.609375 0 \nL 7.328125 0 \nL 7.328125 8.296875 \nQ 12.9375 14.109375 22.625 23.890625 \nQ 32.328125 33.6875 34.8125 36.53125 \nQ 39.546875 41.84375 41.421875 45.53125 \nQ 43.3125 49.21875 43.3125 52.78125 \nQ 43.3125 58.59375 39.234375 62.25 \nQ 35.15625 65.921875 28.609375 65.921875 \nQ 23.96875 65.921875 18.8125 64.3125 \nQ 13.671875 62.703125 7.8125 59.421875 \nL 7.8125 69.390625 \nQ 13.765625 71.78125 18.9375 73 \nQ 24.125 74.21875 28.421875 74.21875 \nQ 39.75 74.21875 46.484375 68.546875 \nQ 53.21875 62.890625 53.21875 53.421875 \nQ 53.21875 48.921875 51.53125 44.890625 \nQ 49.859375 40.875 45.40625 35.40625 \nQ 44.1875 33.984375 37.640625 27.21875 \nQ 31.109375 20.453125 19.1875 8.296875 \nz\n\" id=\"DejaVuSans-50\"/>\n      </defs>\n      <g transform=\"translate(157.337942 239.238437)scale(0.1 -0.1)\">\n       <use xlink:href=\"#DejaVuSans-49\"/>\n       <use x=\"63.623047\" xlink:href=\"#DejaVuSans-50\"/>\n      </g>\n     </g>\n    </g>\n    <g id=\"xtick_4\">\n     <g id=\"line2d_4\">\n      <g>\n       <use style=\"stroke:#000000;stroke-width:0.8;\" x=\"225.695276\" xlink:href=\"#m09bd40936a\" y=\"224.64\"/>\n      </g>\n     </g>\n     <g id=\"text_4\">\n      <!-- 14 -->\n      <defs>\n       <path d=\"M 37.796875 64.3125 \nL 12.890625 25.390625 \nL 37.796875 25.390625 \nz\nM 35.203125 72.90625 \nL 47.609375 72.90625 \nL 47.609375 25.390625 \nL 58.015625 25.390625 \nL 58.015625 17.1875 \nL 47.609375 17.1875 \nL 47.609375 0 \nL 37.796875 0 \nL 37.796875 17.1875 \nL 4.890625 17.1875 \nL 4.890625 26.703125 \nz\n\" id=\"DejaVuSans-52\"/>\n      </defs>\n      <g transform=\"translate(219.332776 239.238437)scale(0.1 -0.1)\">\n       <use xlink:href=\"#DejaVuSans-49\"/>\n       <use x=\"63.623047\" xlink:href=\"#DejaVuSans-52\"/>\n      </g>\n     </g>\n    </g>\n    <g id=\"xtick_5\">\n     <g id=\"line2d_5\">\n      <g>\n       <use style=\"stroke:#000000;stroke-width:0.8;\" x=\"287.690109\" xlink:href=\"#m09bd40936a\" y=\"224.64\"/>\n      </g>\n     </g>\n     <g id=\"text_5\">\n      <!-- 16 -->\n      <defs>\n       <path d=\"M 33.015625 40.375 \nQ 26.375 40.375 22.484375 35.828125 \nQ 18.609375 31.296875 18.609375 23.390625 \nQ 18.609375 15.53125 22.484375 10.953125 \nQ 26.375 6.390625 33.015625 6.390625 \nQ 39.65625 6.390625 43.53125 10.953125 \nQ 47.40625 15.53125 47.40625 23.390625 \nQ 47.40625 31.296875 43.53125 35.828125 \nQ 39.65625 40.375 33.015625 40.375 \nz\nM 52.59375 71.296875 \nL 52.59375 62.3125 \nQ 48.875 64.0625 45.09375 64.984375 \nQ 41.3125 65.921875 37.59375 65.921875 \nQ 27.828125 65.921875 22.671875 59.328125 \nQ 17.53125 52.734375 16.796875 39.40625 \nQ 19.671875 43.65625 24.015625 45.921875 \nQ 28.375 48.1875 33.59375 48.1875 \nQ 44.578125 48.1875 50.953125 41.515625 \nQ 57.328125 34.859375 57.328125 23.390625 \nQ 57.328125 12.15625 50.6875 5.359375 \nQ 44.046875 -1.421875 33.015625 -1.421875 \nQ 20.359375 -1.421875 13.671875 8.265625 \nQ 6.984375 17.96875 6.984375 36.375 \nQ 6.984375 53.65625 15.1875 63.9375 \nQ 23.390625 74.21875 37.203125 74.21875 \nQ 40.921875 74.21875 44.703125 73.484375 \nQ 48.484375 72.75 52.59375 71.296875 \nz\n\" id=\"DejaVuSans-54\"/>\n      </defs>\n      <g transform=\"translate(281.327609 239.238437)scale(0.1 -0.1)\">\n       <use xlink:href=\"#DejaVuSans-49\"/>\n       <use x=\"63.623047\" xlink:href=\"#DejaVuSans-54\"/>\n      </g>\n     </g>\n    </g>\n    <g id=\"xtick_6\">\n     <g id=\"line2d_6\">\n      <g>\n       <use style=\"stroke:#000000;stroke-width:0.8;\" x=\"349.684943\" xlink:href=\"#m09bd40936a\" y=\"224.64\"/>\n      </g>\n     </g>\n     <g id=\"text_6\">\n      <!-- 18 -->\n      <g transform=\"translate(343.322443 239.238437)scale(0.1 -0.1)\">\n       <use xlink:href=\"#DejaVuSans-49\"/>\n       <use x=\"63.623047\" xlink:href=\"#DejaVuSans-56\"/>\n      </g>\n     </g>\n    </g>\n   </g>\n   <g id=\"matplotlib.axis_2\">\n    <g id=\"ytick_1\">\n     <g id=\"line2d_7\">\n      <defs>\n       <path d=\"M 0 0 \nL -3.5 0 \n\" id=\"mab74a7896c\" style=\"stroke:#000000;stroke-width:0.8;\"/>\n      </defs>\n      <g>\n       <use style=\"stroke:#000000;stroke-width:0.8;\" x=\"30.103125\" xlink:href=\"#mab74a7896c\" y=\"214.812425\"/>\n      </g>\n     </g>\n     <g id=\"text_7\">\n      <!-- 0.0 -->\n      <defs>\n       <path d=\"M 10.6875 12.40625 \nL 21 12.40625 \nL 21 0 \nL 10.6875 0 \nz\n\" id=\"DejaVuSans-46\"/>\n      </defs>\n      <g transform=\"translate(7.2 218.611644)scale(0.1 -0.1)\">\n       <use xlink:href=\"#DejaVuSans-48\"/>\n       <use x=\"63.623047\" xlink:href=\"#DejaVuSans-46\"/>\n       <use x=\"95.410156\" xlink:href=\"#DejaVuSans-48\"/>\n      </g>\n     </g>\n    </g>\n    <g id=\"ytick_2\">\n     <g id=\"line2d_8\">\n      <g>\n       <use style=\"stroke:#000000;stroke-width:0.8;\" x=\"30.103125\" xlink:href=\"#mab74a7896c\" y=\"180.850389\"/>\n      </g>\n     </g>\n     <g id=\"text_8\">\n      <!-- 0.1 -->\n      <g transform=\"translate(7.2 184.649608)scale(0.1 -0.1)\">\n       <use xlink:href=\"#DejaVuSans-48\"/>\n       <use x=\"63.623047\" xlink:href=\"#DejaVuSans-46\"/>\n       <use x=\"95.410156\" xlink:href=\"#DejaVuSans-49\"/>\n      </g>\n     </g>\n    </g>\n    <g id=\"ytick_3\">\n     <g id=\"line2d_9\">\n      <g>\n       <use style=\"stroke:#000000;stroke-width:0.8;\" x=\"30.103125\" xlink:href=\"#mab74a7896c\" y=\"146.888354\"/>\n      </g>\n     </g>\n     <g id=\"text_9\">\n      <!-- 0.2 -->\n      <g transform=\"translate(7.2 150.687572)scale(0.1 -0.1)\">\n       <use xlink:href=\"#DejaVuSans-48\"/>\n       <use x=\"63.623047\" xlink:href=\"#DejaVuSans-46\"/>\n       <use x=\"95.410156\" xlink:href=\"#DejaVuSans-50\"/>\n      </g>\n     </g>\n    </g>\n    <g id=\"ytick_4\">\n     <g id=\"line2d_10\">\n      <g>\n       <use style=\"stroke:#000000;stroke-width:0.8;\" x=\"30.103125\" xlink:href=\"#mab74a7896c\" y=\"112.926318\"/>\n      </g>\n     </g>\n     <g id=\"text_10\">\n      <!-- 0.3 -->\n      <defs>\n       <path d=\"M 40.578125 39.3125 \nQ 47.65625 37.796875 51.625 33 \nQ 55.609375 28.21875 55.609375 21.1875 \nQ 55.609375 10.40625 48.1875 4.484375 \nQ 40.765625 -1.421875 27.09375 -1.421875 \nQ 22.515625 -1.421875 17.65625 -0.515625 \nQ 12.796875 0.390625 7.625 2.203125 \nL 7.625 11.71875 \nQ 11.71875 9.328125 16.59375 8.109375 \nQ 21.484375 6.890625 26.8125 6.890625 \nQ 36.078125 6.890625 40.9375 10.546875 \nQ 45.796875 14.203125 45.796875 21.1875 \nQ 45.796875 27.640625 41.28125 31.265625 \nQ 36.765625 34.90625 28.71875 34.90625 \nL 20.21875 34.90625 \nL 20.21875 43.015625 \nL 29.109375 43.015625 \nQ 36.375 43.015625 40.234375 45.921875 \nQ 44.09375 48.828125 44.09375 54.296875 \nQ 44.09375 59.90625 40.109375 62.90625 \nQ 36.140625 65.921875 28.71875 65.921875 \nQ 24.65625 65.921875 20.015625 65.03125 \nQ 15.375 64.15625 9.8125 62.3125 \nL 9.8125 71.09375 \nQ 15.4375 72.65625 20.34375 73.4375 \nQ 25.25 74.21875 29.59375 74.21875 \nQ 40.828125 74.21875 47.359375 69.109375 \nQ 53.90625 64.015625 53.90625 55.328125 \nQ 53.90625 49.265625 50.4375 45.09375 \nQ 46.96875 40.921875 40.578125 39.3125 \nz\n\" id=\"DejaVuSans-51\"/>\n      </defs>\n      <g transform=\"translate(7.2 116.725536)scale(0.1 -0.1)\">\n       <use xlink:href=\"#DejaVuSans-48\"/>\n       <use x=\"63.623047\" xlink:href=\"#DejaVuSans-46\"/>\n       <use x=\"95.410156\" xlink:href=\"#DejaVuSans-51\"/>\n      </g>\n     </g>\n    </g>\n    <g id=\"ytick_5\">\n     <g id=\"line2d_11\">\n      <g>\n       <use style=\"stroke:#000000;stroke-width:0.8;\" x=\"30.103125\" xlink:href=\"#mab74a7896c\" y=\"78.964282\"/>\n      </g>\n     </g>\n     <g id=\"text_11\">\n      <!-- 0.4 -->\n      <g transform=\"translate(7.2 82.763501)scale(0.1 -0.1)\">\n       <use xlink:href=\"#DejaVuSans-48\"/>\n       <use x=\"63.623047\" xlink:href=\"#DejaVuSans-46\"/>\n       <use x=\"95.410156\" xlink:href=\"#DejaVuSans-52\"/>\n      </g>\n     </g>\n    </g>\n    <g id=\"ytick_6\">\n     <g id=\"line2d_12\">\n      <g>\n       <use style=\"stroke:#000000;stroke-width:0.8;\" x=\"30.103125\" xlink:href=\"#mab74a7896c\" y=\"45.002246\"/>\n      </g>\n     </g>\n     <g id=\"text_12\">\n      <!-- 0.5 -->\n      <defs>\n       <path d=\"M 10.796875 72.90625 \nL 49.515625 72.90625 \nL 49.515625 64.59375 \nL 19.828125 64.59375 \nL 19.828125 46.734375 \nQ 21.96875 47.46875 24.109375 47.828125 \nQ 26.265625 48.1875 28.421875 48.1875 \nQ 40.625 48.1875 47.75 41.5 \nQ 54.890625 34.8125 54.890625 23.390625 \nQ 54.890625 11.625 47.5625 5.09375 \nQ 40.234375 -1.421875 26.90625 -1.421875 \nQ 22.3125 -1.421875 17.546875 -0.640625 \nQ 12.796875 0.140625 7.71875 1.703125 \nL 7.71875 11.625 \nQ 12.109375 9.234375 16.796875 8.0625 \nQ 21.484375 6.890625 26.703125 6.890625 \nQ 35.15625 6.890625 40.078125 11.328125 \nQ 45.015625 15.765625 45.015625 23.390625 \nQ 45.015625 31 40.078125 35.4375 \nQ 35.15625 39.890625 26.703125 39.890625 \nQ 22.75 39.890625 18.8125 39.015625 \nQ 14.890625 38.140625 10.796875 36.28125 \nz\n\" id=\"DejaVuSans-53\"/>\n      </defs>\n      <g transform=\"translate(7.2 48.801465)scale(0.1 -0.1)\">\n       <use xlink:href=\"#DejaVuSans-48\"/>\n       <use x=\"63.623047\" xlink:href=\"#DejaVuSans-46\"/>\n       <use x=\"95.410156\" xlink:href=\"#DejaVuSans-53\"/>\n      </g>\n     </g>\n    </g>\n    <g id=\"ytick_7\">\n     <g id=\"line2d_13\">\n      <g>\n       <use style=\"stroke:#000000;stroke-width:0.8;\" x=\"30.103125\" xlink:href=\"#mab74a7896c\" y=\"11.04021\"/>\n      </g>\n     </g>\n     <g id=\"text_13\">\n      <!-- 0.6 -->\n      <g transform=\"translate(7.2 14.839429)scale(0.1 -0.1)\">\n       <use xlink:href=\"#DejaVuSans-48\"/>\n       <use x=\"63.623047\" xlink:href=\"#DejaVuSans-46\"/>\n       <use x=\"95.410156\" xlink:href=\"#DejaVuSans-54\"/>\n      </g>\n     </g>\n    </g>\n   </g>\n   <g id=\"line2d_14\">\n    <path clip-path=\"url(#pd18e4cb600)\" d=\"M 45.321307 103.810723 \nL 70.708191 17.083636 \nL 82.36322 213.130581 \nL 82.394217 213.354827 \nL 117.204317 191.883286 \nL 123.899759 214.083626 \nL 129.851263 214.756364 \nL 163.700442 212.177536 \nL 289.983918 214.476056 \nL 349.684943 213.747257 \n\" style=\"fill:none;stroke:#1f77b4;stroke-linecap:square;stroke-width:1.5;\"/>\n   </g>\n   <g id=\"patch_3\">\n    <path d=\"M 30.103125 224.64 \nL 30.103125 7.2 \n\" style=\"fill:none;stroke:#000000;stroke-linecap:square;stroke-linejoin:miter;stroke-width:0.8;\"/>\n   </g>\n   <g id=\"patch_4\">\n    <path d=\"M 364.903125 224.64 \nL 364.903125 7.2 \n\" style=\"fill:none;stroke:#000000;stroke-linecap:square;stroke-linejoin:miter;stroke-width:0.8;\"/>\n   </g>\n   <g id=\"patch_5\">\n    <path d=\"M 30.103125 224.64 \nL 364.903125 224.64 \n\" style=\"fill:none;stroke:#000000;stroke-linecap:square;stroke-linejoin:miter;stroke-width:0.8;\"/>\n   </g>\n   <g id=\"patch_6\">\n    <path d=\"M 30.103125 7.2 \nL 364.903125 7.2 \n\" style=\"fill:none;stroke:#000000;stroke-linecap:square;stroke-linejoin:miter;stroke-width:0.8;\"/>\n   </g>\n  </g>\n </g>\n <defs>\n  <clipPath id=\"pd18e4cb600\">\n   <rect height=\"217.44\" width=\"334.8\" x=\"30.103125\" y=\"7.2\"/>\n  </clipPath>\n </defs>\n</svg>\n",
      "text/plain": "<Figure size 432x288 with 1 Axes>"
     },
     "metadata": {
      "needs_background": "light"
     },
     "output_type": "display_data"
    }
   ],
   "source": [
    "import matplotlib.pyplot as plt\n",
    "plt.plot(xs, ys)"
   ]
  },
  {
   "cell_type": "code",
   "execution_count": 140,
   "metadata": {},
   "outputs": [
    {
     "name": "stdout",
     "output_type": "stream",
     "text": "[['备查文件目录', '(一)载有公司法定代表人、主管会计负责人、会计机构负责人签名并盖章的财务报表。'], ['备查文件目录', '(二)载有会计师事务所盖章、注册会计师签名并盖章的财务、内控审计报告原件。'], ['备查文件目录', '(三)报告期内在《上海证券报》、上交所网站公开披露过的所有公司文件正本及公告\\n的原稿。']]\n"
    },
    {
     "data": {
      "text/plain": "(Decimal('62.280'), Decimal('167.300'), Decimal('533.260'), Decimal('223.340'))"
     },
     "execution_count": 140,
     "metadata": {},
     "output_type": "execute_result"
    }
   ],
   "source": [
    "# pdf中的表格\n",
    "pages = pdf.pages\n",
    "# i = 1\n",
    "# for page in pages:\n",
    "#     i += 1\n",
    "#     print(i)\n",
    "#     for table in page.find_tables():\n",
    "#         print(table.bbox) \n",
    "\n",
    "page = pages[-1]\n",
    "bboxes = []\n",
    "for table in page.find_tables():\n",
    "    # print(table.bbox) \n",
    "    bboxes.append(table.bbox)\n",
    "    print(table.extract())\n",
    "bboxes[0]"
   ]
  },
  {
   "cell_type": "code",
   "execution_count": null,
   "metadata": {},
   "outputs": [],
   "source": []
  },
  {
   "cell_type": "code",
   "execution_count": 149,
   "metadata": {},
   "outputs": [
    {
     "data": {
      "text/plain": "True"
     },
     "execution_count": 149,
     "metadata": {},
     "output_type": "execute_result"
    }
   ],
   "source": [
    "def is_in_table(x,y,bboxes):\n",
    "    for box in bboxes:\n",
    "        if box[0]<x and x<box[2] and box[1]<y and y<box[3]:\n",
    "            return True\n",
    "    return False\n",
    "is_in_table(147.980,179.709,bboxes)"
   ]
  },
  {
   "cell_type": "code",
   "execution_count": 148,
   "metadata": {},
   "outputs": [
    {
     "name": "stdout",
     "output_type": "stream",
     "text": "{'fontname': \"b'ABCDEE+\\\\xcb\\\\xce\\\\xcc\\\\xe5'\", 'adv': Decimal('9.000'), 'upright': 1, 'x0': Decimal('321.050'), 'y0': Decimal('788.811'), 'x1': Decimal('330.050'), 'y1': Decimal('797.811'), 'width': Decimal('9.000'), 'height': Decimal('9.000'), 'size': Decimal('9.000'), 'object_type': 'char', 'page_number': 120, 'text': '告', 'top': Decimal('44.109'), 'bottom': Decimal('53.109'), 'doctop': Decimal('98013.189')}\n{'fontname': \"b'ABCDEE+\\\\xcb\\\\xce\\\\xcc\\\\xe5'\", 'adv': Decimal('10.560'), 'upright': 1, 'x0': Decimal('463.502'), 'y0': Decimal('662.211'), 'x1': Decimal('474.062'), 'y1': Decimal('672.771'), 'width': Decimal('10.560'), 'height': Decimal('10.560'), 'size': Decimal('10.560'), 'object_type': 'char', 'page_number': 120, 'text': '章', 'top': Decimal('169.149'), 'bottom': Decimal('179.709'), 'doctop': Decimal('98138.229')}\n{'fontname': \"b'ABCDEE+\\\\xcb\\\\xce\\\\xcc\\\\xe5'\", 'adv': Decimal('10.560'), 'upright': 1, 'x0': Decimal('263.559'), 'y0': Decimal('648.171'), 'x1': Decimal('274.119'), 'y1': Decimal('658.731'), 'width': Decimal('10.560'), 'height': Decimal('10.560'), 'size': Decimal('10.560'), 'object_type': 'char', 'page_number': 120, 'text': '章', 'top': Decimal('183.189'), 'bottom': Decimal('193.749'), 'doctop': Decimal('98152.269')}\n{'fontname': \"b'ABCDEE+\\\\xcb\\\\xce\\\\xcc\\\\xe5'\", 'adv': Decimal('10.560'), 'upright': 1, 'x0': Decimal('379.138'), 'y0': Decimal('648.171'), 'x1': Decimal('389.698'), 'y1': Decimal('658.731'), 'width': Decimal('10.560'), 'height': Decimal('10.560'), 'size': Decimal('10.560'), 'object_type': 'char', 'page_number': 120, 'text': '章', 'top': Decimal('183.189'), 'bottom': Decimal('193.749'), 'doctop': Decimal('98152.269')}\n{'fontname': \"b'ABCDEE+\\\\xcb\\\\xce\\\\xcc\\\\xe5'\", 'adv': Decimal('10.560'), 'upright': 1, 'x0': Decimal('484.274'), 'y0': Decimal('648.171'), 'x1': Decimal('494.834'), 'y1': Decimal('658.731'), 'width': Decimal('10.560'), 'height': Decimal('10.560'), 'size': Decimal('10.560'), 'object_type': 'char', 'page_number': 120, 'text': '告', 'top': Decimal('183.189'), 'bottom': Decimal('193.749'), 'doctop': Decimal('98152.269')}\n{'fontname': \"b'ABCDEE+\\\\xcb\\\\xce\\\\xcc\\\\xe5'\", 'adv': Decimal('10.560'), 'upright': 1, 'x0': Decimal('153.260'), 'y0': Decimal('634.011'), 'x1': Decimal('163.820'), 'y1': Decimal('644.571'), 'width': Decimal('10.560'), 'height': Decimal('10.560'), 'size': Decimal('10.560'), 'object_type': 'char', 'page_number': 120, 'text': '三', 'top': Decimal('197.349'), 'bottom': Decimal('207.909'), 'doctop': Decimal('98166.429')}\n{'fontname': \"b'ABCDEE+\\\\xcb\\\\xce\\\\xcc\\\\xe5'\", 'adv': Decimal('10.560'), 'upright': 1, 'x0': Decimal('179.544'), 'y0': Decimal('634.011'), 'x1': Decimal('190.104'), 'y1': Decimal('644.571'), 'width': Decimal('10.560'), 'height': Decimal('10.560'), 'size': Decimal('10.560'), 'object_type': 'char', 'page_number': 120, 'text': '告', 'top': Decimal('197.349'), 'bottom': Decimal('207.909'), 'doctop': Decimal('98166.429')}\n{'fontname': \"b'ABCDEE+\\\\xcb\\\\xce\\\\xcc\\\\xe5'\", 'adv': Decimal('10.560'), 'upright': 1, 'x0': Decimal('521.360'), 'y0': Decimal('634.011'), 'x1': Decimal('531.920'), 'y1': Decimal('644.571'), 'width': Decimal('10.560'), 'height': Decimal('10.560'), 'size': Decimal('10.560'), 'object_type': 'char', 'page_number': 120, 'text': '告', 'top': Decimal('197.349'), 'bottom': Decimal('207.909'), 'doctop': Decimal('98166.429')}\n"
    }
   ],
   "source": [
    "for c in page.chars:\n",
    "    if c[\"text\"] in [\"三\",\"告\",\"章\"]:\n",
    "        # print(c[\"text\"],c[\"x1\"],c[\"y1\"])\n",
    "        print(c)"
   ]
  },
  {
   "cell_type": "code",
   "execution_count": null,
   "metadata": {},
   "outputs": [],
   "source": []
  }
 ]
}