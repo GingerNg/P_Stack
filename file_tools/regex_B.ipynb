{
 "nbformat": 4,
 "nbformat_minor": 2,
 "metadata": {
  "language_info": {
   "name": "python",
   "codemirror_mode": {
    "name": "ipython",
    "version": 3
   },
   "version": "3.6.9-final"
  },
  "orig_nbformat": 2,
  "file_extension": ".py",
  "mimetype": "text/x-python",
  "name": "python",
  "npconvert_exporter": "python",
  "pygments_lexer": "ipython3",
  "version": 3,
  "kernelspec": {
   "name": "python36964bitb377107951a642b890c3e40487126bca",
   "display_name": "Python 3.6.9 64-bit"
  }
 },
 "cells": [
  {
   "cell_type": "code",
   "execution_count": 1,
   "metadata": {},
   "outputs": [],
   "source": [
    "import re"
   ]
  },
  {
   "cell_type": "code",
   "execution_count": 8,
   "metadata": {},
   "outputs": [
    {
     "data": {
      "text/plain": "'我'"
     },
     "execution_count": 8,
     "metadata": {},
     "output_type": "execute_result"
    }
   ],
   "source": [
    "sth = u'[^\\d]'  # 非数字\n",
    "content = \"12121我\"\n",
    "\n",
    "def extract(content,sth=u'[^\\d]'):\n",
    "    zhmodel = re.compile(sth)    #检查中文\n",
    "    #zhmodel = re.compile(u'[^\\u4e00-\\u9fa5]')   #检查非中文\n",
    "    match = zhmodel.findall(content)\n",
    "    return \"\".join(match)\n",
    "extract(content,sth)"
   ]
  },
  {
   "cell_type": "code",
   "execution_count": 2,
   "metadata": {},
   "outputs": [
    {
     "data": {
      "text/plain": "['1', '2', '1', '2', '1']"
     },
     "execution_count": 2,
     "metadata": {},
     "output_type": "execute_result"
    }
   ],
   "source": [
    "sth = \"\\d\"\n",
    "content = \"12121我\"\n",
    "\n",
    "def matchsth(content,sth):\n",
    "    zhmodel = re.compile(sth)    #检查中文\n",
    "    #zhmodel = re.compile(u'[^\\u4e00-\\u9fa5]')   #检查非中文\n",
    "    match = zhmodel.findall(content)\n",
    "    return match\n",
    "matchsth(content,sth)"
   ]
  },
  {
   "cell_type": "code",
   "execution_count": 3,
   "metadata": {},
   "outputs": [
    {
     "data": {
      "text/plain": "1"
     },
     "execution_count": 3,
     "metadata": {},
     "output_type": "execute_result"
    }
   ],
   "source": [
    "def is_has_sth(content,sth=u'[\\u4e00-\\u9fa5]'):\n",
    "    \"\"\"\n",
    "    是否包含sth\n",
    "    中文： [\\u4e00-\\u9fa5]\n",
    "    数字： u'[0-9]'\n",
    "    \"\"\"\n",
    "    zhmodel = re.compile(sth)    #检查中文\n",
    "    #zhmodel = re.compile(u'[^\\u4e00-\\u9fa5]')   #检查非中文\n",
    "    match = zhmodel.search(content)\n",
    "    # print(match)\n",
    "    if match:\n",
    "        return 1\n",
    "    else:\n",
    "        return 0\n",
    "is_has_sth(\"我是8,013.36       -5,799,427.42 -734,832.30\",sth=u'[0-9]')"
   ]
  },
  {
   "cell_type": "code",
   "execution_count": null,
   "metadata": {},
   "outputs": [],
   "source": []
  }
 ]
}