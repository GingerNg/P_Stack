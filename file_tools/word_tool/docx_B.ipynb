{
 "nbformat": 4,
 "nbformat_minor": 2,
 "metadata": {
  "language_info": {
   "name": "python",
   "codemirror_mode": {
    "name": "ipython",
    "version": 3
   },
   "version": "3.6.9-final"
  },
  "orig_nbformat": 2,
  "file_extension": ".py",
  "mimetype": "text/x-python",
  "name": "python",
  "npconvert_exporter": "python",
  "pygments_lexer": "ipython3",
  "version": 3,
  "kernelspec": {
   "name": "python36964bitb377107951a642b890c3e40487126bca",
   "display_name": "Python 3.6.9 64-bit"
  }
 },
 "cells": [
  {
   "cell_type": "code",
   "execution_count": 1,
   "metadata": {},
   "outputs": [],
   "source": [
    "from docx import Document\n",
    "from docx.oxml.section import CT_SectPr\n",
    "from docxcompose.utils import xpath"
   ]
  },
  {
   "cell_type": "code",
   "execution_count": 24,
   "metadata": {},
   "outputs": [],
   "source": [
    "root_path = \"/home/ginger/Projects/Learning/P_Stack/file_tools/word_tool/20200416134916\"\n",
    "srcs = {}\n",
    "def src_func(file_name):\n",
    "    srcs[file_name] = []\n",
    "    src_file_path = root_path + \"/\"+file_name+\".docx\"\n",
    "    # 获取src文件的内容\n",
    "    src_docx_obj = Document(src_file_path)\n",
    "    src_element = None\n",
    "    for element in src_docx_obj.element.body:\n",
    "        if isinstance(element, CT_SectPr):\n",
    "            continue\n",
    "        # elif src_element is None:\n",
    "        #     src_element = element\n",
    "        # print(element)\n",
    "        else:\n",
    "            srcs[file_name].append(element)"
   ]
  },
  {
   "cell_type": "code",
   "execution_count": 25,
   "metadata": {},
   "outputs": [
    {
     "output_type": "stream",
     "name": "stdout",
     "text": "<CT_P '<w:p>' at 0x7f22d0095368>\n<CT_P '<w:p>' at 0x7f22d0e4d778>\n<CT_P '<w:p>' at 0x7f22d00954f8>\n<CT_P '<w:p>' at 0x7f22d05e7a48>\n<CT_P '<w:p>' at 0x7f22d0e4d778>\n<CT_P '<w:p>' at 0x7f22d00954f8>\n<CT_P '<w:p>' at 0x7f22d05e7a48>\n<CT_P '<w:p>' at 0x7f22d0e4d778>\n<CT_P '<w:p>' at 0x7f22d05e7c78>\n<CT_P '<w:p>' at 0x7f22d05e7a48>\n<CT_P '<w:p>' at 0x7f22d0e4d778>\n"
    }
   ],
   "source": [
    "src_func(\"公有云服务介绍\")"
   ]
  },
  {
   "cell_type": "code",
   "execution_count": 30,
   "metadata": {},
   "outputs": [
    {
     "output_type": "execute_result",
     "data": {
      "text/plain": "8.333333333333332"
     },
     "metadata": {},
     "execution_count": 30
    }
   ],
   "source": [
    "150000/60/60/5"
   ]
  },
  {
   "cell_type": "code",
   "execution_count": 37,
   "metadata": {},
   "outputs": [
    {
     "output_type": "execute_result",
     "data": {
      "text/plain": "3.6458333333333335"
     },
     "metadata": {},
     "execution_count": 37
    }
   ],
   "source": [
    "1500*35 /60/60/4"
   ]
  },
  {
   "cell_type": "code",
   "execution_count": 34,
   "metadata": {},
   "outputs": [
    {
     "output_type": "execute_result",
     "data": {
      "text/plain": "34.8"
     },
     "metadata": {},
     "execution_count": 34
    }
   ],
   "source": [
    "87/250*100"
   ]
  },
  {
   "cell_type": "code",
   "execution_count": 4,
   "metadata": {},
   "outputs": [
    {
     "output_type": "execute_result",
     "data": {
      "text/plain": "252.0"
     },
     "metadata": {},
     "execution_count": 4
    }
   ],
   "source": [
    "20*0.7 * 18"
   ]
  },
  {
   "cell_type": "code",
   "execution_count": 22,
   "metadata": {},
   "outputs": [],
   "source": [
    "src_file_path = \"/home/ginger/Projects/Learning/P_Stack/file_tools/word_tool/20200416134916/表格.docx\"\n",
    "# 获取src文件的内容\n",
    "src_docx_obj = Document(src_file_path)\n",
    "src_element = None\n",
    "for element in src_docx_obj.element.body:\n",
    "    if isinstance(element, CT_SectPr):\n",
    "        continue\n",
    "    elif src_element is None:\n",
    "        src_element = element\n",
    "key = \"公司股本结构\"\n",
    "dest_file_path = \"/home/ginger/Projects/Learning/P_Stack/file_tools/word_tool/20200416134916/机器预填【部分】.docx\"\n",
    "docx_obj = Document(dest_file_path)\n",
    "for element in docx_obj.element.body:\n",
    "    if isinstance(element, CT_SectPr):\n",
    "        continue\n",
    "    else:\n",
    "        bookmarks_start = xpath(element, './/w:bookmarkStart')\n",
    "        if bookmarks_start:\n",
    "            index = int(bookmarks_start[0].get(\"{http://schemas.openxmlformats.org/wordprocessingml/2006/main}id\"))\n",
    "            if key == bookmarks_start[0].get(\"{http://schemas.openxmlformats.org/wordprocessingml/2006/main}name\"):\n",
    "                # bookmarks_start = [src_element]\n",
    "                docx_obj.element.body.insert(index,src_element)\n",
    "\n",
    "docx_obj.save(\"./resss.docx\")"
   ]
  },
  {
   "cell_type": "code",
   "execution_count": null,
   "metadata": {},
   "outputs": [],
   "source": []
  },
  {
   "cell_type": "code",
   "execution_count": null,
   "metadata": {},
   "outputs": [],
   "source": []
  },
  {
   "cell_type": "code",
   "execution_count": 23,
   "metadata": {},
   "outputs": [],
   "source": [
    "{}.get(\"B\")"
   ]
  },
  {
   "cell_type": "code",
   "execution_count": null,
   "metadata": {},
   "outputs": [],
   "source": []
  },
  {
   "cell_type": "code",
   "execution_count": null,
   "metadata": {},
   "outputs": [],
   "source": []
  },
  {
   "cell_type": "code",
   "execution_count": 5,
   "metadata": {},
   "outputs": [
    {
     "output_type": "stream",
     "text": "\u001b[0;31mType:\u001b[0m        Document\n\u001b[0;31mString form:\u001b[0m <docx.document.Document object at 0x7fc22f351678>\n\u001b[0;31mFile:\u001b[0m        ~/.local/lib/python3.6/site-packages/docx/document.py\n\u001b[0;31mDocstring:\u001b[0m  \nWordprocessingML (WML) document.\n\nNot intended to be constructed directly. Use :func:`docx.Document` to open or create\na document.\n",
     "metadata": {},
     "execution_count": 5
    }
   ],
   "source": [
    "from docx import Document\n",
    "\n",
    "doc = Document('./20200416134916/机器预填【部分】.docx')\n",
    "\n",
    "# doc?"
   ]
  },
  {
   "cell_type": "code",
   "execution_count": 6,
   "metadata": {},
   "outputs": [
    {
     "output_type": "stream",
     "name": "stdout",
     "text": "一、公司基本情况\n（一）公司基本资料\n\n\n（二）公司股本结构\n\n（三）财务状况和经营业绩\n根据会计师事务所出具的《审计报告》（会审号），公司最近三年财务报表主要财务数据如下：\n1、合并资产负债表\n单位：元\n\n2、合并利润表主要数据\n单位：元\n\n3、合并现金流量表主要数据\t\n单位：元\n\n4、主要财务指标\n\n（四）公有云业务介绍\n\n"
    }
   ],
   "source": [
    "#每一段的内容\n",
    "for para in doc.paragraphs:\n",
    "    print(para.text)"
   ]
  },
  {
   "cell_type": "code",
   "execution_count": 2,
   "metadata": {},
   "outputs": [
    {
     "output_type": "stream",
     "name": "stdout",
     "text": "一、公司基本情况\n（一）公司基本资料\n\n\n（二）公司股本结构\n\n（三）财务状况和经营业绩\n根据会计师事务所出具的《审计报告》（会审号），公司最近三年财务报表主要财务数据如下：\n1、合并资产负债表\n单位：元\n\n2、合并利润表主要数据\n单位：元\n\n3、合并现金流量表主要数据\t\n单位：元\n\n4、主要财务指标\n\n（四）公有云业务介绍\n\n0 一、公司基本情况\n1 （一）公司基本资料\n2 \n3 \n4 （二）公司股本结构\n5 \n6 （三）财务状况和经营业绩\n7 根据会计师事务所出具的《审计报告》（会审号），公司最近三年财务报表主要财务数据如下：\n8 1、合并资产负债表\n9 单位：元\n10 \n11 2、合并利润表主要数据\n12 单位：元\n13 \n14 3、合并现金流量表主要数据\t\n15 单位：元\n16 \n17 4、主要财务指标\n18 \n19 （四）公有云业务介绍\n20 \n"
    }
   ],
   "source": [
    "\n",
    "#每一段的编号、内容\n",
    "for i in range(len(doc.paragraphs)):\n",
    "    print(str(i),  doc.paragraphs[i].text)\n",
    "\n",
    "#表格\n",
    "tbs = doc.tables\n",
    "for tb in tbs:\n",
    "    #行\n",
    "    for row in tb.rows:    \n",
    "        #列    \n",
    "        for cell in row.cells:\n",
    "            print(cell.text)\n",
    "            #也可以用下面方法\n",
    "            '''text = ''\n",
    "            for p in cell.paragraphs:\n",
    "                text += p.text\n",
    "            print(text)'''"
   ]
  },
  {
   "cell_type": "code",
   "execution_count": null,
   "metadata": {},
   "outputs": [],
   "source": []
  }
 ]
}