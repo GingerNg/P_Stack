{
 "nbformat": 4,
 "nbformat_minor": 2,
 "metadata": {
  "language_info": {
   "name": "python",
   "codemirror_mode": {
    "name": "ipython",
    "version": 3
   },
   "version": "3.6.9-final"
  },
  "orig_nbformat": 2,
  "file_extension": ".py",
  "mimetype": "text/x-python",
  "name": "python",
  "npconvert_exporter": "python",
  "pygments_lexer": "ipython3",
  "version": 3,
  "kernelspec": {
   "name": "python36964bitb377107951a642b890c3e40487126bca",
   "display_name": "Python 3.6.9 64-bit"
  }
 },
 "cells": [
  {
   "cell_type": "markdown",
   "metadata": {},
   "source": [
    "#\n",
    "https://www.cnblogs.com/bert227/p/9323404.html"
   ]
  },
  {
   "cell_type": "code",
   "execution_count": 1,
   "metadata": {},
   "outputs": [],
   "source": [
    "import os"
   ]
  },
  {
   "cell_type": "code",
   "execution_count": 2,
   "metadata": {},
   "outputs": [
    {
     "output_type": "execute_result",
     "data": {
      "text/plain": "'/home/ginger/Projects/Learning/P_Stack/file_tools/xml_tools'"
     },
     "metadata": {},
     "execution_count": 2
    }
   ],
   "source": [
    "os.getcwd()"
   ]
  },
  {
   "cell_type": "code",
   "execution_count": 5,
   "metadata": {},
   "outputs": [
    {
     "output_type": "stream",
     "name": "stdout",
     "text": "data\ncountry {'name': 'Liechtenstein'}\nrank {'updated': 'yes'} 2\nyear {'updated_by': 'Alex'} 2009\ngdppc {} 141100\nneighbor {'direction': 'E', 'name': 'Austria'} None\nneighbor {'direction': 'W', 'name': 'Switzerland'} None\ncountry {'name': 'Singapore'}\nrank {'updated': 'yes'} 5\nyear {'updated_by': 'Alex'} 2012\ngdppc {} 59900\nneighbor {'direction': 'N', 'name': 'Malaysia'} None\ncountry {'name': 'Panama'}\nrank {'updated': 'yes'} 69\nyear {'updated_by': 'Alex'} 2012\ngdppc {} 13600\nneighbor {'direction': 'W', 'name': 'Costa Rica'} None\nneighbor {'direction': 'E', 'name': 'Colombia'} None\ninfo {} \n            \n"
    }
   ],
   "source": [
    "import xml.etree.ElementTree as ET\n",
    " \n",
    "xml_file_path = os.getcwd()+\"/cases/case.xml\"\n",
    "\n",
    "'''xml 数据的处理 '''\n",
    "tree = ET.parse(xml_file_path)\n",
    "root = tree.getroot() #数据内存地址\n",
    "print(root.tag)  #标签\n",
    " \n",
    "'''遍历所有数据'''\n",
    "for i in root:\n",
    "    print(i.tag,i.attrib)  #attrib 获取属性名\n",
    "    for k in i:\n",
    "        print(k.tag,k.attrib,k.text) #text 文本内容\n",
    " "
   ]
  },
  {
   "cell_type": "code",
   "execution_count": 6,
   "metadata": {},
   "outputs": [
    {
     "output_type": "stream",
     "name": "stdout",
     "text": "year {'updated_by': 'Alex'} 2009\nyear {'updated_by': 'Alex'} 2012\nyear {'updated_by': 'Alex'} 2012\n"
    }
   ],
   "source": [
    "''' 遍历某一个标签的值 '''\n",
    "for ta in root.iter(\"year\"):\n",
    "    print(ta.tag,ta.attrib,ta.text)"
   ]
  },
  {
   "cell_type": "markdown",
   "metadata": {},
   "source": [
    "### new xml"
   ]
  },
  {
   "cell_type": "code",
   "execution_count": 9,
   "metadata": {},
   "outputs": [
    {
     "output_type": "stream",
     "name": "stdout",
     "text": "<personinfolist><personinfo enrolled=\"yes\"><name>Alex Li</name><age checked=\"no\">56</age><sex>boy</sex></personinfo><personinfo enrolled=\"no\"><name>Oldboy Ran</name><age>19</age></personinfo></personinfolist>\n"
    }
   ],
   "source": [
    "'''xml 数据的创建 '''\n",
    "new_xml = ET.Element(\"personinfolist\") #Element 根节点\n",
    "\n",
    "#第一个子节点\n",
    "personinfo = ET.SubElement(new_xml, \"personinfo\", attrib={\"enrolled\": \"yes\"})\n",
    "name = ET.SubElement(personinfo, \"name\")  #SubElement 子节点\n",
    "name.text = \"Alex Li\"\n",
    "age = ET.SubElement(personinfo, \"age\", attrib={\"checked\": \"no\"})\n",
    "sex = ET.SubElement(personinfo, \"sex\")\n",
    "sex.text = \"boy\"\n",
    "age.text = '56'\n",
    "\n",
    "# 第二个子节点\n",
    "personinfo2 = ET.SubElement(new_xml, \"personinfo\", attrib={\"enrolled\": \"no\"})\n",
    "name = ET.SubElement(personinfo2, \"name\")\n",
    "name.text = \"Oldboy Ran\"\n",
    "age = ET.SubElement(personinfo2, \"age\")\n",
    "age.text = '19'\n",
    " \n",
    "et = ET.ElementTree(new_xml)  # 生成文档对象\n",
    "et.write(\"./test.xml\", encoding=\"utf-8\", xml_declaration=True)\n",
    "\"\"\" xml_declaration 声明xml文件类型 \"\"\"\n",
    "ET.dump(new_xml)  # 打印生成的格式"
   ]
  },
  {
   "cell_type": "markdown",
   "metadata": {},
   "source": [
    "### insert node"
   ]
  },
  {
   "cell_type": "code",
   "execution_count": null,
   "metadata": {},
   "outputs": [],
   "source": [
    "tag = \"person\", \n",
    "property_map = {\"age\":\"15\",\"money\":\"200000\"}, \n",
    "content = \"this is the firest content\"\n",
    "element = Element(tag, property_map)\n",
    "element.text = content\n",
    "\n",
    "et = ET.ElementTree(new_xml)  # 生成文档对象\n",
    "et.write(\"test.xml\", encoding=\"utf-8\", xml_declaration=True)\n",
    "\"\"\" xml_declaration 声明xml文件类型 \"\"\"\n",
    "ET.dump(new_xml)  # 打印生成的格式"
   ]
  },
  {
   "cell_type": "markdown",
   "metadata": {},
   "source": [
    "### modify"
   ]
  },
  {
   "cell_type": "code",
   "execution_count": 4,
   "metadata": {},
   "outputs": [],
   "source": [
    "'''xml 数据的修改 '''\n",
    "for node in root.iter('year'):\n",
    "    new_year = int(node.text) + 1\n",
    "    node.text = str(new_year)\n",
    "    node.set(\"updated_by\", \"Alex\")\n",
    "tree.write(\"./cases/xmltest.xml\")\n",
    " \n",
    "# 删除node\n",
    "for country in root.findall('country'):\n",
    "    rank = int(country.find('rank').text)\n",
    "    if rank > 50:\n",
    "        root.remove(country)\n",
    "tree.write('./cases/output.xml')"
   ]
  },
  {
   "cell_type": "code",
   "execution_count": null,
   "metadata": {},
   "outputs": [],
   "source": []
  },
  {
   "cell_type": "code",
   "execution_count": null,
   "metadata": {},
   "outputs": [],
   "source": []
  },
  {
   "cell_type": "code",
   "execution_count": null,
   "metadata": {},
   "outputs": [],
   "source": []
  }
 ]
}