{
 "cells": [
  {
   "cell_type": "code",
   "execution_count": null,
   "metadata": {},
   "outputs": [],
   "source": [
    "\"\"\"\n",
    "文件处理工具集合\n",
    "\"\"\""
   ]
  },
  {
   "cell_type": "code",
   "execution_count": 1,
   "metadata": {},
   "outputs": [],
   "source": [
    "def file_extension(path):\n",
    "    \"\"\"[获取文件后缀]\n",
    "\n",
    "    Arguments:\n",
    "        path {[path]} -- [str]\n",
    "\n",
    "    Returns:\n",
    "        [type] -- [str]\n",
    "    \"\"\"\n",
    "    return os.path.splitext(path)[1]"
   ]
  },
  {
   "cell_type": "code",
   "execution_count": 1,
   "metadata": {},
   "outputs": [],
   "source": [
    "import os\n",
    "import shutil\n",
    "import sys"
   ]
  },
  {
   "cell_type": "code",
   "execution_count": 2,
   "metadata": {},
   "outputs": [],
   "source": [
    "def batch_mv(fold_path1,fold_path2,new_fold_path):\n",
    "    \"\"\"\n",
    "    将fold2中不在fold1的文件移动到new_fold\n",
    "    :param fold_path1:\n",
    "    :param fold_path2:\n",
    "    :param new_fold_path:\n",
    "    :return:\n",
    "    \"\"\"\n",
    "    fold1 = os.listdir(fold_path1)\n",
    "    for dirpath, dirnames, filenames in os.walk(fold_path2):\n",
    "        for filename in filenames:\n",
    "            if filename not in fold1:\n",
    "                shutil.copy(os.path.join(fold_path2,filename), os.path.join(new_fold_path,filename))"
   ]
  },
  {
   "cell_type": "code",
   "execution_count": 3,
   "metadata": {},
   "outputs": [],
   "source": [
    "def lookfor_files(fold_path1,fold_path2):\n",
    "    \"\"\"\n",
    "    找出fold2中不在fold1中的文件名\n",
    "    :param fold_path1:\n",
    "    :param fold_path2:\n",
    "    :return:\n",
    "    \"\"\"\n",
    "    fold1 = os.listdir(fold_path1)\n",
    "    for dirpath, dirnames, filenames in os.walk(fold_path2):\n",
    "        for filename in filenames:\n",
    "            if filename+\".csv\" not in fold1:\n",
    "                print(filename)"
   ]
  },
  {
   "cell_type": "code",
   "execution_count": 4,
   "metadata": {},
   "outputs": [],
   "source": [
    "def batch_rename(fold_path):\n",
    "    from string import Template\n",
    "    import time, os.path\n",
    "\n",
    "    photofiles = ['img_1074.jpg', 'img_1076.jpg', 'img_1077.jpg']\n",
    "\n",
    "    class BatchRename(Template):  # subclass  of temple\n",
    "        delimiter = '%'\n",
    "\n",
    "    # fmt = input('Enter rename style(%d-date %n-seqnum %f-format): ')\n",
    "    fmt = 'Ashley_%n%f'\n",
    "\n",
    "    t = BatchRename(fmt)  # create a object\n",
    "    print(t)\n",
    "    date = time.strftime('%d%d%y')  # return a string as time\n",
    "    print(date)\n",
    "    for i, filename in enumerate(photofiles):  # i : 0,1,2...   (index value)\n",
    "        base, ext = os.path.splitext(filename)  # wordsegmentation\n",
    "        print(base, ext)\n",
    "        newname = t.substitute(d=date, n=i, f=ext)\n",
    "        print(i)\n",
    "        print('{0} --> {1}').format(filename, newname)"
   ]
  },
  {
   "cell_type": "code",
   "execution_count": null,
   "metadata": {},
   "outputs": [],
   "source": [
    "if __name__ == '__main__':\n",
    "    if len(sys.argv) != 4:\n",
    "        raise ValueError(\"\"\"usage: python tools.py methods fold1 fold2 fold3\"\"\")\n",
    "    if sys.argv[1] == \"mv\":\n",
    "        batch_mv(sys.argv[2],sys.argv[3],sys.argv[4])\n",
    "    elif sys.argv[1] == \"lookfor\":\n",
    "        lookfor_files(sys.argv[2],sys.argv[3])"
   ]
  }
 ],
 "metadata": {
  "kernelspec": {
   "display_name": "Python 3",
   "language": "python",
   "name": "python3"
  },
  "language_info": {
   "codemirror_mode": {
    "name": "ipython",
    "version": 3
   },
   "file_extension": ".py",
   "mimetype": "text/x-python",
   "name": "python",
   "nbconvert_exporter": "python",
   "pygments_lexer": "ipython3",
   "version": "3.6.9-final"
  }
 },
 "nbformat": 4,
 "nbformat_minor": 4
}