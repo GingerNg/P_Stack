{
 "metadata": {
  "language_info": {
   "codemirror_mode": {
    "name": "ipython",
    "version": 3
   },
   "file_extension": ".py",
   "mimetype": "text/x-python",
   "name": "python",
   "nbconvert_exporter": "python",
   "pygments_lexer": "ipython3",
   "version": "3.8.6"
  },
  "orig_nbformat": 2,
  "kernelspec": {
   "name": "python386jvsc74a57bd08775ead45cd722ea8a4c7c74215d2f64c2c40d0e28c86b8154e49caf9c5419e8",
   "display_name": "Python 3.8.6 64-bit ('py38': conda)"
  },
  "metadata": {
   "interpreter": {
    "hash": "8775ead45cd722ea8a4c7c74215d2f64c2c40d0e28c86b8154e49caf9c5419e8"
   }
  }
 },
 "nbformat": 4,
 "nbformat_minor": 2,
 "cells": [
  {
   "cell_type": "code",
   "execution_count": 1,
   "metadata": {},
   "outputs": [],
   "source": [
    "import tempfile\n",
    "# 临时文件\n",
    "# https://docs.python.org/3/library/tempfile.html#examples"
   ]
  },
  {
   "cell_type": "code",
   "execution_count": 2,
   "metadata": {},
   "outputs": [
    {
     "output_type": "stream",
     "name": "stdout",
     "text": [
      "created temporary directory /var/folders/c4/9z_4_rqd5vsg3lgq59ctcd1m0000gn/T/tmpf0f43ogo\n"
     ]
    }
   ],
   "source": [
    "with tempfile.TemporaryDirectory() as tmpdirname:\n",
    "    print('created temporary directory', tmpdirname)"
   ]
  },
  {
   "cell_type": "code",
   "execution_count": 5,
   "metadata": {},
   "outputs": [
    {
     "output_type": "execute_result",
     "data": {
      "text/plain": [
       "False"
      ]
     },
     "metadata": {},
     "execution_count": 5
    }
   ],
   "source": [
    "os.path.exists(tmpdirname)"
   ]
  },
  {
   "cell_type": "code",
   "execution_count": 11,
   "metadata": {},
   "outputs": [
    {
     "output_type": "stream",
     "name": "stdout",
     "text": [
      "61\nTrue\nb'Hello world!'\nFalse\n"
     ]
    }
   ],
   "source": [
    "fp = tempfile.TemporaryFile()\n",
    "print(fp.name)\n",
    "fp.write(b'Hello world!')\n",
    "fp.seek(0)\n",
    "print(os.path.exists(fp.name))\n",
    "print(fp.read())\n",
    "# os.path.exists(tmpdirname)\n",
    "fp.close()\n",
    "print(os.path.exists(fp.name))"
   ]
  },
  {
   "cell_type": "code",
   "execution_count": null,
   "metadata": {},
   "outputs": [],
   "source": []
  }
 ]
}