{
 "cells": [
  {
   "cell_type": "code",
   "execution_count": 2,
   "metadata": {},
   "outputs": [
    {
     "data": {
      "text/plain": [
       "37.0"
      ]
     },
     "execution_count": 2,
     "metadata": {},
     "output_type": "execute_result"
    }
   ],
   "source": [
    "import math\n",
    "math.pow(1369,1/2)"
   ]
  },
  {
   "cell_type": "code",
   "execution_count": 303,
   "metadata": {},
   "outputs": [],
   "source": [
    "from bs4 import BeautifulSoup"
   ]
  },
  {
   "cell_type": "code",
   "execution_count": 177,
   "metadata": {},
   "outputs": [
    {
     "data": {
      "text/plain": [
       "70476"
      ]
     },
     "execution_count": 177,
     "metadata": {},
     "output_type": "execute_result"
    }
   ],
   "source": [
    "import os\n",
    "import requests\n",
    "pdf_url = \"http://192.168.1.222/convert/pdf/pdf2html\"\n",
    "file_name = \"case6.pdf\"\n",
    "f = open(os.path.join(\"./pdfs\", file_name), \"rb\")\n",
    "response_left = requests.post(url=pdf_url, files={'file': f})\n",
    "res_json_left = response_left.json()\n",
    "data = res_json_left[\"resp_content\"]\n",
    "open(\"./htmls/%s\" % file_name+\".html\",\"w\").write(data)"
   ]
  },
  {
   "cell_type": "code",
   "execution_count": 123,
   "metadata": {},
   "outputs": [],
   "source": [
    "html2_doc = \"\"\"\n",
    "<p class=\\\"western\\\" align=\\\"center\\\" style=\\\"margin-bottom: 0in; line-height: 100%\\\">\\n<font face=\\\"方正大黑简体, 黑体, cursive\\\"><font size=\\\"6\\\" style=\\\"font-size: 22pt\\\"><span lang=\\\"zh-CN\\\">授权委托书</span></font></font></p>\\n<p class=\\\"western\\\" align=\\\"center\\\" style=\\\"margin-bottom: 0in; line-height: 0.21in\\\">\\n<br/>\\n\\n</p>\\n<p class=\\\"western\\\" style=\\\"margin-bottom: 0in; line-height: 100%\\\"><font face=\\\"宋体, SimSun\\\"><span lang=\\\"zh-CN\\\"><font size=\\\"4\\\" style=\\\"font-size: 14pt\\\">委托人：</font><u><font face=\\\"Calibri, sans-serif\\\"><font size=\\\"4\\\" style=\\\"font-size: 14pt\\\">\\n                 </font></font></u><font size=\\\"4\\\" style=\\\"font-size: 14pt\\\">法定代表人：</font></span></font><font size=\\\"4\\\" style=\\\"font-size: 14pt\\\"><u>____\\n   __</u></font><font size=\\\"4\\\" style=\\\"font-size: 14pt\\\"><u>   </u></font><font size=\\\"4\\\" style=\\\"font-size: 14pt\\\"><u>_</u></font><font size=\\\"4\\\" style=\\\"font-size: 14pt\\\"><u>\\n      </u></font><font size=\\\"4\\\" style=\\\"font-size: 14pt\\\"><u>__</u></font><font size=\\\"4\\\" style=\\\"font-size: 14pt\\\">\\n   </font><font size=\\\"4\\\" style=\\\"font-size: 14pt\\\"><u> </u></font>\\n</p>\\n<p class=\\\"western\\\" style=\\\"margin-bottom: 0in; line-height: 100%\\\"><font face=\\\"宋体, SimSun\\\"><span lang=\\\"zh-CN\\\"><font size=\\\"4\\\" style=\\\"font-size: 14pt\\\">身份证</font><font size=\\\"4\\\" style=\\\"font-size: 14pt\\\">明类型</font><font size=\\\"4\\\" style=\\\"font-size: 14pt\\\">：</font><u><font face=\\\"Calibri, sans-serif\\\"><font size=\\\"4\\\" style=\\\"font-size: 14pt\\\">\\n          </font></font></u><font size=\\\"4\\\" style=\\\"font-size: 14pt\\\">证件号码：</font></span></font><font size=\\\"4\\\" style=\\\"font-size: 14pt\\\"><u>____\\n   __</u></font><font size=\\\"4\\\" style=\\\"font-size: 14pt\\\"><u>   </u></font><font size=\\\"4\\\" style=\\\"font-size: 14pt\\\"><u>_</u></font><font size=\\\"4\\\" style=\\\"font-size: 14pt\\\"><u>\\n      </u></font><font size=\\\"4\\\" style=\\\"font-size: 14pt\\\"><u>___</u></font></p>\\n<p class=\\\"western\\\" style=\\\"margin-bottom: 0in; line-height: 100%\\\"><font face=\\\"宋体, SimSun\\\"><span lang=\\\"zh-CN\\\"><font size=\\\"4\\\" style=\\\"font-size: 14pt\\\">联系地址：</font><u><font face=\\\"Calibri, sans-serif\\\"><font size=\\\"4\\\" style=\\\"font-size: 14pt\\\">\\n              </font></font></u><u><font face=\\\"Calibri, sans-serif\\\"><font size=\\\"4\\\" style=\\\"font-size: 14pt\\\">\\n</font></font></u><font size=\\\"4\\\" style=\\\"font-size: 14pt\\\">邮政编码：</font></span></font><font size=\\\"4\\\" style=\\\"font-size: 14pt\\\"><u>____\\n   _</u></font><font size=\\\"4\\\" style=\\\"font-size: 14pt\\\"><u>  </u></font><font size=\\\"4\\\" style=\\\"font-size: 14pt\\\"><u>__</u></font><font size=\\\"4\\\" style=\\\"font-size: 14pt\\\"><u>\\n      </u></font><font size=\\\"4\\\" style=\\\"font-size: 14pt\\\"><u>_____</u></font><font size=\\\"4\\\" style=\\\"font-size: 14pt\\\">\\n     </font>\\n</p>\\n<p class=\\\"western\\\" style=\\\"margin-bottom: 0in; line-height: 100%\\\"><font face=\\\"宋体, SimSun\\\"><span lang=\\\"zh-CN\\\"><font size=\\\"4\\\" style=\\\"font-size: 14pt\\\">电话：</font></span></font><font size=\\\"4\\\" style=\\\"font-size: 14pt\\\">_____</font><font size=\\\"4\\\" style=\\\"font-size: 14pt\\\"><u>___\\n             ____</u></font><font size=\\\"4\\\" style=\\\"font-size: 14pt\\\">  </font><font size=\\\"4\\\" style=\\\"font-size: 14pt\\\">\\n</font>\\n</p>\\n<p class=\\\"western\\\" style=\\\"margin-bottom: 0in; line-height: 100%\\\"><font face=\\\"宋体, SimSun\\\"><span lang=\\\"zh-CN\\\"><font size=\\\"4\\\" style=\\\"font-size: 14pt\\\">受托人：</font><u><font face=\\\"Calibri, sans-serif\\\"><font size=\\\"4\\\" style=\\\"font-size: 14pt\\\">\\n                 </font></font></u><font size=\\\"4\\\" style=\\\"font-size: 14pt\\\">法定代表人：</font></span></font><font size=\\\"4\\\" style=\\\"font-size: 14pt\\\"><u>____\\n   ___</u></font><font size=\\\"4\\\" style=\\\"font-size: 14pt\\\"><u>     \\n</u></font><font size=\\\"4\\\" style=\\\"font-size: 14pt\\\"><u>_____      </u></font>\\n</p>\\n<p class=\\\"western\\\" style=\\\"margin-bottom: 0in; line-height: 100%\\\"><font face=\\\"宋体, SimSun\\\"><span lang=\\\"zh-CN\\\"><font size=\\\"4\\\" style=\\\"font-size: 14pt\\\">身份证</font><font size=\\\"4\\\" style=\\\"font-size: 14pt\\\">明类型</font><font size=\\\"4\\\" style=\\\"font-size: 14pt\\\">：</font><u><font face=\\\"Calibri, sans-serif\\\"><font size=\\\"4\\\" style=\\\"font-size: 14pt\\\">\\n           </font></font></u><font size=\\\"4\\\" style=\\\"font-size: 14pt\\\">证件号码：</font></span></font><font size=\\\"4\\\" style=\\\"font-size: 14pt\\\"><u>____\\n   ______ </u></font><font size=\\\"4\\\" style=\\\"font-size: 14pt\\\"><u>      </u></font><font size=\\\"4\\\" style=\\\"font-size: 14pt\\\"><u>\\n _</u></font><font size=\\\"4\\\" style=\\\"font-size: 14pt\\\">  </font>\\n</p>\\n<p class=\\\"western\\\" style=\\\"margin-bottom: 0in; line-height: 100%\\\"><font face=\\\"宋体, SimSun\\\"><span lang=\\\"zh-CN\\\"><font size=\\\"4\\\" style=\\\"font-size: 14pt\\\">联系地址：</font><u><font face=\\\"Calibri, sans-serif\\\"><font size=\\\"4\\\" style=\\\"font-size: 14pt\\\">\\n             </font></font></u><u><font face=\\\"Calibri, sans-serif\\\"><font size=\\\"4\\\" style=\\\"font-size: 14pt\\\">\\n </font></font></u><font size=\\\"4\\\" style=\\\"font-size: 14pt\\\">邮政编码：</font></span></font><font size=\\\"4\\\" style=\\\"font-size: 14pt\\\"><u>________\\n  _  </u></font><font size=\\\"4\\\" style=\\\"font-size: 14pt\\\"><u>      </u></font><font size=\\\"4\\\" style=\\\"font-size: 14pt\\\"><u>\\n __   </u></font>\\n</p>\\n<p class=\\\"western\\\" style=\\\"margin-bottom: 0in; line-height: 100%\\\"><font face=\\\"宋体, SimSun\\\"><span lang=\\\"zh-CN\\\"><font size=\\\"4\\\" style=\\\"font-size: 14pt\\\">电话：</font></span></font><font size=\\\"4\\\" style=\\\"font-size: 14pt\\\"><u>______\\n     _         _ __                          </u></font><font size=\\\"4\\\" style=\\\"font-size: 14pt\\\">\\n </font>\\n</p>\\n<p class=\\\"western\\\" style=\\\"margin-bottom: 0in; line-height: 100%\\\"><font face=\\\"宋体, SimSun\\\"><span lang=\\\"zh-CN\\\"><font size=\\\"4\\\" style=\\\"font-size: 14pt\\\">委托期限：</font><u><font face=\\\"Calibri, sans-serif\\\"><font size=\\\"4\\\" style=\\\"font-size: 14pt\\\">\\n      </font></font></u><font face=\\\"Calibri, sans-serif\\\"><font size=\\\"4\\\" style=\\\"font-size: 14pt\\\">\\n</font></font><font size=\\\"4\\\" style=\\\"font-size: 14pt\\\">年</font><u><font face=\\\"Calibri, sans-serif\\\"><font size=\\\"4\\\" style=\\\"font-size: 14pt\\\">\\n   </font></font></u><font size=\\\"4\\\" style=\\\"font-size: 14pt\\\">月</font><u><font face=\\\"Calibri, sans-serif\\\"><font size=\\\"4\\\" style=\\\"font-size: 14pt\\\">\\n   </font></font></u><font size=\\\"4\\\" style=\\\"font-size: 14pt\\\">日至</font><u><font face=\\\"Calibri, sans-serif\\\"><font size=\\\"4\\\" style=\\\"font-size: 14pt\\\">\\n   </font></font></u><u><font face=\\\"Calibri, sans-serif\\\"><font size=\\\"4\\\" style=\\\"font-size: 14pt\\\">\\n </font></font></u><font size=\\\"4\\\" style=\\\"font-size: 14pt\\\">年</font><u><font face=\\\"Calibri, sans-serif\\\"><font size=\\\"4\\\" style=\\\"font-size: 14pt\\\">\\n   </font></font></u><u><font face=\\\"Calibri, sans-serif\\\"><font size=\\\"4\\\" style=\\\"font-size: 14pt\\\">\\n</font></font></u><font size=\\\"4\\\" style=\\\"font-size: 14pt\\\">月</font><u><font face=\\\"Calibri, sans-serif\\\"><font size=\\\"4\\\" style=\\\"font-size: 14pt\\\">\\n   </font></font></u><u><font face=\\\"Calibri, sans-serif\\\"><font size=\\\"4\\\" style=\\\"font-size: 14pt\\\">\\n</font></font></u><font size=\\\"4\\\" style=\\\"font-size: 14pt\\\">日。</font></span></font></p>\\n<p class=\\\"western\\\" style=\\\"text-indent: 0.39in; margin-bottom: 0in; line-height: 100%\\\">\\n<font face=\\\"宋体, SimSun\\\"><span lang=\\\"zh-CN\\\"><font size=\\\"4\\\" style=\\\"font-size: 14pt\\\">现委托人委托</font><u><font face=\\\"Calibri, sans-serif\\\"><font size=\\\"4\\\" style=\\\"font-size: 14pt\\\">\\n                  </font></font></u><font size=\\\"4\\\" style=\\\"font-size: 14pt\\\">为合法代理人，代表委托人办理坐落于</font></span></font><font size=\\\"4\\\" style=\\\"font-size: 14pt\\\"><u>___</u></font><font size=\\\"4\\\" style=\\\"font-size: 14pt\\\"><u>\\n    </u></font><font size=\\\"4\\\" style=\\\"font-size: 14pt\\\"><u>__</u></font><font size=\\\"4\\\" style=\\\"font-size: 14pt\\\"><u>\\n                           </u></font><font face=\\\"宋体, SimSun\\\"><span lang=\\\"zh-CN\\\"><font size=\\\"4\\\" style=\\\"font-size: 14pt\\\">之不动产</font><font size=\\\"4\\\" style=\\\"font-size: 14pt\\\">的以下</font><font size=\\\"4\\\" style=\\\"font-size: 14pt\\\">事项</font><font size=\\\"4\\\" style=\\\"font-size: 14pt\\\">：</font></span></font></p>\\n<p class=\\\"western\\\" style=\\\"margin-bottom: 0in; line-height: 100%\\\"><font size=\\\"4\\\" style=\\\"font-size: 14pt\\\">1</font><font face=\\\"宋体, SimSun\\\"><span lang=\\\"zh-CN\\\"><font size=\\\"4\\\" style=\\\"font-size: 14pt\\\">．</font></span></font><font size=\\\"4\\\" style=\\\"font-size: 14pt\\\">__________________________________________________</font><font size=\\\"4\\\" style=\\\"font-size: 14pt\\\"><u>\\n    </u></font>\\n</p>\\n<p class=\\\"western\\\" style=\\\"margin-bottom: 0in; line-height: 100%\\\"><font size=\\\"4\\\" style=\\\"font-size: 14pt\\\">2</font><font face=\\\"宋体, SimSun\\\"><span lang=\\\"zh-CN\\\"><font size=\\\"4\\\" style=\\\"font-size: 14pt\\\">．</font></span></font><font size=\\\"4\\\" style=\\\"font-size: 14pt\\\">______________________________________________________</font><font size=\\\"4\\\" style=\\\"font-size: 14pt\\\"><u>\\n</u></font>\\n</p>\\n<p class=\\\"western\\\" style=\\\"margin-bottom: 0in; line-height: 100%\\\"><font size=\\\"4\\\" style=\\\"font-size: 14pt\\\">3</font><font face=\\\"宋体, SimSun\\\"><span lang=\\\"zh-CN\\\"><font size=\\\"4\\\" style=\\\"font-size: 14pt\\\">．</font></span></font><font size=\\\"4\\\" style=\\\"font-size: 14pt\\\">____________________________________________________</font><font size=\\\"4\\\" style=\\\"font-size: 14pt\\\">\\n</font><font size=\\\"4\\\" style=\\\"font-size: 14pt\\\"><u>  </u></font>\\n</p>\\n<p class=\\\"western\\\" style=\\\"margin-bottom: 0in; line-height: 100%\\\"><font size=\\\"4\\\" style=\\\"font-size: 14pt\\\">4</font><font face=\\\"宋体, SimSun\\\"><span lang=\\\"zh-CN\\\"><font size=\\\"4\\\" style=\\\"font-size: 14pt\\\">．</font></span></font><font size=\\\"4\\\" style=\\\"font-size: 14pt\\\">______________________________________________________</font></p>\\n<p class=\\\"western\\\" style=\\\"margin-bottom: 0in; line-height: 100%\\\"><font size=\\\"4\\\" style=\\\"font-size: 14pt\\\">5</font><font face=\\\"宋体, SimSun\\\"><span lang=\\\"zh-CN\\\"><font size=\\\"4\\\" style=\\\"font-size: 14pt\\\">．</font></span></font><font size=\\\"4\\\" style=\\\"font-size: 14pt\\\">_____________________________________________________</font></p>\\n<p class=\\\"western\\\" style=\\\"text-indent: 0.39in; margin-bottom: 0in; line-height: 100%\\\">\\n<font face=\\\"宋体, SimSun\\\"><font size=\\\"4\\\" style=\\\"font-size: 14pt\\\"><span lang=\\\"zh-CN\\\">受托人在其权限范围内依法所作的一切行为，接受问询的行为及签署的一切文件，委托人均予以承认。</span></font></font></p>\\n<p class=\\\"western\\\" style=\\\"text-indent: 0.39in; margin-bottom: 0in; line-height: 0.21in\\\">\\n<br/>\\n\\n</p>\\n<p class=\\\"western\\\" style=\\\"text-indent: 0.39in; margin-bottom: 0in; line-height: 0.21in\\\">\\n<br/>\\n\\n</p>\\n<p class=\\\"western\\\" style=\\\"text-indent: 0.39in; margin-bottom: 0in; line-height: 0.21in\\\">\\n<br/>\\n\\n</p>\\n<p class=\\\"western\\\" style=\\\"text-indent: 0.39in; margin-bottom: 0in; line-height: 0.21in\\\">\\n<font face=\\\"宋体, SimSun\\\"><font size=\\\"4\\\" style=\\\"font-size: 14pt\\\"><span lang=\\\"zh-CN\\\">委托人签名（或盖章）：<font face=\\\"Calibri, sans-serif\\\">\\n                </font>受托人签名（或盖章）：</span></font></font></p>\\n<p class=\\\"western\\\" style=\\\"text-indent: 0.39in; margin-bottom: 0in; line-height: 0.21in\\\">\\n<br/>\\n\\n</p>\\n<p class=\\\"western\\\" style=\\\"text-indent: 0.39in; margin-bottom: 0in; line-height: 0.21in\\\">\\n<font face=\\\"宋体, SimSun\\\"><font size=\\\"4\\\" style=\\\"font-size: 14pt\\\"><span lang=\\\"zh-CN\\\">年<font face=\\\"Calibri, sans-serif\\\">\\n  </font>月<font face=\\\"Calibri, sans-serif\\\">   </font>日<font face=\\\"Calibri, sans-serif\\\">\\n                       </font>年<font face=\\\"Calibri, sans-serif\\\">   \\n</font>月<font face=\\\"Calibri, sans-serif\\\">    </font>日</span></font></font></p>\\n<p class=\\\"western\\\" style=\\\"margin-bottom: 0in; line-height: 100%\\\"><br/>\\n\\n</p>\\n\\n right_html:\\n<p style=\\\"margin-bottom: 0.14in\\\"><br/>\\n<br/>\\n\\n</p>\n",
    "\"\"\""
   ]
  },
  {
   "cell_type": "code",
   "execution_count": 304,
   "metadata": {},
   "outputs": [],
   "source": [
    "html1_doc = \"\"\"\n",
    "<html><head><title>The Dormouse's story</title>\n",
    "<style>.diff_add{background-color:#97D8FF;}</style>\n",
    "</head>\n",
    "<p class=\"title\"><b>The Dormouse's story</b></p>\n",
    "<p class=\"story\">Once upon a time there were three little sisters; and their names were\n",
    "<a href=\"http://example.com/elsie\" class=\"sister\" id=\"link1\">Elsie我 </a>,\n",
    "<a href=\"http://example.com/lacie\" class=\"sister\" id=\"link2\">Lacie</a> and\n",
    "<a href=\"http://example.com/tillie\" class=\"sister\" id=\"link3\">Tillie</a>;\n",
    "and they lived at the bottom of a well.</p>\n",
    "<p class=\"story\">...</p>\n",
    "\"\"\"\n",
    "\n",
    "# html2_doc = \"\"\"\n",
    "# <html><head><title>The 's stroy我是 谁</title></head>\n",
    "# <p class=\"title\"><b>The Dormouse's story</b></p>\n",
    "# <p class=\"story\">Once upon a time there were three little sisters; and their names were\n",
    "# <a href=\"http://example.com/elsie\" class=\"sister\" id=\"link1\">Elsie我 </a>,\n",
    "# <a href=\"http://example.com/lacie\" class=\"sister\" id=\"link2\">Lacie</a> and\n",
    "# <a href=\"http://example.com/tillie\" class=\"sister\" id=\"link3\">Tillie</a>;\n",
    "# and they lived at the bottom of a well.</p>\n",
    "# <p class=\"story\">...</p>\n",
    "# \"\"\""
   ]
  },
  {
   "cell_type": "code",
   "execution_count": 306,
   "metadata": {},
   "outputs": [
    {
     "data": {
      "text/plain": [
       "'\\n<html><head><title>The Dormouse\\'s story</title>\\n<style>.diff_add{background-color:#97D8FF;}i am new</style>\\n</head>\\n<p class=\"title\"><b>The Dormouse\\'s story</b></p>\\n<p class=\"story\">Once upon a time there were three little sisters; and their names were\\n<a class=\"sister\" href=\"http://example.com/elsie\" id=\"link1\">Elsie我 </a>,\\n<a class=\"sister\" href=\"http://example.com/lacie\" id=\"link2\">Lacie</a> and\\n<a class=\"sister\" href=\"http://example.com/tillie\" id=\"link3\">Tillie</a>;\\nand they lived at the bottom of a well.</p>\\n<p class=\"story\">...</p>\\n</html>'"
      ]
     },
     "execution_count": 306,
     "metadata": {},
     "output_type": "execute_result"
    }
   ],
   "source": [
    "# 加style\n",
    "soup = BeautifulSoup(html1_doc, \"html.parser\")\n",
    "style = \"i am new\"\n",
    "soup.find(name='head').find(name=\"style\").string += style\n",
    "str(soup)"
   ]
  },
  {
   "cell_type": "code",
   "execution_count": 301,
   "metadata": {},
   "outputs": [],
   "source": [
    "# html1_doc = open(\"./case3.html\").read()\n",
    "# html2_doc = open(\"./case4.html\").read()\n",
    "\n",
    "html1_doc = open(\"./htmls/case5.pdf.html\").read()\n",
    "html2_doc = open(\"./htmls/case6.pdf.html\").read()\n",
    "\n",
    "def extract_body(html_doc):\n",
    "#     f1 = open(\"./case3.html\",\"r\").read()\n",
    "    soup = BeautifulSoup(html_doc, \"html.parser\")\n",
    "    sidebar = soup.find('div', id='sidebar')\n",
    "    if sidebar:\n",
    "        sidebar.extract()\n",
    "    \n",
    "    # [s.extract() for s in soup(\"head\")]\n",
    "    # print(ss)\n",
    "#     tt = soup(\"body\")[0].extract()\n",
    "    return str(soup)\n",
    "\n",
    "html1_doc = extract_body(html1_doc)\n",
    "html2_doc = extract_body(html2_doc)"
   ]
  },
  {
   "cell_type": "code",
   "execution_count": 309,
   "metadata": {},
   "outputs": [],
   "source": [
    "# html2_doc"
   ]
  },
  {
   "cell_type": "code",
   "execution_count": 308,
   "metadata": {},
   "outputs": [],
   "source": [
    "# html2_doc[65382:]"
   ]
  },
  {
   "cell_type": "code",
   "execution_count": 280,
   "metadata": {},
   "outputs": [],
   "source": [
    "def extract_content_with_format(html_doc):\n",
    "    html_doc = html_doc.replace(\">\\n<\",\"><\")\n",
    "    start_index = html_doc.index(\"<body>\")\n",
    "    new_html_doc = []\n",
    "    for i in range(len(html_doc)):\n",
    "        new_html_doc.append((html_doc[i],i))\n",
    "    def keeplr(item):\n",
    "        if item[0] in [\">\",\"<\"] and item[1]>=start_index:\n",
    "            return True\n",
    "#     flags = list(filter(keeplr,new_html_doc))\n",
    "    flags = [(\"<\",0)]+list(filter(keeplr,new_html_doc))\n",
    "    newnew_html_doc = []\n",
    "    contents = []\n",
    "    for i in range(0,len(flags)-1):\n",
    "    #     print(flags[i][0])\n",
    "    #     print(flags[i+1][0])\n",
    "    #     print(flags[i+1][1]-flags[i][1])\n",
    "        if flags[i][0] == \">\" and flags[i+1][0] == \"<\" and (flags[i+1][1]-flags[i][1])>1:\n",
    "            contents.append(html_doc[flags[i][1]+1:flags[i+1][1]])\n",
    "            newnew_html_doc.append(flags[i][0]+\"%s\")\n",
    "        else:\n",
    "            newnew_html_doc.append(html_doc[flags[i][1]:flags[i+1][1]])\n",
    "    newnew_html_doc.append(html_doc[flags[-1][1]:-1])\n",
    "    return \"\".join(newnew_html_doc),contents\n",
    "formats1,contents1 = extract_content_with_format(html1_doc)\n",
    "formats2,contents2 = extract_content_with_format(html2_doc)"
   ]
  },
  {
   "cell_type": "code",
   "execution_count": 281,
   "metadata": {},
   "outputs": [],
   "source": [
    "# formats2"
   ]
  },
  {
   "cell_type": "code",
   "execution_count": 283,
   "metadata": {},
   "outputs": [],
   "source": [
    "# formats1"
   ]
  },
  {
   "cell_type": "code",
   "execution_count": 293,
   "metadata": {},
   "outputs": [
    {
     "data": {
      "text/plain": [
       "['12121', '12121']"
      ]
     },
     "execution_count": 293,
     "metadata": {},
     "output_type": "execute_result"
    }
   ],
   "source": [
    "contents1"
   ]
  },
  {
   "cell_type": "code",
   "execution_count": 285,
   "metadata": {},
   "outputs": [
    {
     "data": {
      "text/plain": [
       "3"
      ]
     },
     "execution_count": 285,
     "metadata": {},
     "output_type": "execute_result"
    }
   ],
   "source": [
    "len(formats1.split(\"%s\"))"
   ]
  },
  {
   "cell_type": "code",
   "execution_count": 286,
   "metadata": {},
   "outputs": [],
   "source": [
    "import difflib\n",
    "class DocxDiff(difflib.HtmlDiff):\n",
    "    def __init__(self):\n",
    "        super().__init__()\n",
    "#         self.MAX_PARA_LEN = config[\"MAX_PARA_LEN\"]\n",
    "        \n",
    "    def format_diff(self,fromlines, tolines, fromdesc='', todesc='',context=False, numlines=5, *, charset='utf-8'):\n",
    "        self._make_prefix()\n",
    "\n",
    "        # change tabs to spaces before it gets more difficult after we insert\n",
    "        # markup\n",
    "        fromlines,tolines = self._tab_newline_replace(fromlines,tolines)\n",
    "\n",
    "        # create diffs iterator which generates side by side from/to data\n",
    "        if context:\n",
    "            context_lines = numlines\n",
    "        else:\n",
    "            context_lines = None\n",
    "        diffs = difflib._mdiff(fromlines,tolines,context_lines,linejunk=self._linejunk,\n",
    "                      charjunk=self._charjunk)\n",
    "        \n",
    "        return list(diffs)"
   ]
  },
  {
   "cell_type": "code",
   "execution_count": 287,
   "metadata": {},
   "outputs": [
    {
     "data": {
      "text/plain": [
       "[4, 5, 1]"
      ]
     },
     "execution_count": 287,
     "metadata": {},
     "output_type": "execute_result"
    }
   ],
   "source": [
    "def get_lenofline(text_paras):\n",
    "    \"\"\"\n",
    "    获取每个段落的长度\n",
    "    \"\"\"\n",
    "    lenoflines = []\n",
    "    return [len(text_paras[i]) for i in range(len(text_paras))]\n",
    "right_lens = get_lenofline(contents2)\n",
    "left_lens = get_lenofline(contents1)\n",
    "right_lens[0:5]"
   ]
  },
  {
   "cell_type": "code",
   "execution_count": 317,
   "metadata": {},
   "outputs": [],
   "source": [
    "def left_spearte(item):\n",
    "    l = item[0][1]\n",
    "    r = item[1][1]\n",
    "    if \"\\x00-\" in l and \"\\00+\" in r:\n",
    "        l = l.replace(\"\\x00-\",\"\\x04\").replace(\"\\x01\",\"\\x04\")  # \\x04 mod\n",
    "    elif \"\\x00-\" in l:\n",
    "        l = l.replace(\"\\x00-\",\"\\x03\").replace(\"\\x01\",\"\\x03\") # \\x03  del\n",
    "    elif \"\\x00+\" in l:\n",
    "        l = l.replace(\"\\x00+\",\"\\x02\").replace(\"\\x01\",\"\\x02\")  # \\x02 add\n",
    "    if \"\\x05\" in l:\n",
    "        l = \"\\x05\"\n",
    "    return (item[0][0]-1,l)\n",
    "\n",
    "def right_spearte(item):\n",
    "    l = item[0][1]\n",
    "    r = item[1][1]\n",
    "    if \"\\x00-\" in l and \"\\00+\" in r:\n",
    "        r = r.replace(\"\\x00+\",\"\\x04\").replace(\"\\x01\",\"\\x04\")\n",
    "    elif \"\\x00-\" in r:\n",
    "        r = r.replace(\"\\x00-\",\"\\x03\").replace(\"\\x01\",\"\\x03\")\n",
    "    elif \"\\x00+\" in r:\n",
    "        r = r.replace(\"\\x00+\",\"\\x02\").replace(\"\\x01\",\"\\x02\")\n",
    "    if \"\\x05\" in r:\n",
    "        r = \"\\x05\"\n",
    "    return (item[1][0]-1,r)\n",
    "\n",
    "def left_isok(item):\n",
    "#     return True\n",
    "    return item[0][0] != \"\"\n",
    "def right_isok(item):\n",
    "#     return True\n",
    "    return item[1][0] != \"\""
   ]
  },
  {
   "cell_type": "code",
   "execution_count": 351,
   "metadata": {},
   "outputs": [],
   "source": [
    "def left_right_process(diffs):\n",
    "    \"\"\"\n",
    "    params: [((1, '1'), (1, '1'), False),...,\n",
    "    ((6, '\\x00-1\\x01'), ('', '\\n'), True),...,\n",
    "    (('', '\\n'), (10, '\\x00+5\\x01'), True)]\n",
    "    return left_diffs & right_diffs\n",
    "    \"\"\"\n",
    "    left_diffs = []\n",
    "    right_diffs = []\n",
    "    left_add = 0\n",
    "    right_del = 0\n",
    "    for i in range(len(diffs)):\n",
    "        item = diffs[i]\n",
    "        if left_isok(item):\n",
    "            left_item = left_spearte(item)\n",
    "            if left_add:\n",
    "                left_add = 0\n",
    "                left_item[1] = (left_item[0],\"\\x02\\x02\\x02\\x02\" + left_item[1])\n",
    "            left_diffs.append(left_item)\n",
    "        else:\n",
    "            left_add = 1\n",
    "        if right_isok(item):\n",
    "            right_item = right_spearte(item)\n",
    "            if right_del:\n",
    "                right_del = 0\n",
    "                right_item = (right_item[0],\"\\x03\\x03\\x03\\x03\" + right_item[1])\n",
    "            right_diffs.append(right_item)\n",
    "        else:\n",
    "            right_del = 1\n",
    "    if left_add:\n",
    "        left_diffs[-1] = (left_diffs[-1][0], left_diffs[-1][1]+\"\\x02\\x02\\x02\\x02\")\n",
    "    if right_del:\n",
    "        right_diffs[-1] = (right_diffs[-1][0], right_diffs[-1][1]+\"\\x03\\x03\\x03\\x03\")\n",
    "    return left_diffs,right_diffs"
   ]
  },
  {
   "cell_type": "code",
   "execution_count": 352,
   "metadata": {},
   "outputs": [
    {
     "data": {
      "text/plain": [
       "[((1, '1'), (1, '1'), False),\n",
       " ((2, '2'), (2, '2'), False),\n",
       " ((3, '1'), (3, '1'), False),\n",
       " ((4, '2'), (4, '2'), False),\n",
       " ((5, '1'), (5, '1'), False),\n",
       " ((6, '\\x00-1\\x01'), ('', '\\n'), True),\n",
       " ((7, '2'), (6, '2'), False),\n",
       " ((8, '1'), (7, '1'), False),\n",
       " ((9, '\\x00-2\\x01'), (8, '\\x00+3\\x01'), True),\n",
       " ((10, '1'), (9, '1'), False),\n",
       " (('', '\\n'), (10, '\\x00+5\\x01'), True)]"
      ]
     },
     "execution_count": 352,
     "metadata": {},
     "output_type": "execute_result"
    }
   ],
   "source": [
    "import json\n",
    "differ = DocxDiff()\n",
    "# 行List对比\n",
    "# diff_result = differ.format_diff(json.loads(json.dumps(text_paras1)), \n",
    "#                                  json.loads(json.dumps(text_paras2))\n",
    "#                                 ) \n",
    "\n",
    "# 字string对比\n",
    "diff_result = differ.format_diff(\"\".join(contents1), \"\".join(contents2)) \n",
    "\n",
    "# diff_result[10:30]\n",
    "# right_diffs = list(map(right_spearte,(filter(right_isok,diff_result))))\n",
    "# left_diffs = list(map(left_spearte,(filter(left_isok,diff_result))))\n",
    "left_diffs,right_diffs = left_right_process(diff_result)\n",
    "diff_result"
   ]
  },
  {
   "cell_type": "code",
   "execution_count": 353,
   "metadata": {},
   "outputs": [
    {
     "data": {
      "text/plain": [
       "[(0, '1'),\n",
       " (1, '2'),\n",
       " (2, '1'),\n",
       " (3, '2'),\n",
       " (4, '1'),\n",
       " (5, '\\x03\\x03\\x03\\x032'),\n",
       " (6, '1'),\n",
       " (7, '\\x043\\x04'),\n",
       " (8, '1'),\n",
       " (9, '\\x025\\x02')]"
      ]
     },
     "execution_count": 353,
     "metadata": {},
     "output_type": "execute_result"
    }
   ],
   "source": [
    "right_diffs"
   ]
  },
  {
   "cell_type": "code",
   "execution_count": 368,
   "metadata": {},
   "outputs": [],
   "source": [
    "from functools import reduce\n",
    "def mergeline(item0,item1):\n",
    "    left = item0[1]\n",
    "    right = item1[1]\n",
    "#     print(left[-1])\n",
    "#     print(right[0])\n",
    "#     for \n",
    "    if len(right)>1 and len(left)>1:\n",
    "#         if left[-1] == right[0] and left[-2]!=\"\\x05\" and right[1]!=\"\\x05\":\n",
    "        if left[-1] == right[0]:\n",
    "            return (0,left[0:-1]+right[1:])\n",
    "    return (0,left+right)\n",
    "\n",
    "\n",
    "chgs = \"\"\"<span class=\"mod-text\" id=%s>\"\"\"\n",
    "adds = \"\"\"<span class=\"add-text\" id=%s>\"\"\"\n",
    "dels = \"\"\"<span class=\"del-text\" id=%s>\"\"\"\n",
    "ends = \"\"\"</span>\"\"\"\n",
    "\n",
    "\n",
    "# def process_table(formats,lines):\n",
    "#     for i in lines\n",
    "\n",
    "diff_prefix = \"diff_id@%s\"\n",
    "def xuanran(line,diff_id=0):\n",
    "    new_chgs = \"\"\"<span class=\"mod-text\" id=%s>\"\"\"\n",
    "    new_adds = \"\"\"<span class=\"add-text\" id=%s>\"\"\"\n",
    "    new_dels = \"\"\"<span class=\"del-text\" id=%s>\"\"\"\n",
    "    new_line = []\n",
    "    cur = 0\n",
    "    for c in line:\n",
    "        if c in [\"\\x02\",\"\\x03\",\"\\x04\"]:\n",
    "            if c == \"\\x02\":\n",
    "                new_adds = adds % (diff_prefix % str(diff_id))\n",
    "            if c == \"\\x03\":\n",
    "                new_dels = dels % (diff_prefix % str(diff_id))\n",
    "            if c == \"\\x04\":\n",
    "                new_chgs = chgs % (diff_prefix % str(diff_id))\n",
    "            if c != cur:\n",
    "                cur = c\n",
    "                c = c.replace(\"\\x02\",new_adds).replace(\"\\x03\",new_dels).replace(\"\\x04\",new_chgs)\n",
    "                diff_id += 1\n",
    "            else:\n",
    "                c = ends\n",
    "                cur = 0\n",
    "#         if c == \"\\x05\":\n",
    "#             c = \"|\"\n",
    "        new_line.append(c.replace(\"0x3b\",\"\"))\n",
    "    if cur in [\"\\x02\",\"\\x03\",\"\\x04\"]:\n",
    "        new_line.append(ends)\n",
    "    return \"\".join(new_line),diff_id\n",
    "            \n",
    "def format_merge_byline(lenoflines,diffs,formats=None):\n",
    "    start = 0\n",
    "    new_lines = []\n",
    "    for index in range(len(lenoflines)):\n",
    "        cur_line_diffs = diffs[start:start+lenoflines[index]]\n",
    "        if len(cur_line_diffs)>0:\n",
    "            cur_line = reduce(mergeline, cur_line_diffs)[1]\n",
    "            cur_line = cur_line.replace(\"\\x02\\x02\",\"\\x02\").replace(\"\\x03\\x03\",\"\\x03\").replace(\"\\x04\\x04\",\"\\x04\")\n",
    "        else:\n",
    "            cur_line = \"\"\n",
    "        new_lines.append(cur_line)\n",
    "            \n",
    "        start += lenoflines[index]\n",
    "    \n",
    "    # 渲染并增加diff_id\n",
    "    diff_id = 0\n",
    "    newnew_lines = []\n",
    "    for line in new_lines:\n",
    "        line,diff_id = xuanran(line,diff_id)\n",
    "        newnew_lines.append(line)\n",
    "#     new_lines = list(map(xuanran,new_lines))\n",
    "    new_lines = newnew_lines\n",
    "#         print(formats[index])\n",
    "#     cur_line = formats % tuple(cur_line.split(\"\\x05\")[0:-1])\n",
    "#     print(formats[879])\n",
    "    fs = formats.split(\"%s\")\n",
    "    finals = []\n",
    "    for i in range(len(fs)-1):\n",
    "        finals.append(fs[i])\n",
    "        finals.append(new_lines[i])\n",
    "    finals.append(fs[-1])\n",
    "#     return formats % tuple(new_lines)\n",
    "    return \"\".join(finals)\n",
    "\n",
    "#     return list(map(xuanran,new_lines))"
   ]
  },
  {
   "cell_type": "code",
   "execution_count": 369,
   "metadata": {},
   "outputs": [],
   "source": [
    "res = format_merge_byline(left_lens,left_diffs,formats1)\n",
    "res = format_merge_byline(right_lens,right_diffs,formats2)"
   ]
  },
  {
   "cell_type": "code",
   "execution_count": 356,
   "metadata": {},
   "outputs": [],
   "source": [
    "# res"
   ]
  },
  {
   "cell_type": "code",
   "execution_count": null,
   "metadata": {},
   "outputs": [],
   "source": [
    "def extract_diff_items():\n",
    "    pass\n"
   ]
  },
  {
   "cell_type": "code",
   "execution_count": 370,
   "metadata": {},
   "outputs": [
    {
     "data": {
      "text/plain": [
       "70577"
      ]
     },
     "execution_count": 370,
     "metadata": {},
     "output_type": "execute_result"
    }
   ],
   "source": [
    "open(\"./case3_diff.html\",\"w\").write(res)"
   ]
  },
  {
   "cell_type": "code",
   "execution_count": 350,
   "metadata": {},
   "outputs": [
    {
     "data": {
      "text/plain": [
       "'121244'"
      ]
     },
     "execution_count": 350,
     "metadata": {},
     "output_type": "execute_result"
    }
   ],
   "source": [
    "\"12124444\".replace(\"44\",\"4\")"
   ]
  },
  {
   "cell_type": "code",
   "execution_count": 169,
   "metadata": {},
   "outputs": [],
   "source": [
    "from IPython.core.display import HTML"
   ]
  },
  {
   "cell_type": "code",
   "execution_count": 170,
   "metadata": {},
   "outputs": [],
   "source": [
    "table2 = \"\"\"\n",
    "    <table   border=\"1\"  style=\"width: 100px;height:100px\">\n",
    "       <tr>\n",
    "         <td  rowspan=\"3\">121</td>\n",
    "        <td>232</td>\n",
    "         <td>343</td>\n",
    "       </tr>\n",
    "       <tr>\n",
    "        \n",
    "         <td>56</td>\n",
    "         <td>67</td>\n",
    "       </tr>\n",
    "       <tr>\n",
    "         <td>877</td>\n",
    "         <td>98</td>\n",
    "       </tr>\n",
    "     </table>\n",
    "\"\"\""
   ]
  },
  {
   "cell_type": "code",
   "execution_count": null,
   "metadata": {},
   "outputs": [],
   "source": [
    "\n",
    "table3 = \"\"\"\n",
    "<table   border=\"1\"  style=\"width: 100px;height:100px\">\n",
    "       <tr>\n",
    "         <td  colspan=\"2\" >12</td>\n",
    "         <td>121</td>\n",
    "       </tr>\n",
    "       <tr>\n",
    "         <td>232</td>\n",
    "         <td>343</td>\n",
    "         <td>454</td>\n",
    "       </tr>\n",
    "       <tr>\n",
    "         <td>565</td>\n",
    "         <td>676</td>\n",
    "         <td>8898</td>\n",
    "       </tr>\n",
    "     </table>\n",
    "\"\"\"\n",
    "\n",
    "HTML(table2)"
   ]
  },
  {
   "cell_type": "code",
   "execution_count": null,
   "metadata": {},
   "outputs": [],
   "source": [
    "a = \"1 \"\n",
    "a.split(\" \")"
   ]
  },
  {
   "cell_type": "code",
   "execution_count": null,
   "metadata": {},
   "outputs": [],
   "source": [
    "a = \"\\n  a \\n  \"\n",
    "b = a.strip()\n",
    "b"
   ]
  },
  {
   "cell_type": "code",
   "execution_count": null,
   "metadata": {},
   "outputs": [],
   "source": []
  },
  {
   "cell_type": "code",
   "execution_count": null,
   "metadata": {},
   "outputs": [],
   "source": []
  },
  {
   "cell_type": "code",
   "execution_count": null,
   "metadata": {},
   "outputs": [],
   "source": []
  },
  {
   "cell_type": "code",
   "execution_count": null,
   "metadata": {},
   "outputs": [],
   "source": []
  }
 ],
 "metadata": {
  "kernelspec": {
   "display_name": "Python 3",
   "language": "python",
   "name": "python3"
  },
  "language_info": {
   "codemirror_mode": {
    "name": "ipython",
    "version": 3
   },
   "file_extension": ".py",
   "mimetype": "text/x-python",
   "name": "python",
   "nbconvert_exporter": "python",
   "pygments_lexer": "ipython3",
   "version": "3.6.5"
  }
 },
 "nbformat": 4,
 "nbformat_minor": 4
}
