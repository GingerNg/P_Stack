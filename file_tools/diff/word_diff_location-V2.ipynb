{
 "cells": [
  {
   "cell_type": "markdown",
   "metadata": {},
   "source": [
    "\n",
    "\n",
    "### html比对：找出不同点的文本，在原文本上添加标识和ID，并提取出来"
   ]
  },
  {
   "cell_type": "code",
   "execution_count": 1,
   "metadata": {},
   "outputs": [],
   "source": [
    "from bs4 import BeautifulSoup"
   ]
  },
  {
   "cell_type": "code",
   "execution_count": 76,
   "metadata": {},
   "outputs": [],
   "source": [
    "# html1_doc = open(\"./htmls/case5.pdf.html\").read()\n",
    "# html2_doc = open(\"./htmls/case6.pdf.html\").read()\n",
    "html1_doc = open(\"./htmls/table1.html\").read()\n",
    "html2_doc = open(\"./htmls/table2.html\").read()\n",
    "\n",
    "def extract_body(html_doc):\n",
    "    \"\"\"\n",
    "    !!!\n",
    "    \"\"\"\n",
    "    html_doc =  html_doc.replace(\"\\t\",\"\")\n",
    "# #     f1 = open(\"./case3.html\",\"r\").read()\n",
    "    soup = BeautifulSoup(html_doc, \"html.parser\")\n",
    "#     sidebar = soup.find('div', id='sidebar')\n",
    "#     if sidebar:\n",
    "#         sidebar.extract()\n",
    "#     # [s.extract() for s in soup(\"head\")]\n",
    "#     # print(ss)\n",
    "# #     tt = soup(\"body\")[0].extract()\n",
    "    return str(soup)\n",
    "\n",
    "html1_doc = extract_body(html1_doc)\n",
    "html2_doc = extract_body(html2_doc)"
   ]
  },
  {
   "cell_type": "code",
   "execution_count": 19,
   "metadata": {},
   "outputs": [],
   "source": [
    "# html1_doc"
   ]
  },
  {
   "cell_type": "code",
   "execution_count": 17,
   "metadata": {},
   "outputs": [
    {
     "data": {
      "text/plain": [
       "[('<', 0),\n",
       " ('!', 1),\n",
       " ('D', 2),\n",
       " ('O', 3),\n",
       " ('C', 4),\n",
       " ('T', 5),\n",
       " ('Y', 6),\n",
       " ('P', 7),\n",
       " ('E', 8),\n",
       " (' ', 9)]"
      ]
     },
     "execution_count": 17,
     "metadata": {},
     "output_type": "execute_result"
    }
   ],
   "source": [
    "new_html_doc = []\n",
    "for i in range(len(html1_doc)):\n",
    "    new_html_doc.append((html1_doc[i],i))\n",
    "new_html_doc[0:10]"
   ]
  },
  {
   "cell_type": "code",
   "execution_count": 32,
   "metadata": {},
   "outputs": [
    {
     "data": {
      "text/plain": [
       "[('<', 0),\n",
       " ('<', 3119),\n",
       " ('>', 3126),\n",
       " ('<', 3128),\n",
       " ('>', 3134),\n",
       " ('<', 3136),\n",
       " ('>', 3164),\n",
       " ('<', 3166),\n",
       " ('>', 3300),\n",
       " ('<', 3302)]"
      ]
     },
     "execution_count": 32,
     "metadata": {},
     "output_type": "execute_result"
    }
   ],
   "source": [
    "html1_doc = html1_doc.replace(\">\\n<\",\"><\")\n",
    "start_index = html1_doc.index(\"<body\")\n",
    "def keeplr(item):\n",
    "    if item[0] in [\">\",\"<\"] and item[1]>=start_index:\n",
    "        return True\n",
    "flags = [(\"<\",0)]+list(filter(keeplr,new_html_doc))\n",
    "flags[0:10]"
   ]
  },
  {
   "cell_type": "code",
   "execution_count": 77,
   "metadata": {},
   "outputs": [
    {
     "ename": "NameError",
     "evalue": "name 'keeplr' is not defined",
     "output_type": "error",
     "traceback": [
      "\u001b[0;31m---------------------------------------------------------------------------\u001b[0m",
      "\u001b[0;31mNameError\u001b[0m                                 Traceback (most recent call last)",
      "\u001b[0;32m<ipython-input-77-9613cf289a62>\u001b[0m in \u001b[0;36m<module>\u001b[0;34m\u001b[0m\n\u001b[1;32m     21\u001b[0m     \u001b[0mnewnew_html_doc\u001b[0m\u001b[0;34m.\u001b[0m\u001b[0mappend\u001b[0m\u001b[0;34m(\u001b[0m\u001b[0mhtml_doc\u001b[0m\u001b[0;34m[\u001b[0m\u001b[0mflags\u001b[0m\u001b[0;34m[\u001b[0m\u001b[0;34m-\u001b[0m\u001b[0;36m1\u001b[0m\u001b[0;34m]\u001b[0m\u001b[0;34m[\u001b[0m\u001b[0;36m1\u001b[0m\u001b[0;34m]\u001b[0m\u001b[0;34m:\u001b[0m\u001b[0;34m]\u001b[0m\u001b[0;34m)\u001b[0m\u001b[0;34m\u001b[0m\u001b[0m\n\u001b[1;32m     22\u001b[0m     \u001b[0;32mreturn\u001b[0m \u001b[0;34m\"\"\u001b[0m\u001b[0;34m.\u001b[0m\u001b[0mjoin\u001b[0m\u001b[0;34m(\u001b[0m\u001b[0mnewnew_html_doc\u001b[0m\u001b[0;34m)\u001b[0m\u001b[0;34m,\u001b[0m\u001b[0mcontents\u001b[0m\u001b[0;34m\u001b[0m\u001b[0m\n\u001b[0;32m---> 23\u001b[0;31m \u001b[0mformats1\u001b[0m\u001b[0;34m,\u001b[0m\u001b[0mcontents1\u001b[0m \u001b[0;34m=\u001b[0m \u001b[0mextract_content_with_format\u001b[0m\u001b[0;34m(\u001b[0m\u001b[0mhtml1_doc\u001b[0m\u001b[0;34m)\u001b[0m\u001b[0;34m\u001b[0m\u001b[0m\n\u001b[0m\u001b[1;32m     24\u001b[0m \u001b[0mformats2\u001b[0m\u001b[0;34m,\u001b[0m\u001b[0mcontents2\u001b[0m \u001b[0;34m=\u001b[0m \u001b[0mextract_content_with_format\u001b[0m\u001b[0;34m(\u001b[0m\u001b[0mhtml2_doc\u001b[0m\u001b[0;34m)\u001b[0m\u001b[0;34m\u001b[0m\u001b[0m\n\u001b[1;32m     25\u001b[0m \u001b[0;31m# contents1\u001b[0m\u001b[0;34m\u001b[0m\u001b[0;34m\u001b[0m\u001b[0m\n",
      "\u001b[0;32m<ipython-input-77-9613cf289a62>\u001b[0m in \u001b[0;36mextract_content_with_format\u001b[0;34m(html_doc)\u001b[0m\n\u001b[1;32m      7\u001b[0m \u001b[0;34m\u001b[0m\u001b[0m\n\u001b[1;32m      8\u001b[0m \u001b[0;31m#     flags = list(filter(keeplr,new_html_doc))\u001b[0m\u001b[0;34m\u001b[0m\u001b[0;34m\u001b[0m\u001b[0m\n\u001b[0;32m----> 9\u001b[0;31m     \u001b[0mflags\u001b[0m \u001b[0;34m=\u001b[0m \u001b[0;34m[\u001b[0m\u001b[0;34m(\u001b[0m\u001b[0;34m\"<\"\u001b[0m\u001b[0;34m,\u001b[0m\u001b[0;36m0\u001b[0m\u001b[0;34m)\u001b[0m\u001b[0;34m]\u001b[0m\u001b[0;34m+\u001b[0m\u001b[0mlist\u001b[0m\u001b[0;34m(\u001b[0m\u001b[0mfilter\u001b[0m\u001b[0;34m(\u001b[0m\u001b[0mkeeplr\u001b[0m\u001b[0;34m,\u001b[0m\u001b[0mnew_html_doc\u001b[0m\u001b[0;34m)\u001b[0m\u001b[0;34m)\u001b[0m\u001b[0;34m\u001b[0m\u001b[0m\n\u001b[0m\u001b[1;32m     10\u001b[0m     \u001b[0mnewnew_html_doc\u001b[0m \u001b[0;34m=\u001b[0m \u001b[0;34m[\u001b[0m\u001b[0;34m]\u001b[0m\u001b[0;34m\u001b[0m\u001b[0m\n\u001b[1;32m     11\u001b[0m     \u001b[0mcontents\u001b[0m \u001b[0;34m=\u001b[0m \u001b[0;34m[\u001b[0m\u001b[0;34m]\u001b[0m\u001b[0;34m\u001b[0m\u001b[0m\n",
      "\u001b[0;31mNameError\u001b[0m: name 'keeplr' is not defined"
     ]
    }
   ],
   "source": [
    "def extract_content_with_format(html_doc):\n",
    "    html_doc = html_doc.replace(\">\\n<\",\"><\")\n",
    "    start_index = html_doc.index(\"<body\")\n",
    "    new_html_doc = []\n",
    "    for i in range(len(html_doc)):\n",
    "        new_html_doc.append((html_doc[i],i))\n",
    "\n",
    "#     flags = list(filter(keeplr,new_html_doc))\n",
    "    flags = [(\"<\",0)]+list(filter(keeplr,new_html_doc))\n",
    "    newnew_html_doc = []\n",
    "    contents = []\n",
    "    for i in range(0,len(flags)-1):\n",
    "    #     print(flags[i][0])\n",
    "    #     print(flags[i+1][0])\n",
    "    #     print(flags[i+1][1]-flags[i][1])\n",
    "        if flags[i][0] == \">\" and flags[i+1][0] == \"<\" and (flags[i+1][1]-flags[i][1])>1:\n",
    "            contents.append(html_doc[flags[i][1]+1:flags[i+1][1]])\n",
    "            newnew_html_doc.append(flags[i][0]+\"%s\")\n",
    "        else:\n",
    "            newnew_html_doc.append(html_doc[flags[i][1]:flags[i+1][1]])\n",
    "    newnew_html_doc.append(html_doc[flags[-1][1]:])\n",
    "    return \"\".join(newnew_html_doc),contents\n",
    "formats1,contents1 = extract_content_with_format(html1_doc)\n",
    "formats2,contents2 = extract_content_with_format(html2_doc)\n",
    "# contents1"
   ]
  },
  {
   "cell_type": "code",
   "execution_count": null,
   "metadata": {},
   "outputs": [],
   "source": [
    "# contents2"
   ]
  },
  {
   "cell_type": "code",
   "execution_count": null,
   "metadata": {},
   "outputs": [],
   "source": [
    "# \"1212\".index(\"2\")"
   ]
  },
  {
   "cell_type": "code",
   "execution_count": 7,
   "metadata": {},
   "outputs": [
    {
     "data": {
      "text/plain": [
       "[13]"
      ]
     },
     "execution_count": 7,
     "metadata": {},
     "output_type": "execute_result"
    }
   ],
   "source": [
    "def locate_str(string,target):\n",
    "    import re\n",
    "    a = [m.start() for m in re.finditer(target, string)]\n",
    "    return a\n",
    "\n",
    "string=u'<body > <td> </td>'\n",
    "target = u'</td>'\n",
    "locate_str(string,target)"
   ]
  },
  {
   "cell_type": "code",
   "execution_count": 8,
   "metadata": {},
   "outputs": [],
   "source": [
    "POS = []\n",
    "def locate_tables(string):\n",
    "    pos1 = locate_str(string,\"<table\")\n",
    "    pos2 = locate_str(string,\"</table>\")\n",
    "#     print(string[pos1[0]:pos2[0]+10])\n",
    "#     print(pos1)\n",
    "#     print(pos2)\n",
    "    pos = []\n",
    "    for i in range(len(pos1)):\n",
    "        pos.append((pos1[i],pos2[i]))\n",
    "    return pos\n",
    "POS = locate_tables(html1_doc)\n",
    "# POS"
   ]
  },
  {
   "cell_type": "code",
   "execution_count": 9,
   "metadata": {},
   "outputs": [],
   "source": [
    "# html1_doc[23400:23400+100]"
   ]
  },
  {
   "cell_type": "code",
   "execution_count": 10,
   "metadata": {},
   "outputs": [
    {
     "data": {
      "text/plain": [
       "True"
      ]
     },
     "execution_count": 10,
     "metadata": {},
     "output_type": "execute_result"
    }
   ],
   "source": [
    "def is_in_tables(POS,pos =()):\n",
    "    for p in POS:\n",
    "        if p[0]<pos[0] and p[1] > pos[1]:\n",
    "            return True\n",
    "    return False\n",
    "is_in_tables(POS,(19710, 23413))"
   ]
  },
  {
   "cell_type": "code",
   "execution_count": 78,
   "metadata": {},
   "outputs": [],
   "source": [
    "def extract_content_with_format_td(html_doc):\n",
    "    html_doc = html_doc.replace(\">\\n<\",\"><\").replace(\"\\n\",\"\")\n",
    "    POS = locate_tables(html_doc)\n",
    "#     print(html_doc[POS[0][0]:POS[0][1]+10])\n",
    "#     print(POS)\n",
    "    if \"<body\" in html_doc:\n",
    "        start_index = html_doc.index(\"<body\")\n",
    "    else:\n",
    "        start_index = 0\n",
    "    new_html_doc = []\n",
    "    for i in range(len(html_doc)):\n",
    "        new_html_doc.append((html_doc[i],i))\n",
    "#     print(new_html_doc[0:20])\n",
    "    def keeplr(item):\n",
    "        \"\"\"是否是尖括号\"\"\"\n",
    "        if item[0] in [\">\",\"<\"] and item[1]>=start_index:\n",
    "            return True\n",
    "    # flags = list(filter(keeplr,new_html_doc))\n",
    "    flags = [(\"<\", 0)] + list(filter(keeplr, new_html_doc))\n",
    "    newnew_html_doc = []\n",
    "    contents = []\n",
    "    for i in range(0,len(flags)-1):\n",
    "        if flags[i][0] == \">\" and flags[i+1][0] == \"<\" and (flags[i+1][1]-flags[i][1])>1:\n",
    "            s_cc = flags[i][1]+1\n",
    "            e_cc = flags[i+1][1]\n",
    "            cc = html_doc[s_cc:e_cc]\n",
    "            intable_flag = is_in_tables(POS,(s_cc,e_cc))\n",
    "            if len(cc)>0:\n",
    "                contents.append((cc,intable_flag,(s_cc,e_cc)))\n",
    "#                 print(cc)\n",
    "                newnew_html_doc.append(flags[i][0]+\"%s\")\n",
    "            else:\n",
    "                newnew_html_doc.append(html_doc[flags[i][1]:flags[i + 1][1]])\n",
    "        else:\n",
    "            newnew_html_doc.append(html_doc[flags[i][1]:flags[i+1][1]])\n",
    "    newnew_html_doc.append(html_doc[flags[-1][1]])  # \">\"　last element\n",
    "    # newnew_html_doc.append(\">\")\n",
    "    return \"\".join(newnew_html_doc),contents\n",
    "formats1,contents1 = extract_content_with_format_td(html1_doc)\n",
    "formats2,contents2 = extract_content_with_format_td(html2_doc)\n"
   ]
  },
  {
   "cell_type": "code",
   "execution_count": 85,
   "metadata": {},
   "outputs": [
    {
     "name": "stdout",
     "output_type": "stream",
     "text": [
      "('a', False, (1129, 1130))\n",
      "('a', False, (1149, 1150))\n",
      "('b', False, (1157, 1158))\n",
      "('b', False, (1177, 1178))\n",
      "('c', False, (1185, 1186))\n",
      "('c', False, (1205, 1206))\n",
      "('121212', True, (1723, 1729))\n",
      "('23', True, (3050, 3052))\n",
      "('2213', True, (3928, 3932))\n",
      "('Bcd', True, (4159, 4162))\n"
     ]
    }
   ],
   "source": [
    "for c in contents1:\n",
    "    print(c)"
   ]
  },
  {
   "cell_type": "code",
   "execution_count": 86,
   "metadata": {},
   "outputs": [
    {
     "name": "stdout",
     "output_type": "stream",
     "text": [
      "('ggbbddee', False, (1148, 1156))\n",
      "('121212', True, (1599, 1605))\n",
      "('23', True, (2926, 2928))\n",
      "('345', True, (3823, 3826))\n",
      "('Abch', True, (4060, 4064))\n",
      "('345', True, (4746, 4749))\n"
     ]
    }
   ],
   "source": [
    "for c in contents2:\n",
    "    print(c)"
   ]
  },
  {
   "cell_type": "markdown",
   "metadata": {},
   "source": [
    "### 获取每个部分的长度"
   ]
  },
  {
   "cell_type": "code",
   "execution_count": 79,
   "metadata": {},
   "outputs": [
    {
     "data": {
      "text/plain": [
       "[8, 1, 1, 1, 1, 1]"
      ]
     },
     "execution_count": 79,
     "metadata": {},
     "output_type": "execute_result"
    }
   ],
   "source": [
    "def get_lenofline(contents):\n",
    "    \"\"\"\n",
    "    获取每个段落的长度\n",
    "    \"\"\"\n",
    "    lenoflines = []\n",
    "    for i in range(len(contents)):\n",
    "        if contents[i][1]: # table\n",
    "#             print(contents[i])\n",
    "            lenoflines.append(1)\n",
    "        else:\n",
    "            lenoflines.append(len(contents[i][0]))\n",
    "    return lenoflines\n",
    "right_lens = get_lenofline(contents2)\n",
    "left_lens = get_lenofline(contents1)\n",
    "right_lens"
   ]
  },
  {
   "cell_type": "code",
   "execution_count": 80,
   "metadata": {},
   "outputs": [
    {
     "data": {
      "text/plain": [
       "[1, 1, 1, 1, 1, 1, 1, 1, 1, 1]"
      ]
     },
     "execution_count": 80,
     "metadata": {},
     "output_type": "execute_result"
    }
   ],
   "source": [
    "left_lens"
   ]
  },
  {
   "cell_type": "code",
   "execution_count": 81,
   "metadata": {},
   "outputs": [
    {
     "data": {
      "text/plain": [
       "[1, 2, 3, 4, 5, 6, 7, 8, 9, 10]"
      ]
     },
     "execution_count": 81,
     "metadata": {},
     "output_type": "execute_result"
    }
   ],
   "source": [
    "def sum_lens(lens):\n",
    "    \"\"\"\n",
    "    lens:[1,2,3]\n",
    "    new_lens: [1,3,6]\n",
    "    \"\"\"\n",
    "    new_lens = []\n",
    "    for i in range(len(lens)):\n",
    "        new_lens.append(sum(lens[0:i+1]))\n",
    "    return new_lens\n",
    "\n",
    "left_indexes = sum_lens(left_lens)\n",
    "right_indexes = sum_lens(right_lens)\n",
    "left_indexes"
   ]
  },
  {
   "cell_type": "code",
   "execution_count": 82,
   "metadata": {},
   "outputs": [
    {
     "data": {
      "text/plain": [
       "[1, 2, 3, 4, 5, 6, 7, 8, 9, 10]"
      ]
     },
     "execution_count": 82,
     "metadata": {},
     "output_type": "execute_result"
    }
   ],
   "source": [
    "left_indexes[0:20]"
   ]
  },
  {
   "cell_type": "code",
   "execution_count": 9,
   "metadata": {},
   "outputs": [
    {
     "data": {
      "text/plain": [
       "[2, 6, 11, 12]"
      ]
     },
     "execution_count": 9,
     "metadata": {},
     "output_type": "execute_result"
    }
   ],
   "source": [
    "right_indexes[0:20]"
   ]
  },
  {
   "cell_type": "markdown",
   "metadata": {},
   "source": [
    "### 拉成字符串比对"
   ]
  },
  {
   "cell_type": "code",
   "execution_count": 2,
   "metadata": {},
   "outputs": [],
   "source": [
    "import difflib\n",
    "class DocxDiff(difflib.HtmlDiff):\n",
    "    def __init__(self):\n",
    "        super().__init__()\n",
    "#         self.MAX_PARA_LEN = config[\"MAX_PARA_LEN\"]\n",
    "        \n",
    "    def format_diff(self,fromlines, tolines, fromdesc='', todesc='',context=False, numlines=5, *, charset='utf-8'):\n",
    "        self._make_prefix()\n",
    "\n",
    "        # change tabs to spaces before it gets more difficult after we insert\n",
    "        # markup\n",
    "        fromlines,tolines = self._tab_newline_replace(fromlines,tolines)\n",
    "\n",
    "        # create diffs iterator which generates side by side from/to data\n",
    "        if context:\n",
    "            context_lines = numlines\n",
    "        else:\n",
    "            context_lines = None\n",
    "        diffs = difflib._mdiff(fromlines,tolines,context_lines,linejunk=self._linejunk,\n",
    "                      charjunk=self._charjunk)\n",
    "        \n",
    "        return list(diffs)"
   ]
  },
  {
   "cell_type": "code",
   "execution_count": null,
   "metadata": {},
   "outputs": [],
   "source": [
    "def contents2blocks(contents):\n",
    "    blocks = []\n",
    "    for content in contents:\n",
    "        if content[1]:  # 表格\n",
    "            blocks.append(content[0])\n",
    "        else:\n",
    "            blocks += list(content[0])\n",
    "    return blocks\n",
    "# contents2blocks(contents1)"
   ]
  },
  {
   "cell_type": "code",
   "execution_count": 46,
   "metadata": {},
   "outputs": [
    {
     "data": {
      "text/plain": [
       "[((1, '345'), (1, '345'), False),\n",
       " (('', '\\n'), (2, '\\x00+ \\x01'), True),\n",
       " ((2, '12'), (3, '12'), False),\n",
       " ((3, '\\x00- \\x01'), ('', '\\n'), True)]"
      ]
     },
     "execution_count": 46,
     "metadata": {},
     "output_type": "execute_result"
    }
   ],
   "source": [
    "diff_result = differ.format_diff([\"345\",\"12\",\"\"],\n",
    "                                 [\"345\",\"\",\"12\"])\n",
    "diff_result"
   ]
  },
  {
   "cell_type": "code",
   "execution_count": 6,
   "metadata": {},
   "outputs": [
    {
     "data": {
      "text/plain": [
       "[((1, '20200226'), (1, '20200226'), False),\n",
       " ((2, '\\x06'), (2, '\\x06'), False),\n",
       " ((3, '\\x00-\\x06\\x01'), (3, '\\x00+27\\x01'), True),\n",
       " ((4, '\\x00-\\x06\\x01'), ('', '\\n'), True),\n",
       " ((5, '26'), (4, '26'), False),\n",
       " (('', '\\n'), (5, '\\x00+0226\\x01'), True),\n",
       " ((6, '3'), (6, '3'), False)]"
      ]
     },
     "execution_count": 6,
     "metadata": {},
     "output_type": "execute_result"
    }
   ],
   "source": [
    "# todo\n",
    "differ = DocxDiff()\n",
    "diff_result = differ.format_diff([\"20200226\",\"\\x06\",\"\\x06\",\"\\x06\",\"26\",\"3\"],\n",
    "                                 [\"20200226\",\"\\x06\",\"27\",\"26\",\"0226\",\"3\"]\n",
    "                                )\n",
    "diff_result"
   ]
  },
  {
   "cell_type": "code",
   "execution_count": 18,
   "metadata": {},
   "outputs": [
    {
     "data": {
      "text/plain": [
       "[((1, '202002^\\x00^2\\x01 6'), (1, '202002^\\x00^1\\x01 6'), True)]"
      ]
     },
     "execution_count": 18,
     "metadata": {},
     "output_type": "execute_result"
    }
   ],
   "source": [
    "diff_result = differ.format_diff([\"202002^2 6\"],\n",
    "                                 [\"202002^1 6\"]\n",
    "                                )\n",
    "diff_result"
   ]
  },
  {
   "cell_type": "code",
   "execution_count": 17,
   "metadata": {},
   "outputs": [
    {
     "data": {
      "text/plain": [
       "[((1, '2020'), (1, '2020'), False),\n",
       " (('', '\\n'), (2, '\\x00+26\\x01'), True),\n",
       " (('', '\\n'), (3, '\\x00+0226\\x01'), True),\n",
       " ((2, '\\x06'), (4, '\\x06'), False),\n",
       " ((3, '\\x00-\\x06\\x01'), ('', '\\n'), True),\n",
       " ((4, '\\x00-26\\x01'), ('', '\\n'), True),\n",
       " ((5, '3'), (5, '3'), False)]"
      ]
     },
     "execution_count": 17,
     "metadata": {},
     "output_type": "execute_result"
    }
   ],
   "source": [
    "diff_result = differ.format_diff([\"2020\",\"\\x06\",\"\\x06\",\"26\",\"3\"],\n",
    "                                 [\"2020\",\"26\",\"0226\",\"\\x06\",\"3\"]\n",
    "                                )\n",
    "diff_result"
   ]
  },
  {
   "cell_type": "code",
   "execution_count": 75,
   "metadata": {},
   "outputs": [
    {
     "data": {
      "text/plain": [
       "[((1, '2020'), (1, '2020'), False),\n",
       " ((2, '26'), (2, '26'), False),\n",
       " (('', '\\n'), (3, '\\x00+0226\\x01'), True),\n",
       " ((3, '3'), (4, '3'), False)]"
      ]
     },
     "execution_count": 75,
     "metadata": {},
     "output_type": "execute_result"
    }
   ],
   "source": [
    "diff_result = differ.format_diff([\"2020\",\"26\",\"3\"],\n",
    "                                 [\"2020\",\"26\",\"0226\",\"3\"]\n",
    "                                )\n",
    "diff_result"
   ]
  },
  {
   "cell_type": "code",
   "execution_count": 72,
   "metadata": {},
   "outputs": [
    {
     "data": {
      "text/plain": [
       "[((1, '2'), (1, '2'), False),\n",
       " ((2, '0'), (2, '0'), False),\n",
       " ((3, '2'), (3, '2'), False),\n",
       " ((4, '0'), (4, '0'), False),\n",
       " ((5, '2'), (5, '2'), False),\n",
       " ((6, '6'), (6, '6'), False),\n",
       " (('', '\\n'), (7, '\\x00+0\\x01'), True),\n",
       " (('', '\\n'), (8, '\\x00+2\\x01'), True),\n",
       " (('', '\\n'), (9, '\\x00+2\\x01'), True),\n",
       " (('', '\\n'), (10, '\\x00+6\\x01'), True),\n",
       " ((7, '3'), (11, '3'), False)]"
      ]
     },
     "execution_count": 72,
     "metadata": {},
     "output_type": "execute_result"
    }
   ],
   "source": [
    "diff_result = differ.format_diff(\"\".join([\"2020\",\"26\",\"3\"]),\n",
    "                                 \"\".join([\"2020\",\"26\",\"0226\",\"3\"])\n",
    "                                )\n",
    "diff_result"
   ]
  },
  {
   "cell_type": "code",
   "execution_count": 64,
   "metadata": {},
   "outputs": [
    {
     "data": {
      "text/plain": [
       "[((1, '20200226'), (1, '20200226'), False),\n",
       " ((2, '\\x06'), (2, '\\x06'), False),\n",
       " ((3, '26'), (3, '26'), False),\n",
       " ((4, '\\x00-3\\x01'), ('', '\\n'), True),\n",
       " ((5, '\\x00-部分空格\\x01'), ('', '\\n'), True),\n",
       " ((6, '\\x00-20200226\\x01'), ('', '\\n'), True),\n",
       " ((7, '\\x00-0226\\x01'), ('', '\\n'), True),\n",
       " ((8, '\\x00- \\x01'), ('', '\\n'), True),\n",
       " ((9, '4'), (4, '4'), False)]"
      ]
     },
     "execution_count": 64,
     "metadata": {},
     "output_type": "execute_result"
    }
   ],
   "source": [
    "diff_result = differ.format_diff([\"20200226\",\"\\x06\",\"26\",\"3\",\"部分空格\",\"20200226\",\"0226\",\"\",\"4\"],\n",
    "                                 [\"20200226\",\"\\x06\",\"26\",\"4\"]\n",
    "                                )\n",
    "diff_result"
   ]
  },
  {
   "cell_type": "code",
   "execution_count": 57,
   "metadata": {},
   "outputs": [
    {
     "data": {
      "text/plain": [
       "[((1, '20200226'), (1, '20200226'), False),\n",
       " ((2, '\\x06'), (2, '\\x06'), False),\n",
       " ((3, '0226'), (3, '0226'), False),\n",
       " ((4, '\\x00-\\x06\\x01'), ('', '\\n'), True),\n",
       " ((5, '\\x00-26\\x01'), ('', '\\n'), True),\n",
       " ((6, '\\x06'), (4, '\\x06'), False),\n",
       " ((7, '2'), (5, '2'), False),\n",
       " ((8, '\\x06'), (6, '\\x06'), False),\n",
       " ((9, '20200226'), (7, '20200226'), False),\n",
       " ((10, '\\x06'), (8, '\\x06'), False),\n",
       " ((11, '26'), (9, '26'), False),\n",
       " ((12, '\\x06'), (10, '\\x06'), False),\n",
       " (('', '\\n'), (11, '\\x00+0226\\x01'), True),\n",
       " (('', '\\n'), (12, '\\x00+\\x06\\x01'), True),\n",
       " ((13, '3'), (13, '3'), False)]"
      ]
     },
     "execution_count": 57,
     "metadata": {},
     "output_type": "execute_result"
    }
   ],
   "source": [
    "diff_result = differ.format_diff([\"20200226\",\"\\x06\",\"0226\",\"\\x06\",\"26\",\"\\x06\",\"2\",\"\\x06\",\"20200226\",\"\\x06\",\"26\",\"\\x06\",\"3\"],\n",
    "                                 [\"20200226\",\"\\06\",\"0226\",\"\\x06\",\"2\",\"\\x06\",\"20200226\",\"\\x06\",\"26\",\"\\x06\",\"0226\",\"\\x06\",\"3\"]\n",
    "                                )\n",
    "diff_result"
   ]
  },
  {
   "cell_type": "code",
   "execution_count": 9,
   "metadata": {},
   "outputs": [
    {
     "data": {
      "text/plain": [
       "[((1, '345'), (1, '345'), False),\n",
       " ((2, '12'), (2, '12'), False),\n",
       " ((3, '2345'), (3, '2345'), False),\n",
       " ((4, '\\x06'), (4, '\\x06'), False),\n",
       " ((5, '34'), (5, '34'), False),\n",
       " (('', '\\n'), (6, '\\x00+345\\x01'), True),\n",
       " ((6, '\\x06'), (7, '\\x06'), False),\n",
       " ((7, '\\x00-12\\x01345'), (8, '345'), True),\n",
       " ((8, '\\x06'), (9, '\\x06'), False)]"
      ]
     },
     "execution_count": 9,
     "metadata": {},
     "output_type": "execute_result"
    }
   ],
   "source": [
    "### differ = DocxDiff()\n",
    "# diff_result = differ.format_diff([\"345\",\"12\",\"2345\",\"\\x06\",\n",
    "#                                   \"\\x06\",\"34\",\"\\x06\",\"\\x06\",\n",
    "#                                   \"\\x06\",\"\\x06\",\"12345\",\"\\x06\"],\n",
    "#                                  [\"345\",\"12\",\"2345\",\"\\x06\",\n",
    "#                                   \"\\x06\",\"34\",\"345\",\"\\x06\",\n",
    "#                                   \"\\x06\",\"\\x06\",\"345\",\"\\x06\"])\n",
    "\n",
    "diff_result = differ.format_diff([\"345\",\"12\",\"2345\",\"\\06\",\"34\",\"\\06\",\"12345\",\"\\x06\"],\n",
    "                                 [\"345\",\"12\",\"2345\",\"\\06\",\"34\",\"345\",\"\\06\",\"345\",\"\\x06\"])\n",
    "diff_result"
   ]
  },
  {
   "cell_type": "code",
   "execution_count": null,
   "metadata": {},
   "outputs": [],
   "source": [
    "def re_arrange(diffs):\n",
    "    \"\"\"对于表格内容\"\"\"\n",
    "    for i in range(1,len(diffs)):\n",
    "        \n",
    "        "
   ]
  },
  {
   "cell_type": "code",
   "execution_count": 10,
   "metadata": {},
   "outputs": [
    {
     "data": {
      "text/plain": [
       "'1|k'"
      ]
     },
     "execution_count": 10,
     "metadata": {},
     "output_type": "execute_result"
    }
   ],
   "source": [
    "\"%s|%s\" % (\"1\",\"k\")"
   ]
  },
  {
   "cell_type": "code",
   "execution_count": 35,
   "metadata": {},
   "outputs": [
    {
     "ename": "NameError",
     "evalue": "name 'contents1' is not defined",
     "output_type": "error",
     "traceback": [
      "\u001b[0;31m---------------------------------------------------------------------------\u001b[0m",
      "\u001b[0;31mNameError\u001b[0m                                 Traceback (most recent call last)",
      "\u001b[0;32m<ipython-input-35-edd552e4ec22>\u001b[0m in \u001b[0;36m<module>\u001b[0;34m\u001b[0m\n\u001b[1;32m      1\u001b[0m \u001b[0;32mimport\u001b[0m \u001b[0mjson\u001b[0m\u001b[0;34m\u001b[0m\u001b[0m\n\u001b[1;32m      2\u001b[0m \u001b[0mdiffer\u001b[0m \u001b[0;34m=\u001b[0m \u001b[0mDocxDiff\u001b[0m\u001b[0;34m(\u001b[0m\u001b[0;34m)\u001b[0m\u001b[0;34m\u001b[0m\u001b[0m\n\u001b[0;32m----> 3\u001b[0;31m \u001b[0mdiff_result\u001b[0m \u001b[0;34m=\u001b[0m \u001b[0mdiffer\u001b[0m\u001b[0;34m.\u001b[0m\u001b[0mformat_diff\u001b[0m\u001b[0;34m(\u001b[0m\u001b[0mcontents2blocks\u001b[0m\u001b[0;34m(\u001b[0m\u001b[0mcontents1\u001b[0m\u001b[0;34m)\u001b[0m\u001b[0;34m,\u001b[0m \u001b[0mcontents2blocks\u001b[0m\u001b[0;34m(\u001b[0m\u001b[0mcontents2\u001b[0m\u001b[0;34m)\u001b[0m\u001b[0;34m)\u001b[0m\u001b[0;34m\u001b[0m\u001b[0m\n\u001b[0m\u001b[1;32m      4\u001b[0m \u001b[0mdiff_result\u001b[0m\u001b[0;34m\u001b[0m\u001b[0m\n",
      "\u001b[0;31mNameError\u001b[0m: name 'contents1' is not defined"
     ]
    }
   ],
   "source": [
    "import json\n",
    "differ = DocxDiff()\n",
    "diff_result = differ.format_diff(contents2blocks(contents1), contents2blocks(contents2)) \n",
    "diff_result"
   ]
  },
  {
   "cell_type": "code",
   "execution_count": 32,
   "metadata": {},
   "outputs": [],
   "source": [
    "# html1_doc = open(\"./htmls/table1.html\").read()\n",
    "# html2_doc = open(\"./htmls/table2.html\").read()\n",
    "# differ = DocxDiff()\n",
    "# diff_result = differ.format_diff(html1_doc,html2_doc)\n",
    "# for d in diff_result:\n",
    "#     if d[2]:\n",
    "#         print(d)"
   ]
  },
  {
   "cell_type": "markdown",
   "metadata": {},
   "source": [
    "### 罗列比对左右的内容"
   ]
  },
  {
   "cell_type": "code",
   "execution_count": 51,
   "metadata": {},
   "outputs": [],
   "source": [
    "%store -r diff_res"
   ]
  },
  {
   "cell_type": "code",
   "execution_count": 62,
   "metadata": {},
   "outputs": [],
   "source": [
    "# def convert_difftype(diffs):\n",
    "#     \"\"\"\n",
    "#     \\x04 mod\n",
    "#     \\x03 del\n",
    "#     \\x02 add\n",
    "#     \"0\"  不变\n",
    "#     \"\"\"\n",
    "#     new_diffs = []\n",
    "#         # 格式修改\n",
    "#     for item in diffs:\n",
    "#         l_index = item[0][0]\n",
    "#         r_index = item[1][0]\n",
    "#         l = item[0][1]  \n",
    "#         r = item[1][1]\n",
    "#         if \"\\x00-\" in l and \"\\00+\" in r:\n",
    "#             l = l.replace(\"\\x00-\",\"\").replace(\"\\x01\",\"\")  # \\x04 mod\n",
    "#             r = r.replace(\"\\x00+\",\"\").replace(\"\\x01\",\"\")  # \\x04 mod\n",
    "#             le = (l_index,l)\n",
    "#             re = (r_index,r)\n",
    "#             new_diffs.append((le,re,\"\\x04\",\"\\x04\"))\n",
    "#         elif \"\\x00-\" in l:\n",
    "#             l = l.replace(\"\\x00-\",\"\").replace(\"\\x01\",\"\") # \\x03  del\n",
    "#             le = (l_index,l)\n",
    "#             re = (r_index,r)\n",
    "#             new_diffs.append((le,re,\"\\x03\",\"\\x03\"))\n",
    "#         elif \"\\x00+\" in r:\n",
    "#             r = r.replace(\"\\x00+\",\"\").replace(\"\\x01\",\"\")  # \\x02 add\n",
    "#             le = (l_index,l)\n",
    "#             re = (r_index,r)\n",
    "#             new_diffs.append((le,re,\"\\x02\",\"\\x02\"))\n",
    "#         else:\n",
    "#             le = (l_index,l)\n",
    "#             re = (r_index,r)\n",
    "#             new_diffs.append((le,re,\"0\",\"0\"))\n",
    "#     return new_diffs\n",
    "# new_diffs = convert_difftype(diff_res)\n",
    "# new_diffs"
   ]
  },
  {
   "cell_type": "code",
   "execution_count": 61,
   "metadata": {},
   "outputs": [],
   "source": [
    "# def judge_difftype(new_diffs,left_indexes=[],right_indexes=[]):\n",
    "#     newnew_diffs = []\n",
    "#     pre = None\n",
    "#     for item in new_diffs:\n",
    "# #         print(pre)\n",
    "#         if pre == \"\\x04\" and item[3] == \"\\x04\" and item[1][0]-1 in right_indexes:\n",
    "#             newnew_diffs.append((item[0],item[1],item[2],\"\\x02\"))\n",
    "# #             item[3] = \"\\x02\"\n",
    "#             pre = \"\\x02\"\n",
    "#         elif pre == \"\\x04\" and item[0][0] == \"\" and item[1][0]-1 not in right_indexes:\n",
    "#             newnew_diffs.append((item[0],item[1],\"\\x04\",\"\\x04\"))\n",
    "# #             item[3] = \"\\x04\"\n",
    "# #             item[2] = \"\\x04\"\n",
    "#             pre = \"\\x04\"\n",
    "#         else:\n",
    "#             newnew_diffs.append(item)\n",
    "#             pre = item[3]\n",
    "#     return newnew_diffs"
   ]
  },
  {
   "cell_type": "code",
   "execution_count": 63,
   "metadata": {},
   "outputs": [],
   "source": [
    "# judge_difftype(new_diffs,left_indexes=[6],right_indexes=[4,6])"
   ]
  },
  {
   "cell_type": "code",
   "execution_count": 64,
   "metadata": {},
   "outputs": [],
   "source": [
    "# judge_difftype(new_diffs,left_indexes=[3],right_indexes=[4,6])"
   ]
  },
  {
   "cell_type": "code",
   "execution_count": 84,
   "metadata": {},
   "outputs": [
    {
     "name": "stdout",
     "output_type": "stream",
     "text": [
      "[((1, 'a'), (1, 'g'), '\\x04'), ((2, 'a'), (2, 'g'), '\\x04'), ((3, 'b'), (3, 'b'), '0'), ((4, 'b'), (4, 'b'), '0'), ((5, 'c'), (5, 'd'), '\\x04'), ((6, 'c'), (6, 'd'), '\\x04'), (('', '\\n'), (7, 'e'), '\\x02'), (('', '\\n'), (8, 'e'), '\\x02'), ((7, '121212'), (9, '121212'), '0'), ((8, '23'), (10, '23'), '0'), ((9, '2213'), (11, '345'), '\\x04'), ((10, 'Bcd'), (12, 'Abch'), '\\x04'), (('', '\\n'), (13, '345'), '\\x02')]\n"
     ]
    },
    {
     "data": {
      "text/plain": [
       "[[['a', 'a'], ['gg'], 'mod', 0],\n",
       " [['b', 'b'], ['bb'], '0', 1],\n",
       " [['c', 'c'], ['dd'], 'mod', 2],\n",
       " [['\\n\\n'], ['e', 'e'], 'add', 3],\n",
       " [['121212', '23'], ['121212', '23'], '0', 4],\n",
       " [['2213', 'Bcd'], ['345', 'Abch'], 'mod', 5],\n",
       " [['\\n'], ['345'], 'add', 6]]"
      ]
     },
     "execution_count": 84,
     "metadata": {},
     "output_type": "execute_result"
    }
   ],
   "source": [
    "def append_chars(Ldiffs,left_indexes,right_indexes,c0_index,c1_index,c0,c1):\n",
    "#     print(c1_index)\n",
    "    if c0_index in left_indexes:\n",
    "        Ldiffs[-1][0].append(\"\")\n",
    "    if c1_index in right_indexes:\n",
    "        Ldiffs[-1][1].append(\"\")\n",
    "    Ldiffs[-1][0][-1] += c0  # left\n",
    "    Ldiffs[-1][1][-1] += c1  # right\n",
    "    \n",
    "\n",
    "def listdiff(diffs,left_indexes=[],right_indexes=[]):\n",
    "    \"\"\"\n",
    "    嵌套List\n",
    "    外层List的index对应diff_id\n",
    "    字符级别diff转为line级别的，合同相同类型的char\n",
    "    \"\"\"\n",
    "    Lchgs = []\n",
    "    Ladds = []\n",
    "    Ldels = []\n",
    "    Ldiffs = []\n",
    "    \n",
    "    Ldiffs = []\n",
    "    new_diffs = []\n",
    "    \n",
    "    # 格式修改\n",
    "    for item in diffs:\n",
    "        l_index = item[0][0]\n",
    "        r_index = item[1][0]\n",
    "        l = item[0][1]  \n",
    "        r = item[1][1]\n",
    "        if \"\\x00-\" in l and \"\\00+\" in r:\n",
    "            l = l.replace(\"\\x00-\",\"\").replace(\"\\x01\",\"\")  # \\x04 mod\n",
    "            r = r.replace(\"\\x00+\",\"\").replace(\"\\x01\",\"\")  # \\x04 mod\n",
    "            le = (l_index,l)\n",
    "            re = (r_index,r)\n",
    "            new_diffs.append((le,re,\"\\x04\"))\n",
    "        elif \"\\x00-\" in l:\n",
    "            l = l.replace(\"\\x00-\",\"\").replace(\"\\x01\",\"\") # \\x03  del\n",
    "            le = (l_index,l)\n",
    "            re = (r_index,r)\n",
    "            new_diffs.append((le,re,\"\\x03\"))\n",
    "        elif \"\\x00+\" in r:\n",
    "            r = r.replace(\"\\x00+\",\"\").replace(\"\\x01\",\"\")  # \\x02 add\n",
    "            le = (l_index,l)\n",
    "            re = (r_index,r)\n",
    "            new_diffs.append((le,re,\"\\x02\"))\n",
    "        else:\n",
    "            le = (l_index,l)\n",
    "            re = (r_index,r)\n",
    "            new_diffs.append((le,re,\"0\"))\n",
    "        cur = 0\n",
    "        \n",
    "    print(new_diffs)\n",
    "    cur = None  \n",
    "    # 再次格式修改  chars-->lines\n",
    "    for d in new_diffs:\n",
    "        c2 = d[2]\n",
    "        \n",
    "        c0_index = d[0][0]\n",
    "        c0 = d[0][1]\n",
    "        c1_index = d[1][0]\n",
    "        c1 = d[1][1]\n",
    "#         if c2 in [\"\\x02\",\"\\x03\",\"\\x04\"]:\n",
    "        # 外层List 类型发生变化则外层List append\n",
    "        if cur != c2:\n",
    "            cur = c2\n",
    "            if cur == \"\\x02\":\n",
    "#                 Ladds.append([c0,c1,\"add\"])\n",
    "                Ldiffs.append([[c0],[c1],\"add\",len(Ldiffs)])\n",
    "            elif cur == \"\\x03\":\n",
    "#                 Ldels.append([c0,c1,\"del\"])\n",
    "                Ldiffs.append([[c0],[c1],\"del\",len(Ldiffs)])\n",
    "            elif cur == \"\\x04\":\n",
    "#                 Lchgs.append([c0,c1,\"mod\"])\n",
    "                Ldiffs.append([[c0],[c1],\"mod\",len(Ldiffs)])\n",
    "            else:\n",
    "                Ldiffs.append([[c0],[c1],\"0\",len(Ldiffs)])\n",
    "        # 内层List\n",
    "        else:  # cur == c2\n",
    "#             if c0_index in left_indexes:\n",
    "#                 pass\n",
    "            \n",
    "#             if c1_index in right_indexes:\n",
    "#                 pass\n",
    "            \n",
    "            if cur == \"\\x02\":\n",
    "#                 Ladds[-1][0] += c0 \n",
    "#                 Ladds[-1][1] += c1\n",
    "#                 Ldiffs[-1][0][-1] += c0 \n",
    "#                 Ldiffs[-1][1][-1] += c1\n",
    "                append_chars(Ldiffs,left_indexes,right_indexes,c0_index,c1_index,c0,c1)\n",
    "            elif cur == \"\\x03\":\n",
    "#                 Ldels[-1][0] += c0 \n",
    "#                 Ldels[-1][1] += c1\n",
    "#                 Ldiffs[-1][0][-1] += c0 \n",
    "#                 Ldiffs[-1][1][-1] += c1\n",
    "                append_chars(Ldiffs,left_indexes,right_indexes,c0_index,c1_index,c0,c1)\n",
    "            elif cur == \"\\x04\":\n",
    "#                 Lchgs[-1][0] += c0 \n",
    "#                 Lchgs[-1][1] += c1\n",
    "#                 Ldiffs[-1][0][-1] += c0 \n",
    "#                 Ldiffs[-1][1][-1] += c1\n",
    "                append_chars(Ldiffs,left_indexes,right_indexes,c0_index,c1_index,c0,c1)\n",
    "            else:\n",
    "#                 Ldiffs[-1][0][-1] += c0 \n",
    "#                 Ldiffs[-1][1][-1] += c1\n",
    "                append_chars(Ldiffs,left_indexes,right_indexes,c0_index,c1_index,c0,c1)\n",
    "    return Ldiffs\n",
    "\n",
    "Ldiffs = listdiff(diff_result,left_indexes,right_indexes)\n",
    "Ldiffs"
   ]
  },
  {
   "cell_type": "code",
   "execution_count": 366,
   "metadata": {},
   "outputs": [
    {
     "data": {
      "text/plain": [
       "[3]"
      ]
     },
     "execution_count": 366,
     "metadata": {},
     "output_type": "execute_result"
    }
   ],
   "source": [
    "a = [1,2,3]\n",
    "a[-1:]"
   ]
  },
  {
   "cell_type": "code",
   "execution_count": 384,
   "metadata": {},
   "outputs": [
    {
     "data": {
      "text/plain": [
       "1"
      ]
     },
     "execution_count": 384,
     "metadata": {},
     "output_type": "execute_result"
    }
   ],
   "source": [
    "a = ((1,2),(3,4),5)\n",
    "a[0][0]"
   ]
  },
  {
   "cell_type": "code",
   "execution_count": 87,
   "metadata": {},
   "outputs": [],
   "source": [
    "# 将有变化的地方过滤出来\n",
    "def isdiff(item):\n",
    "    if item[2] != \"0\":\n",
    "        return True\n",
    "diff_lines = list(filter(isdiff,Ldiffs))\n",
    "# len(diff_lines)"
   ]
  },
  {
   "cell_type": "code",
   "execution_count": 88,
   "metadata": {},
   "outputs": [
    {
     "data": {
      "text/plain": [
       "[[['a', 'a'], ['gg'], 'mod', 0],\n",
       " [['c', 'c'], ['dd'], 'mod', 2],\n",
       " [['\\n\\n'], ['e', 'e'], 'add', 3],\n",
       " [['2213', 'Bcd'], ['345', 'Abch'], 'mod', 5],\n",
       " [['\\n'], ['345'], 'add', 6]]"
      ]
     },
     "execution_count": 88,
     "metadata": {},
     "output_type": "execute_result"
    }
   ],
   "source": [
    "# len(diff_lines[1][0])  # 57\n",
    "diff_lines"
   ]
  },
  {
   "cell_type": "code",
   "execution_count": 106,
   "metadata": {},
   "outputs": [
    {
     "name": "stdout",
     "output_type": "stream",
     "text": [
      "[['\\n\\n'], ['e', 'e'], 'add', 3]\n",
      "[['\\n'], ['345'], 'add', 6]\n"
     ]
    },
    {
     "data": {
      "text/plain": [
       "[{'from': '\\n\\n12121223', 'to': '<span class=\"add-text\">ee</span>12121223'},\n",
       " {'from': '\\n', 'to': '<span class=\"add-text\">345</span>'}]"
      ]
     },
     "execution_count": 106,
     "metadata": {},
     "output_type": "execute_result"
    }
   ],
   "source": [
    "add_span = '%s<span class=\"add-text\">%s</span>%s'\n",
    "change_span = '%s<span class=\"mod-text\">%s</span>%s'\n",
    "delete_span = '%s<span class=\"del-text\">%s</span>%s'\n",
    "no_span = '%s%s%s'\n",
    "\n",
    "def ismod(item):\n",
    "    if item[2] == \"mod\":\n",
    "        return True\n",
    "\n",
    "def isadd(item):\n",
    "    if item[2] == \"add\":\n",
    "        return True\n",
    "\n",
    "def isdel(item):\n",
    "    if item[2] == \"del\":\n",
    "        return True\n",
    "\n",
    "def lenlen(paras):\n",
    "    return len(\"\".join(paras))\n",
    "\n",
    "def get_res(from_span,to_span,cur,pre,back):\n",
    "    line = {\"from\": from_span % (\"\".join(pre),\"\".join(cur[0]),\"\".join(back)),\n",
    "        \"to\":to_span % (\"\".join(pre),\"\".join(cur[1]),\"\".join(back))}\n",
    "    return line\n",
    "\n",
    "def topK(Ldiffs,dt=\"add\",K=3):\n",
    "    res_lines = []\n",
    "    if dt == \"add\":\n",
    "        target_lines = list(filter(isadd, Ldiffs))\n",
    "    if dt == \"mod\":\n",
    "        target_lines = list(filter(ismod, Ldiffs))\n",
    "    if dt == \"del\":\n",
    "        target_lines = list(filter(isdel, Ldiffs))\n",
    "    newLdiffs = sorted(target_lines, key=lambda x: (x[2],lenlen(x[0])), reverse=True)\n",
    "    for i in range(min(K,len(newLdiffs))):\n",
    "        cur = newLdiffs[i]\n",
    "        print(cur)\n",
    "        # todo\n",
    "        if cur[2]==dt:\n",
    "            index = cur[3]\n",
    "            if index >0 and Ldiffs[index-1][2] == \"0\":\n",
    "                pre = Ldiffs[index-1][0]\n",
    "            else:\n",
    "                pre = \"\"\n",
    "            if index < len(Ldiffs)-1 and Ldiffs[index+1][2] == \"0\":  # 不变项\n",
    "                back = Ldiffs[index+1][0]\n",
    "            else:\n",
    "                back = \"\"\n",
    "#             res_diffs.append([[pre[-10:],cur[0],back[0:10]],[pre[-10:],cur[1],back[0:10]]])\n",
    "#             print(back)\n",
    "            if dt == \"add\":\n",
    "                line =get_res(no_span,add_span,cur,pre,back)\n",
    "#                 line = {\"from\": no_span % (\"\".join(pre),\"\".join(cur[0]),\"\".join(back)),\n",
    "#                         \"to\":add_span % (\"\".join(pre),\"\".join(cur[1]),\"\".join(back))}\n",
    "            if dt == \"mod\":\n",
    "                line =get_res(change_span,change_span,cur,pre,back)\n",
    "#                 line = {\"from\": change_span % (pre[-10:], cur[0], back[0:10]),\n",
    "#                         \"to\": change_span % (pre[-10:], cur[1], back[0:10])}\n",
    "            if dt == \"del\":\n",
    "                line =get_res(delete_span,no_span,cur,pre,back)\n",
    "#                 line = {\"from\": delete_span % (pre[-10:], cur[0], back[0:10]),\n",
    "#                         \"to\": no_span % (pre[-10:], cur[1], back[0:10])}\n",
    "            res_lines.append(line)\n",
    "    return res_lines\n",
    "topK(Ldiffs)"
   ]
  },
  {
   "cell_type": "code",
   "execution_count": 93,
   "metadata": {},
   "outputs": [
    {
     "data": {
      "text/plain": [
       "{'add': 2, 'delete': 0, 'change': 3}"
      ]
     },
     "execution_count": 93,
     "metadata": {},
     "output_type": "execute_result"
    }
   ],
   "source": [
    "# 统计三类diff的个数\n",
    "def diff_stat(diff_lines):\n",
    "    add_count = 0\n",
    "    delete_count = 0\n",
    "    change_count = 0\n",
    "    for line in diff_lines:\n",
    "        if line[2] == \"mod\":\n",
    "            change_count +=1\n",
    "        if line[2] == \"add\":\n",
    "            add_count +=1\n",
    "        if line[2] == \"del\":\n",
    "            delete_count +=1\n",
    "#     stat = {\"add\": add_count, \"delete\": delete_count, \"change\": change_count}\n",
    "    return {\"add\": add_count, \"delete\": delete_count, \"change\": change_count}\n",
    "\n",
    "diff_stat(diff_lines)"
   ]
  },
  {
   "cell_type": "code",
   "execution_count": 65,
   "metadata": {},
   "outputs": [],
   "source": [
    "def left_spearte(item):\n",
    "    l = item[0][1]\n",
    "    r = item[1][1]\n",
    "    if \"\\x00-\" in l and \"\\00+\" in r:\n",
    "        l = l.replace(\"\\x00-\",\"\\x04\").replace(\"\\x01\",\"\\x04\")  # \\x04 mod\n",
    "    elif \"\\x00-\" in l:\n",
    "        l = l.replace(\"\\x00-\",\"\\x03\").replace(\"\\x01\",\"\\x03\") # \\x03  del\n",
    "    elif \"\\x00+\" in l:\n",
    "        l = l.replace(\"\\x00+\",\"\\x02\").replace(\"\\x01\",\"\\x02\")  # \\x02 add\n",
    "    if \"\\x05\" in l:\n",
    "        l = \"\\x05\"\n",
    "    return (item[0][0]-1,l)\n",
    "\n",
    "def right_spearte(item):\n",
    "    l = item[0][1]\n",
    "    r = item[1][1]\n",
    "    if \"\\x00-\" in l and \"\\00+\" in r:\n",
    "        r = r.replace(\"\\x00+\",\"\\x04\").replace(\"\\x01\",\"\\x04\")\n",
    "    elif \"\\x00-\" in r:\n",
    "        r = r.replace(\"\\x00-\",\"\\x03\").replace(\"\\x01\",\"\\x03\")\n",
    "    elif \"\\x00+\" in r:\n",
    "        r = r.replace(\"\\x00+\",\"\\x02\").replace(\"\\x01\",\"\\x02\")\n",
    "    if \"\\x05\" in r:\n",
    "        r = \"\\x05\"\n",
    "    return (item[1][0]-1,r)\n",
    "\n",
    "def left_isok(item):\n",
    "#     return True\n",
    "    return item[0][0] != \"\"\n",
    "def right_isok(item):\n",
    "#     return True\n",
    "    return item[1][0] != \"\"\n",
    "\n",
    "def processdiffchars(diff_chars):\n",
    "    \"\"\"\n",
    "    1. 连续\n",
    "    2. left没有add\n",
    "    3. right没有delete\n",
    "    \"\"\"\n",
    "    cursor = 0\n",
    "    left_res= []\n",
    "    right_res = []\n",
    "    left_tmp = \"\"\n",
    "    right_tmp = \"\"\n",
    "    while(cursor<len(diff_chars) and (not left_isok(diff_chars[cursor]) or not right_isok(diff_chars[cursor]))):\n",
    "#         print(cursor)\n",
    "        if left_isok(diff_chars[cursor]):\n",
    "            left_res.append(left_spearte(diff_chars[cursor]))\n",
    "        else:\n",
    "            left_tmp = \"\\x02\\x02\\x02\\x02\"\n",
    "        if right_isok(diff_chars[cursor]):\n",
    "            right_res.append(right_spearte(diff_chars[cursor]))\n",
    "        else:\n",
    "            right_tmp = \"\\x03\\x03\\x03\\x03\"\n",
    "        cursor += 1\n",
    "    if cursor < len(diff_chars):\n",
    "        left_res.append(left_spearte(diff_chars[cursor]))\n",
    "        right_res.append(right_spearte(diff_chars[cursor]))\n",
    "        left_res[-1] = (left_res[-1][0], left_tmp+ left_res[-1][1]) \n",
    "        right_res[-1] = (right_res[-1][0], right_tmp +right_res[-1][1]) \n",
    "        for i in range(cursor+1,len(diff_chars)):\n",
    "            if left_isok(diff_chars[i]):\n",
    "                left_res.append(left_spearte(diff_chars[i]))\n",
    "            else:\n",
    "                if not left_res[-1][1].endswith(\"\\x02\\x02\\x02\\x02\"):\n",
    "                    left_res[-1] = (left_res[-1][0],left_res[-1][1] + \"\\x02\\x02\\x02\\x02\") \n",
    "\n",
    "            if right_isok(diff_chars[i]):\n",
    "                right_res.append(right_spearte(diff_chars[i]))\n",
    "            else:\n",
    "                if not right_res[-1][1].endswith(\"\\x03\\x03\\x03\\x03\"):\n",
    "                    right_res[-1] = (right_res[-1][0], right_res[-1][1]+ \"\\x03\\x03\\x03\\x03\" )\n",
    "    return left_res,right_res\n",
    "left_res,right_res = processdiffchars(diff_result)"
   ]
  },
  {
   "cell_type": "code",
   "execution_count": 66,
   "metadata": {},
   "outputs": [],
   "source": [
    "# left_res"
   ]
  },
  {
   "cell_type": "code",
   "execution_count": 67,
   "metadata": {},
   "outputs": [],
   "source": [
    "from functools import reduce\n",
    "def mergeline(item0,item1):\n",
    "    left = item0[1]\n",
    "    right = item1[1]\n",
    "#     print(left[-1])\n",
    "#     print(right[0])\n",
    "#     for \n",
    "    if len(right)>1 and len(left)>1:\n",
    "#         if left[-1] == right[0] and left[-2]!=\"\\x05\" and right[1]!=\"\\x05\":\n",
    "        if left[-1] == right[0]:\n",
    "            return (0,left[0:-1]+right[1:])\n",
    "    return (0,left+right)\n",
    "\n",
    "\n",
    "# def process_table(formats,lines):\n",
    "#     for i in lines\n",
    "\n",
    "diff_prefix = \"%s@%s\" # left-diff_id@sub_id \n",
    "\n",
    "\n",
    "def merge_addid(diffs,lenoflines,K=3,dire=\"left\"):\n",
    "    \"\"\"\n",
    "    diffs:\n",
    "    lens: \n",
    "    return lines\n",
    "    \"\"\"\n",
    "    chgs = \"\"\"<span class=\\\"\"\"\"+ dire +\"\"\"-mod-text\" id=%s>\"\"\"\n",
    "    adds = \"\"\"<span class=\\\"\"\"\"+ dire +\"\"\"-add-text\" id=%s>\"\"\"\n",
    "    dels = \"\"\"<span class=\\\"\"\"\"+ dire +\"\"\"-del-text\" id=%s>\"\"\"\n",
    "    ends = \"\"\"</span>\"\"\"\n",
    "    start = 0\n",
    "    diffid = 0\n",
    "    res_lines = []\n",
    "    mid_lines = []\n",
    "    cur_diff = 0\n",
    "    diffsubid = 0\n",
    "    for index in range(len(lenoflines)):\n",
    "        \"\"\"\n",
    "        先按格式分，再按diff分\n",
    "        相同类型相连则算一个diff_id\n",
    "        同一个diff_id下， html标签不同，则sub_diff_id不同\n",
    "        \"\"\"\n",
    "        chars = []\n",
    "        cur_line_diffs = diffs[start:start+lenoflines[index]]\n",
    "        if len(cur_line_diffs)>0:\n",
    "            cur_line = reduce(mergeline, cur_line_diffs)[1]\n",
    "            cur_line = cur_line.replace(\"\\x02\\x02\",\"\\x02\").replace(\"\\x03\\x03\",\"\\x03\").replace(\"\\x04\\x04\",\"\\x04\")\n",
    "            mid_lines.append(cur_line)\n",
    "            f_cs = []\n",
    "            cur = 0\n",
    "#             print(cur_line)\n",
    "            if len(cur_line)>=1:\n",
    "                c = cur_line[0]\n",
    "                if c in [\"\\x02\",\"\\x03\",\"\\x04\"]:\n",
    "                    if cur_diff == 0:\n",
    "                        diffid += 1\n",
    "                        diffsubid = 0\n",
    "                    else:\n",
    "                        if c != cur_diff:\n",
    "                            diffid += 1\n",
    "                            diffsubid = 0\n",
    "                        else:\n",
    "                            diffsubid += 1\n",
    "                    cur = c\n",
    "                    cur_diff = c\n",
    "                    ID = str(diffid)+\"@\"+str(diffsubid)\n",
    "                    c = c.replace(\"\\x02\",adds % ID).replace(\"\\x03\",dels% ID).replace(\"\\x04\",chgs% ID)\n",
    "                else:\n",
    "                    cur_diff = 0\n",
    "    #             print(f_cs) \n",
    "                f_cs.append(c)\n",
    "                for i in range(1,len(cur_line)):\n",
    "                    c = cur_line[i]\n",
    "                    if c in [\"\\x02\",\"\\x03\",\"\\x04\"]:\n",
    "    #                     print(c)\n",
    "                        if c != cur:\n",
    "                            diffid += 1\n",
    "                            cur = c\n",
    "                            cur_diff = c\n",
    "                            diffsubid = 0\n",
    "                            ID = str(diffid)+\"@\"+str(diffsubid)\n",
    "                            c = c.replace(\"\\x02\",adds % ID).replace(\"\\x03\",dels% ID).replace(\"\\x04\",chgs% ID)\n",
    "                        else:\n",
    "                            cur = 0\n",
    "                            c = ends\n",
    "#                     else:\n",
    "#                         cur_diff = 0\n",
    "                    f_cs.append(c)\n",
    "                res_line = \"\".join(f_cs)\n",
    "                if len(cur_line)>1:\n",
    "#                     pass\n",
    "#                     print(cur_line[-1])\n",
    "                    if cur_line[-1] not in [\"\\x02\",\"\\x03\",\"\\x04\"]:\n",
    "                        cur_diff = 0\n",
    "            else:\n",
    "                res_line = \"\"\n",
    "        else:\n",
    "            res_line = \"\"\n",
    "        res_lines.append(res_line)\n",
    "        start += lenoflines[index]\n",
    "    return res_lines,mid_lines\n",
    "\n",
    "#     for i in range(1,len(diffs)):\n",
    "# res_lines,mid_lines = merge_addid(right_res,right_lens)\n",
    "res_lines,mid_lines = merge_addid(left_res,left_lens)\n",
    "# res_lines"
   ]
  },
  {
   "cell_type": "code",
   "execution_count": 68,
   "metadata": {},
   "outputs": [],
   "source": [
    "right_res_lines,right_mid_lines = merge_addid(right_res,right_lens)"
   ]
  },
  {
   "cell_type": "code",
   "execution_count": 69,
   "metadata": {},
   "outputs": [],
   "source": [
    "def add_formats(formats,new_lines):\n",
    "    fs = formats.split(\"%s\")\n",
    "    finals = []\n",
    "    for i in range(len(fs) - 1):\n",
    "        finals.append(fs[i])\n",
    "        finals.append(new_lines[i])\n",
    "    finals.append(fs[-1])\n",
    "    #     return formats % tuple(new_lines)\n",
    "    return \"\".join(finals)\n",
    "# res = add_formats(formats2,res_lines)\n",
    "res = add_formats(formats1,res_lines)"
   ]
  },
  {
   "cell_type": "code",
   "execution_count": 70,
   "metadata": {},
   "outputs": [],
   "source": [
    "right_res = add_formats(formats2,right_res_lines)"
   ]
  },
  {
   "cell_type": "code",
   "execution_count": 484,
   "metadata": {},
   "outputs": [],
   "source": [
    "from bs4 import BeautifulSoup\n",
    "import re\n",
    "def extract_spans(html_doc):\n",
    "\n",
    "    soup = BeautifulSoup(html_doc, \"html.parser\")\n",
    "#     soup.find_all(class_=re.compile(\"itl\"))\n",
    "#     text = soup.find_all('span',class_=\"left-del-text\")\n",
    "    text = soup.find_all('span',class_=re.compile(\"left-\"))\n",
    "#     print(text)\n",
    "    return text\n",
    "#     if sidebar:\n",
    "#         sidebar.extract()\n",
    "#     return str(soup)\n",
    "\n",
    "spans = extract_spans(res)\n",
    "# for sp in spans:\n",
    "#     print(sp)\n",
    "#     if \"left\" in sp:\n",
    "#         print(sp)"
   ]
  },
  {
   "cell_type": "code",
   "execution_count": 71,
   "metadata": {},
   "outputs": [
    {
     "data": {
      "text/plain": [
       "5398"
      ]
     },
     "execution_count": 71,
     "metadata": {},
     "output_type": "execute_result"
    }
   ],
   "source": [
    "open(\"./table_res.html\",\"w\").write(res)"
   ]
  },
  {
   "cell_type": "code",
   "execution_count": 72,
   "metadata": {},
   "outputs": [
    {
     "data": {
      "text/plain": [
       "5327"
      ]
     },
     "execution_count": 72,
     "metadata": {},
     "output_type": "execute_result"
    }
   ],
   "source": [
    "open(\"./table_right.html\",\"w\").write(right_res)"
   ]
  },
  {
   "cell_type": "code",
   "execution_count": 255,
   "metadata": {},
   "outputs": [
    {
     "ename": "TypeError",
     "evalue": "unsupported operand type(s) for /=: 'list' and 'int'",
     "output_type": "error",
     "traceback": [
      "\u001b[0;31m---------------------------------------------------------------------------\u001b[0m",
      "\u001b[0;31mTypeError\u001b[0m                                 Traceback (most recent call last)",
      "\u001b[0;32m<ipython-input-255-aa29c307b3ea>\u001b[0m in \u001b[0;36m<module>\u001b[0;34m\u001b[0m\n\u001b[0;32m----> 1\u001b[0;31m \u001b[0ma\u001b[0m \u001b[0;34m/=\u001b[0m \u001b[0;36m2\u001b[0m\u001b[0;34m\u001b[0m\u001b[0m\n\u001b[0m",
      "\u001b[0;31mTypeError\u001b[0m: unsupported operand type(s) for /=: 'list' and 'int'"
     ]
    }
   ],
   "source": [
    "a /= 2"
   ]
  },
  {
   "cell_type": "code",
   "execution_count": null,
   "metadata": {},
   "outputs": [],
   "source": []
  }
 ],
 "metadata": {
  "kernelspec": {
   "display_name": "Python 3",
   "language": "python",
   "name": "python3"
  },
  "language_info": {
   "codemirror_mode": {
    "name": "ipython",
    "version": 3
   },
   "file_extension": ".py",
   "mimetype": "text/x-python",
   "name": "python",
   "nbconvert_exporter": "python",
   "pygments_lexer": "ipython3",
   "version": "3.6.5"
  }
 },
 "nbformat": 4,
 "nbformat_minor": 4
}
