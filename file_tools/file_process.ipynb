{
 "cells": [
  {
   "cell_type": "markdown",
   "metadata": {},
   "source": [
    "### <center>文件处理<center>"
   ]
  },
  {
   "cell_type": "markdown",
   "metadata": {},
   "source": [
    "### tika 通用纯文本抽取工具集\n",
    "- https://github.com/chrismattmann/tika-python"
   ]
  },
  {
   "cell_type": "code",
   "execution_count": 1,
   "metadata": {},
   "outputs": [
    {
     "data": {
      "text/plain": "'/home/ginger/Projects/Learning/P_Stack/file_tools'"
     },
     "execution_count": 1,
     "metadata": {},
     "output_type": "execute_result"
    }
   ],
   "source": [
    "import os\n",
    "os.getcwd()"
   ]
  },
  {
   "cell_type": "code",
   "execution_count": 9,
   "metadata": {},
   "outputs": [
    {
     "output_type": "stream",
     "name": "stdout",
     "text": "{'Author': '国泰君安研究管理系统', 'Content-Type': 'application/pdf', 'Creation-Date': '2019-07-13T13:23:47Z', 'Last-Modified': '2019-07-15T03:35:22Z', 'Last-Save-Date': '2019-07-15T03:35:22Z', 'X-Parsed-By': ['org.apache.tika.parser.DefaultParser', 'org.apache.tika.parser.pdf.PDFParser'], 'X-TIKA:parse_time_millis': '455', 'access_permission:assemble_document': 'true', 'access_permission:can_modify': 'false', 'access_permission:can_print': 'true', 'access_permission:can_print_degraded': 'true', 'access_permission:extract_content': 'true', 'access_permission:extract_for_accessibility': 'true', 'access_permission:fill_in_form': 'true', 'access_permission:modify_annotations': 'false', 'created': '2019-07-13T13:23:47Z', 'creator': '国泰君安研究管理系统', 'date': '2019-07-15T03:35:22Z', 'dc:creator': '国泰君安研究管理系统', 'dc:format': 'application/pdf; version=1.5', 'dc:language': 'zh-CN', 'dc:title': '国泰君安内部报告', 'dcterms:created': '2019-07-13T13:23:47Z', 'dcterms:modified': '2019-07-15T03:35:22Z', 'language': 'zh-CN', 'meta:author': '国泰君安研究管理系统', 'meta:creation-date': '2019-07-13T13:23:47Z', 'meta:save-date': '2019-07-15T03:35:22Z', 'modified': '2019-07-15T03:35:22Z', 'pdf:PDFVersion': '1.5', 'pdf:docinfo:created': '2019-07-13T13:23:47Z', 'pdf:docinfo:creator': '国泰君安研究管理系统', 'pdf:docinfo:creator_tool': 'Microsoft® Word 2013', 'pdf:docinfo:modified': '2019-07-15T03:35:22Z', 'pdf:docinfo:producer': 'Microsoft® Word 2013; modified using iText® 5.1.1 ©2000-2011 1T3XT BVBA', 'pdf:docinfo:title': '国泰君安内部报告', 'pdf:encrypted': 'true', 'producer': 'Microsoft® Word 2013; modified using iText® 5.1.1 ©2000-2011 1T3XT BVBA', 'resourceName': \"b'20190713_\\\\xe5\\\\x9b\\\\xbd\\\\xe6\\\\xb3\\\\xb0\\\\xe5\\\\x90\\\\x9b\\\\xe5\\\\xae\\\\x89_\\\\xe5\\\\xae\\\\x8f\\\\xe8\\\\xa7\\\\x82\\\\xe5\\\\x91\\\\xa8\\\\xe6\\\\x8a\\\\xa5_ \\\\xe4\\\\xbf\\\\xa1\\\\xe7\\\\x94\\\\xa8\\\\xe6\\\\xb5\\\\x81\\\\xe5\\\\x90\\\\x91\\\\xe5\\\\x9c\\\\xb0\\\\xe4\\\\xba\\\\xa7\\\\xe5\\\\x92\\\\x8c\\\\xe5\\\\x9f\\\\xba\\\\xe5\\\\xbb\\\\xba\\\\xef\\\\xbc\\\\x8c\\\\xe5\\\\x88\\\\xb6\\\\xe9\\\\x80\\\\xa0\\\\xe4\\\\xb8\\\\x9a\\\\xe5\\\\x86\\\\x85\\\\xe5\\\\xa4\\\\x96\\\\xe4\\\\xba\\\\xa4\\\\xe5\\\\x9b\\\\xb0_\\\\xe8\\\\x8a\\\\xb1\\\\xe9\\\\x95\\\\xbf\\\\xe6\\\\x98\\\\xa5 \\\\xe9\\\\x9f\\\\xa9\\\\xe6\\\\x97\\\\xad \\\\xe8\\\\x91\\\\xa3\\\\xe7\\\\x90\\\\xa6 \\\\xe8\\\\xb5\\\\xb5\\\\xe6\\\\xa0\\\\xbc\\\\xe6\\\\xa0\\\\xbc.pdf'\", 'title': '国泰君安内部报告', 'xmp:CreatorTool': 'Microsoft® Word 2013', 'xmpTPg:NPages': '13'}\n"
    }
   ],
   "source": [
    "# import tika\n",
    "# tika.initVM()\n",
    "from tika import parser\n",
    "file_path = os.path.join(os.getcwd(),\"pdf_tools\",\"pdfs\",\"20190713_国泰君安_宏观周报_ 信用流向地产和基建，制造业内外交困_花长春 韩旭 董琦 赵格格.pdf\")\n",
    "parsed = parser.from_file(file_path,\"http://localhost:9998/\")\n",
    "# parsed = parser.from_file('./P020190531573831612726.doc',\"http://localhost:9998/\")\n",
    "# parsed = parser.from_file('./带图片文档.docx',\"http://localhost:9998/\")\n",
    "# parsed = parser.from_file('./tika_file.html',\"http://localhost:9998/\")\n",
    "print(parsed[\"metadata\"])\n",
    "# # print(parsed[\"content\"])\n",
    "# # print(parsed.keys())\n",
    "# open(\"./chengdu.txt\",\"w\").write(parsed[\"content\"])\n",
    "# parsed"
   ]
  },
  {
   "cell_type": "code",
   "execution_count": 3,
   "metadata": {},
   "outputs": [],
   "source": [
    "lines = parsed[\"content\"].split(\"\\n\")\n",
    "# lines"
   ]
  },
  {
   "cell_type": "code",
   "execution_count": 6,
   "metadata": {},
   "outputs": [
    {
     "output_type": "execute_result",
     "data": {
      "text/plain": "'国泰君安内部报告'"
     },
     "metadata": {},
     "execution_count": 6
    }
   ],
   "source": [
    "parsed[\"metadata\"][\"title\"]"
   ]
  },
  {
   "cell_type": "code",
   "execution_count": 2,
   "metadata": {},
   "outputs": [
    {
     "name": "stdout",
     "output_type": "stream",
     "text": [
      "{'text': '依米康拟公开发行不超3亿元可转债||<p><span style=\"font-size: 14px;\">\\u3000\\u3000依米康（<span style=\"\">300249</span><span style=\"\">）披露公开发行可转换公司债券预案。本次公开发行可转换公司债券募集资金总额不超过</span><span style=\"\">30,000.00</span><span style=\"\">万元，扣除发行费用后募集资金拟用于绿色精密空调和磁悬浮冷水主机智能制造建设项目、“绿色智慧云计算数据中心”产品和技术研究开发中心项目及补充流动资金。</span></span></p>'}\n"
     ]
    }
   ],
   "source": [
    "import csv\n",
    "def csv2json(col_name_exist):\n",
    "    f_j =  open('./data/demo.json', \"a\")\n",
    "    with open('./data/demo.csv', newline='') as csvfile:\n",
    "        spamreader = csv.reader(csvfile, delimiter=' ')\n",
    "        result = []\n",
    "        for i, rows in enumerate(spamreader):\n",
    "            if col_name_exist and i == 0:\n",
    "                col_names = rows\n",
    "            elif col_name_exist and i> 0:\n",
    "                if len(rows) == len(col_names):\n",
    "                    for i in range(len(rows)):\n",
    "                        result = {}\n",
    "                        result[col_names[i]] = rows[i]\n",
    "                    # print(result)\n",
    "                    f_j.write(str(result)+\"\\n\")\n",
    "                    #     json.dump(result, f_j, ensure_ascii=False)\n",
    "            else:\n",
    "                result.append(rows)\n",
    "    print(result)\n",
    "csv2json(True)"
   ]
  },
  {
   "cell_type": "markdown",
   "metadata": {},
   "source": [
    "### tablib"
   ]
  },
  {
   "cell_type": "code",
   "execution_count": 10,
   "metadata": {},
   "outputs": [],
   "source": [
    "### 生成xlsx等格式文件\n",
    "import tablib\n",
    "headers = ('area', 'user', 'recharge')\n",
    "data = [\n",
    "    ('1', 'Rooney', 20),\n",
    "    ('2', 'John', 30),\n",
    "]\n",
    "data = tablib.Dataset(*data, headers=headers)\n",
    "#增加行\n",
    "data.append(['3', 'Keven', 18])\n",
    "#增加列\n",
    "data.append_col([22, 20, 13], header='Age')"
   ]
  },
  {
   "cell_type": "code",
   "execution_count": 11,
   "metadata": {},
   "outputs": [
    {
     "data": {
      "text/plain": [
       "'area,user,recharge,Age\\r\\n1,Rooney,20,22\\r\\n2,John,30,20\\r\\n3,Keven,18,13\\r\\n'"
      ]
     },
     "execution_count": 11,
     "metadata": {},
     "output_type": "execute_result"
    }
   ],
   "source": [
    "data.csv"
   ]
  },
  {
   "cell_type": "code",
   "execution_count": 12,
   "metadata": {},
   "outputs": [
    {
     "data": {
      "text/plain": [
       "'area,user,recharge\\r\\n1,Rooney,20\\r\\n'"
      ]
     },
     "execution_count": 12,
     "metadata": {},
     "output_type": "execute_result"
    }
   ],
   "source": [
    "#删除行\n",
    "del data[1:3]\n",
    "#删除列\n",
    "del data['Age']\n",
    "data.csv"
   ]
  },
  {
   "cell_type": "code",
   "execution_count": 17,
   "metadata": {},
   "outputs": [],
   "source": [
    "# 保存\n",
    "# open(\"./data/tablib_demo.csv\",\"wb\").write(data.csv)"
   ]
  },
  {
   "cell_type": "code",
   "execution_count": 18,
   "metadata": {},
   "outputs": [
    {
     "data": {
      "text/plain": [
       "[1, 2, 3, 4, 5, 6, 7, 8, 9]"
      ]
     },
     "execution_count": 18,
     "metadata": {},
     "output_type": "execute_result"
    }
   ],
   "source": [
    "# 把嵌套的python list转成一个一维的python list\n",
    "import itertools\n",
    "def lists_to_list(lists): # https://www.zhihu.com/question/27010691\n",
    "    return list(itertools.chain.from_iterable(lists))\n",
    "\n",
    "a = [[1, 2, 3], [4, 5, 6], [7], [8, 9]]\n",
    "lists_to_list(a)"
   ]
  },
  {
   "cell_type": "markdown",
   "metadata": {},
   "source": [
    "### <center>处理html<center>"
   ]
  },
  {
   "cell_type": "code",
   "execution_count": 67,
   "metadata": {},
   "outputs": [],
   "source": [
    "import html2text\n",
    "from readability.readability import Document\n",
    "\n",
    "h = html2text.HTML2Text()\n",
    "h.ignore_links = True\n",
    "h.ignore_images = True"
   ]
  },
  {
   "cell_type": "code",
   "execution_count": 68,
   "metadata": {},
   "outputs": [
    {
     "data": {
      "text/plain": [
       "'Hello, world!\\n\\n'"
      ]
     },
     "execution_count": 68,
     "metadata": {},
     "output_type": "execute_result"
    }
   ],
   "source": [
    "# html2markdown\n",
    "h.handle(\"<p>Hello, <a href='http://earth.google.com/'>world</a>! <img alt='' src='http://n.sinaimg.cn/translate/485/w512h773/20180728/aYof-hfxsxzf8508060.jpg'>\")"
   ]
  },
  {
   "cell_type": "code",
   "execution_count": 64,
   "metadata": {},
   "outputs": [
    {
     "data": {
      "text/plain": [
       "'<html><body><div><section class=\"\"><p><span/></p><p><strong><span/></strong></p><p><strong><span>轻奢品牌为可获得的奢侈品，三类参与者同台竞争</span></strong></p><p><span>轻奢品牌是指价格在150~1500美元之间、倍率在6~8之间的品牌，与奢侈品一样具备高端质感、注重品牌形象，但价格更为亲民、SKU更多。</span></p><p><span><br/></span></p><p><span>轻奢市场参与者可分三类：1）传统奢侈品牌的副线，以国际品牌为主。主线树品牌、副线扩销售，如Giorgio\\xa0Armani的副线品牌Emporio\\xa0Armani；2）独立轻奢品牌，包括国际成熟轻奢品牌和国内高端品牌，其中Tapestry（原Coach）、MK和Kate\\xa0Spade为轻奢行业三大龙头；3）轻奢设计师品牌，包括国外和国内新兴设计师品牌，如川久保玲等。</span></p><p><strong><span><br/></span></strong></p><p><strong><span>国际轻奢行业：已千亿欧元规模，中国市场潜力大</span></strong></p><p><span>未来奢侈品市场会出现分化，其中中国市场持续快速增长、表现突出，主力品类配饰、服装发展稳健，鞋类、珠宝崛起中。2016年全球轻奢品市场规模1000亿欧元，占奢侈品市场40%，2010~2015年复合增速9.19%，高于奢侈品市场7.73%的增速，同时轻奢公司较奢侈品业绩弹性更强。2016年行业CR38.89%、CR514.93%，Tapestry和MK龙头地位稳固。</span></p><p><span><br/></span></p><p><span>美国轻奢行业发展领先，已经历品牌出现、概念明晰、体量扩张三阶段，目前处于暂时调整期，最早进入调整的公司Tapestry已渐显成效。日本轻奢市场也较为成熟，设计师品牌是其主要参与者。</span></p><p><span><br/></span></p><p><strong><span>我国轻奢行业：即将进入快速成长期，千亿空间在望</span></strong></p><p><span>中国的轻奢行业起步较晚，自90年代一批高端品牌成立以来，目前仍处萌芽期。当前中国轻奢行业发展可类比美日七八十年代，当时其经历了“树品牌、扩品类、国际化、快发展”的阶段，我国轻奢企业已初步完成树品牌，扩品类和规模化刚开始，中产阶级崛起和消费升级将推动行业进入快速扩张期。</span></p><p><span><br/></span></p><p><span>2016年我国轻奢行业规模839亿元，我们测算2020年行业空间达1242亿元、复合增速10.28%。我国轻奢市场主要参与者中，国际品牌仍为主导且占比不断提升，国内品牌市占率仍较低、但差异化竞争下空间较大。</span></p><p><span><br/></span></p><p><strong><span>海外龙头经验：市场定位精准、谋求品牌收购是共性</span></strong></p><p><span>Coach为轻奢鼻祖，MK为行业黑马，均为全球代表性轻奢龙头企业。我们分析这两家公司的发展历程，历经起伏带来经验和借鉴。共性上看，Coach和MK的成功很大程度上得益于精准定位轻奢市场，二者均经历品牌从繁盛到衰落的发展周期、目前处于调整期并开始有所起色，且二者都通过收购（Coach收购Stuart Weitzman和Kate Spade，MK收购Jimmy Choo）谋求转型发展。</span></p><p><strong><span><br/></span></strong></p><p><strong><span>中国企业布局：本土品牌差异化竞争存机遇，并购助多品牌集团做大</span></strong></p><p><span>经过近30年发展，我国已具备一批初具规模和影响力的轻奢品牌，其收入规模仍较小（约10亿）、对比国外龙头空间较大。该类品牌大多与国际品牌定位上存在差异化，领先企业已进入多品牌运营阶段。轻奢领域竞争环境好于奢侈品和大众领域，且国内轻奢品牌扎根多年，在消费者偏好、渠道布局、盈利能力等方面已具备一定优势。</span></p><p><span><br/></span></p><p><span>从竞争策略来看，我国本土品牌面对国际品牌，底蕴与积累尚缺乏。短期来看，本土品牌可着力发展国际品牌布局较少的服装品类等；长期来看，多品牌是集团做大必经之路，并购提供扩品牌/品类/风格矩阵的捷径，目前国内企业已开始深度参与。</span></p><p><br/></p><p><strong><span>风险提示：</span></strong><span>时尚潮流更迭、经济周期或特定政策影响、品牌原有客群老化、收购标的选择或者投后经营不善等。</span></p><p><span/><br/></p></section></div></body></html>'"
      ]
     },
     "execution_count": 64,
     "metadata": {},
     "output_type": "execute_result"
    }
   ],
   "source": [
    "import requests\n",
    "# def url2html2md(url):\n",
    "wx_url = \"http://mp.weixin.qq.com/s?__biz=MzA4MzQ4NDYwNg==&mid=2651719146&idx=4&sn=ba3e57eed140a34494bed7bfede496f5&chksm=840f6f3bb378e62d9d1e62f064c69afd8ee1c662f3918ceb53def774f662f5930ad7b5ec7332#rd\"\n",
    "header = {\"Content-Type\": \"application/json\"}\n",
    "response = requests.get(wx_url,headers=header)\n",
    "\n",
    "\"\"\"检查bytes的编码方式\"\"\"\n",
    "import chardet\n",
    "char_encoding = chardet.detect(response.content)   # bytes\n",
    "# print(char_encoding)\n",
    "if char_encoding[\"encoding\"] == \"utf-8\" or char_encoding[\"encoding\"] == \"utf8\":\n",
    "    doc = Document(response.content.decode(\"utf-8\"))\n",
    "else:\n",
    "    doc = Document(response.content.decode(\"gbk\",\"ignore\"))\n",
    "title = doc.title()\n",
    "content = doc.summary()\n",
    "doc.get_clean_html()"
   ]
  },
  {
   "cell_type": "markdown",
   "metadata": {},
   "source": [
    "#### beautiful soup"
   ]
  },
  {
   "cell_type": "code",
   "execution_count": null,
   "metadata": {},
   "outputs": [],
   "source": []
  },
  {
   "cell_type": "markdown",
   "metadata": {},
   "source": [
    "### <center>kg 存储和查询<center>\n",
    "- https://rdflib.readthedocs.io/en/stable/gettingstarted.html"
   ]
  },
  {
   "cell_type": "code",
   "execution_count": 71,
   "metadata": {},
   "outputs": [
    {
     "name": "stdout",
     "output_type": "stream",
     "text": [
      "graph has 86 statements.\n"
     ]
    }
   ],
   "source": [
    "import rdflib\n",
    "\n",
    "g = rdflib.Graph()\n",
    "result = g.parse(\"http://www.w3.org/People/Berners-Lee/card\")\n",
    "\n",
    "print(\"graph has %s statements.\" % len(g))\n",
    "# prints graph has 79 statements.\n",
    "\n",
    "for subj, pred, obj in g:\n",
    "    if (subj, pred, obj) not in g:\n",
    "        raise Exception(\"It better be!\")\n",
    "#     else:\n",
    "#         print((subj, pred, obj))\n",
    "        "
   ]
  },
  {
   "cell_type": "code",
   "execution_count": null,
   "metadata": {},
   "outputs": [],
   "source": []
  }
 ],
 "metadata": {
  "kernelspec": {
   "display_name": "Python 3.6.9 64-bit",
   "language": "python",
   "name": "python36964bitb377107951a642b890c3e40487126bca"
  },
  "language_info": {
   "codemirror_mode": {
    "name": "ipython",
    "version": 3
   },
   "file_extension": ".py",
   "mimetype": "text/x-python",
   "name": "python",
   "nbconvert_exporter": "python",
   "pygments_lexer": "ipython3",
   "version": "3.6.9-final"
  }
 },
 "nbformat": 4,
 "nbformat_minor": 4
}