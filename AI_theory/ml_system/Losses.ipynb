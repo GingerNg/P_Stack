{
 "cells": [
  {
   "cell_type": "code",
   "execution_count": 3,
   "metadata": {},
   "outputs": [],
   "source": [
    "import numpy as np\n",
    "import tensorflow as tf"
   ]
  },
  {
   "cell_type": "code",
   "execution_count": 4,
   "metadata": {},
   "outputs": [
    {
     "data": {
      "text/plain": [
       "array([[0., 1., 1.],\n",
       "       [1., 1., 0.]])"
      ]
     },
     "execution_count": 4,
     "metadata": {},
     "output_type": "execute_result"
    }
   ],
   "source": [
    "y_true = np.array([[0.,1.,1.],[1.,1.,0.]])\n",
    "y_pred = np.array([[2.,1.,1.],[1.,1.,1.]])\n",
    "\n",
    "# tf输入Numpy数据时会自动转换为Tensor来处理\n",
    "# 显式处理\n",
    "# y_true= tf.convert_to_tensor(y_true)\n",
    "# y_pred= tf.convert_to_tensor(y_pred)\n",
    "y_true"
   ]
  },
  {
   "cell_type": "markdown",
   "metadata": {},
   "source": [
    "### logistic regression loss"
   ]
  },
  {
   "cell_type": "code",
   "execution_count": 3,
   "metadata": {},
   "outputs": [],
   "source": [
    "lll_loss = tf.nn.log_poisson_loss(targets=y_true,log_input=tf.log(y_pred))"
   ]
  },
  {
   "cell_type": "markdown",
   "metadata": {},
   "source": [
    "### sigmoid cross entropy loss"
   ]
  },
  {
   "cell_type": "code",
   "execution_count": 4,
   "metadata": {},
   "outputs": [],
   "source": [
    "\"\"\"\n",
    "https://www.jianshu.com/p/cf235861311b\n",
    "z * -log(sigmoid(x)) + (1 - z) * -log(1 - sigmoid(x))\n",
    "sigmoid_cross_entropy_with_logits:\n",
    "对输入的logits先通过sigmoid函数计算，再计算它们的交叉熵，但是它对交叉熵的计算方式进行了优化，使得的结果不至于溢出。\n",
    "\"\"\"\n",
    "sigmoid_ce_logits = tf.nn.sigmoid_cross_entropy_with_logits(labels=y_true,\n",
    "                                        logits=y_pred)\n",
    "sigmoid_ce_logits_loss = tf.reduce_mean(sigmoid_ce_logits)\n",
    "\n",
    "y_hat_sigmoid = tf.nn.sigmoid(y_pred)\n",
    "sigmoid_total_loss = tf.reduce_mean(-y_true*tf.log(y_hat_sigmoid)-(1-y_true)*tf.log(1-y_hat_sigmoid))\n",
    "# sigmoid_total_loss = tf.reduce_mean(-tf.reduce_sum(y_true * tf.log(y_hat_sigmoid), [1]))"
   ]
  },
  {
   "cell_type": "markdown",
   "metadata": {},
   "source": [
    "### softmax_cross_entropy"
   ]
  },
  {
   "cell_type": "code",
   "execution_count": 5,
   "metadata": {},
   "outputs": [
    {
     "name": "stdout",
     "output_type": "stream",
     "text": [
      "WARNING:tensorflow:From <ipython-input-5-c22f7b4c9f11>:7: softmax_cross_entropy_with_logits (from tensorflow.python.ops.nn_ops) is deprecated and will be removed in a future version.\n",
      "Instructions for updating:\n",
      "\n",
      "Future major versions of TensorFlow will allow gradients to flow\n",
      "into the labels input on backprop by default.\n",
      "\n",
      "See tf.nn.softmax_cross_entropy_with_logits_v2.\n",
      "\n"
     ]
    }
   ],
   "source": [
    "\"\"\"\n",
    "https://www.jianshu.com/p/6c9b0cc6978b\n",
    "If you interpret the scores in y_hat as unnormalized log probabilities, then they are logits.\n",
    "\"\"\"\n",
    "\"\"\"softmax loss\"\"\"\n",
    "softmax_ce_logits = tf.nn.softmax_cross_entropy_with_logits(labels=y_true,\n",
    "                                        logits=y_pred)\n",
    "softmax_ce_logits_loss = tf.reduce_mean(softmax_ce_logits)\n",
    "\n",
    "y_hat_softmax = tf.nn.softmax(y_pred)\n",
    "softmax_total_loss = tf.reduce_mean(-tf.reduce_sum(y_true * tf.log(y_hat_softmax), [1]))"
   ]
  },
  {
   "cell_type": "code",
   "execution_count": 6,
   "metadata": {},
   "outputs": [
    {
     "name": "stdout",
     "output_type": "stream",
     "text": [
      "[[2. 1. 1.]\n",
      " [1. 1. 1.]]\n",
      "0.7822060747723478\n",
      "0.7822060747723475\n",
      "2.650057002600161\n",
      "2.6500570026001613\n"
     ]
    }
   ],
   "source": [
    "with tf.Session() as sess:\n",
    "    # print(sess.run(y))  # ERROR: 此处x还没有赋值.\n",
    "\n",
    "    # rand_array = np.random.rand(1024, 1024)\n",
    "    print(sess.run(lll_loss))\n",
    "\n",
    "    \"\"\"sigmoid\"\"\"\n",
    "    print(sess.run(sigmoid_ce_logits_loss))\n",
    "    print(sess.run(sigmoid_total_loss))\n",
    "    \"\"\"softmax\"\"\"\n",
    "    print(sess.run(softmax_ce_logits_loss))\n",
    "    print(sess.run(softmax_total_loss))"
   ]
  },
  {
   "cell_type": "markdown",
   "metadata": {},
   "source": [
    "### Contrastive Loss"
   ]
  },
  {
   "cell_type": "code",
   "execution_count": null,
   "metadata": {},
   "outputs": [],
   "source": []
  },
  {
   "cell_type": "markdown",
   "metadata": {},
   "source": []
  },
  {
   "cell_type": "code",
   "execution_count": 3,
   "metadata": {
    "tags": []
   },
   "outputs": [],
   "source": [
    "from keras import backend as K\n",
    "import tensorflow as tf\n",
    "import numpy as np\n",
    "from keras.losses import *"
   ]
  },
  {
   "cell_type": "code",
   "execution_count": 5,
   "metadata": {},
   "outputs": [
    {
     "output_type": "execute_result",
     "data": {
      "text/plain": "array([  7.3890561, 148.4131591])"
     },
     "metadata": {},
     "execution_count": 5
    }
   ],
   "source": [
    "a = np.array([2.0, 5]) \n",
    "b = np.array([3.4, 5]) \n",
    "res = np.exp(a)\n",
    "res"
   ]
  },
  {
   "cell_type": "code",
   "execution_count": 8,
   "metadata": {},
   "outputs": [],
   "source": [
    "### MSE"
   ]
  },
  {
   "cell_type": "code",
   "execution_count": 6,
   "metadata": {},
   "outputs": [
    {
     "output_type": "execute_result",
     "data": {
      "text/plain": "0.5644444444444445"
     },
     "metadata": {},
     "execution_count": 6
    }
   ],
   "source": [
    "from sklearn.metrics import r2_score\n",
    "\"\"\"\n",
    "MSE\n",
    "1 - mean_squared_error(y_true,y_predict)/np.var(y_true)\n",
    "\"\"\"\n",
    "r2_score(a,b)"
   ]
  },
  {
   "cell_type": "code",
   "execution_count": 7,
   "metadata": {},
   "outputs": [
    {
     "output_type": "execute_result",
     "data": {
      "text/plain": "0.9799999999999999"
     },
     "metadata": {},
     "execution_count": 7
    }
   ],
   "source": [
    "from sklearn.metrics import mean_squared_error\n",
    "mean_squared_error(a,b)"
   ]
  },
  {
   "cell_type": "code",
   "execution_count": 9,
   "metadata": {},
   "outputs": [],
   "source": [
    "def exp_loss(y_true,y_pred):\n",
    "    return K.mean(K.exp(-y_true*y_pred))"
   ]
  },
  {
   "cell_type": "markdown",
   "metadata": {},
   "source": [
    "### Triple Loss"
   ]
  },
  {
   "cell_type": "code",
   "execution_count": null,
   "metadata": {},
   "outputs": [],
   "source": [
    "def cos_distance(vects):\n",
    "    x, y = vects\n",
    "    fz = K.batch_dot(x,y,axes=1)\n",
    "    fm1 = K.sum(K.square(x), axis=1, keepdims=True)\n",
    "    fm2 = K.sum(K.square(y), axis=1, keepdims=True)\n",
    "    fm = K.sqrt(fm1*fm2)\n",
    "    return fz/K.maximum(fm, K.epsilon())\n",
    "\n",
    "def triplet_loss(y_true, y_pred):\n",
    "    \"\"\"\n",
    "    一次看三个样本\n",
    "    Anchor, Positive, Negative\n",
    "    L=max(d(a,p)−d(a,n)+margin,0)\n",
    "    \"\"\"\n",
    "    MARGIN = 1.0  # 超参\n",
    "    l = 768\n",
    "# #     anc, pos, neg = y_pred[:, 0:128], y_pred[:, 128:256], y_pred[:, 256:]\n",
    "    anc, pos, neg = y_pred[:, 0:l], y_pred[:, l:l*2], y_pred[:, l*2:]\n",
    "\n",
    "#     # 欧式距离\n",
    "    pos_dist = 1-K.abs(cos_distance((anc,pos)))\n",
    "    neg_dist = 1-K.abs(cos_distance((anc,neg)))\n",
    "#     pos_dist = K.sum(K.square(anc - pos), axis=-1, keepdims=True)\n",
    "#     neg_dist = K.sum(K.square(anc - neg), axis=-1, keepdims=True)\n",
    "#     pos_dist = y_pred[:, 0:1]\n",
    "#     neg_dist = y_pred[:,1:]\n",
    "    basic_loss = pos_dist - neg_dist + MARGIN\n",
    "#     loss = basic_loss\n",
    "    loss = K.maximum(basic_loss, 0.0)\n",
    "#     print \"[INFO] model - triplet_loss shape: %s\" % str(loss.shape)\n",
    "    return loss"
   ]
  },
  {
   "cell_type": "markdown",
   "metadata": {},
   "source": [
    "### contrastive_loss"
   ]
  },
  {
   "cell_type": "code",
   "execution_count": 10,
   "metadata": {},
   "outputs": [],
   "source": [
    "def contrastive_loss(y_true, y_pred):\n",
    "    \"\"\"\n",
    "    一次看两个样本\n",
    "    对比损失\n",
    "    y_pred: 两个样本欧式距离（0,1），距离越接近0，两个样本越相似\n",
    "    y_true：y_true = 1 匹配，0： 不匹配\n",
    "    Contrastive loss from http://yann.lecun.com/exdb/publis/pdf/hadsell-chopra-lecun-06.pdf\n",
    "    \"\"\"\n",
    "    margin = 1\n",
    "    return K.mean(y_true * K.square(y_pred) + (1 - y_true) * K.square(K.maximum(margin - y_pred, 0)))"
   ]
  },
  {
   "cell_type": "code",
   "execution_count": 11,
   "metadata": {},
   "outputs": [],
   "source": [
    "## emulation data\n",
    "y_true = tf.constant([0.0, 0.0, 0.0, 0.0, 0.0])\n",
    "y_pred = tf.constant([1.0, 1.0, 1.0, 1.0, 1.0])"
   ]
  },
  {
   "cell_type": "code",
   "execution_count": 12,
   "metadata": {},
   "outputs": [
    {
     "output_type": "execute_result",
     "data": {
      "text/plain": "0.0"
     },
     "metadata": {},
     "execution_count": 12
    }
   ],
   "source": [
    "K.eval(contrastive_loss(y_true,y_pred))"
   ]
  },
  {
   "cell_type": "code",
   "execution_count": 13,
   "metadata": {},
   "outputs": [
    {
     "output_type": "execute_result",
     "data": {
      "text/plain": "15.942385"
     },
     "metadata": {},
     "execution_count": 13
    }
   ],
   "source": [
    "# binary_crossentropy\n",
    "K.eval(binary_crossentropy(y_true, y_pred))"
   ]
  },
  {
   "cell_type": "code",
   "execution_count": 14,
   "metadata": {},
   "outputs": [
    {
     "output_type": "execute_result",
     "data": {
      "text/plain": "1.0"
     },
     "metadata": {},
     "execution_count": 14
    }
   ],
   "source": [
    "K.eval(exp_loss(y_true,y_pred))"
   ]
  },
  {
   "cell_type": "code",
   "execution_count": 3,
   "metadata": {},
   "outputs": [],
   "source": [
    "import matplotlib.pyplot as plt\n",
    "def show_loss(history):\n",
    "    \"\"\"\n",
    "    loss 可视化\n",
    "    \"\"\"\n",
    "#     print(history.history.keys())\n",
    "    fig = plt.figure()\n",
    "    plt.plot(history.history['acc'])\n",
    "    plt.plot(history.history['loss'])\n",
    "    plt.title('model accuracy')\n",
    "    plt.ylabel('accuracy')\n",
    "    plt.xlabel('epoch')\n",
    "    plt.legend(['acc',\"loss\"], loc='upper left')\n",
    "# show_loss()"
   ]
  },
  {
   "cell_type": "code",
   "execution_count": null,
   "metadata": {},
   "outputs": [],
   "source": []
  }
 ],
 "metadata": {
  "kernelspec": {
   "display_name": "Python 3.6.9 64-bit",
   "language": "python",
   "name": "python36964bit3042f92b86ba43f28ff3e0f8edc65a4b"
  },
  "language_info": {
   "codemirror_mode": {
    "name": "ipython",
    "version": 3
   },
   "file_extension": ".py",
   "mimetype": "text/x-python",
   "name": "python",
   "nbconvert_exporter": "python",
   "pygments_lexer": "ipython3",
   "version": "3.6.9-final"
  }
 },
 "nbformat": 4,
 "nbformat_minor": 4
}