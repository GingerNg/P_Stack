{
 "cells": [
  {
   "cell_type": "code",
   "execution_count": null,
   "metadata": {},
   "outputs": [],
   "source": []
  },
  {
   "cell_type": "code",
   "execution_count": null,
   "metadata": {},
   "outputs": [],
   "source": []
  },
  {
   "cell_type": "markdown",
   "metadata": {},
   "source": [
    "[简明条件随机场CRF介绍（附带纯Keras实现）](https://spaces.ac.cn/archives/5542/comment-page-1)"
   ]
  },
  {
   "cell_type": "code",
   "execution_count": null,
   "metadata": {},
   "outputs": [],
   "source": [
    "### 结构化学习\n"
   ]
  },
  {
   "cell_type": "code",
   "execution_count": null,
   "metadata": {},
   "outputs": [],
   "source": [
    "CRF层本质上是一个带训练参数的loss计算层，因此CRF层只用来训练模型，\n",
    "\n",
    "\n",
    "而预测则需要另外建立模型。???"
   ]
  },
  {
   "cell_type": "code",
   "execution_count": null,
   "metadata": {},
   "outputs": [],
   "source": [
    "from keras.layers import Layer\n",
    "import keras.backend as K\n",
    "\n",
    "class CRF(Layer):\n",
    "    \"\"\"纯Keras实现CRF层\n",
    "    CRF层本质上是一个带训练参数的loss计算层，因此CRF层只用来训练模型，\n",
    "    而预测则需要另外建立模型。???\n",
    "    \"\"\"\n",
    "    def __init__(self, ignore_last_label=False, **kwargs):\n",
    "        \"\"\"ignore_last_label：定义要不要忽略最后一个标签，起到mask的效果\n",
    "        \"\"\"\n",
    "        self.ignore_last_label = 1 if ignore_last_label else 0\n",
    "        super(CRF, self).__init__(**kwargs)\n",
    "    def build(self, input_shape):\n",
    "        self.num_labels = input_shape[-1] - self.ignore_last_label\n",
    "        self.trans = self.add_weight(name='crf_trans',\n",
    "                                     shape=(self.num_labels, self.num_labels),\n",
    "                                     initializer='glorot_uniform',\n",
    "                                     trainable=True)\n",
    "    def log_norm_step(self, inputs, states):\n",
    "        \"\"\"递归计算归一化因子\n",
    "        要点：1、递归计算；2、用logsumexp避免溢出。\n",
    "        技巧：通过expand_dims来对齐张量。\n",
    "        \"\"\"\n",
    "        states = K.expand_dims(states[0], 2) # (batch_size, output_dim, 1)\n",
    "        trans = K.expand_dims(self.trans, 0) # (1, output_dim, output_dim)\n",
    "        output = K.logsumexp(states+trans, 1) # (batch_size, output_dim)\n",
    "        return output+inputs, [output+inputs]\n",
    "    def path_score(self, inputs, labels):\n",
    "        \"\"\"计算目标路径的相对概率（还没有归一化）\n",
    "        要点：逐标签得分，加上转移概率得分。\n",
    "        技巧：用“预测”点乘“目标”的方法抽取出目标路径的得分。\n",
    "        \"\"\"\n",
    "        point_score = K.sum(K.sum(inputs*labels, 2), 1, keepdims=True) # 逐标签得分\n",
    "        labels1 = K.expand_dims(labels[:, :-1], 3)\n",
    "        labels2 = K.expand_dims(labels[:, 1:], 2)\n",
    "        labels = labels1 * labels2 # 两个错位labels，负责从转移矩阵中抽取目标转移得分\n",
    "        trans = K.expand_dims(K.expand_dims(self.trans, 0), 0)\n",
    "        trans_score = K.sum(K.sum(trans*labels, [2,3]), 1, keepdims=True)\n",
    "        return point_score+trans_score # 两部分得分之和\n",
    "\n",
    "\n",
    "    def call(self, inputs): # CRF本身不改变输出，它只是一个loss\n",
    "        return inputs\n",
    "\n",
    "    def loss(self, y_true, y_pred): # 目标y_pred需要是one hot形式\n",
    "        mask = 1-y_true[:,1:,-1] if self.ignore_last_label else None\n",
    "        y_true,y_pred = y_true[:,:,:self.num_labels],y_pred[:,:,:self.num_labels]\n",
    "        init_states = [y_pred[:,0]] # 初始状态\n",
    "        log_norm,_,_ = K.rnn(self.log_norm_step, y_pred[:,1:], init_states, mask=mask) # 计算Z向量（对数）\n",
    "        log_norm = K.logsumexp(log_norm, 1, keepdims=True) # 计算Z（对数）\n",
    "        path_score = self.path_score(y_pred, y_true) # 计算分子（对数）\n",
    "        return log_norm - path_score # 即log(分子/分母)\n",
    "\n",
    "    def accuracy(self, y_true, y_pred): # 训练过程中显示逐帧准确率的函数，排除了mask的影响\n",
    "        mask = 1-y_true[:,:,-1] if self.ignore_last_label else None\n",
    "        y_true,y_pred = y_true[:,:,:self.num_labels],y_pred[:,:,:self.num_labels]\n",
    "        isequal = K.equal(K.argmax(y_true, 2), K.argmax(y_pred, 2))\n",
    "        isequal = K.cast(isequal, 'float32')\n",
    "        if mask == None:\n",
    "            return K.mean(isequal)\n",
    "        else:\n",
    "            return K.sum(isequal*mask) / K.sum(mask)"
   ]
  },
  {
   "cell_type": "code",
   "execution_count": null,
   "metadata": {},
   "outputs": [],
   "source": []
  },
  {
   "cell_type": "code",
   "execution_count": null,
   "metadata": {},
   "outputs": [],
   "source": []
  },
  {
   "cell_type": "markdown",
   "metadata": {},
   "source": [
    "### CRF-Keras\n",
    "- input: num_sample,time_step,num_fea \n",
    "- output:num_sample,time_step,one-hot_label"
   ]
  },
  {
   "cell_type": "markdown",
   "metadata": {},
   "source": [
    "$$ L(W, U, b; y_1, ..., y_n) := \\frac{1}{Z}\n",
    "\\sum_{y_1, ..., y_n} \\exp(-a_1' y_1 - a_n' y_n\n",
    "    - \\sum_{k=1^n}((f(x_k' W + b) y_k) + y_1' U y_2)), $$\n",
    "    \n",
    "where:\n",
    "\n",
    "$Z$: normalization constant\n",
    "\n",
    "$x_k, y_k$:  inputs and outputs"
   ]
  },
  {
   "cell_type": "code",
   "execution_count": 18,
   "metadata": {},
   "outputs": [
    {
     "data": {
      "text/plain": [
       "[array([[2, 3],\n",
       "        [3, 4],\n",
       "        [4, 5],\n",
       "        [5, 6],\n",
       "        [5, 7]]), array([[2, 3],\n",
       "        [3, 4],\n",
       "        [4, 5],\n",
       "        [5, 6],\n",
       "        [5, 7]])]"
      ]
     },
     "execution_count": 18,
     "metadata": {},
     "output_type": "execute_result"
    }
   ],
   "source": [
    "import numpy as np\n",
    "xs = [\n",
    "                [[2,3], [3,4], [4,5], [5,6], [5,7]],\n",
    "               [[2,3], [3,4], [4,5], [5,6], [5,7]]\n",
    "              ]\n",
    "               \n",
    "xs = list(xs)\n",
    "# xs = xs[:, :, np.newaxis]\n",
    "xs"
   ]
  },
  {
   "cell_type": "code",
   "execution_count": 13,
   "metadata": {},
   "outputs": [
    {
     "data": {
      "text/plain": [
       "array([[[1, 0],\n",
       "        [1, 0],\n",
       "        [1, 0],\n",
       "        [1, 0],\n",
       "        [1, 0]],\n",
       "\n",
       "       [[1, 0],\n",
       "        [1, 0],\n",
       "        [1, 0],\n",
       "        [1, 0],\n",
       "        [1, 0]]])"
      ]
     },
     "execution_count": 13,
     "metadata": {},
     "output_type": "execute_result"
    }
   ],
   "source": [
    "ys = np.array([\n",
    "    [[1,0],[1,0],[1,0],[1,0],[1,0]],\n",
    "    [[1,0],[1,0],[1,0],[1,0],[1,0]]\n",
    "])\n",
    "ys"
   ]
  },
  {
   "cell_type": "code",
   "execution_count": 17,
   "metadata": {},
   "outputs": [
    {
     "data": {
      "text/plain": [
       "array([[[0, 0],\n",
       "        [2, 3],\n",
       "        [3, 4],\n",
       "        [4, 5],\n",
       "        [5, 6],\n",
       "        [5, 7]],\n",
       "\n",
       "       [[0, 0],\n",
       "        [2, 3],\n",
       "        [3, 4],\n",
       "        [4, 5],\n",
       "        [5, 6],\n",
       "        [5, 7]]], dtype=int32)"
      ]
     },
     "execution_count": 17,
     "metadata": {},
     "output_type": "execute_result"
    }
   ],
   "source": [
    "from keras.preprocessing.sequence import pad_sequences\n",
    "x = pad_sequences(xs, maxlen=6) \n",
    "x"
   ]
  },
  {
   "cell_type": "code",
   "execution_count": 5,
   "metadata": {},
   "outputs": [
    {
     "data": {
      "text/plain": [
       "(2, 5, 2)"
      ]
     },
     "execution_count": 5,
     "metadata": {},
     "output_type": "execute_result"
    }
   ],
   "source": [
    "xs.shape  # num_sample,time_step,num_fea"
   ]
  },
  {
   "cell_type": "code",
   "execution_count": 6,
   "metadata": {},
   "outputs": [
    {
     "data": {
      "text/plain": [
       "array([[-1, -1,  1,  1,  2,  3]], dtype=int32)"
      ]
     },
     "execution_count": 6,
     "metadata": {},
     "output_type": "execute_result"
    }
   ],
   "source": [
    "y = [[1,1,2,3]]\n",
    "y_chunk = pad_sequences(y, maxlen=6, value=-1)\n",
    "y_chunk"
   ]
  },
  {
   "cell_type": "code",
   "execution_count": 7,
   "metadata": {},
   "outputs": [
    {
     "name": "stdout",
     "output_type": "stream",
     "text": [
      "WARNING:tensorflow:From /usr/local/lib/python3.6/dist-packages/keras/backend/tensorflow_backend.py:74: The name tf.get_default_graph is deprecated. Please use tf.compat.v1.get_default_graph instead.\n",
      "\n",
      "WARNING:tensorflow:From /usr/local/lib/python3.6/dist-packages/keras/optimizers.py:790: The name tf.train.Optimizer is deprecated. Please use tf.compat.v1.train.Optimizer instead.\n",
      "\n"
     ]
    },
    {
     "name": "stderr",
     "output_type": "stream",
     "text": [
      "/usr/local/lib/python3.6/dist-packages/keras_contrib-2.0.8-py3.6.egg/keras_contrib/layers/crf.py:346: UserWarning: CRF.loss_function is deprecated and it might be removed in the future. Please use losses.crf_loss instead.\n",
      "/usr/local/lib/python3.6/dist-packages/keras_contrib-2.0.8-py3.6.egg/keras_contrib/layers/crf.py:353: UserWarning: CRF.accuracy is deprecated and it might be removed in the future. Please use metrics.crf_accuracy\n"
     ]
    }
   ],
   "source": [
    "from keras.models import Sequential\n",
    "from keras_contrib.layers import CRF\n",
    "model = Sequential()\n",
    "# model.add(Embedding(len(vocab), EMBED_DIM, mask_zero=True))  # Random embedding\n",
    "#     model.add(Bidirectional(LSTM(BiRNN_UNITS // 2, return_sequences=True))) # \n",
    "#     model.add(TimeDistributed(Dense(len(chunk_tags))))\n",
    "\n",
    " # indicating if provided labels are one-hot(false) or indices(true) (with shape 1 at dim 3) \n",
    "crf = CRF(2, sparse_target=False) \n",
    "model.add(crf)\n",
    "#     model.summary()\n",
    "model.compile('adam', loss=crf.loss_function, metrics=[crf.accuracy])\n",
    "# model.compile('adam', loss=losses.crf_loss, metrics=[metrics.crf_accuracy])"
   ]
  },
  {
   "cell_type": "code",
   "execution_count": 8,
   "metadata": {},
   "outputs": [
    {
     "name": "stdout",
     "output_type": "stream",
     "text": [
      "WARNING:tensorflow:From /usr/local/lib/python3.6/dist-packages/keras/backend/tensorflow_backend.py:517: The name tf.placeholder is deprecated. Please use tf.compat.v1.placeholder instead.\n",
      "\n",
      "WARNING:tensorflow:From /usr/local/lib/python3.6/dist-packages/keras/backend/tensorflow_backend.py:4138: The name tf.random_uniform is deprecated. Please use tf.random.uniform instead.\n",
      "\n",
      "WARNING:tensorflow:From /usr/local/lib/python3.6/dist-packages/keras/backend/tensorflow_backend.py:133: The name tf.placeholder_with_default is deprecated. Please use tf.compat.v1.placeholder_with_default instead.\n",
      "\n",
      "WARNING:tensorflow:From /usr/local/lib/python3.6/dist-packages/tensorflow/python/ops/math_ops.py:2403: add_dispatch_support.<locals>.wrapper (from tensorflow.python.ops.array_ops) is deprecated and will be removed in a future version.\n",
      "Instructions for updating:\n",
      "Use tf.where in 2.0, which has the same broadcast rule as np.where\n",
      "WARNING:tensorflow:From /usr/local/lib/python3.6/dist-packages/keras/backend/tensorflow_backend.py:986: The name tf.assign_add is deprecated. Please use tf.compat.v1.assign_add instead.\n",
      "\n",
      "Epoch 1/1\n",
      "2/2 [==============================] - 1s 306ms/step - loss: 0.0991 - crf_viterbi_accuracy: 1.0000\n"
     ]
    }
   ],
   "source": [
    "history = model.fit(xs, ys,batch_size=2,epochs=1)"
   ]
  },
  {
   "cell_type": "code",
   "execution_count": 9,
   "metadata": {},
   "outputs": [
    {
     "data": {
      "text/plain": [
       "(2, 5, 2)"
      ]
     },
     "execution_count": 9,
     "metadata": {},
     "output_type": "execute_result"
    }
   ],
   "source": [
    "# model.fit(xs,res)\n",
    "\n",
    "model.predict(xs).shape"
   ]
  },
  {
   "cell_type": "code",
   "execution_count": 10,
   "metadata": {},
   "outputs": [
    {
     "name": "stdout",
     "output_type": "stream",
     "text": [
      "2/2 [==============================] - 0s 78ms/step\n"
     ]
    },
    {
     "data": {
      "text/plain": [
       "[0.09824888408184052, 1.0]"
      ]
     },
     "execution_count": 10,
     "metadata": {},
     "output_type": "execute_result"
    }
   ],
   "source": [
    "model.evaluate(xs,ys)"
   ]
  },
  {
   "cell_type": "code",
   "execution_count": 23,
   "metadata": {},
   "outputs": [
    {
     "data": {
      "text/plain": [
       "7"
      ]
     },
     "execution_count": 23,
     "metadata": {},
     "output_type": "execute_result"
    }
   ],
   "source": [
    "chunk_tags = ['O', 'B-PER', 'I-PER', 'B-LOC', 'I-LOC', \"B-ORG\", \"I-ORG\"]\n",
    "len(chunk_tags)"
   ]
  },
  {
   "cell_type": "code",
   "execution_count": 11,
   "metadata": {},
   "outputs": [
    {
     "data": {
      "text/plain": [
       "\u001b[0;31mSignature:\u001b[0m \u001b[0mmetrics\u001b[0m\u001b[0;34m.\u001b[0m\u001b[0mcrf_accuracy\u001b[0m\u001b[0;34m(\u001b[0m\u001b[0my_true\u001b[0m\u001b[0;34m,\u001b[0m \u001b[0my_pred\u001b[0m\u001b[0;34m)\u001b[0m\u001b[0;34m\u001b[0m\u001b[0m\n",
       "\u001b[0;31mDocstring:\u001b[0m Ge default accuracy based on CRF `test_mode`.\n",
       "\u001b[0;31mFile:\u001b[0m      /usr/local/lib/python3.6/dist-packages/keras_contrib-2.0.8-py3.6.egg/keras_contrib/metrics/crf_accuracies.py\n",
       "\u001b[0;31mType:\u001b[0m      function\n"
      ]
     },
     "metadata": {},
     "output_type": "display_data"
    }
   ],
   "source": [
    "from keras_contrib import losses,metrics\n",
    "metrics.crf_accuracy?"
   ]
  },
  {
   "cell_type": "markdown",
   "metadata": {},
   "source": [
    "### LSTM+CRF"
   ]
  },
  {
   "cell_type": "code",
   "execution_count": 31,
   "metadata": {},
   "outputs": [],
   "source": [
    "\n",
    "from keras.models import Sequential\n",
    "from keras_contrib.layers import CRF\n",
    "from keras.layers import Embedding, Bidirectional, LSTM\n",
    "lstm_crf_model = Sequential()\n",
    "# model.add(Embedding(len(vocab), EMBED_DIM, mask_zero=True))  # Random embedding\n",
    "lstm_crf_model.add(Bidirectional(LSTM(100 // 2, return_sequences=True))) # \n",
    "# lstm_crf_model.add(TimeDistributed(Dense(len(chunk_tags))))\n",
    "crf = CRF(len(chunk_tags), sparse_target=True) \n",
    "lstm_crf_model.add(crf)\n",
    "#     model.summary()\n",
    "lstm_crf_model.compile('adam', loss=crf.loss_function, metrics=[crf.accuracy])"
   ]
  },
  {
   "cell_type": "code",
   "execution_count": 32,
   "metadata": {},
   "outputs": [
    {
     "data": {
      "text/plain": [
       "array([[[0., 0., 1., 0., 0., 0., 0.],\n",
       "        [0., 0., 0., 0., 0., 0., 1.],\n",
       "        [0., 0., 1., 0., 0., 0., 0.],\n",
       "        [0., 0., 0., 0., 1., 0., 0.],\n",
       "        [0., 0., 0., 0., 0., 1., 0.]],\n",
       "\n",
       "       [[0., 0., 1., 0., 0., 0., 0.],\n",
       "        [0., 0., 0., 0., 0., 0., 1.],\n",
       "        [0., 0., 1., 0., 0., 0., 0.],\n",
       "        [0., 0., 0., 0., 1., 0., 0.],\n",
       "        [0., 0., 0., 0., 0., 1., 0.]]], dtype=float32)"
      ]
     },
     "execution_count": 32,
     "metadata": {},
     "output_type": "execute_result"
    }
   ],
   "source": [
    "lstm_crf_model.predict(xs)"
   ]
  },
  {
   "cell_type": "code",
   "execution_count": null,
   "metadata": {},
   "outputs": [],
   "source": []
  }
 ],
 "metadata": {
  "kernelspec": {
   "display_name": "Python 3",
   "language": "python",
   "name": "python3"
  },
  "language_info": {
   "codemirror_mode": {
    "name": "ipython",
    "version": 3
   },
   "file_extension": ".py",
   "mimetype": "text/x-python",
   "name": "python",
   "nbconvert_exporter": "python",
   "pygments_lexer": "ipython3",
   "version": "3.6.5"
  }
 },
 "nbformat": 4,
 "nbformat_minor": 4
}
