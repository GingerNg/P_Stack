{
 "cells": [
  {
   "cell_type": "markdown",
   "metadata": {},
   "source": [
    "functools 模块可以说主要是为函数式编程而设计，用于增强函数功能。\n",
    "\n",
    "functools模块用以为可调用对象（callable objects）定义高阶函数或操作"
   ]
  },
  {
   "cell_type": "code",
   "execution_count": 5,
   "metadata": {},
   "outputs": [],
   "source": [
    "# 偏函数\n",
    "# functools.partial的作用就是，把一个函数的某些参数给固定住（也就是设置默认值），返回一个新的函数，调用这个新函数会更简单。\n",
    "from functools import partial"
   ]
  },
  {
   "cell_type": "code",
   "execution_count": 6,
   "metadata": {},
   "outputs": [
    {
     "output_type": "stream",
     "name": "stdout",
     "text": "41\n"
    }
   ],
   "source": [
    "def f1(input,base):\n",
    "    return base+input\n",
    "\n",
    "f2 = partial(f1, base=18)\n",
    "print(f2(23))"
   ]
  },
  {
   "cell_type": "code",
   "execution_count": 7,
   "metadata": {},
   "outputs": [
    {
     "output_type": "stream",
     "name": "stdout",
     "text": "[0, 1, 1, 2, 3, 5, 8, 13, 21, 34]\n"
    }
   ],
   "source": [
    "# 允许我们将一个函数的返回值快速地缓存或取消缓存。\n",
    "# 该装饰器用于缓存函数的调用结果，对于需要多次调用的函数，而且每次调用参数都相同，则可以用该装饰器缓存调用结果，从而加快程序运行。\n",
    "# 该装饰器会将不同的调用结果缓存在内存中，因此需要注意内存占用问题。\n",
    "from functools import lru_cache\n",
    "@lru_cache(maxsize=30)  # maxsize参数告诉lru_cache缓存最近多少个返回值\n",
    "def fib(n):\n",
    "    if n < 2:\n",
    "        return n\n",
    "    return fib(n-1) + fib(n-2)\n",
    "print([fib(n) for n in range(10)])\n",
    "fib.cache_clear()   # 清空缓存"
   ]
  },
  {
   "cell_type": "code",
   "execution_count": 8,
   "metadata": {},
   "outputs": [],
   "source": [
    "# 单分发器， Python3.4新增，用于实现泛型函数。\n",
    "# 根据单一参数的类型来判断调用哪个函数。"
   ]
  },
  {
   "cell_type": "code",
   "execution_count": 9,
   "metadata": {},
   "outputs": [
    {
     "output_type": "stream",
     "name": "stdout",
     "text": "String：i am is hubo\n123\n0 a\n1 b\n2 c\nfloat, tuple\n{<class 'object'>: <function fun at 0x7f2159b25bf8>, <class 'int'>: <function _ at 0x7f21594951e0>, <class 'list'>: <function _ at 0x7f2159495268>, <class 'tuple'>: <function _ at 0x7f2159495378>, <class 'float'>: <function _ at 0x7f2159495378>}\n<function _ at 0x7f21594951e0>\n"
    }
   ],
   "source": [
    "from functools import singledispatch\n",
    "@singledispatch\n",
    "def fun(text):\n",
    "\tprint('String：' + text)\n",
    "\n",
    "@fun.register(int)\n",
    "def _(text):\n",
    "\tprint(text)\n",
    "\n",
    "@fun.register(list)\n",
    "def _(text):\n",
    "\tfor k, v in enumerate(text):\n",
    "\t\tprint(k, v)\n",
    "\n",
    "@fun.register(float)\n",
    "@fun.register(tuple)\n",
    "def _(text):\n",
    "\tprint('float, tuple')\n",
    "fun('i am is hubo')\n",
    "fun(123)\n",
    "fun(['a','b','c'])\n",
    "fun(1.23)\n",
    "print(fun.registry)\t# 所有的泛型函数\n",
    "print(fun.registry[int])\t# 获取int的泛型函数\n"
   ]
  },
  {
   "cell_type": "code",
   "execution_count": null,
   "metadata": {},
   "outputs": [],
   "source": []
  }
 ],
 "metadata": {
  "language_info": {
   "codemirror_mode": {
    "name": "ipython",
    "version": 3
   },
   "file_extension": ".py",
   "mimetype": "text/x-python",
   "name": "python",
   "nbconvert_exporter": "python",
   "pygments_lexer": "ipython3",
   "version": "3.6.9-final"
  },
  "orig_nbformat": 2,
  "kernelspec": {
   "name": "python36964bitb377107951a642b890c3e40487126bca",
   "display_name": "Python 3.6.9 64-bit"
  }
 },
 "nbformat": 4,
 "nbformat_minor": 2
}