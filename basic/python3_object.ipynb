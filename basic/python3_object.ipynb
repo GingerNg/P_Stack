{
 "cells": [
  {
   "cell_type": "markdown",
   "metadata": {},
   "source": [
    "### <center>面向对象</center>"
   ]
  },
  {
   "cell_type": "code",
   "execution_count": 7,
   "metadata": {},
   "outputs": [
    {
     "output_type": "execute_result",
     "data": {
      "text/plain": "{1, 2}"
     },
     "metadata": {},
     "execution_count": 7
    }
   ],
   "source": [
    "ss = set([1,2,1])\n",
    "ss.add(1)\n",
    "ss"
   ]
  },
  {
   "cell_type": "code",
   "execution_count": 6,
   "metadata": {},
   "outputs": [
    {
     "output_type": "execute_result",
     "data": {
      "text/plain": "(1, 2, 3, 1)"
     },
     "metadata": {},
     "execution_count": 6
    }
   ],
   "source": [
    "tuple([1,2,3,1])  # 不可变"
   ]
  },
  {
   "cell_type": "markdown",
   "metadata": {},
   "source": [
    "### Methods"
   ]
  },
  {
   "cell_type": "code",
   "execution_count": 1,
   "metadata": {},
   "outputs": [
    {
     "output_type": "stream",
     "name": "stdout",
     "text": "executing class_foo(<class '__main__.A'>,7)\nexecuting foo(<__main__.A object at 0x7f8b7c8ce0f0>,8)\nexecuting static_foo(9)\nexecuting class_foo(<class '__main__.A'>,10)\nexecuting static_foo(11)\n"
    }
   ],
   "source": [
    "def foo(x):\n",
    "    print(\"executing foo(%s)\" % (x))\n",
    "\n",
    "\n",
    "class A(object):\n",
    "    def foo(self, x):\n",
    "        print(\"executing foo(%s,%s)\" % (self, x))\n",
    "\n",
    "    @classmethod\n",
    "    def class_foo(cls, x):\n",
    "        print(\"executing class_foo(%s,%s)\" % (cls, x))\n",
    "\n",
    "    @staticmethod\n",
    "    def static_foo(x):\n",
    "        print(\"executing static_foo(%s)\" % x)\n",
    "\n",
    "\n",
    "a = A()\n",
    "a.class_foo(7)\n",
    "a.foo(8)\n",
    "a.static_foo(9)\n",
    "\n",
    "A.class_foo(10)\n",
    "A.static_foo(11)"
   ]
  },
  {
   "cell_type": "markdown",
   "metadata": {},
   "source": [
    "#### 对象转字典"
   ]
  },
  {
   "cell_type": "code",
   "execution_count": 1,
   "metadata": {},
   "outputs": [],
   "source": [
    "class Student:\n",
    "    name = ''\n",
    "    age = 0\n",
    "\n",
    "    def __init__(self, name, age):\n",
    "        self._name = name\n",
    "        self.age = age\n",
    "        \n",
    "    def to_json(self):\n",
    "        return class_to_dict(self)\n",
    "stu = Student('', 20)"
   ]
  },
  {
   "cell_type": "code",
   "execution_count": 3,
   "metadata": {},
   "outputs": [
    {
     "output_type": "execute_result",
     "data": {
      "text/plain": "{'_name': '', 'age': 20}"
     },
     "metadata": {},
     "execution_count": 3
    }
   ],
   "source": [
    "stu.to_json()"
   ]
  },
  {
   "cell_type": "code",
   "execution_count": 2,
   "metadata": {},
   "outputs": [
    {
     "data": {
      "text/plain": [
       "[{'_name': 'XXX', 'age': 20}, {'_name': 'XXX', 'age': 20}]"
      ]
     },
     "execution_count": 2,
     "metadata": {},
     "output_type": "execute_result"
    }
   ],
   "source": [
    "def convert_to_dict_list(objs):\n",
    "    '''把对象列表转换为字典列表'''\n",
    "    obj_arr = []\n",
    "    for o in objs:\n",
    "        #把Object对象转换成Dict对象\n",
    "        dict = {}\n",
    "        dict.update(o.__dict__)\n",
    "        obj_arr.append(dict)\n",
    "    return obj_arr\n",
    "convert_to_dict_list([stu, stu])"
   ]
  },
  {
   "cell_type": "code",
   "execution_count": 2,
   "metadata": {},
   "outputs": [
    {
     "output_type": "execute_result",
     "data": {
      "text/plain": "[{'_name': '', 'age': 20}, {'_name': '', 'age': 20}]"
     },
     "metadata": {},
     "execution_count": 2
    }
   ],
   "source": [
    "def class_to_dict(obj):\n",
    "    '''把对象(支持单个对象、list、set)转换成字典'''\n",
    "    is_list = obj.__class__ == [].__class__\n",
    "    is_set = obj.__class__ == set().__class__\n",
    "    if is_list or is_set:\n",
    "        obj_arr = []\n",
    "        for o in obj:\n",
    "            #把Object对象转换成Dict对象\n",
    "            dict = {}\n",
    "            dict.update(o.__dict__)\n",
    "            obj_arr.append(dict)\n",
    "        return obj_arr\n",
    "    else:\n",
    "        dict = {}\n",
    "        dict.update(obj.__dict__)\n",
    "        return dict\n",
    "class_to_dict([stu, stu])"
   ]
  },
  {
   "cell_type": "code",
   "execution_count": 5,
   "metadata": {},
   "outputs": [
    {
     "data": {
      "text/plain": [
       "{'name': 'XXX', 'age': 20}"
      ]
     },
     "execution_count": 5,
     "metadata": {},
     "output_type": "execute_result"
    }
   ],
   "source": [
    "class_to_dict(stu)"
   ]
  },
  {
   "cell_type": "markdown",
   "metadata": {},
   "source": [
    "#### 字典转对象"
   ]
  },
  {
   "cell_type": "code",
   "execution_count": null,
   "metadata": {},
   "outputs": [],
   "source": []
  },
  {
   "cell_type": "code",
   "execution_count": 6,
   "metadata": {},
   "outputs": [
    {
     "data": {
      "text/plain": [
       "[1, 2, 3, 4, 5]"
      ]
     },
     "execution_count": 6,
     "metadata": {},
     "output_type": "execute_result"
    }
   ],
   "source": [
    "def str2list(string,type=str):\n",
    "    return list(map(type, string))\n",
    "str2list('12345',int)"
   ]
  },
  {
   "cell_type": "code",
   "execution_count": 7,
   "metadata": {},
   "outputs": [
    {
     "data": {
      "text/plain": [
       "{'name': 'XXX', 'age': 20}"
      ]
     },
     "execution_count": 7,
     "metadata": {},
     "output_type": "execute_result"
    }
   ],
   "source": [
    "# 返回对象object的属性和属性值的字典对象，如果没有参数，就打印当前调用位置的属性和属性值 类似 locals()\n",
    "vars(stu) "
   ]
  },
  {
   "cell_type": "code",
   "execution_count": 8,
   "metadata": {},
   "outputs": [
    {
     "data": {
      "text/plain": [
       "{'name': 'XXX', 'age': 20}"
      ]
     },
     "execution_count": 8,
     "metadata": {},
     "output_type": "execute_result"
    }
   ],
   "source": [
    "stu.__dict__"
   ]
  },
  {
   "cell_type": "code",
   "execution_count": 9,
   "metadata": {},
   "outputs": [
    {
     "data": {
      "text/plain": [
       "{'name': 'XXX', 'age': 20}"
      ]
     },
     "execution_count": 9,
     "metadata": {},
     "output_type": "execute_result"
    }
   ],
   "source": [
    "import collections\n",
    "try:\n",
    "  # Python 2.7+\n",
    "  basestring\n",
    "except NameError:\n",
    "  # Python 3.3+\n",
    "  basestring = str\n",
    "    \n",
    "def objtodict(obj):\n",
    "  \"\"\" \n",
    "  Recursively convert a Python object graph to sequences (lists)\n",
    "  and mappings (dicts) of primitives (bool, int, float, string, ...)\n",
    "  \"\"\"\n",
    "  if isinstance(obj, basestring):\n",
    "    return obj\n",
    "  elif isinstance(obj, dict):\n",
    "    return dict((key, objtodict(val)) for key, val in obj.items())\n",
    "  elif isinstance(obj, collections.Iterable):\n",
    "    return [todict(val) for val in obj]\n",
    "  elif hasattr(obj, '__dict__'):\n",
    "      # var():如果默认不输入参数，就打印当前调用位置的属性和属性值，相当于locals()的功能。\n",
    "    return objtodict(vars(obj))  # vars():本函数是实现返回对象object的属性和属性值的字典对象\n",
    "  elif hasattr(obj, '__slots__'):\n",
    "    return objtodict(dict((name, getattr(obj, name)) for name in getattr(obj, '__slots__')))\n",
    "  return obj\n",
    "objtodict(stu)"
   ]
  },
  {
   "cell_type": "markdown",
   "metadata": {},
   "source": [
    "### __getitem__()\n",
    "如果在类中定义了__getitem__()方法，那么他的实例对象（假设为P）就可以这样P[key]取值。\n",
    "当实例对象做P[key]运算时，就会调用类中的__getitem__()方法。"
   ]
  },
  {
   "cell_type": "code",
   "execution_count": 11,
   "metadata": {},
   "outputs": [],
   "source": [
    "class DataTest:\n",
    "    def __init__(self, id, address):\n",
    "        self.id = id\n",
    "        self.address = address\n",
    "        self.d = {\"id\": self.id,\n",
    "                  \"add\": self.address\n",
    "                  }\n",
    "\n",
    "    def __getitem__(self, key):\n",
    "        # return \"hello\"\n",
    "        return self.d.get(key, 2)\n",
    "data = DataTest(1, \"192.168.2.11\")"
   ]
  },
  {
   "cell_type": "code",
   "execution_count": 12,
   "metadata": {},
   "outputs": [
    {
     "data": {
      "text/plain": [
       "2"
      ]
     },
     "execution_count": 12,
     "metadata": {},
     "output_type": "execute_result"
    }
   ],
   "source": [
    "data[2]"
   ]
  },
  {
   "cell_type": "code",
   "execution_count": 13,
   "metadata": {},
   "outputs": [
    {
     "data": {
      "text/plain": [
       "'192.168.2.11'"
      ]
     },
     "execution_count": 13,
     "metadata": {},
     "output_type": "execute_result"
    }
   ],
   "source": [
    "data[\"add\"]"
   ]
  },
  {
   "cell_type": "markdown",
   "metadata": {},
   "source": [
    "### object property"
   ]
  },
  {
   "cell_type": "code",
   "execution_count": 2,
   "metadata": {},
   "outputs": [],
   "source": [
    "class O(object):\n",
    "    def __init__(self):\n",
    "        self.o = 1\n",
    "oo = O()"
   ]
  },
  {
   "cell_type": "code",
   "execution_count": 3,
   "metadata": {},
   "outputs": [],
   "source": [
    "def prn_obj(obj):\n",
    "    print ('\\n'.join(['%s:%s' % item for item in obj.__dict__.items()]))"
   ]
  },
  {
   "cell_type": "code",
   "execution_count": 4,
   "metadata": {},
   "outputs": [
    {
     "name": "stdout",
     "output_type": "stream",
     "text": [
      "o:1\n"
     ]
    }
   ],
   "source": [
    "prn_obj(oo)"
   ]
  },
  {
   "cell_type": "markdown",
   "metadata": {},
   "source": [
    "### slots\n",
    "作用： 限定一个类创建的实例只能有固定的实例属性(实例变量)\n",
    "\n",
    "当一个类需要创建大量实例时，可以通过__slots__声明实例所需要的属性\n",
    "例如，class Foo(object): __slots__ = ['foo']。这样做带来以下优点：\n",
    "更快的属性访问速度\n",
    "减少内存消耗\n",
    "\n",
    "默认情况下，访问一个实例的属性是通过访问该实例的__dict__来实现的。如访问a.x就相当于访问a.__dict__['x']\n",
    "\n",
    "Python内置的字典本质是一个哈希表，它是一种用空间换时间的数据结构。为了解决冲突的问题，当字典使用量超过2/3时，Python会根据情况进行2-4倍的扩容。\n",
    "由此可预见，取消__dict__的使用可以大幅减少实例的空间消耗。"
   ]
  },
  {
   "cell_type": "code",
   "execution_count": 14,
   "metadata": {},
   "outputs": [],
   "source": [
    "class Person(object):\n",
    "    __slots__ = (\"name\", \"age\")"
   ]
  },
  {
   "cell_type": "code",
   "execution_count": 15,
   "metadata": {},
   "outputs": [],
   "source": [
    "P = Person()"
   ]
  },
  {
   "cell_type": "code",
   "execution_count": 16,
   "metadata": {},
   "outputs": [
    {
     "ename": "AttributeError",
     "evalue": "'Person' object has no attribute 'score'",
     "output_type": "error",
     "traceback": [
      "\u001b[0;31m---------------------------------------------------------------------------\u001b[0m",
      "\u001b[0;31mAttributeError\u001b[0m                            Traceback (most recent call last)",
      "\u001b[0;32m<ipython-input-16-98ac3f846aba>\u001b[0m in \u001b[0;36m<module>\u001b[0;34m\u001b[0m\n\u001b[0;32m----> 1\u001b[0;31m \u001b[0mP\u001b[0m\u001b[0;34m.\u001b[0m\u001b[0mscore\u001b[0m \u001b[0;34m=\u001b[0m \u001b[0;36m100\u001b[0m\u001b[0;34m\u001b[0m\u001b[0m\n\u001b[0m",
      "\u001b[0;31mAttributeError\u001b[0m: 'Person' object has no attribute 'score'"
     ]
    }
   ],
   "source": [
    "P.score = 100"
   ]
  },
  {
   "cell_type": "markdown",
   "metadata": {},
   "source": [
    "### type\n",
    "类的定义过程，其实是type类型实例化的过程。\n",
    "和 dict 类似，type 也是一个工厂构造函数，调用其将返回 一个type类型的实例（即 类）。\n",
    "\n",
    "\n",
    "type 有两个重载版本：\n",
    "- type(object)，即我们最常用的版本。\n",
    "- type(name, bases, dict)，一个更强大的版本。通过指定 类名称（name）、父类列表（bases）和 属性字典（dict） 动态合成一个类。"
   ]
  },
  {
   "cell_type": "code",
   "execution_count": 17,
   "metadata": {},
   "outputs": [],
   "source": [
    "Integer = type( 'Integer', \n",
    "               (int, ), \n",
    "               {'name': 'my integer',\n",
    "                'increase': lambda self, num: num + 1    # 很酷的写法，不是么\n",
    "                }\n",
    "              )"
   ]
  },
  {
   "cell_type": "code",
   "execution_count": 18,
   "metadata": {},
   "outputs": [
    {
     "data": {
      "text/plain": [
       "3"
      ]
     },
     "execution_count": 18,
     "metadata": {},
     "output_type": "execute_result"
    }
   ],
   "source": [
    "integer = Integer()\n",
    "integer.increase(2)"
   ]
  },
  {
   "cell_type": "markdown",
   "metadata": {},
   "source": [
    "### meta_class\n",
    "？？？"
   ]
  },
  {
   "cell_type": "code",
   "execution_count": 31,
   "metadata": {},
   "outputs": [],
   "source": [
    "sensitive_words_list = ['asshole', 'fuck', 'shit']\n",
    "def detect_sensitive_words(string):\n",
    "    '''检测敏感词汇'''\n",
    "    words_detected = filter(lambda word: word in string.lower(), sensitive_words_list)\n",
    "    if words_detected:\n",
    "        raise NameError('Sensitive words {0} detected in the string \"{1}\".'\n",
    "            .format(\n",
    "                ', '.join(map(lambda s: '\"%s\"' % s, words_detected)),\n",
    "                string\n",
    "            )\n",
    "        )\n",
    "# detect_sensitive_words(\"shitcode\")"
   ]
  },
  {
   "cell_type": "code",
   "execution_count": 32,
   "metadata": {},
   "outputs": [],
   "source": [
    "class CleanerMeta(type):\n",
    "    def __new__(cls, class_name, bases, attrs):   # 可以通过重载元类的 __new__ 方法，修改 类定义 的行为\n",
    "        detect_sensitive_words(class_name)  # 检查类名\n",
    "        map(detect_sensitive_words, attrs.iterkeys())  #检查属性名\n",
    "        print (\"Well done! You are a polite coder!\") # 如无异常，输出祝贺消息\n",
    "        return super(CleanerMeta, cls).__new__(cls, class_name, bases, attrs)\n",
    "        # 重要！这行一定不能漏！！这回调用内建的类构造器来构造类，否则定义好的类将会变成 None"
   ]
  },
  {
   "cell_type": "code",
   "execution_count": 33,
   "metadata": {},
   "outputs": [],
   "source": [
    "class APIBase(object):\n",
    "    __metaclass__ = CleanerMeta   # Integer = IntMeta('Integer', (int, ), {})"
   ]
  },
  {
   "cell_type": "code",
   "execution_count": 34,
   "metadata": {},
   "outputs": [],
   "source": [
    "class ImAGoodBoy(APIBase):\n",
    "    a_polite_attribute = 1\n",
    "imAGoodBoy = ImAGoodBoy()"
   ]
  },
  {
   "cell_type": "code",
   "execution_count": 38,
   "metadata": {},
   "outputs": [],
   "source": [
    "class PretendToBePolite(APIBase):\n",
    "    def __fuck_your_asshole(self):\n",
    "        pass\n",
    "pretendToBePolite = PretendToBePolite()"
   ]
  },
  {
   "cell_type": "code",
   "execution_count": 36,
   "metadata": {},
   "outputs": [],
   "source": [
    "class FuckMyBoss(APIBase):\n",
    "    pass\n",
    "f = FuckMyBoss()"
   ]
  },
  {
   "cell_type": "markdown",
   "metadata": {},
   "source": [
    "### eval\n",
    "eval() 函数用来执行一个字符串表达式，并返回表达式的值。"
   ]
  },
  {
   "cell_type": "code",
   "execution_count": 7,
   "metadata": {},
   "outputs": [
    {
     "name": "stdout",
     "output_type": "stream",
     "text": [
      "{'1': '2'}\n",
      "{'1': '2'}\n"
     ]
    }
   ],
   "source": [
    "d = str({\n",
    "    \"1\":\"2\"\n",
    "})\n",
    "print(d)\n",
    "dd = eval(d)\n",
    "print(dd)"
   ]
  },
  {
   "cell_type": "code",
   "execution_count": 10,
   "metadata": {},
   "outputs": [
    {
     "data": {
      "text/plain": [
       "21"
      ]
     },
     "execution_count": 10,
     "metadata": {},
     "output_type": "execute_result"
    }
   ],
   "source": [
    "eval(\"3*7\")"
   ]
  },
  {
   "cell_type": "code",
   "execution_count": 6,
   "metadata": {},
   "outputs": [
    {
     "name": "stdout",
     "output_type": "stream",
     "text": [
      "Hello \n",
      " World!\n",
      "'Hello \\n World!'\n"
     ]
    }
   ],
   "source": [
    "s = \"Hello \\n World!\"\n",
    "print(s)\n",
    "print(repr(s))  # repr() 函数将对象转化为供解释器读取的形式。"
   ]
  },
  {
   "cell_type": "markdown",
   "metadata": {},
   "source": [
    "### is和==的比较\n",
    "- is也被叫做同一性运算符，这个运算符比较判断的是对象间的唯一身份标识，也就是id是否相同\n",
    "- ==是python标准操作符中的比较操作符，用来比较判断两个对象的value(值)是否相等"
   ]
  },
  {
   "cell_type": "code",
   "execution_count": 9,
   "metadata": {},
   "outputs": [
    {
     "data": {
      "text/plain": [
       "True"
      ]
     },
     "execution_count": 9,
     "metadata": {},
     "output_type": "execute_result"
    }
   ],
   "source": [
    "float(10) == float(10.0)"
   ]
  },
  {
   "cell_type": "code",
   "execution_count": 10,
   "metadata": {},
   "outputs": [
    {
     "data": {
      "text/plain": [
       "False"
      ]
     },
     "execution_count": 10,
     "metadata": {},
     "output_type": "execute_result"
    }
   ],
   "source": [
    "10 is 10.0"
   ]
  },
  {
   "cell_type": "code",
   "execution_count": 11,
   "metadata": {},
   "outputs": [
    {
     "data": {
      "text/plain": [
       "True"
      ]
     },
     "execution_count": 11,
     "metadata": {},
     "output_type": "execute_result"
    }
   ],
   "source": [
    "10==10.0"
   ]
  },
  {
   "cell_type": "code",
   "execution_count": 15,
   "metadata": {},
   "outputs": [
    {
     "data": {
      "text/plain": [
       "140615773838552"
      ]
     },
     "execution_count": 15,
     "metadata": {},
     "output_type": "execute_result"
    }
   ],
   "source": [
    "s2 = 10.0\n",
    "id(s2)  # id() 内存地址"
   ]
  },
  {
   "cell_type": "code",
   "execution_count": 14,
   "metadata": {},
   "outputs": [
    {
     "data": {
      "text/plain": [
       "140615773838432"
      ]
     },
     "execution_count": 14,
     "metadata": {},
     "output_type": "execute_result"
    }
   ],
   "source": [
    "s1 = 10.0\n",
    "id(s1)"
   ]
  },
  {
   "cell_type": "code",
   "execution_count": 16,
   "metadata": {},
   "outputs": [
    {
     "data": {
      "text/plain": [
       "False"
      ]
     },
     "execution_count": 16,
     "metadata": {},
     "output_type": "execute_result"
    }
   ],
   "source": [
    "s1 is s2"
   ]
  },
  {
   "cell_type": "code",
   "execution_count": null,
   "metadata": {},
   "outputs": [],
   "source": []
  }
 ],
 "metadata": {
  "kernelspec": {
   "display_name": "Python 3",
   "language": "python",
   "name": "python3"
  },
  "language_info": {
   "codemirror_mode": {
    "name": "ipython",
    "version": 3
   },
   "file_extension": ".py",
   "mimetype": "text/x-python",
   "name": "python",
   "nbconvert_exporter": "python",
   "pygments_lexer": "ipython3",
   "version": "3.6.9-final"
  }
 },
 "nbformat": 4,
 "nbformat_minor": 4
}