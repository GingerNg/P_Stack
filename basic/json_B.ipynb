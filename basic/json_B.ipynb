{
 "nbformat": 4,
 "nbformat_minor": 2,
 "metadata": {
  "language_info": {
   "name": "python",
   "codemirror_mode": {
    "name": "ipython",
    "version": 3
   },
   "version": "3.6.9-final"
  },
  "orig_nbformat": 2,
  "file_extension": ".py",
  "mimetype": "text/x-python",
  "name": "python",
  "npconvert_exporter": "python",
  "pygments_lexer": "ipython3",
  "version": 3,
  "kernelspec": {
   "name": "python36964bitb377107951a642b890c3e40487126bca",
   "display_name": "Python 3.6.9 64-bit"
  }
 },
 "cells": [
  {
   "cell_type": "code",
   "execution_count": null,
   "metadata": {},
   "outputs": [],
   "source": []
  },
  {
   "cell_type": "markdown",
   "metadata": {},
   "source": [
    "json.dumps 进行序列化时，默认使用ascii编码， print json.dumps(dic)输出unicode编码的结果： {\"a\": \"\\u4e2d\\u56fd\"}\n",
    "\n",
    "json.dumps(dic,ensure_ascii=False)，不使用ascii编码，输出结果为：{\"a\": \"中国\"}"
   ]
  },
  {
   "cell_type": "markdown",
   "metadata": {},
   "source": [
    "- dump：将一个对象序列化存入文件\n",
    "- dump()的第一个参数是要序列化的对象，第二个参数是打开的文件句柄\n",
    "- 注意打开文件时加上以UTF-8编码打开\n",
    "- 运行此文件之后在统计目录下会有一个data.json文件，打开之后就可以看到json类型的文件应该是怎样定义的"
   ]
  },
  {
   "cell_type": "code",
   "execution_count": 13,
   "metadata": {},
   "outputs": [],
   "source": [
    "def object_json_file(file_json, data):\n",
    "    # with open(file_json, \"w\", encoding=\"UTF-8\") as f_dump:   # python2.7不支持encoding这个参数\n",
    "    with open(file_json, \"w\") as f_dump:\n",
    "        json.dump(data, f_dump, ensure_ascii=False)  # Serialize\n",
    "\n",
    "#  json-file --> dict\n",
    "\n",
    "\n",
    "def json_file_to_obj(file_json):\n",
    "    with open(file_json, \"r\") as f_dump:\n",
    "        load = json.load(f_dump)\n",
    "        return load"
   ]
  },
  {
   "cell_type": "code",
   "execution_count": 5,
   "metadata": {},
   "outputs": [],
   "source": [
    "import json"
   ]
  },
  {
   "cell_type": "code",
   "execution_count": 9,
   "metadata": {},
   "outputs": [
    {
     "name": "stdout",
     "output_type": "stream",
     "text": "<class 'str'>\n{\"spam\": \"foo\", \"parrot\": 42}\n<class 'dict'>\n"
    }
   ],
   "source": [
    "data = {\"spam\": \"foo\", \"parrot\": 42}  # dict\n",
    "in_json = json.dumps(data)  # Encode the data  , object--> json\n",
    "print(type(in_json))  # str\n",
    "print(in_json)\n",
    "print(type(json.loads(in_json)))"
   ]
  },
  {
   "cell_type": "code",
   "execution_count": 12,
   "metadata": {},
   "outputs": [
    {
     "ename": "TypeError",
     "evalue": "__init__() got an unexpected keyword argument 'encoding'",
     "output_type": "error",
     "traceback": [
      "\u001b[0;31m---------------------------------------------------------------------------\u001b[0m",
      "\u001b[0;31mTypeError\u001b[0m                                 Traceback (most recent call last)",
      "\u001b[0;32m<ipython-input-12-b626090fb38f>\u001b[0m in \u001b[0;36m<module>\u001b[0;34m\u001b[0m\n\u001b[0;32m----> 1\u001b[0;31m \u001b[0min_json_2\u001b[0m \u001b[0;34m=\u001b[0m \u001b[0mjson\u001b[0m\u001b[0;34m.\u001b[0m\u001b[0mdumps\u001b[0m\u001b[0;34m(\u001b[0m\u001b[0mdata\u001b[0m\u001b[0;34m,\u001b[0m \u001b[0msort_keys\u001b[0m\u001b[0;34m=\u001b[0m\u001b[0;32mTrue\u001b[0m\u001b[0;34m,\u001b[0m \u001b[0mindent\u001b[0m\u001b[0;34m=\u001b[0m\u001b[0;36m4\u001b[0m\u001b[0;34m,\u001b[0m \u001b[0mseparators\u001b[0m\u001b[0;34m=\u001b[0m\u001b[0;34m(\u001b[0m\u001b[0;34m','\u001b[0m\u001b[0;34m,\u001b[0m \u001b[0;34m': '\u001b[0m\u001b[0;34m)\u001b[0m\u001b[0;34m,\u001b[0m \u001b[0mencoding\u001b[0m\u001b[0;34m=\u001b[0m\u001b[0;34m\"gbk\"\u001b[0m\u001b[0;34m,\u001b[0m \u001b[0mensure_ascii\u001b[0m\u001b[0;34m=\u001b[0m\u001b[0;32mTrue\u001b[0m\u001b[0;34m)\u001b[0m\u001b[0;34m\u001b[0m\u001b[0;34m\u001b[0m\u001b[0m\n\u001b[0m\u001b[1;32m      2\u001b[0m \u001b[0min_json_2\u001b[0m\u001b[0;34m\u001b[0m\u001b[0;34m\u001b[0m\u001b[0m\n",
      "\u001b[0;32m/usr/lib/python3.6/json/__init__.py\u001b[0m in \u001b[0;36mdumps\u001b[0;34m(obj, skipkeys, ensure_ascii, check_circular, allow_nan, cls, indent, separators, default, sort_keys, **kw)\u001b[0m\n\u001b[1;32m    236\u001b[0m         \u001b[0mcheck_circular\u001b[0m\u001b[0;34m=\u001b[0m\u001b[0mcheck_circular\u001b[0m\u001b[0;34m,\u001b[0m \u001b[0mallow_nan\u001b[0m\u001b[0;34m=\u001b[0m\u001b[0mallow_nan\u001b[0m\u001b[0;34m,\u001b[0m \u001b[0mindent\u001b[0m\u001b[0;34m=\u001b[0m\u001b[0mindent\u001b[0m\u001b[0;34m,\u001b[0m\u001b[0;34m\u001b[0m\u001b[0;34m\u001b[0m\u001b[0m\n\u001b[1;32m    237\u001b[0m         \u001b[0mseparators\u001b[0m\u001b[0;34m=\u001b[0m\u001b[0mseparators\u001b[0m\u001b[0;34m,\u001b[0m \u001b[0mdefault\u001b[0m\u001b[0;34m=\u001b[0m\u001b[0mdefault\u001b[0m\u001b[0;34m,\u001b[0m \u001b[0msort_keys\u001b[0m\u001b[0;34m=\u001b[0m\u001b[0msort_keys\u001b[0m\u001b[0;34m,\u001b[0m\u001b[0;34m\u001b[0m\u001b[0;34m\u001b[0m\u001b[0m\n\u001b[0;32m--> 238\u001b[0;31m         **kw).encode(obj)\n\u001b[0m\u001b[1;32m    239\u001b[0m \u001b[0;34m\u001b[0m\u001b[0m\n\u001b[1;32m    240\u001b[0m \u001b[0;34m\u001b[0m\u001b[0m\n",
      "\u001b[0;31mTypeError\u001b[0m: __init__() got an unexpected keyword argument 'encoding'"
     ]
    }
   ],
   "source": [
    "in_json_2 = json.dumps(data, sort_keys=True, indent=4, separators=(',', ': '), encoding=\"gbk\", ensure_ascii=True)\n",
    "in_json_2"
   ]
  },
  {
   "cell_type": "code",
   "execution_count": 2,
   "metadata": {},
   "outputs": [],
   "source": [
    "class MyClass:\n",
    "    # 初始化\n",
    "    def __init__(self):\n",
    "        self.a = 2\n",
    "        self.b = 'bb'"
   ]
  },
  {
   "cell_type": "code",
   "execution_count": 3,
   "metadata": {},
   "outputs": [
    {
     "data": {
      "text/plain": "{'a': 3, 'b': 'bb', 'c': 123}"
     },
     "execution_count": 3,
     "metadata": {},
     "output_type": "execute_result"
    }
   ],
   "source": [
    "# obj -->dict\n",
    "# 创建MyClass对象\n",
    "myClass = MyClass()\n",
    "# 添加数据c\n",
    "myClass.c = 123\n",
    "myClass.a = 3\n",
    "# 对象转化为字典\n",
    "myClassDict = myClass.__dict__\n",
    "myClassDict"
   ]
  },
  {
   "cell_type": "code",
   "execution_count": 6,
   "metadata": {},
   "outputs": [
    {
     "name": "stdout",
     "output_type": "stream",
     "text": "{'a': 3, 'b': 'bb', 'c': 123}\n"
    }
   ],
   "source": [
    "# dict <-->json \n",
    "# 字典转化为json\n",
    "myClassJson = json.dumps(myClassDict)\n",
    "# json转化为字典\n",
    "myClassReBuild = json.loads(myClassJson)\n",
    "# 打印重建的字典\n",
    "print(myClassReBuild)"
   ]
  },
  {
   "cell_type": "code",
   "execution_count": 7,
   "metadata": {},
   "outputs": [
    {
     "name": "stdout",
     "output_type": "stream",
     "text": "3\n"
    }
   ],
   "source": [
    "# dict --> obj\n",
    "# 新建一个新的MyClass对象\n",
    "myClass2 = MyClass()\n",
    "# 将字典转化为对象\n",
    "myClass2.__dict__ = myClassReBuild\n",
    "# 打印重建的对象\n",
    "print(myClass2.a)"
   ]
  },
  {
   "cell_type": "markdown",
   "metadata": {},
   "source": [
    "### <center>json工具包比较<center>\n",
    "- json\n",
    "- simplejson\n",
    "- simdjson\n",
    "    \n",
    "simplejson和simdjson(https://github.com/TkTech/pysimdjson)速度相当,会比json包快一个数量级"
   ]
  },
  {
   "cell_type": "code",
   "execution_count": null,
   "metadata": {},
   "outputs": [],
   "source": [
    "import json\n",
    "import time\n",
    "import simplejson\n",
    "import simdjson\n",
    "\n",
    "def demo_simplejson(fin):\n",
    "\n",
    "    doc = simplejson.loads(fin)\n",
    "    # print(doc)\n",
    "\n",
    "def demo_simdjson(fin):\n",
    "\n",
    "    # doc = simdjson.ParsedJson(fin.read())\n",
    "    # doc = simdjson.loads(fin)\n",
    "    doc = simdjson.ParsedJson(fin).to_obj()\n",
    "    # print(doc)\n",
    "\n",
    "def demo_json(fin):\n",
    "    load_dict = json.loads(fin)\n",
    "    \n",
    "fin = open('./data/apache_builds.json', 'rb').read()\n",
    "\n",
    "start = time.time()\n",
    "demo_json(fin)\n",
    "print(time.time()-start)\n",
    "\n",
    "start = time.time()\n",
    "demo_simdjson(fin)\n",
    "print(time.time()-start)\n",
    "\n",
    "start = time.time()\n",
    "demo_simplejson(fin)\n",
    "print(time.time()-start)"
   ]
  }
 ]
}