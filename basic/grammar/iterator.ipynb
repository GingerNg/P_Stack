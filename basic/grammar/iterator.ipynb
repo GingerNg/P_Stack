{
 "metadata": {
  "language_info": {
   "codemirror_mode": {
    "name": "ipython",
    "version": 3
   },
   "file_extension": ".py",
   "mimetype": "text/x-python",
   "name": "python",
   "nbconvert_exporter": "python",
   "pygments_lexer": "ipython3",
   "version": "3.6.9-final"
  },
  "orig_nbformat": 2,
  "kernelspec": {
   "name": "python36964bitd089ad358d3043c7a538c119ed8c116f",
   "display_name": "Python 3.6.9 64-bit"
  }
 },
 "nbformat": 4,
 "nbformat_minor": 2,
 "cells": [
  {
   "cell_type": "markdown",
   "metadata": {},
   "source": [
    "### 迭代器\n",
    "\n",
    "迭代是Python最强大的功能之一，是访问集合元素的一种方式。\n",
    "\n",
    "迭代器是一个可以记住遍历的位置的对象。\n",
    "\n",
    "迭代器对象从集合的第一个元素开始访问，直到所有的元素被访问完结束。迭代器只能往前不会后退。"
   ]
  },
  {
   "cell_type": "code",
   "execution_count": null,
   "metadata": {},
   "outputs": [],
   "source": [
    "1、语法形式上，内置有__iter__方法的对象都是可迭代对象\n",
    "2、字符串、列表、元祖、字典、集合、打开的文件都是可迭代对象"
   ]
  },
  {
   "cell_type": "code",
   "execution_count": 1,
   "metadata": {},
   "outputs": [
    {
     "output_type": "execute_result",
     "data": {
      "text/plain": "'a'"
     },
     "metadata": {},
     "execution_count": 1
    }
   ],
   "source": [
    "s = 'abc'\n",
    "it = iter(s)  # it is the iterator of s  迭代器对象\n",
    "it.__next__()"
   ]
  },
  {
   "cell_type": "code",
   "execution_count": 9,
   "metadata": {},
   "outputs": [],
   "source": [
    "# it.send(\"9\")"
   ]
  },
  {
   "cell_type": "markdown",
   "metadata": {},
   "source": [
    "### 生成迭代器的方式\n",
    "1. using generator to create iterator\n",
    "2. 带有 yield 的函数在 Python 中被称之为 **generator（生成器）**, yield的功能类似于return，但是不同之处在于它返回的是生成器。"
   ]
  },
  {
   "cell_type": "code",
   "execution_count": 5,
   "metadata": {},
   "outputs": [],
   "source": [
    "def reverse(data):\n",
    "    for index in range(len(data) - 1, -1, -1):\n",
    "        # print(index)\n",
    "        yield data[index]"
   ]
  },
  {
   "cell_type": "code",
   "execution_count": 25,
   "metadata": {
    "tags": []
   },
   "outputs": [
    {
     "output_type": "stream",
     "name": "stdout",
     "text": "d\nl\no\ng\n"
    }
   ],
   "source": [
    "for char in reverse('gold'):\n",
    "    print(char)\n"
   ]
  },
  {
   "cell_type": "code",
   "execution_count": 26,
   "metadata": {},
   "outputs": [
    {
     "output_type": "execute_result",
     "data": {
      "text/plain": "<generator object <genexpr> at 0x7f0466e0fba0>"
     },
     "metadata": {},
     "execution_count": 26
    }
   ],
   "source": [
    "myIterator = ( x*2 for x in range(5))\n",
    "myIterator"
   ]
  },
  {
   "cell_type": "code",
   "execution_count": 19,
   "metadata": {},
   "outputs": [],
   "source": [
    "### send和__next__()区别\n",
    "# 1.send和next()都是让生成器向下走一次\n",
    "# 2.send可以给上一个yield的位置传递值，不能给最后一个yield发送值，在第一次执行生成器代码的时候不能使用send()"
   ]
  },
  {
   "cell_type": "code",
   "execution_count": 35,
   "metadata": {},
   "outputs": [],
   "source": [
    "def func():\n",
    "    print(\"apple\")\n",
    "    y1 = yield 2\n",
    "    print(y1, \" = banana\")\n",
    "    y2 = yield 1\n",
    "    print(y2, \" = orange\")\n",
    "    y3 = yield 3\n",
    "    print(y3)"
   ]
  },
  {
   "cell_type": "code",
   "execution_count": 34,
   "metadata": {
    "tags": []
   },
   "outputs": [
    {
     "output_type": "stream",
     "name": "stdout",
     "text": "apple\n2\nNone  = banana\n1\nNone  = orange\n3\nNone\n"
    }
   ],
   "source": [
    "gs = func()\n",
    "for g in gs:\n",
    "    print(g)"
   ]
  },
  {
   "cell_type": "code",
   "execution_count": 38,
   "metadata": {
    "tags": []
   },
   "outputs": [
    {
     "output_type": "stream",
     "name": "stdout",
     "text": "apple\n2\nNone  = banana\n1\nwater  = orange\n3\n"
    }
   ],
   "source": [
    "gs = func()\n",
    "print(gs.__next__())\n",
    "print(next(gs))\n",
    "print(gs.send(\"water\"))  # 给上一个yield传值"
   ]
  },
  {
   "cell_type": "code",
   "execution_count": 27,
   "metadata": {},
   "outputs": [
    {
     "output_type": "execute_result",
     "data": {
      "text/plain": "<generator object <genexpr> at 0x7f0466e0fe08>"
     },
     "metadata": {},
     "execution_count": 27
    }
   ],
   "source": [
    "myIterator = ( x*2 for x in range(5)) # 小括号\n",
    "myIterator"
   ]
  },
  {
   "cell_type": "code",
   "execution_count": null,
   "metadata": {},
   "outputs": [],
   "source": []
  }
 ]
}