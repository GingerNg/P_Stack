{
 "nbformat": 4,
 "nbformat_minor": 2,
 "metadata": {
  "language_info": {
   "name": "python",
   "codemirror_mode": {
    "name": "ipython",
    "version": 3
   },
   "version": "3.6.9-final"
  },
  "orig_nbformat": 2,
  "file_extension": ".py",
  "mimetype": "text/x-python",
  "name": "python",
  "npconvert_exporter": "python",
  "pygments_lexer": "ipython3",
  "version": 3,
  "kernelspec": {
   "name": "python36964bitb377107951a642b890c3e40487126bca",
   "display_name": "Python 3.6.9 64-bit"
  }
 },
 "cells": [
  {
   "cell_type": "code",
   "execution_count": null,
   "metadata": {},
   "outputs": [],
   "source": []
  },
  {
   "cell_type": "markdown",
   "metadata": {},
   "source": [
    "## HTTPX\n",
    "HTTPX 延续了 requests 的用法，为你提供了标准特性以及 HTTP/2 和 HTTP/1 支持。除此之外，还包括使用 ASGI 协议直接调用 Python Web 应用程序以及完全类型注解等其他特性。"
   ]
  },
  {
   "cell_type": "code",
   "execution_count": null,
   "metadata": {},
   "outputs": [],
   "source": []
  },
  {
   "cell_type": "markdown",
   "metadata": {},
   "source": [
    "## requests"
   ]
  },
  {
   "cell_type": "code",
   "execution_count": 1,
   "metadata": {},
   "outputs": [
    {
     "data": {
      "text/plain": "'\\npython requests 调用restful api\\n'"
     },
     "execution_count": 1,
     "metadata": {},
     "output_type": "execute_result"
    }
   ],
   "source": [
    "import json\n",
    "from urllib.parse import urljoin\n",
    "\n",
    "import requests\n",
    "\n"
   ]
  },
  {
   "cell_type": "code",
   "execution_count": 2,
   "metadata": {},
   "outputs": [],
   "source": [
    "'''\n",
    "python requests 调用restful api\n",
    "'''\n",
    "class MessageSender():\n",
    "    def __init__(self, url, resource_pos=None):\n",
    "        self.__url = url\n",
    "        self.__resource_pos = resource_pos\n",
    "\n",
    "    def __composite_target_url(self, resource_pos):\n",
    "        if resource_pos is None:\n",
    "            target_url = urljoin(self.__url, self.__resource_pos)\n",
    "        else:\n",
    "            # target_url = urljoin(self.__url, resource_pos)\n",
    "            target_url = self.__url + resource_pos\n",
    "        return target_url\n",
    "\n",
    "    def message_send(self, data, resource_pos=None):\n",
    "        headers = {\"Content-Type\": \"application/json\"}\n",
    "        target_url = self.__composite_target_url(resource_pos)\n",
    "        print(target_url)\n",
    "        data_json = json.dumps(data)\n",
    "        result = requests.post(target_url, headers=headers, data=data_json)\n",
    "        return result\n",
    "\n",
    "    def message_multipart_post(self, file_path, resource_pos=None):\n",
    "        target_url = self.__composite_target_url(resource_pos)\n",
    "        print(target_url)\n",
    "        files = {'file': open(file_path, 'rb')}\n",
    "        # r = requests.post(url, data, files=files)\n",
    "        d_json = {\"test\": \"test\"}\n",
    "        return requests.post(url=target_url, files=files, data=d_json).text\n",
    "\n",
    "    def message_get(self, resource_pos):\n",
    "        target_url = urljoin(self.__url, resource_pos)\n",
    "        return requests.get(target_url).text\n",
    "\n",
    "    def message_put(self, data, resource_pos):\n",
    "        headers = {\"Content-Type\": \"application/json\"}  # 必需\n",
    "        target_url = self.__composite_target_url(resource_pos)\n",
    "        data_json = json.dumps(data)\n",
    "        return requests.put(target_url, headers=headers, data=data_json).text\n",
    "\n",
    "    def message_delete(self, resource_pos, data):\n",
    "        headers = {\"Content-Type\": \"application/json\"}  # 必需\n",
    "        target_url = urljoin(self.__url, resource_pos)\n",
    "        data_json = json.dumps(data)\n",
    "        return requests.delete(target_url, headers=headers, data=data_json).text\n"
   ]
  },
  {
   "cell_type": "code",
   "execution_count": null,
   "metadata": {},
   "outputs": [],
   "source": []
  }
 ]
}