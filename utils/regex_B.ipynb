{
 "nbformat": 4,
 "nbformat_minor": 2,
 "metadata": {
  "language_info": {
   "name": "python",
   "codemirror_mode": {
    "name": "ipython",
    "version": 3
   },
   "version": "3.8.6"
  },
  "orig_nbformat": 2,
  "file_extension": ".py",
  "mimetype": "text/x-python",
  "name": "python",
  "npconvert_exporter": "python",
  "pygments_lexer": "ipython3",
  "version": 3,
  "kernelspec": {
   "name": "python386jvsc74a57bd08775ead45cd722ea8a4c7c74215d2f64c2c40d0e28c86b8154e49caf9c5419e8",
   "display_name": "Python 3.8.6 64-bit ('py38': conda)"
  },
  "metadata": {
   "interpreter": {
    "hash": "8775ead45cd722ea8a4c7c74215d2f64c2c40d0e28c86b8154e49caf9c5419e8"
   }
  }
 },
 "cells": [
  {
   "cell_type": "code",
   "execution_count": null,
   "metadata": {},
   "outputs": [],
   "source": []
  },
  {
   "cell_type": "code",
   "execution_count": 1,
   "metadata": {},
   "outputs": [],
   "source": [
    "import re"
   ]
  },
  {
   "cell_type": "code",
   "execution_count": 12,
   "metadata": {},
   "outputs": [
    {
     "output_type": "stream",
     "text": "\u001b[0;31mSignature:\u001b[0m \u001b[0mre\u001b[0m\u001b[0;34m.\u001b[0m\u001b[0mcompile\u001b[0m\u001b[0;34m(\u001b[0m\u001b[0mpattern\u001b[0m\u001b[0;34m,\u001b[0m \u001b[0mflags\u001b[0m\u001b[0;34m=\u001b[0m\u001b[0;36m0\u001b[0m\u001b[0;34m)\u001b[0m\u001b[0;34m\u001b[0m\u001b[0;34m\u001b[0m\u001b[0m\n\u001b[0;31mDocstring:\u001b[0m Compile a regular expression pattern, returning a pattern object.\n\u001b[0;31mFile:\u001b[0m      /usr/lib/python3.6/re.py\n\u001b[0;31mType:\u001b[0m      function\n"
    }
   ],
   "source": [
    "re.compile?  # Compile a regular expression pattern, returning a pattern object."
   ]
  },
  {
   "cell_type": "code",
   "execution_count": 6,
   "metadata": {},
   "outputs": [
    {
     "output_type": "execute_result",
     "data": {
      "text/plain": "'逆向而行，\\n中文轻量级预训练模型的探索之路'"
     },
     "metadata": {},
     "execution_count": 6
    }
   ],
   "source": [
    "# 多个\\n只保留一个\n",
    "output = re.sub(r'[\\n]{2,20000}', '\\n', \"逆向而行，\\n\\n\\n\\n中文轻量级预训练模型的探索之路\")\n",
    "output"
   ]
  },
  {
   "cell_type": "code",
   "execution_count": 9,
   "metadata": {},
   "outputs": [
    {
     "output_type": "execute_result",
     "data": {
      "text/plain": "'逆向而行，...中文轻量级预训练模型的探索之路'"
     },
     "metadata": {},
     "execution_count": 9
    }
   ],
   "source": [
    "re.sub(r'[.-]{2,20000}', '...', \"逆向而行，........中文轻量级预训练模型的探索之路\")"
   ]
  },
  {
   "cell_type": "code",
   "execution_count": 1,
   "metadata": {},
   "outputs": [
    {
     "output_type": "stream",
     "name": "stdout",
     "text": "\n"
    }
   ],
   "source": [
    "print(\"\\uf0d8\")"
   ]
  },
  {
   "cell_type": "code",
   "execution_count": 29,
   "metadata": {},
   "outputs": [
    {
     "output_type": "execute_result",
     "data": {
      "text/plain": "33"
     },
     "metadata": {},
     "execution_count": 29
    }
   ],
   "source": [
    "len(\"大连万达商业地产股份有限公司2016年公司债券（第一期）募集说明书\")"
   ]
  },
  {
   "cell_type": "code",
   "execution_count": 1,
   "metadata": {},
   "outputs": [
    {
     "output_type": "execute_result",
     "data": {
      "text/plain": "False"
     },
     "metadata": {},
     "execution_count": 1
    }
   ],
   "source": [
    "sent = \"149号）（以下简称“《科创板网下投资者管理细则》”）等相关规定组织实施首次公开\"\n",
    "def is_sentence(sen):\n",
    "    \"\"\"[是否为句子]\n",
    "\n",
    "    Arguments:\n",
    "        sen {[type]} -- [description]\n",
    "\n",
    "    Returns:\n",
    "        [type] -- [description]\n",
    "    \"\"\"\n",
    "    if len(sen) > 50:\n",
    "        return True\n",
    "    pool = [\";\", \"。\", \"，\", \"；\"]\n",
    "    for p in pool:\n",
    "        if p in sen:\n",
    "            return 1\n",
    "    if sen == \"\\n\":\n",
    "        return True\n",
    "    else:\n",
    "        return False\n",
    "is_sentence(sent)"
   ]
  },
  {
   "cell_type": "markdown",
   "metadata": {},
   "source": [
    "## 正则"
   ]
  },
  {
   "cell_type": "code",
   "execution_count": 8,
   "metadata": {},
   "outputs": [
    {
     "data": {
      "text/plain": "'我'"
     },
     "execution_count": 8,
     "metadata": {},
     "output_type": "execute_result"
    }
   ],
   "source": [
    "sth = u'[^\\d]'  # 非数字\n",
    "content = \"12121我\"\n",
    "\n",
    "def extract(content,sth=u'[^\\d]'):\n",
    "    zhmodel = re.compile(sth)    #检查中文\n",
    "    #zhmodel = re.compile(u'[^\\u4e00-\\u9fa5]')   #检查非中文\n",
    "    match = zhmodel.findall(content)\n",
    "    return \"\".join(match)\n",
    "extract(content,sth)"
   ]
  },
  {
   "cell_type": "code",
   "execution_count": 2,
   "metadata": {},
   "outputs": [
    {
     "data": {
      "text/plain": "['1', '2', '1', '2', '1']"
     },
     "execution_count": 2,
     "metadata": {},
     "output_type": "execute_result"
    }
   ],
   "source": [
    "sth = \"\\d\"\n",
    "content = \"12121我\"\n",
    "\n",
    "def matchsth(content,sth):\n",
    "    zhmodel = re.compile(sth)    #检查中文\n",
    "    #zhmodel = re.compile(u'[^\\u4e00-\\u9fa5]')   #检查非中文\n",
    "    match = zhmodel.findall(content)\n",
    "    return match\n",
    "matchsth(content,sth)"
   ]
  },
  {
   "cell_type": "code",
   "execution_count": 3,
   "metadata": {},
   "outputs": [
    {
     "data": {
      "text/plain": "1"
     },
     "execution_count": 3,
     "metadata": {},
     "output_type": "execute_result"
    }
   ],
   "source": [
    "def is_has_sth(content,sth=u'[\\u4e00-\\u9fa5]'):\n",
    "    \"\"\"\n",
    "    是否包含sth\n",
    "    中文： [\\u4e00-\\u9fa5]\n",
    "    数字： u'[0-9]'\n",
    "    \"\"\"\n",
    "    zhmodel = re.compile(sth)    #检查中文\n",
    "    #zhmodel = re.compile(u'[^\\u4e00-\\u9fa5]')   #检查非中文\n",
    "    match = zhmodel.search(content)\n",
    "    # print(match)\n",
    "    if match:\n",
    "        return 1\n",
    "    else:\n",
    "        return 0\n",
    "is_has_sth(\"我是8,013.36       -5,799,427.42 -734,832.30\",sth=u'[0-9]')"
   ]
  },
  {
   "cell_type": "code",
   "execution_count": 51,
   "metadata": {},
   "outputs": [],
   "source": [
    "is_small_title_pattern_0 = re.compile(r\"[1-9]{1,2}(\\.[0-9])*[.、 ]*[\\u4E00-\\u9FA5]\")"
   ]
  },
  {
   "cell_type": "code",
   "execution_count": 52,
   "metadata": {},
   "outputs": [],
   "source": [
    "is_small_title_pattern_1 = re.compile(r\"[一二三四五六七八九十]{1,2}[.、 ]{1,2}[\\u4E00-\\u9FA5]\")"
   ]
  },
  {
   "cell_type": "code",
   "execution_count": 53,
   "metadata": {},
   "outputs": [],
   "source": [
    "is_small_title_pattern_2 = re.compile(r\"[（(]*[1-9]{1,2}[)）][.、 ]*[\\u4E00-\\u9FA5]\")"
   ]
  },
  {
   "cell_type": "code",
   "execution_count": 54,
   "metadata": {},
   "outputs": [],
   "source": [
    "is_small_title_pattern_3 = re.compile(r\"[（(][一二三四五六七八九十]{1,2}[)）][.、 ]*[\\u4E00-\\u9FA5]\")"
   ]
  },
  {
   "cell_type": "code",
   "execution_count": 2,
   "metadata": {},
   "outputs": [],
   "source": [
    "import re\n",
    "is_small_title_pattern_4 = re.compile(r\"[1212][ ]*[\\u4E00-\\u9FA5]\")\n",
    "# row_str = \"121\"\n",
    "# re.match(is_small_title_pattern_4, row_str)"
   ]
  },
  {
   "cell_type": "code",
   "execution_count": 5,
   "metadata": {},
   "outputs": [],
   "source": [
    "is_small_title_pattern_0 = re.compile(r\"[1-9][0-9]{0,1}[.、 ]{1,2}[\\u4E00-\\u9FA5]\")\n",
    "is_small_title_pattern_5 = re.compile(r\"[1-9][0-9]{0,1}[、 ]{1,2}[0-9,\\u4E00-\\u9FA5]\")\n",
    "is_small_title_pattern_1 = re.compile(r\"[一二三四五六七八九十]{1,2}[.、 ]{1,2}[^.][\\u4E00-\\u9FA5]\")\n",
    "is_small_title_pattern_2 = re.compile(r\"[（(]*[1-9]{1,2}[)）][.、 ]*[^.]*[\\u4E00-\\u9FA5]\")\n",
    "is_small_title_pattern_3 = re.compile(r\"[（(][一二三四五六七八九十]{1,2}[)）][.、 ]*[^.]*[\\u4E00-\\u9FA5]\")\n",
    "is_small_title_pattern_4 = re.compile(r\"[①②③④⑤⑥⑦⑧⑨][ ]*[^.]*[\\u4E00-\\u9FA5]\")\n",
    "\n",
    "is_catalog_pattern_0 = re.compile(r\"(.*第[一二三四五六七八九十]+[节章][^.]+[ .…]+[0-9]+|.*[.…]{10,} *[0-9]+)\")\n",
    "is_catalog_pattern_1 = re.compile(r\"(.第[一二三四五六七八九十]+[节章][.、 ]{0,2}[^.][\\u4E00-\\u9FA5])\")\n",
    "is_catalog_pattern_2 = re.compile(r\"([第]*[一二三四五六七八九十]{1,2}[节章]*[.、 ]{0,2}[^.]*[\\u4E00-\\u9FA5])\")"
   ]
  },
  {
   "cell_type": "code",
   "execution_count": 6,
   "metadata": {},
   "outputs": [],
   "source": [
    "re.match(is_small_title_pattern_5, \"1. 2017年起肿瘤靶向药物陆续进入医保，推动肿瘤伴随检测高\")"
   ]
  },
  {
   "cell_type": "code",
   "execution_count": 7,
   "metadata": {},
   "outputs": [],
   "source": [
    "def cascade_rules(rules,row_str):\n",
    "    for k,rule in rules.items():\n",
    "        if re.match(is_small_title_pattern_0, row_str):\n",
    "            return k,True\n",
    "    return None,False"
   ]
  },
  {
   "cell_type": "code",
   "execution_count": 8,
   "metadata": {},
   "outputs": [],
   "source": [
    "def is_small_title(row_str):\n",
    "    \"\"\"判断是不是小标题\"\"\"\n",
    "    # row_str = row[\"row_chars\"]\n",
    "    if re.match(is_small_title_pattern_0, row_str) or \\\n",
    "            re.match(is_small_title_pattern_1, row_str) or \\\n",
    "            re.match(is_small_title_pattern_2, row_str) or \\\n",
    "            re.match(is_small_title_pattern_3, row_str) or \\\n",
    "            re.match(is_small_title_pattern_4, row_str) or \\\n",
    "            re.match(is_small_title_pattern_5, row_str):\n",
    "        return True\n",
    "    else:\n",
    "        return False"
   ]
  },
  {
   "cell_type": "code",
   "execution_count": 51,
   "metadata": {},
   "outputs": [
    {
     "output_type": "execute_result",
     "data": {
      "text/plain": "True"
     },
     "metadata": {},
     "execution_count": 51
    }
   ],
   "source": [
    "is_small_title(\"18、2018 年前 3 季度其他收益较上年同期减少 1,591,868.46 元,主要系收到的政府补助减少所致;\")"
   ]
  },
  {
   "cell_type": "code",
   "execution_count": 13,
   "metadata": {},
   "outputs": [],
   "source": [
    "def is_catalog(row_str):\n",
    "    \"\"\"判断是不是目录行\"\"\"\n",
    "    # row_str = row[\"row_chars\"]\n",
    "    if re.match(is_catalog_pattern_0, row_str) or \\\n",
    "        re.match(is_catalog_pattern_1, row_str) or \\\n",
    "        re.match(is_catalog_pattern_2, row_str):\n",
    "        return True\n",
    "    else:\n",
    "        return False"
   ]
  },
  {
   "cell_type": "code",
   "execution_count": 53,
   "metadata": {},
   "outputs": [
    {
     "output_type": "execute_result",
     "data": {
      "text/plain": "False"
     },
     "metadata": {},
     "execution_count": 53
    }
   ],
   "source": [
    "is_catalog(\"其他详见本报告“第四节 经营情况分析和讨论”\")"
   ]
  },
  {
   "cell_type": "code",
   "execution_count": 54,
   "metadata": {},
   "outputs": [],
   "source": [
    "cases = \"\"\"\n",
    "第三节 公司业务概要 \n",
    "第三节 公司业务概要\n",
    "\"\"\""
   ]
  },
  {
   "cell_type": "code",
   "execution_count": 55,
   "metadata": {},
   "outputs": [],
   "source": [
    "titles = \"\"\"\n",
    "（三）公司治理结构、内部控制是否存在其他违反《公司法》、公司章程规定的情况□是 √否\n",
    "\"\"\""
   ]
  },
  {
   "cell_type": "code",
   "execution_count": 56,
   "metadata": {},
   "outputs": [
    {
     "output_type": "execute_result",
     "data": {
      "text/plain": "['第三节 公司业务概要 ', '第三节 公司业务概要']"
     },
     "metadata": {},
     "execution_count": 56
    }
   ],
   "source": [
    "# def spp(item):\n",
    "#     return item.split()\n",
    "# list(map(spp,cases.split(\"\\n\")))\n",
    "cases.strip().split(\"\\n\")"
   ]
  },
  {
   "cell_type": "code",
   "execution_count": 57,
   "metadata": {},
   "outputs": [
    {
     "output_type": "execute_result",
     "data": {
      "text/plain": "True"
     },
     "metadata": {},
     "execution_count": 57
    }
   ],
   "source": [
    "row_str = \"第三节 公司业务概要\"\n",
    "# re.match(is_catalog_pattern_0, row_str)\n",
    "is_catalog(row_str)"
   ]
  },
  {
   "cell_type": "code",
   "execution_count": 58,
   "metadata": {},
   "outputs": [
    {
     "output_type": "execute_result",
     "data": {
      "text/plain": "True"
     },
     "metadata": {},
     "execution_count": 58
    }
   ],
   "source": [
    "row_str = \"一、释义\"\n",
    "# re.match(is_small_title_pattern_1, row_str)\n",
    "is_small_title(row_str)\n",
    "# def batch_titles():\n",
    "#     pass"
   ]
  },
  {
   "cell_type": "code",
   "execution_count": 1,
   "metadata": {},
   "outputs": [
    {
     "output_type": "error",
     "ename": "NameError",
     "evalue": "name 'is_catalog' is not defined",
     "traceback": [
      "\u001b[0;31m---------------------------------------------------------------------------\u001b[0m",
      "\u001b[0;31mNameError\u001b[0m                                 Traceback (most recent call last)",
      "\u001b[0;32m<ipython-input-1-873fb71170cc>\u001b[0m in \u001b[0;36m<module>\u001b[0;34m\u001b[0m\n\u001b[0;32m----> 1\u001b[0;31m \u001b[0mis_catalog\u001b[0m\u001b[0;34m(\u001b[0m\u001b[0;34m\"一年利息的1.5倍。本期债券发行及挂牌上市安排请参见发行公告\"\u001b[0m\u001b[0;34m)\u001b[0m\u001b[0;34m\u001b[0m\u001b[0;34m\u001b[0m\u001b[0m\n\u001b[0m",
      "\u001b[0;31mNameError\u001b[0m: name 'is_catalog' is not defined"
     ]
    }
   ],
   "source": [
    "is_catalog(\"一年利息的1.5倍。本期债券发行及挂牌上市安排请参见发行公告\")"
   ]
  },
  {
   "cell_type": "code",
   "execution_count": 59,
   "metadata": {},
   "outputs": [
    {
     "output_type": "execute_result",
     "data": {
      "text/plain": "True"
     },
     "metadata": {},
     "execution_count": 59
    }
   ],
   "source": [
    "is_small_title(\"（一）技术创新能力\")"
   ]
  },
  {
   "cell_type": "code",
   "execution_count": 60,
   "metadata": {},
   "outputs": [
    {
     "output_type": "execute_result",
     "data": {
      "text/plain": "True"
     },
     "metadata": {},
     "execution_count": 60
    }
   ],
   "source": [
    "row_str = \"(五)  其他\"\n",
    "is_small_title(row_str)"
   ]
  },
  {
   "cell_type": "code",
   "execution_count": 61,
   "metadata": {},
   "outputs": [
    {
     "output_type": "execute_result",
     "data": {
      "text/plain": "True"
     },
     "metadata": {},
     "execution_count": 61
    }
   ],
   "source": [
    "is_small_title(\"十一、 采用公允价值计量的项目\")"
   ]
  },
  {
   "cell_type": "code",
   "execution_count": 62,
   "metadata": {},
   "outputs": [
    {
     "output_type": "execute_result",
     "data": {
      "text/plain": "True"
     },
     "metadata": {},
     "execution_count": 62
    }
   ],
   "source": [
    "is_catalog(\"第一章、 2017年起肿瘤靶向药物陆续进入医保，推动肿瘤伴随检测高\")"
   ]
  },
  {
   "cell_type": "code",
   "execution_count": 63,
   "metadata": {},
   "outputs": [
    {
     "output_type": "execute_result",
     "data": {
      "text/plain": "True"
     },
     "metadata": {},
     "execution_count": 63
    }
   ],
   "source": [
    "is_catalog(\"第八节备查文件目录\")"
   ]
  },
  {
   "cell_type": "code",
   "execution_count": 443,
   "metadata": {},
   "outputs": [],
   "source": []
  },
  {
   "cell_type": "code",
   "execution_count": 64,
   "metadata": {},
   "outputs": [
    {
     "output_type": "execute_result",
     "data": {
      "text/plain": "False"
     },
     "metadata": {},
     "execution_count": 64
    }
   ],
   "source": [
    "is_small_title(\"78.1 万,其后依次为胃癌\")\n",
    "# is_small_title(\"（三）公司治理结构、内部控制是否存在其他违反《公司法》、公司章程规定的情况□是 √否\")"
   ]
  },
  {
   "cell_type": "code",
   "execution_count": 65,
   "metadata": {},
   "outputs": [
    {
     "output_type": "execute_result",
     "data": {
      "text/plain": "True"
     },
     "metadata": {},
     "execution_count": 65
    }
   ],
   "source": [
    "is_small_title(\"一、载有公司负责人、主管会计工作负责人、会计机构负责人（会计主管人员）签名并盖章的财务报表；\")"
   ]
  },
  {
   "cell_type": "code",
   "execution_count": 66,
   "metadata": {},
   "outputs": [],
   "source": [
    "re.match(is_small_title_pattern_4, \"78.1 万,其后依次为胃癌\")"
   ]
  },
  {
   "cell_type": "code",
   "execution_count": 47,
   "metadata": {},
   "outputs": [],
   "source": [
    "class Rule(object):\n",
    "    def __init__(self, name, pattern, desc=\"\"):\n",
    "        self.name = name\n",
    "        self.pattern = pattern\n",
    "        self.desc = desc\n",
    "\n",
    "    def exec(self, row):\n",
    "        # print(row)\n",
    "        return re.match(self.pattern, row)\n"
   ]
  },
  {
   "cell_type": "code",
   "execution_count": 48,
   "metadata": {},
   "outputs": [],
   "source": [
    "Title_Rules = [\n",
    "    Rule(\"is_small_title_pattern_0\", is_small_title_pattern_0),\n",
    "    Rule(\"is_small_title_pattern_1\", is_small_title_pattern_1),\n",
    "    Rule(\"is_small_title_pattern_2\", is_small_title_pattern_2),\n",
    "    Rule(\"is_small_title_pattern_3\", is_small_title_pattern_3),\n",
    "    Rule(\"is_small_title_pattern_4\", is_small_title_pattern_4),\n",
    "    Rule(\"is_small_title_pattern_5\", is_small_title_pattern_5),\n",
    "    Rule(\"is_catalog_pattern_0\", is_catalog_pattern_0),\n",
    "    Rule(\"is_catalog_pattern_1\", is_catalog_pattern_1),\n",
    "    Rule(\"is_catalog_pattern_2\", is_catalog_pattern_2),\n",
    "]"
   ]
  },
  {
   "cell_type": "code",
   "execution_count": 49,
   "metadata": {},
   "outputs": [],
   "source": [
    "def cascade_rules(row_str, rules):\n",
    "    \"\"\"[是否命中规则]\n",
    "\n",
    "    Arguments:\n",
    "        row_str {[type]} -- [description]\n",
    "\n",
    "    Keyword Arguments:\n",
    "        rules {dict} -- [description] (default: {{}})\n",
    "\n",
    "    Returns:\n",
    "        [list] -- []\n",
    "    \"\"\"\n",
    "    hits = []\n",
    "    for rule in rules:\n",
    "        if rule.exec(row_str):\n",
    "            hits.append(rule.name)\n",
    "    return hits"
   ]
  },
  {
   "cell_type": "code",
   "execution_count": 50,
   "metadata": {},
   "outputs": [
    {
     "output_type": "execute_result",
     "data": {
      "text/plain": "['is_small_title_pattern_1', 'is_catalog_pattern_2']"
     },
     "metadata": {},
     "execution_count": 50
    }
   ],
   "source": [
    "cascade_rules(\"一、载有公司负责人、主管会计工作负责人、会计机构负责人（会计主管人员）签名并盖章的财务报表；\", rules=Title_Rules)"
   ]
  },
  {
   "cell_type": "code",
   "execution_count": null,
   "metadata": {},
   "outputs": [],
   "source": [
    "# import re\n",
    "# re.findall('[0-9-()（）]{7,18}', \"010-67786633转9\")\n",
    "# re.findall('[0-9-()（）]{7,18}', \"0539-7140111\")\n",
    "# re.findall('[0-9-()（）]{7,18}', \"7140111\")\n",
    "# re.search('[^0-9]',  \"010-677无聊86633转转9\")"
   ]
  },
  {
   "cell_type": "code",
   "execution_count": 2,
   "metadata": {},
   "outputs": [
    {
     "output_type": "execute_result",
     "data": {
      "text/plain": [
       "['010', '52601111', '9']"
      ]
     },
     "metadata": {},
     "execution_count": 2
    }
   ],
   "source": [
    "import re\n",
    "def parse_tele(tele):\n",
    "    tele = str(tele)\n",
    "    return re.split('[^0-9]', tele, maxsplit=0, flags=0)\n",
    "parse_tele(\"010-52601111转9\")"
   ]
  },
  {
   "cell_type": "code",
   "execution_count": null,
   "metadata": {},
   "outputs": [],
   "source": []
  }
 ]
}