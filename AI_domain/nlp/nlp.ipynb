{
 "cells": [
  {
   "cell_type": "code",
   "execution_count": null,
   "metadata": {},
   "outputs": [],
   "source": []
  },
  {
   "cell_type": "markdown",
   "metadata": {},
   "source": [
    "### 停用词"
   ]
  },
  {
   "cell_type": "code",
   "execution_count": 5,
   "metadata": {},
   "outputs": [],
   "source": [
    "def stopwordslist(filepath):\n",
    "    stopwords = [line.strip() for line in open(filepath, 'r', encoding='utf-8').readlines()]\n",
    "    return stopwords\n",
    "# segs = filter(lambda x: x not in stopwords, segs)  # 去掉停用词"
   ]
  },
  {
   "cell_type": "code",
   "execution_count": 6,
   "metadata": {},
   "outputs": [],
   "source": [
    "stopwords = stopwordslist(\"/opt/project/Jupyter/StaticFile/stopwords.txt\")"
   ]
  },
  {
   "cell_type": "markdown",
   "metadata": {},
   "source": [
    "### 分词"
   ]
  },
  {
   "cell_type": "code",
   "execution_count": null,
   "metadata": {},
   "outputs": [],
   "source": [
    "# https://github.com/fxsjy/jieba\n",
    "# jieba.add_word(\"不可抗力\",99,\"nz\")\n",
    "# list(jieba.cut(\"南凌科技股份有限公司创业板首次公开发行股票招股说明书（申报稿2019年10月23日报送）\"))\n",
    "\n",
    "# jieba.add_word(\"股份有限公司\",1,\"nz\")\n",
    "# list(jieba.cut(\"南凌科技股份有限公司创业板首次公开发行股票招股说明书（申报稿2019年10月23日报送）\",HMM=True))\n",
    "import jieba"
   ]
  },
  {
   "cell_type": "code",
   "execution_count": 41,
   "metadata": {},
   "outputs": [],
   "source": [
    "def segment(content):\n",
    "    \"\"\"\n",
    "    单line分词\n",
    "    \"\"\"\n",
    "    if \"：\" in content:\n",
    "        result = (str(content.split(\"：\")[1])).replace(\"\\r\\n\", \"\").strip()  # 删除多余空行与空格\n",
    "    else:\n",
    "        result = content\n",
    "    cutResult = jieba.lcut(result)  # 默认方式分词，分词结果用空格隔开\n",
    "    return \" \".join(cutResult)\n",
    "\n",
    "\n",
    "def batch_segment(lines):\n",
    "    \"\"\"\n",
    "    批量lines分词\n",
    "    \"\"\"\n",
    "    seg_lines = []\n",
    "    for line in lines:\n",
    "        seg_lines.append(segment(line))\n",
    "    return seg_lines"
   ]
  },
  {
   "cell_type": "markdown",
   "metadata": {},
   "source": [
    "### tfidf"
   ]
  },
  {
   "cell_type": "code",
   "execution_count": 7,
   "metadata": {},
   "outputs": [],
   "source": [
    "from sklearn.feature_extraction.text import CountVectorizer,TfidfVectorizer"
   ]
  },
  {
   "cell_type": "code",
   "execution_count": 34,
   "metadata": {},
   "outputs": [
    {
     "data": {
      "text/plain": [
       "<2x4 sparse matrix of type '<class 'numpy.float64'>'\n",
       "\twith 5 stored elements in Compressed Sparse Row format>"
      ]
     },
     "execution_count": 34,
     "metadata": {},
     "output_type": "execute_result"
    }
   ],
   "source": [
    "def create_tfidfvector(vocab=None,max_feature=500):\n",
    "    if vocab:\n",
    "        return TfidfVectorizer(stopwords,\n",
    "                                           smooth_idf=True,\n",
    "                                           token_pattern=r\"(?u)\\b\\w+\\b\",\n",
    "                                           max_features=max_feature,\n",
    "                                           vocabulary=vocab \n",
    "                                          )\n",
    "    else:\n",
    "        return TfidfVectorizer(stopwords,\n",
    "#                                            smooth_idf=True,\n",
    "                                           token_pattern=r\"(?u)\\b\\w+\\b\",\n",
    "                                           max_features=max_feature,\n",
    "                                          )\n",
    "tfidf_vectorizer = create_tfidfvector()\n",
    "texts = [\"我今 北京 下雨了\", \"我今 加班\"]\n",
    "tfidf_vectorizer.fit_transform(texts)                             "
   ]
  },
  {
   "cell_type": "code",
   "execution_count": 24,
   "metadata": {},
   "outputs": [
    {
     "data": {
      "text/plain": [
       "{'我今': 3, '北京': 2, '下雨了': 0, '加班': 1}"
      ]
     },
     "execution_count": 24,
     "metadata": {},
     "output_type": "execute_result"
    }
   ],
   "source": [
    "tfidf_vectorizer.vocabulary_  # 词表：词对应的index"
   ]
  },
  {
   "cell_type": "code",
   "execution_count": 31,
   "metadata": {},
   "outputs": [
    {
     "data": {
      "text/plain": [
       "['下雨了', '加班', '北京', '我今']"
      ]
     },
     "execution_count": 31,
     "metadata": {},
     "output_type": "execute_result"
    }
   ],
   "source": [
    "tfidf_vectorizer.get_feature_names()"
   ]
  },
  {
   "cell_type": "code",
   "execution_count": 29,
   "metadata": {},
   "outputs": [
    {
     "data": {
      "text/plain": [
       "array([[0.6316672 , 0.        , 0.6316672 , 0.44943642]])"
      ]
     },
     "execution_count": 29,
     "metadata": {},
     "output_type": "execute_result"
    }
   ],
   "source": [
    "# \n",
    "tfidf_vectorizer.transform([texts[0]]).toarray()  # "
   ]
  },
  {
   "cell_type": "code",
   "execution_count": 30,
   "metadata": {},
   "outputs": [
    {
     "data": {
      "text/plain": [
       "array([[0.        , 0.81480247, 0.        , 0.57973867]])"
      ]
     },
     "execution_count": 30,
     "metadata": {},
     "output_type": "execute_result"
    }
   ],
   "source": [
    "tfidf_vectorizer.transform([texts[1]]).toarray()"
   ]
  },
  {
   "cell_type": "code",
   "execution_count": 38,
   "metadata": {},
   "outputs": [],
   "source": [
    "# CountVectorizer?\n",
    "def create_countvector(vocab,max_feature=500):\n",
    "        return CountVectorizer(stopwords,\n",
    "                                vocabulary=vocab,\n",
    "                               token_pattern=r\"(?u)\\b\\w+\\b\",\n",
    "                               max_features=max_feature,\n",
    "                                      )"
   ]
  },
  {
   "cell_type": "markdown",
   "metadata": {},
   "source": [
    "### 字/词向量"
   ]
  },
  {
   "cell_type": "code",
   "execution_count": 6,
   "metadata": {},
   "outputs": [],
   "source": [
    "import codecs\n",
    "import numpy as np"
   ]
  },
  {
   "cell_type": "code",
   "execution_count": 7,
   "metadata": {},
   "outputs": [],
   "source": [
    "def load_pretrained_vec(pretrained_path,vec_len):\n",
    "    pre_trained = {}\n",
    "    for i, line in enumerate(codecs.open(pretrained_path, 'r', 'utf-8')):\n",
    "        line = line.rstrip().split()\n",
    "        # print(line)\n",
    "        if len(line) == vec_len + 1:\n",
    "            pre_trained[line[0]] = np.array(\n",
    "                [float(x) for x in line[1:]]\n",
    "            ).astype(np.float32)\n",
    "    return pre_trained"
   ]
  },
  {
   "cell_type": "code",
   "execution_count": 8,
   "metadata": {},
   "outputs": [],
   "source": [
    "char_pre_trained = load_pretrained_vec(\"/opt/project/Jupyter/StaticFile/char_wiki_100.utf8\",vec_len=100)"
   ]
  },
  {
   "cell_type": "code",
   "execution_count": 23,
   "metadata": {},
   "outputs": [],
   "source": [
    "# word_pre_trained = load_pretrained_vec(\"/opt/project/Jupyter/StaticFile/sgns.financial.word\",vec_len=300)"
   ]
  },
  {
   "cell_type": "code",
   "execution_count": 26,
   "metadata": {},
   "outputs": [],
   "source": [
    "# char_pre_trained['一']"
   ]
  },
  {
   "cell_type": "markdown",
   "metadata": {},
   "source": [
    "### 关键词提取"
   ]
  },
  {
   "cell_type": "code",
   "execution_count": 13,
   "metadata": {},
   "outputs": [],
   "source": [
    "import jieba\n",
    "import jieba.analyse\n",
    "import jieba.posseg as pseg"
   ]
  },
  {
   "cell_type": "code",
   "execution_count": 14,
   "metadata": {},
   "outputs": [
    {
     "name": "stderr",
     "output_type": "stream",
     "text": [
      "Building prefix dict from the default dictionary ...\n",
      "Loading model from cache /tmp/jieba.cache\n",
      "Loading model cost 1.019 seconds.\n",
      "Prefix dict has been built succesfully.\n"
     ]
    },
    {
     "data": {
      "text/plain": [
       "[('生效', 2.552170250436667),\n",
       " ('解除', 2.4304428029366667),\n",
       " ('变更', 2.2520901572166667)]"
      ]
     },
     "execution_count": 14,
     "metadata": {},
     "output_type": "execute_result"
    }
   ],
   "source": [
    "allow_poses = ('ns', 'n', 'nz','nrt','vn', 'v','t','tg','tg','qt','mq','m','nr','nt',\"vn\",'q','l')\n",
    "# 关键词提取：基于TF-IDF:\n",
    "def get_keywords(content):\n",
    "    \"\"\"\n",
    "    获取关键词\n",
    "    去停用词\n",
    "    \"\"\"\n",
    "    keywords = jieba.analyse.extract_tags(\n",
    "                                    sentence=content,\n",
    "                                    topK=20,   \n",
    "                                    withWeight=True,\n",
    "                                    allowPOS=allow_poses\n",
    "                                    )\n",
    "    return keywords\n",
    "keywords = get_keywords(\"第9条 合同生效、变更和解除\")\n",
    "keywords"
   ]
  },
  {
   "cell_type": "markdown",
   "metadata": {},
   "source": [
    "### 短语/句子/段落的向量化"
   ]
  },
  {
   "cell_type": "code",
   "execution_count": 16,
   "metadata": {},
   "outputs": [],
   "source": [
    "def resize_weight(keywords):\n",
    "    \"\"\"\n",
    "    归一化权重\n",
    "    \"\"\"\n",
    "#     print(type(keywords))\n",
    "    a = 0.0\n",
    "    new_ks = []\n",
    "    for k in keywords:\n",
    "#         print(k)\n",
    "        a +=k[1]\n",
    "    for k in keywords:\n",
    "        new_ks.append((k[0],k[1]/a))\n",
    "    return new_ks\n",
    "\n",
    "def weight_char_embed(chars, top_k=5,vec_len=100):\n",
    "    \"\"\"\n",
    "    短语向量表示：加权词向量\n",
    "    \"\"\"\n",
    "    vec = np.zeros((vec_len))\n",
    "    chars = chars.replace(\" \", \"\")\n",
    "    keywords = get_keywords(chars)\n",
    "    keywords = keywords[0:top_k]\n",
    "#     print(keywords)\n",
    "    keywords = resize_weight(keywords)\n",
    "#     print(keywords)\n",
    "    for keyword in keywords:\n",
    "        for char in keyword[0]:\n",
    "            if char in char_pre_trained.keys():\n",
    "                vec +=char_pre_trained[char]*keyword[1]\n",
    "    return vec\n",
    "\n",
    "def batch_wce(lines):\n",
    "    return list(map(weight_char_embed,lines))"
   ]
  },
  {
   "cell_type": "code",
   "execution_count": null,
   "metadata": {},
   "outputs": [],
   "source": []
  },
  {
   "cell_type": "code",
   "execution_count": 18,
   "metadata": {},
   "outputs": [],
   "source": [
    "# chars = \"信息检索的PR曲线（Precision-Recall Curve）作图\"\n",
    "# weight_char_embed(chars)"
   ]
  },
  {
   "cell_type": "code",
   "execution_count": null,
   "metadata": {},
   "outputs": [],
   "source": []
  },
  {
   "cell_type": "code",
   "execution_count": null,
   "metadata": {},
   "outputs": [],
   "source": [
    "def get_inter_vocabs(pretrained_vocabs,text_vocab):\n",
    "    \"\"\"\n",
    "    词向量字典和文本字典的交集\n",
    "    \"\"\"\n",
    "    vocab = pretrained_vocabs & text_vocab\n",
    "    return vocab"
   ]
  },
  {
   "cell_type": "code",
   "execution_count": 3,
   "metadata": {},
   "outputs": [
    {
     "data": {
      "text/plain": [
       "48.0"
      ]
     },
     "execution_count": 3,
     "metadata": {},
     "output_type": "execute_result"
    }
   ],
   "source": [
    "8*1000*0.006"
   ]
  },
  {
   "cell_type": "code",
   "execution_count": 1,
   "metadata": {
    "tags": []
   },
   "outputs": [
    {
     "output_type": "stream",
     "name": "stderr",
     "text": "Using TensorFlow backend.\n"
    }
   ],
   "source": [
    "from keras.preprocessing.text import Tokenizer\n",
    "\n",
    "def corpus2vocab_keras(lines):\n",
    "    \"\"\"\n",
    "    lines: list,sentences\n",
    "    \"\"\"\n",
    "    seg_lines = batch_segment(lines)\n",
    "    tokenizer = Tokenizer()\n",
    "    tokenizer.fit_on_texts(seg_lines)\n",
    "    # `0` is a reserved index that won't be assigned to any word.\n",
    "    return tokenizer\n",
    "# tokenizer.word_index.keys() # text_vocab\n",
    "# len(tokenizer.word_counts)"
   ]
  },
  {
   "cell_type": "code",
   "execution_count": 2,
   "metadata": {},
   "outputs": [
    {
     "output_type": "error",
     "ename": "NameError",
     "evalue": "name 'batch_segment' is not defined",
     "traceback": [
      "\u001b[0;31m---------------------------------------------------------------------------\u001b[0m",
      "\u001b[0;31mNameError\u001b[0m                                 Traceback (most recent call last)",
      "\u001b[0;32m<ipython-input-2-8c48b1467993>\u001b[0m in \u001b[0;36m<module>\u001b[0;34m\u001b[0m\n\u001b[1;32m      1\u001b[0m \u001b[0;31m# keras 词频统计\u001b[0m\u001b[0;34m\u001b[0m\u001b[0;34m\u001b[0m\u001b[0;34m\u001b[0m\u001b[0m\n\u001b[1;32m      2\u001b[0m \u001b[0mtext\u001b[0m \u001b[0;34m=\u001b[0m \u001b[0;34m[\u001b[0m\u001b[0;34m\"今天北京下雨了\"\u001b[0m\u001b[0;34m,\u001b[0m \u001b[0;34m\"我今 加班\"\u001b[0m\u001b[0;34m]\u001b[0m\u001b[0;34m\u001b[0m\u001b[0;34m\u001b[0m\u001b[0m\n\u001b[0;32m----> 3\u001b[0;31m \u001b[0mcorpus2vocab_keras\u001b[0m\u001b[0;34m(\u001b[0m\u001b[0mtext\u001b[0m\u001b[0;34m)\u001b[0m\u001b[0;34m.\u001b[0m\u001b[0mword_counts\u001b[0m\u001b[0;34m\u001b[0m\u001b[0;34m\u001b[0m\u001b[0m\n\u001b[0m",
      "\u001b[0;32m<ipython-input-1-4bff7aeb7052>\u001b[0m in \u001b[0;36mcorpus2vocab_keras\u001b[0;34m(lines)\u001b[0m\n\u001b[1;32m      5\u001b[0m     \u001b[0mlines\u001b[0m\u001b[0;34m:\u001b[0m \u001b[0mlist\u001b[0m\u001b[0;34m,\u001b[0m\u001b[0msentences\u001b[0m\u001b[0;34m\u001b[0m\u001b[0;34m\u001b[0m\u001b[0m\n\u001b[1;32m      6\u001b[0m     \"\"\"\n\u001b[0;32m----> 7\u001b[0;31m     \u001b[0mseg_lines\u001b[0m \u001b[0;34m=\u001b[0m \u001b[0mbatch_segment\u001b[0m\u001b[0;34m(\u001b[0m\u001b[0mlines\u001b[0m\u001b[0;34m)\u001b[0m\u001b[0;34m\u001b[0m\u001b[0;34m\u001b[0m\u001b[0m\n\u001b[0m\u001b[1;32m      8\u001b[0m     \u001b[0mtokenizer\u001b[0m \u001b[0;34m=\u001b[0m \u001b[0mTokenizer\u001b[0m\u001b[0;34m(\u001b[0m\u001b[0;34m)\u001b[0m\u001b[0;34m\u001b[0m\u001b[0;34m\u001b[0m\u001b[0m\n\u001b[1;32m      9\u001b[0m     \u001b[0mtokenizer\u001b[0m\u001b[0;34m.\u001b[0m\u001b[0mfit_on_texts\u001b[0m\u001b[0;34m(\u001b[0m\u001b[0mseg_lines\u001b[0m\u001b[0;34m)\u001b[0m\u001b[0;34m\u001b[0m\u001b[0;34m\u001b[0m\u001b[0m\n",
      "\u001b[0;31mNameError\u001b[0m: name 'batch_segment' is not defined"
     ]
    }
   ],
   "source": [
    "# keras 词频统计\n",
    "text = [\"今天北京下雨了\", \"我今 加班\"]\n",
    "corpus2vocab_keras(text).word_counts"
   ]
  },
  {
   "cell_type": "code",
   "execution_count": 3,
   "metadata": {},
   "outputs": [],
   "source": [
    "def sent2seq(sent,tokenizer):\n",
    "    \"\"\"\n",
    "    func:句子生成word_index序列\n",
    "    sent: sentence,str\n",
    "    \"\"\"\n",
    "    texts = [segment(sent)]\n",
    "    return keras.preprocessing.sequence.pad_sequences(tokenizer.texts_to_sequences(texts), \n",
    "                                           maxlen=100,\n",
    "                                           padding=\"post\",\n",
    "                                           truncating=\"post\")[0]\n",
    "# sent2seq(\"我们乙方根据甲方的委托承包甲方指定的生产线项目，并与甲方共同选派作业人员，在遵守甲方的有关\")"
   ]
  },
  {
   "cell_type": "code",
   "execution_count": null,
   "metadata": {},
   "outputs": [],
   "source": []
  },
  {
   "cell_type": "code",
   "execution_count": 46,
   "metadata": {},
   "outputs": [],
   "source": [
    "# -*- cobert_encg:utf-8 -*-\n",
    "from bert_serving.client import BertClient\n",
    "from sklearn.metrics.pairwise import cosine_similarity\n",
    "\n",
    "\n",
    "class Encoding(object):\n",
    "    def __init__(self):\n",
    "        self.server_ip = \"127.0.0.1\"\n",
    "        self.bert_client = BertClient(ip=self.server_ip,check_length=False)\n",
    "\n",
    "    def encode(self, query):\n",
    "        tensor = self.bert_client.encode([query])\n",
    "        return tensor\n",
    "    \n",
    "    def encodes(self, queries):\n",
    "        tensors = self.bert_client.encode(queries)\n",
    "        return tensors\n",
    "\n",
    "    def query_similarity(self, query_list):\n",
    "        tensors = self.bert_client.encode(query_list)\n",
    "        return cosine_similarity(tensors)[0][1]\n",
    "    \n",
    "ec = Encoding()\n",
    "def bert_enc(sents):\n",
    "    def isempty(sent):\n",
    "        if not sent or sent.strip() == \"\":\n",
    "            return \"其它\"\n",
    "        else:\n",
    "            return sent\n",
    "    sents = list(map(isempty,sents))\n",
    "    return ec.encodes(sents)\n"
   ]
  },
  {
   "cell_type": "code",
   "execution_count": 11,
   "metadata": {},
   "outputs": [
    {
     "data": {
      "text/plain": [
       "1"
      ]
     },
     "execution_count": 11,
     "metadata": {},
     "output_type": "execute_result"
    }
   ],
   "source": [
    "round(0.7)"
   ]
  },
  {
   "cell_type": "code",
   "execution_count": 1,
   "metadata": {},
   "outputs": [
    {
     "data": {
      "text/plain": [
       "False"
      ]
     },
     "execution_count": 1,
     "metadata": {},
     "output_type": "execute_result"
    }
   ],
   "source": [
    "\"\" == None"
   ]
  },
  {
   "cell_type": "code",
   "execution_count": null,
   "metadata": {},
   "outputs": [],
   "source": []
  }
 ],
 "metadata": {
  "kernelspec": {
   "display_name": "Python 3",
   "language": "python",
   "name": "python3"
  },
  "language_info": {
   "codemirror_mode": {
    "name": "ipython",
    "version": 3
   },
   "file_extension": ".py",
   "mimetype": "text/x-python",
   "name": "python",
   "nbconvert_exporter": "python",
   "pygments_lexer": "ipython3",
   "version": "3.6.9-final"
  }
 },
 "nbformat": 4,
 "nbformat_minor": 4
}