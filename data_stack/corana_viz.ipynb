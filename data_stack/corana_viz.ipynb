{
 "cells": [
  {
   "cell_type": "code",
   "execution_count": 3,
   "metadata": {},
   "outputs": [],
   "source": [
    "import pandas as pd\n",
    "import matplotlib.pyplot as plt\n",
    "import matplotlib.animation as animation\n",
    "from time import sleep"
   ]
  },
  {
   "cell_type": "code",
   "execution_count": 1,
   "metadata": {},
   "outputs": [
    {
     "output_type": "execute_result",
     "data": {
      "text/plain": "5000000.0"
     },
     "metadata": {},
     "execution_count": 1
    }
   ],
   "source": [
    "15000 / 0.03 / 0.1"
   ]
  },
  {
   "cell_type": "code",
   "execution_count": 5,
   "metadata": {},
   "outputs": [],
   "source": [
    "#### ---- Step 1:- Download data\n",
    "# URL_DATASET = r'https://raw.githubusercontent.com/datasets/covid-19/master/data/countries-aggregated.csv'\n",
    "# df = pd.read_csv(URL_DATASET, usecols = ['Date', 'Country', 'Confirmed'])\n",
    "# print(df.head(3)) # uncomment this to see output"
   ]
  },
  {
   "cell_type": "code",
   "execution_count": null,
   "metadata": {},
   "outputs": [],
   "source": [
    "#### ---- Step 2:- Create list of all dates\n",
    "list_dates = df['Date'].unique()\n",
    "# print(list_dates) # Uncomment to see the dates"
   ]
  },
  {
   "cell_type": "code",
   "execution_count": null,
   "metadata": {},
   "outputs": [],
   "source": [
    "#### --- Step 3:- Pick 5 countries. Also create ax object\n",
    "fig, ax = plt.subplots(figsize=(15, 8))\n",
    "# We will animate for these 5 countries only\n",
    "list_countries = ['India', 'China', 'US', 'Italy', 'Spain']\n",
    "# colors for the 5 horizontal bars\n",
    "list_colors = ['black', 'red', 'green', 'blue', 'yellow']"
   ]
  },
  {
   "cell_type": "code",
   "execution_count": null,
   "metadata": {},
   "outputs": [],
   "source": [
    "### --- Step 4:- Write the call back function\n",
    "# plot_bar() is the call back function used in FuncAnimation class object\n",
    "def plot_bar(some_date):\n",
    "    df2 = df[df['Date'].eq(some_date)]\n",
    "    ax.clear()\n",
    "    # Only take Confirmed column in descending order\n",
    "    df3 = df2.sort_values(by = 'Confirmed', ascending = False)\n",
    "    # Select the top 5 Confirmed countries\n",
    "    df4 = df3[df3['Country'].isin(list_countries)]\n",
    "    # print(df4)  # Uncomment to see that dat is only for 5 countries\n",
    "    sleep(0.2)  # To slow down the animation\n",
    "    # ax.barh() makes a horizontal bar plot.\n",
    "    return ax.barh(df4['Country'], df4['Confirmed'], color= list_colors)"
   ]
  },
  {
   "cell_type": "code",
   "execution_count": 2,
   "metadata": {},
   "outputs": [
    {
     "output_type": "error",
     "ename": "NameError",
     "evalue": "name 'fig' is not defined",
     "traceback": [
      "\u001b[0;31m---------------------------------------------------------------------------\u001b[0m",
      "\u001b[0;31mNameError\u001b[0m                                 Traceback (most recent call last)",
      "\u001b[0;32m<ipython-input-2-2503623cd14b>\u001b[0m in \u001b[0;36m<module>\u001b[0;34m\u001b[0m\n\u001b[1;32m      1\u001b[0m \u001b[0;31m###----Step 5:- Create FuncAnimation object---------\u001b[0m\u001b[0;34m\u001b[0m\u001b[0;34m\u001b[0m\u001b[0;34m\u001b[0m\u001b[0m\n\u001b[0;32m----> 2\u001b[0;31m my_anim = animation.FuncAnimation(fig = fig, func = plot_bar,\n\u001b[0m\u001b[1;32m      3\u001b[0m                     \u001b[0mframes\u001b[0m\u001b[0;34m=\u001b[0m \u001b[0mlist_dates\u001b[0m\u001b[0;34m,\u001b[0m \u001b[0mblit\u001b[0m\u001b[0;34m=\u001b[0m\u001b[0;32mTrue\u001b[0m\u001b[0;34m,\u001b[0m\u001b[0;34m\u001b[0m\u001b[0;34m\u001b[0m\u001b[0m\n\u001b[1;32m      4\u001b[0m                     interval=20)\n",
      "\u001b[0;31mNameError\u001b[0m: name 'fig' is not defined"
     ]
    }
   ],
   "source": [
    "###----Step 5:- Create FuncAnimation object---------\n",
    "my_anim = animation.FuncAnimation(fig = fig, func = plot_bar,\n",
    "                    frames= list_dates, blit=True,\n",
    "                    interval=20)"
   ]
  },
  {
   "cell_type": "code",
   "execution_count": null,
   "metadata": {},
   "outputs": [],
   "source": [
    "### --- Step 6:- Save the animation to an mp4\n",
    "# Place where to save the mp4. Give your file path instead\n",
    "path_mp4 = r'C:\\Python-articles\\population_covid2.mp4'\n",
    "# my_anim.save(path_mp4, fps=30, extra_args=['-vcodec', 'libx264'])\n",
    "my_anim.save(filename = path_mp4, writer = 'ffmpeg',\n",
    "             fps=30,\n",
    "             extra_args= ['-vcodec', 'libx264', '-pix_fmt', 'yuv420p'])\n",
    "plt.show()"
   ]
  }
 ],
 "metadata": {
  "language_info": {
   "codemirror_mode": {
    "name": "ipython",
    "version": 3
   },
   "file_extension": ".py",
   "mimetype": "text/x-python",
   "name": "python",
   "nbconvert_exporter": "python",
   "pygments_lexer": "ipython3",
   "version": "3.6.9-final"
  },
  "orig_nbformat": 2,
  "kernelspec": {
   "name": "python36964bitb377107951a642b890c3e40487126bca",
   "display_name": "Python 3.6.9 64-bit"
  }
 },
 "nbformat": 4,
 "nbformat_minor": 2
}