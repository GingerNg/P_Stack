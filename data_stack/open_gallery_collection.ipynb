{
 "cells": [
  {
   "cell_type": "code",
   "execution_count": 2,
   "metadata": {},
   "outputs": [],
   "source": []
  },
  {
   "cell_type": "markdown",
   "metadata": {},
   "source": [
    "### gettyimages"
   ]
  },
  {
   "cell_type": "code",
   "execution_count": null,
   "metadata": {},
   "outputs": [],
   "source": []
  },
  {
   "cell_type": "markdown",
   "metadata": {},
   "source": [
    "### 视觉中国"
   ]
  },
  {
   "cell_type": "code",
   "execution_count": 8,
   "metadata": {},
   "outputs": [
    {
     "output_type": "execute_result",
     "data": {
      "text/plain": "24532.954545454544"
     },
     "metadata": {},
     "execution_count": 8
    }
   ],
   "source": [
    "2158900/88 "
   ]
  },
  {
   "cell_type": "code",
   "execution_count": 12,
   "metadata": {},
   "outputs": [
    {
     "output_type": "execute_result",
     "data": {
      "text/plain": "62309.09688265623"
     },
     "metadata": {},
     "execution_count": 12
    }
   ],
   "source": [
    "import math\n",
    "50000*math.pow(1.045,5)"
   ]
  },
  {
   "cell_type": "markdown",
   "metadata": {},
   "source": [
    "### pixabay\n",
    "\n",
    "https://pixabay.com/api/docs/"
   ]
  },
  {
   "cell_type": "code",
   "execution_count": 2,
   "metadata": {},
   "outputs": [],
   "source": [
    "import requests\n",
    "resp = requests.get(\"https://pixabay.com/api/?key=16300923-35cc98e6d97ff563af8778fda&p=flower&image_type=photo\")\n",
    "\n",
    "res = resp.json()"
   ]
  },
  {
   "cell_type": "markdown",
   "metadata": {},
   "source": []
  },
  {
   "cell_type": "code",
   "execution_count": 3,
   "metadata": {},
   "outputs": [
    {
     "output_type": "execute_result",
     "data": {
      "text/plain": "{'total': 1029587,\n 'totalHits': 500,\n 'hits': [{'id': 5133425,\n   'pageURL': 'https://pixabay.com/photos/landscape-desert-dunes-night-star-5133425/',\n   'type': 'photo',\n   'tags': 'landscape, desert, dunes',\n   'previewURL': 'https://cdn.pixabay.com/photo/2020/05/05/14/59/landscape-5133425_150.jpg',\n   'previewWidth': 150,\n   'previewHeight': 100,\n   'webformatURL': 'https://pixabay.com/get/53e1d6404e50a914f1dc84609629317d153fd7e7504c704c7d267bd69548c258_640.jpg',\n   'webformatWidth': 640,\n   'webformatHeight': 427,\n   'largeImageURL': 'https://pixabay.com/get/53e1d6404e50a914f6da8c7dda793678163fdeec51526c48702772d4954fc05fb8_1280.jpg',\n   'imageWidth': 7087,\n   'imageHeight': 4724,\n   'imageSize': 7527433,\n   'views': 8899,\n   'downloads': 6912,\n   'favorites': 26,\n   'likes': 81,\n   'comments': 60,\n   'user_id': 3764790,\n   'user': 'enriquelopezgarre',\n   'userImageURL': 'https://cdn.pixabay.com/user/2020/05/05/14-24-21-564_250x250.jpg'},\n  {'id': 5135407,\n   'pageURL': 'https://pixabay.com/photos/africa-zanzibar-beach-tanzania-5135407/',\n   'type': 'photo',\n   'tags': 'africa, zanzibar, beach',\n   'previewURL': 'https://cdn.pixabay.com/photo/2020/05/05/23/08/africa-5135407_150.jpg',\n   'previewWidth': 150,\n   'previewHeight': 92,\n   'webformatURL': 'https://pixabay.com/get/53e1d6464e52ab14f1dc84609629317d153fd7e7504c704c7d267bd69548c258_640.jpg',\n   'webformatWidth': 640,\n   'webformatHeight': 394,\n   'largeImageURL': 'https://pixabay.com/get/53e1d6464e52ab14f6da8c7dda793678163fdeec51526c48702772d4954fc05fb8_1280.jpg',\n   'imageWidth': 5595,\n   'imageHeight': 3445,\n   'imageSize': 2765404,\n   'views': 8496,\n   'downloads': 4141,\n   'favorites': 35,\n   'likes': 49,\n   'comments': 17,\n   'user_id': 8514736,\n   'user': 'klimentgrozdanoski',\n   'userImageURL': ''},\n  {'id': 5137147,\n   'pageURL': 'https://pixabay.com/photos/landscape-summer-beach-seagulls-5137147/',\n   'type': 'photo',\n   'tags': 'landscape, summer, beach',\n   'previewURL': 'https://cdn.pixabay.com/photo/2020/05/06/10/52/landscape-5137147_150.jpg',\n   'previewWidth': 150,\n   'previewHeight': 100,\n   'webformatURL': 'https://pixabay.com/get/53e1d6444b56ab14f1dc84609629317d153fd7e7504c704c7d267bd69548c258_640.jpg',\n   'webformatWidth': 640,\n   'webformatHeight': 427,\n   'largeImageURL': 'https://pixabay.com/get/53e1d6444b56ab14f6da8c7dda793678163fdeec51526c48702772d4954fc05fb8_1280.jpg',\n   'imageWidth': 7087,\n   'imageHeight': 4724,\n   'imageSize': 4871464,\n   'views': 2960,\n   'downloads': 2484,\n   'favorites': 21,\n   'likes': 59,\n   'comments': 50,\n   'user_id': 3764790,\n   'user': 'enriquelopezgarre',\n   'userImageURL': 'https://cdn.pixabay.com/user/2020/05/05/14-24-21-564_250x250.jpg'},\n  {'id': 5135097,\n   'pageURL': 'https://pixabay.com/photos/pond-water-reflection-willow-park-5135097/',\n   'type': 'photo',\n   'tags': 'pond, water, reflection',\n   'previewURL': 'https://cdn.pixabay.com/photo/2020/05/05/20/53/pond-5135097_150.jpg',\n   'previewWidth': 150,\n   'previewHeight': 102,\n   'webformatURL': 'https://pixabay.com/get/53e1d6464a5bab14f1dc84609629317d153fd7e7504c704c7d267bd69548c258_640.jpg',\n   'webformatWidth': 640,\n   'webformatHeight': 437,\n   'largeImageURL': 'https://pixabay.com/get/53e1d6464a5bab14f6da8c7dda793678163fdeec51526c48702772d4954fc05fb8_1280.jpg',\n   'imageWidth': 3000,\n   'imageHeight': 2050,\n   'imageSize': 3751935,\n   'views': 4192,\n   'downloads': 3523,\n   'favorites': 22,\n   'likes': 58,\n   'comments': 44,\n   'user_id': 1377835,\n   'user': 'MabelAmber',\n   'userImageURL': 'https://cdn.pixabay.com/user/2020/03/27/09-11-00-934_250x250.jpg'},\n  {'id': 5129717,\n   'pageURL': 'https://pixabay.com/photos/mckenzie-river-central-oregon-forest-5129717/',\n   'type': 'photo',\n   'tags': 'mckenzie river, central oregon, forest',\n   'previewURL': 'https://cdn.pixabay.com/photo/2020/05/04/16/05/mckenzie-river-5129717_150.jpg',\n   'previewWidth': 150,\n   'previewHeight': 100,\n   'webformatURL': 'https://pixabay.com/get/53e1d74a4d53ab14f1dc84609629317d153fd7e7504c704c7d267bd69548c258_640.jpg',\n   'webformatWidth': 640,\n   'webformatHeight': 426,\n   'largeImageURL': 'https://pixabay.com/get/53e1d74a4d53ab14f6da8c7dda793678163fdeec51526c48702772d4954fc05fb8_1280.jpg',\n   'imageWidth': 8288,\n   'imageHeight': 5520,\n   'imageSize': 21144868,\n   'views': 20890,\n   'downloads': 14618,\n   'favorites': 54,\n   'likes': 85,\n   'comments': 20,\n   'user_id': 15079075,\n   'user': 'HardebeckMedia',\n   'userImageURL': 'https://cdn.pixabay.com/user/2020/03/20/23-27-04-796_250x250.jpg'},\n  {'id': 5136175,\n   'pageURL': 'https://pixabay.com/photos/lily-of-the-valley-flower-nature-5136175/',\n   'type': 'photo',\n   'tags': 'lily of the valley, flower, nature',\n   'previewURL': 'https://cdn.pixabay.com/photo/2020/05/06/05/34/lily-of-the-valley-5136175_150.jpg',\n   'previewWidth': 150,\n   'previewHeight': 100,\n   'webformatURL': 'https://pixabay.com/get/53e1d6454b55a914f1dc84609629317d153fd7e7504c704c7d267bd69548c258_640.jpg',\n   'webformatWidth': 640,\n   'webformatHeight': 427,\n   'largeImageURL': 'https://pixabay.com/get/53e1d6454b55a914f6da8c7dda793678163fdeec51526c48702772d4954fc05fb8_1280.jpg',\n   'imageWidth': 6240,\n   'imageHeight': 4160,\n   'imageSize': 5013232,\n   'views': 868,\n   'downloads': 643,\n   'favorites': 20,\n   'likes': 50,\n   'comments': 43,\n   'user_id': 10327513,\n   'user': 'NickyPe',\n   'userImageURL': 'https://cdn.pixabay.com/user/2020/05/07/14-05-10-873_250x250.jpg'},\n  {'id': 5129646,\n   'pageURL': 'https://pixabay.com/photos/sparrow-sperling-bird-birdie-5129646/',\n   'type': 'photo',\n   'tags': 'sparrow, sperling, bird',\n   'previewURL': 'https://cdn.pixabay.com/photo/2020/05/04/15/40/sparrow-5129646_150.jpg',\n   'previewWidth': 150,\n   'previewHeight': 96,\n   'webformatURL': 'https://pixabay.com/get/53e1d74a4c56aa14f1dc84609629317d153fd7e7504c704c7d267bd69548c258_640.jpg',\n   'webformatWidth': 640,\n   'webformatHeight': 408,\n   'largeImageURL': 'https://pixabay.com/get/53e1d74a4c56aa14f6da8c7dda793678163fdeec51526c48702772d4954fc05fb8_1280.jpg',\n   'imageWidth': 5077,\n   'imageHeight': 3238,\n   'imageSize': 2098449,\n   'views': 2256,\n   'downloads': 1931,\n   'favorites': 19,\n   'likes': 51,\n   'comments': 41,\n   'user_id': 1767157,\n   'user': 'Capri23auto',\n   'userImageURL': 'https://cdn.pixabay.com/user/2020/03/08/13-28-25-556_250x250.jpg'},\n  {'id': 5134258,\n   'pageURL': 'https://pixabay.com/photos/river-water-nature-landscape-trees-5134258/',\n   'type': 'photo',\n   'tags': 'river, water, nature',\n   'previewURL': 'https://cdn.pixabay.com/photo/2020/05/05/17/59/river-5134258_150.jpg',\n   'previewWidth': 150,\n   'previewHeight': 100,\n   'webformatURL': 'https://pixabay.com/get/53e1d6474857a414f1dc84609629317d153fd7e7504c704c7d267bd69548c258_640.jpg',\n   'webformatWidth': 640,\n   'webformatHeight': 427,\n   'largeImageURL': 'https://pixabay.com/get/53e1d6474857a414f6da8c7dda793678163fdeec51526c48702772d4954fc05fb8_1280.jpg',\n   'imageWidth': 6000,\n   'imageHeight': 4000,\n   'imageSize': 9938080,\n   'views': 2322,\n   'downloads': 1871,\n   'favorites': 17,\n   'likes': 47,\n   'comments': 31,\n   'user_id': 165106,\n   'user': 'suju',\n   'userImageURL': 'https://cdn.pixabay.com/user/2020/03/11/21-17-16-167_250x250.jpeg'},\n  {'id': 5124174,\n   'pageURL': 'https://pixabay.com/photos/green-face-light-portrait-woman-5124174/',\n   'type': 'photo',\n   'tags': 'green, face, light',\n   'previewURL': 'https://cdn.pixabay.com/photo/2020/05/03/07/43/green-5124174_150.jpg',\n   'previewWidth': 150,\n   'previewHeight': 100,\n   'webformatURL': 'https://pixabay.com/get/53e1d7474b55a814f1dc84609629317d153fd7e7504c704c7d267bd69548c258_640.jpg',\n   'webformatWidth': 640,\n   'webformatHeight': 427,\n   'largeImageURL': 'https://pixabay.com/get/53e1d7474b55a814f6da8c7dda793678163fdeec51526c48702772d4954fc05fb8_1280.jpg',\n   'imageWidth': 5616,\n   'imageHeight': 3744,\n   'imageSize': 1242508,\n   'views': 12632,\n   'downloads': 9250,\n   'favorites': 60,\n   'likes': 59,\n   'comments': 11,\n   'user_id': 13521770,\n   'user': 'Nika_Akin',\n   'userImageURL': 'https://cdn.pixabay.com/user/2020/05/09/05-49-14-758_250x250.jpg'},\n  {'id': 5137238,\n   'pageURL': 'https://pixabay.com/photos/fairy-freedom-fairytale-fantasy-5137238/',\n   'type': 'photo',\n   'tags': 'fairy, freedom, fairytale',\n   'previewURL': 'https://cdn.pixabay.com/photo/2020/05/06/11/41/fairy-5137238_150.jpg',\n   'previewWidth': 128,\n   'previewHeight': 150,\n   'webformatURL': 'https://pixabay.com/get/53e1d6444851a414f1dc84609629317d153fd7e7504c704c7d267bd69548c258_640.jpg',\n   'webformatWidth': 548,\n   'webformatHeight': 640,\n   'largeImageURL': 'https://pixabay.com/get/53e1d6444851a414f6da8c7dda793678163fdeec51526c48702772d4954fc05fb8_1280.jpg',\n   'imageWidth': 2571,\n   'imageHeight': 3000,\n   'imageSize': 2536597,\n   'views': 1899,\n   'downloads': 1602,\n   'favorites': 19,\n   'likes': 43,\n   'comments': 36,\n   'user_id': 13452116,\n   'user': 'Syaibatulhamdi',\n   'userImageURL': 'https://cdn.pixabay.com/user/2020/01/29/07-13-31-807_250x250.jpg'},\n  {'id': 5137904,\n   'pageURL': 'https://pixabay.com/photos/sasanki-flowers-garden-nature-5137904/',\n   'type': 'photo',\n   'tags': 'sasanki, flowers, garden',\n   'previewURL': 'https://cdn.pixabay.com/photo/2020/05/06/14/59/sasanki-5137904_150.jpg',\n   'previewWidth': 150,\n   'previewHeight': 100,\n   'webformatURL': 'https://pixabay.com/get/53e1d6444352a814f1dc84609629317d153fd7e7504c704c7d267bd69548c258_640.jpg',\n   'webformatWidth': 640,\n   'webformatHeight': 427,\n   'largeImageURL': 'https://pixabay.com/get/53e1d6444352a814f6da8c7dda793678163fdeec51526c48702772d4954fc05fb8_1280.jpg',\n   'imageWidth': 4240,\n   'imageHeight': 2832,\n   'imageSize': 2162104,\n   'views': 724,\n   'downloads': 580,\n   'favorites': 6,\n   'likes': 31,\n   'comments': 26,\n   'user_id': 9363663,\n   'user': 'Nowaja',\n   'userImageURL': 'https://cdn.pixabay.com/user/2018/08/23/19-05-57-97_250x250.jpg'},\n  {'id': 5112952,\n   'pageURL': 'https://pixabay.com/photos/mountains-and-hills-tea-the-leaves-5112952/',\n   'type': 'photo',\n   'tags': 'mountains and hills, tea, the leaves',\n   'previewURL': 'https://cdn.pixabay.com/photo/2020/04/30/14/03/mountains-and-hills-5112952_150.jpg',\n   'previewWidth': 150,\n   'previewHeight': 94,\n   'webformatURL': 'https://pixabay.com/get/53e1d4414357ae14f1dc84609629317d153fd7e7504c704c7d267bd69548c258_640.jpg',\n   'webformatWidth': 640,\n   'webformatHeight': 400,\n   'largeImageURL': 'https://pixabay.com/get/53e1d4414357ae14f6da8c7dda793678163fdeec51526c48702772d4954fc05fb8_1280.jpg',\n   'imageWidth': 3960,\n   'imageHeight': 2475,\n   'imageSize': 6596244,\n   'views': 23476,\n   'downloads': 17904,\n   'favorites': 43,\n   'likes': 98,\n   'comments': 25,\n   'user_id': 16040547,\n   'user': 'nuidoithaonguyen',\n   'userImageURL': 'https://cdn.pixabay.com/user/2020/04/14/13-56-13-573_250x250.jpg'},\n  {'id': 5119823,\n   'pageURL': 'https://pixabay.com/photos/butterfly-butterflies-flight-insect-5119823/',\n   'type': 'photo',\n   'tags': 'butterfly, butterflies, flight insect',\n   'previewURL': 'https://cdn.pixabay.com/photo/2020/05/02/04/19/butterfly-5119823_150.jpg',\n   'previewWidth': 150,\n   'previewHeight': 104,\n   'webformatURL': 'https://pixabay.com/get/53e1d44a4250af14f1dc84609629317d153fd7e7504c704c7d267bd69548c258_640.jpg',\n   'webformatWidth': 640,\n   'webformatHeight': 443,\n   'largeImageURL': 'https://pixabay.com/get/53e1d44a4250af14f6da8c7dda793678163fdeec51526c48702772d4954fc05fb8_1280.jpg',\n   'imageWidth': 4971,\n   'imageHeight': 3444,\n   'imageSize': 2724354,\n   'views': 13354,\n   'downloads': 11606,\n   'favorites': 32,\n   'likes': 80,\n   'comments': 67,\n   'user_id': 1767157,\n   'user': 'Capri23auto',\n   'userImageURL': 'https://cdn.pixabay.com/user/2020/03/08/13-28-25-556_250x250.jpg'},\n  {'id': 5143015,\n   'pageURL': 'https://pixabay.com/photos/forget-me-not-forget-my-not-5143015/',\n   'type': 'photo',\n   'tags': 'forget me not, forget my not, pointed flower',\n   'previewURL': 'https://cdn.pixabay.com/photo/2020/05/07/20/12/forget-me-not-5143015_150.jpg',\n   'previewWidth': 150,\n   'previewHeight': 100,\n   'webformatURL': 'https://pixabay.com/get/53e1d1404a53a914f1dc84609629317d153fd7e7504c704c7d267bd69548c258_640.jpg',\n   'webformatWidth': 640,\n   'webformatHeight': 427,\n   'largeImageURL': 'https://pixabay.com/get/53e1d1404a53a914f6da8c7dda793678163fdeec51526c48702772d4954fc05fb8_1280.jpg',\n   'imageWidth': 5809,\n   'imageHeight': 3873,\n   'imageSize': 3759081,\n   'views': 268,\n   'downloads': 199,\n   'favorites': 5,\n   'likes': 30,\n   'comments': 46,\n   'user_id': 12752456,\n   'user': 'Mammiya',\n   'userImageURL': 'https://cdn.pixabay.com/user/2020/05/05/20-51-48-746_250x250.jpeg'},\n  {'id': 5133424,\n   'pageURL': 'https://pixabay.com/photos/landscape-sea-beach-rocks-sky-5133424/',\n   'type': 'photo',\n   'tags': 'landscape, sea, beach',\n   'previewURL': 'https://cdn.pixabay.com/photo/2020/05/05/14/59/landscape-5133424_150.jpg',\n   'previewWidth': 150,\n   'previewHeight': 100,\n   'webformatURL': 'https://pixabay.com/get/53e1d6404e50a814f1dc84609629317d153fd7e7504c704c7d267bd69548c258_640.jpg',\n   'webformatWidth': 640,\n   'webformatHeight': 427,\n   'largeImageURL': 'https://pixabay.com/get/53e1d6404e50a814f6da8c7dda793678163fdeec51526c48702772d4954fc05fb8_1280.jpg',\n   'imageWidth': 5858,\n   'imageHeight': 3905,\n   'imageSize': 7113298,\n   'views': 2959,\n   'downloads': 2479,\n   'favorites': 14,\n   'likes': 41,\n   'comments': 33,\n   'user_id': 3764790,\n   'user': 'enriquelopezgarre',\n   'userImageURL': 'https://cdn.pixabay.com/user/2020/05/05/14-24-21-564_250x250.jpg'},\n  {'id': 5118370,\n   'pageURL': 'https://pixabay.com/photos/landscape-palms-parrots-vegetation-5118370/',\n   'type': 'photo',\n   'tags': 'landscape, palms, parrots',\n   'previewURL': 'https://cdn.pixabay.com/photo/2020/05/01/17/49/landscape-5118370_150.jpg',\n   'previewWidth': 150,\n   'previewHeight': 100,\n   'webformatURL': 'https://pixabay.com/get/53e1d44b4955ac14f1dc84609629317d153fd7e7504c704c7d267bd69548c258_640.jpg',\n   'webformatWidth': 640,\n   'webformatHeight': 427,\n   'largeImageURL': 'https://pixabay.com/get/53e1d44b4955ac14f6da8c7dda793678163fdeec51526c48702772d4954fc05fb8_1280.jpg',\n   'imageWidth': 7087,\n   'imageHeight': 4724,\n   'imageSize': 8504428,\n   'views': 11591,\n   'downloads': 9524,\n   'favorites': 42,\n   'likes': 89,\n   'comments': 56,\n   'user_id': 3764790,\n   'user': 'enriquelopezgarre',\n   'userImageURL': 'https://cdn.pixabay.com/user/2020/05/05/14-24-21-564_250x250.jpg'},\n  {'id': 5128742,\n   'pageURL': 'https://pixabay.com/photos/smile-laugh-luck-happy-joy-5128742/',\n   'type': 'photo',\n   'tags': 'smile, laugh, luck',\n   'previewURL': 'https://cdn.pixabay.com/photo/2020/05/04/11/19/smile-5128742_150.jpg',\n   'previewWidth': 150,\n   'previewHeight': 100,\n   'webformatURL': 'https://pixabay.com/get/53e1d74b4d56ae14f1dc84609629317d153fd7e7504c704c7d267bd69548c258_640.jpg',\n   'webformatWidth': 640,\n   'webformatHeight': 427,\n   'largeImageURL': 'https://pixabay.com/get/53e1d74b4d56ae14f6da8c7dda793678163fdeec51526c48702772d4954fc05fb8_1280.jpg',\n   'imageWidth': 3547,\n   'imageHeight': 2364,\n   'imageSize': 2259179,\n   'views': 6316,\n   'downloads': 4520,\n   'favorites': 21,\n   'likes': 59,\n   'comments': 50,\n   'user_id': 11197573,\n   'user': 'Kranich17',\n   'userImageURL': 'https://cdn.pixabay.com/user/2020/05/06/10-51-52-927_250x250.jpg'},\n  {'id': 5135231,\n   'pageURL': 'https://pixabay.com/photos/tulips-flowers-spring-flowers-5135231/',\n   'type': 'photo',\n   'tags': 'tulips, flowers, spring flowers',\n   'previewURL': 'https://cdn.pixabay.com/photo/2020/05/05/21/47/tulips-5135231_150.jpg',\n   'previewWidth': 150,\n   'previewHeight': 113,\n   'webformatURL': 'https://pixabay.com/get/53e1d6464851ad14f1dc84609629317d153fd7e7504c704c7d267bd69548c258_640.jpg',\n   'webformatWidth': 640,\n   'webformatHeight': 481,\n   'largeImageURL': 'https://pixabay.com/get/53e1d6464851ad14f6da8c7dda793678163fdeec51526c48702772d4954fc05fb8_1280.jpg',\n   'imageWidth': 4389,\n   'imageHeight': 3296,\n   'imageSize': 5956134,\n   'views': 1410,\n   'downloads': 1200,\n   'favorites': 6,\n   'likes': 52,\n   'comments': 48,\n   'user_id': 1425977,\n   'user': 'Heidelbergerin',\n   'userImageURL': 'https://cdn.pixabay.com/user/2020/03/15/20-09-49-911_250x250.jpeg'},\n  {'id': 5142197,\n   'pageURL': 'https://pixabay.com/photos/landscape-mountains-snow-swan-sky-5142197/',\n   'type': 'photo',\n   'tags': 'landscape, mountains, snow',\n   'previewURL': 'https://cdn.pixabay.com/photo/2020/05/07/16/39/landscape-5142197_150.jpg',\n   'previewWidth': 150,\n   'previewHeight': 100,\n   'webformatURL': 'https://pixabay.com/get/53e1d1414b5bab14f1dc84609629317d153fd7e7504c704c7d267bd69548c258_640.jpg',\n   'webformatWidth': 640,\n   'webformatHeight': 427,\n   'largeImageURL': 'https://pixabay.com/get/53e1d1414b5bab14f6da8c7dda793678163fdeec51526c48702772d4954fc05fb8_1280.jpg',\n   'imageWidth': 7087,\n   'imageHeight': 4724,\n   'imageSize': 5573975,\n   'views': 835,\n   'downloads': 668,\n   'favorites': 10,\n   'likes': 50,\n   'comments': 44,\n   'user_id': 3764790,\n   'user': 'enriquelopezgarre',\n   'userImageURL': 'https://cdn.pixabay.com/user/2020/05/05/14-24-21-564_250x250.jpg'},\n  {'id': 5135304,\n   'pageURL': 'https://pixabay.com/photos/animal-bird-tit-parus-major-5135304/',\n   'type': 'photo',\n   'tags': 'animal, bird, tit',\n   'previewURL': 'https://cdn.pixabay.com/photo/2020/05/05/22/34/animal-5135304_150.jpg',\n   'previewWidth': 150,\n   'previewHeight': 100,\n   'webformatURL': 'https://pixabay.com/get/53e1d6464952a814f1dc84609629317d153fd7e7504c704c7d267bd69548c258_640.jpg',\n   'webformatWidth': 640,\n   'webformatHeight': 426,\n   'largeImageURL': 'https://pixabay.com/get/53e1d6464952a814f6da8c7dda793678163fdeec51526c48702772d4954fc05fb8_1280.jpg',\n   'imageWidth': 3148,\n   'imageHeight': 2097,\n   'imageSize': 1111064,\n   'views': 1321,\n   'downloads': 1056,\n   'favorites': 19,\n   'likes': 34,\n   'comments': 18,\n   'user_id': 740865,\n   'user': 'Oldiefan',\n   'userImageURL': 'https://cdn.pixabay.com/user/2016/06/08/21-49-55-294_250x250.jpg'}]}"
     },
     "metadata": {},
     "execution_count": 3
    }
   ],
   "source": [
    "res"
   ]
  },
  {
   "cell_type": "code",
   "execution_count": 16,
   "metadata": {},
   "outputs": [
    {
     "output_type": "error",
     "ename": "KeyError",
     "evalue": "'status'",
     "traceback": [
      "\u001b[0;31m---------------------------------------------------------------------------\u001b[0m",
      "\u001b[0;31mKeyError\u001b[0m                                  Traceback (most recent call last)",
      "\u001b[0;32m<ipython-input-16-13bf8ef9a706>\u001b[0m in \u001b[0;36m<module>\u001b[0;34m\u001b[0m\n\u001b[0;32m----> 1\u001b[0;31m \u001b[0mres\u001b[0m\u001b[0;34m[\u001b[0m\u001b[0;34m\"status\"\u001b[0m\u001b[0;34m]\u001b[0m\u001b[0;34m\u001b[0m\u001b[0;34m\u001b[0m\u001b[0m\n\u001b[0m",
      "\u001b[0;31mKeyError\u001b[0m: 'status'"
     ]
    }
   ],
   "source": [
    "res[\"status\"]"
   ]
  },
  {
   "cell_type": "code",
   "execution_count": null,
   "metadata": {},
   "outputs": [],
   "source": []
  }
 ],
 "metadata": {
  "language_info": {
   "codemirror_mode": {
    "name": "ipython",
    "version": 3
   },
   "file_extension": ".py",
   "mimetype": "text/x-python",
   "name": "python",
   "nbconvert_exporter": "python",
   "pygments_lexer": "ipython3",
   "version": "3.6.9-final"
  },
  "orig_nbformat": 2,
  "kernelspec": {
   "name": "python36964bitb377107951a642b890c3e40487126bca",
   "display_name": "Python 3.6.9 64-bit"
  }
 },
 "nbformat": 4,
 "nbformat_minor": 2
}