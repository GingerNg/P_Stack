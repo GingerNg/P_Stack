{
 "cells": [
  {
   "cell_type": "code",
   "execution_count": null,
   "metadata": {},
   "outputs": [],
   "source": []
  },
  {
   "cell_type": "code",
   "execution_count": 3,
   "metadata": {},
   "outputs": [],
   "source": [
    "from elasticsearch import Elasticsearch"
   ]
  },
  {
   "cell_type": "code",
   "execution_count": 4,
   "metadata": {},
   "outputs": [],
   "source": [
    "es_host = \"192.168.1.211\"  # todo\n",
    "es_port = \"8030\"\n",
    "es_cluster = []\n",
    "es_cluster.append({\"host\": es_host, \"port\": es_port})"
   ]
  },
  {
   "cell_type": "code",
   "execution_count": 5,
   "metadata": {},
   "outputs": [],
   "source": [
    "client = Elasticsearch(hosts=es_cluster)"
   ]
  },
  {
   "cell_type": "code",
   "execution_count": 14,
   "metadata": {},
   "outputs": [],
   "source": [
    "index_name = \"index_dev_9999\"\n",
    "doctype_name = \"index_dev_9999\""
   ]
  },
  {
   "cell_type": "markdown",
   "metadata": {},
   "source": [
    "### 插入数据"
   ]
  },
  {
   "cell_type": "code",
   "execution_count": 11,
   "metadata": {},
   "outputs": [
    {
     "data": {
      "text/plain": [
       "{'_index': 'index_dev_9999',\n",
       " '_type': 'index_dev_9999',\n",
       " '_id': '201908989asasasa1',\n",
       " '_version': 1,\n",
       " 'result': 'created',\n",
       " '_shards': {'total': 2, 'successful': 2, 'failed': 0},\n",
       " '_seq_no': 0,\n",
       " '_primary_term': 1}"
      ]
     },
     "execution_count": 11,
     "metadata": {},
     "output_type": "execute_result"
    }
   ],
   "source": [
    "_id =  \"201908989asasasa1\"\n",
    "write_obj ={\n",
    "          \"file_id\":_id,\n",
    "#             \"_id\": \"201908989asasasa1\",\n",
    "            \"name\":\"Dijkstra算法\",\n",
    "            \"content\":\" \".join(list(\"qweqasdDijkstra算法是由荷兰计算机科学家狄克斯特拉（Dijkstra）于1959 年提出的\"))\n",
    "        }\n",
    "client.index(index=index_name, doc_type=doctype_name, body=write_obj, id=_id)"
   ]
  },
  {
   "cell_type": "code",
   "execution_count": 59,
   "metadata": {},
   "outputs": [],
   "source": [
    "query_body ={\n",
    "    \"query\":{\n",
    "      \"bool\": {\n",
    "        \"should\": [\n",
    "#           {          \n",
    "#             \"multi_match\": {\n",
    "#                     \"query\": \"狄 克 斯 特 拉\",\n",
    "#                     \"type\": \"phrase\",\n",
    "#                     \"slop\": 0,\n",
    "#                     \"fields\": [\"content\"]\n",
    "#                 }\n",
    "#             },\n",
    "          {          \n",
    "            \"multi_match\": {\n",
    "                    \"query\": \"s t  r a 算 法\",\n",
    "                    \"type\": \"phrase\",\n",
    "                    \"slop\": 0,\n",
    "                    \"fields\": [\"content\"]\n",
    "                }\n",
    "            }\n",
    "        ]\n",
    "      }\n",
    "    }\n",
    "}"
   ]
  },
  {
   "cell_type": "code",
   "execution_count": 60,
   "metadata": {},
   "outputs": [
    {
     "data": {
      "text/plain": [
       "{'took': 2,\n",
       " 'timed_out': False,\n",
       " '_shards': {'total': 5, 'successful': 5, 'skipped': 0, 'failed': 0},\n",
       " 'hits': {'total': 1,\n",
       "  'max_score': 1.7406247,\n",
       "  'hits': [{'_index': 'index_dev_9999',\n",
       "    '_type': 'index_dev_9999',\n",
       "    '_id': '201908989asasasa1',\n",
       "    '_score': 1.7406247,\n",
       "    '_source': {'file_id': '201908989asasasa1',\n",
       "     'name': 'Dijkstra算法',\n",
       "     'content': 'q w e q a s d D i j k s t r a 算 法 是 由 荷 兰 计 算 机 科 学 家 狄 克 斯 特 拉 （ D i j k s t r a ） 于 1 9 5 9   年 提 出 的'}}]}}"
      ]
     },
     "execution_count": 60,
     "metadata": {},
     "output_type": "execute_result"
    }
   ],
   "source": [
    "search_offset=0\n",
    "search_size=20\n",
    "client.search(body=query_body,index=index_name,doc_type=doctype_name,from_=search_offset,size=search_size,search_type=\"dfs_query_then_fetch\")\n"
   ]
  },
  {
   "cell_type": "code",
   "execution_count": null,
   "metadata": {},
   "outputs": [],
   "source": []
  }
 ],
 "metadata": {
  "kernelspec": {
   "display_name": "Python 3",
   "language": "python",
   "name": "python3"
  },
  "language_info": {
   "codemirror_mode": {
    "name": "ipython",
    "version": 3
   },
   "file_extension": ".py",
   "mimetype": "text/x-python",
   "name": "python",
   "nbconvert_exporter": "python",
   "pygments_lexer": "ipython3",
   "version": "3.6.5"
  }
 },
 "nbformat": 4,
 "nbformat_minor": 4
}
