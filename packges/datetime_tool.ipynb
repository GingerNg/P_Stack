{
 "nbformat": 4,
 "nbformat_minor": 2,
 "metadata": {
  "language_info": {
   "name": "python",
   "codemirror_mode": {
    "name": "ipython",
    "version": 3
   },
   "version": "3.6.9-final"
  },
  "orig_nbformat": 2,
  "file_extension": ".py",
  "mimetype": "text/x-python",
  "name": "python",
  "npconvert_exporter": "python",
  "pygments_lexer": "ipython3",
  "version": 3,
  "kernelspec": {
   "name": "python36964bitd089ad358d3043c7a538c119ed8c116f",
   "display_name": "Python 3.6.9 64-bit"
  }
 },
 "cells": [
  {
   "cell_type": "markdown",
   "metadata": {},
   "source": [
    "## 时间处理工具"
   ]
  },
  {
   "cell_type": "code",
   "execution_count": 1,
   "metadata": {},
   "outputs": [],
   "source": [
    "import datetime"
   ]
  },
  {
   "cell_type": "code",
   "execution_count": 2,
   "metadata": {},
   "outputs": [
    {
     "output_type": "execute_result",
     "data": {
      "text/plain": "'2020-08-12'"
     },
     "metadata": {},
     "execution_count": 2
    }
   ],
   "source": [
    "str(datetime.date.today())"
   ]
  },
  {
   "cell_type": "code",
   "execution_count": 9,
   "metadata": {},
   "outputs": [
    {
     "output_type": "execute_result",
     "data": {
      "text/plain": "'2020-08-12 09:59:59.261395'"
     },
     "metadata": {},
     "execution_count": 9
    }
   ],
   "source": [
    "str(datetime.datetime.now()) # 获取当前时间"
   ]
  },
  {
   "cell_type": "code",
   "execution_count": 3,
   "metadata": {},
   "outputs": [
    {
     "output_type": "stream",
     "name": "stdout",
     "text": "3\n"
    }
   ],
   "source": [
    "import pendulum\n",
    "\n",
    "dt_toronto = pendulum.datetime(2012, 1, 1, tz='America/Toronto')\n",
    "dt_vancouver = pendulum.datetime(2012, 1, 1, tz='America/Vancouver')\n",
    "\n",
    "print(dt_vancouver.diff(dt_toronto).in_hours())"
   ]
  },
  {
   "cell_type": "code",
   "execution_count": 6,
   "metadata": {},
   "outputs": [
    {
     "output_type": "stream",
     "text": "\u001b[0;31mType:\u001b[0m        module\n\u001b[0;31mString form:\u001b[0m <module 'pendulum' from '/home/ginger/.local/lib/python3.6/site-packages/pendulum/__init__.py'>\n\u001b[0;31mFile:\u001b[0m        ~/.local/lib/python3.6/site-packages/pendulum/__init__.py\n\u001b[0;31mDocstring:\u001b[0m   <no docstring>\n"
    }
   ],
   "source": [
    "pendulum?"
   ]
  },
  {
   "cell_type": "code",
   "execution_count": 4,
   "metadata": {},
   "outputs": [
    {
     "output_type": "stream",
     "text": "\u001b[0;31mType:\u001b[0m            DateTime\n\u001b[0;31mString form:\u001b[0m     2012-01-01T00:00:00-05:00\n\u001b[0;31mFile:\u001b[0m            ~/.local/lib/python3.6/site-packages/pendulum/datetime.py\n\u001b[0;31mDocstring:\u001b[0m       <no docstring>\n\u001b[0;31mClass docstring:\u001b[0m\ndatetime(year, month, day[, hour[, minute[, second[, microsecond[,tzinfo]]]]])\n\nThe year, month and day arguments are required. tzinfo may be None, or an\ninstance of a tzinfo subclass. The remaining arguments may be ints.\n"
    }
   ],
   "source": [
    "dt_toronto?"
   ]
  },
  {
   "cell_type": "code",
   "execution_count": null,
   "metadata": {},
   "outputs": [],
   "source": []
  },
  {
   "cell_type": "code",
   "execution_count": 1,
   "metadata": {},
   "outputs": [
    {
     "output_type": "execute_result",
     "data": {
      "text/plain": "<DstTzInfo 'Asia/Shanghai' LMT+8:06:00 STD>"
     },
     "metadata": {},
     "execution_count": 1
    }
   ],
   "source": [
    "import pytz\n",
    "tz = pytz.timezone('Asia/Shanghai')\n",
    "tz"
   ]
  },
  {
   "cell_type": "code",
   "execution_count": null,
   "metadata": {},
   "outputs": [],
   "source": []
  }
 ]
}