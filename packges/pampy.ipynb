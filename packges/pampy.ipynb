{
 "metadata": {
  "language_info": {
   "codemirror_mode": {
    "name": "ipython",
    "version": 3
   },
   "file_extension": ".py",
   "mimetype": "text/x-python",
   "name": "python",
   "nbconvert_exporter": "python",
   "pygments_lexer": "ipython3",
   "version": "3.8.2"
  },
  "orig_nbformat": 2,
  "kernelspec": {
   "name": "python382jvsc74a57bd031f2aee4e71d21fbe5cf8b01ff0e069b9275f58929596ceb00d14d90e3e16cd6",
   "display_name": "Python 3.8.2 64-bit"
  },
  "metadata": {
   "interpreter": {
    "hash": "31f2aee4e71d21fbe5cf8b01ff0e069b9275f58929596ceb00d14d90e3e16cd6"
   }
  }
 },
 "nbformat": 4,
 "nbformat_minor": 2,
 "cells": [
  {
   "source": [
    "[Python 超级强大的模式匹配工具—Pampy](https://mp.weixin.qq.com/s/oZ6delgqHgLkTI6STK5Wag)"
   ],
   "cell_type": "markdown",
   "metadata": {}
  },
  {
   "cell_type": "code",
   "execution_count": 1,
   "metadata": {},
   "outputs": [
    {
     "output_type": "stream",
     "name": "stdout",
     "text": [
      "[-1, (-2, -3, 0, 1, 2, 3)]\n"
     ]
    }
   ],
   "source": [
    "from pampy import match, HEAD, TAIL, _\n",
    "x = [-1, -2, -3, 0, 1, 2, 3]\n",
    "print(match(x, [-1, TAIL], lambda t: [-1, tuple(t)]))"
   ]
  },
  {
   "cell_type": "code",
   "execution_count": 2,
   "metadata": {},
   "outputs": [
    {
     "output_type": "stream",
     "name": "stdout",
     "text": [
      "('user_setting', ['beautiful', 'ugly'])\n"
     ]
    }
   ],
   "source": [
    "from pampy import match, HEAD, TAIL, _\n",
    "\n",
    "my_dict = {\n",
    "    'global_setting': [1, 3, 3],\n",
    "    'user_setting': {\n",
    "        'face': ['beautiful', 'ugly'],\n",
    "        'mind': ['smart', 'stupid']\n",
    "    }\n",
    "}\n",
    "result = match(my_dict, { _: {'face': _}}, lambda key, son_value: (key, son_value))\n",
    "\n",
    "print(result)"
   ]
  },
  {
   "cell_type": "code",
   "execution_count": 3,
   "metadata": {},
   "outputs": [
    {
     "output_type": "stream",
     "name": "stdout",
     "text": [
      "你像鳕鱼\n"
     ]
    }
   ],
   "source": [
    "import re\n",
    "from pampy import match, HEAD, TAIL, _\n",
    "\n",
    "def what_is(pet):\n",
    "    return match(\n",
    "        pet, re.compile('(\\w+)，(\\w)\\w+鳕鱼$'), lambda mygod, you: you + \"像鳕鱼\"\n",
    "    )\n",
    "\n",
    "print(what_is('我的天，你长得真像鳕鱼'))"
   ]
  },
  {
   "cell_type": "code",
   "execution_count": null,
   "metadata": {},
   "outputs": [],
   "source": []
  }
 ]
}