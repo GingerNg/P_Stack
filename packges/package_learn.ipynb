{
 "nbformat": 4,
 "nbformat_minor": 2,
 "metadata": {
  "language_info": {
   "name": "python",
   "codemirror_mode": {
    "name": "ipython",
    "version": 3
   },
   "version": "3.6.9-final"
  },
  "orig_nbformat": 2,
  "file_extension": ".py",
  "mimetype": "text/x-python",
  "name": "python",
  "npconvert_exporter": "python",
  "pygments_lexer": "ipython3",
  "version": 3,
  "kernelspec": {
   "name": "python36964bit22edd0bdbbe346f89f42f9317dc8ca70",
   "display_name": "Python 3.6.9 64-bit"
  }
 },
 "cells": [
  {
   "cell_type": "markdown",
   "metadata": {},
   "source": [
    "### Methods"
   ]
  },
  {
   "cell_type": "code",
   "execution_count": 1,
   "metadata": {},
   "outputs": [
    {
     "name": "stdout",
     "output_type": "stream",
     "text": "executing class_foo(<class '__main__.A'>,7)\nexecuting foo(<__main__.A object at 0x7ff9800d5898>,8)\nexecuting static_foo(9)\nexecuting class_foo(<class '__main__.A'>,10)\nexecuting static_foo(11)\n"
    }
   ],
   "source": [
    "def foo(x):\n",
    "    print(\"executing foo(%s)\" % (x))\n",
    "\n",
    "\n",
    "class A(object):\n",
    "    def foo(self, x):\n",
    "        print(\"executing foo(%s,%s)\" % (self, x))\n",
    "\n",
    "    @classmethod\n",
    "    def class_foo(cls, x):\n",
    "        print(\"executing class_foo(%s,%s)\" % (cls, x))\n",
    "\n",
    "    @staticmethod\n",
    "    def static_foo(x):\n",
    "        print(\"executing static_foo(%s)\" % x)\n",
    "\n",
    "\n",
    "a = A()\n",
    "a.class_foo(7)\n",
    "a.foo(8)\n",
    "a.static_foo(9)\n",
    "\n",
    "A.class_foo(10)\n",
    "A.static_foo(11)"
   ]
  },
  {
   "cell_type": "code",
   "execution_count": null,
   "metadata": {},
   "outputs": [],
   "source": []
  }
 ]
}