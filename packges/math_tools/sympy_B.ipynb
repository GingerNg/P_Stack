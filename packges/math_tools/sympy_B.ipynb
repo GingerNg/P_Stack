{
 "metadata": {
  "language_info": {
   "codemirror_mode": {
    "name": "ipython",
    "version": 3
   },
   "file_extension": ".py",
   "mimetype": "text/x-python",
   "name": "python",
   "nbconvert_exporter": "python",
   "pygments_lexer": "ipython3",
   "version": "3.6.9"
  },
  "orig_nbformat": 2,
  "kernelspec": {
   "name": "python3",
   "display_name": "Python 3",
   "language": "python"
  }
 },
 "nbformat": 4,
 "nbformat_minor": 2,
 "cells": [
  {
   "cell_type": "code",
   "execution_count": 1,
   "metadata": {},
   "outputs": [],
   "source": [
    "import sympy"
   ]
  },
  {
   "cell_type": "code",
   "execution_count": 2,
   "metadata": {},
   "outputs": [
    {
     "output_type": "stream",
     "name": "stdout",
     "text": [
      "34.0000000000000\n"
     ]
    }
   ],
   "source": [
    "#--------多项式求解--------\n",
    "#定义变量\n",
    "x=sympy.Symbol('x')\n",
    "fx=5*x+4\n",
    "#使用evalf函数传值\n",
    "y1=fx.evalf(subs={x:6})\n",
    "print(y1)"
   ]
  },
  {
   "cell_type": "code",
   "execution_count": 3,
   "metadata": {},
   "outputs": [
    {
     "output_type": "execute_result",
     "data": {
      "text/plain": [
       "{x: -1, y: 4}"
      ]
     },
     "metadata": {},
     "execution_count": 3
    }
   ],
   "source": [
    "#解方程组\n",
    "#定义变量\n",
    "x=sympy.Symbol('x')\n",
    "y=sympy.Symbol('y')\n",
    "f1=x+y-3\n",
    "f2=x-y+5\n",
    "sympy.solve([f1,f2],[x,y])"
   ]
  },
  {
   "cell_type": "code",
   "execution_count": null,
   "metadata": {},
   "outputs": [],
   "source": []
  }
 ]
}