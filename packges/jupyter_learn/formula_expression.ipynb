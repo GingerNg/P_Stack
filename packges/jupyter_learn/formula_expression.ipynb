{
 "cells": [
  {
   "cell_type": "markdown",
   "metadata": {},
   "source": [
    "### formula\n",
    "https://www.jianshu.com/p/25f0139637b7\n",
    "\n",
    "MathJax is an open-source JavaScript display engine for LaTeX, MathML, and AsciiMath notation that works in all modern browsers.\n",
    "https://github.com/mathjax/MathJax-src"
   ]
  },
  {
   "cell_type": "raw",
   "metadata": {},
   "source": [
    "行内公式是在公式代码块的基础上前面加上$ ，后面加上$ 组成的，而行间公式则是在公式代码块前后使用$$ 和$$ 。"
   ]
  },
  {
   "cell_type": "markdown",
   "metadata": {},
   "source": [
    "行内公式$$\\Gamma(z) = \\int_0^\\infty t^{z-1}e^{-t}dt\\,.$$  "
   ]
  },
  {
   "cell_type": "markdown",
   "metadata": {},
   "source": [
    "#### 1"
   ]
  },
  {
   "cell_type": "markdown",
   "metadata": {},
   "source": [
    "$\\{a*b\\}:a∗b$"
   ]
  },
  {
   "cell_type": "code",
   "execution_count": null,
   "metadata": {},
   "outputs": [],
   "source": []
  },
  {
   "cell_type": "markdown",
   "metadata": {},
   "source": [
    "$\\lceil x \\rceil$"
   ]
  },
  {
   "cell_type": "raw",
   "metadata": {},
   "source": [
    "\\int 用来表示积分符号，同样地，其上下标表示积分的上下限。如，$\\int_{r=1}^\\infty$："
   ]
  },
  {
   "cell_type": "markdown",
   "metadata": {},
   "source": [
    "$\\int_{r=1}^\\infty$"
   ]
  },
  {
   "cell_type": "raw",
   "metadata": {},
   "source": [
    "连乘  $\\prod_{i=1}^{K}$，输出："
   ]
  },
  {
   "cell_type": "markdown",
   "metadata": {},
   "source": [
    "$\\prod_{i=1}^{K}$"
   ]
  },
  {
   "cell_type": "raw",
   "metadata": {},
   "source": [
    "多行表达式"
   ]
  },
  {
   "cell_type": "markdown",
   "metadata": {},
   "source": [
    "$\n",
    "\\begin{equation}\\begin{split} \n",
    "a&=b+c-d \\\\ \n",
    "&\\quad +e-f\\\\ \n",
    "&=g+h\\\\ \n",
    "& =i \n",
    "\\end{split}\\end{equation}\n",
    "$"
   ]
  },
  {
   "cell_type": "raw",
   "metadata": {},
   "source": [
    "方程组,使用\\begin{array}...\\end{array} 与\\left \\{ 与\\right. 配合表示方程组:"
   ]
  },
  {
   "cell_type": "markdown",
   "metadata": {},
   "source": [
    "$$\n",
    "\\left \\{ \n",
    "\\begin{array}{c}\n",
    "a_1x+b_1y+c_1z=d_1 \\\\ \n",
    "a_2x+b_2y+c_2z=d_2 \\\\ \n",
    "a_3x+b_3y+c_3z=d_3\n",
    "\\end{array}\n",
    "\\right.\n",
    "$$"
   ]
  },
  {
   "cell_type": "raw",
   "metadata": {},
   "source": [
    "小于(\\lt )：\\lt\n",
    "大于(\\gt )：\\gt\n",
    "小于等于(\\le )：\\le\n",
    "大于等于(\\ge )：\\ge\n",
    "不等于(\\ne ) : \\ne 可以在这些运算符前面加上\\not ，如\\not\\lt : \\not\\lt`"
   ]
  },
  {
   "cell_type": "markdown",
   "metadata": {},
   "source": [
    "$\\ge$"
   ]
  },
  {
   "cell_type": "raw",
   "metadata": {},
   "source": [
    "黑板粗体字: 此字体经常用来表示代表实数、整数、有理数、复数的大写字母。"
   ]
  },
  {
   "cell_type": "markdown",
   "metadata": {},
   "source": [
    "$\\mathbb ABCDEF$"
   ]
  },
  {
   "cell_type": "raw",
   "metadata": {},
   "source": [
    "公式标记与引用:\n",
    "使用\\tag{yourtag} 来标记公式，如果想在之后引用该公式，则还需要加上\\label{yourlabel} 在\\tag 之后，如$$a = x^2 - y^3 \\tag{1}\\label{1}$$ 显示为："
   ]
  },
  {
   "cell_type": "markdown",
   "metadata": {},
   "source": [
    "$$a = x^2 - y^3 \\tag{1}\\label{1}$$"
   ]
  },
  {
   "cell_type": "markdown",
   "metadata": {},
   "source": [
    "顶部符号"
   ]
  },
  {
   "cell_type": "raw",
   "metadata": {},
   "source": [
    "向量(\\overrightarrow {xy} ): \\overrightarrow {xy}"
   ]
  },
  {
   "cell_type": "markdown",
   "metadata": {},
   "source": [
    "$$\\overrightarrow {xy}$$"
   ]
  },
  {
   "cell_type": "raw",
   "metadata": {},
   "source": [
    "(\\overline x ): \\overline x"
   ]
  },
  {
   "cell_type": "markdown",
   "metadata": {},
   "source": [
    "$$\\overline x$$"
   ]
  },
  {
   "cell_type": "markdown",
   "metadata": {},
   "source": [
    "表格（table）"
   ]
  },
  {
   "cell_type": "markdown",
   "metadata": {},
   "source": [
    "$$\n",
    "\\begin{array}{c|lcr}\n",
    "n & \\text{Left} & \\text{Center} & \\text{Right} \\\\\n",
    "\\hline\n",
    "1 & 0.24 & 1 & 125 \\\\\n",
    "2 & -1 & 189 & -8 \\\\\n",
    "3 & -20 & 2000 & 1+10i \\\\\n",
    "\\end{array}\n",
    "$$"
   ]
  },
  {
   "cell_type": "code",
   "execution_count": 3,
   "metadata": {},
   "outputs": [
    {
     "data": {
      "text/plain": [
       "1"
      ]
     },
     "execution_count": 3,
     "metadata": {},
     "output_type": "execute_result"
    }
   ],
   "source": [
    "%store -r a\n",
    "a"
   ]
  }
 ],
 "metadata": {
  "kernelspec": {
   "display_name": "Python 3",
   "language": "python",
   "name": "python3"
  },
  "language_info": {
   "codemirror_mode": {
    "name": "ipython",
    "version": 3
   },
   "file_extension": ".py",
   "mimetype": "text/x-python",
   "name": "python",
   "nbconvert_exporter": "python",
   "pygments_lexer": "ipython3",
   "version": "3.6.5"
  }
 },
 "nbformat": 4,
 "nbformat_minor": 4
}