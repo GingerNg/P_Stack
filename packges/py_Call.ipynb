{
 "nbformat": 4,
 "nbformat_minor": 2,
 "metadata": {
  "language_info": {
   "name": "python",
   "codemirror_mode": {
    "name": "ipython",
    "version": 3
   },
   "version": "3.6.9-final"
  },
  "orig_nbformat": 2,
  "file_extension": ".py",
  "mimetype": "text/x-python",
  "name": "python",
  "npconvert_exporter": "python",
  "pygments_lexer": "ipython3",
  "version": 3,
  "kernelspec": {
   "name": "python36964bitb377107951a642b890c3e40487126bca",
   "display_name": "Python 3.6.9 64-bit"
  }
 },
 "cells": [
  {
   "cell_type": "code",
   "execution_count": null,
   "metadata": {},
   "outputs": [],
   "source": []
  },
  {
   "cell_type": "code",
   "execution_count": 1,
   "metadata": {},
   "outputs": [
    {
     "output_type": "execute_result",
     "data": {
      "text/plain": "32512"
     },
     "metadata": {},
     "execution_count": 1
    }
   ],
   "source": [
    "import os\n",
    "# import subprocess\n",
    "\n",
    "\"\"\"\n",
    "python调用shell\"\"\"\n",
    "\n",
    "docname = \"./test.doc\"\n",
    "cmd = \"unoconv -f html %s\" % docname\n",
    "# result = subprocess.run(cmd)\n",
    "os.system(cmd)\n",
    "# print(result)"
   ]
  },
  {
   "cell_type": "code",
   "execution_count": null,
   "metadata": {},
   "outputs": [],
   "source": [
    "# 编译：\n",
    "# 将编写的C代码编译成动态链接库的形式，具体命令：\n",
    "# gcc hello.c -fPIC -shared -o libhello.so\n",
    "# 其中-shared代表这是动态库，-fPIC使得位置独立（如果程序本来就是独立的话会有警告，无视即可），-o指定了输出文件，改成dll后缀一样可以用。\n",
    "\n",
    "import ctypes  \n",
    "lib = ctypes.cdll.LoadLibrary('./libfunc.so')    \n",
    "print(lib.func(9))"
   ]
  }
 ]
}