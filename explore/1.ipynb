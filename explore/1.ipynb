{
 "nbformat": 4,
 "nbformat_minor": 2,
 "metadata": {
  "language_info": {
   "name": "python",
   "codemirror_mode": {
    "name": "ipython",
    "version": 3
   },
   "version": "3.6.9-final"
  },
  "orig_nbformat": 2,
  "file_extension": ".py",
  "mimetype": "text/x-python",
  "name": "python",
  "npconvert_exporter": "python",
  "pygments_lexer": "ipython3",
  "version": 3,
  "kernelspec": {
   "name": "python36964bitb377107951a642b890c3e40487126bca",
   "display_name": "Python 3.6.9 64-bit"
  }
 },
 "cells": [
  {
   "cell_type": "code",
   "execution_count": 2,
   "metadata": {},
   "outputs": [
    {
     "data": {
      "text/plain": "228.4986301369863"
     },
     "execution_count": 2,
     "metadata": {},
     "output_type": "execute_result"
    }
   ],
   "source": [
    "83402/365"
   ]
  },
  {
   "cell_type": "code",
   "execution_count": 24,
   "metadata": {},
   "outputs": [
    {
     "name": "stdout",
     "output_type": "stream",
     "text": "0.0\n1.0\n3.0\n6.0\n10.0\n15.0\n21.0\n"
    }
   ],
   "source": [
    "import math\n",
    "def tria(n):\n",
    "    return (math.pow(n,2)+n)/2\n",
    "\n",
    "for i in range(7):\n",
    "    print(tria(i))"
   ]
  },
  {
   "cell_type": "code",
   "execution_count": 21,
   "metadata": {},
   "outputs": [
    {
     "name": "stdout",
     "output_type": "stream",
     "text": "7\n16\n28\n43\n61\n82\n106\n133\n163\n196\n232\n271\n313\n358\n406\n457\n511\n568\n"
    }
   ],
   "source": [
    "def triangle(n):\n",
    "    cnt = 1\n",
    "    for i in range(2,n,1):\n",
    "        cnt += i*3\n",
    "        # print(i*3)\n",
    "        print(cnt)\n",
    "triangle(20)"
   ]
  },
  {
   "cell_type": "code",
   "execution_count": null,
   "metadata": {},
   "outputs": [],
   "source": []
  },
  {
   "cell_type": "code",
   "execution_count": 20,
   "metadata": {},
   "outputs": [
    {
     "name": "stdout",
     "output_type": "stream",
     "text": "1 5.0\n2 8.0\n3 13.0\n4 20.0\n5 29.0\n6 40.0\n7 53.0\n8 68.0\n9 85.0\n10 104.0\n11 125.0\n12 148.0\n13 173.0\n14 200.0\n15 229.0\n16 260.0\n17 293.0\n18 328.0\n19 365.0\n"
    }
   ],
   "source": [
    "import math\n",
    "def square(n):\n",
    "    for i in range(1,n,1):\n",
    "        print(i,math.pow(i,2)+4)\n",
    "\n",
    "square(20)"
   ]
  },
  {
   "cell_type": "code",
   "execution_count": 1,
   "metadata": {},
   "outputs": [
    {
     "data": {
      "text/plain": "43.35342465753425"
     },
     "execution_count": 1,
     "metadata": {},
     "output_type": "execute_result"
    }
   ],
   "source": [
    "15824/365"
   ]
  },
  {
   "cell_type": "code",
   "execution_count": 1,
   "metadata": {},
   "outputs": [
    {
     "data": {
      "text/plain": "8.58"
     },
     "execution_count": 1,
     "metadata": {},
     "output_type": "execute_result"
    }
   ],
   "source": [
    "42.9/5"
   ]
  },
  {
   "cell_type": "code",
   "execution_count": 2,
   "metadata": {},
   "outputs": [
    {
     "data": {
      "text/plain": "11.055555555555555"
     },
     "execution_count": 2,
     "metadata": {},
     "output_type": "execute_result"
    }
   ],
   "source": [
    "19.9/1.8"
   ]
  },
  {
   "cell_type": "code",
   "execution_count": 27,
   "metadata": {},
   "outputs": [
    {
     "data": {
      "text/plain": "36.0"
     },
     "execution_count": 27,
     "metadata": {},
     "output_type": "execute_result"
    }
   ],
   "source": [
    "30*12*0.1"
   ]
  },
  {
   "cell_type": "code",
   "execution_count": null,
   "metadata": {},
   "outputs": [],
   "source": []
  },
  {
   "cell_type": "code",
   "execution_count": 32,
   "metadata": {},
   "outputs": [
    {
     "name": "stdout",
     "output_type": "stream",
     "text": "0.1 79.48240854005394\n0.2 158.96481708010788\n0.3 238.4472256201625\n0.4 317.92963416021576\n0.5 397.41204270026896\n0.6 476.894451240325\n0.7 556.3768597803745\n0.8 635.8592683204315\n0.9 715.3416768604816\n"
    }
   ],
   "source": [
    "def deposit(rate,period_num,single_money):\n",
    "    \"\"\"\n",
    "    rate\n",
    "    period_num\n",
    "    single_money\n",
    "    \"\"\"\n",
    "    total = 0.0\n",
    "    # print(period_num)\n",
    "    for _ in range(period_num):\n",
    "        total = total*(1+(rate/12))+single_money\n",
    "    return total\n",
    "for sm in range(1,10,1):\n",
    "    sm = sm/10\n",
    "    print(sm,deposit(0.0475,30*12,sm))"
   ]
  },
  {
   "cell_type": "code",
   "execution_count": null,
   "metadata": {},
   "outputs": [],
   "source": []
  },
  {
   "cell_type": "code",
   "execution_count": 4,
   "metadata": {},
   "outputs": [
    {
     "data": {
      "text/plain": "110408.08032000001"
     },
     "execution_count": 4,
     "metadata": {},
     "output_type": "execute_result"
    }
   ],
   "source": [
    "import math\n",
    "100000 * math.pow(1+0.02,5)"
   ]
  },
  {
   "cell_type": "code",
   "execution_count": 10,
   "metadata": {},
   "outputs": [
    {
     "data": {
      "text/plain": "40.23656975169364"
     },
     "execution_count": 10,
     "metadata": {},
     "output_type": "execute_result"
    }
   ],
   "source": [
    "10*math.pow(1.0475,30)"
   ]
  },
  {
   "cell_type": "code",
   "execution_count": null,
   "metadata": {},
   "outputs": [],
   "source": []
  }
 ]
}