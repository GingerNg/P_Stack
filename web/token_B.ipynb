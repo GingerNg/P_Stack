{
 "nbformat": 4,
 "nbformat_minor": 2,
 "metadata": {
  "language_info": {
   "name": "python",
   "codemirror_mode": {
    "name": "ipython",
    "version": 3
   },
   "version": "3.6.9-final"
  },
  "orig_nbformat": 2,
  "file_extension": ".py",
  "mimetype": "text/x-python",
  "name": "python",
  "npconvert_exporter": "python",
  "pygments_lexer": "ipython3",
  "version": 3,
  "kernelspec": {
   "name": "python36964bitb377107951a642b890c3e40487126bca",
   "display_name": "Python 3.6.9 64-bit"
  }
 },
 "cells": [
  {
   "cell_type": "markdown",
   "metadata": {},
   "source": [
    "## authentication 鉴权"
   ]
  },
  {
   "cell_type": "markdown",
   "metadata": {},
   "source": [
    "https://blog.csdn.net/wang839305939/article/details/78713124/\n",
    "\n",
    "[Django基于Token的身份验证](https://www.cnblogs.com/li1992/articles/9723056.html)"
   ]
  },
  {
   "cell_type": "markdown",
   "metadata": {},
   "source": [
    "利用服务器端的session（会话）和浏览器端的cookie来实现前后端的认证，由于http请求时是无状态的，服务器正常情况下是不知道当前请求之前有没有来过，这个时候我们如果要记录状态，就需要在服务器端创建一个会话(seesion),将同一个客户端的请求都维护在各自得会会话中，每当请求到达服务器端的时候，先去查一下该客户端有没有在服务器端创建seesion，如果有则已经认证成功了，否则就没有认证。\n",
    "\n",
    "sessionid"
   ]
  },
  {
   "cell_type": "markdown",
   "metadata": {},
   "source": [
    "### JWT  JSON Web Tokens\n",
    "\n",
    "JWT标准的Token有三个部分:\n",
    "- header: \n",
    "- payload\n",
    "- signature 相当于前两段的摘要,用来防止其他人来篡改Token中的信息"
   ]
  },
  {
   "cell_type": "code",
   "execution_count": 1,
   "metadata": {},
   "outputs": [],
   "source": [
    "HEADER = {'typ': 'JWP', 'alg': 'default'}\n",
    "KEY = 'CHEN_FENG_YAO'\n",
    "SALT = 'www.lanou3g.com'\n",
    "TIME_OUT = 30 * 60  # 30min"
   ]
  },
  {
   "cell_type": "code",
   "execution_count": 27,
   "metadata": {},
   "outputs": [],
   "source": [
    "from django.core import signing\n",
    "def encrypt(obj):\n",
    "    \"\"\"加密\"\"\"\n",
    "    value = signing.dumps(obj, key=KEY, salt=SALT)\n",
    "    value = signing.b64_encode(value.encode()).decode()\n",
    "    return value\n",
    "\n",
    "\n",
    "def decrypt(src):\n",
    "    \"\"\"解密\"\"\"\n",
    "    src = signing.b64_decode(src.encode()).decode()\n",
    "    raw = signing.loads(src, key=KEY, salt=SALT)\n",
    "    # print(type(raw))\n",
    "    return raw"
   ]
  },
  {
   "cell_type": "code",
   "execution_count": 31,
   "metadata": {},
   "outputs": [
    {
     "data": {
      "text/plain": "'ImdpbmdlciI:1jEA0h:2mYw3TUeoc3eUb1X5ADeoYdLQH0'"
     },
     "execution_count": 31,
     "metadata": {},
     "output_type": "execute_result"
    }
   ],
   "source": [
    "#There are two components here, separated by a ':'. The first component is a\n",
    "# URLsafe base64 encoded JSON of the object passed to dumps(). The second\n",
    "# component is a base64 encoded hmac/SHA1 hash of \"$first_component:$secret\"\n",
    "signing.dumps(\"ginger\", key=KEY, salt=SALT)"
   ]
  },
  {
   "cell_type": "code",
   "execution_count": 10,
   "metadata": {},
   "outputs": [],
   "source": [
    "import time\n",
    "import hashlib\n",
    "def create_token(username):\n",
    "    \"\"\"生成token信息\"\"\"\n",
    "    # 1. 加密头信息\n",
    "    header = encrypt(HEADER)\n",
    "    # 2. 构造Payload\n",
    "    payload = {\"username\": username, \"iat\": time.time()}   # iat：Issued at，发行时间\n",
    "    payload = encrypt(payload)\n",
    "    # 3. 生成签名\n",
    "    md5 = hashlib.md5()\n",
    "    md5.update((\"%s.%s\" % (header, payload)).encode())\n",
    "    signature = md5.hexdigest()\n",
    "    token = \"%s.%s.%s\" % (header, payload, signature)\n",
    "    # 存储到缓存中\n",
    "    # cache.set(username, token, TIME_OUT)  # 将username作为key \n",
    "    return token\n",
    "token = create_token(\"ginger\") # 三段string header，payload，signature"
   ]
  },
  {
   "cell_type": "code",
   "execution_count": 13,
   "metadata": {},
   "outputs": [
    {
     "data": {
      "text/plain": "'ZXlKMGVYQWlPaUpLVjFBaUxDSmhiR2NpT2lKa1pXWmhkV3gwSW4wOjFqRTlDaTphN1RxMkRyejdLLWVXM0FYakRGOTh1SXlnNms.ZXlKMWMyVnlibUZ0WlNJNkltZHBibWRsY2lJc0ltbGhkQ0k2TVRVNE5EUXpPVGt5T0M0ek9EQTNNVGczZlE6MWpFOUNpOlBVSGhkT0NTYmtxTFRXTHBsTmlvTHJVckFnSQ.62b2b66afddd8947468b620ad0b56417'"
     },
     "execution_count": 13,
     "metadata": {},
     "output_type": "execute_result"
    }
   ],
   "source": [
    "token"
   ]
  },
  {
   "cell_type": "code",
   "execution_count": 11,
   "metadata": {},
   "outputs": [
    {
     "name": "stdout",
     "output_type": "stream",
     "text": "<class 'dict'>\n"
    },
    {
     "data": {
      "text/plain": "{'username': 'ginger', 'iat': 1584439928.3807187}"
     },
     "execution_count": 11,
     "metadata": {},
     "output_type": "execute_result"
    }
   ],
   "source": [
    "def get_payload(token):\n",
    "    payload = str(token).split('.')[1]\n",
    "    payload = decrypt(payload)\n",
    "    return payload\n",
    "get_payload(token)"
   ]
  },
  {
   "cell_type": "code",
   "execution_count": 12,
   "metadata": {},
   "outputs": [],
   "source": [
    "def check_token(token):\n",
    "    username = get_username(token)\n",
    "    last_token = cache.get(username)\n",
    "    if last_token:\n",
    "        return last_token == token\n",
    "    return False\n"
   ]
  },
  {
   "cell_type": "code",
   "execution_count": null,
   "metadata": {},
   "outputs": [],
   "source": []
  }
 ]
}