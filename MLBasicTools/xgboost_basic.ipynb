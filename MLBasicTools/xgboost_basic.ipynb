{
 "cells": [
  {
   "cell_type": "code",
   "execution_count": null,
   "metadata": {},
   "outputs": [],
   "source": []
  },
  {
   "cell_type": "markdown",
   "metadata": {},
   "source": [
    "[使用教程](https://blog.csdn.net/u011630575/article/details/79418138)\n",
    "\n",
    "https://zhuanlan.zhihu.com/p/91817667?utm_source=wechat_session&utm_medium=social&utm_oi=26929503666176\n",
    "\n",
    "[XGBoost Documentation](https://xgboost.readthedocs.io/en/latest/index.html)\n",
    "\n",
    "[libsvm数据格式](https://www.cnblogs.com/codingmengmeng/p/6254325.html)\n",
    "\n",
    "目标值   第一维特征编号：第一维特征值   第二维特征编号：第二维特征值 …"
   ]
  },
  {
   "cell_type": "code",
   "execution_count": 2,
   "metadata": {},
   "outputs": [],
   "source": [
    "# 导入必要的工具包\n",
    "import xgboost as xgb\n",
    "\n",
    "# 计算分类正确率\n",
    "from sklearn.metrics import accuracy_score"
   ]
  },
  {
   "cell_type": "code",
   "execution_count": 5,
   "metadata": {},
   "outputs": [
    {
     "name": "stdout",
     "output_type": "stream",
     "text": [
      "[08:20:45] 6513x127 matrix with 143286 entries loaded from ../Dataset/Mushroom/agaricus.txt.train\n",
      "[08:20:45] 1611x127 matrix with 35442 entries loaded from ../Dataset/Mushroom/agaricus.txt.test\n"
     ]
    }
   ],
   "source": [
    "# read in data，数据在xgboost安装的路径下的demo目录,现在我们将其copy到当前代码下的data目录\n",
    "my_workpath = '../Dataset/Mushroom/'\n",
    "dtrain = xgb.DMatrix(my_workpath + 'agaricus.txt.train')\n",
    "dtest = xgb.DMatrix(my_workpath + 'agaricus.txt.test')"
   ]
  },
  {
   "cell_type": "code",
   "execution_count": 6,
   "metadata": {},
   "outputs": [
    {
     "data": {
      "text/plain": [
       "127"
      ]
     },
     "execution_count": 6,
     "metadata": {},
     "output_type": "execute_result"
    }
   ],
   "source": [
    "dtrain.num_col()"
   ]
  },
  {
   "cell_type": "code",
   "execution_count": 7,
   "metadata": {},
   "outputs": [
    {
     "data": {
      "text/plain": [
       "6513"
      ]
     },
     "execution_count": 7,
     "metadata": {},
     "output_type": "execute_result"
    }
   ],
   "source": [
    "dtrain.num_row()"
   ]
  },
  {
   "cell_type": "code",
   "execution_count": 9,
   "metadata": {},
   "outputs": [
    {
     "name": "stdout",
     "output_type": "stream",
     "text": [
      "{'max_depth': 2, 'eta': 1, 'silent': 0, 'objective': 'binary:logistic'}\n"
     ]
    }
   ],
   "source": [
    "\n",
    "# max_depth： 树的最大深度。缺省值为6，取值范围为：[1,∞]\n",
    "# eta：为了防止过拟合，更新过程中用到的收缩步长。在每次提升计算之后，算法会直接获得新特征的权重。 \n",
    "# eta通过缩减特征的权重使提升计算过程更加保守。缺省值为0.3，取值范围为：[0,1]\n",
    "# silent：取0时表示打印出运行时信息，取1时表示以缄默方式运行，不打印运行时信息。缺省值为0\n",
    "# objective： 定义学习任务及相应的学习目标，“binary:logistic” 表示二分类的逻辑回归问题，输出为概率。\n",
    "\n",
    "# specify parameters via map\n",
    "param = {'max_depth':2, 'eta':1, 'silent':0, 'objective':'binary:logistic' }\n",
    "print(param)"
   ]
  },
  {
   "cell_type": "code",
   "execution_count": 11,
   "metadata": {},
   "outputs": [
    {
     "name": "stdout",
     "output_type": "stream",
     "text": [
      "CPU times: user 60 ms, sys: 0 ns, total: 60 ms\n",
      "Wall time: 24.4 ms\n"
     ]
    }
   ],
   "source": [
    "# 设置boosting迭代计算次数\n",
    "num_round = 2\n",
    " \n",
    "%time bst = xgb.train(param, dtrain, num_round) #  dtrain是训练数据集\n",
    " "
   ]
  },
  {
   "cell_type": "code",
   "execution_count": 12,
   "metadata": {},
   "outputs": [
    {
     "name": "stdout",
     "output_type": "stream",
     "text": [
      "Train Accuary: 97.77%\n"
     ]
    }
   ],
   "source": [
    "train_preds = bst.predict(dtrain)\n",
    "train_predictions = [round(value) for value in train_preds]\n",
    "y_train = dtrain.get_label() #值为输入数据的第一行\n",
    "train_accuracy = accuracy_score(y_train, train_predictions)\n",
    "print (\"Train Accuary: %.2f%%\" % (train_accuracy * 100.0))"
   ]
  },
  {
   "cell_type": "code",
   "execution_count": 14,
   "metadata": {},
   "outputs": [
    {
     "name": "stdout",
     "output_type": "stream",
     "text": [
      "Test Accuracy: 97.83%\n"
     ]
    }
   ],
   "source": [
    "# make prediction\n",
    "preds = bst.predict(dtest)\n",
    "predictions = [round(value) for value in preds]\n",
    "y_test = dtest.get_label()\n",
    "test_accuracy = accuracy_score(y_test, predictions)\n",
    "print(\"Test Accuracy: %.2f%%\" % (test_accuracy * 100.0))"
   ]
  },
  {
   "cell_type": "markdown",
   "metadata": {},
   "source": [
    "#### 模型可视化\n",
    "调用XGBoost工具包中的plot_tree\n",
    "要可视化模型需要安装graphviz软件包\n",
    "plot_tree（）的三个参数：\n",
    "1. 模型\n",
    "2. 树的索引，从0开始\n",
    "3. 显示方向，缺省为竖直，‘LR'是水平方向"
   ]
  },
  {
   "cell_type": "code",
   "execution_count": 17,
   "metadata": {},
   "outputs": [
    {
     "data": {
      "image/png": "[encoded data removed]",
      "text/plain": [
       "<Figure size 432x288 with 1 Axes>"
      ]
     },
     "metadata": {
      "needs_background": "light"
     },
     "output_type": "display_data"
    },
    {
     "data": {
      "image/png": "[encoded data removed]",
      "text/plain": [
       "<Figure size 432x288 with 1 Axes>"
      ]
     },
     "metadata": {
      "needs_background": "light"
     },
     "output_type": "display_data"
    },
    {
     "data": {
      "image/svg+xml": [
       "<?xml version=\"1.0\" encoding=\"UTF-8\" standalone=\"no\"?>\n",
       "<!DOCTYPE svg PUBLIC \"-//W3C//DTD SVG 1.1//EN\"\n",
       " \"http://www.w3.org/Graphics/SVG/1.1/DTD/svg11.dtd\">\n",
       "<!-- Generated by graphviz version 2.40.1 (20161225.0304)\n",
       " -->\n",
       "<!-- Title: %3 Pages: 1 -->\n",
       "<svg width=\"522pt\" height=\"218pt\"\n",
       " viewBox=\"0.00 0.00 522.23 218.00\" xmlns=\"http://www.w3.org/2000/svg\" xmlns:xlink=\"http://www.w3.org/1999/xlink\">\n",
       "<g id=\"graph0\" class=\"graph\" transform=\"scale(1 1) rotate(0) translate(4 214)\">\n",
       "<title>%3</title>\n",
       "<polygon fill=\"#ffffff\" stroke=\"transparent\" points=\"-4,4 -4,-214 518.2336,-214 518.2336,4 -4,4\"/>\n",
       "<!-- 0 -->\n",
       "<g id=\"node1\" class=\"node\">\n",
       "<title>0</title>\n",
       "<ellipse fill=\"none\" stroke=\"#000000\" cx=\"307.9919\" cy=\"-192\" rx=\"112.3801\" ry=\"18\"/>\n",
       "<text text-anchor=\"middle\" x=\"307.9919\" y=\"-188.3\" font-family=\"Times,serif\" font-size=\"14.00\" fill=\"#000000\">f60&lt;&#45;9.53674316e&#45;07</text>\n",
       "</g>\n",
       "<!-- 1 -->\n",
       "<g id=\"node2\" class=\"node\">\n",
       "<title>1</title>\n",
       "<ellipse fill=\"none\" stroke=\"#000000\" cx=\"194.9919\" cy=\"-105\" rx=\"112.3801\" ry=\"18\"/>\n",
       "<text text-anchor=\"middle\" x=\"194.9919\" y=\"-101.3\" font-family=\"Times,serif\" font-size=\"14.00\" fill=\"#000000\">f29&lt;&#45;9.53674316e&#45;07</text>\n",
       "</g>\n",
       "<!-- 0&#45;&gt;1 -->\n",
       "<g id=\"edge1\" class=\"edge\">\n",
       "<title>0&#45;&gt;1</title>\n",
       "<path fill=\"none\" stroke=\"#0000ff\" d=\"M284.852,-174.1843C267.9418,-161.165 244.8202,-143.3633 226.2658,-129.0781\"/>\n",
       "<polygon fill=\"#0000ff\" stroke=\"#0000ff\" points=\"228.1597,-126.1191 218.1009,-122.7919 223.8894,-131.6657 228.1597,-126.1191\"/>\n",
       "<text text-anchor=\"middle\" x=\"303.4919\" y=\"-144.8\" font-family=\"Times,serif\" font-size=\"14.00\" fill=\"#000000\">yes, missing</text>\n",
       "</g>\n",
       "<!-- 2 -->\n",
       "<g id=\"node3\" class=\"node\">\n",
       "<title>2</title>\n",
       "<ellipse fill=\"none\" stroke=\"#000000\" cx=\"419.9919\" cy=\"-105\" rx=\"94.4839\" ry=\"18\"/>\n",
       "<text text-anchor=\"middle\" x=\"419.9919\" y=\"-101.3\" font-family=\"Times,serif\" font-size=\"14.00\" fill=\"#000000\">leaf=&#45;6.23624468</text>\n",
       "</g>\n",
       "<!-- 0&#45;&gt;2 -->\n",
       "<g id=\"edge2\" class=\"edge\">\n",
       "<title>0&#45;&gt;2</title>\n",
       "<path fill=\"none\" stroke=\"#ff0000\" d=\"M330.9271,-174.1843C347.7986,-161.0788 370.9084,-143.1274 389.3596,-128.7948\"/>\n",
       "<polygon fill=\"#ff0000\" stroke=\"#ff0000\" points=\"391.72,-131.3932 397.4702,-122.4946 387.4258,-125.8651 391.72,-131.3932\"/>\n",
       "<text text-anchor=\"middle\" x=\"379.9919\" y=\"-144.8\" font-family=\"Times,serif\" font-size=\"14.00\" fill=\"#000000\">no</text>\n",
       "</g>\n",
       "<!-- 3 -->\n",
       "<g id=\"node4\" class=\"node\">\n",
       "<title>3</title>\n",
       "<ellipse fill=\"none\" stroke=\"#000000\" cx=\"90.9919\" cy=\"-18\" rx=\"90.9839\" ry=\"18\"/>\n",
       "<text text-anchor=\"middle\" x=\"90.9919\" y=\"-14.3\" font-family=\"Times,serif\" font-size=\"14.00\" fill=\"#000000\">leaf=0.78471756</text>\n",
       "</g>\n",
       "<!-- 1&#45;&gt;3 -->\n",
       "<g id=\"edge3\" class=\"edge\">\n",
       "<title>1&#45;&gt;3</title>\n",
       "<path fill=\"none\" stroke=\"#0000ff\" d=\"M173.695,-87.1843C158.2719,-74.2823 137.2345,-56.6837 120.2375,-42.465\"/>\n",
       "<polygon fill=\"#0000ff\" stroke=\"#0000ff\" points=\"122.1762,-39.5237 112.2604,-35.7919 117.6848,-44.8928 122.1762,-39.5237\"/>\n",
       "<text text-anchor=\"middle\" x=\"194.4919\" y=\"-57.8\" font-family=\"Times,serif\" font-size=\"14.00\" fill=\"#000000\">yes, missing</text>\n",
       "</g>\n",
       "<!-- 4 -->\n",
       "<g id=\"node5\" class=\"node\">\n",
       "<title>4</title>\n",
       "<ellipse fill=\"none\" stroke=\"#000000\" cx=\"299.9919\" cy=\"-18\" rx=\"100.1823\" ry=\"18\"/>\n",
       "<text text-anchor=\"middle\" x=\"299.9919\" y=\"-14.3\" font-family=\"Times,serif\" font-size=\"14.00\" fill=\"#000000\">leaf=&#45;0.968530357</text>\n",
       "</g>\n",
       "<!-- 1&#45;&gt;4 -->\n",
       "<g id=\"edge4\" class=\"edge\">\n",
       "<title>1&#45;&gt;4</title>\n",
       "<path fill=\"none\" stroke=\"#ff0000\" d=\"M219.7253,-87.0869C227.2971,-81.4339 235.5807,-75.0757 242.9919,-69 253.1004,-60.713 263.8629,-51.2584 273.2818,-42.7593\"/>\n",
       "<polygon fill=\"#ff0000\" stroke=\"#ff0000\" points=\"275.7903,-45.2089 280.8338,-35.8915 271.0807,-40.0301 275.7903,-45.2089\"/>\n",
       "<text text-anchor=\"middle\" x=\"269.9919\" y=\"-57.8\" font-family=\"Times,serif\" font-size=\"14.00\" fill=\"#000000\">no</text>\n",
       "</g>\n",
       "</g>\n",
       "</svg>\n"
      ],
      "text/plain": [
       "<graphviz.dot.Digraph at 0x7f6192284860>"
      ]
     },
     "execution_count": 17,
     "metadata": {},
     "output_type": "execute_result"
    }
   ],
   "source": [
    "from matplotlib import pyplot\n",
    "import graphviz\n",
    "xgb.plot_tree(bst, num_trees=0, rankdir= 'LR' )\n",
    "# pyplot.show()\n",
    "\n",
    "xgb.plot_tree(bst,num_trees=1, rankdir= 'LR' )\n",
    "pyplot.show()\n",
    "xgb.to_graphviz(bst,num_trees=0)\n",
    "xgb.to_graphviz(bst,num_trees=1)"
   ]
  },
  {
   "cell_type": "code",
   "execution_count": null,
   "metadata": {},
   "outputs": [],
   "source": []
  }
 ],
 "metadata": {
  "kernelspec": {
   "display_name": "Python 3",
   "language": "python",
   "name": "python3"
  },
  "language_info": {
   "codemirror_mode": {
    "name": "ipython",
    "version": 3
   },
   "file_extension": ".py",
   "mimetype": "text/x-python",
   "name": "python",
   "nbconvert_exporter": "python",
   "pygments_lexer": "ipython3",
   "version": "3.6.5"
  }
 },
 "nbformat": 4,
 "nbformat_minor": 4
}
