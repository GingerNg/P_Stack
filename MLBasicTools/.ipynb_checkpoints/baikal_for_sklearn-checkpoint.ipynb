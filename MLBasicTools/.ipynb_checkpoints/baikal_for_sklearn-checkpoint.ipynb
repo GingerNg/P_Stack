{
 "cells": [
  {
   "cell_type": "code",
   "execution_count": null,
   "metadata": {},
   "outputs": [],
   "source": []
  },
  {
   "cell_type": "markdown",
   "metadata": {},
   "source": [
    "像 Keras 一样使用Scikit-Learn：图式构造复杂 Scikit-Learn pipeline 的函数式API\n",
    "A graph-based functional API for building complex scikit-learn pipelines.\n",
    "https://github.com/alegonz/baikal"
   ]
  },
  {
   "cell_type": "code",
   "execution_count": 29,
   "metadata": {},
   "outputs": [],
   "source": [
    "import sklearn.svm\n",
    "from sklearn.datasets import load_breast_cancer\n",
    "from sklearn.model_selection import train_test_split\n",
    "from sklearn.metrics import accuracy_score\n",
    "\n",
    "from baikal import make_step, Input, Model\n",
    "from baikal.sklearn import SKLearnWrapper"
   ]
  },
  {
   "cell_type": "code",
   "execution_count": 2,
   "metadata": {},
   "outputs": [],
   "source": [
    "# 1. Define a step\n",
    "SVC = make_step(sklearn.svm.SVC)"
   ]
  },
  {
   "cell_type": "code",
   "execution_count": 17,
   "metadata": {},
   "outputs": [],
   "source": [
    "# 2. Build the model\n",
    "x = Input()\n",
    "y_t = Input()\n",
    "y = SVC(C=1.0, kernel=\"rbf\", gamma=0.5)(x, y_t)\n",
    "model = Model(x, y, y_t)"
   ]
  },
  {
   "cell_type": "code",
   "execution_count": 104,
   "metadata": {},
   "outputs": [
    {
     "data": {
      "text/plain": [
       "Model(name='Model_1', function='predict', n_outputs=1, trainable=True)"
      ]
     },
     "execution_count": 104,
     "metadata": {},
     "output_type": "execute_result"
    }
   ],
   "source": [
    "# 3. Train the model\n",
    "dataset = load_breast_cancer()\n",
    "X_train, X_test, y_train, y_test = train_test_split(\n",
    "    dataset.data, dataset.target, random_state=0\n",
    ")\n",
    "model.fit(X_train, y_train)"
   ]
  },
  {
   "cell_type": "code",
   "execution_count": 68,
   "metadata": {},
   "outputs": [
    {
     "data": {
      "text/plain": [
       "array([1, 1, 1, 1, 1, 1, 1, 1, 1, 1, 1, 1, 1, 1, 1, 1, 1, 1, 1, 1, 1, 1,\n",
       "       1, 1, 1, 1, 1, 1, 1, 1, 1, 1, 1, 1, 1, 1, 1, 1, 1, 1, 1, 1, 1, 1,\n",
       "       1, 1, 1, 1, 1, 1, 1, 1, 1, 1, 1, 1, 1, 1, 1, 1, 1, 1, 1, 1, 1, 1,\n",
       "       1, 1, 1, 1, 1, 1, 1, 1, 1, 1, 1, 1, 1, 1, 1, 1, 1, 1, 1, 1, 1, 1,\n",
       "       1, 1, 1, 1, 1, 1, 1, 1, 1, 1, 1, 1, 1, 1, 1, 1, 1, 1, 1, 1, 1, 1,\n",
       "       1, 1, 1, 1, 1, 1, 1, 1, 1, 1, 1, 1, 1, 1, 1, 1, 1, 1, 1, 1, 1, 1,\n",
       "       1, 1, 1, 1, 1, 1, 1, 1, 1, 1, 1])"
      ]
     },
     "execution_count": 68,
     "metadata": {},
     "output_type": "execute_result"
    }
   ],
   "source": [
    "# 4. Use the model\n",
    "y_test_pred = model.predict(X_test)\n",
    "y_test_pred"
   ]
  },
  {
   "cell_type": "code",
   "execution_count": 20,
   "metadata": {},
   "outputs": [
    {
     "data": {
      "text/plain": [
       "0.6293706293706294"
      ]
     },
     "execution_count": 20,
     "metadata": {},
     "output_type": "execute_result"
    }
   ],
   "source": [
    "accuracy_score(y_test, y_test_pred)"
   ]
  },
  {
   "cell_type": "code",
   "execution_count": 9,
   "metadata": {},
   "outputs": [],
   "source": [
    "# Plotting your model\n",
    "from baikal.plot import plot_model\n",
    "plot_model(model, filename=\"baikal_model.png\")"
   ]
  },
  {
   "cell_type": "code",
   "execution_count": 88,
   "metadata": {},
   "outputs": [],
   "source": [
    "from sklearn.model_selection import GridSearchCV, StratifiedKFold"
   ]
  },
  {
   "cell_type": "code",
   "execution_count": 89,
   "metadata": {},
   "outputs": [],
   "source": [
    "iris = sklearn.datasets.load_iris()\n",
    "# x_data = iris.data\n",
    "# y_data = iris.target\n",
    "random_state = 123\n",
    "verbose = 0"
   ]
  },
  {
   "cell_type": "code",
   "execution_count": 90,
   "metadata": {},
   "outputs": [],
   "source": [
    "# cv will default to KFold if the estimator is a baikal Model\n",
    "# so we have to pass StratifiedKFold directly\n",
    "cv = StratifiedKFold(n_splits=3, random_state=random_state)"
   ]
  },
  {
   "cell_type": "code",
   "execution_count": 95,
   "metadata": {},
   "outputs": [],
   "source": [
    "# Define the steps\n",
    "from sklearn.decomposition import PCA\n",
    "from sklearn.linear_model import LogisticRegression\n",
    "\n",
    "BaiLogisticRegression = make_step(sklearn.linear_model.LogisticRegression)\n",
    "BaiPCA = make_step(sklearn.decomposition.PCA)\n",
    "BaiRandomForestClassifier = make_step(sklearn.ensemble.RandomForestClassifier)"
   ]
  },
  {
   "cell_type": "code",
   "execution_count": 100,
   "metadata": {},
   "outputs": [],
   "source": [
    "# 1. Define a function that returns your baikal model\n",
    "def build_fn():\n",
    "    x = Input()\n",
    "    y_t = Input()\n",
    "    h = BaiPCA(random_state=random_state,name=\"pca\")(x)\n",
    "    y = BaiLogisticRegression(random_state=random_state,name=\"classifier\")(h, y_t)\n",
    "    model = Model(x, y, y_t)\n",
    "    return model"
   ]
  },
  {
   "cell_type": "code",
   "execution_count": 101,
   "metadata": {},
   "outputs": [],
   "source": [
    "from sklearn.linear_model import LogisticRegression\n",
    "from sklearn.ensemble import RandomForestClassifier\n",
    "# 2. Define a parameter grid\n",
    "# - keys have the [step-name]__[parameter-name] format, similar to sklearn Pipelines\n",
    "# - You can also search over the steps themselves using [step-name] keys\n",
    "param_grid = [\n",
    "    {\n",
    "        \"classifier\": [\n",
    "            BaiLogisticRegression(\n",
    "                random_state=random_state, solver=\"lbfgs\", multi_class=\"multinomial\"\n",
    "            )\n",
    "        ],\n",
    "        \"classifier__C\": [0.01, 0.1, 1],\n",
    "        \"pca__n_components\": [1, 2, 3, 4],\n",
    "    },\n",
    "    {\n",
    "        \"classifier\": [BaiRandomForestClassifier(random_state=random_state)],\n",
    "        \"classifier__n_estimators\": [10, 50, 100],\n",
    "        \"pca__n_components\": [1, 2, 3, 4],\n",
    "    },\n",
    "]"
   ]
  },
  {
   "cell_type": "code",
   "execution_count": 102,
   "metadata": {},
   "outputs": [],
   "source": [
    "# 3. Instantiate the wrapper\n",
    "sk_model = SKLearnWrapper(build_fn)"
   ]
  },
  {
   "cell_type": "code",
   "execution_count": 105,
   "metadata": {},
   "outputs": [],
   "source": [
    "# 4. Use GridSearchCV as usual\n",
    "gscv_baikal = GridSearchCV(\n",
    "    sk_model,\n",
    "    param_grid,\n",
    "    cv=cv,\n",
    "    scoring=\"accuracy\",\n",
    "    return_train_score=True,\n",
    "    verbose=verbose,\n",
    ")\n",
    "gscv_baikal.fit(X_train, y_train)\n",
    "best_model = gscv_baikal.best_estimator_.model"
   ]
  },
  {
   "cell_type": "code",
   "execution_count": 106,
   "metadata": {},
   "outputs": [],
   "source": [
    "y_pred = best_model.predict(X_test)"
   ]
  },
  {
   "cell_type": "code",
   "execution_count": 107,
   "metadata": {},
   "outputs": [
    {
     "data": {
      "text/plain": [
       "0.6293706293706294"
      ]
     },
     "execution_count": 107,
     "metadata": {},
     "output_type": "execute_result"
    }
   ],
   "source": [
    "accuracy_score(y_test, y_test_pred)"
   ]
  },
  {
   "cell_type": "code",
   "execution_count": null,
   "metadata": {},
   "outputs": [],
   "source": []
  }
 ],
 "metadata": {
  "kernelspec": {
   "display_name": "Python 3",
   "language": "python",
   "name": "python3"
  },
  "language_info": {
   "codemirror_mode": {
    "name": "ipython",
    "version": 3
   },
   "file_extension": ".py",
   "mimetype": "text/x-python",
   "name": "python",
   "nbconvert_exporter": "python",
   "pygments_lexer": "ipython3",
   "version": "3.6.5"
  }
 },
 "nbformat": 4,
 "nbformat_minor": 4
}
