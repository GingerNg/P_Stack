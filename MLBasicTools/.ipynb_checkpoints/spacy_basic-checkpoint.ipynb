{
 "cells": [
  {
   "cell_type": "code",
   "execution_count": null,
   "metadata": {},
   "outputs": [],
   "source": []
  },
  {
   "cell_type": "markdown",
   "metadata": {},
   "source": [
    "spaCy is designed specifically for production use\n",
    "\n",
    "spaCy is not research software. It’s built on the latest research, but it’s designed to get things done. \n",
    "This leads to fairly different design decisions than NLTK or CoreNLP, which were created as platforms for teaching and research. "
   ]
  },
  {
   "cell_type": "markdown",
   "metadata": {},
   "source": [
    "安装：pip3 install spacy"
   ]
  },
  {
   "cell_type": "markdown",
   "metadata": {},
   "source": [
    "下载模型：\n",
    "python3 -m spacy download en_core_web_sm\n",
    "\n",
    "中文模型：https://github.com/howl-anderson/Chinese_models_for_SpaCy\n",
    "\n",
    "安装： pip3 install zh_core_web_sm-2.x.x.tar.gz\n",
    "\n",
    "spacy link zh_core_web_sm zh： 使用 zh 这个别名来访问这个模型"
   ]
  },
  {
   "cell_type": "code",
   "execution_count": null,
   "metadata": {},
   "outputs": [],
   "source": []
  },
  {
   "cell_type": "code",
   "execution_count": 2,
   "metadata": {},
   "outputs": [],
   "source": [
    "import spacy"
   ]
  },
  {
   "cell_type": "code",
   "execution_count": 6,
   "metadata": {},
   "outputs": [
    {
     "name": "stdout",
     "output_type": "stream",
     "text": [
      "[('This', 'DET', 'nsubj'), ('is', 'AUX', 'ROOT'), ('a', 'DET', 'det'), ('sentence', 'NOUN', 'attr'), ('.', 'PUNCT', 'punct')]\n"
     ]
    }
   ],
   "source": [
    "\"\"\"\n",
    "pos 词性标注\n",
    "dep 依存分析\n",
    "\"\"\"\n",
    "nlp = spacy.load(\"en_core_web_sm\")\n",
    "doc = nlp(u\"This is a sentence.\")\n",
    "print([(w.text, w.pos_,w.dep_) for w in doc])"
   ]
  },
  {
   "cell_type": "code",
   "execution_count": 8,
   "metadata": {},
   "outputs": [
    {
     "name": "stdout",
     "output_type": "stream",
     "text": [
      "[('European', 'NORP'), ('Google', 'ORG'), ('$5.1 billion', 'MONEY'), ('Wednesday', 'DATE')]\n"
     ]
    }
   ],
   "source": [
    "txt = ''''European authorities fined Google a record $5.1 billion\n",
    "on Wednesday for abusing its power in the mobile phone market and\n",
    "ordered the company to alter its practices'\n",
    "'''\n",
    "doc = nlp(txt)\n",
    "ners = [(ent.text, ent.label_) for ent in doc.ents]\n",
    "print(ners)"
   ]
  },
  {
   "cell_type": "code",
   "execution_count": 9,
   "metadata": {},
   "outputs": [
    {
     "name": "stdout",
     "output_type": "stream",
     "text": [
      "[('This', 'DET'), ('is', 'AUX'), ('a', 'DET'), ('sentence', 'NOUN'), ('.', 'PUNCT')]\n"
     ]
    }
   ],
   "source": [
    "nlp = spacy.load(\"en_core_web_sm\")\n",
    "doc = nlp(u\"This is a sentence.\")\n",
    "print([(w.text, w.pos_) for w in doc])"
   ]
  },
  {
   "cell_type": "code",
   "execution_count": null,
   "metadata": {},
   "outputs": [],
   "source": []
  }
 ],
 "metadata": {
  "kernelspec": {
   "display_name": "Python 3",
   "language": "python",
   "name": "python3"
  },
  "language_info": {
   "codemirror_mode": {
    "name": "ipython",
    "version": 3
   },
   "file_extension": ".py",
   "mimetype": "text/x-python",
   "name": "python",
   "nbconvert_exporter": "python",
   "pygments_lexer": "ipython3",
   "version": "3.6.5"
  }
 },
 "nbformat": 4,
 "nbformat_minor": 4
}
