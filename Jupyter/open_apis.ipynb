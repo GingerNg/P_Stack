{
 "cells": [
  {
   "cell_type": "markdown",
   "metadata": {},
   "source": [
    "### <center>公开API<center>\n",
    "#### 免费API合集\n",
    "- https://github.com/fangzesheng/free-api"
   ]
  },
  {
   "cell_type": "code",
   "execution_count": 1,
   "metadata": {},
   "outputs": [],
   "source": [
    "import requests"
   ]
  },
  {
   "cell_type": "code",
   "execution_count": 4,
   "metadata": {},
   "outputs": [
    {
     "data": {
      "text/plain": [
       "{'code': 10000, 'data': 0}"
      ]
     },
     "execution_count": 4,
     "metadata": {},
     "output_type": "execute_result"
    }
   ],
   "source": [
    "def holiday_api(date):\n",
    "    \"\"\"\n",
    "    1、接口地址：http://api.goseek.cn/Tools/holiday?date=数字日期，支持https协议。\n",
    "    2、返回数据：正常工作日对应结果为 0, 法定节假日对应结果为 1, 节假日调休补班对应的结果为 2，休息日对应结果为 3\n",
    "    3、节假日数据说明：本接口包含2017年起的中国法定节假日数据，数据来源国务院发布的公告，每年更新1次，确保数据最新\n",
    "    :param day:\n",
    "    :return:\n",
    "    \"\"\"\n",
    "    res = requests.get(\"http://api.goseek.cn/Tools/holiday?date=%s\" % date)\n",
    "    return res.json()\n",
    "holiday_api(date=\"20191018\")"
   ]
  },
  {
   "cell_type": "markdown",
   "metadata": {},
   "source": [
    "- https://github.com/PKUJohnson/OpenData"
   ]
  },
  {
   "cell_type": "code",
   "execution_count": 5,
   "metadata": {},
   "outputs": [
    {
     "name": "stdout",
     "output_type": "stream",
     "text": [
      "                     time     symbol   high    low   last  change  percent  \\\n",
      "0 2019-10-18 13:49:39.000  000002.SZ  27.73  26.81  26.86   -0.49    -1.79   \n",
      "1 2019-10-18 13:49:36.480  600000.SH  13.29  12.75  12.79   -0.38    -2.89   \n",
      "\n",
      "     volume        amount  turnover_rate  market_capital  \\\n",
      "0  46961435  1.285101e+09           0.48    3.035756e+11   \n",
      "1  44026114  5.723562e+08           0.16    3.754131e+11   \n",
      "\n",
      "   float_market_capital  is_trading  \n",
      "0          2.609495e+11        True  \n",
      "1          3.594471e+11        True  \n"
     ]
    }
   ],
   "source": [
    "from opendatatools import stock\n",
    "df, msg = stock.get_quote('600000.SH,000002.SZ')\n",
    "print(df)"
   ]
  },
  {
   "cell_type": "code",
   "execution_count": null,
   "metadata": {},
   "outputs": [],
   "source": []
  }
 ],
 "metadata": {
  "kernelspec": {
   "display_name": "Python 3",
   "language": "python",
   "name": "python3"
  },
  "language_info": {
   "codemirror_mode": {
    "name": "ipython",
    "version": 3
   },
   "file_extension": ".py",
   "mimetype": "text/x-python",
   "name": "python",
   "nbconvert_exporter": "python",
   "pygments_lexer": "ipython3",
   "version": "3.6.8"
  }
 },
 "nbformat": 4,
 "nbformat_minor": 2
}
