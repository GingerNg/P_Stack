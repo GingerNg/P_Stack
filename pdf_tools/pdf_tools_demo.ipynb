{
 "nbformat": 4,
 "nbformat_minor": 2,
 "metadata": {
  "language_info": {
   "name": "python",
   "codemirror_mode": {
    "name": "ipython",
    "version": 3
   },
   "version": "3.6.9-final"
  },
  "orig_nbformat": 2,
  "file_extension": ".py",
  "mimetype": "text/x-python",
  "name": "python",
  "npconvert_exporter": "python",
  "pygments_lexer": "ipython3",
  "version": 3,
  "kernelspec": {
   "name": "python3",
   "display_name": "Python 3"
  }
 },
 "cells": [
  {
   "cell_type": "code",
   "execution_count": 17,
   "metadata": {},
   "outputs": [
    {
     "data": {
      "text/plain": "'/home/ginger/Projects/Learning/P_Stack/pdf_tools'"
     },
     "execution_count": 17,
     "metadata": {},
     "output_type": "execute_result"
    }
   ],
   "source": [
    "import os\n",
    "os.getcwd()"
   ]
  },
  {
   "cell_type": "markdown",
   "metadata": {},
   "source": [
    "# <center>fitz</center>"
   ]
  },
  {
   "cell_type": "code",
   "execution_count": 59,
   "metadata": {},
   "outputs": [],
   "source": [
    "import os\n",
    "import fitz \n",
    "# file_name = \"比音勒芬.PDF\"\n",
    "# file_name = \"天科股份2017年年度报告摘要.pdf\"\n",
    "# file_name = \"年度报告多页.pdf\"\n",
    "file_name = \"深圳广田集团股份有限公司 2018 年年度报告摘要.PDF\"\n",
    "# file_name = \"20190713_国泰君安_宏观周报_ 信用流向地产和基建，制造业内外交困_花长春 韩旭 董琦 赵格格.pdf\"\n",
    "full_path = os.getcwd()+\"/pdfs/pdf_catas/\"+file_name\n",
    "doc = fitz.open(full_path)"
   ]
  },
  {
   "cell_type": "code",
   "execution_count": 60,
   "metadata": {},
   "outputs": [
    {
     "data": {
      "text/plain": "{'format': 'PDF 1.5',\n 'title': '深圳广田集团股份有限公司2018年年度报告摘要',\n 'author': '深圳广田集团股份有限公司',\n 'subject': None,\n 'keywords': None,\n 'creator': 'Microsoft® Office Word 2007',\n 'producer': 'Microsoft® Office Word 2007',\n 'creationDate': \"D:20190419204438+08'00'\",\n 'modDate': \"D:20190419204438+08'00'\",\n 'encryption': None}"
     },
     "execution_count": 60,
     "metadata": {},
     "output_type": "execute_result"
    }
   ],
   "source": [
    "doc.metadata"
   ]
  },
  {
   "cell_type": "code",
   "execution_count": 12,
   "metadata": {},
   "outputs": [
    {
     "name": "stdout",
     "output_type": "stream",
     "text": "page 1\npage 2\npage 3\npage 4\npage 5\npage 6\npage 7\npage 8\npage 9\npage 10\npage 11\npage 12\npage 13\n"
    }
   ],
   "source": [
    "\"\"\"\n",
    "逐页抽取内容\n",
    "\"\"\"\n",
    "counter = 0\n",
    "for page in doc:  # iterate the document pages\n",
    "    counter += 1\n",
    "    print(\"page\",counter)\n",
    "    text = page.getText()  # get plain text (is in UTF-8)\n",
    "    # print(text)"
   ]
  },
  {
   "cell_type": "code",
   "execution_count": 4,
   "metadata": {},
   "outputs": [
    {
     "data": {
      "text/plain": "'\\n get all outlines (also called “bookmarks”) of a document,\\n [[lvl, title, page, …], …] \\nlvl is the hierarchy level of the entry (starting from 1), title is the entry’s title, and page the page number (1-based!). Other parameters describe details of the bookmark target.\\n'"
     },
     "execution_count": 4,
     "metadata": {},
     "output_type": "execute_result"
    }
   ],
   "source": [
    "\"\"\"\n",
    " get all outlines (also called “bookmarks”) of a document,\n",
    " [[lvl, title, page, …], …] \n",
    "lvl is the hierarchy level of the entry (starting from 1), title is the entry’s title, and page the page number (1-based!). Other parameters describe details of the bookmark target.\n",
    "\"\"\"\n",
    "\n",
    "# doc.getToC()"
   ]
  },
  {
   "cell_type": "code",
   "execution_count": 9,
   "metadata": {},
   "outputs": [
    {
     "data": {
      "text/plain": "'深圳广田集团股份有限公司 2018 年年度报告摘要\\n1\\n证券代码：002482                      \\n证券简称：广田集团\\n公告编号：2019-021\\n深圳广田集团股份有限公司 2018 年年度报告摘要\\n一、重要提示\\n本年度报告摘要来自年度报告全文，为全面了解本公司的经营成果、财务状况及未来发展规划，投资者应当到证监会指定媒\\n体仔细阅读年度报告全文。\\n非标准审计意见提示\\n□ 适用 √ 不适用\\n董事会审议的报告期普通股利润分配预案或公积金转增股本预案\\n√ 适用 □ 不适用\\n是否以公积金转增股本\\n□ 是 √ 否\\n公司经本次董事会审议通过的普通股利润分配预案为：以总股本为基数，向全体股东每 10 股派发现金红利 0.30 元（含税），\\n送红股 0 股（含税），不以公积金转增股本。\\n董事会决议通过的本报告期优先股利润分配预案\\n□ 适用 √ 不适用\\n二、公司基本情况\\n1、公司简介\\n股票简称\\n广田集团\\n股票代码\\n002482\\n股票上市交易所\\n深圳证券交易所\\n联系人和联系方式\\n董事会秘书\\n证券事务代表\\n姓名\\n赵国文\\n朱凯、李儒谦\\n办公地址\\n深圳市罗湖区深南东路 2098 号广田集团\\n大厦\\n深圳市罗湖区深南东路2098号广田集团大\\n厦\\n电话\\n0755-25886666-1187\\n0755-25886666-1187\\n电子信箱\\nzq@szgt.com\\nzq@szgt.com\\n2、报告期主要业务或产品简介\\n（一）报告期内，公司的主营业务及其变化情况\\n公司是一家集建筑装饰设计与施工、绿色建材研发生产为一体的大型上市集团企业，主要为大型房地产企业、政府机构、\\n大型企业和高档酒店等提供装饰设计和施工服务。公司承接的项目包括公共建筑装饰、住宅精装修等，涵盖星级酒店、商业\\n综合体、大型场馆、写字楼、轨道交通、住宅精装修等多种业态类型。\\n公司是建筑装饰企业中高等级资质最完备的企业之一，公司及子公司拥有的壹级、甲级资质主要有建筑装修装饰工程专\\n业承包壹级、建筑幕墙工程专业承包壹级、机电设备安装工程专业承包壹级、电子与智能化工程专业承包壹级、消防设施工\\n程专业承包壹级、建筑装饰工程设计专项甲级、建筑幕墙工程设计专项甲级、建筑智能化系统设计专项甲级、消防设施工程\\n设计专项甲级、建筑工程施工总承包壹级、市政公用工程施工总承包壹级、钢结构工程专业承包壹级、地基基础工程专业承\\n包壹级、古建筑工程专业承包壹级、博物馆陈列展览施工壹级和设计甲级等资质。报告期内，公司主营业务未发生重大变化。\\n（二）行业发展概况\\n2018年是全面贯彻落实中共十九大精神的开局之年，我国供给侧结构性改革持续深化，经济结构继续优化，经济发展质\\n量得到进一步提高。国家区域协调发展战略的进一步推动，增强了区域发展活力，新型城镇化、京津冀协同发展、“一带一\\n'"
     },
     "execution_count": 9,
     "metadata": {},
     "output_type": "execute_result"
    }
   ],
   "source": [
    "page0.getText()"
   ]
  },
  {
   "cell_type": "code",
   "execution_count": 58,
   "metadata": {},
   "outputs": [
    {
     "data": {
      "text/plain": "page 0 of /home/ginger/Projects/Learning/P_Stack/pdf_tools/pdfs/pdf_catas/20190713_国泰君安_宏观周报_ 信用流向地产和基建，制造业内外交困_花长春 韩旭 董琦 赵格格.pdf"
     },
     "execution_count": 58,
     "metadata": {},
     "output_type": "execute_result"
    }
   ],
   "source": [
    "page0"
   ]
  },
  {
   "cell_type": "code",
   "execution_count": 67,
   "metadata": {},
   "outputs": [
    {
     "data": {
      "text/plain": "[(345.2200012207031,\n  35.58300018310547,\n  538.6799926757812,\n  47.58899688720703,\n  '深圳广田集团股份有限公司 2018 年年度报告摘要',\n  0,\n  0),\n (534.1799926757812,\n  794.2830200195312,\n  538.6799926757812,\n  806.2890014648438,\n  '1',\n  1,\n  0),\n (56.70000076293945,\n  86.52300262451172,\n  536.760009765625,\n  98.52899932861328,\n  '证券代码：002482                      \\n证券简称：广田集团\\n公告编号：2019-021',\n  2,\n  0),\n (103.58000183105469,\n  133.02801513671875,\n  491.739990234375,\n  157.9580078125,\n  '深圳广田集团股份有限公司 2018 年年度报告摘要',\n  3,\n  0),\n (56.70000076293945,\n  193.7674560546875,\n  128.89198303222656,\n  205.7674560546875,\n  '一、重要提示',\n  4,\n  0),\n (56.70000076293945,\n  223.94561767578125,\n  538.5689697265625,\n  244.58563232421875,\n  '本年度报告摘要来自年度报告全文，为全面了解本公司的经营成果、财务状况及未来发展规划，投资者应当到证监会指定媒\\n体仔细阅读年度报告全文。',\n  5,\n  0),\n (56.70000076293945,\n  249.265625,\n  137.6999969482422,\n  258.265625,\n  '非标准审计意见提示',\n  6,\n  0),\n (56.70000076293945,\n  262.65997314453125,\n  125.5999984741211,\n  272.62677001953125,\n  '□ 适用 √ 不适用',\n  7,\n  0),\n (56.70000076293945,\n  276.6256103515625,\n  308.70001220703125,\n  285.6256103515625,\n  '董事会审议的报告期普通股利润分配预案或公积金转增股本预案',\n  8,\n  0),\n (56.70000076293945,\n  290.01995849609375,\n  125.5999984741211,\n  299.98675537109375,\n  '√ 适用 □ 不适用',\n  9,\n  0),\n (56.70000076293945,\n  303.985595703125,\n  146.6999969482422,\n  312.985595703125,\n  '是否以公积金转增股本',\n  10,\n  0),\n (56.70000076293945,\n  317.3199462890625,\n  98.5999984741211,\n  327.2867431640625,\n  '□ 是 √ 否',\n  11,\n  0),\n (56.70000076293945,\n  329.5429992675781,\n  543.177001953125,\n  353.24896240234375,\n  '公司经本次董事会审议通过的普通股利润分配预案为：以总股本为基数，向全体股东每 10 股派发现金红利 0.30 元（含税），\\n送红股 0 股（含税），不以公积金转增股本。',\n  12,\n  0),\n (56.70000076293945,\n  356.6656188964844,\n  245.6999969482422,\n  365.6656188964844,\n  '董事会决议通过的本报告期优先股利润分配预案',\n  13,\n  0),\n (56.70000076293945,\n  370.0599670410156,\n  125.5999984741211,\n  380.0267639160156,\n  '□ 适用 √ 不适用',\n  14,\n  0),\n (56.70000076293945,\n  397.46746826171875,\n  152.9879913330078,\n  409.46746826171875,\n  '二、公司基本情况',\n  15,\n  0),\n (56.70000076293945,\n  425.93798828125,\n  114.63748931884766,\n  440.4804992675781,\n  '1、公司简介',\n  16,\n  0),\n (58.08000183105469,\n  456.9429931640625,\n  448.55999755859375,\n  468.948974609375,\n  '股票简称 广田集团 股票代码\\n002482',\n  17,\n  0),\n (58.08000183105469,\n  475.005615234375,\n  265.94000244140625,\n  484.005615234375,\n  '股票上市交易所 深圳证券交易所',\n  18,\n  0),\n (93.08000183105469,\n  491.2055969238281,\n  478.6199951171875,\n  500.2055969238281,\n  '联系人和联系方式 董事会秘书 证券事务代表',\n  19,\n  0),\n (58.08000183105469,\n  507.3455810546875,\n  423.4599914550781,\n  516.3455810546875,\n  '姓名 赵国文 朱凯、李儒谦',\n  20,\n  0),\n (58.08000183105469,\n  521.7429809570312,\n  360.4599914550781,\n  544.1856079101562,\n  '办公地址\\n深圳市罗湖区深南东路 2098 号广田集团\\n大厦',\n  21,\n  0),\n (369.4599914550781,\n  521.7429809570312,\n  533.7000122070312,\n  544.1856079101562,\n  '深圳市罗湖区深南东路2098号广田集团大\\n厦',\n  22,\n  0),\n (58.08000183105469,\n  549.4629516601562,\n  447.1200256347656,\n  561.4689331054688,\n  '电话\\n0755-25886666-1187 0755-25886666-1187',\n  23,\n  0),\n (58.08000183105469,\n  565.6630249023438,\n  418.4920349121094,\n  577.6690063476562,\n  '电子信箱\\nzq@szgt.com zq@szgt.com',\n  24,\n  0),\n (56.70000076293945,\n  594.9580078125,\n  198.90000915527344,\n  609.50048828125,\n  '2、报告期主要业务或产品简介',\n  25,\n  0),\n (74.69999694824219,\n  625.3656005859375,\n  543.0599975585938,\n  646.005615234375,\n  '（一）报告期内，公司的主营业务及其变化情况\\n公司是一家集建筑装饰设计与施工、绿色建材研发生产为一体的大型上市集团企业，主要为大型房地产企业、政府机构、',\n  26,\n  0),\n (56.70000076293945,\n  648.7056274414062,\n  538.6319580078125,\n  669.4056396484375,\n  '大型企业和高档酒店等提供装饰设计和施工服务。公司承接的项目包括公共建筑装饰、住宅精装修等，涵盖星级酒店、商业\\n综合体、大型场馆、写字楼、轨道交通、住宅精装修等多种业态类型。',\n  27,\n  0),\n (74.69999694824219,\n  672.0455932617188,\n  538.656982421875,\n  681.0455932617188,\n  '公司是建筑装饰企业中高等级资质最完备的企业之一，公司及子公司拥有的壹级、甲级资质主要有建筑装修装饰工程专',\n  28,\n  0),\n (56.70000076293945,\n  683.74560546875,\n  543.0599975585938,\n  727.74560546875,\n  '业承包壹级、建筑幕墙工程专业承包壹级、机电设备安装工程专业承包壹级、电子与智能化工程专业承包壹级、消防设施工\\n程专业承包壹级、建筑装饰工程设计专项甲级、建筑幕墙工程设计专项甲级、建筑智能化系统设计专项甲级、消防设施工程\\n设计专项甲级、建筑工程施工总承包壹级、市政公用工程施工总承包壹级、钢结构工程专业承包壹级、地基基础工程专业承\\n包壹级、古建筑工程专业承包壹级、博物馆陈列展览施工壹级和设计甲级等资质。报告期内，公司主营业务未发生重大变化。',\n  29,\n  0),\n (74.69999694824219,\n  730.4456176757812,\n  538.5889892578125,\n  752.3489990234375,\n  '（二）行业发展概况\\n2018年是全面贯彻落实中共十九大精神的开局之年，我国供给侧结构性改革持续深化，经济结构继续优化，经济发展质',\n  30,\n  0),\n (56.70000076293945,\n  753.4999389648438,\n  537.719970703125,\n  763.4667358398438,\n  '量得到进一步提高。国家区域协调发展战略的进一步推动，增强了区域发展活力，新型城镇化、京津冀协同发展、“一带一',\n  31,\n  0)]"
     },
     "execution_count": 67,
     "metadata": {},
     "output_type": "execute_result"
    }
   ],
   "source": [
    "page0 = doc[0]\n",
    "blocks = fitz.utils.getTextBlocks(page0, images=False)\n",
    "blocks"
   ]
  },
  {
   "cell_type": "code",
   "execution_count": 68,
   "metadata": {},
   "outputs": [],
   "source": [
    "coordinates_x = []\n",
    "coordinates_y = []\n",
    "for b in blocks[0:10]:\n",
    "    coordinates_x.append(b[0])\n",
    "    # coordinates_x.append(b[2])\n",
    "    coordinates_y.append(b[1])\n",
    "    # coordinates_y.append(b[3])"
   ]
  },
  {
   "cell_type": "code",
   "execution_count": 69,
   "metadata": {},
   "outputs": [
    {
     "data": {
      "text/plain": "<matplotlib.collections.PathCollection at 0x7f69acb074e0>"
     },
     "execution_count": 69,
     "metadata": {},
     "output_type": "execute_result"
    },
    {
     "data": {
      "image/png": "[encoded data removed]",
      "image/svg+xml": "<?xml version=\"1.0\" encoding=\"utf-8\" standalone=\"no\"?>\n<!DOCTYPE svg PUBLIC \"-//W3C//DTD SVG 1.1//EN\"\n  \"http://www.w3.org/Graphics/SVG/1.1/DTD/svg11.dtd\">\n<!-- Created with matplotlib (https://matplotlib.org/) -->\n<svg height=\"248.518125pt\" version=\"1.1\" viewBox=\"0 0 375.2875 248.518125\" width=\"375.2875pt\" xmlns=\"http://www.w3.org/2000/svg\" xmlns:xlink=\"http://www.w3.org/1999/xlink\">\n <defs>\n  <style type=\"text/css\">\n*{stroke-linecap:butt;stroke-linejoin:round;}\n  </style>\n </defs>\n <g id=\"figure_1\">\n  <g id=\"patch_1\">\n   <path d=\"M 0 248.518125 \nL 375.2875 248.518125 \nL 375.2875 0 \nL 0 0 \nz\n\" style=\"fill:none;\"/>\n  </g>\n  <g id=\"axes_1\">\n   <g id=\"patch_2\">\n    <path d=\"M 33.2875 224.64 \nL 368.0875 224.64 \nL 368.0875 7.2 \nL 33.2875 7.2 \nz\n\" style=\"fill:#ffffff;\"/>\n   </g>\n   <g id=\"PathCollection_1\">\n    <defs>\n     <path d=\"M 0 3 \nC 0.795609 3 1.55874 2.683901 2.12132 2.12132 \nC 2.683901 1.55874 3 0.795609 3 0 \nC 3 -0.795609 2.683901 -1.55874 2.12132 -2.12132 \nC 1.55874 -2.683901 0.795609 -3 0 -3 \nC -0.795609 -3 -1.55874 -2.683901 -2.12132 -2.12132 \nC -2.683901 -1.55874 -3 -0.795609 -3 0 \nC -3 0.795609 -2.683901 1.55874 -2.12132 2.12132 \nC -1.55874 2.683901 -0.795609 3 0 3 \nz\n\" id=\"m1df3243301\" style=\"stroke:#1f77b4;\"/>\n    </defs>\n    <g clip-path=\"url(#p863ba52b31)\">\n     <use style=\"fill:#1f77b4;stroke:#1f77b4;\" x=\"232.417949\" xlink:href=\"#m1df3243301\" y=\"214.752769\"/>\n     <use style=\"fill:#1f77b4;stroke:#1f77b4;\" x=\"352.863607\" xlink:href=\"#m1df3243301\" y=\"17.087231\"/>\n     <use style=\"fill:#1f77b4;stroke:#1f77b4;\" x=\"48.511393\" xlink:href=\"#m1df3243301\" y=\"201.481275\"/>\n     <use style=\"fill:#1f77b4;stroke:#1f77b4;\" x=\"78.393341\" xlink:href=\"#m1df3243301\" y=\"189.365237\"/>\n     <use style=\"fill:#1f77b4;stroke:#1f77b4;\" x=\"48.511393\" xlink:href=\"#m1df3243301\" y=\"173.540676\"/>\n     <use style=\"fill:#1f77b4;stroke:#1f77b4;\" x=\"48.511393\" xlink:href=\"#m1df3243301\" y=\"165.678303\"/>\n     <use style=\"fill:#1f77b4;stroke:#1f77b4;\" x=\"48.511393\" xlink:href=\"#m1df3243301\" y=\"159.081634\"/>\n     <use style=\"fill:#1f77b4;stroke:#1f77b4;\" x=\"48.511393\" xlink:href=\"#m1df3243301\" y=\"155.59198\"/>\n     <use style=\"fill:#1f77b4;stroke:#1f77b4;\" x=\"48.511393\" xlink:href=\"#m1df3243301\" y=\"151.953486\"/>\n     <use style=\"fill:#1f77b4;stroke:#1f77b4;\" x=\"48.511393\" xlink:href=\"#m1df3243301\" y=\"148.463831\"/>\n    </g>\n   </g>\n   <g id=\"matplotlib.axis_1\">\n    <g id=\"xtick_1\">\n     <g id=\"line2d_1\">\n      <defs>\n       <path d=\"M 0 0 \nL 0 3.5 \n\" id=\"mf47c1d032f\" style=\"stroke:#000000;stroke-width:0.8;\"/>\n      </defs>\n      <g>\n       <use style=\"stroke:#000000;stroke-width:0.8;\" x=\"76.111399\" xlink:href=\"#mf47c1d032f\" y=\"224.64\"/>\n      </g>\n     </g>\n     <g id=\"text_1\">\n      <!-- 100 -->\n      <defs>\n       <path d=\"M 12.40625 8.296875 \nL 28.515625 8.296875 \nL 28.515625 63.921875 \nL 10.984375 60.40625 \nL 10.984375 69.390625 \nL 28.421875 72.90625 \nL 38.28125 72.90625 \nL 38.28125 8.296875 \nL 54.390625 8.296875 \nL 54.390625 0 \nL 12.40625 0 \nz\n\" id=\"DejaVuSans-49\"/>\n       <path d=\"M 31.78125 66.40625 \nQ 24.171875 66.40625 20.328125 58.90625 \nQ 16.5 51.421875 16.5 36.375 \nQ 16.5 21.390625 20.328125 13.890625 \nQ 24.171875 6.390625 31.78125 6.390625 \nQ 39.453125 6.390625 43.28125 13.890625 \nQ 47.125 21.390625 47.125 36.375 \nQ 47.125 51.421875 43.28125 58.90625 \nQ 39.453125 66.40625 31.78125 66.40625 \nz\nM 31.78125 74.21875 \nQ 44.046875 74.21875 50.515625 64.515625 \nQ 56.984375 54.828125 56.984375 36.375 \nQ 56.984375 17.96875 50.515625 8.265625 \nQ 44.046875 -1.421875 31.78125 -1.421875 \nQ 19.53125 -1.421875 13.0625 8.265625 \nQ 6.59375 17.96875 6.59375 36.375 \nQ 6.59375 54.828125 13.0625 64.515625 \nQ 19.53125 74.21875 31.78125 74.21875 \nz\n\" id=\"DejaVuSans-48\"/>\n      </defs>\n      <g transform=\"translate(66.567649 239.238437)scale(0.1 -0.1)\">\n       <use xlink:href=\"#DejaVuSans-49\"/>\n       <use x=\"63.623047\" xlink:href=\"#DejaVuSans-48\"/>\n       <use x=\"127.246094\" xlink:href=\"#DejaVuSans-48\"/>\n      </g>\n     </g>\n    </g>\n    <g id=\"xtick_2\">\n     <g id=\"line2d_2\">\n      <g>\n       <use style=\"stroke:#000000;stroke-width:0.8;\" x=\"139.852754\" xlink:href=\"#mf47c1d032f\" y=\"224.64\"/>\n      </g>\n     </g>\n     <g id=\"text_2\">\n      <!-- 200 -->\n      <defs>\n       <path d=\"M 19.1875 8.296875 \nL 53.609375 8.296875 \nL 53.609375 0 \nL 7.328125 0 \nL 7.328125 8.296875 \nQ 12.9375 14.109375 22.625 23.890625 \nQ 32.328125 33.6875 34.8125 36.53125 \nQ 39.546875 41.84375 41.421875 45.53125 \nQ 43.3125 49.21875 43.3125 52.78125 \nQ 43.3125 58.59375 39.234375 62.25 \nQ 35.15625 65.921875 28.609375 65.921875 \nQ 23.96875 65.921875 18.8125 64.3125 \nQ 13.671875 62.703125 7.8125 59.421875 \nL 7.8125 69.390625 \nQ 13.765625 71.78125 18.9375 73 \nQ 24.125 74.21875 28.421875 74.21875 \nQ 39.75 74.21875 46.484375 68.546875 \nQ 53.21875 62.890625 53.21875 53.421875 \nQ 53.21875 48.921875 51.53125 44.890625 \nQ 49.859375 40.875 45.40625 35.40625 \nQ 44.1875 33.984375 37.640625 27.21875 \nQ 31.109375 20.453125 19.1875 8.296875 \nz\n\" id=\"DejaVuSans-50\"/>\n      </defs>\n      <g transform=\"translate(130.309004 239.238437)scale(0.1 -0.1)\">\n       <use xlink:href=\"#DejaVuSans-50\"/>\n       <use x=\"63.623047\" xlink:href=\"#DejaVuSans-48\"/>\n       <use x=\"127.246094\" xlink:href=\"#DejaVuSans-48\"/>\n      </g>\n     </g>\n    </g>\n    <g id=\"xtick_3\">\n     <g id=\"line2d_3\">\n      <g>\n       <use style=\"stroke:#000000;stroke-width:0.8;\" x=\"203.594108\" xlink:href=\"#mf47c1d032f\" y=\"224.64\"/>\n      </g>\n     </g>\n     <g id=\"text_3\">\n      <!-- 300 -->\n      <defs>\n       <path d=\"M 40.578125 39.3125 \nQ 47.65625 37.796875 51.625 33 \nQ 55.609375 28.21875 55.609375 21.1875 \nQ 55.609375 10.40625 48.1875 4.484375 \nQ 40.765625 -1.421875 27.09375 -1.421875 \nQ 22.515625 -1.421875 17.65625 -0.515625 \nQ 12.796875 0.390625 7.625 2.203125 \nL 7.625 11.71875 \nQ 11.71875 9.328125 16.59375 8.109375 \nQ 21.484375 6.890625 26.8125 6.890625 \nQ 36.078125 6.890625 40.9375 10.546875 \nQ 45.796875 14.203125 45.796875 21.1875 \nQ 45.796875 27.640625 41.28125 31.265625 \nQ 36.765625 34.90625 28.71875 34.90625 \nL 20.21875 34.90625 \nL 20.21875 43.015625 \nL 29.109375 43.015625 \nQ 36.375 43.015625 40.234375 45.921875 \nQ 44.09375 48.828125 44.09375 54.296875 \nQ 44.09375 59.90625 40.109375 62.90625 \nQ 36.140625 65.921875 28.71875 65.921875 \nQ 24.65625 65.921875 20.015625 65.03125 \nQ 15.375 64.15625 9.8125 62.3125 \nL 9.8125 71.09375 \nQ 15.4375 72.65625 20.34375 73.4375 \nQ 25.25 74.21875 29.59375 74.21875 \nQ 40.828125 74.21875 47.359375 69.109375 \nQ 53.90625 64.015625 53.90625 55.328125 \nQ 53.90625 49.265625 50.4375 45.09375 \nQ 46.96875 40.921875 40.578125 39.3125 \nz\n\" id=\"DejaVuSans-51\"/>\n      </defs>\n      <g transform=\"translate(194.050358 239.238437)scale(0.1 -0.1)\">\n       <use xlink:href=\"#DejaVuSans-51\"/>\n       <use x=\"63.623047\" xlink:href=\"#DejaVuSans-48\"/>\n       <use x=\"127.246094\" xlink:href=\"#DejaVuSans-48\"/>\n      </g>\n     </g>\n    </g>\n    <g id=\"xtick_4\">\n     <g id=\"line2d_4\">\n      <g>\n       <use style=\"stroke:#000000;stroke-width:0.8;\" x=\"267.335462\" xlink:href=\"#mf47c1d032f\" y=\"224.64\"/>\n      </g>\n     </g>\n     <g id=\"text_4\">\n      <!-- 400 -->\n      <defs>\n       <path d=\"M 37.796875 64.3125 \nL 12.890625 25.390625 \nL 37.796875 25.390625 \nz\nM 35.203125 72.90625 \nL 47.609375 72.90625 \nL 47.609375 25.390625 \nL 58.015625 25.390625 \nL 58.015625 17.1875 \nL 47.609375 17.1875 \nL 47.609375 0 \nL 37.796875 0 \nL 37.796875 17.1875 \nL 4.890625 17.1875 \nL 4.890625 26.703125 \nz\n\" id=\"DejaVuSans-52\"/>\n      </defs>\n      <g transform=\"translate(257.791712 239.238437)scale(0.1 -0.1)\">\n       <use xlink:href=\"#DejaVuSans-52\"/>\n       <use x=\"63.623047\" xlink:href=\"#DejaVuSans-48\"/>\n       <use x=\"127.246094\" xlink:href=\"#DejaVuSans-48\"/>\n      </g>\n     </g>\n    </g>\n    <g id=\"xtick_5\">\n     <g id=\"line2d_5\">\n      <g>\n       <use style=\"stroke:#000000;stroke-width:0.8;\" x=\"331.076816\" xlink:href=\"#mf47c1d032f\" y=\"224.64\"/>\n      </g>\n     </g>\n     <g id=\"text_5\">\n      <!-- 500 -->\n      <defs>\n       <path d=\"M 10.796875 72.90625 \nL 49.515625 72.90625 \nL 49.515625 64.59375 \nL 19.828125 64.59375 \nL 19.828125 46.734375 \nQ 21.96875 47.46875 24.109375 47.828125 \nQ 26.265625 48.1875 28.421875 48.1875 \nQ 40.625 48.1875 47.75 41.5 \nQ 54.890625 34.8125 54.890625 23.390625 \nQ 54.890625 11.625 47.5625 5.09375 \nQ 40.234375 -1.421875 26.90625 -1.421875 \nQ 22.3125 -1.421875 17.546875 -0.640625 \nQ 12.796875 0.140625 7.71875 1.703125 \nL 7.71875 11.625 \nQ 12.109375 9.234375 16.796875 8.0625 \nQ 21.484375 6.890625 26.703125 6.890625 \nQ 35.15625 6.890625 40.078125 11.328125 \nQ 45.015625 15.765625 45.015625 23.390625 \nQ 45.015625 31 40.078125 35.4375 \nQ 35.15625 39.890625 26.703125 39.890625 \nQ 22.75 39.890625 18.8125 39.015625 \nQ 14.890625 38.140625 10.796875 36.28125 \nz\n\" id=\"DejaVuSans-53\"/>\n      </defs>\n      <g transform=\"translate(321.533066 239.238437)scale(0.1 -0.1)\">\n       <use xlink:href=\"#DejaVuSans-53\"/>\n       <use x=\"63.623047\" xlink:href=\"#DejaVuSans-48\"/>\n       <use x=\"127.246094\" xlink:href=\"#DejaVuSans-48\"/>\n      </g>\n     </g>\n    </g>\n   </g>\n   <g id=\"matplotlib.axis_2\">\n    <g id=\"ytick_1\">\n     <g id=\"line2d_6\">\n      <defs>\n       <path d=\"M 0 0 \nL -3.5 0 \n\" id=\"m592c72e9fd\" style=\"stroke:#000000;stroke-width:0.8;\"/>\n      </defs>\n      <g>\n       <use style=\"stroke:#000000;stroke-width:0.8;\" x=\"33.2875\" xlink:href=\"#m592c72e9fd\" y=\"224.023275\"/>\n      </g>\n     </g>\n     <g id=\"text_6\">\n      <!-- 0 -->\n      <g transform=\"translate(19.925 227.822494)scale(0.1 -0.1)\">\n       <use xlink:href=\"#DejaVuSans-48\"/>\n      </g>\n     </g>\n    </g>\n    <g id=\"ytick_2\">\n     <g id=\"line2d_7\">\n      <g>\n       <use style=\"stroke:#000000;stroke-width:0.8;\" x=\"33.2875\" xlink:href=\"#m592c72e9fd\" y=\"197.970087\"/>\n      </g>\n     </g>\n     <g id=\"text_7\">\n      <!-- 100 -->\n      <g transform=\"translate(7.2 201.769306)scale(0.1 -0.1)\">\n       <use xlink:href=\"#DejaVuSans-49\"/>\n       <use x=\"63.623047\" xlink:href=\"#DejaVuSans-48\"/>\n       <use x=\"127.246094\" xlink:href=\"#DejaVuSans-48\"/>\n      </g>\n     </g>\n    </g>\n    <g id=\"ytick_3\">\n     <g id=\"line2d_8\">\n      <g>\n       <use style=\"stroke:#000000;stroke-width:0.8;\" x=\"33.2875\" xlink:href=\"#m592c72e9fd\" y=\"171.9169\"/>\n      </g>\n     </g>\n     <g id=\"text_8\">\n      <!-- 200 -->\n      <g transform=\"translate(7.2 175.716119)scale(0.1 -0.1)\">\n       <use xlink:href=\"#DejaVuSans-50\"/>\n       <use x=\"63.623047\" xlink:href=\"#DejaVuSans-48\"/>\n       <use x=\"127.246094\" xlink:href=\"#DejaVuSans-48\"/>\n      </g>\n     </g>\n    </g>\n    <g id=\"ytick_4\">\n     <g id=\"line2d_9\">\n      <g>\n       <use style=\"stroke:#000000;stroke-width:0.8;\" x=\"33.2875\" xlink:href=\"#m592c72e9fd\" y=\"145.863713\"/>\n      </g>\n     </g>\n     <g id=\"text_9\">\n      <!-- 300 -->\n      <g transform=\"translate(7.2 149.662931)scale(0.1 -0.1)\">\n       <use xlink:href=\"#DejaVuSans-51\"/>\n       <use x=\"63.623047\" xlink:href=\"#DejaVuSans-48\"/>\n       <use x=\"127.246094\" xlink:href=\"#DejaVuSans-48\"/>\n      </g>\n     </g>\n    </g>\n    <g id=\"ytick_5\">\n     <g id=\"line2d_10\">\n      <g>\n       <use style=\"stroke:#000000;stroke-width:0.8;\" x=\"33.2875\" xlink:href=\"#m592c72e9fd\" y=\"119.810525\"/>\n      </g>\n     </g>\n     <g id=\"text_10\">\n      <!-- 400 -->\n      <g transform=\"translate(7.2 123.609744)scale(0.1 -0.1)\">\n       <use xlink:href=\"#DejaVuSans-52\"/>\n       <use x=\"63.623047\" xlink:href=\"#DejaVuSans-48\"/>\n       <use x=\"127.246094\" xlink:href=\"#DejaVuSans-48\"/>\n      </g>\n     </g>\n    </g>\n    <g id=\"ytick_6\">\n     <g id=\"line2d_11\">\n      <g>\n       <use style=\"stroke:#000000;stroke-width:0.8;\" x=\"33.2875\" xlink:href=\"#m592c72e9fd\" y=\"93.757338\"/>\n      </g>\n     </g>\n     <g id=\"text_11\">\n      <!-- 500 -->\n      <g transform=\"translate(7.2 97.556556)scale(0.1 -0.1)\">\n       <use xlink:href=\"#DejaVuSans-53\"/>\n       <use x=\"63.623047\" xlink:href=\"#DejaVuSans-48\"/>\n       <use x=\"127.246094\" xlink:href=\"#DejaVuSans-48\"/>\n      </g>\n     </g>\n    </g>\n    <g id=\"ytick_7\">\n     <g id=\"line2d_12\">\n      <g>\n       <use style=\"stroke:#000000;stroke-width:0.8;\" x=\"33.2875\" xlink:href=\"#m592c72e9fd\" y=\"67.70415\"/>\n      </g>\n     </g>\n     <g id=\"text_12\">\n      <!-- 600 -->\n      <defs>\n       <path d=\"M 33.015625 40.375 \nQ 26.375 40.375 22.484375 35.828125 \nQ 18.609375 31.296875 18.609375 23.390625 \nQ 18.609375 15.53125 22.484375 10.953125 \nQ 26.375 6.390625 33.015625 6.390625 \nQ 39.65625 6.390625 43.53125 10.953125 \nQ 47.40625 15.53125 47.40625 23.390625 \nQ 47.40625 31.296875 43.53125 35.828125 \nQ 39.65625 40.375 33.015625 40.375 \nz\nM 52.59375 71.296875 \nL 52.59375 62.3125 \nQ 48.875 64.0625 45.09375 64.984375 \nQ 41.3125 65.921875 37.59375 65.921875 \nQ 27.828125 65.921875 22.671875 59.328125 \nQ 17.53125 52.734375 16.796875 39.40625 \nQ 19.671875 43.65625 24.015625 45.921875 \nQ 28.375 48.1875 33.59375 48.1875 \nQ 44.578125 48.1875 50.953125 41.515625 \nQ 57.328125 34.859375 57.328125 23.390625 \nQ 57.328125 12.15625 50.6875 5.359375 \nQ 44.046875 -1.421875 33.015625 -1.421875 \nQ 20.359375 -1.421875 13.671875 8.265625 \nQ 6.984375 17.96875 6.984375 36.375 \nQ 6.984375 53.65625 15.1875 63.9375 \nQ 23.390625 74.21875 37.203125 74.21875 \nQ 40.921875 74.21875 44.703125 73.484375 \nQ 48.484375 72.75 52.59375 71.296875 \nz\n\" id=\"DejaVuSans-54\"/>\n      </defs>\n      <g transform=\"translate(7.2 71.503369)scale(0.1 -0.1)\">\n       <use xlink:href=\"#DejaVuSans-54\"/>\n       <use x=\"63.623047\" xlink:href=\"#DejaVuSans-48\"/>\n       <use x=\"127.246094\" xlink:href=\"#DejaVuSans-48\"/>\n      </g>\n     </g>\n    </g>\n    <g id=\"ytick_8\">\n     <g id=\"line2d_13\">\n      <g>\n       <use style=\"stroke:#000000;stroke-width:0.8;\" x=\"33.2875\" xlink:href=\"#m592c72e9fd\" y=\"41.650963\"/>\n      </g>\n     </g>\n     <g id=\"text_13\">\n      <!-- 700 -->\n      <defs>\n       <path d=\"M 8.203125 72.90625 \nL 55.078125 72.90625 \nL 55.078125 68.703125 \nL 28.609375 0 \nL 18.3125 0 \nL 43.21875 64.59375 \nL 8.203125 64.59375 \nz\n\" id=\"DejaVuSans-55\"/>\n      </defs>\n      <g transform=\"translate(7.2 45.450182)scale(0.1 -0.1)\">\n       <use xlink:href=\"#DejaVuSans-55\"/>\n       <use x=\"63.623047\" xlink:href=\"#DejaVuSans-48\"/>\n       <use x=\"127.246094\" xlink:href=\"#DejaVuSans-48\"/>\n      </g>\n     </g>\n    </g>\n    <g id=\"ytick_9\">\n     <g id=\"line2d_14\">\n      <g>\n       <use style=\"stroke:#000000;stroke-width:0.8;\" x=\"33.2875\" xlink:href=\"#m592c72e9fd\" y=\"15.597775\"/>\n      </g>\n     </g>\n     <g id=\"text_14\">\n      <!-- 800 -->\n      <defs>\n       <path d=\"M 31.78125 34.625 \nQ 24.75 34.625 20.71875 30.859375 \nQ 16.703125 27.09375 16.703125 20.515625 \nQ 16.703125 13.921875 20.71875 10.15625 \nQ 24.75 6.390625 31.78125 6.390625 \nQ 38.8125 6.390625 42.859375 10.171875 \nQ 46.921875 13.96875 46.921875 20.515625 \nQ 46.921875 27.09375 42.890625 30.859375 \nQ 38.875 34.625 31.78125 34.625 \nz\nM 21.921875 38.8125 \nQ 15.578125 40.375 12.03125 44.71875 \nQ 8.5 49.078125 8.5 55.328125 \nQ 8.5 64.0625 14.71875 69.140625 \nQ 20.953125 74.21875 31.78125 74.21875 \nQ 42.671875 74.21875 48.875 69.140625 \nQ 55.078125 64.0625 55.078125 55.328125 \nQ 55.078125 49.078125 51.53125 44.71875 \nQ 48 40.375 41.703125 38.8125 \nQ 48.828125 37.15625 52.796875 32.3125 \nQ 56.78125 27.484375 56.78125 20.515625 \nQ 56.78125 9.90625 50.3125 4.234375 \nQ 43.84375 -1.421875 31.78125 -1.421875 \nQ 19.734375 -1.421875 13.25 4.234375 \nQ 6.78125 9.90625 6.78125 20.515625 \nQ 6.78125 27.484375 10.78125 32.3125 \nQ 14.796875 37.15625 21.921875 38.8125 \nz\nM 18.3125 54.390625 \nQ 18.3125 48.734375 21.84375 45.5625 \nQ 25.390625 42.390625 31.78125 42.390625 \nQ 38.140625 42.390625 41.71875 45.5625 \nQ 45.3125 48.734375 45.3125 54.390625 \nQ 45.3125 60.0625 41.71875 63.234375 \nQ 38.140625 66.40625 31.78125 66.40625 \nQ 25.390625 66.40625 21.84375 63.234375 \nQ 18.3125 60.0625 18.3125 54.390625 \nz\n\" id=\"DejaVuSans-56\"/>\n      </defs>\n      <g transform=\"translate(7.2 19.396994)scale(0.1 -0.1)\">\n       <use xlink:href=\"#DejaVuSans-56\"/>\n       <use x=\"63.623047\" xlink:href=\"#DejaVuSans-48\"/>\n       <use x=\"127.246094\" xlink:href=\"#DejaVuSans-48\"/>\n      </g>\n     </g>\n    </g>\n   </g>\n   <g id=\"patch_3\">\n    <path d=\"M 33.2875 224.64 \nL 33.2875 7.2 \n\" style=\"fill:none;stroke:#000000;stroke-linecap:square;stroke-linejoin:miter;stroke-width:0.8;\"/>\n   </g>\n   <g id=\"patch_4\">\n    <path d=\"M 368.0875 224.64 \nL 368.0875 7.2 \n\" style=\"fill:none;stroke:#000000;stroke-linecap:square;stroke-linejoin:miter;stroke-width:0.8;\"/>\n   </g>\n   <g id=\"patch_5\">\n    <path d=\"M 33.2875 224.64 \nL 368.0875 224.64 \n\" style=\"fill:none;stroke:#000000;stroke-linecap:square;stroke-linejoin:miter;stroke-width:0.8;\"/>\n   </g>\n   <g id=\"patch_6\">\n    <path d=\"M 33.2875 7.2 \nL 368.0875 7.2 \n\" style=\"fill:none;stroke:#000000;stroke-linecap:square;stroke-linejoin:miter;stroke-width:0.8;\"/>\n   </g>\n  </g>\n </g>\n <defs>\n  <clipPath id=\"p863ba52b31\">\n   <rect height=\"217.44\" width=\"334.8\" x=\"33.2875\" y=\"7.2\"/>\n  </clipPath>\n </defs>\n</svg>\n",
      "text/plain": "<Figure size 432x288 with 1 Axes>"
     },
     "metadata": {
      "needs_background": "light"
     },
     "output_type": "display_data"
    }
   ],
   "source": [
    "\"\"\"\n",
    "左下角 右上角\n",
    "(86.90399932861328,\n",
    "  803.2255859375,\n",
    "  231.4759979248047,\n",
    "  812.2255859375)\n",
    "\"\"\"\n",
    "import matplotlib.pyplot as plt\n",
    "plt.scatter(coordinates_x, coordinates_y)"
   ]
  },
  {
   "cell_type": "code",
   "execution_count": null,
   "metadata": {},
   "outputs": [],
   "source": []
  },
  {
   "cell_type": "code",
   "execution_count": null,
   "metadata": {},
   "outputs": [],
   "source": []
  },
  {
   "cell_type": "code",
   "execution_count": null,
   "metadata": {},
   "outputs": [],
   "source": []
  },
  {
   "cell_type": "code",
   "execution_count": null,
   "metadata": {},
   "outputs": [],
   "source": [
    "base_path = input(\"请输入要转换的文件路径：\")  # 输入要转换的PDF所在的文件夹\n",
    "filenames = os.listdir(base_path)　　　　　　# 获取PDF文件列表\n",
    "for filename in filenames:\n",
    "    full_path = os.path.join(base_path, filename)  # 拼接，得到PDF文件的绝对路径\n",
    "    print(full_path)\n",
    "    doc = fitz.open(full_path)  # 打开一个PDF文件，doc为Document类型，是一个包含每一页PDF文件的列表\n",
    "    rotate = int(0)  # 设置图片的旋转角度\n",
    "    zoom_x = 2.0  # 设置图片相对于PDF文件在X轴上的缩放比例\n",
    "    zoom_y = 2.0  # 设置图片相对于PDF文件在Y轴上的缩放比例\n",
    "    trans = fitz.Matrix(zoom_x, zoom_y).preRotate(rotate)\n",
    "    print(\"%s开始转换...\" % filename)\n",
    "    if doc.pageCount > 1:  # 获取PDF的页数\n",
    "        for pg in range(doc.pageCount):\n",
    "            page = doc[pg]  # 获得第pg页\n",
    "            pm = page.getPixmap(matrix=trans, alpha=False)  # 将其转化为光栅文件（位数）\n",
    "            new_full_name = full_path.split(\".\")[0]  # 保证输出的文件名不变\n",
    "            pm.writeImage(\"%s%s.jpg\" % (new_full_name, pg))  # 将其输入为相应的图片格式，可以为位图，也可以为矢量图\n",
    "　　　　　　      # 我本来想输出为jpg文件，但是在网页中都是png格式（即调用writePNG），再转换成别的图像文件前，最好查一下是否支持\n",
    "    else:\n",
    "        page = doc[0]\n",
    "        pm = page.getPixmap(matrix=trans, alpha=False)\n",
    "        new_full_name = full_path.split(\".\")[0]\n",
    "        pm.writeImage(\"%s.jpg\" % new_full_name)\n",
    "    print(\"%s转换完成！\" % filename)"
   ]
  },
  {
   "cell_type": "markdown",
   "metadata": {},
   "source": [
    "# <center>PyPDF2</center>"
   ]
  },
  {
   "cell_type": "code",
   "execution_count": 12,
   "metadata": {},
   "outputs": [
    {
     "name": "stdout",
     "output_type": "stream",
     "text": "2\n{'/Contents': IndirectObject(7, 0), '/MediaBox': [0, 0, 595.3, 841.9], '/Parent': IndirectObject(2, 0), '/Resources': {'/ExtGState': {'/GS13': IndirectObject(13, 0)}, '/Font': {'/FT14': IndirectObject(14, 0), '/FT19': IndirectObject(19, 0), '/FT8': IndirectObject(8, 0)}}, '/Type': '/Page'}\n{'/Contents': IndirectObject(26, 0), '/MediaBox': [0, 0, 595.3, 841.9], '/Parent': IndirectObject(2, 0), '/Resources': {'/ExtGState': {'/GS13': IndirectObject(13, 0)}, '/Font': {'/FT14': IndirectObject(14, 0), '/FT19': IndirectObject(19, 0), '/FT8': IndirectObject(8, 0)}}, '/Type': '/Page'}\n"
    }
   ],
   "source": [
    "from PyPDF2 import PdfFileReader\n",
    "pdf = PdfFileReader(open(os.getcwd()+\"/cases/case55.pdf\",\"rb\"))\n",
    "print(pdf.getNumPages())\n",
    "for i in range(0, pdf.getNumPages()):\n",
    "    # logger.info(\"Processing page {}/{}\".format(i + 1, pdf.getNumPages()))\n",
    "    # images_path.append(\"./temp/{}.jpg\".format(i))\n",
    "    # process_page(pdf, i, i < args.skip)\n",
    "    # content = pdf.getPage(i)['/Resources']['/XObject'].getObject()\n",
    "    page = pdf.getPage(i)\n",
    "    print(page)"
   ]
  },
  {
   "cell_type": "code",
   "execution_count": null,
   "metadata": {},
   "outputs": [],
   "source": []
  }
 ]
}