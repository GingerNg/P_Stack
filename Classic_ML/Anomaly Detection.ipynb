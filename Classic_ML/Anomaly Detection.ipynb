{
 "nbformat": 4,
 "nbformat_minor": 2,
 "metadata": {
  "language_info": {
   "name": "python",
   "codemirror_mode": {
    "name": "ipython",
    "version": 3
   },
   "version": "3.6.9-final"
  },
  "orig_nbformat": 2,
  "file_extension": ".py",
  "mimetype": "text/x-python",
  "name": "python",
  "npconvert_exporter": "python",
  "pygments_lexer": "ipython3",
  "version": 3,
  "kernelspec": {
   "name": "python36964bitb377107951a642b890c3e40487126bca",
   "display_name": "Python 3.6.9 64-bit"
  }
 },
 "cells": [
  {
   "cell_type": "code",
   "execution_count": 1,
   "metadata": {},
   "outputs": [],
   "source": [
    "import numpy as np  \n",
    "import pandas as pd\n",
    "from sklearn.ensemble import IsolationForest  "
   ]
  },
  {
   "cell_type": "code",
   "execution_count": 2,
   "metadata": {},
   "outputs": [],
   "source": [
    "# 设置训练样本数及异常样本比例\n",
    "n_samples = 10000  \n",
    "outliers_fraction = 0.25    \n",
    "n_inliers = int((1. - outliers_fraction) * n_samples)  \n",
    "n_outliers = int(outliers_fraction * n_samples)  "
   ]
  },
  {
   "cell_type": "code",
   "execution_count": 3,
   "metadata": {},
   "outputs": [],
   "source": [
    "# //表示整数除法  \n",
    "rng = np.random.RandomState(123)    \n",
    "X = 0.3 * rng.randn(n_inliers // 2, 2)  "
   ]
  },
  {
   "cell_type": "code",
   "execution_count": null,
   "metadata": {},
   "outputs": [],
   "source": [
    "# 构建正常样本与异常样本  \n",
    "X_train = np.r_[X + 2, X - 2]   \n",
    "outliers = rng.uniform(low=-6, high=6, size=(n_outliers, 2))\n",
    "\n",
    "# 正常样本与异常样本的融合  \n",
    "X_train = np.r_[X_train, outliers]  "
   ]
  },
  {
   "cell_type": "code",
   "execution_count": 8,
   "metadata": {},
   "outputs": [
    {
     "output_type": "execute_result",
     "data": {
      "text/plain": "array([[ 1.67431082,  2.29920363],\n       [ 2.08489355,  1.54811159],\n       [ 1.82641992,  2.49543096],\n       ...,\n       [-4.33496129,  3.65191256],\n       [ 1.26733042, -1.55240204],\n       [-3.73895569, -5.78858711]])"
     },
     "metadata": {},
     "execution_count": 8
    }
   ],
   "source": []
  },
  {
   "cell_type": "code",
   "execution_count": 7,
   "metadata": {},
   "outputs": [
    {
     "output_type": "execute_result",
     "data": {
      "text/plain": "      anomaly_score  y_pred result\n9686      -0.245039      -1     异常\n1976       0.074305       1     正常\n5050       0.060877       1     正常\n1789       0.020527       1     正常\n4153       0.081342       1     正常",
      "text/html": "<div>\n<style scoped>\n    .dataframe tbody tr th:only-of-type {\n        vertical-align: middle;\n    }\n\n    .dataframe tbody tr th {\n        vertical-align: top;\n    }\n\n    .dataframe thead th {\n        text-align: right;\n    }\n</style>\n<table border=\"1\" class=\"dataframe\">\n  <thead>\n    <tr style=\"text-align: right;\">\n      <th></th>\n      <th>anomaly_score</th>\n      <th>y_pred</th>\n      <th>result</th>\n    </tr>\n  </thead>\n  <tbody>\n    <tr>\n      <th>9686</th>\n      <td>-0.245039</td>\n      <td>-1</td>\n      <td>异常</td>\n    </tr>\n    <tr>\n      <th>1976</th>\n      <td>0.074305</td>\n      <td>1</td>\n      <td>正常</td>\n    </tr>\n    <tr>\n      <th>5050</th>\n      <td>0.060877</td>\n      <td>1</td>\n      <td>正常</td>\n    </tr>\n    <tr>\n      <th>1789</th>\n      <td>0.020527</td>\n      <td>1</td>\n      <td>正常</td>\n    </tr>\n    <tr>\n      <th>4153</th>\n      <td>0.081342</td>\n      <td>1</td>\n      <td>正常</td>\n    </tr>\n  </tbody>\n</table>\n</div>"
     },
     "metadata": {},
     "execution_count": 7
    }
   ],
   "source": [
    "\n",
    "\n",
    "clf = IsolationForest(contamination=outliers_fraction, random_state=2018, n_jobs=-1, behaviour=\"new\")  \n",
    "# predict / fit_predict方法返回每个样本是否为正常值，若返回1表示正常值，返回-1表示异常值\n",
    "y_pred_train = clf.fit_predict(X_train)  \n",
    "pred = np.array(['正常' if i==1 else '异常' for i in y_pred_train])\n",
    "\n",
    "# 分数越小于0，越有可能是异常值\n",
    "scores_pred = clf.decision_function(X_train) \n",
    "dict_ = {'anomaly_score':scores_pred, 'y_pred':y_pred_train, 'result':pred}\n",
    "scores = pd.DataFrame(dict_)\n",
    "scores.sample(5)"
   ]
  },
  {
   "cell_type": "code",
   "execution_count": null,
   "metadata": {},
   "outputs": [],
   "source": []
  }
 ]
}