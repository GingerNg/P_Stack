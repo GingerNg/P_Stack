{
 "cells": [
  {
   "cell_type": "markdown",
   "metadata": {},
   "source": [
    "#### <center>优化方法<center>\n",
    "- lasso\n",
    "- em\n",
    "- smo"
   ]
  },
  {
   "cell_type": "code",
   "execution_count": 1,
   "metadata": {},
   "outputs": [],
   "source": [
    "import numpy as np\n",
    "from scipy import optimize\n",
    "import math"
   ]
  },
  {
   "cell_type": "code",
   "execution_count": 2,
   "metadata": {},
   "outputs": [],
   "source": [
    "def lse():\n",
    "    \"\"\"\n",
    "    https://www.cnblogs.com/BlogOfMr-Leo/p/8627311.html\n",
    "    :return:\n",
    "    \"\"\"\n",
    "    x = np.array([0.9, 2.5, 3.3, 4.5, 5.7, 6.9])\n",
    "    y = np.array([1.1, 1.6, 2.6, 3.2, 4.0, 6.0])\n",
    "\n",
    "    def reds(p):\n",
    "        # 计算以p为参数的直线和数据之间的误差\n",
    "        k, b = p\n",
    "        return y - (k * x + b)\n",
    "        # return math.pow((y - (k * x + b)),2)\n",
    "\n",
    "    # leastsq 使得reds()输出最小，参数的初始值是【1,0】\n",
    "    r = optimize.leastsq(reds, [1, 0])\n",
    "    k, b = r[0]\n",
    "    print(\"k=\", k, \"\\n b=\", b)\n",
    "    y1 = x * k + b\n",
    "    a = np.array([y1[0] - y[0], y1[1] - y[1], y1[2] - y[2], y1[3] - y[3], y1[4] - y[4], y1[5] - y[5]])\n",
    "    print(\"\\n\", y, \"\\n\", y1, a)\n",
    "    print(\"灵敏度计算\", k)"
   ]
  },
  {
   "cell_type": "code",
   "execution_count": 3,
   "metadata": {},
   "outputs": [
    {
     "name": "stdout",
     "output_type": "stream",
     "text": [
      "0\n",
      "8.0\n",
      "k= 0.7862723201948396 \n",
      " b= -0.03554687101048135\n",
      "\n",
      " [1.1 1.6 2.6 3.2 4.  6. ] \n",
      " [0.67209822 1.93013393 2.55915179 3.50267857 4.44620535 5.38973214] [-0.42790178  0.33013393 -0.04084821  0.30267857  0.44620535 -0.61026786]\n",
      "灵敏度计算 0.7862723201948396\n"
     ]
    }
   ],
   "source": [
    "print(2^2)\n",
    "print(math.pow(2,3))\n",
    "lse()"
   ]
  },
  {
   "cell_type": "code",
   "execution_count": null,
   "metadata": {},
   "outputs": [],
   "source": []
  }
 ],
 "metadata": {
  "kernelspec": {
   "display_name": "Python 3",
   "language": "python",
   "name": "python3"
  },
  "language_info": {
   "codemirror_mode": {
    "name": "ipython",
    "version": 3
   },
   "file_extension": ".py",
   "mimetype": "text/x-python",
   "name": "python",
   "nbconvert_exporter": "python",
   "pygments_lexer": "ipython3",
   "version": "3.6.8"
  }
 },
 "nbformat": 4,
 "nbformat_minor": 2
}
