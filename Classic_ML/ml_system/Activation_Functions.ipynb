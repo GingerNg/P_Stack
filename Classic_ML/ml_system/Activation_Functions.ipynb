{
 "cells": [
  {
   "cell_type": "code",
   "execution_count": 1,
   "metadata": {},
   "outputs": [],
   "source": [
    "import math\n",
    "from functools import reduce"
   ]
  },
  {
   "cell_type": "code",
   "execution_count": 2,
   "metadata": {},
   "outputs": [],
   "source": [
    "def sigmoid(input):\n",
    "    \"\"\"\n",
    "    sigmoid\n",
    "    :param input:\n",
    "    :return:\n",
    "    \"\"\"\n",
    "    return 1/(1+math.exp(-input))"
   ]
  },
  {
   "cell_type": "code",
   "execution_count": 3,
   "metadata": {},
   "outputs": [],
   "source": [
    "def softmax(inputs):\n",
    "    \"\"\"\n",
    "    softmax\n",
    "    :param inputs:  list\n",
    "    :return:\n",
    "    \"\"\"\n",
    "    outputs = [math.exp(input) for input in inputs]\n",
    "    output_sum = reduce(lambda x, y: x + y, outputs)\n",
    "    outputs = [output/output_sum for output in outputs]\n",
    "    return outputs"
   ]
  },
  {
   "cell_type": "code",
   "execution_count": 4,
   "metadata": {},
   "outputs": [
    {
     "name": "stdout",
     "output_type": "stream",
     "text": [
      "[0.2689414213699951, 0.7310585786300048]\n",
      "0.9525741268224334\n"
     ]
    }
   ],
   "source": [
    "input_test = [2., 3.]\n",
    "input_test2 = 3.0\n",
    "print(softmax(input_test))\n",
    "print(sigmoid(input_test2))"
   ]
  },
  {
   "cell_type": "code",
   "execution_count": null,
   "metadata": {},
   "outputs": [],
   "source": []
  }
 ],
 "metadata": {
  "kernelspec": {
   "display_name": "Python 3",
   "language": "python",
   "name": "python3"
  },
  "language_info": {
   "codemirror_mode": {
    "name": "ipython",
    "version": 3
   },
   "file_extension": ".py",
   "mimetype": "text/x-python",
   "name": "python",
   "nbconvert_exporter": "python",
   "pygments_lexer": "ipython3",
   "version": "3.6.8"
  }
 },
 "nbformat": 4,
 "nbformat_minor": 2
}
