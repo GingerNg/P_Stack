{
 "cells": [
  {
   "cell_type": "code",
   "execution_count": 1,
   "metadata": {},
   "outputs": [
    {
     "name": "stderr",
     "output_type": "stream",
     "text": [
      "/home/ginger/.local/lib/python3.6/site-packages/tensorflow/python/framework/dtypes.py:493: FutureWarning: Passing (type, 1) or '1type' as a synonym of type is deprecated; in a future version of numpy, it will be understood as (type, (1,)) / '(1,)type'.\n",
      "  _np_qint8 = np.dtype([(\"qint8\", np.int8, 1)])\n",
      "/home/ginger/.local/lib/python3.6/site-packages/tensorflow/python/framework/dtypes.py:494: FutureWarning: Passing (type, 1) or '1type' as a synonym of type is deprecated; in a future version of numpy, it will be understood as (type, (1,)) / '(1,)type'.\n",
      "  _np_quint8 = np.dtype([(\"quint8\", np.uint8, 1)])\n",
      "/home/ginger/.local/lib/python3.6/site-packages/tensorflow/python/framework/dtypes.py:495: FutureWarning: Passing (type, 1) or '1type' as a synonym of type is deprecated; in a future version of numpy, it will be understood as (type, (1,)) / '(1,)type'.\n",
      "  _np_qint16 = np.dtype([(\"qint16\", np.int16, 1)])\n",
      "/home/ginger/.local/lib/python3.6/site-packages/tensorflow/python/framework/dtypes.py:496: FutureWarning: Passing (type, 1) or '1type' as a synonym of type is deprecated; in a future version of numpy, it will be understood as (type, (1,)) / '(1,)type'.\n",
      "  _np_quint16 = np.dtype([(\"quint16\", np.uint16, 1)])\n",
      "/home/ginger/.local/lib/python3.6/site-packages/tensorflow/python/framework/dtypes.py:497: FutureWarning: Passing (type, 1) or '1type' as a synonym of type is deprecated; in a future version of numpy, it will be understood as (type, (1,)) / '(1,)type'.\n",
      "  _np_qint32 = np.dtype([(\"qint32\", np.int32, 1)])\n",
      "/home/ginger/.local/lib/python3.6/site-packages/tensorflow/python/framework/dtypes.py:502: FutureWarning: Passing (type, 1) or '1type' as a synonym of type is deprecated; in a future version of numpy, it will be understood as (type, (1,)) / '(1,)type'.\n",
      "  np_resource = np.dtype([(\"resource\", np.ubyte, 1)])\n"
     ]
    }
   ],
   "source": [
    "import numpy as np\n",
    "import tensorflow as tf"
   ]
  },
  {
   "cell_type": "code",
   "execution_count": 2,
   "metadata": {},
   "outputs": [],
   "source": [
    "y_true = np.array([[0.,1.,1.],[1.,1.,0.]])\n",
    "y_pred = np.array([[2.,1.,1.],[1.,1.,1.]])\n",
    "\n",
    "# tf输入Numpy数据时会自动转换为Tensor来处理\n",
    "# 显式处理\n",
    "# y_true= tf.convert_to_tensor(y_true)\n",
    "# y_pred= tf.convert_to_tensor(y_pred)"
   ]
  },
  {
   "cell_type": "markdown",
   "metadata": {},
   "source": [
    "### logistic regression loss"
   ]
  },
  {
   "cell_type": "code",
   "execution_count": 3,
   "metadata": {},
   "outputs": [],
   "source": [
    "lll_loss = tf.nn.log_poisson_loss(targets=y_true,log_input=tf.log(y_pred))"
   ]
  },
  {
   "cell_type": "markdown",
   "metadata": {},
   "source": [
    "### sigmoid cross entropy loss"
   ]
  },
  {
   "cell_type": "code",
   "execution_count": 4,
   "metadata": {},
   "outputs": [],
   "source": [
    "\"\"\"\n",
    "https://www.jianshu.com/p/cf235861311b\n",
    "z * -log(sigmoid(x)) + (1 - z) * -log(1 - sigmoid(x))\n",
    "sigmoid_cross_entropy_with_logits:\n",
    "对输入的logits先通过sigmoid函数计算，再计算它们的交叉熵，但是它对交叉熵的计算方式进行了优化，使得的结果不至于溢出。\n",
    "\"\"\"\n",
    "sigmoid_ce_logits = tf.nn.sigmoid_cross_entropy_with_logits(labels=y_true,\n",
    "                                        logits=y_pred)\n",
    "sigmoid_ce_logits_loss = tf.reduce_mean(sigmoid_ce_logits)\n",
    "\n",
    "y_hat_sigmoid = tf.nn.sigmoid(y_pred)\n",
    "sigmoid_total_loss = tf.reduce_mean(-y_true*tf.log(y_hat_sigmoid)-(1-y_true)*tf.log(1-y_hat_sigmoid))\n",
    "# sigmoid_total_loss = tf.reduce_mean(-tf.reduce_sum(y_true * tf.log(y_hat_sigmoid), [1]))"
   ]
  },
  {
   "cell_type": "markdown",
   "metadata": {},
   "source": [
    "### softmax_cross_entropy"
   ]
  },
  {
   "cell_type": "code",
   "execution_count": 5,
   "metadata": {},
   "outputs": [
    {
     "name": "stdout",
     "output_type": "stream",
     "text": [
      "WARNING:tensorflow:From <ipython-input-5-c22f7b4c9f11>:7: softmax_cross_entropy_with_logits (from tensorflow.python.ops.nn_ops) is deprecated and will be removed in a future version.\n",
      "Instructions for updating:\n",
      "\n",
      "Future major versions of TensorFlow will allow gradients to flow\n",
      "into the labels input on backprop by default.\n",
      "\n",
      "See tf.nn.softmax_cross_entropy_with_logits_v2.\n",
      "\n"
     ]
    }
   ],
   "source": [
    "\"\"\"\n",
    "https://www.jianshu.com/p/6c9b0cc6978b\n",
    "If you interpret the scores in y_hat as unnormalized log probabilities, then they are logits.\n",
    "\"\"\"\n",
    "\"\"\"softmax loss\"\"\"\n",
    "softmax_ce_logits = tf.nn.softmax_cross_entropy_with_logits(labels=y_true,\n",
    "                                        logits=y_pred)\n",
    "softmax_ce_logits_loss = tf.reduce_mean(softmax_ce_logits)\n",
    "\n",
    "y_hat_softmax = tf.nn.softmax(y_pred)\n",
    "softmax_total_loss = tf.reduce_mean(-tf.reduce_sum(y_true * tf.log(y_hat_softmax), [1]))"
   ]
  },
  {
   "cell_type": "code",
   "execution_count": 6,
   "metadata": {},
   "outputs": [
    {
     "name": "stdout",
     "output_type": "stream",
     "text": [
      "[[2. 1. 1.]\n",
      " [1. 1. 1.]]\n",
      "0.7822060747723478\n",
      "0.7822060747723475\n",
      "2.650057002600161\n",
      "2.6500570026001613\n"
     ]
    }
   ],
   "source": [
    "with tf.Session() as sess:\n",
    "    # print(sess.run(y))  # ERROR: 此处x还没有赋值.\n",
    "\n",
    "    # rand_array = np.random.rand(1024, 1024)\n",
    "    print(sess.run(lll_loss))\n",
    "\n",
    "    \"\"\"sigmoid\"\"\"\n",
    "    print(sess.run(sigmoid_ce_logits_loss))\n",
    "    print(sess.run(sigmoid_total_loss))\n",
    "    \"\"\"softmax\"\"\"\n",
    "    print(sess.run(softmax_ce_logits_loss))\n",
    "    print(sess.run(softmax_total_loss))"
   ]
  },
  {
   "cell_type": "code",
   "execution_count": null,
   "metadata": {},
   "outputs": [],
   "source": []
  }
 ],
 "metadata": {
  "kernelspec": {
   "display_name": "Python 3",
   "language": "python",
   "name": "python3"
  },
  "language_info": {
   "codemirror_mode": {
    "name": "ipython",
    "version": 3
   },
   "file_extension": ".py",
   "mimetype": "text/x-python",
   "name": "python",
   "nbconvert_exporter": "python",
   "pygments_lexer": "ipython3",
   "version": "3.6.8"
  }
 },
 "nbformat": 4,
 "nbformat_minor": 4
}
