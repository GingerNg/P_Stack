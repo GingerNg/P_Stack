{
 "cells": [
  {
   "cell_type": "markdown",
   "metadata": {},
   "source": [
    "# 利用bert-serving-server搭建bert词向量服务\n",
    "source:https://blog.csdn.net/Vancl_Wang/article/details/90349047\n",
    "\n",
    "安装：\n",
    "pip3 install bert-serving-server==1.9.1\n",
    "\n",
    "pip3 install bert-serving-client==1.9.1\n",
    "\n",
    "启动\n",
    "bert-serving-start -model_dir /opt/project/Jupyter/StaticFile/chinese_L-12_H-768_A-12 -num_worker=1"
   ]
  },
  {
   "cell_type": "code",
   "execution_count": 9,
   "metadata": {},
   "outputs": [
    {
     "name": "stdout",
     "output_type": "stream",
     "text": [
      "(1, 768)\n",
      "(1, 768)\n",
      "中国和美国的向量相似度: 0.93001366\n",
      "中国和地球的向量相似度: 0.84815574\n",
      "美国和地球的向量相似度: 0.8372991\n"
     ]
    }
   ],
   "source": [
    "# -*- coding:utf-8 -*-\n",
    "from bert_serving.client import BertClient\n",
    "from sklearn.metrics.pairwise import cosine_similarity\n",
    "\n",
    "\n",
    "class Encoding(object):\n",
    "    def __init__(self):\n",
    "        self.server_ip = \"127.0.0.1\"\n",
    "        self.bert_client = BertClient(ip=self.server_ip)\n",
    "\n",
    "    def encode(self, query):\n",
    "        tensor = self.bert_client.encode([query])\n",
    "        return tensor\n",
    "\n",
    "    def query_similarity(self, query_list):\n",
    "        tensors = self.bert_client.encode(query_list)\n",
    "        return cosine_similarity(tensors)[0][1]\n",
    "\n",
    "\n",
    "if __name__ == \"__main__\":\n",
    "    ec = Encoding()\n",
    "    print(ec.encode(\"中国\").shape)\n",
    "    print(ec.encode(\"美国\").shape)\n",
    "    print(\"中国和美国的向量相似度:\", ec.query_similarity([\"中国\", \"美国\"]))\n",
    "    print(\"中国和地球的向量相似度:\", ec.query_similarity([\"中国\", \"地球\"]))\n",
    "    print(\"美国和地球的向量相似度:\", ec.query_similarity([\"美国\", \"地球\"]))"
   ]
  },
  {
   "cell_type": "code",
   "execution_count": 10,
   "metadata": {},
   "outputs": [
    {
     "name": "stdout",
     "output_type": "stream",
     "text": [
      "0.84374595\n"
     ]
    }
   ],
   "source": [
    "sent1 = \"甲乙双方约定承包合同期限从 2016 年  1 月 1 日至 2016 年  12  月  31 日止。\"\n",
    "sent2 = \" 本咨询开设自 2019 年 7月 20日上午半天。\"\n",
    "print( ec.query_similarity([sent1, sent2]))"
   ]
  },
  {
   "cell_type": "code",
   "execution_count": 8,
   "metadata": {},
   "outputs": [
    {
     "data": {
      "text/plain": [
       "numpy.ndarray"
      ]
     },
     "execution_count": 8,
     "metadata": {},
     "output_type": "execute_result"
    }
   ],
   "source": [
    "type(ec.encode(\"中国\"))"
   ]
  },
  {
   "cell_type": "code",
   "execution_count": null,
   "metadata": {},
   "outputs": [],
   "source": []
  }
 ],
 "metadata": {
  "kernelspec": {
   "display_name": "Python 3",
   "language": "python",
   "name": "python3"
  },
  "language_info": {
   "codemirror_mode": {
    "name": "ipython",
    "version": 3
   },
   "file_extension": ".py",
   "mimetype": "text/x-python",
   "name": "python",
   "nbconvert_exporter": "python",
   "pygments_lexer": "ipython3",
   "version": "3.6.5"
  }
 },
 "nbformat": 4,
 "nbformat_minor": 4
}
