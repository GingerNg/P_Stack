{
 "cells": [
  {
   "cell_type": "code",
   "execution_count": 1,
   "metadata": {},
   "outputs": [
    {
     "name": "stderr",
     "output_type": "stream",
     "text": [
      "/usr/local/lib/python3.6/dist-packages/tensorflow/python/framework/dtypes.py:516: FutureWarning: Passing (type, 1) or '1type' as a synonym of type is deprecated; in a future version of numpy, it will be understood as (type, (1,)) / '(1,)type'.\n",
      "  _np_qint8 = np.dtype([(\"qint8\", np.int8, 1)])\n",
      "/usr/local/lib/python3.6/dist-packages/tensorflow/python/framework/dtypes.py:517: FutureWarning: Passing (type, 1) or '1type' as a synonym of type is deprecated; in a future version of numpy, it will be understood as (type, (1,)) / '(1,)type'.\n",
      "  _np_quint8 = np.dtype([(\"quint8\", np.uint8, 1)])\n",
      "/usr/local/lib/python3.6/dist-packages/tensorflow/python/framework/dtypes.py:518: FutureWarning: Passing (type, 1) or '1type' as a synonym of type is deprecated; in a future version of numpy, it will be understood as (type, (1,)) / '(1,)type'.\n",
      "  _np_qint16 = np.dtype([(\"qint16\", np.int16, 1)])\n",
      "/usr/local/lib/python3.6/dist-packages/tensorflow/python/framework/dtypes.py:519: FutureWarning: Passing (type, 1) or '1type' as a synonym of type is deprecated; in a future version of numpy, it will be understood as (type, (1,)) / '(1,)type'.\n",
      "  _np_quint16 = np.dtype([(\"quint16\", np.uint16, 1)])\n",
      "/usr/local/lib/python3.6/dist-packages/tensorflow/python/framework/dtypes.py:520: FutureWarning: Passing (type, 1) or '1type' as a synonym of type is deprecated; in a future version of numpy, it will be understood as (type, (1,)) / '(1,)type'.\n",
      "  _np_qint32 = np.dtype([(\"qint32\", np.int32, 1)])\n",
      "/usr/local/lib/python3.6/dist-packages/tensorflow/python/framework/dtypes.py:525: FutureWarning: Passing (type, 1) or '1type' as a synonym of type is deprecated; in a future version of numpy, it will be understood as (type, (1,)) / '(1,)type'.\n",
      "  np_resource = np.dtype([(\"resource\", np.ubyte, 1)])\n",
      "/usr/local/lib/python3.6/dist-packages/tensorboard/compat/tensorflow_stub/dtypes.py:541: FutureWarning: Passing (type, 1) or '1type' as a synonym of type is deprecated; in a future version of numpy, it will be understood as (type, (1,)) / '(1,)type'.\n",
      "  _np_qint8 = np.dtype([(\"qint8\", np.int8, 1)])\n",
      "/usr/local/lib/python3.6/dist-packages/tensorboard/compat/tensorflow_stub/dtypes.py:542: FutureWarning: Passing (type, 1) or '1type' as a synonym of type is deprecated; in a future version of numpy, it will be understood as (type, (1,)) / '(1,)type'.\n",
      "  _np_quint8 = np.dtype([(\"quint8\", np.uint8, 1)])\n",
      "/usr/local/lib/python3.6/dist-packages/tensorboard/compat/tensorflow_stub/dtypes.py:543: FutureWarning: Passing (type, 1) or '1type' as a synonym of type is deprecated; in a future version of numpy, it will be understood as (type, (1,)) / '(1,)type'.\n",
      "  _np_qint16 = np.dtype([(\"qint16\", np.int16, 1)])\n",
      "/usr/local/lib/python3.6/dist-packages/tensorboard/compat/tensorflow_stub/dtypes.py:544: FutureWarning: Passing (type, 1) or '1type' as a synonym of type is deprecated; in a future version of numpy, it will be understood as (type, (1,)) / '(1,)type'.\n",
      "  _np_quint16 = np.dtype([(\"quint16\", np.uint16, 1)])\n",
      "/usr/local/lib/python3.6/dist-packages/tensorboard/compat/tensorflow_stub/dtypes.py:545: FutureWarning: Passing (type, 1) or '1type' as a synonym of type is deprecated; in a future version of numpy, it will be understood as (type, (1,)) / '(1,)type'.\n",
      "  _np_qint32 = np.dtype([(\"qint32\", np.int32, 1)])\n",
      "/usr/local/lib/python3.6/dist-packages/tensorboard/compat/tensorflow_stub/dtypes.py:550: FutureWarning: Passing (type, 1) or '1type' as a synonym of type is deprecated; in a future version of numpy, it will be understood as (type, (1,)) / '(1,)type'.\n",
      "  np_resource = np.dtype([(\"resource\", np.ubyte, 1)])\n"
     ]
    }
   ],
   "source": [
    "import tensorflow as tf"
   ]
  },
  {
   "cell_type": "markdown",
   "metadata": {},
   "source": [
    "[tf.nn.conv2d 和 tf.layers.conv2d](https://www.jianshu.com/p/c173976c4792)\n",
    "\n",
    "tf.nn.conv2d， 需要自行传入初始化好的filter（四个维度），在初始化filter或者说Weights中，已经手动选择了初始化方案，一般用的是tf.truncated_normal。另外tf.nn.conv2d中激活函数需要另外写。\n",
    "\n",
    "而在tf.layers.conv2d中，只要写入n和size，参数列表中kernel_initializer默认是None， 不清楚这里的参数是如何初始化的？ tf.layers.conv2d中，激活函数是一个参数，不需要另外调用。\n",
    "\n",
    "\n",
    "tf.nn.conv2d(input, filter, strides, padding, use_cudnn_on_gpu=None, name=None)\n",
    "strides 卷积时在图像每一维的步长，这是一个一维的向量，长度4"
   ]
  },
  {
   "cell_type": "code",
   "execution_count": 9,
   "metadata": {},
   "outputs": [
    {
     "name": "stdout",
     "output_type": "stream",
     "text": [
      "(100, 60, 60, 5)\n",
      "(100, 58, 58, 1)\n",
      "(100, 58, 58, 1)\n",
      "(100, 57, 57, 1)\n"
     ]
    }
   ],
   "source": [
    "# 2-D conv\n",
    "\"\"\"\n",
    "input [batch, in_height, in_width, in_channels]\n",
    "\n",
    "filter [filter_height, filter_width, in_channels, out_channels]\n",
    "filter_shape = [filter_size, embedding_size, 1, num_filters]\n",
    "\n",
    "output(feature map) [batch, out_height, out_width, out_channels]\n",
    "\n",
    "一个 epoch（代）是指整个数据集正向反向训练一次。\n",
    "\n",
    "二维卷积(conv2d)的简化,二维卷积是将一个特征图在width和height两个方向上进行滑动窗操作，对应位置进行相乘求和；\n",
    "而一维卷积则只是在width或者说height方向上进行滑动窗口并相乘求和。\n",
    "\n",
    "\"\"\"\n",
    "input = tf.Variable(tf.random_normal([100,60,60,5]))  # one example: [60,60,5]= [width,height,channel]\n",
    "print(input.shape)\n",
    "filter = tf.Variable(tf.random_normal([3,3,5,1]))\n",
    "\n",
    "b = tf.Variable(tf.constant(0.1, shape=[1]), name=\"b\")\n",
    "\n",
    "\"\"\"\n",
    "    strides: shape=[strides_batch, strides_height, strides_width, strides_channels] ,\n",
    "    padding：SAME or VALID 是否用0填充，SAME用0填充，VALID不使用0填充\n",
    "\"\"\"\n",
    "conv = tf.nn.conv2d(input, filter, strides=[1, 1, 1, 1], padding='VALID')\n",
    "print(conv.shape)  # (100, 58, 58, 1)\n",
    "\n",
    "# 一个叫bias的向量加到一个叫value的矩阵上，是向量与矩阵的每一行进行相加，得到的结果和value矩阵大小相同。\n",
    "# bias的维度必须与value的最后一维相同\n",
    "h = tf.nn.relu(tf.nn.bias_add(value=conv, bias=b), name=\"relu\")  # 激活函数  W*X + b\n",
    "print(h.shape)\n",
    "# Maxpooling over the outputs\n",
    "pooled = tf.nn.max_pool(\n",
    "    h,\n",
    "    ksize=[1, 2, 2, 1],\n",
    "    strides=[1, 1, 1, 1],\n",
    "    padding='VALID',\n",
    "    name=\"pool\")\n",
    "\n",
    "sess = tf.Session()\n",
    "sess.run(tf.global_variables_initializer())\n",
    "print(sess.run(pooled).shape)  # (100, 57, 57, 1)"
   ]
  },
  {
   "cell_type": "code",
   "execution_count": 15,
   "metadata": {},
   "outputs": [
    {
     "name": "stdout",
     "output_type": "stream",
     "text": [
      "(100, 60, 60, 5)\n",
      "WARNING:tensorflow:Entity <bound method Conv.call of <tensorflow.python.layers.convolutional.Conv2D object at 0x7efef237e320>> could not be transformed and will be executed as-is. Please report this to the AutgoGraph team. When filing the bug, set the verbosity to 10 (on Linux, `export AUTOGRAPH_VERBOSITY=10`) and attach the full output. Cause: converting <bound method Conv.call of <tensorflow.python.layers.convolutional.Conv2D object at 0x7efef237e320>>: AssertionError: Bad argument number for Name: 3, expecting 4\n",
      "WARNING: Entity <bound method Conv.call of <tensorflow.python.layers.convolutional.Conv2D object at 0x7efef237e320>> could not be transformed and will be executed as-is. Please report this to the AutgoGraph team. When filing the bug, set the verbosity to 10 (on Linux, `export AUTOGRAPH_VERBOSITY=10`) and attach the full output. Cause: converting <bound method Conv.call of <tensorflow.python.layers.convolutional.Conv2D object at 0x7efef237e320>>: AssertionError: Bad argument number for Name: 3, expecting 4\n"
     ]
    },
    {
     "data": {
      "text/plain": [
       "TensorShape([Dimension(100), Dimension(58), Dimension(58), Dimension(2)])"
      ]
     },
     "execution_count": 15,
     "metadata": {},
     "output_type": "execute_result"
    }
   ],
   "source": [
    "# tf.layers.conv2d\n",
    "print(input.shape)\n",
    "conv = tf.layers.conv2d(input, filters=2, kernel_size=[3,3],strides=1,padding='VALID')\n",
    "conv.shape"
   ]
  },
  {
   "cell_type": "code",
   "execution_count": 5,
   "metadata": {},
   "outputs": [
    {
     "name": "stdout",
     "output_type": "stream",
     "text": [
      "WARNING:tensorflow:From <ipython-input-5-1a4141f4aa5a>:6: conv1d (from tensorflow.python.layers.convolutional) is deprecated and will be removed in a future version.\n",
      "Instructions for updating:\n",
      "Use `tf.keras.layers.Conv1D` instead.\n",
      "WARNING:tensorflow:From /usr/local/lib/python3.6/dist-packages/tensorflow/python/ops/init_ops.py:1251: calling VarianceScaling.__init__ (from tensorflow.python.ops.init_ops) with dtype is deprecated and will be removed in a future version.\n",
      "Instructions for updating:\n",
      "Call initializer instance with the dtype argument instead of passing it to the constructor\n",
      "WARNING:tensorflow:Entity <bound method Conv1D.call of <tensorflow.python.layers.convolutional.Conv1D object at 0x7efef1b0ef28>> could not be transformed and will be executed as-is. Please report this to the AutgoGraph team. When filing the bug, set the verbosity to 10 (on Linux, `export AUTOGRAPH_VERBOSITY=10`) and attach the full output. Cause: converting <bound method Conv1D.call of <tensorflow.python.layers.convolutional.Conv1D object at 0x7efef1b0ef28>>: AssertionError: Bad argument number for Name: 3, expecting 4\n",
      "WARNING: Entity <bound method Conv1D.call of <tensorflow.python.layers.convolutional.Conv1D object at 0x7efef1b0ef28>> could not be transformed and will be executed as-is. Please report this to the AutgoGraph team. When filing the bug, set the verbosity to 10 (on Linux, `export AUTOGRAPH_VERBOSITY=10`) and attach the full output. Cause: converting <bound method Conv1D.call of <tensorflow.python.layers.convolutional.Conv1D object at 0x7efef1b0ef28>>: AssertionError: Bad argument number for Name: 3, expecting 4\n",
      "(100, 8, 5)\n",
      "(100, 5)\n"
     ]
    }
   ],
   "source": [
    "# 1-D Conv\n",
    "input = tf.Variable(tf.random_normal([100,10,2]))  # [10,2] = [seq_len,dim_len]\n",
    "filter = tf.Variable(tf.random_normal([1,2,1]))\n",
    "\n",
    "# conv1d = tf.nn.conv1d(input, filter, stride=1, padding='VALID')\n",
    "conv1d = tf.layers.conv1d(inputs=input,filters=5,kernel_size=3)\n",
    "print(conv1d.shape)  #(100, 8, 1)  = [batch_size, seq_length-kernel_size+1, num_filter]\n",
    "\n",
    "# 一个叫bias的向量加到一个叫value的矩阵上，是向量与矩阵的每一行进行相加，得到的结果和value矩阵大小相同。\n",
    "# bias的维度必须与value的最后一维相同\n",
    "b = tf.Variable(tf.constant(0.1, shape=[5]), name=\"b\")\n",
    "h = tf.nn.relu(tf.nn.bias_add(value=conv1d, bias=b), name=\"relu\")  # 激活函数\n",
    "\n",
    "pooled = tf.reduce_max(h, reduction_indices=[1], name='gmp')\n",
    "# Maxpooling over the outputs\n",
    "# pooled = tf.nn.max_pool(\n",
    "#     h,\n",
    "#     ksize=[1, 2, 2, 1],\n",
    "#     strides=[1, 1, 1, 1],\n",
    "#     padding='VALID',\n",
    "#     name=\"pool\")\n",
    "\n",
    "sess = tf.Session()\n",
    "sess.run(tf.global_variables_initializer())\n",
    "print(sess.run(pooled).shape)  # 10,4,4,1"
   ]
  }
 ],
 "metadata": {
  "kernelspec": {
   "display_name": "Python 3",
   "language": "python",
   "name": "python3"
  },
  "language_info": {
   "codemirror_mode": {
    "name": "ipython",
    "version": 3
   },
   "file_extension": ".py",
   "mimetype": "text/x-python",
   "name": "python",
   "nbconvert_exporter": "python",
   "pygments_lexer": "ipython3",
   "version": "3.6.8"
  }
 },
 "nbformat": 4,
 "nbformat_minor": 2
}
