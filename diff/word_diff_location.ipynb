{
 "cells": [
  {
   "cell_type": "markdown",
   "metadata": {},
   "source": [
    "\n",
    "\n",
    "### html比对：找出不同点的文本，在原文本上添加标识和ID，并提取出来"
   ]
  },
  {
   "cell_type": "code",
   "execution_count": 37,
   "metadata": {},
   "outputs": [],
   "source": [
    "from bs4 import BeautifulSoup"
   ]
  },
  {
   "cell_type": "code",
   "execution_count": 38,
   "metadata": {},
   "outputs": [],
   "source": [
    "html1_doc = open(\"./htmls/case5.pdf.html\").read()\n",
    "html2_doc = open(\"./htmls/case6.pdf.html\").read()\n",
    "\n",
    "# html1_doc = open(\"./htmls/simplifiedcase3.pdf.html\").read()\n",
    "# html2_doc = open(\"./htmls/simplifiedcase4.pdf.html\").read()\n",
    "\n",
    "# html1_doc = open(\"./htmls/case3.pdf.html\").read()\n",
    "# html2_doc = open(\"./htmls/case4.pdf.html\").read()\n",
    "\n",
    "# html1_doc = open(\"./合同示例.html\").read()\n",
    "# html2_doc = open(\"./合同1.html\").read()\n",
    "# html2_doc = open(\"./空白.html\").read()\n",
    "\n",
    "\n",
    "\n",
    "def extract_body(html_doc):\n",
    "#     f1 = open(\"./case3.html\",\"r\").read()\n",
    "    soup = BeautifulSoup(html_doc, \"html.parser\")\n",
    "    sidebar = soup.find('div', id='sidebar')\n",
    "    if sidebar:\n",
    "        sidebar.extract()\n",
    "    # [s.extract() for s in soup(\"head\")]\n",
    "    # print(ss)\n",
    "#     tt = soup(\"body\")[0].extract()\n",
    "    return str(soup)\n",
    "\n",
    "html1_doc = extract_body(html1_doc)\n",
    "html2_doc = extract_body(html2_doc)"
   ]
  },
  {
   "cell_type": "code",
   "execution_count": 39,
   "metadata": {},
   "outputs": [],
   "source": [
    "def extract_content_with_format(html_doc):\n",
    "    html_doc = html_doc.replace(\">\\n<\",\"><\")\n",
    "    start_index = html_doc.index(\"<body\")\n",
    "    new_html_doc = []\n",
    "    for i in range(len(html_doc)):\n",
    "        new_html_doc.append((html_doc[i],i))\n",
    "    def keeplr(item):\n",
    "        if item[0] in [\">\",\"<\"] and item[1]>=start_index:\n",
    "            return True\n",
    "#     flags = list(filter(keeplr,new_html_doc))\n",
    "    flags = [(\"<\",0)]+list(filter(keeplr,new_html_doc))\n",
    "    newnew_html_doc = []\n",
    "    contents = []\n",
    "    for i in range(0,len(flags)-1):\n",
    "    #     print(flags[i][0])\n",
    "    #     print(flags[i+1][0])\n",
    "    #     print(flags[i+1][1]-flags[i][1])\n",
    "        if flags[i][0] == \">\" and flags[i+1][0] == \"<\" and (flags[i+1][1]-flags[i][1])>1:\n",
    "            contents.append(html_doc[flags[i][1]+1:flags[i+1][1]])\n",
    "            newnew_html_doc.append(flags[i][0]+\"%s\")\n",
    "        else:\n",
    "            newnew_html_doc.append(html_doc[flags[i][1]:flags[i+1][1]])\n",
    "    newnew_html_doc.append(html_doc[flags[-1][1]:])\n",
    "    return \"\".join(newnew_html_doc),contents\n",
    "formats1,contents1 = extract_content_with_format(html1_doc)\n",
    "formats2,contents2 = extract_content_with_format(html2_doc)\n",
    "# contents1"
   ]
  },
  {
   "cell_type": "markdown",
   "metadata": {},
   "source": [
    "### 获取每个部分的长度"
   ]
  },
  {
   "cell_type": "code",
   "execution_count": 40,
   "metadata": {},
   "outputs": [],
   "source": [
    "def get_lenofline(text_paras):\n",
    "    \"\"\"\n",
    "    获取每个段落的长度\n",
    "    \"\"\"\n",
    "    lenoflines = []\n",
    "    return [len(text_paras[i]) for i in range(len(text_paras))]\n",
    "right_lens = get_lenofline(contents2)\n",
    "left_lens = get_lenofline(contents1)\n",
    "# right_lens"
   ]
  },
  {
   "cell_type": "code",
   "execution_count": 41,
   "metadata": {},
   "outputs": [],
   "source": [
    "def sum_lens(lens):\n",
    "    new_lens = []\n",
    "    for i in range(len(lens)):\n",
    "        new_lens.append(sum(lens[0:i+1]))\n",
    "    return new_lens\n",
    "\n",
    "left_indexes = sum_lens(left_lens)\n",
    "right_indexes = sum_lens(right_lens)\n",
    "# left_indexes"
   ]
  },
  {
   "cell_type": "code",
   "execution_count": 42,
   "metadata": {},
   "outputs": [
    {
     "data": {
      "text/plain": [
       "[2, 7, 12]"
      ]
     },
     "execution_count": 42,
     "metadata": {},
     "output_type": "execute_result"
    }
   ],
   "source": [
    "left_indexes[0:20]"
   ]
  },
  {
   "cell_type": "code",
   "execution_count": 43,
   "metadata": {},
   "outputs": [
    {
     "data": {
      "text/plain": [
       "[2, 6, 11, 12]"
      ]
     },
     "execution_count": 43,
     "metadata": {},
     "output_type": "execute_result"
    }
   ],
   "source": [
    "right_indexes[0:20]"
   ]
  },
  {
   "cell_type": "markdown",
   "metadata": {},
   "source": [
    "### 拉成字符串比对"
   ]
  },
  {
   "cell_type": "code",
   "execution_count": 44,
   "metadata": {},
   "outputs": [],
   "source": [
    "import difflib\n",
    "class DocxDiff(difflib.HtmlDiff):\n",
    "    def __init__(self):\n",
    "        super().__init__()\n",
    "#         self.MAX_PARA_LEN = config[\"MAX_PARA_LEN\"]\n",
    "        \n",
    "    def format_diff(self,fromlines, tolines, fromdesc='', todesc='',context=False, numlines=5, *, charset='utf-8'):\n",
    "        self._make_prefix()\n",
    "\n",
    "        # change tabs to spaces before it gets more difficult after we insert\n",
    "        # markup\n",
    "        fromlines,tolines = self._tab_newline_replace(fromlines,tolines)\n",
    "\n",
    "        # create diffs iterator which generates side by side from/to data\n",
    "        if context:\n",
    "            context_lines = numlines\n",
    "        else:\n",
    "            context_lines = None\n",
    "        diffs = difflib._mdiff(fromlines,tolines,context_lines,linejunk=self._linejunk,\n",
    "                      charjunk=self._charjunk)\n",
    "        \n",
    "        return list(diffs)"
   ]
  },
  {
   "cell_type": "code",
   "execution_count": 4,
   "metadata": {},
   "outputs": [],
   "source": [
    "# contents1 = [\"2345698\",\"q\",\"56789\"]\n",
    "# contents2 = [\"45699\",\"p\",\"6678312\"]"
   ]
  },
  {
   "cell_type": "code",
   "execution_count": 45,
   "metadata": {},
   "outputs": [],
   "source": [
    "import json\n",
    "differ = DocxDiff()\n",
    "# 行List对比\n",
    "# diff_result = differ.format_diff(json.loads(json.dumps(text_paras1)), \n",
    "#                                  json.loads(json.dumps(text_paras2))\n",
    "#                                 ) \n",
    "\n",
    "# 字string对比\n",
    "diff_result = differ.format_diff(\"\".join(contents1), \"\".join(contents2)) \n",
    "\n",
    "# diff_result\n",
    "# right_diffs = list(map(right_spearte,(filter(right_isok,diff_result))))\n",
    "# left_diffs = list(map(left_spearte,(filter(left_isok,diff_result))))\n",
    "# left_diffs,right_diffs = left_right_process(diff_result)"
   ]
  },
  {
   "cell_type": "code",
   "execution_count": 68,
   "metadata": {},
   "outputs": [
    {
     "data": {
      "text/plain": [
       "[((1, '\\x00-2213\\x01'), (1, '\\x00+345\\x01'), True),\n",
       " (('', '\\n'), (2, '\\x00+345\\x01'), True)]"
      ]
     },
     "execution_count": 68,
     "metadata": {},
     "output_type": "execute_result"
    }
   ],
   "source": [
    "# differ.format_diff(\"pre09\\x061234\\x06\\x061234\\x06back\", \"123406\\x061234\\x067878\") \n",
    "differ.format_diff([\"2213\"],[\"345\",\"345\"])"
   ]
  },
  {
   "cell_type": "code",
   "execution_count": 34,
   "metadata": {},
   "outputs": [
    {
     "data": {
      "text/plain": [
       "[((1, '\\x00-2\\x01'), (1, '\\x00+3\\x01'), True),\n",
       " ((2, '\\x00-2\\x01'), (2, '\\x00+4\\x01'), True),\n",
       " ((3, '\\x00-1\\x01'), (3, '\\x00+5\\x01'), True),\n",
       " ((4, '\\x00-1\\x01'), (4, '\\x00+3\\x01'), True),\n",
       " (('', '\\n'), (5, '\\x00+4\\x01'), True),\n",
       " (('', '\\n'), (6, '\\x00+5\\x01'), True)]"
      ]
     },
     "execution_count": 34,
     "metadata": {},
     "output_type": "execute_result"
    }
   ],
   "source": [
    "differ.format_diff(\"2211\", \"345345\")  # 2211 vs 345 345\n",
    "left_lens = [4]\n",
    "right_lens = [3,6]\n"
   ]
  },
  {
   "cell_type": "code",
   "execution_count": 55,
   "metadata": {},
   "outputs": [
    {
     "data": {
      "text/plain": [
       "[((1, '\\x00-2\\x01'), ('', '\\n'), True),\n",
       " ((2, '\\x00-2\\x01'), ('', '\\n'), True),\n",
       " ((3, '\\x00-1\\x01'), ('', '\\n'), True),\n",
       " ((4, '3'), (1, '3'), False),\n",
       " ((5, '\\x00-7\\x01'), (2, '\\x00+4\\x01'), True),\n",
       " ((6, '\\x00-8\\x01'), (3, '\\x00+5\\x01'), True),\n",
       " (('', '\\n'), (4, '\\x00+3\\x01'), True),\n",
       " (('', '\\n'), (5, '\\x00+4\\x01'), True),\n",
       " (('', '\\n'), (6, '\\x00+5\\x01'), True)]"
      ]
     },
     "execution_count": 55,
     "metadata": {},
     "output_type": "execute_result"
    }
   ],
   "source": [
    "diff_res = differ.format_diff(\"221378\", \"345345\")  # 2211 vs 34534 5\n",
    "diff_res"
   ]
  },
  {
   "cell_type": "code",
   "execution_count": 56,
   "metadata": {},
   "outputs": [
    {
     "name": "stdout",
     "output_type": "stream",
     "text": [
      "Stored 'diff_res' (list)\n"
     ]
    }
   ],
   "source": [
    "%store diff_res"
   ]
  },
  {
   "cell_type": "code",
   "execution_count": 9,
   "metadata": {},
   "outputs": [
    {
     "data": {
      "text/plain": [
       "2"
      ]
     },
     "execution_count": 9,
     "metadata": {},
     "output_type": "execute_result"
    }
   ],
   "source": [
    "len(\"\\x01\")"
   ]
  },
  {
   "cell_type": "markdown",
   "metadata": {},
   "source": [
    "### 罗列比对左右的内容"
   ]
  },
  {
   "cell_type": "code",
   "execution_count": 46,
   "metadata": {},
   "outputs": [
    {
     "data": {
      "text/plain": [
       "[['12121', '12121', '0', 0],\n",
       " ['1', '\\n', 'del', 1],\n",
       " ['21', '21', '0', 2],\n",
       " ['2', '3', 'mod', 3],\n",
       " ['1', '1', '0', 4],\n",
       " ['\\n', '5', 'add', 5]]"
      ]
     },
     "execution_count": 46,
     "metadata": {},
     "output_type": "execute_result"
    }
   ],
   "source": [
    "def listdiff(diffs):\n",
    "\n",
    "    Ldiffs = []\n",
    "    new_diffs = []\n",
    "    for item in diffs:\n",
    "        l = item[0][1]\n",
    "        r = item[1][1]\n",
    "        if \"\\x00-\" in l and \"\\00+\" in r:\n",
    "            l = l.replace(\"\\x00-\", \"\").replace(\"\\x01\", \"\")  # \\x04 mod\n",
    "            r = r.replace(\"\\x00+\", \"\").replace(\"\\x01\", \"\")  # \\x04 mod\n",
    "            new_diffs.append((l, r, \"\\x04\"))\n",
    "        elif \"\\x00-\" in l:\n",
    "            l = l.replace(\"\\x00-\", \"\").replace(\"\\x01\", \"\")  # \\x03  del\n",
    "            new_diffs.append((l, r, \"\\x03\"))\n",
    "        elif \"\\x00+\" in r:\n",
    "            r = r.replace(\"\\x00+\", \"\").replace(\"\\x01\", \"\")  # \\x02 add\n",
    "            new_diffs.append((l, r, \"\\x02\"))\n",
    "        else:\n",
    "            new_diffs.append((l, r, \"0\"))\n",
    "        cur = 0\n",
    "    #     print(new_diffs)\n",
    "    cur = None\n",
    "    for d in new_diffs:\n",
    "        c2 = d[2]\n",
    "        c0 = d[0]\n",
    "        c1 = d[1]\n",
    "        #         if c2 in [\"\\x02\",\"\\x03\",\"\\x04\"]:\n",
    "        if cur != c2:\n",
    "            cur = c2\n",
    "            if cur == \"\\x02\":\n",
    "                #                 Ladds.append([c0,c1,\"add\"])\n",
    "                Ldiffs.append([c0, c1, \"add\", len(Ldiffs)])\n",
    "            elif cur == \"\\x03\":\n",
    "                #                 Ldels.append([c0,c1,\"del\"])\n",
    "                Ldiffs.append([c0, c1, \"del\", len(Ldiffs)])\n",
    "            elif cur == \"\\x04\":\n",
    "                #                 Lchgs.append([c0,c1,\"mod\"])\n",
    "                Ldiffs.append([c0, c1, \"mod\", len(Ldiffs)])\n",
    "            else:\n",
    "                Ldiffs.append([c0, c1, \"0\", len(Ldiffs)])\n",
    "        else:\n",
    "            if cur == \"\\x02\":\n",
    "                #                 Ladds[-1][0] += c0\n",
    "                #                 Ladds[-1][1] += c1\n",
    "                Ldiffs[-1][0] += c0\n",
    "                Ldiffs[-1][1] += c1\n",
    "            elif cur == \"\\x03\":\n",
    "                #                 Ldels[-1][0] += c0\n",
    "                #                 Ldels[-1][1] += c1\n",
    "                Ldiffs[-1][0] += c0\n",
    "                Ldiffs[-1][1] += c1\n",
    "            elif cur == \"\\x04\":\n",
    "                #                 Lchgs[-1][0] += c0\n",
    "                #                 Lchgs[-1][1] += c1\n",
    "                Ldiffs[-1][0] += c0\n",
    "                Ldiffs[-1][1] += c1\n",
    "            else:\n",
    "                Ldiffs[-1][0] += c0\n",
    "                Ldiffs[-1][1] += c1\n",
    "    return Ldiffs\n",
    "Ldiffs = listdiff(diff_result)\n",
    "Ldiffs"
   ]
  },
  {
   "cell_type": "code",
   "execution_count": 47,
   "metadata": {},
   "outputs": [
    {
     "data": {
      "text/plain": [
       "[[['', '12121', ''], ['', '1212', '1'], '0', 0],\n",
       " [['1'], ['\\n'], 'del', 1],\n",
       " [['21'], ['21'], '0', 2],\n",
       " [['2'], ['3'], 'mod', 3],\n",
       " [['1'], ['1'], '0', 4],\n",
       " [['\\n'], ['5'], 'add', 5]]"
      ]
     },
     "execution_count": 47,
     "metadata": {},
     "output_type": "execute_result"
    }
   ],
   "source": [
    "def append_chars(Ldiffs,left_indexes,right_indexes,c0_index,c1_index,c0,c1):\n",
    "#     print(c1_index)\n",
    "    Ldiffs[-1][0][-1] += c0  # left\n",
    "    Ldiffs[-1][1][-1] += c1  # right\n",
    "    if c0_index in left_indexes:\n",
    "        Ldiffs[-1][0].append(\"\")\n",
    "    if c1_index in right_indexes:\n",
    "        Ldiffs[-1][1].append(\"\")\n",
    "    \n",
    "\n",
    "def listdiff(diffs,left_indexes=[],right_indexes=[]):\n",
    "    \"\"\"\n",
    "    嵌套List\n",
    "    外层List的index对应diff_id\n",
    "    字符级别diff转为line级别的，合同相同类型的char\n",
    "    \"\"\"\n",
    "    Lchgs = []\n",
    "    Ladds = []\n",
    "    Ldels = []\n",
    "    Ldiffs = []\n",
    "    \n",
    "    Ldiffs = []\n",
    "    new_diffs = []\n",
    "    \n",
    "    # 格式修改\n",
    "    for item in diffs:\n",
    "        l_index = item[0][0]\n",
    "        r_index = item[1][0]\n",
    "        l = item[0][1]  \n",
    "        r = item[1][1]\n",
    "        if \"\\x00-\" in l and \"\\00+\" in r:\n",
    "            l = l.replace(\"\\x00-\",\"\").replace(\"\\x01\",\"\")  # \\x04 mod\n",
    "            r = r.replace(\"\\x00+\",\"\").replace(\"\\x01\",\"\")  # \\x04 mod\n",
    "            le = (l_index,l)\n",
    "            re = (r_index,r)\n",
    "            new_diffs.append((le,re,\"\\x04\"))\n",
    "        elif \"\\x00-\" in l:\n",
    "            l = l.replace(\"\\x00-\",\"\").replace(\"\\x01\",\"\") # \\x03  del\n",
    "            le = (l_index,l)\n",
    "            re = (r_index,r)\n",
    "            new_diffs.append((le,re,\"\\x03\"))\n",
    "        elif \"\\x00+\" in r:\n",
    "            r = r.replace(\"\\x00+\",\"\").replace(\"\\x01\",\"\")  # \\x02 add\n",
    "            le = (l_index,l)\n",
    "            re = (r_index,r)\n",
    "            new_diffs.append((le,re,\"\\x02\"))\n",
    "        else:\n",
    "            le = (l_index,l)\n",
    "            re = (r_index,r)\n",
    "            new_diffs.append((le,re,\"0\"))\n",
    "        cur = 0\n",
    "#     print(new_diffs)\n",
    "    cur = None\n",
    "    \n",
    "    # 再次格式修改  chars-->lines\n",
    "    for d in new_diffs:\n",
    "        c2 = d[2]\n",
    "        \n",
    "        c0_index = d[0][0]\n",
    "        c0 = d[0][1]\n",
    "        c1_index = d[1][0]\n",
    "        c1 = d[1][1]\n",
    "#         if c2 in [\"\\x02\",\"\\x03\",\"\\x04\"]:\n",
    "        # 外层List 类型发生变化则外层List append\n",
    "        if cur != c2:\n",
    "            cur = c2\n",
    "            if cur == \"\\x02\":\n",
    "#                 Ladds.append([c0,c1,\"add\"])\n",
    "                Ldiffs.append([[c0],[c1],\"add\",len(Ldiffs)])\n",
    "            elif cur == \"\\x03\":\n",
    "#                 Ldels.append([c0,c1,\"del\"])\n",
    "                Ldiffs.append([[c0],[c1],\"del\",len(Ldiffs)])\n",
    "            elif cur == \"\\x04\":\n",
    "#                 Lchgs.append([c0,c1,\"mod\"])\n",
    "                Ldiffs.append([[c0],[c1],\"mod\",len(Ldiffs)])\n",
    "            else:\n",
    "                Ldiffs.append([[c0],[c1],\"0\",len(Ldiffs)])\n",
    "        # 内层List\n",
    "        else:  # cur == c2\n",
    "#             if c0_index in left_indexes:\n",
    "#                 pass\n",
    "            \n",
    "#             if c1_index in right_indexes:\n",
    "#                 pass\n",
    "            \n",
    "            if cur == \"\\x02\":\n",
    "#                 Ladds[-1][0] += c0 \n",
    "#                 Ladds[-1][1] += c1\n",
    "#                 Ldiffs[-1][0][-1] += c0 \n",
    "#                 Ldiffs[-1][1][-1] += c1\n",
    "                append_chars(Ldiffs,left_indexes,right_indexes,c0_index,c1_index,c0,c1)\n",
    "            elif cur == \"\\x03\":\n",
    "#                 Ldels[-1][0] += c0 \n",
    "#                 Ldels[-1][1] += c1\n",
    "#                 Ldiffs[-1][0][-1] += c0 \n",
    "#                 Ldiffs[-1][1][-1] += c1\n",
    "                append_chars(Ldiffs,left_indexes,right_indexes,c0_index,c1_index,c0,c1)\n",
    "            elif cur == \"\\x04\":\n",
    "#                 Lchgs[-1][0] += c0 \n",
    "#                 Lchgs[-1][1] += c1\n",
    "#                 Ldiffs[-1][0][-1] += c0 \n",
    "#                 Ldiffs[-1][1][-1] += c1\n",
    "                append_chars(Ldiffs,left_indexes,right_indexes,c0_index,c1_index,c0,c1)\n",
    "            else:\n",
    "#                 Ldiffs[-1][0][-1] += c0 \n",
    "#                 Ldiffs[-1][1][-1] += c1\n",
    "                append_chars(Ldiffs,left_indexes,right_indexes,c0_index,c1_index,c0,c1)\n",
    "    return Ldiffs\n",
    "\n",
    "Ldiffs = listdiff(diff_result,left_indexes,right_indexes)\n",
    "Ldiffs"
   ]
  },
  {
   "cell_type": "code",
   "execution_count": 366,
   "metadata": {},
   "outputs": [
    {
     "data": {
      "text/plain": [
       "[3]"
      ]
     },
     "execution_count": 366,
     "metadata": {},
     "output_type": "execute_result"
    }
   ],
   "source": [
    "a = [1,2,3]\n",
    "a[-1:]"
   ]
  },
  {
   "cell_type": "code",
   "execution_count": 384,
   "metadata": {},
   "outputs": [
    {
     "data": {
      "text/plain": [
       "1"
      ]
     },
     "execution_count": 384,
     "metadata": {},
     "output_type": "execute_result"
    }
   ],
   "source": [
    "a = ((1,2),(3,4),5)\n",
    "a[0][0]"
   ]
  },
  {
   "cell_type": "code",
   "execution_count": 449,
   "metadata": {},
   "outputs": [],
   "source": [
    "# 将有变化的地方过滤出来\n",
    "def isdiff(item):\n",
    "    if item[2] != \"0\":\n",
    "        return True\n",
    "diff_lines = list(filter(isdiff,Ldiffs))\n",
    "# len(diff_lines)"
   ]
  },
  {
   "cell_type": "code",
   "execution_count": 48,
   "metadata": {},
   "outputs": [
    {
     "ename": "NameError",
     "evalue": "name 'diff_lines' is not defined",
     "output_type": "error",
     "traceback": [
      "\u001b[0;31m---------------------------------------------------------------------------\u001b[0m",
      "\u001b[0;31mNameError\u001b[0m                                 Traceback (most recent call last)",
      "\u001b[0;32m<ipython-input-48-6812e01dd07c>\u001b[0m in \u001b[0;36m<module>\u001b[0;34m\u001b[0m\n\u001b[1;32m      1\u001b[0m \u001b[0;31m# len(diff_lines[1][0])  # 57\u001b[0m\u001b[0;34m\u001b[0m\u001b[0;34m\u001b[0m\u001b[0m\n\u001b[0;32m----> 2\u001b[0;31m \u001b[0mdiff_lines\u001b[0m\u001b[0;34m[\u001b[0m\u001b[0;36m1\u001b[0m\u001b[0;34m]\u001b[0m\u001b[0;34m[\u001b[0m\u001b[0;36m0\u001b[0m\u001b[0;34m]\u001b[0m\u001b[0;34m\u001b[0m\u001b[0m\n\u001b[0m",
      "\u001b[0;31mNameError\u001b[0m: name 'diff_lines' is not defined"
     ]
    }
   ],
   "source": [
    "# len(diff_lines[1][0])  # 57\n",
    "diff_lines[1][0]"
   ]
  },
  {
   "cell_type": "code",
   "execution_count": 369,
   "metadata": {},
   "outputs": [
    {
     "name": "stdout",
     "output_type": "stream",
     "text": [
      "6\n"
     ]
    },
    {
     "data": {
      "text/plain": [
       "[{'from': ('1', '\\n', ''), 'to': ('1', '5', '')}]"
      ]
     },
     "execution_count": 369,
     "metadata": {},
     "output_type": "execute_result"
    }
   ],
   "source": [
    "def topK(Ldiffs,dt=\"add\",K=3):\n",
    "    res_lines = []\n",
    "    newLdiffs = sorted(Ldiffs, key=lambda x: (x[2],len(x[0])), reverse=True)\n",
    "    print(len(newLdiffs))\n",
    "    res_diffs = []\n",
    "    for i in range(min(K,len(newLdiffs))):\n",
    "        cur = newLdiffs[i]\n",
    "        if cur[2]==dt:\n",
    "            index = cur[3]\n",
    "            if index >0 and Ldiffs[index-1][2] == \"0\":\n",
    "                pre = Ldiffs[index-1][0]\n",
    "            else:\n",
    "                pre = \"\"\n",
    "            if index < len(Ldiffs)-1 and Ldiffs[index+1][2] == \"0\":  # 不变项\n",
    "                back = Ldiffs[index+1][0] \n",
    "            else:\n",
    "                back = \"\"\n",
    "#             res_diffs.append([[pre[-10:],cur[0],back[0:10]],[pre[-10:],cur[1],back[0:10]]])\n",
    "            line = {\"from\":(pre[-10:],cur[0],back[0:10]),\"to\":(pre[-10:],cur[1],back[0:10])}\n",
    "            res_lines.append(line)\n",
    "    return res_lines\n",
    "topK(Ldiffs)"
   ]
  },
  {
   "cell_type": "code",
   "execution_count": 370,
   "metadata": {},
   "outputs": [
    {
     "data": {
      "text/plain": [
       "{'add': 1, 'delete': 1, 'change': 1}"
      ]
     },
     "execution_count": 370,
     "metadata": {},
     "output_type": "execute_result"
    }
   ],
   "source": [
    "# 统计三类diff的个数\n",
    "def diff_stat(diff_lines):\n",
    "    add_count = 0\n",
    "    delete_count = 0\n",
    "    change_count = 0\n",
    "    for line in diff_lines:\n",
    "        if line[2] == \"mod\":\n",
    "            change_count +=1\n",
    "        if line[2] == \"add\":\n",
    "            add_count +=1\n",
    "        if line[2] == \"del\":\n",
    "            delete_count +=1\n",
    "#     stat = {\"add\": add_count, \"delete\": delete_count, \"change\": change_count}\n",
    "    return {\"add\": add_count, \"delete\": delete_count, \"change\": change_count}\n",
    "\n",
    "diff_stat(diff_lines)"
   ]
  },
  {
   "cell_type": "code",
   "execution_count": 451,
   "metadata": {},
   "outputs": [],
   "source": [
    "def left_spearte(item):\n",
    "    l = item[0][1]\n",
    "    r = item[1][1]\n",
    "    if \"\\x00-\" in l and \"\\00+\" in r:\n",
    "        l = l.replace(\"\\x00-\",\"\\x04\").replace(\"\\x01\",\"\\x04\")  # \\x04 mod\n",
    "    elif \"\\x00-\" in l:\n",
    "        l = l.replace(\"\\x00-\",\"\\x03\").replace(\"\\x01\",\"\\x03\") # \\x03  del\n",
    "    elif \"\\x00+\" in l:\n",
    "        l = l.replace(\"\\x00+\",\"\\x02\").replace(\"\\x01\",\"\\x02\")  # \\x02 add\n",
    "    if \"\\x05\" in l:\n",
    "        l = \"\\x05\"\n",
    "    return (item[0][0]-1,l)\n",
    "\n",
    "def right_spearte(item):\n",
    "    l = item[0][1]\n",
    "    r = item[1][1]\n",
    "    if \"\\x00-\" in l and \"\\00+\" in r:\n",
    "        r = r.replace(\"\\x00+\",\"\\x04\").replace(\"\\x01\",\"\\x04\")\n",
    "    elif \"\\x00-\" in r:\n",
    "        r = r.replace(\"\\x00-\",\"\\x03\").replace(\"\\x01\",\"\\x03\")\n",
    "    elif \"\\x00+\" in r:\n",
    "        r = r.replace(\"\\x00+\",\"\\x02\").replace(\"\\x01\",\"\\x02\")\n",
    "    if \"\\x05\" in r:\n",
    "        r = \"\\x05\"\n",
    "    return (item[1][0]-1,r)\n",
    "\n",
    "def left_isok(item):\n",
    "#     return True\n",
    "    return item[0][0] != \"\"\n",
    "def right_isok(item):\n",
    "#     return True\n",
    "    return item[1][0] != \"\"\n",
    "\n",
    "def processdiffchars(diff_chars):\n",
    "    \"\"\"\n",
    "    1. 连续\n",
    "    2. left没有add\n",
    "    3. right没有delete\n",
    "    \"\"\"\n",
    "    cursor = 0\n",
    "    left_res= []\n",
    "    right_res = []\n",
    "    left_tmp = \"\"\n",
    "    right_tmp = \"\"\n",
    "    while(cursor<len(diff_chars) and (not left_isok(diff_chars[cursor]) or not right_isok(diff_chars[cursor]))):\n",
    "#         print(cursor)\n",
    "        if left_isok(diff_chars[cursor]):\n",
    "            left_res.append(left_spearte(diff_chars[cursor]))\n",
    "        else:\n",
    "            left_tmp = \"\\x02\\x02\\x02\\x02\"\n",
    "        if right_isok(diff_chars[cursor]):\n",
    "            right_res.append(right_spearte(diff_chars[cursor]))\n",
    "        else:\n",
    "            right_tmp = \"\\x03\\x03\\x03\\x03\"\n",
    "        cursor += 1\n",
    "    if cursor < len(diff_chars):\n",
    "        left_res.append(left_spearte(diff_chars[cursor]))\n",
    "        right_res.append(right_spearte(diff_chars[cursor]))\n",
    "        left_res[-1] = (left_res[-1][0], left_tmp+ left_res[-1][1]) \n",
    "        right_res[-1] = (right_res[-1][0], right_tmp +right_res[-1][1]) \n",
    "        for i in range(cursor+1,len(diff_chars)):\n",
    "            if left_isok(diff_chars[i]):\n",
    "                left_res.append(left_spearte(diff_chars[i]))\n",
    "            else:\n",
    "                if not left_res[-1][1].endswith(\"\\x02\\x02\\x02\\x02\"):\n",
    "                    left_res[-1] = (left_res[-1][0],left_res[-1][1] + \"\\x02\\x02\\x02\\x02\") \n",
    "\n",
    "            if right_isok(diff_chars[i]):\n",
    "                right_res.append(right_spearte(diff_chars[i]))\n",
    "            else:\n",
    "                if not right_res[-1][1].endswith(\"\\x03\\x03\\x03\\x03\"):\n",
    "                    right_res[-1] = (right_res[-1][0], right_res[-1][1]+ \"\\x03\\x03\\x03\\x03\" )\n",
    "    return left_res,right_res\n",
    "left_res,right_res = processdiffchars(diff_result)\n",
    "# right_res"
   ]
  },
  {
   "cell_type": "code",
   "execution_count": 372,
   "metadata": {},
   "outputs": [],
   "source": [
    "# left_res"
   ]
  },
  {
   "cell_type": "code",
   "execution_count": 455,
   "metadata": {},
   "outputs": [],
   "source": [
    "from functools import reduce\n",
    "def mergeline(item0,item1):\n",
    "    left = item0[1]\n",
    "    right = item1[1]\n",
    "#     print(left[-1])\n",
    "#     print(right[0])\n",
    "#     for \n",
    "    if len(right)>1 and len(left)>1:\n",
    "#         if left[-1] == right[0] and left[-2]!=\"\\x05\" and right[1]!=\"\\x05\":\n",
    "        if left[-1] == right[0]:\n",
    "            return (0,left[0:-1]+right[1:])\n",
    "    return (0,left+right)\n",
    "\n",
    "\n",
    "# def process_table(formats,lines):\n",
    "#     for i in lines\n",
    "\n",
    "diff_prefix = \"%s@%s\" # left-diff_id@sub_id \n",
    "\n",
    "\n",
    "def merge_addid(diffs,lenoflines,K=3,dire=\"left\"):\n",
    "    \"\"\"\n",
    "    diffs:\n",
    "    lens: \n",
    "    return lines\n",
    "    \"\"\"\n",
    "    chgs = \"\"\"<span class=\\\"\"\"\"+ dire +\"\"\"-mod-text\" id=%s>\"\"\"\n",
    "    adds = \"\"\"<span class=\\\"\"\"\"+ dire +\"\"\"-add-text\" id=%s>\"\"\"\n",
    "    dels = \"\"\"<span class=\\\"\"\"\"+ dire +\"\"\"-del-text\" id=%s>\"\"\"\n",
    "    ends = \"\"\"</span>\"\"\"\n",
    "    start = 0\n",
    "    diffid = 0\n",
    "    res_lines = []\n",
    "    mid_lines = []\n",
    "    cur_diff = 0\n",
    "    diffsubid = 0\n",
    "    for index in range(len(lenoflines)):\n",
    "        \"\"\"\n",
    "        先按格式分，再按diff分\n",
    "        相同类型相连则算一个diff_id\n",
    "        同一个diff_id下， html标签不同，则sub_diff_id不同\n",
    "        \"\"\"\n",
    "        chars = []\n",
    "        cur_line_diffs = diffs[start:start+lenoflines[index]]\n",
    "        if len(cur_line_diffs)>0:\n",
    "            cur_line = reduce(mergeline, cur_line_diffs)[1]\n",
    "            cur_line = cur_line.replace(\"\\x02\\x02\",\"\\x02\").replace(\"\\x03\\x03\",\"\\x03\").replace(\"\\x04\\x04\",\"\\x04\")\n",
    "            mid_lines.append(cur_line)\n",
    "            f_cs = []\n",
    "            cur = 0\n",
    "#             print(cur_line)\n",
    "            if len(cur_line)>=1:\n",
    "                c = cur_line[0]\n",
    "                if c in [\"\\x02\",\"\\x03\",\"\\x04\"]:\n",
    "                    if cur_diff == 0:\n",
    "                        diffid += 1\n",
    "                        diffsubid = 0\n",
    "                    else:\n",
    "                        if c != cur_diff:\n",
    "                            diffid += 1\n",
    "                            diffsubid = 0\n",
    "                        else:\n",
    "                            diffsubid += 1\n",
    "                    cur = c\n",
    "                    cur_diff = c\n",
    "                    ID = str(diffid)+\"@\"+str(diffsubid)\n",
    "                    c = c.replace(\"\\x02\",adds % ID).replace(\"\\x03\",dels% ID).replace(\"\\x04\",chgs% ID)\n",
    "                else:\n",
    "                    cur_diff = 0\n",
    "    #             print(f_cs) \n",
    "                f_cs.append(c)\n",
    "                for i in range(1,len(cur_line)):\n",
    "                    c = cur_line[i]\n",
    "                    if c in [\"\\x02\",\"\\x03\",\"\\x04\"]:\n",
    "    #                     print(c)\n",
    "                        if c != cur:\n",
    "                            diffid += 1\n",
    "                            cur = c\n",
    "                            cur_diff = c\n",
    "                            diffsubid = 0\n",
    "                            ID = str(diffid)+\"@\"+str(diffsubid)\n",
    "                            c = c.replace(\"\\x02\",adds % ID).replace(\"\\x03\",dels% ID).replace(\"\\x04\",chgs% ID)\n",
    "                        else:\n",
    "                            cur = 0\n",
    "                            c = ends\n",
    "#                     else:\n",
    "#                         cur_diff = 0\n",
    "                    f_cs.append(c)\n",
    "                res_line = \"\".join(f_cs)\n",
    "                if len(cur_line)>1:\n",
    "#                     pass\n",
    "#                     print(cur_line[-1])\n",
    "                    if cur_line[-1] not in [\"\\x02\",\"\\x03\",\"\\x04\"]:\n",
    "                        cur_diff = 0\n",
    "            else:\n",
    "                res_line = \"\"\n",
    "        else:\n",
    "            res_line = \"\"\n",
    "        res_lines.append(res_line)\n",
    "        start += lenoflines[index]\n",
    "    return res_lines,mid_lines\n",
    "\n",
    "#     for i in range(1,len(diffs)):\n",
    "# res_lines,mid_lines = merge_addid(right_res,right_lens)\n",
    "res_lines,mid_lines = merge_addid(left_res,left_lens)\n",
    "# res_lines"
   ]
  },
  {
   "cell_type": "code",
   "execution_count": 456,
   "metadata": {},
   "outputs": [],
   "source": [
    "# formats"
   ]
  },
  {
   "cell_type": "code",
   "execution_count": 457,
   "metadata": {},
   "outputs": [],
   "source": [
    "def add_formats(formats,new_lines):\n",
    "    fs = formats.split(\"%s\")\n",
    "    finals = []\n",
    "    for i in range(len(fs) - 1):\n",
    "        finals.append(fs[i])\n",
    "        finals.append(new_lines[i])\n",
    "    finals.append(fs[-1])\n",
    "    #     return formats % tuple(new_lines)\n",
    "    return \"\".join(finals)\n",
    "# res = add_formats(formats2,res_lines)\n",
    "res = add_formats(formats1,res_lines)"
   ]
  },
  {
   "cell_type": "code",
   "execution_count": 484,
   "metadata": {},
   "outputs": [],
   "source": [
    "from bs4 import BeautifulSoup\n",
    "import re\n",
    "def extract_spans(html_doc):\n",
    "\n",
    "    soup = BeautifulSoup(html_doc, \"html.parser\")\n",
    "#     soup.find_all(class_=re.compile(\"itl\"))\n",
    "#     text = soup.find_all('span',class_=\"left-del-text\")\n",
    "    text = soup.find_all('span',class_=re.compile(\"left-\"))\n",
    "#     print(text)\n",
    "    return text\n",
    "#     if sidebar:\n",
    "#         sidebar.extract()\n",
    "#     return str(soup)\n",
    "\n",
    "spans = extract_spans(res)\n",
    "# for sp in spans:\n",
    "#     print(sp)\n",
    "#     if \"left\" in sp:\n",
    "#         print(sp)"
   ]
  },
  {
   "cell_type": "code",
   "execution_count": 458,
   "metadata": {},
   "outputs": [
    {
     "data": {
      "text/plain": [
       "4736647"
      ]
     },
     "execution_count": 458,
     "metadata": {},
     "output_type": "execute_result"
    }
   ],
   "source": [
    "open(\"./case34_diff.html\",\"w\").write(res)"
   ]
  },
  {
   "cell_type": "code",
   "execution_count": null,
   "metadata": {},
   "outputs": [],
   "source": []
  },
  {
   "cell_type": "code",
   "execution_count": 255,
   "metadata": {},
   "outputs": [
    {
     "ename": "TypeError",
     "evalue": "unsupported operand type(s) for /=: 'list' and 'int'",
     "output_type": "error",
     "traceback": [
      "\u001b[0;31m---------------------------------------------------------------------------\u001b[0m",
      "\u001b[0;31mTypeError\u001b[0m                                 Traceback (most recent call last)",
      "\u001b[0;32m<ipython-input-255-aa29c307b3ea>\u001b[0m in \u001b[0;36m<module>\u001b[0;34m\u001b[0m\n\u001b[0;32m----> 1\u001b[0;31m \u001b[0ma\u001b[0m \u001b[0;34m/=\u001b[0m \u001b[0;36m2\u001b[0m\u001b[0;34m\u001b[0m\u001b[0m\n\u001b[0m",
      "\u001b[0;31mTypeError\u001b[0m: unsupported operand type(s) for /=: 'list' and 'int'"
     ]
    }
   ],
   "source": [
    "a /= 2"
   ]
  },
  {
   "cell_type": "code",
   "execution_count": null,
   "metadata": {},
   "outputs": [],
   "source": []
  }
 ],
 "metadata": {
  "kernelspec": {
   "display_name": "Python 3",
   "language": "python",
   "name": "python3"
  },
  "language_info": {
   "codemirror_mode": {
    "name": "ipython",
    "version": 3
   },
   "file_extension": ".py",
   "mimetype": "text/x-python",
   "name": "python",
   "nbconvert_exporter": "python",
   "pygments_lexer": "ipython3",
   "version": "3.6.5"
  }
 },
 "nbformat": 4,
 "nbformat_minor": 4
}
