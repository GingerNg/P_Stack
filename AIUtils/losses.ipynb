{
 "cells": [
  {
   "cell_type": "code",
   "execution_count": null,
   "metadata": {},
   "outputs": [],
   "source": []
  },
  {
   "cell_type": "code",
   "execution_count": 24,
   "metadata": {},
   "outputs": [],
   "source": [
    "from keras import backend as K\n",
    "import tensorflow as tf\n",
    "import numpy as np"
   ]
  },
  {
   "cell_type": "code",
   "execution_count": 26,
   "metadata": {},
   "outputs": [],
   "source": [
    "from keras.losses import *"
   ]
  },
  {
   "cell_type": "code",
   "execution_count": 57,
   "metadata": {},
   "outputs": [
    {
     "data": {
      "text/plain": [
       "array([  7.3890561, 148.4131591])"
      ]
     },
     "execution_count": 57,
     "metadata": {},
     "output_type": "execute_result"
    }
   ],
   "source": [
    "a = np.array([2.0, 5]) \n",
    "b = np.array([3.4, 5]) \n",
    "res = np.exp(a)\n",
    "res"
   ]
  },
  {
   "cell_type": "code",
   "execution_count": 99,
   "metadata": {},
   "outputs": [
    {
     "data": {
      "text/plain": [
       "0.5644444444444445"
      ]
     },
     "execution_count": 99,
     "metadata": {},
     "output_type": "execute_result"
    }
   ],
   "source": [
    "from sklearn.metrics import r2_score\n",
    "\"\"\"\n",
    "1 - mean_squared_error(y_true,y_predict)/np.var(y_true)\n",
    "\"\"\"\n",
    "r2_score(a,b)"
   ]
  },
  {
   "cell_type": "code",
   "execution_count": 101,
   "metadata": {},
   "outputs": [
    {
     "data": {
      "text/plain": [
       "0.9799999999999999"
      ]
     },
     "execution_count": 101,
     "metadata": {},
     "output_type": "execute_result"
    }
   ],
   "source": [
    "from sklearn.metrics import mean_squared_error\n",
    "mean_squared_error(a,b)"
   ]
  },
  {
   "cell_type": "code",
   "execution_count": 96,
   "metadata": {},
   "outputs": [],
   "source": [
    "def exp_loss(y_true,y_pred):\n",
    "    return K.mean(K.exp(-y_true*y_pred))"
   ]
  },
  {
   "cell_type": "code",
   "execution_count": 8,
   "metadata": {},
   "outputs": [],
   "source": [
    "def cos_distance(vects):\n",
    "    x, y = vects\n",
    "    fz = K.batch_dot(x,y,axes=1)\n",
    "    fm1 = K.sum(K.square(x), axis=1, keepdims=True)\n",
    "    fm2 = K.sum(K.square(y), axis=1, keepdims=True)\n",
    "    fm = K.sqrt(fm1*fm2)\n",
    "    return fz/K.maximum(fm, K.epsilon())\n",
    "\n",
    "def triplet_loss(y_true, y_pred):\n",
    "    \"\"\"\n",
    "    一次看三个样本\n",
    "    Anchor, Positive, Negative\n",
    "    L=max(d(a,p)−d(a,n)+margin,0)\n",
    "    \"\"\"\n",
    "    MARGIN = 1.0  # 超参\n",
    "    l = 768\n",
    "# #     anc, pos, neg = y_pred[:, 0:128], y_pred[:, 128:256], y_pred[:, 256:]\n",
    "    anc, pos, neg = y_pred[:, 0:l], y_pred[:, l:l*2], y_pred[:, l*2:]\n",
    "\n",
    "#     # 欧式距离\n",
    "    pos_dist = 1-K.abs(cos_distance((anc,pos)))\n",
    "    neg_dist = 1-K.abs(cos_distance((anc,neg)))\n",
    "#     pos_dist = K.sum(K.square(anc - pos), axis=-1, keepdims=True)\n",
    "#     neg_dist = K.sum(K.square(anc - neg), axis=-1, keepdims=True)\n",
    "#     pos_dist = y_pred[:, 0:1]\n",
    "#     neg_dist = y_pred[:,1:]\n",
    "    basic_loss = pos_dist - neg_dist + MARGIN\n",
    "#     loss = basic_loss\n",
    "    loss = K.maximum(basic_loss, 0.0)\n",
    "#     print \"[INFO] model - triplet_loss shape: %s\" % str(loss.shape)\n",
    "    return loss\n",
    "    "
   ]
  },
  {
   "cell_type": "code",
   "execution_count": 49,
   "metadata": {},
   "outputs": [],
   "source": [
    "def contrastive_loss(y_true, y_pred):\n",
    "    \"\"\"\n",
    "    一次看两个样本\n",
    "    对比损失\n",
    "    y_pred: 两个样本欧式距离（0,1），距离越接近0，两个样本越相似\n",
    "    y_true：y_true = 1 匹配，0： 不匹配\n",
    "    Contrastive loss from http://yann.lecun.com/exdb/publis/pdf/hadsell-chopra-lecun-06.pdf\n",
    "    \"\"\"\n",
    "    margin = 1\n",
    "    return K.mean(y_true * K.square(y_pred) + (1 - y_true) * K.square(K.maximum(margin - y_pred, 0)))"
   ]
  },
  {
   "cell_type": "code",
   "execution_count": 60,
   "metadata": {},
   "outputs": [],
   "source": [
    "## emulation data\n",
    "y_true = tf.constant([0.0, 0.0, 0.0, 0.0, 0.0])\n",
    "y_pred = tf.constant([1.0, 1.0, 1.0, 1.0, 1.0])"
   ]
  },
  {
   "cell_type": "code",
   "execution_count": 48,
   "metadata": {},
   "outputs": [
    {
     "data": {
      "text/plain": [
       "0.0"
      ]
     },
     "execution_count": 48,
     "metadata": {},
     "output_type": "execute_result"
    }
   ],
   "source": [
    "K.eval(contrastive_loss(y_true,y_pred))"
   ]
  },
  {
   "cell_type": "code",
   "execution_count": 98,
   "metadata": {},
   "outputs": [
    {
     "data": {
      "text/plain": [
       "15.942385"
      ]
     },
     "execution_count": 98,
     "metadata": {},
     "output_type": "execute_result"
    }
   ],
   "source": [
    "# binary_crossentropy\n",
    "K.eval(binary_crossentropy(y_true, y_pred))"
   ]
  },
  {
   "cell_type": "code",
   "execution_count": 97,
   "metadata": {},
   "outputs": [
    {
     "data": {
      "text/plain": [
       "1.0"
      ]
     },
     "execution_count": 97,
     "metadata": {},
     "output_type": "execute_result"
    }
   ],
   "source": [
    "K.eval(exp_loss(y_true,y_pred))"
   ]
  },
  {
   "cell_type": "code",
   "execution_count": null,
   "metadata": {},
   "outputs": [],
   "source": [
    "import matplotlib.pyplot as plt\n",
    "def show_loss(history):\n",
    "    \"\"\"\n",
    "    loss 可视化\n",
    "    \"\"\"\n",
    "#     print(history.history.keys())\n",
    "    fig = plt.figure()\n",
    "    plt.plot(history.history['acc'])\n",
    "    plt.plot(history.history['loss'])\n",
    "    plt.title('model accuracy')\n",
    "    plt.ylabel('accuracy')\n",
    "    plt.xlabel('epoch')\n",
    "    plt.legend(['acc',\"loss\"], loc='upper left')"
   ]
  }
 ],
 "metadata": {
  "kernelspec": {
   "display_name": "Python 3",
   "language": "python",
   "name": "python3"
  },
  "language_info": {
   "codemirror_mode": {
    "name": "ipython",
    "version": 3
   },
   "file_extension": ".py",
   "mimetype": "text/x-python",
   "name": "python",
   "nbconvert_exporter": "python",
   "pygments_lexer": "ipython3",
   "version": "3.6.5"
  }
 },
 "nbformat": 4,
 "nbformat_minor": 4
}
