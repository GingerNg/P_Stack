{
 "cells": [
  {
   "cell_type": "markdown",
   "metadata": {},
   "source": [
    "#  <center>Keras<center>"
   ]
  },
  {
   "cell_type": "markdown",
   "metadata": {},
   "source": [
    "### Keras模型\n",
    "- Keras有两种类型的模型，顺序模型（Sequential）和泛型模型（Model）\n",
    "\n",
    "- model.summary()：打印出模型概况\n",
    "- model.get_config():返回包含模型配置信息的Python字典。模型也可以从它的config信息中重构回去\n",
    "\n",
    "- 序贯（Sequential）模型\n",
    "\n",
    "- 泛型模型（Model）\n",
    "\n",
    "### Keras的泛型模型为Model，即广义的拥有输入和输出的模型，我们使用Model来初始化一个泛型模型\n",
    "- 常用Model属性\n",
    "- model.layers：组成模型图的各个层\n",
    "- model.inputs：模型的输入张量列表\n",
    "- model.outputs：模型的输出张量列表\n",
    "\n",
    "verbose = 0 不在标准输出流输出日志信息\n",
    "verbose = 1 输出进度条记录，进度条如 [====>…] - ETA\n",
    "verbose = 2 每个epoch输出一行记录"
   ]
  },
  {
   "cell_type": "code",
   "execution_count": 24,
   "metadata": {},
   "outputs": [],
   "source": [
    "import numpy as np\n",
    "import keras\n",
    "from keras.layers import Permute, Embedding"
   ]
  },
  {
   "cell_type": "markdown",
   "metadata": {},
   "source": [
    "### <center>数据初始化</center>"
   ]
  },
  {
   "cell_type": "code",
   "execution_count": 9,
   "metadata": {},
   "outputs": [],
   "source": [
    "# 固定随机数种子以复现结果\n",
    "seed=13\n",
    "np.random.seed(seed)"
   ]
  },
  {
   "cell_type": "code",
   "execution_count": 10,
   "metadata": {},
   "outputs": [
    {
     "data": {
      "text/plain": [
       "(25,)"
      ]
     },
     "execution_count": 10,
     "metadata": {},
     "output_type": "execute_result"
    }
   ],
   "source": [
    "data_1d = np.random.normal(size=25)\n",
    "data_1d.shape"
   ]
  },
  {
   "cell_type": "code",
   "execution_count": 11,
   "metadata": {},
   "outputs": [
    {
     "data": {
      "text/plain": [
       "(1, 25)"
      ]
     },
     "execution_count": 11,
     "metadata": {},
     "output_type": "execute_result"
    }
   ],
   "source": [
    "data_2d = np.expand_dims(data_1d, 0) \n",
    "data_2d.shape"
   ]
  },
  {
   "cell_type": "code",
   "execution_count": 12,
   "metadata": {},
   "outputs": [
    {
     "data": {
      "text/plain": [
       "(1, 25, 1)"
      ]
     },
     "execution_count": 12,
     "metadata": {},
     "output_type": "execute_result"
    }
   ],
   "source": [
    "data_3d = np.expand_dims(data_2d, 2)\n",
    "data_3d.shape"
   ]
  },
  {
   "cell_type": "code",
   "execution_count": 13,
   "metadata": {},
   "outputs": [
    {
     "data": {
      "text/plain": [
       "array([[[-0.71239066],\n",
       "        [ 0.75376638],\n",
       "        [-0.04450308],\n",
       "        [ 0.45181234],\n",
       "        [ 1.34510171],\n",
       "        [ 0.53233789],\n",
       "        [ 1.3501879 ],\n",
       "        [ 0.86121137],\n",
       "        [ 1.47868574],\n",
       "        [-1.04537713],\n",
       "        [-0.78898902],\n",
       "        [-1.26160595],\n",
       "        [ 0.56284679],\n",
       "        [-0.24332625],\n",
       "        [ 0.9137407 ],\n",
       "        [ 0.31735092],\n",
       "        [ 0.12730328],\n",
       "        [ 2.15038297],\n",
       "        [ 0.60628866],\n",
       "        [-0.02677165],\n",
       "        [-0.98416078],\n",
       "        [ 1.19070527],\n",
       "        [ 0.95283061],\n",
       "        [-1.08718159],\n",
       "        [-0.14521133]]])"
      ]
     },
     "execution_count": 13,
     "metadata": {},
     "output_type": "execute_result"
    }
   ],
   "source": [
    "data_3d"
   ]
  },
  {
   "cell_type": "code",
   "execution_count": 57,
   "metadata": {},
   "outputs": [
    {
     "data": {
      "text/plain": [
       "(32, 10)"
      ]
     },
     "execution_count": 57,
     "metadata": {},
     "output_type": "execute_result"
    }
   ],
   "source": [
    "\"\"\"\n",
    "low、high、size三个参数。\n",
    "默认high是None,如果只有low，那范围就是[0,low)。\n",
    "如果有high，范围就是[low,high)。\n",
    "size = (sample_num, fea_num)\n",
    "\"\"\"\n",
    "input_array = np.random.randint(1000, size=(32, 10))\n",
    "input_array.shape"
   ]
  },
  {
   "cell_type": "code",
   "execution_count": 51,
   "metadata": {},
   "outputs": [
    {
     "data": {
      "text/plain": [
       "array([[1001, 1001, 1000, 1001, 1000, 1001, 1001, 1001, 1001, 1000],\n",
       "       [1000, 1000, 1001, 1000, 1000, 1001, 1001, 1000, 1001, 1001],\n",
       "       [1001, 1001, 1000, 1000, 1001, 1001, 1001, 1001, 1001, 1001],\n",
       "       [1001, 1001, 1001, 1000, 1001, 1001, 1001, 1000, 1000, 1000],\n",
       "       [1000, 1000, 1001, 1001, 1001, 1000, 1001, 1001, 1000, 1000],\n",
       "       [1001, 1000, 1000, 1001, 1000, 1000, 1001, 1001, 1000, 1000],\n",
       "       [1000, 1000, 1001, 1001, 1000, 1000, 1001, 1000, 1000, 1001],\n",
       "       [1001, 1001, 1000, 1000, 1001, 1000, 1000, 1000, 1001, 1001],\n",
       "       [1001, 1001, 1001, 1000, 1000, 1000, 1000, 1000, 1001, 1001],\n",
       "       [1000, 1000, 1001, 1001, 1000, 1001, 1000, 1001, 1001, 1000],\n",
       "       [1001, 1000, 1001, 1000, 1001, 1000, 1001, 1001, 1001, 1001],\n",
       "       [1001, 1000, 1001, 1001, 1000, 1000, 1000, 1000, 1000, 1001],\n",
       "       [1001, 1001, 1000, 1001, 1000, 1001, 1000, 1001, 1001, 1001],\n",
       "       [1000, 1001, 1000, 1000, 1000, 1000, 1001, 1000, 1000, 1000],\n",
       "       [1000, 1000, 1001, 1000, 1000, 1001, 1001, 1000, 1000, 1001],\n",
       "       [1001, 1000, 1001, 1000, 1001, 1000, 1001, 1000, 1000, 1001],\n",
       "       [1000, 1000, 1000, 1001, 1000, 1000, 1001, 1001, 1001, 1000],\n",
       "       [1001, 1000, 1001, 1001, 1000, 1001, 1001, 1000, 1001, 1001],\n",
       "       [1001, 1000, 1001, 1001, 1001, 1001, 1000, 1001, 1001, 1001],\n",
       "       [1001, 1000, 1000, 1001, 1001, 1000, 1001, 1001, 1000, 1000],\n",
       "       [1000, 1001, 1000, 1000, 1000, 1000, 1000, 1000, 1001, 1000],\n",
       "       [1001, 1000, 1000, 1000, 1001, 1000, 1001, 1001, 1001, 1001],\n",
       "       [1001, 1001, 1000, 1000, 1000, 1000, 1000, 1000, 1000, 1001],\n",
       "       [1001, 1001, 1001, 1000, 1001, 1000, 1000, 1000, 1001, 1000],\n",
       "       [1000, 1000, 1001, 1001, 1001, 1001, 1000, 1001, 1001, 1001],\n",
       "       [1001, 1000, 1000, 1000, 1001, 1000, 1001, 1000, 1000, 1001],\n",
       "       [1001, 1000, 1000, 1001, 1000, 1001, 1000, 1000, 1000, 1000],\n",
       "       [1001, 1000, 1000, 1000, 1000, 1000, 1000, 1000, 1000, 1001],\n",
       "       [1000, 1001, 1001, 1000, 1001, 1000, 1000, 1000, 1001, 1001],\n",
       "       [1000, 1000, 1000, 1001, 1001, 1001, 1000, 1001, 1001, 1001],\n",
       "       [1000, 1001, 1001, 1000, 1001, 1001, 1001, 1000, 1000, 1000],\n",
       "       [1000, 1000, 1000, 1001, 1001, 1001, 1000, 1000, 1000, 1001]])"
      ]
     },
     "execution_count": 51,
     "metadata": {},
     "output_type": "execute_result"
    }
   ],
   "source": [
    "np.random.randint(1000,1002, size=(32, 10))"
   ]
  },
  {
   "cell_type": "code",
   "execution_count": null,
   "metadata": {},
   "outputs": [],
   "source": [
    "def get_data_recurrent(n, time_steps, input_dim, attention_column=10):\n",
    "    \"\"\"\n",
    "    获取时间序列数据-3D\n",
    "    Data generation. x is purely random except that it's first value equals the target y.\n",
    "    In practice, the network should learn that the target = x[attention_column].\n",
    "    Therefore, most of its attention should be focused on the value addressed by attention_column.\n",
    "    :param n: the number of samples to retrieve.\n",
    "    :param time_steps: the number of time steps of your series.\n",
    "    :param input_dim: the number of dimensions of each element in the series.\n",
    "    :param attention_column: the column linked to the target. Everything else is purely random.\n",
    "    :return: x: model inputs, y: model targets\n",
    "    \"\"\"\n",
    "    x = np.random.standard_normal(size=(n, time_steps, input_dim))\n",
    "    y = np.random.randint(low=0, high=2, size=(n, 1))\n",
    "    x[:, attention_column, :] = np.tile(y[:], (1, input_dim))\n",
    "    return x, y\n",
    "\n",
    "def get_data_for_attention(n, input_dim, attention_column=1):\n",
    "    \"\"\"\n",
    "    2D\n",
    "    Data generation. x is purely random except that it's first value equals the target y.\n",
    "    In practice, the network should learn that the target = x[attention_column].\n",
    "    Therefore, most of its attention should be focused on the value addressed by attention_column.\n",
    "    :param n: the number of samples to retrieve.\n",
    "    :param input_dim: the number of dimensions of each element in the series.\n",
    "    :param attention_column: the column linked to the target. Everything else is purely random.\n",
    "    :return: x: model inputs, y: model targets\n",
    "    \"\"\"\n",
    "    x = np.random.standard_normal(size=(n, input_dim))\n",
    "    y = np.random.randint(low=0, high=2, size=(n, 1))\n",
    "    # 将y的column_0赋值给x_attention_column\n",
    "    x[:, attention_column] = y[:, 0]\n",
    "    return x, y"
   ]
  },
  {
   "cell_type": "code",
   "execution_count": 59,
   "metadata": {},
   "outputs": [],
   "source": [
    "N = 300\n",
    "TIME_STEPS = 20\n",
    "INPUT_DIM = 2\n",
    "inputs_1, outputs = get_data_recurrent(N, TIME_STEPS, INPUT_DIM)"
   ]
  },
  {
   "cell_type": "code",
   "execution_count": 60,
   "metadata": {},
   "outputs": [
    {
     "data": {
      "text/plain": [
       "(300, 20, 2)"
      ]
     },
     "execution_count": 60,
     "metadata": {},
     "output_type": "execute_result"
    }
   ],
   "source": [
    "inputs_1.shape"
   ]
  },
  {
   "cell_type": "code",
   "execution_count": 61,
   "metadata": {},
   "outputs": [
    {
     "data": {
      "text/plain": [
       "(300, 1)"
      ]
     },
     "execution_count": 61,
     "metadata": {},
     "output_type": "execute_result"
    }
   ],
   "source": [
    "outputs.shape"
   ]
  },
  {
   "cell_type": "code",
   "execution_count": 62,
   "metadata": {},
   "outputs": [
    {
     "data": {
      "text/plain": [
       "<tf.Tensor 'Const_2:0' shape=(300, 20, 2) dtype=float64>"
      ]
     },
     "execution_count": 62,
     "metadata": {},
     "output_type": "execute_result"
    }
   ],
   "source": [
    "import tensorflow as tf\n",
    "# ndarray --> tensor\n",
    "inputs_1_tensor = tf.convert_to_tensor(inputs_1)\n",
    "inputs_1_tensor"
   ]
  },
  {
   "cell_type": "code",
   "execution_count": 63,
   "metadata": {},
   "outputs": [
    {
     "data": {
      "text/plain": [
       "<tf.Tensor 'permute_2/transpose:0' shape=(300, 2, 20) dtype=float64>"
      ]
     },
     "execution_count": 63,
     "metadata": {},
     "output_type": "execute_result"
    }
   ],
   "source": [
    "a = Permute((2, 1))(inputs_1_tensor) # a shape(300,2,20)\n",
    "a"
   ]
  },
  {
   "cell_type": "markdown",
   "metadata": {},
   "source": [
    "### <center>CONV-卷积<center>"
   ]
  },
  {
   "cell_type": "markdown",
   "metadata": {},
   "source": [
    "- Conv1D 输入3-D数组 输出2-D数组\n",
    "- Conv2D 输入4-D数组 输出3-D数组"
   ]
  },
  {
   "cell_type": "code",
   "execution_count": 26,
   "metadata": {},
   "outputs": [],
   "source": [
    "\"\"\"\n",
    "定义卷积层  \n",
    "参数个数 = kernel_size + 1 (activation)\n",
    "input_size: 25\n",
    "“valid”代表只进行有效的卷积，即对边界数据不处理\n",
    "            output_size: 25-kernel_size+1\n",
    "\"same\"/\"causal\": output_size = input_size\n",
    "\"\"\"\n",
    "filters = 1 # 卷积核数量为 1\n",
    "kernel_size = 5 # 卷积核大小为 5\n",
    "convolution_1d_layer = keras.layers.convolutional.Conv1D(filters,\n",
    "                                                         kernel_size,\n",
    "                                                         strides=1,\n",
    "                                                         padding='causal', #\n",
    "                                                         input_shape=(25, 1),\n",
    "                                                         activation=\"relu\",\n",
    "                                                         name=\"convolution_1d_layer\")"
   ]
  },
  {
   "cell_type": "code",
   "execution_count": 27,
   "metadata": {},
   "outputs": [],
   "source": [
    "# 定义最大化池化层\n",
    "max_pooling_layer = keras.layers.MaxPool1D(pool_size=5,\n",
    "                                           strides=1,\n",
    "                                           padding=\"valid\",\n",
    "                                           name=\"max_pooling_layer\")"
   ]
  },
  {
   "cell_type": "code",
   "execution_count": 28,
   "metadata": {},
   "outputs": [],
   "source": [
    "# 平铺层，调整维度适应全链接层\n",
    "reshape_layer = keras.layers.core.Flatten(name=\"reshape_layer\")"
   ]
  },
  {
   "cell_type": "code",
   "execution_count": 29,
   "metadata": {},
   "outputs": [],
   "source": [
    "# 定义全链接层\n",
    "full_connect_layer = keras.layers.Dense(5,\n",
    "                                        kernel_initializer=keras.initializers.RandomNormal(mean=0.0, stddev=0.1, seed=seed),\n",
    "                                        bias_initializer=\"random_normal\",\n",
    "                                        use_bias=True,\n",
    "                                        name=\"full_connect_layer\")"
   ]
  },
  {
   "cell_type": "code",
   "execution_count": 30,
   "metadata": {},
   "outputs": [],
   "source": [
    "# 编译模型\n",
    "model = keras.Sequential()\n",
    "model.add(convolution_1d_layer)\n",
    "model.add(max_pooling_layer)\n",
    "model.add(reshape_layer)\n",
    "model.add(full_connect_layer)"
   ]
  },
  {
   "cell_type": "code",
   "execution_count": 31,
   "metadata": {},
   "outputs": [],
   "source": [
    "# 打印 full_connect_layer 层的输出\n",
    "output = keras.Model(inputs=model.input, outputs=model.get_layer('full_connect_layer').output).predict(data_3d)"
   ]
  },
  {
   "cell_type": "code",
   "execution_count": 32,
   "metadata": {},
   "outputs": [
    {
     "data": {
      "text/plain": [
       "(1, 5)"
      ]
     },
     "execution_count": 32,
     "metadata": {},
     "output_type": "execute_result"
    }
   ],
   "source": [
    "output.shape"
   ]
  },
  {
   "cell_type": "code",
   "execution_count": 21,
   "metadata": {},
   "outputs": [
    {
     "data": {
      "text/plain": [
       "(1, 25, 1)"
      ]
     },
     "execution_count": 21,
     "metadata": {},
     "output_type": "execute_result"
    }
   ],
   "source": [
    "data_3d.shape"
   ]
  },
  {
   "cell_type": "code",
   "execution_count": 28,
   "metadata": {},
   "outputs": [
    {
     "data": {
      "text/plain": [
       "array([[ 0.4945412 ,  0.1851331 , -0.1249821 ,  0.22180727,  0.5340365 ]],\n",
       "      dtype=float32)"
      ]
     },
     "execution_count": 28,
     "metadata": {},
     "output_type": "execute_result"
    }
   ],
   "source": [
    "output"
   ]
  },
  {
   "cell_type": "code",
   "execution_count": 31,
   "metadata": {},
   "outputs": [
    {
     "name": "stdout",
     "output_type": "stream",
     "text": [
      "_________________________________________________________________\n",
      "Layer (type)                 Output Shape              Param #   \n",
      "=================================================================\n",
      "convolution_1d_layer (Conv1D (None, 25, 1)             6         \n",
      "_________________________________________________________________\n",
      "max_pooling_layer (MaxPoolin (None, 21, 1)             0         \n",
      "_________________________________________________________________\n",
      "reshape_layer (Flatten)      (None, 21)                0         \n",
      "_________________________________________________________________\n",
      "full_connect_layer (Dense)   (None, 5)                 110       \n",
      "=================================================================\n",
      "Total params: 116\n",
      "Trainable params: 116\n",
      "Non-trainable params: 0\n",
      "_________________________________________________________________\n"
     ]
    }
   ],
   "source": [
    "model.summary()"
   ]
  },
  {
   "cell_type": "markdown",
   "metadata": {},
   "source": [
    "### <center>Embedding Layer<center>\n",
    "一个Embedding层的输入应该是一系列的整数序列\n",
    "所有的序列中的整数都将被对应的词向量矩阵中对应的列（也就是它的词向量）代替,比如序列[1,2]将被序列[词向量[1],词向量[2]]代替。\n",
    "这样，输入一个2D张量后，我们可以得到一个3D张量。\n",
    "\n",
    "参数：\n",
    "- input_dim：大或等于0的整数，字典长度，即输入数据最大下标+1\n",
    "- output_dim：大于0的整数，代表全连接嵌入的维度\n",
    "- input_length：当输入序列的长度固定时，该值为其长度。如果要在该层后接Flatten层，然后接Dense层，则必须指定该参数，否则Dense层的输出维度无法自动推断。\n",
    "- https://blog.csdn.net/jiangpeng59/article/details/77533309\n",
    "- 如果输入数据不需要词的语义特征语义，简单使用Embedding层就可以得到一个对应的词向量矩阵，\n",
    "- 如果需要语义特征，我们大可把以及训练好的词向量权重直接扔到Embedding层中即可"
   ]
  },
  {
   "cell_type": "markdown",
   "metadata": {},
   "source": [
    "mask_zero: \n",
    "- (1)是否把 0 看作为一个应该被遮蔽的特殊的 \"padding\" 值。 这对于可变长的 循环神经网络层 十分有用。 \n",
    "- (2)如果设定为 True，那么接下来的所有层都必须支持 masking，否则就会抛出异常。 \n",
    "- (3)如果 mask_zero 为 True，作为结果，索引 0 就不能被用于词汇表中 （input_dim 应该与 vocabulary + 1 大小相同）。"
   ]
  },
  {
   "cell_type": "code",
   "execution_count": 37,
   "metadata": {},
   "outputs": [],
   "source": [
    "model1 = keras.Sequential()\n",
    "model1.add(Embedding(input_dim=1000, output_dim=64, input_length=10))"
   ]
  },
  {
   "cell_type": "code",
   "execution_count": 38,
   "metadata": {},
   "outputs": [],
   "source": [
    "input_array = np.random.randint(1000, size=(32, 10)) # 32个样本，每个样本10个time-step"
   ]
  },
  {
   "cell_type": "code",
   "execution_count": 39,
   "metadata": {},
   "outputs": [],
   "source": [
    "model1.compile('rmsprop', 'mse')\n",
    "output_array = model1.predict(input_array)  # input_array = (32, 10) / 每个值得范围为[0,1000)"
   ]
  },
  {
   "cell_type": "code",
   "execution_count": 42,
   "metadata": {},
   "outputs": [
    {
     "data": {
      "text/plain": [
       "(32, 10, 64)"
      ]
     },
     "execution_count": 42,
     "metadata": {},
     "output_type": "execute_result"
    }
   ],
   "source": [
    "output_array.shape"
   ]
  },
  {
   "cell_type": "code",
   "execution_count": 65,
   "metadata": {},
   "outputs": [],
   "source": [
    "# embedding_layer = Embedding(len(word_index) + 1,\n",
    "#                             EMBEDDING_DIM,\n",
    "#                             weights=[embedding_matrix],  # 词向量矩阵\n",
    "#                             input_length=MAX_SEQUENCE_LENGTH,\n",
    "#                             trainable=False)"
   ]
  },
  {
   "cell_type": "markdown",
   "metadata": {},
   "source": [
    "### <center>多输入多输出<center>\n",
    "- loss_weight:用来计算总的loss 的权重。默认为1，多个输出时，可以设置不同输出loss的权重来决定训练过程。"
   ]
  },
  {
   "cell_type": "code",
   "execution_count": 9,
   "metadata": {},
   "outputs": [
    {
     "name": "stdout",
     "output_type": "stream",
     "text": [
      "WARNING:tensorflow:From /usr/local/lib/python3.6/dist-packages/keras/backend/tensorflow_backend.py:517: The name tf.placeholder is deprecated. Please use tf.compat.v1.placeholder instead.\n",
      "\n",
      "WARNING:tensorflow:From /usr/local/lib/python3.6/dist-packages/keras/optimizers.py:790: The name tf.train.Optimizer is deprecated. Please use tf.compat.v1.train.Optimizer instead.\n",
      "\n",
      "WARNING:tensorflow:From /usr/local/lib/python3.6/dist-packages/tensorflow/python/ops/nn_impl.py:180: add_dispatch_support.<locals>.wrapper (from tensorflow.python.ops.array_ops) is deprecated and will be removed in a future version.\n",
      "Instructions for updating:\n",
      "Use tf.where in 2.0, which has the same broadcast rule as np.where\n"
     ]
    }
   ],
   "source": [
    "from keras.layers import Input\n",
    "from keras.layers import concatenate, Dense\n",
    "from keras.utils import to_categorical\n",
    "from keras.models import Model\n",
    "\n",
    "x_in = Input(shape=(100,), name='x_in')\n",
    "y_in = Input(shape=(100,), name='y_in')\n",
    "# a layer instance is callable on a tensor, and returns a tensor\n",
    "x = Dense(64, activation='relu')(x_in)  # 64*101\n",
    "y = Dense(64, activation='relu')(y_in)\n",
    "z = concatenate([x, y])\n",
    "\n",
    "x = Dense(1, activation='sigmoid', name='x_out')(z)\n",
    "y = Dense(10, activation='softmax', name='y_out')(z)\n",
    "\n",
    "model = Model(inputs=[x_in, y_in], outputs=[x, y])\n",
    "model.compile(optimizer='rmsprop',\n",
    "              loss={'x_out': 'binary_crossentropy', \n",
    "                    'y_out': 'categorical_crossentropy'},\n",
    "              loss_weights={'x_out': 1., 'y_out': 0.2})"
   ]
  },
  {
   "cell_type": "code",
   "execution_count": 10,
   "metadata": {},
   "outputs": [
    {
     "name": "stdout",
     "output_type": "stream",
     "text": [
      "__________________________________________________________________________________________________\n",
      "Layer (type)                    Output Shape         Param #     Connected to                     \n",
      "==================================================================================================\n",
      "x_in (InputLayer)               (None, 100)          0                                            \n",
      "__________________________________________________________________________________________________\n",
      "y_in (InputLayer)               (None, 100)          0                                            \n",
      "__________________________________________________________________________________________________\n",
      "dense_1 (Dense)                 (None, 64)           6464        x_in[0][0]                       \n",
      "__________________________________________________________________________________________________\n",
      "dense_2 (Dense)                 (None, 64)           6464        y_in[0][0]                       \n",
      "__________________________________________________________________________________________________\n",
      "concatenate_1 (Concatenate)     (None, 128)          0           dense_1[0][0]                    \n",
      "                                                                 dense_2[0][0]                    \n",
      "__________________________________________________________________________________________________\n",
      "x_out (Dense)                   (None, 1)            129         concatenate_1[0][0]              \n",
      "__________________________________________________________________________________________________\n",
      "y_out (Dense)                   (None, 10)           1290        concatenate_1[0][0]              \n",
      "==================================================================================================\n",
      "Total params: 14,347\n",
      "Trainable params: 14,347\n",
      "Non-trainable params: 0\n",
      "__________________________________________________________________________________________________\n"
     ]
    }
   ],
   "source": [
    "model.summary()"
   ]
  },
  {
   "cell_type": "code",
   "execution_count": 11,
   "metadata": {},
   "outputs": [
    {
     "data": {
      "text/plain": [
       "array([[0.63306315, 0.6472018 , 0.30335145, ..., 0.09281536, 0.17480713,\n",
       "        0.65033905],\n",
       "       [0.85882121, 0.77461259, 0.25038101, ..., 0.51059238, 0.48645597,\n",
       "        0.84684669],\n",
       "       [0.11843133, 0.30173383, 0.39898592, ..., 0.86672458, 0.08558629,\n",
       "        0.6278311 ],\n",
       "       ...,\n",
       "       [0.05403877, 0.13152411, 0.35730517, ..., 0.20179248, 0.50769787,\n",
       "        0.79723887],\n",
       "       [0.0848092 , 0.53969324, 0.17883817, ..., 0.60985375, 0.74907213,\n",
       "        0.86871299],\n",
       "       [0.85370718, 0.92634633, 0.59901838, ..., 0.1517482 , 0.17036782,\n",
       "        0.00807305]])"
      ]
     },
     "execution_count": 11,
     "metadata": {},
     "output_type": "execute_result"
    }
   ],
   "source": [
    "\"\"\"data for training\"\"\"\n",
    "import numpy as np\n",
    "from keras.models import Model\n",
    "data = np.random.random((1000, 100))\n",
    "xs = np.random.randint(2, size=(1000, 1))\n",
    "ys = np.random.randint(10, size=(1000, 1))\n",
    "# xs\n",
    "data"
   ]
  },
  {
   "cell_type": "code",
   "execution_count": 20,
   "metadata": {},
   "outputs": [
    {
     "name": "stdout",
     "output_type": "stream",
     "text": [
      "Epoch 1/10\n",
      "1000/1000 [==============================] - 0s 45us/step - loss: 0.9847 - x_out_loss: 0.5722 - y_out_loss: 2.0627\n",
      "Epoch 2/10\n",
      "1000/1000 [==============================] - 0s 44us/step - loss: 0.9745 - x_out_loss: 0.5649 - y_out_loss: 2.0481\n",
      "Epoch 3/10\n",
      "1000/1000 [==============================] - 0s 44us/step - loss: 0.9612 - x_out_loss: 0.5543 - y_out_loss: 2.0344\n",
      "Epoch 4/10\n",
      "1000/1000 [==============================] - 0s 43us/step - loss: 0.9500 - x_out_loss: 0.5451 - y_out_loss: 2.0245\n",
      "Epoch 5/10\n",
      "1000/1000 [==============================] - 0s 40us/step - loss: 0.9435 - x_out_loss: 0.5423 - y_out_loss: 2.0058\n",
      "Epoch 6/10\n",
      "1000/1000 [==============================] - 0s 41us/step - loss: 0.9337 - x_out_loss: 0.5333 - y_out_loss: 2.0021\n",
      "Epoch 7/10\n",
      "1000/1000 [==============================] - 0s 44us/step - loss: 0.9197 - x_out_loss: 0.5224 - y_out_loss: 1.9862\n",
      "Epoch 8/10\n",
      "1000/1000 [==============================] - 0s 43us/step - loss: 0.9117 - x_out_loss: 0.5179 - y_out_loss: 1.9690\n",
      "Epoch 9/10\n",
      "1000/1000 [==============================] - 0s 41us/step - loss: 0.9037 - x_out_loss: 0.5107 - y_out_loss: 1.9647\n",
      "Epoch 10/10\n",
      "1000/1000 [==============================] - 0s 43us/step - loss: 0.8907 - x_out_loss: 0.5012 - y_out_loss: 1.9476\n"
     ]
    }
   ],
   "source": [
    "# And trained it via:\n",
    "history = model.fit({'x_in': data, 'y_in': data},\n",
    "                      {'x_out': xs, 'y_out': to_categorical(ys)},\n",
    "                      epochs=10, \n",
    "                    batch_size=32)"
   ]
  },
  {
   "cell_type": "markdown",
   "metadata": {},
   "source": [
    "### <center>训练可视化<center>\n",
    "\n",
    "https://blog.csdn.net/m0_37477175/article/details/79131456"
   ]
  },
  {
   "cell_type": "code",
   "execution_count": 19,
   "metadata": {},
   "outputs": [
    {
     "name": "stdout",
     "output_type": "stream",
     "text": [
      "dict_keys(['loss', 'x_out_loss', 'y_out_loss'])\n"
     ]
    },
    {
     "data": {
      "image/png": "[encoded data removed]",
      "text/plain": [
       "<Figure size 432x288 with 1 Axes>"
      ]
     },
     "metadata": {
      "needs_background": "light"
     },
     "output_type": "display_data"
    }
   ],
   "source": [
    "import matplotlib.pyplot as plt\n",
    "def show_loss(history):\n",
    "    print(history.history.keys())\n",
    "    fig = plt.figure()\n",
    "#     plt.plot(history.history['acc'])\n",
    "    plt.plot(history.history['loss'])\n",
    "    plt.title('model accuracy')\n",
    "    plt.ylabel('accuracy')\n",
    "    plt.xlabel('epoch')\n",
    "    plt.legend(['x_out_loss'], loc='upper left')\n",
    "#     fig.savefig('performance.png')\n",
    "show_loss(history)"
   ]
  },
  {
   "cell_type": "markdown",
   "metadata": {},
   "source": [
    "### <center>网络结构可视化<center>\n",
    "\n",
    "- https://www.cnblogs.com/hutao722/p/9552246.html\n",
    "- apt install graphviz"
   ]
  },
  {
   "cell_type": "code",
   "execution_count": 15,
   "metadata": {},
   "outputs": [],
   "source": [
    "from keras.utils.vis_utils import plot_model\n",
    "# 显示网络结构图\n",
    "plot_model(model, to_file='model.png', show_shapes=True, show_layer_names=False)"
   ]
  },
  {
   "cell_type": "markdown",
   "metadata": {},
   "source": [
    "### 验证集\n",
    "https://blog.csdn.net/grllery/article/details/83685306"
   ]
  },
  {
   "cell_type": "markdown",
   "metadata": {},
   "source": [
    "### 样本不平衡问题"
   ]
  },
  {
   "cell_type": "code",
   "execution_count": null,
   "metadata": {},
   "outputs": [],
   "source": [
    "# class_weight=None,"
   ]
  },
  {
   "cell_type": "markdown",
   "metadata": {},
   "source": [
    "###### sample_weight=None,\n",
    "- (1) 传入一维数组（长度与样本长度相同）\n",
    "- (2) 传入(samples,seq_lenght)的2D数组，对于样本的每个时间步施加不同的权重"
   ]
  },
  {
   "cell_type": "markdown",
   "metadata": {},
   "source": [
    "### <center>shardlayers 共享层<center>"
   ]
  },
  {
   "cell_type": "code",
   "execution_count": 75,
   "metadata": {},
   "outputs": [
    {
     "name": "stdout",
     "output_type": "stream",
     "text": [
      "__________________________________________________________________________________________________\n",
      "Layer (type)                    Output Shape         Param #     Connected to                     \n",
      "==================================================================================================\n",
      "input_5 (InputLayer)            (None, 280, 256)     0                                            \n",
      "__________________________________________________________________________________________________\n",
      "input_6 (InputLayer)            (None, 280, 256)     0                                            \n",
      "__________________________________________________________________________________________________\n",
      "lstm_2 (LSTM)                   (None, 64)           82176       input_5[0][0]                    \n",
      "                                                                 input_6[0][0]                    \n",
      "__________________________________________________________________________________________________\n",
      "concatenate_4 (Concatenate)     (None, 128)          0           lstm_2[0][0]                     \n",
      "                                                                 lstm_2[1][0]                     \n",
      "__________________________________________________________________________________________________\n",
      "dense_6 (Dense)                 (None, 1)            129         concatenate_4[0][0]              \n",
      "==================================================================================================\n",
      "Total params: 82,305\n",
      "Trainable params: 82,305\n",
      "Non-trainable params: 0\n",
      "__________________________________________________________________________________________________\n"
     ]
    }
   ],
   "source": [
    "from keras.layers import LSTM\n",
    "tweet_a = Input(shape=(280, 256))\n",
    "tweet_b = Input(shape=(280, 256))\n",
    "\n",
    "# This layer can take as input a matrix\n",
    "# and will return a vector of size 64\n",
    "shared_lstm = LSTM(64)\n",
    "\n",
    "# When we reuse the same layer instance\n",
    "# multiple times, the weights of the layer\n",
    "# are also being reused\n",
    "# (it is effectively *the same* layer)\n",
    "encoded_a = shared_lstm(tweet_a)\n",
    "encoded_b = shared_lstm(tweet_b)\n",
    "\n",
    "\n",
    "# We can then concatenate the two vectors:\n",
    "merged_vector = keras.layers.concatenate([encoded_a, encoded_b], axis=-1)\n",
    "\n",
    "# And add a logistic regression on top\n",
    "predictions = Dense(1, activation='sigmoid')(merged_vector)\n",
    "\n",
    "# We define a trainable model linking the\n",
    "# tweet inputs to the predictions\n",
    "model = Model(inputs=[tweet_a, tweet_b], outputs=predictions)\n",
    "model.summary()"
   ]
  },
  {
   "cell_type": "code",
   "execution_count": 77,
   "metadata": {},
   "outputs": [
    {
     "data": {
      "text/plain": [
       "<tf.Tensor 'attention_probs_1/Softmax:0' shape=(?, 256) dtype=float32>"
      ]
     },
     "execution_count": 77,
     "metadata": {},
     "output_type": "execute_result"
    }
   ],
   "source": [
    "input_dims = 256\n",
    "inputs = Input(shape=(input_dims,))\n",
    "attention_probs = Dense(input_dims, activation='softmax', name='attention_probs')(inputs)\n",
    "attention_probs"
   ]
  },
  {
   "cell_type": "code",
   "execution_count": 79,
   "metadata": {},
   "outputs": [
    {
     "name": "stdout",
     "output_type": "stream",
     "text": [
      "Tensor(\"multiply_1/mul:0\", shape=(?, 256), dtype=float32)\n"
     ]
    }
   ],
   "source": [
    "from keras.layers import multiply\n",
    "attention_mul = multiply([inputs, attention_probs])\n",
    "print(attention_mul)"
   ]
  },
  {
   "cell_type": "markdown",
   "metadata": {},
   "source": [
    "### <center>多分类<center>"
   ]
  },
  {
   "cell_type": "code",
   "execution_count": 1,
   "metadata": {},
   "outputs": [],
   "source": [
    "# generate 2d classification dataset\n",
    "from sklearn.datasets.samples_generator import make_blobs\n",
    "\n",
    "n_samples = 1100\n",
    "X, y = make_blobs(n_samples=1100, centers=3, n_features=20, cluster_std=2, random_state=2)"
   ]
  },
  {
   "cell_type": "code",
   "execution_count": 2,
   "metadata": {},
   "outputs": [
    {
     "ename": "NameError",
     "evalue": "name 'to_categorical' is not defined",
     "output_type": "error",
     "traceback": [
      "\u001b[0;31m---------------------------------------------------------------------------\u001b[0m",
      "\u001b[0;31mNameError\u001b[0m                                 Traceback (most recent call last)",
      "\u001b[0;32m<ipython-input-2-a16582dfe5a8>\u001b[0m in \u001b[0;36m<module>\u001b[0;34m\u001b[0m\n\u001b[1;32m      4\u001b[0m \u001b[0;31m# b = to_categorical(b, 9) # 离散\u001b[0m\u001b[0;34m\u001b[0m\u001b[0;34m\u001b[0m\u001b[0;34m\u001b[0m\u001b[0m\n\u001b[1;32m      5\u001b[0m \u001b[0;31m# one hot encode output variable\u001b[0m\u001b[0;34m\u001b[0m\u001b[0;34m\u001b[0m\u001b[0;34m\u001b[0m\u001b[0m\n\u001b[0;32m----> 6\u001b[0;31m \u001b[0my\u001b[0m \u001b[0;34m=\u001b[0m \u001b[0mto_categorical\u001b[0m\u001b[0;34m(\u001b[0m\u001b[0my\u001b[0m\u001b[0;34m)\u001b[0m\u001b[0;34m\u001b[0m\u001b[0;34m\u001b[0m\u001b[0m\n\u001b[0m\u001b[1;32m      7\u001b[0m \u001b[0;31m# split into train and test\u001b[0m\u001b[0;34m\u001b[0m\u001b[0;34m\u001b[0m\u001b[0;34m\u001b[0m\u001b[0m\n\u001b[1;32m      8\u001b[0m \u001b[0mn_train\u001b[0m \u001b[0;34m=\u001b[0m \u001b[0;36m100\u001b[0m\u001b[0;34m\u001b[0m\u001b[0;34m\u001b[0m\u001b[0m\n",
      "\u001b[0;31mNameError\u001b[0m: name 'to_categorical' is not defined"
     ]
    }
   ],
   "source": [
    "# # 类别向量定义\n",
    "# b = [0, 1, 2, 3, 4, 5, 6, 7, 8]\n",
    "# # 调用to_categorical将b按照9个类别来进行转换\n",
    "# b = to_categorical(b, 9) # 离散\n",
    "# one hot encode output variable\n",
    "y = to_categorical(y)\n",
    "# split into train and test\n",
    "n_train = 100\n",
    "trainX, testX = X[:n_train, :], X[n_train:, :]\n",
    "trainy, testy = y[:n_train], y[n_train:]\n",
    "testX"
   ]
  },
  {
   "cell_type": "code",
   "execution_count": 91,
   "metadata": {},
   "outputs": [],
   "source": [
    "from keras.models import Sequential\n",
    "def MultiClassModel(feature_dim,label_dim):\n",
    "\n",
    "    model = Sequential()\n",
    "    print(\"create model. feature_dim = %s, label_dim = %s\" % (feature_dim,label_dim))\n",
    "    model.add(Dense(500, activation='relu', input_dim=feature_dim))\n",
    "    model.add(Dense(100, activation='relu'))\n",
    "    model.add(Dense(label_dim, activation='softmax'))\n",
    "    model.compile(optimizer='adam',\n",
    "                  loss='categorical_crossentropy',\n",
    "                  metrics=['accuracy'])\n",
    "#     model.summary()\n",
    "    return model"
   ]
  },
  {
   "cell_type": "code",
   "execution_count": 92,
   "metadata": {},
   "outputs": [
    {
     "name": "stdout",
     "output_type": "stream",
     "text": [
      "create model. feature_dim = 20, label_dim = 3\n",
      "dict_keys(['loss', 'acc'])\n"
     ]
    },
    {
     "data": {
      "image/png": "[encoded data removed]",
      "text/plain": [
       "<Figure size 432x288 with 1 Axes>"
      ]
     },
     "metadata": {
      "needs_background": "light"
     },
     "output_type": "display_data"
    }
   ],
   "source": [
    "model = MultiClassModel(feature_dim=20,label_dim=3)\n",
    "\n",
    "history = model.fit(trainX, trainy, epochs=500, verbose=0)\n",
    "show_loss(history)"
   ]
  },
  {
   "cell_type": "code",
   "execution_count": 93,
   "metadata": {},
   "outputs": [
    {
     "data": {
      "text/plain": [
       "array([[2.2919129e-09, 6.0182678e-08, 9.9999988e-01]], dtype=float32)"
      ]
     },
     "execution_count": 93,
     "metadata": {},
     "output_type": "execute_result"
    }
   ],
   "source": [
    "res = model.predict(testX[0:1])\n",
    "res"
   ]
  },
  {
   "cell_type": "markdown",
   "metadata": {},
   "source": [
    "### <center>多标签分类<center>"
   ]
  },
  {
   "cell_type": "code",
   "execution_count": 94,
   "metadata": {},
   "outputs": [],
   "source": [
    "from sklearn.datasets import make_multilabel_classification\n",
    "\"\"\"\n",
    "sparse（稀疏）:如果是True，返回一个稀疏矩阵，稀疏矩阵表示一个有大量零元素的矩阵。\n",
    "n_labels:每个实例的标签的平均数量。\n",
    "return_indicator:“sparse”在稀疏的二进制指示器格式中返回Y。\n",
    "allow_unlabeled:如果是True，有些实例可能不属于任何类。\n",
    "\"\"\"\n",
    "X, y = make_multilabel_classification(n_samples=1100,\n",
    "                                      n_features=20,\n",
    "                                      n_classes=10,\n",
    "                                      sparse=False,\n",
    "                                      n_labels=20,\n",
    "                                      # return_indicator='sparse',\n",
    "                                      allow_unlabeled=False)"
   ]
  },
  {
   "cell_type": "code",
   "execution_count": 95,
   "metadata": {},
   "outputs": [],
   "source": [
    "n_train = 1000\n",
    "trainX, testX = X[:n_train, :], X[n_train:, :]\n",
    "trainy, testy = y[:n_train], y[n_train:]"
   ]
  },
  {
   "cell_type": "code",
   "execution_count": 96,
   "metadata": {},
   "outputs": [],
   "source": [
    "def MultiLabelModel(feature_dim,label_dim):\n",
    "\n",
    "    model = Sequential()\n",
    "    print(\"create model. feature_dim = %s, label_dim = %s\" % (feature_dim,label_dim))\n",
    "    model.add(Dense(500, activation='relu', input_dim=feature_dim))\n",
    "    model.add(Dense(100, activation='relu'))\n",
    "    model.add(Dense(label_dim, activation='sigmoid'))\n",
    "    model.compile(optimizer='adam', loss='binary_crossentropy', metrics=['accuracy'])\n",
    "    # plot_model(model, to_file='multi_label_model.png')\n",
    "    return model"
   ]
  },
  {
   "cell_type": "code",
   "execution_count": 97,
   "metadata": {},
   "outputs": [
    {
     "name": "stdout",
     "output_type": "stream",
     "text": [
      "create model. feature_dim = 20, label_dim = 10\n",
      "dict_keys(['loss', 'acc'])\n"
     ]
    },
    {
     "data": {
      "image/png": "[encoded data removed]",
      "text/plain": [
       "<Figure size 432x288 with 1 Axes>"
      ]
     },
     "metadata": {
      "needs_background": "light"
     },
     "output_type": "display_data"
    }
   ],
   "source": [
    "model = MultiLabelModel(feature_dim=20,label_dim=10)\n",
    "history = model.fit(trainX, trainy, epochs=50, verbose=0)\n",
    "show_loss(history)"
   ]
  },
  {
   "cell_type": "code",
   "execution_count": 98,
   "metadata": {},
   "outputs": [
    {
     "data": {
      "text/plain": [
       "array([[0.905244  , 0.9582441 , 0.9937376 , 0.97656727, 0.995643  ,\n",
       "        0.9627011 , 0.9950453 , 0.17916685, 0.99469215, 0.99998426]],\n",
       "      dtype=float32)"
      ]
     },
     "execution_count": 98,
     "metadata": {},
     "output_type": "execute_result"
    }
   ],
   "source": [
    "res = model.predict(testX[0:1])\n",
    "res"
   ]
  },
  {
   "cell_type": "markdown",
   "metadata": {},
   "source": [
    "### pad_sequence\n",
    "keras只能接受长度相同的序列输入\n",
    "- sequences：浮点数或整数构成的两层嵌套列表\n",
    "- padding：‘pre’(默认)或‘post’，确定当需要补0时，在序列的起始还是结尾补`\n",
    "- truncating：‘pre’(默认)或‘post’，确定当需要截断序列时，从起始还是结尾截断"
   ]
  },
  {
   "cell_type": "code",
   "execution_count": 5,
   "metadata": {},
   "outputs": [
    {
     "data": {
      "text/plain": [
       "array([[5, 5, 5, 5, 5, 6, 7, 7, 8, 9]], dtype=int32)"
      ]
     },
     "execution_count": 5,
     "metadata": {},
     "output_type": "execute_result"
    }
   ],
   "source": [
    "import keras\n",
    "list_1 = [[2,3,4,5,5,5,5,5,5,5,6,7,7,8,9]]\n",
    "keras.preprocessing.sequence.pad_sequences(list_1, maxlen=10)"
   ]
  },
  {
   "cell_type": "markdown",
   "metadata": {},
   "source": [
    "### keras 分词器\n",
    "Tokenizer是一个用于向量化文本，或将文本转换为序列（即单个字词以及对应下标构成的列表，从1算起）的类。"
   ]
  },
  {
   "cell_type": "code",
   "execution_count": 18,
   "metadata": {},
   "outputs": [],
   "source": [
    "from keras.preprocessing.text import Tokenizer\n",
    "tokenizer = Tokenizer()\n",
    "text = [\"今天 北京 下 雨 了\", \"我 今天 加班\"]\n",
    "tokenizer.fit_on_texts(text)"
   ]
  },
  {
   "cell_type": "code",
   "execution_count": 21,
   "metadata": {},
   "outputs": [
    {
     "data": {
      "text/plain": [
       "OrderedDict([('今天', 2),\n",
       "             ('北京', 1),\n",
       "             ('下', 1),\n",
       "             ('雨', 1),\n",
       "             ('了', 1),\n",
       "             ('我', 1),\n",
       "             ('加班', 1)])"
      ]
     },
     "execution_count": 21,
     "metadata": {},
     "output_type": "execute_result"
    }
   ],
   "source": [
    "tokenizer.word_counts  # 字典，将单词（字符串）映射为它们在训练期间出现的次数。仅在调用fit_on_texts之后设置。"
   ]
  },
  {
   "cell_type": "code",
   "execution_count": 22,
   "metadata": {},
   "outputs": [
    {
     "data": {
      "text/plain": [
       "{'今天': 1, '北京': 2, '下': 3, '雨': 4, '了': 5, '我': 6, '加班': 7}"
      ]
     },
     "execution_count": 22,
     "metadata": {},
     "output_type": "execute_result"
    }
   ],
   "source": [
    "tokenizer.word_index"
   ]
  },
  {
   "cell_type": "code",
   "execution_count": 20,
   "metadata": {},
   "outputs": [
    {
     "data": {
      "text/plain": [
       "[[3, 4, 6, 7]]"
      ]
     },
     "execution_count": 20,
     "metadata": {},
     "output_type": "execute_result"
    }
   ],
   "source": [
    "tokenizer.texts_to_sequences([\"下 雨 我 加班\"])"
   ]
  },
  {
   "cell_type": "code",
   "execution_count": null,
   "metadata": {},
   "outputs": [],
   "source": [
    "embedding_layer = Embedding(len(word_index) + 1,\n",
    "                            EMBEDDING_DIM,\n",
    "                            weights=[embedding_matrix],  # 词向量矩阵\n",
    "                            input_length=MAX_SEQUENCE_LENGTH,\n",
    "                            trainable=False)"
   ]
  },
  {
   "cell_type": "markdown",
   "metadata": {},
   "source": [
    "### Lambda层\n",
    "如果你只是想对流经该层的数据做个变换，而这个变换本身没有什么需要学习的参数，那么直接用Lambda Layer是最合适的了。"
   ]
  },
  {
   "cell_type": "code",
   "execution_count": 44,
   "metadata": {},
   "outputs": [],
   "source": [
    "from keras import Input\n",
    "from keras import backend as K\n",
    "from keras.engine import Model\n",
    "from keras.layers import Lambda\n",
    "import numpy as np"
   ]
  },
  {
   "cell_type": "code",
   "execution_count": 49,
   "metadata": {},
   "outputs": [
    {
     "name": "stdout",
     "output_type": "stream",
     "text": [
      "[-4.]\n"
     ]
    }
   ],
   "source": [
    "a = Input(shape=(2,))\n",
    "b = Input(shape=(2,))\n",
    "\n",
    "def minus(inputs):\n",
    "    x, y = inputs\n",
    "    return K.mean(x - y)\n",
    "    # return K.mean(x - y)\n",
    "\n",
    "m = Lambda(minus, name='minus')([a, b])\n",
    "model = Model(inputs=[a, b], outputs=[m])\n",
    "\n",
    "v0 = np.array([1,2])\n",
    "v1 = np.array([3,4])\n",
    "v2 = np.array([5,6])\n",
    "print(model.predict([v0.reshape(1,2), v2.reshape(1,2)]))\n",
    "# print model.predict([v0.reshape(1,2), v2.reshape(1,2)])\n",
    "# print model.predict([np.array([v0, v0]), np.array([v1, v2])])"
   ]
  },
  {
   "cell_type": "markdown",
   "metadata": {},
   "source": [
    "###  math_ops"
   ]
  },
  {
   "cell_type": "code",
   "execution_count": 2,
   "metadata": {},
   "outputs": [
    {
     "name": "stderr",
     "output_type": "stream",
     "text": [
      "Using TensorFlow backend.\n",
      "/usr/local/lib/python3.6/dist-packages/tensorflow/python/framework/dtypes.py:516: FutureWarning: Passing (type, 1) or '1type' as a synonym of type is deprecated; in a future version of numpy, it will be understood as (type, (1,)) / '(1,)type'.\n",
      "  _np_qint8 = np.dtype([(\"qint8\", np.int8, 1)])\n",
      "/usr/local/lib/python3.6/dist-packages/tensorflow/python/framework/dtypes.py:517: FutureWarning: Passing (type, 1) or '1type' as a synonym of type is deprecated; in a future version of numpy, it will be understood as (type, (1,)) / '(1,)type'.\n",
      "  _np_quint8 = np.dtype([(\"quint8\", np.uint8, 1)])\n",
      "/usr/local/lib/python3.6/dist-packages/tensorflow/python/framework/dtypes.py:518: FutureWarning: Passing (type, 1) or '1type' as a synonym of type is deprecated; in a future version of numpy, it will be understood as (type, (1,)) / '(1,)type'.\n",
      "  _np_qint16 = np.dtype([(\"qint16\", np.int16, 1)])\n",
      "/usr/local/lib/python3.6/dist-packages/tensorflow/python/framework/dtypes.py:519: FutureWarning: Passing (type, 1) or '1type' as a synonym of type is deprecated; in a future version of numpy, it will be understood as (type, (1,)) / '(1,)type'.\n",
      "  _np_quint16 = np.dtype([(\"quint16\", np.uint16, 1)])\n",
      "/usr/local/lib/python3.6/dist-packages/tensorflow/python/framework/dtypes.py:520: FutureWarning: Passing (type, 1) or '1type' as a synonym of type is deprecated; in a future version of numpy, it will be understood as (type, (1,)) / '(1,)type'.\n",
      "  _np_qint32 = np.dtype([(\"qint32\", np.int32, 1)])\n",
      "/usr/local/lib/python3.6/dist-packages/tensorflow/python/framework/dtypes.py:525: FutureWarning: Passing (type, 1) or '1type' as a synonym of type is deprecated; in a future version of numpy, it will be understood as (type, (1,)) / '(1,)type'.\n",
      "  np_resource = np.dtype([(\"resource\", np.ubyte, 1)])\n",
      "/usr/local/lib/python3.6/dist-packages/tensorboard/compat/tensorflow_stub/dtypes.py:541: FutureWarning: Passing (type, 1) or '1type' as a synonym of type is deprecated; in a future version of numpy, it will be understood as (type, (1,)) / '(1,)type'.\n",
      "  _np_qint8 = np.dtype([(\"qint8\", np.int8, 1)])\n",
      "/usr/local/lib/python3.6/dist-packages/tensorboard/compat/tensorflow_stub/dtypes.py:542: FutureWarning: Passing (type, 1) or '1type' as a synonym of type is deprecated; in a future version of numpy, it will be understood as (type, (1,)) / '(1,)type'.\n",
      "  _np_quint8 = np.dtype([(\"quint8\", np.uint8, 1)])\n",
      "/usr/local/lib/python3.6/dist-packages/tensorboard/compat/tensorflow_stub/dtypes.py:543: FutureWarning: Passing (type, 1) or '1type' as a synonym of type is deprecated; in a future version of numpy, it will be understood as (type, (1,)) / '(1,)type'.\n",
      "  _np_qint16 = np.dtype([(\"qint16\", np.int16, 1)])\n",
      "/usr/local/lib/python3.6/dist-packages/tensorboard/compat/tensorflow_stub/dtypes.py:544: FutureWarning: Passing (type, 1) or '1type' as a synonym of type is deprecated; in a future version of numpy, it will be understood as (type, (1,)) / '(1,)type'.\n",
      "  _np_quint16 = np.dtype([(\"quint16\", np.uint16, 1)])\n",
      "/usr/local/lib/python3.6/dist-packages/tensorboard/compat/tensorflow_stub/dtypes.py:545: FutureWarning: Passing (type, 1) or '1type' as a synonym of type is deprecated; in a future version of numpy, it will be understood as (type, (1,)) / '(1,)type'.\n",
      "  _np_qint32 = np.dtype([(\"qint32\", np.int32, 1)])\n",
      "/usr/local/lib/python3.6/dist-packages/tensorboard/compat/tensorflow_stub/dtypes.py:550: FutureWarning: Passing (type, 1) or '1type' as a synonym of type is deprecated; in a future version of numpy, it will be understood as (type, (1,)) / '(1,)type'.\n",
      "  np_resource = np.dtype([(\"resource\", np.ubyte, 1)])\n"
     ]
    }
   ],
   "source": [
    "from keras import backend as K\n",
    "import tensorflow as tf\n",
    "import numpy as np"
   ]
  },
  {
   "cell_type": "code",
   "execution_count": 2,
   "metadata": {},
   "outputs": [
    {
     "name": "stdout",
     "output_type": "stream",
     "text": [
      "WARNING:tensorflow:From /usr/local/lib/python3.6/dist-packages/keras/backend/tensorflow_backend.py:174: The name tf.get_default_session is deprecated. Please use tf.compat.v1.get_default_session instead.\n",
      "\n",
      "WARNING:tensorflow:From /usr/local/lib/python3.6/dist-packages/keras/backend/tensorflow_backend.py:181: The name tf.ConfigProto is deprecated. Please use tf.compat.v1.ConfigProto instead.\n",
      "\n",
      "WARNING:tensorflow:From /usr/local/lib/python3.6/dist-packages/keras/backend/tensorflow_backend.py:186: The name tf.Session is deprecated. Please use tf.compat.v1.Session instead.\n",
      "\n",
      "WARNING:tensorflow:From /usr/local/lib/python3.6/dist-packages/keras/backend/tensorflow_backend.py:190: The name tf.global_variables is deprecated. Please use tf.compat.v1.global_variables instead.\n",
      "\n"
     ]
    },
    {
     "data": {
      "text/plain": [
       "0.0"
      ]
     },
     "execution_count": 2,
     "metadata": {},
     "output_type": "execute_result"
    }
   ],
   "source": [
    "K.eval((K.round(0.1)))"
   ]
  },
  {
   "cell_type": "code",
   "execution_count": 64,
   "metadata": {},
   "outputs": [
    {
     "data": {
      "text/plain": [
       "1.0"
      ]
     },
     "execution_count": 64,
     "metadata": {},
     "output_type": "execute_result"
    }
   ],
   "source": [
    "# Element-wise rounding to the closest integer.\n",
    "a = K.round(1.1)\n",
    "K.eval(a)"
   ]
  },
  {
   "cell_type": "code",
   "execution_count": 6,
   "metadata": {},
   "outputs": [
    {
     "data": {
      "text/plain": [
       "2.7182817"
      ]
     },
     "execution_count": 6,
     "metadata": {},
     "output_type": "execute_result"
    }
   ],
   "source": [
    "K.eval(K.exp(1.0))"
   ]
  },
  {
   "cell_type": "code",
   "execution_count": 3,
   "metadata": {},
   "outputs": [
    {
     "name": "stdout",
     "output_type": "stream",
     "text": [
      "WARNING:tensorflow:From /usr/local/lib/python3.6/dist-packages/keras/backend/tensorflow_backend.py:174: The name tf.get_default_session is deprecated. Please use tf.compat.v1.get_default_session instead.\n",
      "\n",
      "WARNING:tensorflow:From /usr/local/lib/python3.6/dist-packages/keras/backend/tensorflow_backend.py:181: The name tf.ConfigProto is deprecated. Please use tf.compat.v1.ConfigProto instead.\n",
      "\n",
      "WARNING:tensorflow:From /usr/local/lib/python3.6/dist-packages/keras/backend/tensorflow_backend.py:186: The name tf.Session is deprecated. Please use tf.compat.v1.Session instead.\n",
      "\n",
      "WARNING:tensorflow:From /usr/local/lib/python3.6/dist-packages/keras/backend/tensorflow_backend.py:190: The name tf.global_variables is deprecated. Please use tf.compat.v1.global_variables instead.\n",
      "\n"
     ]
    },
    {
     "data": {
      "text/plain": [
       "0.0"
      ]
     },
     "execution_count": 3,
     "metadata": {},
     "output_type": "execute_result"
    }
   ],
   "source": [
    "# 类型强转\n",
    "K.eval(K.cast(0.6 < 0.5,float))  # Casts a tensor to a different dtype and returns it."
   ]
  },
  {
   "cell_type": "code",
   "execution_count": 74,
   "metadata": {},
   "outputs": [
    {
     "data": {
      "text/plain": [
       "1.111"
      ]
     },
     "execution_count": 74,
     "metadata": {},
     "output_type": "execute_result"
    }
   ],
   "source": [
    "K.eval(K.cast(1.111,float))"
   ]
  },
  {
   "cell_type": "code",
   "execution_count": 78,
   "metadata": {},
   "outputs": [
    {
     "data": {
      "text/plain": [
       "array([4., 9.], dtype=float32)"
      ]
     },
     "execution_count": 78,
     "metadata": {},
     "output_type": "execute_result"
    }
   ],
   "source": [
    "# K.square Element-wise square.\n",
    "K.eval(K.square([2.0,3.0]))"
   ]
  },
  {
   "cell_type": "code",
   "execution_count": 96,
   "metadata": {},
   "outputs": [
    {
     "data": {
      "text/plain": [
       "array([[-0.06705117,  0.64430547,  0.29060173,  0.58188677],\n",
       "       [-0.5179398 ,  0.13260674, -0.15193391,  0.4822824 ],\n",
       "       [ 0.4814093 , -0.52286386, -0.90174294,  0.8020973 ],\n",
       "       [ 0.53363633,  0.7142024 , -0.1541214 , -0.06272984],\n",
       "       [-0.11878419,  0.5902605 ,  0.47494268, -0.83123136],\n",
       "       [ 0.9821813 , -0.19011045,  0.01317859,  0.4572072 ],\n",
       "       [-0.28450084, -0.8345883 ,  0.4772606 , -0.2771411 ],\n",
       "       [ 0.65320015, -0.4203143 ,  0.95294666,  0.47445607],\n",
       "       [-0.24869919,  0.34794354, -0.52679753,  0.4517374 ],\n",
       "       [ 0.9306984 ,  0.03719974,  0.4630351 ,  0.50380874]],\n",
       "      dtype=float32)"
      ]
     },
     "execution_count": 96,
     "metadata": {},
     "output_type": "execute_result"
    }
   ],
   "source": [
    "w = tf.random_uniform([10, 4], -1.0, 1.0)  # 10行4列\n",
    "K.eval(w)"
   ]
  },
  {
   "cell_type": "code",
   "execution_count": 93,
   "metadata": {},
   "outputs": [
    {
     "data": {
      "text/plain": [
       "0.1346169"
      ]
     },
     "execution_count": 93,
     "metadata": {},
     "output_type": "execute_result"
    }
   ],
   "source": [
    "K.eval(K.mean(w))"
   ]
  },
  {
   "cell_type": "markdown",
   "metadata": {},
   "source": [
    "### callback\n",
    "回调函数是一个函数的合集，会在训练的阶段中所使用。你可以使用回调函数来查看训练模型的内在状态和统计。\n",
    "https://keras.io/zh/callbacks/"
   ]
  },
  {
   "cell_type": "code",
   "execution_count": 7,
   "metadata": {},
   "outputs": [
    {
     "data": {
      "text/plain": [
       "28.0"
      ]
     },
     "execution_count": 7,
     "metadata": {},
     "output_type": "execute_result"
    }
   ],
   "source": [
    "import math\n",
    "math.pow(784,1/2)"
   ]
  },
  {
   "cell_type": "code",
   "execution_count": null,
   "metadata": {},
   "outputs": [],
   "source": []
  }
 ],
 "metadata": {
  "kernelspec": {
   "display_name": "Python 3",
   "language": "python",
   "name": "python3"
  },
  "language_info": {
   "codemirror_mode": {
    "name": "ipython",
    "version": 3
   },
   "file_extension": ".py",
   "mimetype": "text/x-python",
   "name": "python",
   "nbconvert_exporter": "python",
   "pygments_lexer": "ipython3",
   "version": "3.6.5"
  }
 },
 "nbformat": 4,
 "nbformat_minor": 4
}
